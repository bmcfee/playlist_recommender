{
 "metadata": {
  "name": "",
  "signature": "sha256:5c8f04865a4611ef78d9da27bbba306996aad5bd31f7ce4c40d4195762f360d3"
 },
 "nbformat": 3,
 "nbformat_minor": 0,
 "worksheets": [
  {
   "cells": [
    {
     "cell_type": "markdown",
     "metadata": {},
     "source": [
      "# Playlist recommender\n",
      "\n",
      "This notebook explicates the Personalized HYperGraph RAndom WalK (PHYG-RAWK).\n",
      "\n",
      "### Process\n",
      "\n",
      "For a user $i$, a playlist over the song library $\\mathcal{X}$ is generated according to the following process:\n",
      "\n",
      "1. Select a subset $e \\subseteq \\mathcal{X}$ of songs\n",
      "2. Select a song $x_t \\in e$ according to a preference model\n",
      "3. Select a new subset $e \\ni x_t$ containing the previously selected song\n",
      "4. Goto 2\n",
      "\n",
      "This process will be characterized mathematically below.  Note that the process is first-order Markov over alternating selections of subsets $e$ and songs $x$.  As such, the likelihood function of an observed sequence factors into an initial selection and collection of bigrams.\n",
      " \n",
      "Without loss of generality, we will associate with each user $i$ a collection of observed bigrams $y_i = \\{(s, t)\\}$, where $(s, t)$ range over pairs of song identifiers, and the special token $s=-1$ indicates an initial selection.  This will simplify notation below."
     ]
    },
    {
     "cell_type": "markdown",
     "metadata": {},
     "source": [
      "### Notation\n",
      "\n",
      "Data:\n",
      "\n",
      "- Let $i \\in [m]$ index the set of $m$ users, and let $s, t \\in \\{-1\\} \\cup [|\\mathcal{X}|]$ index track identifiers (including the null-track $-1$).\n",
      "\n",
      "- Let $H \\in \\{0, 1\\}^{m \\times n}$ indicate the songs-by-subset affinity matrix (aka, the hypergraph edge membership or incident matrix).\n",
      "\n",
      "- Let $E \\subseteq 2^\\mathcal{X}$ denote a collection of subsets\n",
      "\n",
      "Parameters:\n",
      "\n",
      "- Let $U \\in \\mathbb{R}^{d \\times m}$ encode a latent factor representation of the users, and similarly for $V \\in \\mathbb{R}^{d \\times |\\mathcal{X}|}$.  \n",
      "\n",
      "- Let $b \\in \\mathbb{R}^{|\\mathcal{X}|}$ encode the item bias.  \n",
      "\n",
      "- Let $w \\in \\mathbb{R}^{|E|}$ denote subset weights.\n",
      "\n",
      "Distributions:\n",
      "\n",
      "- Song and subset selections will be distributed by multinomial logistic regression: \n",
      "  - $P[ x_t | u_i, V, b ] \\propto \\exp\\{u_i^\\mathsf{T} v_t + b_t\\}$\n",
      "  - $P[ w_e ] \\propto \\exp\\{w_e\\}$"
     ]
    },
    {
     "cell_type": "markdown",
     "metadata": {},
     "source": [
      "---"
     ]
    },
    {
     "cell_type": "markdown",
     "metadata": {},
     "source": [
      "# Noise-contrastive estimation\n",
      "\n",
      "An alternative learning strategy follows BPR-MF (Rendle, et al. 2009) and word2vec (Mikolov, 2013) by replacing the generative optimization problem with a discriminative task.  This method is inspired by the noise-contrastive estimation method of (Gutmann and Hyvarinen, JMLR 2012).\n",
      "\n",
      "Specifically, we synthesize a collection of negative bigrams for each user, and rather than optimize $P[x_t | u_i, x_s, V, b]$, we optimize $P[Y_{i,s,t}=1|u_i, x_s, x_t, V, b]$ for the true samples, and $P[Y_{i,s,r} \\neq 1| u_i, x_s, x_r, V, b]$ for the synthetic negative examples $r$.\n",
      "\n",
      "We can tighten this idea a bit by going back to the original (log-)distribution which marginalizes over edge selection:\n",
      "\n",
      "$$\n",
      "\\log P[X = x_t ~|~ x_s, u_i, V, b, w] = \\log \\left( \\sum_{e} P[E=e ~|~ x_s, w] P[X = x_t ~|~ e, u_i, V, b] \\right)\n",
      "$$\n",
      "\n",
      "Via some convex shenanigans and discarding some additive normalization constants (over edges), we can replace the above likelihood with a convex combination of soft-maxes:\n",
      "\n",
      "$$\n",
      "\\gtrsim \\sum_e p_e^{s,t} \\log \\left(\\frac{\\exp\\{u_i^\\mathsf{T}V\\mathsf{e}_t + b_t\\}}{\\sum_{r \\in e} \\exp\\{u_i^\\mathsf{T}V\\mathsf{e}_r + b_r\\} } \\right)\n",
      "$$\n",
      "\n",
      "where\n",
      "\n",
      "$$\n",
      "p^{s,t}_e = \\frac{H_{s,e} H_{t, e} \\exp\\{w_e\\} }{ (H_s \\odot H_t)^\\mathsf{T} \\exp\\{w\\}}\n",
      "$$\n",
      "\n",
      "This latter distribution is amenable to surrogate optimization via noise-contrastive estimation over the subset $e$.  This would result in an objective of the form\n",
      "\n",
      "$$\n",
      "- \\sum_e p_e^{s,t} \\left( \\log \\left(1 + \\exp\\{-u_i^\\mathsf{T} v_t - b_t\\} \\right) + \\sum_{r \\in Y_{i,s,e}} \\log \\left(1 + \\exp\\{u_i^\\mathsf{T} v_r + b_r\\} \\right) \\right)\n",
      "$$\n",
      "\n",
      "Turning this into a convex minimization problem, we get the point-wise loss function:\n",
      "$$\n",
      "\\varphi_{i,s,t}(U, V, b) =  \\log \\left(1 + \\exp\\{-u_i^\\mathsf{T} v_t - b_t\\} \\right) + \\sum_e p_e^{s,t} \\sum_{r \\in Y_{i,s,e}} \\log \\left(1 + \\exp\\{u_i^\\mathsf{T} v_r + b_r\\} \\right)\n",
      "$$\n",
      "\n",
      "$$\n",
      "\\min_{U,V,b} g_U(U) + g_V(V) + g_b(b) + \\sum_i \\sum_{s,t \\in y_i} \\varphi_{i,s,t}(U, V, b)\n",
      "$$\n",
      "\n",
      "where $Y_{i,s,e}$ is a sample of tracks from the noise distribution conditional on the user $i$, previous song $s$ and edge $e$.  Note that this objective is bi-concave in $U$ and $V$."
     ]
    },
    {
     "cell_type": "markdown",
     "metadata": {},
     "source": [
      "### w-step\n",
      "\n",
      "Note that the first term of $\\nu$ is linear in $w$.  We can then collect terms by first computing a vector\n",
      "\n",
      "$$\n",
      "Z := \\sum_i \\sum_{(s,t) \\in y_i} \\frac{H_{s} \\odot H_t \\odot q^i}{(H_{s} \\odot H_t)^\\mathsf{T} q^i}\n",
      "$$\n",
      "\n",
      "Similarly, the second term depends only on the previous song-selections.  Let $N \\in \\mathbb{Z}_+^{|\\mathcal{X}|+1}$\n",
      "\n",
      "$$\n",
      "N_s := \\sum_i \\sum_{(s,t) \\in y_i} 1.\n",
      "$$\n",
      "\n",
      "then the $w$ objective can be rewritten as\n",
      "\n",
      "$$\n",
      "\\max_w g_w(w) + Z^\\mathsf{T}w - \\sum_{s \\in \\mathcal{X}} N_s \\log H_s^\\mathsf{T} \\exp\\{w\\}\n",
      "$$"
     ]
    },
    {
     "cell_type": "markdown",
     "metadata": {},
     "source": [
      "## Distributed optimization\n",
      "\n",
      "### U-step\n",
      "\n",
      "The u-step is embarrasingly parallel, since the objective is separable in the columns of $U$.  \n",
      "NCE can be employed here to accelerate training for each user.  \n",
      "\n",
      "At $U$ step, we separate the problem into $m$ sub-problems, one for each column $u_i$.  For each sub-problem, we draw a sample of $n_-$ random negative tracks $\\overline{Y}$, ie, tracks which the user is not known to have consumed.  We then optimize the following objective\n",
      "\n",
      "$$\n",
      "u_i \\leftarrow \\text{arg}\\min_u g_u(u) + \\sum_{(s,t) \\in y_i} \\log\\left(1 + \\exp\\{-u^\\mathsf{T}v_t - b_t\\}\\right) + \\sum_e p_e^{s,t} \\sum_{r \\in \\overline{Y} \\cap e} \\log\\left(1 + \\exp\\{u^\\mathsf{T} v_r + b_r\\}\\right)\n",
      "$$\n",
      "\n",
      "In order to ensure that the objective above has sufficiently useful noise terms, we can generate $\\overline{Y}$ by a union of edge-conditional negative samples, based on total the edge usage over prior tracks $s$.  Similarly, negative samples can be pooled per-user over all bigrams $(s,t)$ to improve efficiency, and limit the total amount number of song factors $(v_r, b_r)$ accessed in the user's update.\n",
      "\n",
      "Each user vector update can be interpreted as a regularized logistic regression over positive and negative examples of selected tracks, but with calibrated bias terms $b$ and importance weights derived from the edge transition probabilities.  More specifically, the importance weight $\\omega_r$ for a negative example $r$ can be computed as\n",
      "\n",
      "$$\n",
      "\\omega_{r} = \\sum_{(s, t) \\in y_i} \\sum_e p_e^{s,t} H_{r, e},\n",
      "$$\n",
      "\n",
      "resulting in the objective\n",
      "\n",
      "$$\n",
      "u_i \\leftarrow \\text{arg}\\min_u g_u(u) + \\sum_{(s,t) \\in y_i} \\log\\left(1 + \\exp\\{-u^\\mathsf{T}v_t - b_t\\}\\right) + \\sum_{r \\in \\overline{Y}} \\omega_{r} \\log\\left(1 + \\exp\\{u^\\mathsf{T} v_r + b_r\\}\\right)\n",
      "$$\n",
      "\n",
      "\n",
      "\n",
      "Typically, an individual user will have a relatively small number of tracks (most less than 30), and the latent factors often be low-dimensional (ie less than 32), so each of these problems can be solved quite efficiently by quasi-newton methods."
     ]
    },
    {
     "cell_type": "markdown",
     "metadata": {},
     "source": [
      "### V-step\n",
      "\n",
      "The v-steps are interdependent, but since the NCE surrogate objective is convex, it is amenable to distributed optimization via ADMM.\n",
      "\n",
      "One possibility here is to clone $V$ into matrices $V$ and $A_i$ with contraints $V = A_i$ for all $i$, where $i$ ranges over users.  Then, we can solve user-specific optimizations over $A_i$ in parallel via ADMM scatter/gather.  To reduce memory, each user problem $A_i$ can operate on a small set of vectors determined by a shared sample $Y_{i,\\cdot}$.  This way, only the corresponding columns will be updated.  This also results in fewer, slightly larger, subproblems because there tend to be fewer users than items.\n",
      "\n",
      "The ADMM algorithm for the $V$ step would look as follows:\n",
      "\n",
      "- (Scatter) For each user $i$:\n",
      "  - $A_i \\leftarrow \\text{arg}\\min_{A} \\ell_i(A) + \\frac{\\rho}{2} \\|A - V + \\Omega_i\\|^2$\n",
      "- (Gather) $V \\leftarrow \\text{arg}\\min_V g_V(V) + \\frac{\\rho}{2} \\sum_i \\|A_i - V + \\Omega_i\\|^2$\n",
      "- (Residual) $\\Omega_i \\leftarrow \\Omega_i + A_i - V$\n",
      "\n",
      "where $\\ell_i(A)$ denotes the noise-contrastive estimator for user $i$ as described in the $U$-step, except now optimizing over the item terms for a fixed user.  Note that each $A_i$ sub-problem only touches the columns of $V$ corresponding to $y_i \\cup \\overline{Y}_i$, so these problems will be relatively small; the remaining columns can simply be inferred from $V$, resulting in no penalty.\n",
      "\n",
      "Note that the $A_i$ subproblems are column-separable problems of the general form\n",
      "\n",
      "$$\n",
      "\\min_{x\\in \\mathbb{R}^d} \\frac{\\rho}{2} \\|x - z_r\\|^2 + \\omega_r\\log\\left(1 + \\exp\\left\\{-y_r(u_i^\\mathsf{T}x + b_r)\\right\\} \\right)\n",
      "$$\n",
      "\n",
      "where $r$ indexes the track, $z_r = (V- \\Omega_i)_r$ encodes the residual penalty, $y_r \\in [+1,-1,0]$ encodes whether the sample is positive, negative, or not sampled; and $\\omega_r$ is the importance weight for the sample (1 for positive, or as above if negative).  Note that in the case $y_r=0$, the unique optimum is $z_r$.\n",
      "\n",
      "In order for this method to converge properly, the negative samples should be fixed across all iterations of the ADMM loop.  However, new samples can be drawn at each outer-loop iteration.\n",
      "\n",
      "### b-step\n",
      "\n",
      "The architecture of the $b$ updates follows the $V$ step exactly, except that only the bias terms are adjusted.  Because the subproblems are separable and convex, each bias term can be updated independently as a scalar, convex minimization problem via bisection search.\n",
      "\n",
      "Sub-problems for the $b$ updates have the general form (after separation):\n",
      "\n",
      "$$\n",
      "\\min_{x\\in \\mathbb{R}} \\frac{\\rho}{2} \\left(x - \\beta_r\\right)^2 + \\omega_r\\log\\left(1 + \\exp\\left\\{-y_r(u_i^\\mathsf{T}v_r + x)\\right\\} \\right)\n",
      "$$"
     ]
    },
    {
     "cell_type": "markdown",
     "metadata": {},
     "source": [
      "## w-step\n",
      "\n",
      "With $(U, V, b)$ fixed, the $w$ parameters can be optimized by lower-bounding the original objective in a slightly different way than above.  This leads to the concave surrogate for each user and bigram:\n",
      "\n",
      "$$\n",
      "\\nu_{i, s, t}(w) = \\left( \\frac{H_s \\odot H_t \\odot q^i}{(H_s \\odot H_t)^\\mathsf{T} q^i}\\right)^\\mathsf{T} w - \\log H_s^\\mathsf{T} \\exp\\{w\\}\n",
      "$$\n",
      "\n",
      "where\n",
      "\n",
      "$$\n",
      "q_e^i = \\frac{1}{H_{\\cdot,e}^\\mathsf{T} \\exp\\{u_i^\\mathsf{T} V + b \\}}\n",
      "$$\n",
      "\n",
      "denotes the affinity between user $i$ and subset $e$.\n",
      "\n",
      "The parameters $w$ are then optimized by maximizing the total penalized likelihood\n",
      "\n",
      "$$\n",
      "\\max_{w} g_w(w) + \\sum_{i} \\sum_{(s,t)\\in y_i} \\nu_{i, s, t}(w)\n",
      "$$"
     ]
    },
    {
     "cell_type": "markdown",
     "metadata": {},
     "source": [
      "---\n",
      "## Tying it all together\n",
      "\n",
      "The learning algorithm looks as follows:\n",
      "\n",
      "1. Initialize $U, V$.  Probably best to use an off the shelf collaborative filter here.\n",
      "2. Initialize $w$ to all ones, and $b$ to all zeros\n",
      "3. Repeat until convergence or exhaustion\n",
      "  1. (ADMM-NEG) $b$-step\n",
      "  2. (ADMM-NEG) $V$-step\n",
      "  3. (Parallel-NEG) $U$-step\n",
      "  4. (ADMM) $w$-step\n",
      "  \n",
      "### ADMM-NEG\n",
      "This is the scatter/gather negative sampling ADMM algorithm described above, and works as follows (for example on $b$):\n",
      "\n",
      "1. Initialize $b$ arbitrarily, or to previously value\n",
      "2. For each user $i$ generate a negative sample\n",
      "3. Repeat until convergence\n",
      "  1. Scatter sub-problems across users $i$\n",
      "  2. Gather solutions (proximal update/averaging)\n",
      "  3. Update dual variable\n",
      "  \n",
      "### Parallel-NEG\n",
      "This is the parallelized user updates.  Since users are independent, this amounts to solving independent problems, and no gather operation is necessary.\n",
      "\n",
      "### ADMM\n",
      "This is similar to ADMM-NEG, excepting that the $w$-step does not require negative example samping.  This boils down to a standard, distributed convex optimization problem."
     ]
    },
    {
     "cell_type": "markdown",
     "metadata": {},
     "source": [
      "---\n",
      "# Practical considerations\n",
      "\n",
      "The original hypergraph playlister took a kitchen sink approach, and included the following classes of features:\n",
      "\n",
      "- Audio clusters\n",
      "- Era sets\n",
      "- Lyrics topic\n",
      "- CF clusters\n",
      "- Familiarity sets\n",
      "- Tag sets\n",
      "- Uniform\n",
      "- Conjunctions\n",
      "\n",
      "In this work, we can probably discard the CF and familiarity attributes, since they should be redundant with the latent factor and bias terms."
     ]
    },
    {
     "cell_type": "code",
     "collapsed": false,
     "input": [
      "import numpy as np\n",
      "import scipy.optimize\n",
      "import matplotlib.pyplot as plt\n",
      "%matplotlib inline"
     ],
     "language": "python",
     "metadata": {},
     "outputs": [],
     "prompt_number": 1
    },
    {
     "cell_type": "code",
     "collapsed": false,
     "input": [
      "d = 128\n",
      "n = int(1e2)\n",
      "\n",
      "b = np.random.randn(n)\n",
      "y = np.sign(np.random.randn(len(b)))\n",
      "om = np.abs(np.random.randn(len(b))) / 4\n",
      "\n",
      "om[y==1] = 1\n",
      "\n",
      "beta = np.random.randn(len(b))\n",
      "beta = np.abs(beta) * beta * 4\n",
      "\n",
      "u = np.random.randn(d)\n",
      "v = np.random.randn(d, len(b))\n",
      "\n",
      "rho = 1e-3"
     ],
     "language": "python",
     "metadata": {},
     "outputs": [],
     "prompt_number": 216
    },
    {
     "cell_type": "code",
     "collapsed": false,
     "input": [
      "uv = u.dot(v)\n",
      "\n",
      "def bias_obj(x):\n",
      "    \n",
      "    # compute objective\n",
      "    logistic = np.logaddexp(0, -y[r] * (uv[r] + x))\n",
      "    \n",
      "    f = rho / 2.0 * (x - beta[r])**2 + om[r] * logistic\n",
      "    \n",
      "    grad = rho * (x - beta[r]) - y[r] * om[r] / (1 + np.exp(y[r] * (uv[r] + x)))\n",
      "    \n",
      "    return f, grad"
     ],
     "language": "python",
     "metadata": {},
     "outputs": [],
     "prompt_number": 217
    },
    {
     "cell_type": "code",
     "collapsed": false,
     "input": [
      "uv = u.dot(v)\n",
      "\n",
      "def bias_obj_batch(x):\n",
      "    \n",
      "    # compute objective\n",
      "    logistic =  np.logaddexp(0, - y * (uv + x))\n",
      "    \n",
      "    f = rho / 2.0 * np.sum((x - beta)**2) + om.dot( logistic)\n",
      "    \n",
      "    grad = rho * (x - beta) - y * om / (1.0 + np.exp(y * (uv + x)))\n",
      "    \n",
      "    return f, grad"
     ],
     "language": "python",
     "metadata": {},
     "outputs": [],
     "prompt_number": 218
    },
    {
     "cell_type": "code",
     "collapsed": false,
     "input": [
      "r = 0"
     ],
     "language": "python",
     "metadata": {},
     "outputs": [],
     "prompt_number": 219
    },
    {
     "cell_type": "code",
     "collapsed": false,
     "input": [
      "%timeit xb, xv, diagnostic = scipy.optimize.fmin_l_bfgs_b(bias_obj, 0)\n",
      "xb, xv, diagnostic = scipy.optimize.fmin_l_bfgs_b(bias_obj, 0)"
     ],
     "language": "python",
     "metadata": {},
     "outputs": [
      {
       "output_type": "stream",
       "stream": "stdout",
       "text": [
        "1000 loops, best of 3: 941 \u00b5s per loop\n"
       ]
      }
     ],
     "prompt_number": 220
    },
    {
     "cell_type": "code",
     "collapsed": false,
     "input": [
      "print diagnostic"
     ],
     "language": "python",
     "metadata": {},
     "outputs": [
      {
       "output_type": "stream",
       "stream": "stdout",
       "text": [
        "{'warnflag': 0, 'task': 'CONVERGENCE: NORM_OF_PROJECTED_GRADIENT_<=_PGTOL', 'grad': array([  1.41708972e-07]), 'nit': 8, 'funcalls': 10}\n"
       ]
      }
     ],
     "prompt_number": 221
    },
    {
     "cell_type": "code",
     "collapsed": false,
     "input": [
      "xb, xv"
     ],
     "language": "python",
     "metadata": {},
     "outputs": [
      {
       "metadata": {},
       "output_type": "pyout",
       "prompt_number": 222,
       "text": [
        "(array([-4.97580985]), array([ 0.01355354]))"
       ]
      }
     ],
     "prompt_number": 222
    },
    {
     "cell_type": "code",
     "collapsed": false,
     "input": [
      "%timeit xb, xvv, diagnostic = scipy.optimize.fmin_l_bfgs_b(bias_obj_batch, np.zeros_like(b))\n",
      "xb, xvv, diagnostic = scipy.optimize.fmin_l_bfgs_b(bias_obj_batch, np.zeros_like(b))"
     ],
     "language": "python",
     "metadata": {},
     "outputs": [
      {
       "output_type": "stream",
       "stream": "stdout",
       "text": [
        "100 loops, best of 3: 6.35 ms per loop\n"
       ]
      }
     ],
     "prompt_number": 223
    },
    {
     "cell_type": "code",
     "collapsed": false,
     "input": [
      "print diagnostic"
     ],
     "language": "python",
     "metadata": {},
     "outputs": [
      {
       "output_type": "stream",
       "stream": "stdout",
       "text": [
        "{'warnflag': 0, 'task': 'CONVERGENCE: NORM_OF_PROJECTED_GRADIENT_<=_PGTOL', 'grad': array([  9.78871754e-07,   1.49065742e-07,   6.98673327e-08,\n",
        "         2.95404064e-07,  -3.48273000e-07,   1.03585012e-06,\n",
        "         1.19869891e-06,  -1.08772172e-06,  -2.08280233e-08,\n",
        "         1.27109647e-07,   6.85203183e-07,   4.92766641e-08,\n",
        "        -3.54591159e-07,   2.55823332e-07,   4.93640852e-06,\n",
        "         4.36972284e-07,  -9.74020152e-09,   1.39128052e-07,\n",
        "         3.83648822e-06,   1.40373582e-06,  -2.54888375e-06,\n",
        "         2.20422455e-06,  -3.40479825e-09,  -6.51466604e-08,\n",
        "         2.77369866e-06,  -8.37147921e-07,  -5.27624812e-09,\n",
        "         6.68294025e-09,  -5.48231349e-08,   7.41551741e-09,\n",
        "         6.35111481e-06,  -8.33894303e-07,  -6.93260715e-08,\n",
        "         3.00697717e-06,  -7.42625729e-07,  -8.65726752e-08,\n",
        "         8.51848497e-08,  -3.72497117e-08,  -6.83288245e-07,\n",
        "        -9.97198647e-10,  -3.63768622e-06,   5.44081752e-08,\n",
        "        -9.40216880e-07,   1.88672940e-08,  -2.39642596e-07,\n",
        "         1.30344348e-06,   1.47846324e-08,  -1.08340294e-09,\n",
        "         1.11268768e-09,  -2.46974775e-06,   1.12585104e-06,\n",
        "         6.05712719e-07,  -9.56971337e-07,  -2.76446564e-07,\n",
        "         6.75619177e-07,  -2.68998892e-07,   2.96213202e-06,\n",
        "        -5.39522769e-07,  -1.41240945e-06,   1.23070290e-07,\n",
        "         3.96357674e-08,  -1.56411637e-06,  -1.81772576e-06,\n",
        "         9.55562279e-08,   3.15238723e-08,  -5.04340630e-07,\n",
        "        -2.43047009e-06,  -2.57647322e-08,   2.99133502e-08,\n",
        "         2.91996447e-06,   1.73180660e-06,   3.82619801e-06,\n",
        "        -2.03023660e-09,   5.43099025e-08,  -8.54393708e-07,\n",
        "         3.51369897e-07,   4.45523081e-07,   1.64268266e-07,\n",
        "         2.53450254e-07,   5.23078689e-07,   4.44999664e-08,\n",
        "         1.12620444e-06,   2.74613135e-07,  -5.70863348e-07,\n",
        "         8.34250256e-07,  -4.91442027e-07,  -4.14978298e-06,\n",
        "        -1.52294760e-07,   1.65518719e-06,   6.12043086e-08,\n",
        "         1.00675452e-06,  -8.23900652e-07,  -5.99498444e-10,\n",
        "        -3.75438027e-07,   4.94306969e-06,  -8.44610040e-08,\n",
        "         6.90275585e-07,  -8.92490602e-07,   1.52239842e-06,\n",
        "        -8.57766666e-08]), 'nit': 36, 'funcalls': 40}\n"
       ]
      }
     ],
     "prompt_number": 224
    },
    {
     "cell_type": "code",
     "collapsed": false,
     "input": [
      "xb, xv"
     ],
     "language": "python",
     "metadata": {},
     "outputs": [
      {
       "metadata": {},
       "output_type": "pyout",
       "prompt_number": 225,
       "text": [
        "(array([ -4.97564189,   7.02007726,  -3.49117803, -26.96189105,\n",
        "         -9.22549075,  23.49190688,   2.83654641,   7.96957534,\n",
        "         -0.20015697, -16.26149053,  19.42764847,   4.03447636,\n",
        "        -11.36995282,  -6.22135414, -16.62908101, -10.86250706,\n",
        "          0.90434599,   1.4343324 , -15.18134491,   3.1392287 ,\n",
        "          2.56237434,  11.89303794,  -0.13599442,   3.08345975,\n",
        "         -5.69958889,   6.6526911 ,   0.72287456,   0.11331074,\n",
        "          6.08027467,  -0.67707318,   9.33641671,   9.64505964,\n",
        "         -2.12201396, -12.71779237, -17.51889962,  -4.42564515,\n",
        "         -5.44298308,  -3.6246872 ,  -7.3368376 ,   0.09116838,\n",
        "        -19.75420668,   0.59366639,  22.15600818,  -1.13999512,\n",
        "          4.32702695,   3.4735888 ,   1.20026574,   0.09892059,\n",
        "         -0.10586762,  30.0408796 ,   8.22123058,   5.67893422,\n",
        "         29.15401384,  -8.95997418, -18.43813248, -13.12126282,\n",
        "         12.97668909,  -0.85891628,  11.47432534,  -4.00696197,\n",
        "         -3.99878918,  -2.84715987,   8.1325138 ,  -8.72474963,\n",
        "         -3.10140258,  -6.26244168,  -7.7648152 ,  -0.4109586 ,\n",
        "         -3.5962778 ,   7.3988221 ,  10.32087603, -19.20271763,\n",
        "          0.18537057,  -4.95942297,  -7.68467874,  -3.93158728,\n",
        "         -3.8201455 ,   1.53509114,   4.79202906,  -9.74540533,\n",
        "         -4.06307123,   2.76814444, -25.07325573, -24.17760061,\n",
        "         19.09021235, -10.97209984,  15.24987713,   5.18605854,\n",
        "         -1.5941762 ,  -6.07953469,  20.65785391,   9.17298128,\n",
        "         -0.16526745,  11.42041875,  12.28740628,  -2.04954925,\n",
        "         16.08745956,  -3.38956274, -15.62392761,  -9.72755639]),\n",
        " array([ 0.01355354]))"
       ]
      }
     ],
     "prompt_number": 225
    },
    {
     "cell_type": "code",
     "collapsed": false,
     "input": [
      "r = 3\n",
      "\n",
      "x = np.linspace(xb[r]-2, xb[r]+2, num=5000)\n",
      "\n",
      "plt.plot(x, [bias_obj(i)[0] for i in x])\n",
      "plt.vlines(xb[r:r+1], 0, max(bias_obj(x)[0]))\n",
      "#plt.scatter(beta[r], bias_obj(beta[r])[0])\n",
      "#plt.axis('tight')\n",
      "plt.tight_layout()"
     ],
     "language": "python",
     "metadata": {},
     "outputs": [
      {
       "metadata": {},
       "output_type": "display_data",
       "png": "[encoded data removed]",
       "text": [
        "<matplotlib.figure.Figure at 0x7fb8aa336bd0>"
       ]
      }
     ],
     "prompt_number": 226
    },
    {
     "cell_type": "markdown",
     "metadata": {},
     "source": [
      "---\n",
      "### OLD STUFF\n",
      "\n",
      "Down here be dragons"
     ]
    },
    {
     "cell_type": "markdown",
     "metadata": {},
     "source": [
      "# Optimization\n",
      "\n",
      "Model parameters $U, V, b, w$ will be optimized by alternating block-coordinate ascent.  \n",
      "\n",
      "## U, V, b\n",
      "\n",
      "With $w$ fixed, we can lower-bound each bigram's log-likehood by the following bi-concave function\n",
      "\n",
      "$$\n",
      "\\phi_{i, s, t}(U, V, b) = \\mathsf{tr}\\left(\\mathsf{e}_i^\\mathsf{T} U^\\mathsf{T} V \\mathsf{e}_t\\right) + b_t - \\sum_{e \\in E}p_e^{s,t} \\log H_{\\cdot, e}^\\mathsf{T} \\exp\\{\\mathsf{e}_i^\\mathsf{T} U^\\mathsf{T} V + b\\}\n",
      "$$\n",
      "\n",
      "$$\n",
      "p^{s,t}_e = \\frac{H_{s,e} H_{t, e} \\exp\\{w_e\\} }{ (H_s \\odot H_t)^\\mathsf{T} \\exp\\{w\\}}\n",
      "$$\n",
      "and then optimize by summing over observations\n",
      "\n",
      "$$\n",
      "\\max_{U, V, b} g_U(U) + g_V(V) + g_b(b) + \\sum_{i} \\sum_{(s,t)\\in y_i} \\phi_{i, s,t}(U, V, b)\n",
      "$$\n",
      "\n",
      "where $g_\\cdot(\\cdot)$ encode log-priors (or regularization penalties) on the various parameters.\n",
      "\n",
      "Each block of parameters $(U, V, b)$ will be updated while holding the remaining variables fixed."
     ]
    }
   ],
   "metadata": {}
  }
 ]
}