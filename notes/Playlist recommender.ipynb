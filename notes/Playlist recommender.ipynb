{
 "metadata": {
  "name": "",
  "signature": "sha256:491cb4a2f068ea48774f0d3f208fa701eeef901af07a80302f3b26351586ef5a"
 },
 "nbformat": 3,
 "nbformat_minor": 0,
 "worksheets": [
  {
   "cells": [
    {
     "cell_type": "markdown",
     "metadata": {},
     "source": [
      "# Playlist recommender\n",
      "\n",
      "This notebook explicates the Personalized HYperGraph RAndom WalK (PHYG-RAWK).\n",
      "\n",
      "### Process\n",
      "\n",
      "For a user $i$, a playlist over the song library $\\mathcal{X}$ is generated according to the following process:\n",
      "\n",
      "1. Select a subset $e \\subseteq \\mathcal{X}$ of songs\n",
      "2. Select a song $x_t \\in e$ according to a preference model\n",
      "3. Select a new subset $e \\ni x_t$ containing the previously selected song\n",
      "4. Goto 2\n",
      "\n",
      "This process will be characterized mathematically below.  Note that the process is first-order Markov over alternating selections of subsets $e$ and songs $x$.  As such, the likelihood function of an observed sequence factors into an initial selection and collection of bigrams.\n",
      " \n",
      "Without loss of generality, we will associate with each user $i$ a collection of observed bigrams $y_i = \\{(s, t)\\}$, where $(s, t)$ range over pairs of song identifiers, and the special token $s=-1$ indicates an initial selection.  This will simplify notation below."
     ]
    },
    {
     "cell_type": "markdown",
     "metadata": {},
     "source": [
      "### Notation\n",
      "\n",
      "Data:\n",
      "\n",
      "- Let $i \\in [m]$ index the set of $m$ users, and let $s, t \\in \\{-1\\} \\cup [|\\mathcal{X}|]$ index track identifiers (including the null-track $-1$).\n",
      "\n",
      "- Let $H \\in \\{0, 1\\}^{m \\times n}$ indicate the songs-by-subset affinity matrix (aka, the hypergraph edge membership or incident matrix).\n",
      "\n",
      "- Let $E \\subseteq 2^\\mathcal{X}$ denote a collection of subsets\n",
      "\n",
      "Parameters:\n",
      "\n",
      "- Let $U \\in \\mathbb{R}^{m\\times d}$ encode a latent factor representation of the users, and similarly for $V \\in \\mathbb{R}^{|\\mathcal{X}|\\times d}$.  \n",
      "\n",
      "- Let $b \\in \\mathbb{R}^{|\\mathcal{X}|}$ encode the item bias.  \n",
      "\n",
      "- Let $w \\in \\mathbb{R}^{|E|}$ denote subset weights.\n",
      "\n",
      "Distributions:\n",
      "\n",
      "- Song and subset selections will be distributed by multinomial logistic regression: \n",
      "  - $P[ x_t | u_i, V, b ] \\propto \\exp\\{u_i^\\mathsf{T} v_t + b_t\\}$\n",
      "  - $P[ w_e ] \\propto \\exp\\{w_e\\}$"
     ]
    },
    {
     "cell_type": "markdown",
     "metadata": {},
     "source": [
      "---"
     ]
    },
    {
     "cell_type": "markdown",
     "metadata": {},
     "source": [
      "# Noise-contrastive estimation\n",
      "\n",
      "An alternative learning strategy follows BPR-MF (Rendle, et al. 2009) and word2vec (Mikolov, 2013) by replacing the generative optimization problem with a discriminative task.  This method is inspired by the noise-contrastive estimation method of (Gutmann and Hyvarinen, JMLR 2012).\n",
      "\n",
      "Specifically, we synthesize a collection of negative bigrams for each user, and rather than optimize $P[x_t | u_i, x_s, V, b]$, we optimize $P[Y_{i,s,t}=1|u_i, x_s, x_t, V, b]$ for the true samples, and $P[Y_{i,s,r} \\neq 1| u_i, x_s, x_r, V, b]$ for the synthetic negative examples $r$.\n",
      "\n",
      "We can tighten this idea a bit by going back to the original (log-)distribution which marginalizes over edge selection:\n",
      "\n",
      "$$\n",
      "\\log P[X = x_t ~|~ x_s, u_i, V, b, w] = \\log \\left( \\sum_{e} P[E=e ~|~ x_s, w] P[X = x_t ~|~ e, u_i, V, b] \\right)\n",
      "$$\n",
      "\n",
      "Via some convex shenanigans and discarding some additive normalization constants (over edges), we can replace the above likelihood with a convex combination of soft-maxes:\n",
      "\n",
      "$$\n",
      "\\gtrsim \\sum_e p_e^{s,t} \\log \\left(\\frac{\\exp\\{u_i^\\mathsf{T}V\\mathsf{e}_t + b_t\\}}{\\sum_{r \\in e} \\exp\\{u_i^\\mathsf{T}V\\mathsf{e}_r + b_r\\} } \\right)\n",
      "$$\n",
      "\n",
      "where\n",
      "\n",
      "$$\n",
      "p^{s,t}_e = \\frac{H_{s,e} H_{t, e} \\exp\\{w_e\\} }{ (H_s \\odot H_t)^\\mathsf{T} \\exp\\{w\\}}\n",
      "$$\n",
      "\n",
      "This latter distribution is amenable to surrogate optimization via noise-contrastive estimation over the subset $e$.  This would result in an objective of the form\n",
      "\n",
      "$$\n",
      "- \\sum_e p_e^{s,t} \\left( \\log \\left(1 + \\exp\\{-u_i^\\mathsf{T} v_t - b_t\\} \\right) + \\sum_{r \\in Y_{i,s,e}} \\log \\left(1 + \\exp\\{u_i^\\mathsf{T} v_r + b_r\\} \\right) \\right)\n",
      "$$\n",
      "\n",
      "Turning this into a convex minimization problem, we get the point-wise loss function:\n",
      "$$\n",
      "\\varphi_{i,s,t}(U, V, b) =  \\log \\left(1 + \\exp\\{-u_i^\\mathsf{T} v_t - b_t\\} \\right) + \\sum_e p_e^{s,t} \\sum_{r \\in Y_{i,s,e}} \\log \\left(1 + \\exp\\{u_i^\\mathsf{T} v_r + b_r\\} \\right)\n",
      "$$\n",
      "\n",
      "$$\n",
      "\\min_{U,V,b} g_U(U) + g_V(V) + g_b(b) + \\sum_i \\sum_{s,t \\in y_i} \\varphi_{i,s,t}(U, V, b)\n",
      "$$\n",
      "\n",
      "where $Y_{i,s,e}$ is a sample of tracks from the noise distribution conditional on the user $i$, previous song $s$ and edge $e$.  Note that this objective is bi-concave in $U$ and $V$."
     ]
    },
    {
     "cell_type": "markdown",
     "metadata": {},
     "source": [
      "## Distributed optimization\n",
      "\n",
      "### U-step\n",
      "\n",
      "The u-step is embarrasingly parallel, since the objective is separable in the columns of $U$.  \n",
      "NCE can be employed here to accelerate training for each user.  \n",
      "\n",
      "At $U$ step, we separate the problem into $m$ sub-problems, one for each column $u_i$.  For each sub-problem, we draw a sample of $n_-$ random negative tracks $\\overline{Y}$, ie, tracks which the user is not known to have consumed.  We then optimize the following objective\n",
      "\n",
      "$$\n",
      "u_i \\leftarrow \\text{arg}\\min_u g_u(u) + \\sum_{(s,t) \\in y_i} \\log\\left(1 + \\exp\\{-u^\\mathsf{T}v_t - b_t\\}\\right) + \\sum_e p_e^{s,t} \\sum_{r \\in \\overline{Y} \\cap e} \\log\\left(1 + \\exp\\{u^\\mathsf{T} v_r + b_r\\}\\right)\n",
      "$$\n",
      "\n",
      "In order to ensure that the objective above has sufficiently useful noise terms, we can generate $\\overline{Y}$ by a union of edge-conditional negative samples, based on total the edge usage over prior tracks $s$.  Similarly, negative samples can be pooled per-user over all bigrams $(s,t)$ to improve efficiency, and limit the total amount number of song factors $(v_r, b_r)$ accessed in the user's update.\n",
      "\n",
      "Each user vector update can be interpreted as a regularized logistic regression over positive and negative examples of selected tracks, but with calibrated bias terms $b$ and importance weights derived from the edge transition probabilities.  More specifically, the importance weight $\\omega_r$ for a negative example $r$ can be computed as\n",
      "\n",
      "$$\n",
      "\\omega_{r} = \\begin{cases}\n",
      "1 & \\exists s : (s, r) \\in y_i\\\\\n",
      "\\sum_{(s, t) \\in y_i} \\sum_e p_e^{s,t} H_{r, e}, & r \\in \\overline{Y}\n",
      "\\end{cases}\n",
      "$$\n",
      "\n",
      "resulting in the objective\n",
      "\n",
      "$$\n",
      "u_i \\leftarrow \\text{arg}\\min_u g_u(u) + \\sum_{(s,t) \\in y_i} \\omega_t \\log\\left(1 + \\exp\\{-u^\\mathsf{T}v_t - b_t\\}\\right) + \\sum_{r \\in \\overline{Y}} \\omega_{r} \\log\\left(1 + \\exp\\{u^\\mathsf{T} v_r + b_r\\}\\right)\n",
      "$$\n",
      "\n",
      "\n",
      "\n",
      "Typically, an individual user will have a relatively small number of tracks (most less than 30), and the latent factors often be low-dimensional (ie less than 32), so each of these problems can be solved quite efficiently by quasi-newton methods."
     ]
    },
    {
     "cell_type": "markdown",
     "metadata": {},
     "source": [
      "### V-step\n",
      "\n",
      "The v-steps are interdependent, but since the NCE surrogate objective is convex, it is amenable to distributed optimization via ADMM.\n",
      "\n",
      "One possibility here is to clone $V$ into matrices $V$ and $A_i$ with contraints $V = A_i$ for all $i$, where $i$ ranges over users.  Then, we can solve user-specific optimizations over $A_i$ in parallel via ADMM scatter/gather.  To reduce memory, each user problem $A_i$ can operate on a small set of vectors determined by a shared sample $Y_{i,\\cdot}$.  This way, only the corresponding columns will be updated.  This also results in fewer, slightly larger, subproblems because there tend to be fewer users than items.\n",
      "\n",
      "The ADMM algorithm for the $V$ step would look as follows:\n",
      "\n",
      "- (Scatter) For each user $i$:\n",
      "  - $A_i \\leftarrow \\text{arg}\\min_{A} \\ell_i(A) + \\frac{\\rho}{2} \\|A - V + \\Omega_i\\|^2$\n",
      "- (Gather) $V \\leftarrow \\text{arg}\\min_V g_V(V) + \\frac{\\rho}{2} \\sum_i \\|A_i - V + \\Omega_i\\|^2$\n",
      "- (Residual) $\\Omega_i \\leftarrow \\Omega_i + A_i - V$\n",
      "\n",
      "where $\\ell_i(A)$ denotes the noise-contrastive estimator for user $i$ as described in the $U$-step, except now optimizing over the item terms for a fixed user.  Note that each $A_i$ sub-problem only touches the columns of $V$ corresponding to $y_i \\cup \\overline{Y}_i$, so these problems will be relatively small; the remaining columns can simply be inferred from $V$, resulting in no penalty.\n",
      "\n",
      "Note that the $A_i$ subproblems are column-separable problems of the general form\n",
      "\n",
      "$$\n",
      "\\min_{x\\in \\mathbb{R}^d} \\frac{\\rho}{2} \\|x - z_r\\|^2 + \\omega_r\\log\\left(1 + \\exp\\left\\{-y_r(u_i^\\mathsf{T}x + b_r)\\right\\} \\right)\n",
      "$$\n",
      "\n",
      "where $r$ indexes the track, $z_r = (V- \\Omega_i)_r$ encodes the residual penalty, $y_r \\in [+1,-1,0]$ encodes whether the sample is positive, negative, or not sampled; and $\\omega_r$ is the importance weight for the sample (1 for positive, or as above if negative).  Note that in the case $y_r=0$, the unique optimum is $z_r$.\n",
      "\n",
      "In order for this method to converge properly, the negative samples should be fixed across all iterations of the ADMM loop.  However, new samples can be drawn at each outer-loop iteration.\n",
      "\n",
      "### b-step\n",
      "\n",
      "The architecture of the $b$ updates follows the $V$ step exactly, except that only the bias terms are adjusted.  Because the subproblems are separable and convex, each bias term can be updated independently as a scalar, convex minimization problem via bisection search.\n",
      "\n",
      "Sub-problems for the $b$ updates have the general form (after separation):\n",
      "\n",
      "$$\n",
      "\\min_{x\\in \\mathbb{R}} \\frac{\\rho}{2} \\left(x - \\beta_r\\right)^2 + \\omega_r\\log\\left(1 + \\exp\\left\\{-y_r(u_i^\\mathsf{T}v_r + x)\\right\\} \\right)\n",
      "$$"
     ]
    },
    {
     "cell_type": "markdown",
     "metadata": {},
     "source": [
      "## w-step\n",
      "\n",
      "With $(U, V, b)$ fixed, the $w$ parameters can be optimized by lower-bounding the original objective in a slightly different way than above.  This leads to the concave surrogate for each user and bigram:\n",
      "\n",
      "$$\n",
      "\\nu_{i, s, t}(w) = \\left( \\frac{H_s \\odot H_t \\odot q^i}{(H_s \\odot H_t)^\\mathsf{T} q^i}\\right)^\\mathsf{T} w - \\log H_s^\\mathsf{T} \\exp\\{w\\}\n",
      "$$\n",
      "\n",
      "where\n",
      "\n",
      "$$\n",
      "q_e^i = \\frac{1}{H_{\\cdot,e}^\\mathsf{T} \\exp\\{u_i^\\mathsf{T} V + b \\}}\n",
      "$$\n",
      "\n",
      "denotes the affinity between user $i$ and subset $e$.\n",
      "\n",
      "The parameters $w$ are then optimized by maximizing the total penalized likelihood\n",
      "\n",
      "$$\n",
      "\\max_{w} g_w(w) + \\sum_{i} \\sum_{(s,t)\\in y_i} \\nu_{i, s, t}(w)\n",
      "$$\n",
      "\n",
      "Note that the first term of $\\nu$ is linear in $w$.  We can then collect terms by first computing a vector\n",
      "\n",
      "$$\n",
      "Z := \\sum_i Z_i, \\quad\\quad Z_i:= \\sum_{(s,t) \\in y_i} \\frac{H_{s} \\odot H_t \\odot q^i}{(H_{s} \\odot H_t)^\\mathsf{T} q^i}\n",
      "$$\n",
      "\n",
      "Similarly, the second term depends only on the previous song-selections.  Let $N \\in \\mathbb{Z}_+^{|\\mathcal{X}|}$\n",
      "\n",
      "$$\n",
      "N_s :=\\sum_i \\sum_{(s,t) \\in y_i} 1\n",
      "\\quad\\text{and}\\quad\n",
      "N_{-1} := \\sum_i |y_i|\n",
      "$$\n",
      "\n",
      "then the $w$ objective can be rewritten as\n",
      "\n",
      "$$\n",
      "\\max_w g_w(w) + Z^\\mathsf{T}w - \\sum_{s \\in \\mathcal{X}} N_s \\log H_s^\\mathsf{T} \\exp\\{w\\} - N_{-1} \\log\\sum\\exp\\{w\\}\n",
      "$$"
     ]
    },
    {
     "cell_type": "markdown",
     "metadata": {},
     "source": [
      "---\n",
      "## Tying it all together\n",
      "\n",
      "The learning algorithm looks as follows:\n",
      "\n",
      "1. Initialize $U, V$.  Probably best to use an off the shelf (static) collaborative filter solver here.\n",
      "2. Initialize $w$ to all zeros, and $b$ to all zeros\n",
      "3. Repeat until convergence or exhaustion\n",
      "  1. (ADMM-NEG) $b$-step\n",
      "  2. (ADMM-NEG) $V$-step\n",
      "  3. (Parallel-NEG) $U$-step\n",
      "  4. (LBFGS) $w$-step\n",
      "  \n",
      "### ADMM-NEG\n",
      "This is the scatter/gather negative sampling ADMM algorithm described above, and works as follows (for example on $b$):\n",
      "\n",
      "1. Initialize $b$ arbitrarily, or to previous value\n",
      "2. For each user $i$ generate a negative sample\n",
      "3. Repeat until convergence\n",
      "  1. Scatter sub-problems across users $i$\n",
      "  2. Gather solutions (proximal update/averaging)\n",
      "  3. Update dual variable\n",
      "  \n",
      "### Parallel-NEG\n",
      "This is the parallelized user updates.  Since users are independent, this amounts to solving independent problems, and no gather operation is necessary.\n"
     ]
    },
    {
     "cell_type": "markdown",
     "metadata": {},
     "source": [
      "---\n",
      "# Practical considerations\n",
      "\n",
      "The original hypergraph playlister took a kitchen sink approach, and included the following classes of features:\n",
      "\n",
      "- Audio clusters\n",
      "- Era sets\n",
      "- Lyrics topic\n",
      "- CF clusters\n",
      "- Familiarity sets\n",
      "- Tag sets\n",
      "- Uniform\n",
      "- Conjunctions\n",
      "\n",
      "In this work, we can probably discard the CF and familiarity attributes, since they should be redundant with the latent factor and bias terms."
     ]
    },
    {
     "cell_type": "code",
     "collapsed": false,
     "input": [
      "import numpy as np\n",
      "import scipy.optimize\n",
      "import matplotlib.pyplot as plt\n",
      "%matplotlib inline"
     ],
     "language": "python",
     "metadata": {},
     "outputs": [],
     "prompt_number": 1
    },
    {
     "cell_type": "code",
     "collapsed": false,
     "input": [
      "d = 64\n",
      "n = int(5e2)\n",
      "\n",
      "b = np.random.randn(n).astype(np.float32)\n",
      "y = np.sign(np.random.randn(len(b))).astype(np.float32)\n",
      "om = np.abs(np.random.randn(len(b))).astype(np.float32) / 4\n",
      "\n",
      "om[y==1] = 1\n",
      "\n",
      "beta = np.random.randn(len(b))\n",
      "beta = (np.abs(beta) * beta * 4).astype(np.float32)\n",
      "\n",
      "u = np.random.randn(d).astype(np.float32)\n",
      "v = np.random.randn(len(b), d).astype(np.float32)\n",
      "\n",
      "rho = 1e-1"
     ],
     "language": "python",
     "metadata": {},
     "outputs": [],
     "prompt_number": 312
    },
    {
     "cell_type": "code",
     "collapsed": false,
     "input": [
      "uv = v.dot(u)\n",
      "\n",
      "def bias_obj(x):\n",
      "    \n",
      "    # compute objective\n",
      "    logistic = np.logaddexp(0, -y[r] * (uv[r] + x))\n",
      "    \n",
      "    f = rho / 2.0 * (x - beta[r])**2 + om[r] * logistic\n",
      "    \n",
      "    grad = rho * (x - beta[r]) - y[r] * om[r] / (1 + np.exp(y[r] * (uv[r] + x)))\n",
      "    \n",
      "    return f, grad"
     ],
     "language": "python",
     "metadata": {},
     "outputs": [],
     "prompt_number": 313
    },
    {
     "cell_type": "code",
     "collapsed": false,
     "input": [
      "uv = v.dot(u)\n",
      "\n",
      "def bias_obj_batch(x):\n",
      "    \n",
      "    # compute objective\n",
      "    logistic =  np.logaddexp(0, - y * (uv + x))\n",
      "    \n",
      "    f = rho / 2.0 * np.sum((x - beta)**2) + om.dot( logistic)\n",
      "    \n",
      "    grad = rho * (x - beta) - y * om / (1.0 + np.exp(y * (uv + x)))\n",
      "    \n",
      "    return f, grad"
     ],
     "language": "python",
     "metadata": {},
     "outputs": [],
     "prompt_number": 314
    },
    {
     "cell_type": "code",
     "collapsed": false,
     "input": [
      "def user_obj(x):\n",
      "    \n",
      "    # Compute the objective\n",
      "    \n",
      "    scores = y * (v.dot(x) + b)\n",
      "    \n",
      "    f = 0.5 * np.sum(x**2) + om.dot(np.logaddexp(0, -scores))\n",
      "    \n",
      "    grad = x - v.T.dot(y * om / (1.0 + np.exp(scores)))\n",
      "    \n",
      "    return f, grad"
     ],
     "language": "python",
     "metadata": {},
     "outputs": [],
     "prompt_number": 315
    },
    {
     "cell_type": "code",
     "collapsed": false,
     "input": [
      "r = 12"
     ],
     "language": "python",
     "metadata": {},
     "outputs": [],
     "prompt_number": 316
    },
    {
     "cell_type": "code",
     "collapsed": false,
     "input": [
      "u0 = np.zeros_like(u)"
     ],
     "language": "python",
     "metadata": {},
     "outputs": [],
     "prompt_number": 317
    },
    {
     "cell_type": "code",
     "collapsed": false,
     "input": [
      "%timeit x_user, x_value, diagnostic = scipy.optimize.fmin_l_bfgs_b(user_obj, u0)\n",
      "x_user, x_value, diagnostic = scipy.optimize.fmin_l_bfgs_b(user_obj, u, disp=1, )\n",
      "print diagnostic"
     ],
     "language": "python",
     "metadata": {},
     "outputs": [
      {
       "output_type": "stream",
       "stream": "stdout",
       "text": [
        "100 loops, best of 3: 3.74 ms per loop\n",
        "{'warnflag': 0, 'task': 'CONVERGENCE: REL_REDUCTION_OF_F_<=_FACTR*EPSMCH', 'grad': array([  3.82459436e-04,  -4.14496921e-05,   1.41703086e-04,\n",
        "        -3.67394698e-04,   7.18123653e-04,  -1.69505646e-04,\n",
        "         3.95409125e-04,   2.95711561e-04,   4.45640178e-04,\n",
        "         2.09464127e-05,  -3.65745131e-05,   1.32388712e-03,\n",
        "         1.07085197e-04,   2.30983478e-05,  -3.40184303e-04,\n",
        "         1.14450775e-04,   4.73415622e-04,  -5.65885421e-04,\n",
        "         3.45383113e-05,  -5.14310802e-04,   3.14369930e-04,\n",
        "        -6.06821320e-04,   3.20510236e-05,   1.74091252e-04,\n",
        "        -3.43869666e-04,   6.19723779e-04,  -5.64890850e-04,\n",
        "        -3.57928610e-04,   1.93169128e-04,  -3.02926362e-04,\n",
        "         5.39906820e-04,   2.05646615e-04,  -4.16478768e-04,\n",
        "        -1.48184179e-04,   5.18628905e-04,  -1.70425550e-04,\n",
        "         7.28257063e-04,  -5.55279506e-05,   6.17859981e-04,\n",
        "        -3.88150749e-04,   1.47872246e-04,   1.72475289e-04,\n",
        "        -8.02091628e-04,   1.23044186e-04,  -2.45842736e-05,\n",
        "         1.69898456e-04,  -2.11810719e-04,   3.52271621e-04,\n",
        "         4.43494480e-04,  -4.80171627e-04,   3.17690769e-04,\n",
        "        -3.84154755e-04,  -9.06058288e-04,   8.53669784e-04,\n",
        "         2.02622981e-04,   5.83541597e-04,   4.32881137e-04,\n",
        "         4.95969270e-04,  -6.42911787e-04,   2.20156398e-04,\n",
        "         2.45173971e-05,   1.61805950e-05,  -9.61862466e-04,\n",
        "        -2.52846458e-04]), 'nit': 16, 'funcalls': 19}\n"
       ]
      }
     ],
     "prompt_number": 318
    },
    {
     "cell_type": "code",
     "collapsed": false,
     "input": [
      "%timeit xb, xv, diagnostic = scipy.optimize.fmin_l_bfgs_b(bias_obj, 0)\n",
      "xb, xv, diagnostic = scipy.optimize.fmin_l_bfgs_b(bias_obj, 0)\n",
      "print diagnostic"
     ],
     "language": "python",
     "metadata": {},
     "outputs": [
      {
       "output_type": "stream",
       "stream": "stdout",
       "text": [
        "1000 loops, best of 3: 568 \u00b5s per loop\n",
        "{'warnflag': 0, 'task': 'CONVERGENCE: NORM_OF_PROJECTED_GRADIENT_<=_PGTOL', 'grad': array([ -9.92645231e-08]), 'nit': 5, 'funcalls': 6}\n"
       ]
      }
     ],
     "prompt_number": 319
    },
    {
     "cell_type": "code",
     "collapsed": false,
     "input": [
      "b0= np.zeros_like(b)"
     ],
     "language": "python",
     "metadata": {},
     "outputs": [],
     "prompt_number": 320
    },
    {
     "cell_type": "code",
     "collapsed": false,
     "input": [
      "%timeit xb, xvv, diagnostic = scipy.optimize.fmin_l_bfgs_b(bias_obj_batch, b0)\n",
      "xb, xvv, diagnostic = scipy.optimize.fmin_l_bfgs_b(bias_obj_batch, b0)\n",
      "print diagnostic"
     ],
     "language": "python",
     "metadata": {},
     "outputs": [
      {
       "output_type": "stream",
       "stream": "stdout",
       "text": [
        "100 loops, best of 3: 3.58 ms per loop\n",
        "{'warnflag': 0, 'task': 'CONVERGENCE: REL_REDUCTION_OF_F_<=_FACTR*EPSMCH', 'grad': array([ -3.84194059e-08,   2.14419333e-06,  -4.16144181e-08,\n",
        "        -4.14983345e-05,   2.61080808e-06,  -2.89290172e-07,\n",
        "         2.17279500e-07,  -4.67515097e-06,  -1.41424902e-06,\n",
        "         1.34840148e-06,   1.39769441e-07,  -2.78694085e-09,\n",
        "        -3.83346720e-07,  -3.53562869e-06,  -2.71458539e-08,\n",
        "         1.80713681e-05,  -5.02546170e-07,  -8.62409524e-08,\n",
        "         6.06733803e-07,   1.52021195e-07,   1.61467232e-07,\n",
        "        -6.03456716e-06,   7.30555693e-07,  -5.08899528e-07,\n",
        "        -1.82976269e-06,   7.94372650e-08,   7.62362170e-08,\n",
        "         1.23370573e-06,   9.93587125e-06,  -1.85624896e-06,\n",
        "        -2.49107961e-05,   2.88873197e-07,  -5.52301426e-06,\n",
        "         8.29766787e-07,   2.49947110e-05,   1.69441382e-06,\n",
        "        -4.85705784e-07,   3.29868448e-07,   9.14304533e-08,\n",
        "         6.84748402e-07,  -4.65078228e-08,  -2.28495229e-08,\n",
        "        -5.15952030e-08,   3.07322732e-07,   9.65756802e-06,\n",
        "         2.85304959e-09,   1.09227500e-06,  -1.11585634e-06,\n",
        "        -2.12228581e-06,  -3.15049657e-07,  -3.28647728e-06,\n",
        "         1.95615577e-07,  -4.70385374e-07,  -7.11381260e-06,\n",
        "         2.10026474e-05,  -1.29597456e-06,  -3.39828175e-07,\n",
        "        -3.93700246e-07,  -9.35492942e-05,  -2.11608438e-08,\n",
        "        -2.95341636e-06,   7.23669061e-07,   1.01400371e-07,\n",
        "         4.59474523e-07,   2.63943180e-05,  -5.91015253e-07,\n",
        "         1.04496979e-06,  -5.24554176e-08,   1.22069647e-06,\n",
        "         1.23994217e-05,  -1.45619023e-08,  -6.89804036e-07,\n",
        "         2.46701835e-05,  -1.00115089e-06,   1.43495137e-06,\n",
        "         3.25248231e-06,   1.13159931e-07,  -6.73291450e-08,\n",
        "        -1.55663264e-06,  -2.95581790e-07,  -1.70391010e-07,\n",
        "         2.67740513e-06,  -4.23705136e-05,   2.31017914e-06,\n",
        "        -6.91049171e-09,  -1.50289542e-06,   3.25366576e-07,\n",
        "        -4.67344168e-06,  -6.59930029e-06,   9.92920603e-07,\n",
        "        -1.11881327e-06,   1.39125797e-09,   4.90081486e-06,\n",
        "        -1.14942078e-06,   4.76032463e-07,  -3.01110785e-06,\n",
        "        -5.39760970e-08,   7.99272974e-07,   4.40726931e-08,\n",
        "         1.01424330e-05,  -7.90155808e-09,  -2.20275905e-06,\n",
        "        -1.98819717e-05,   1.21165713e-05,  -2.45815497e-06,\n",
        "        -6.96358719e-05,  -5.12933662e-07,   4.71707889e-07,\n",
        "        -1.66194037e-05,  -7.97181999e-06,   2.78349979e-06,\n",
        "         4.20198941e-07,  -6.36895837e-07,  -2.82888847e-07,\n",
        "         1.99854898e-07,  -8.34386398e-06,  -7.81453332e-07,\n",
        "        -3.65009495e-08,  -9.17983667e-06,   5.78464310e-06,\n",
        "        -6.84960570e-08,  -6.03934511e-06,   3.34674707e-07,\n",
        "         1.47704458e-07,  -7.67078840e-09,  -5.41077764e-06,\n",
        "         1.75749899e-06,  -8.27179794e-07,   5.78887027e-07,\n",
        "         9.28556909e-07,   6.23047991e-07,  -3.20871712e-08,\n",
        "        -2.22665154e-05,   8.64566695e-06,   6.21769236e-06,\n",
        "         2.72763685e-07,  -3.12756926e-06,   2.39076301e-05,\n",
        "         1.57719264e-07,  -1.43930767e-07,  -1.47256282e-08,\n",
        "        -5.46305547e-07,  -8.74615004e-06,  -1.48698379e-06,\n",
        "         1.79006505e-07,   1.13874073e-07,  -9.26052045e-07,\n",
        "         4.85971545e-06,  -3.14684121e-08,   1.12649363e-06,\n",
        "         6.33734508e-08,  -5.27833025e-07,  -6.31135106e-05,\n",
        "        -6.92213836e-06,  -1.97518798e-06,  -1.40274288e-06,\n",
        "         3.91389536e-07,   7.26998335e-07,   5.53596474e-07,\n",
        "         5.10515043e-06,   9.65680488e-07,   2.34969147e-07,\n",
        "         1.61522306e-07,   8.98606861e-06,  -2.36893392e-08,\n",
        "         3.23308069e-07,  -1.58474801e-06,  -2.58587537e-05,\n",
        "        -3.19140583e-07,  -2.08839245e-05,  -1.79196114e-08,\n",
        "        -5.77242033e-09,   1.01842924e-05,  -4.06719188e-05,\n",
        "        -2.58064082e-06,  -9.44489642e-07,   4.29601199e-06,\n",
        "         4.97804812e-07,   1.39157961e-05,  -1.41115982e-06,\n",
        "        -1.54257460e-06,   5.06524047e-06,   2.42094265e-06,\n",
        "         7.56411511e-07,   6.40426213e-08,  -7.52978906e-06,\n",
        "        -2.24802604e-07,  -1.36604462e-06,  -1.61236067e-05,\n",
        "        -2.67775945e-07,   1.01042580e-05,  -1.00887716e-06,\n",
        "         1.55867777e-07,   4.56890062e-07,  -6.63420714e-05,\n",
        "        -8.15861435e-06,  -9.75318913e-07,   1.29119874e-06,\n",
        "        -1.08598762e-05,   1.35376690e-07,  -1.18278198e-05,\n",
        "        -2.06172197e-05,  -4.47844397e-05,  -1.37293727e-05,\n",
        "         9.91741373e-08,  -1.31858242e-07,  -3.22939774e-08,\n",
        "         2.13962026e-05,   5.30414548e-07,   6.70689993e-08,\n",
        "        -7.81936067e-05,  -1.03596938e-06,   1.54175352e-07,\n",
        "        -5.78835630e-05,  -5.83765548e-08,  -9.27437085e-07,\n",
        "         4.76388314e-05,   1.01635104e-07,  -1.05379489e-08,\n",
        "         7.73838435e-08,  -4.97207812e-07,  -1.28598099e-07,\n",
        "         2.66674113e-06,  -3.53995207e-08,  -5.04519513e-06,\n",
        "        -7.28844801e-06,   1.04817658e-06,   1.08132913e-07,\n",
        "         1.65841529e-05,  -1.28431291e-05,   2.65118068e-08,\n",
        "         2.87247460e-08,   1.53942979e-08,   1.52620684e-05,\n",
        "         3.17816233e-05,  -3.12187387e-06,   3.60580324e-07,\n",
        "         1.54551135e-07,  -7.16036178e-07,   4.62790497e-08,\n",
        "         9.30802206e-09,  -3.75957919e-07,  -2.76812439e-06,\n",
        "         9.64237082e-08,   4.08906582e-06,   9.42272124e-08,\n",
        "         6.04445237e-07,   2.37263415e-05,   2.64212438e-05,\n",
        "         1.85244200e-07,   4.36843499e-06,  -4.75302484e-09,\n",
        "        -5.72473888e-08,   2.38644739e-06,  -8.51215416e-08,\n",
        "        -1.23783993e-06,  -5.19796806e-06,   5.32267320e-08,\n",
        "         3.34102638e-07,  -2.13332450e-06,   4.27279612e-06,\n",
        "         2.19107869e-08,   3.56803501e-07,   1.51518169e-07,\n",
        "        -9.14861940e-09,  -4.24184557e-08,   7.05871575e-06,\n",
        "        -6.18713713e-07,  -1.57320117e-05,  -1.10860359e-06,\n",
        "         2.95863477e-07,  -2.13417111e-08,   4.15283454e-07,\n",
        "        -2.18782381e-08,   9.78015892e-07,   2.49991480e-07,\n",
        "        -3.03380745e-06,   1.61252618e-06,   1.46875693e-07,\n",
        "         3.68340393e-07,   7.82601180e-07,  -4.47340963e-07,\n",
        "         6.31268350e-07,   1.45490832e-06,   2.04176526e-06,\n",
        "         2.70293232e-06,   1.29027794e-06,  -8.57075476e-06,\n",
        "         3.33201333e-08,  -1.50722668e-07,  -5.69684226e-06,\n",
        "         3.94929698e-06,   1.31311066e-05,  -2.97384972e-05,\n",
        "        -9.53785790e-08,   1.56742414e-07,   1.32534918e-07,\n",
        "         3.54377176e-07,   2.03979507e-05,   7.68720804e-07,\n",
        "        -2.26351853e-06,  -3.45484348e-08,   4.52153202e-07,\n",
        "        -9.90214752e-07,  -3.28929036e-06,   3.53956748e-06,\n",
        "         5.14269094e-08,  -3.28125528e-08,  -6.37881071e-08,\n",
        "        -3.51959768e-05,  -4.71443094e-06,  -5.13806141e-07,\n",
        "         4.78144387e-07,  -4.15726916e-06,  -2.00648013e-06,\n",
        "        -2.93152166e-05,  -1.74696759e-07,   8.32483450e-07,\n",
        "        -1.14632821e-07,   5.27571083e-06,  -7.06713059e-06,\n",
        "        -1.84534672e-06,   4.45907919e-06,  -6.68886060e-06,\n",
        "         3.29635686e-06,   5.25126883e-07,  -2.99268158e-08,\n",
        "        -2.81767246e-07,   2.82491468e-08,   9.17285053e-07,\n",
        "         6.26453461e-05,  -4.31793620e-06,  -8.45095308e-06,\n",
        "        -1.70411887e-06,   8.92662233e-07,   1.83741611e-07,\n",
        "         3.07755690e-08,   1.13876004e-06,  -1.01370940e-06,\n",
        "        -3.51568000e-08,   7.67922807e-07,  -5.64509539e-08,\n",
        "        -6.45525948e-06,   1.26800545e-06,  -1.24832621e-07,\n",
        "        -3.08177129e-07,   1.18440166e-07,  -3.91888054e-06,\n",
        "        -6.57979318e-07,  -1.49073853e-07,  -2.30963754e-08,\n",
        "        -7.23249755e-07,   4.65150848e-07,   2.49120876e-07,\n",
        "        -1.83888535e-09,   1.55010329e-06,  -1.90177078e-06,\n",
        "         1.99782823e-07,  -1.41529377e-06,  -3.30291852e-08,\n",
        "         1.32971541e-06,   1.98144144e-07,  -2.77708002e-09,\n",
        "        -1.14801153e-05,   2.28849227e-06,  -2.13888068e-06,\n",
        "        -5.57757460e-07,   2.55191403e-07,   8.85266692e-07,\n",
        "         1.51821068e-06,  -9.49362691e-08,  -2.95605863e-06,\n",
        "        -1.94170649e-06,  -1.33111649e-06,  -3.07837327e-07,\n",
        "         9.05555799e-07,   1.19105787e-07,  -4.07333448e-07,\n",
        "        -3.29547120e-05,   3.93412965e-08,   7.99114659e-07,\n",
        "        -1.11590747e-07,  -3.01713980e-07,  -8.13215241e-06,\n",
        "         2.26489228e-07,  -1.37951163e-07,  -4.13472724e-07,\n",
        "         4.51272695e-07,   6.22425507e-08,  -7.77819039e-07,\n",
        "        -5.37443301e-07,  -3.08183010e-07,   4.25599983e-08,\n",
        "        -3.77443576e-05,  -6.20068093e-06,   2.57909546e-07,\n",
        "        -3.83439167e-07,  -2.09649736e-05,   6.01242109e-07,\n",
        "         1.38817416e-06,   2.27689192e-08,  -4.87114466e-08,\n",
        "        -4.77393601e-09,   5.14701243e-07,   4.49849732e-07,\n",
        "         3.44810409e-07,  -1.97801038e-06,   1.19805318e-08,\n",
        "        -3.51290368e-06,  -7.17644315e-06,   4.53763210e-08,\n",
        "         6.63677517e-08,  -4.73430922e-07,  -2.27469522e-06,\n",
        "         5.96610686e-07,   1.38974883e-07,   9.22076311e-09,\n",
        "        -7.75578500e-05,  -2.06836286e-07,   1.22837893e-05,\n",
        "        -2.19744774e-05,   7.12434187e-07,  -8.84143749e-06,\n",
        "        -1.60077438e-06,   2.40060243e-05,  -2.24036268e-06,\n",
        "        -1.10884101e-05,   2.10268179e-07,  -8.64235892e-07,\n",
        "         4.65333488e-07,   3.90519395e-06,  -4.96114061e-06,\n",
        "        -3.69323223e-06,  -5.58290681e-08,  -4.88590804e-06,\n",
        "        -8.09244472e-07,   4.62586212e-07,  -2.19474409e-07,\n",
        "        -7.00197713e-07,  -8.84243841e-07,   5.98801487e-07,\n",
        "        -7.63507735e-06,   7.05109542e-05,  -4.05310881e-07,\n",
        "         2.32461854e-06,   1.51377333e-09,   3.92712865e-07,\n",
        "        -2.18575608e-06,   6.10940114e-06,  -3.47018683e-07,\n",
        "        -2.61623845e-06,  -2.62457291e-06,  -6.29021498e-06,\n",
        "         9.99959541e-07,  -5.28046615e-07,   1.62025472e-06,\n",
        "         4.70070529e-06,   6.21935898e-06,  -2.80878520e-05,\n",
        "        -5.21020945e-07,   2.53993715e-07,   1.53761403e-05,\n",
        "        -1.71456176e-06,  -1.84673081e-09,  -4.24154342e-05,\n",
        "         3.17269401e-06,  -8.34344182e-07,  -7.22077825e-07,\n",
        "        -8.13629492e-09,   1.70878509e-07,   1.87405036e-06,\n",
        "        -1.10995199e-05,  -3.23590859e-10,   1.31875620e-05,\n",
        "        -1.97134094e-07,  -7.57265817e-06,   7.21290081e-07,\n",
        "         5.15561284e-07,  -1.38120610e-06,  -3.68293194e-07,\n",
        "         1.64633813e-07,  -3.44725745e-05,  -5.06474236e-06,\n",
        "         1.55211847e-07,  -2.68683375e-08,  -2.38307422e-06,\n",
        "         9.68723638e-07,  -4.51007303e-06,   2.19500377e-07,\n",
        "         7.57185073e-09,   1.40573186e-09,   1.10647353e-06,\n",
        "         1.68341661e-08,   2.55740563e-09,  -6.28213707e-07,\n",
        "        -7.92894392e-06,   2.74568496e-06,  -8.13441454e-05,\n",
        "         3.52633440e-08,  -1.57362453e-08]), 'nit': 13, 'funcalls': 16}\n"
       ]
      }
     ],
     "prompt_number": 321
    },
    {
     "cell_type": "code",
     "collapsed": false,
     "input": [
      "plt.plot(xb[:50])\n",
      "plt.plot(beta[:50], color='r', linestyle='--')"
     ],
     "language": "python",
     "metadata": {},
     "outputs": [
      {
       "metadata": {},
       "output_type": "pyout",
       "prompt_number": 322,
       "text": [
        "[<matplotlib.lines.Line2D at 0x7fb27e19ff10>]"
       ]
      },
      {
       "metadata": {},
       "output_type": "display_data",
       "png": "[encoded data removed]",
       "text": [
        "<matplotlib.figure.Figure at 0x7fb27e19f910>"
       ]
      }
     ],
     "prompt_number": 322
    },
    {
     "cell_type": "code",
     "collapsed": false,
     "input": [
      "r = 27\n",
      "\n",
      "x = np.linspace(xb[r]-3.5, xb[r]+3.5, num=500)\n",
      "\n",
      "plt.plot(x, bias_obj(x)[0])\n",
      "#plt.vlines(xb[r:r+1], 0, max(bias_obj(x)[0]))\n",
      "plt.scatter(xb[r:r+1], [bias_obj(xb[r:r+1])[0]], c='r', s=100, marker='*')\n",
      "#plt.scatter(beta[r], bias_obj(beta[r])[0])\n",
      "#plt.axis('tight')\n",
      "plt.tight_layout()"
     ],
     "language": "python",
     "metadata": {},
     "outputs": [
      {
       "metadata": {},
       "output_type": "display_data",
       "png": "[encoded data removed]",
       "text": [
        "<matplotlib.figure.Figure at 0x7fb27e235a50>"
       ]
      }
     ],
     "prompt_number": 294
    },
    {
     "cell_type": "markdown",
     "metadata": {},
     "source": [
      "---\n",
      "## Rebuilding ismir2012 data\n"
     ]
    },
    {
     "cell_type": "code",
     "collapsed": false,
     "input": [
      "import cPickle as pickle"
     ],
     "language": "python",
     "metadata": {},
     "outputs": [],
     "prompt_number": 151
    },
    {
     "cell_type": "code",
     "collapsed": false,
     "input": [
      "H = scipy.sparse.eye(5, 3, format='lil')\n",
      "H[:,0] = True\n",
      "H = H.tocsr()"
     ],
     "language": "python",
     "metadata": {},
     "outputs": [],
     "prompt_number": 266
    },
    {
     "cell_type": "code",
     "collapsed": false,
     "input": [
      "z = np.random.randn(3)**2"
     ],
     "language": "python",
     "metadata": {},
     "outputs": [],
     "prompt_number": 267
    },
    {
     "cell_type": "code",
     "collapsed": false,
     "input": [
      "a1 = H.multiply( z)"
     ],
     "language": "python",
     "metadata": {},
     "outputs": [],
     "prompt_number": 268
    },
    {
     "cell_type": "code",
     "collapsed": false,
     "input": [
      "a1"
     ],
     "language": "python",
     "metadata": {},
     "outputs": [
      {
       "metadata": {},
       "output_type": "pyout",
       "prompt_number": 269,
       "text": [
        "matrix([[ 1.49677436,  0.        ,  0.        ],\n",
        "        [ 1.49677436,  0.6567584 ,  0.        ],\n",
        "        [ 1.49677436,  0.        ,  0.22633055],\n",
        "        [ 1.49677436,  0.        ,  0.        ],\n",
        "        [ 1.49677436,  0.        ,  0.        ]])"
       ]
      }
     ],
     "prompt_number": 269
    },
    {
     "cell_type": "code",
     "collapsed": false,
     "input": [
      "a1 /= np.sum(a1, axis=1)"
     ],
     "language": "python",
     "metadata": {},
     "outputs": [],
     "prompt_number": 270
    },
    {
     "cell_type": "code",
     "collapsed": false,
     "input": [
      "a1"
     ],
     "language": "python",
     "metadata": {},
     "outputs": [
      {
       "metadata": {},
       "output_type": "pyout",
       "prompt_number": 271,
       "text": [
        "matrix([[ 1.        ,  0.        ,  0.        ],\n",
        "        [ 0.69503208,  0.30496792,  0.        ],\n",
        "        [ 0.86864958,  0.        ,  0.13135042],\n",
        "        [ 1.        ,  0.        ,  0.        ],\n",
        "        [ 1.        ,  0.        ,  0.        ]])"
       ]
      }
     ],
     "prompt_number": 271
    },
    {
     "cell_type": "code",
     "collapsed": false,
     "input": [
      "(H * H[2].T).todense()"
     ],
     "language": "python",
     "metadata": {},
     "outputs": [
      {
       "metadata": {},
       "output_type": "pyout",
       "prompt_number": 272,
       "text": [
        "matrix([[ 1.],\n",
        "        [ 1.],\n",
        "        [ 2.],\n",
        "        [ 1.],\n",
        "        [ 1.]])"
       ]
      }
     ],
     "prompt_number": 272
    },
    {
     "cell_type": "code",
     "collapsed": false,
     "input": [
      "H[1].todense()"
     ],
     "language": "python",
     "metadata": {},
     "outputs": [
      {
       "metadata": {},
       "output_type": "pyout",
       "prompt_number": 217,
       "text": [
        "matrix([[ 0.,  1.,  0.]])"
       ]
      }
     ],
     "prompt_number": 217
    },
    {
     "cell_type": "code",
     "collapsed": false,
     "input": [
      "H"
     ],
     "language": "python",
     "metadata": {},
     "outputs": [
      {
       "metadata": {},
       "output_type": "pyout",
       "prompt_number": 303,
       "text": [
        "<5x3 sparse matrix of type '<type 'numpy.float64'>'\n",
        "\twith 7 stored elements in Compressed Sparse Row format>"
       ]
      }
     ],
     "prompt_number": 303
    },
    {
     "cell_type": "code",
     "collapsed": false,
     "input": [
      "H.transpose().tocsr()"
     ],
     "language": "python",
     "metadata": {},
     "outputs": [
      {
       "metadata": {},
       "output_type": "pyout",
       "prompt_number": 305,
       "text": [
        "<3x5 sparse matrix of type '<type 'numpy.float64'>'\n",
        "\twith 7 stored elements in Compressed Sparse Row format>"
       ]
      }
     ],
     "prompt_number": 305
    },
    {
     "cell_type": "code",
     "collapsed": false,
     "input": [
      "ZZ = np.zeros((5, 3))"
     ],
     "language": "python",
     "metadata": {},
     "outputs": [],
     "prompt_number": 309
    },
    {
     "cell_type": "code",
     "collapsed": false,
     "input": [
      "ZZ[:] = [np.random.randn(3) for _ in range(5)]"
     ],
     "language": "python",
     "metadata": {},
     "outputs": [],
     "prompt_number": 310
    },
    {
     "cell_type": "code",
     "collapsed": false,
     "input": [
      "ZZ"
     ],
     "language": "python",
     "metadata": {},
     "outputs": [
      {
       "metadata": {},
       "output_type": "pyout",
       "prompt_number": 311,
       "text": [
        "array([[-0.75496127, -2.14315305, -0.14000255],\n",
        "       [ 0.39214663,  0.25717722,  0.65320777],\n",
        "       [-0.08957542,  1.10590128,  0.32945497],\n",
        "       [ 1.4530299 ,  0.71820626,  0.64257829],\n",
        "       [-0.58953033,  0.74973082,  0.91152462]])"
       ]
      }
     ],
     "prompt_number": 311
    },
    {
     "cell_type": "code",
     "collapsed": false,
     "input": [
      "H.todense()"
     ],
     "language": "python",
     "metadata": {},
     "outputs": [
      {
       "metadata": {},
       "output_type": "pyout",
       "prompt_number": 326,
       "text": [
        "matrix([[ 1.,  0.,  0.],\n",
        "        [ 1.,  1.,  0.],\n",
        "        [ 1.,  0.,  1.],\n",
        "        [ 1.,  0.,  0.],\n",
        "        [ 1.,  0.,  0.]])"
       ]
      }
     ],
     "prompt_number": 326
    },
    {
     "cell_type": "code",
     "collapsed": false,
     "input": [
      "0 + H[0]"
     ],
     "language": "python",
     "metadata": {},
     "outputs": [
      {
       "metadata": {},
       "output_type": "pyout",
       "prompt_number": 327,
       "text": [
        "<1x3 sparse matrix of type '<type 'numpy.float64'>'\n",
        "\twith 1 stored elements in Compressed Sparse Row format>"
       ]
      }
     ],
     "prompt_number": 327
    },
    {
     "cell_type": "code",
     "collapsed": false,
     "input": [
      "np.sum([H[0], H[1]]).todense()"
     ],
     "language": "python",
     "metadata": {},
     "outputs": [
      {
       "metadata": {},
       "output_type": "pyout",
       "prompt_number": 324,
       "text": [
        "matrix([[ 2.,  1.,  0.]])"
       ]
      }
     ],
     "prompt_number": 324
    },
    {
     "cell_type": "markdown",
     "metadata": {},
     "source": [
      "---\n",
      "### OLD STUFF\n",
      "\n",
      "Down here be dragons"
     ]
    },
    {
     "cell_type": "markdown",
     "metadata": {},
     "source": [
      "# Optimization\n",
      "\n",
      "Model parameters $U, V, b, w$ will be optimized by alternating block-coordinate ascent.  \n",
      "\n",
      "## U, V, b\n",
      "\n",
      "With $w$ fixed, we can lower-bound each bigram's log-likehood by the following bi-concave function\n",
      "\n",
      "$$\n",
      "\\phi_{i, s, t}(U, V, b) = \\mathsf{tr}\\left(\\mathsf{e}_i^\\mathsf{T} U^\\mathsf{T} V \\mathsf{e}_t\\right) + b_t - \\sum_{e \\in E}p_e^{s,t} \\log H_{\\cdot, e}^\\mathsf{T} \\exp\\{\\mathsf{e}_i^\\mathsf{T} U^\\mathsf{T} V + b\\}\n",
      "$$\n",
      "\n",
      "$$\n",
      "p^{s,t}_e = \\frac{H_{s,e} H_{t, e} \\exp\\{w_e\\} }{ (H_s \\odot H_t)^\\mathsf{T} \\exp\\{w\\}}\n",
      "$$\n",
      "and then optimize by summing over observations\n",
      "\n",
      "$$\n",
      "\\max_{U, V, b} g_U(U) + g_V(V) + g_b(b) + \\sum_{i} \\sum_{(s,t)\\in y_i} \\phi_{i, s,t}(U, V, b)\n",
      "$$\n",
      "\n",
      "where $g_\\cdot(\\cdot)$ encode log-priors (or regularization penalties) on the various parameters.\n",
      "\n",
      "Each block of parameters $(U, V, b)$ will be updated while holding the remaining variables fixed."
     ]
    }
   ],
   "metadata": {}
  }
 ]
}