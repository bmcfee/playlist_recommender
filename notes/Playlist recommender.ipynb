{
 "metadata": {
  "name": "",
  "signature": "sha256:93f304064f4bb3ef9b90b46e53c3f879fab40e91fa321ebc4a883c897b8ba940"
 },
 "nbformat": 3,
 "nbformat_minor": 0,
 "worksheets": [
  {
   "cells": [
    {
     "cell_type": "markdown",
     "metadata": {},
     "source": [
      "# Playlist recommender\n",
      "\n",
      "This notebook explicates the Personalized HYperGraph RAndom WalK (PHYG-RAWK).\n",
      "\n",
      "### Process\n",
      "\n",
      "For a user $i$, a playlist over the song library $\\mathcal{X}$ is generated according to the following process:\n",
      "\n",
      "1. Select a subset $e \\subseteq \\mathcal{X}$ of songs\n",
      "2. Select a song $x_t \\in e$ according to a preference model\n",
      "3. Select a new subset $e \\ni x_t$ containing the previously selected song\n",
      "4. Goto 2\n",
      "\n",
      "This process will be characterized mathematically below.  Note that the process is first-order Markov over alternating selections of subsets $e$ and songs $x$.  As such, the likelihood function of an observed sequence factors into an initial selection and collection of bigrams.\n",
      " \n",
      "Without loss of generality, we will associate with each user $i$ a collection of observed bigrams $y_i = \\{(s, t)\\}$, where $(s, t)$ range over pairs of song identifiers, and the special token $s=-1$ indicates an initial selection.  This will simplify notation below."
     ]
    },
    {
     "cell_type": "markdown",
     "metadata": {},
     "source": [
      "### Notation\n",
      "\n",
      "Data:\n",
      "\n",
      "- Let $i \\in [m]$ index the set of $m$ users, and let $s, t \\in \\{-1\\} \\cup [|\\mathcal{X}|]$ index track identifiers (including the null-track $-1$).\n",
      "\n",
      "- Let $H \\in \\{0, 1\\}^{m \\times n}$ indicate the songs-by-subset affinity matrix (aka, the hypergraph edge membership or incident matrix).\n",
      "\n",
      "- Let $E \\subseteq 2^\\mathcal{X}$ denote a collection of subsets\n",
      "\n",
      "Parameters:\n",
      "\n",
      "- Let $U \\in \\mathbb{R}^{d \\times m}$ encode a latent factor representation of the users, and similarly for $V \\in \\mathbb{R}^{d \\times |\\mathcal{X}|}$.  \n",
      "\n",
      "- Let $b \\in \\mathbb{R}^{|\\mathcal{X}|}$ encode the item bias.  \n",
      "\n",
      "- Let $w \\in \\mathbb{R}^{|E|}$ denote subset weights.\n",
      "\n",
      "Distributions:\n",
      "\n",
      "- Song and subset selections will be distributed by multinomial logistic regression: \n",
      "  - $P[ x_t | u_i, V, b ] \\propto \\exp\\{u_i^\\mathsf{T} v_t + b_t\\}$\n",
      "  - $P[ w_e ] \\propto \\exp\\{w_e\\}$"
     ]
    },
    {
     "cell_type": "markdown",
     "metadata": {},
     "source": [
      "---"
     ]
    },
    {
     "cell_type": "markdown",
     "metadata": {},
     "source": [
      "# Noise-contrastive estimation\n",
      "\n",
      "An alternative learning strategy follows BPR-MF (Rendle, et al. 2009) and word2vec (Mikolov, 2013) by replacing the generative optimization problem with a discriminative task.  This method is inspired by the noise-contrastive estimation method of (Gutmann and Hyvarinen, JMLR 2012).\n",
      "\n",
      "Specifically, we synthesize a collection of negative bigrams for each user, and rather than optimize $P[x_t | u_i, x_s, V, b]$, we optimize $P[Y_{i,s,t}=1|u_i, x_s, x_t, V, b]$ for the true samples, and $P[Y_{i,s,r} \\neq 1| u_i, x_s, x_r, V, b]$ for the synthetic negative examples $r$.\n",
      "\n",
      "We can tighten this idea a bit by going back to the original (log-)distribution which marginalizes over edge selection:\n",
      "\n",
      "$$\n",
      "\\log P[X = x_t ~|~ x_s, u_i, V, b, w] = \\log \\left( \\sum_{e} P[E=e ~|~ x_s, w] P[X = x_t ~|~ e, u_i, V, b] \\right)\n",
      "$$\n",
      "\n",
      "Via some convex shenanigans and discarding some additive normalization constants (over edges), we can replace the above likelihood with a convex combination of soft-maxes:\n",
      "\n",
      "$$\n",
      "\\gtrsim \\sum_e p_e^{s,t} \\log \\left(\\frac{\\exp\\{u_i^\\mathsf{T}V\\mathsf{e}_t + b_t\\}}{\\sum_{r \\in e} \\exp\\{u_i^\\mathsf{T}V\\mathsf{e}_r + b_r\\} } \\right)\n",
      "$$\n",
      "\n",
      "where\n",
      "\n",
      "$$\n",
      "p^{s,t}_e = \\frac{H_{s,e} H_{t, e} \\exp\\{w_e\\} }{ (H_s \\odot H_t)^\\mathsf{T} \\exp\\{w\\}}\n",
      "$$\n",
      "\n",
      "This latter distribution is amenable to surrogate optimization via noise-contrastive estimation over the subset $e$.  This would result in an objective of the form\n",
      "\n",
      "$$\n",
      "- \\sum_e p_e^{s,t} \\left( \\log \\left(1 + \\exp\\{-u_i^\\mathsf{T} v_t - b_t\\} \\right) + \\sum_{r \\in Y_{i,s,e}} \\log \\left(1 + \\exp\\{u_i^\\mathsf{T} v_r + b_r\\} \\right) \\right)\n",
      "$$\n",
      "\n",
      "Turning this into a convex minimization problem, we get the point-wise loss function:\n",
      "$$\n",
      "\\varphi_{i,s,t}(U, V, b) =  \\log \\left(1 + \\exp\\{-u_i^\\mathsf{T} v_t - b_t\\} \\right) + \\sum_e p_e^{s,t} \\sum_{r \\in Y_{i,s,e}} \\log \\left(1 + \\exp\\{u_i^\\mathsf{T} v_r + b_r\\} \\right)\n",
      "$$\n",
      "\n",
      "$$\n",
      "\\min_{U,V,b} g_U(U) + g_V(V) + g_b(b) + \\sum_i \\sum_{s,t \\in y_i} \\varphi_{i,s,t}(U, V, b)\n",
      "$$\n",
      "\n",
      "where $Y_{i,s,e}$ is a sample of tracks from the noise distribution conditional on the user $i$, previous song $s$ and edge $e$.  Note that this objective is bi-concave in $U$ and $V$."
     ]
    },
    {
     "cell_type": "markdown",
     "metadata": {},
     "source": [
      "## Distributed optimization\n",
      "\n",
      "### U-step\n",
      "\n",
      "The u-step is embarrasingly parallel, since the objective is separable in the columns of $U$.  \n",
      "NCE can be employed here to accelerate training for each user.  \n",
      "\n",
      "At $U$ step, we separate the problem into $m$ sub-problems, one for each column $u_i$.  For each sub-problem, we draw a sample of $n_-$ random negative tracks $\\overline{Y}$, ie, tracks which the user is not known to have consumed.  We then optimize the following objective\n",
      "\n",
      "$$\n",
      "u_i \\leftarrow \\text{arg}\\min_u g_u(u) + \\sum_{(s,t) \\in y_i} \\log\\left(1 + \\exp\\{-u^\\mathsf{T}v_t - b_t\\}\\right) + \\sum_e p_e^{s,t} \\sum_{r \\in \\overline{Y} \\cap e} \\log\\left(1 + \\exp\\{u^\\mathsf{T} v_r + b_r\\}\\right)\n",
      "$$\n",
      "\n",
      "In order to ensure that the objective above has sufficiently useful noise terms, we can generate $\\overline{Y}$ by a union of edge-conditional negative samples, based on total the edge usage over prior tracks $s$.  Similarly, negative samples can be pooled per-user over all bigrams $(s,t)$ to improve efficiency, and limit the total amount number of song factors $(v_r, b_r)$ accessed in the user's update.\n",
      "\n",
      "Each user vector update can be interpreted as a regularized logistic regression over positive and negative examples of selected tracks, but with calibrated bias terms $b$ and importance weights derived from the edge transition probabilities.  More specifically, the importance weight $\\omega_r$ for a negative example $r$ can be computed as\n",
      "\n",
      "$$\n",
      "\\omega_{r} = \\begin{cases}\n",
      "1 & \\exists s : (s, r) \\in y_i\\\\\n",
      "\\sum_{(s, t) \\in y_i} \\sum_e p_e^{s,t} H_{r, e}, & r \\in \\overline{Y}\n",
      "\\end{cases}\n",
      "$$\n",
      "\n",
      "resulting in the objective\n",
      "\n",
      "$$\n",
      "u_i \\leftarrow \\text{arg}\\min_u g_u(u) + \\sum_{(s,t) \\in y_i} \\omega_t \\log\\left(1 + \\exp\\{-u^\\mathsf{T}v_t - b_t\\}\\right) + \\sum_{r \\in \\overline{Y}} \\omega_{r} \\log\\left(1 + \\exp\\{u^\\mathsf{T} v_r + b_r\\}\\right)\n",
      "$$\n",
      "\n",
      "\n",
      "\n",
      "Typically, an individual user will have a relatively small number of tracks (most less than 30), and the latent factors often be low-dimensional (ie less than 32), so each of these problems can be solved quite efficiently by quasi-newton methods."
     ]
    },
    {
     "cell_type": "markdown",
     "metadata": {},
     "source": [
      "### V-step\n",
      "\n",
      "The v-steps are interdependent, but since the NCE surrogate objective is convex, it is amenable to distributed optimization via ADMM.\n",
      "\n",
      "One possibility here is to clone $V$ into matrices $V$ and $A_i$ with contraints $V = A_i$ for all $i$, where $i$ ranges over users.  Then, we can solve user-specific optimizations over $A_i$ in parallel via ADMM scatter/gather.  To reduce memory, each user problem $A_i$ can operate on a small set of vectors determined by a shared sample $Y_{i,\\cdot}$.  This way, only the corresponding columns will be updated.  This also results in fewer, slightly larger, subproblems because there tend to be fewer users than items.\n",
      "\n",
      "The ADMM algorithm for the $V$ step would look as follows:\n",
      "\n",
      "- (Scatter) For each user $i$:\n",
      "  - $A_i \\leftarrow \\text{arg}\\min_{A} \\ell_i(A) + \\frac{\\rho}{2} \\|A - V + \\Omega_i\\|^2$\n",
      "- (Gather) $V \\leftarrow \\text{arg}\\min_V g_V(V) + \\frac{\\rho}{2} \\sum_i \\|A_i - V + \\Omega_i\\|^2$\n",
      "- (Residual) $\\Omega_i \\leftarrow \\Omega_i + A_i - V$\n",
      "\n",
      "where $\\ell_i(A)$ denotes the noise-contrastive estimator for user $i$ as described in the $U$-step, except now optimizing over the item terms for a fixed user.  Note that each $A_i$ sub-problem only touches the columns of $V$ corresponding to $y_i \\cup \\overline{Y}_i$, so these problems will be relatively small; the remaining columns can simply be inferred from $V$, resulting in no penalty.\n",
      "\n",
      "Note that the $A_i$ subproblems are column-separable problems of the general form\n",
      "\n",
      "$$\n",
      "\\min_{x\\in \\mathbb{R}^d} \\frac{\\rho}{2} \\|x - z_r\\|^2 + \\omega_r\\log\\left(1 + \\exp\\left\\{-y_r(u_i^\\mathsf{T}x + b_r)\\right\\} \\right)\n",
      "$$\n",
      "\n",
      "where $r$ indexes the track, $z_r = (V- \\Omega_i)_r$ encodes the residual penalty, $y_r \\in [+1,-1,0]$ encodes whether the sample is positive, negative, or not sampled; and $\\omega_r$ is the importance weight for the sample (1 for positive, or as above if negative).  Note that in the case $y_r=0$, the unique optimum is $z_r$.\n",
      "\n",
      "In order for this method to converge properly, the negative samples should be fixed across all iterations of the ADMM loop.  However, new samples can be drawn at each outer-loop iteration.\n",
      "\n",
      "### b-step\n",
      "\n",
      "The architecture of the $b$ updates follows the $V$ step exactly, except that only the bias terms are adjusted.  Because the subproblems are separable and convex, each bias term can be updated independently as a scalar, convex minimization problem via bisection search.\n",
      "\n",
      "Sub-problems for the $b$ updates have the general form (after separation):\n",
      "\n",
      "$$\n",
      "\\min_{x\\in \\mathbb{R}} \\frac{\\rho}{2} \\left(x - \\beta_r\\right)^2 + \\omega_r\\log\\left(1 + \\exp\\left\\{-y_r(u_i^\\mathsf{T}v_r + x)\\right\\} \\right)\n",
      "$$"
     ]
    },
    {
     "cell_type": "markdown",
     "metadata": {},
     "source": [
      "## w-step\n",
      "\n",
      "With $(U, V, b)$ fixed, the $w$ parameters can be optimized by lower-bounding the original objective in a slightly different way than above.  This leads to the concave surrogate for each user and bigram:\n",
      "\n",
      "$$\n",
      "\\nu_{i, s, t}(w) = \\left( \\frac{H_s \\odot H_t \\odot q^i}{(H_s \\odot H_t)^\\mathsf{T} q^i}\\right)^\\mathsf{T} w - \\log H_s^\\mathsf{T} \\exp\\{w\\}\n",
      "$$\n",
      "\n",
      "where\n",
      "\n",
      "$$\n",
      "q_e^i = \\frac{1}{H_{\\cdot,e}^\\mathsf{T} \\exp\\{u_i^\\mathsf{T} V + b \\}}\n",
      "$$\n",
      "\n",
      "denotes the affinity between user $i$ and subset $e$.\n",
      "\n",
      "The parameters $w$ are then optimized by maximizing the total penalized likelihood\n",
      "\n",
      "$$\n",
      "\\max_{w} g_w(w) + \\sum_{i} \\sum_{(s,t)\\in y_i} \\nu_{i, s, t}(w)\n",
      "$$\n",
      "\n",
      "Note that the first term of $\\nu$ is linear in $w$.  We can then collect terms by first computing a vector\n",
      "\n",
      "$$\n",
      "Z := \\sum_i \\sum_{(s,t) \\in y_i} \\frac{H_{s} \\odot H_t \\odot q^i}{(H_{s} \\odot H_t)^\\mathsf{T} q^i}\n",
      "$$\n",
      "\n",
      "Similarly, the second term depends only on the previous song-selections.  Let $N \\in \\mathbb{Z}_+^{|\\mathcal{X}|+1}$\n",
      "\n",
      "$$\n",
      "N_s := \\begin{cases}\n",
      "\\sum_i |y_i| & s = -1\\\\\n",
      "\\sum_i \\sum_{(s,t) \\in y_i} 1 & s \\neq -1.\n",
      "\\end{cases}\n",
      "$$\n",
      "\n",
      "then the $w$ objective can be rewritten as\n",
      "\n",
      "$$\n",
      "\\max_w g_w(w) + Z^\\mathsf{T}w - \\sum_{s \\in \\mathcal{X}} N_s \\log H_s^\\mathsf{T} \\exp\\{w\\} - N_{-1} \\log\\sum\\exp\\{w\\}\n",
      "$$"
     ]
    },
    {
     "cell_type": "markdown",
     "metadata": {},
     "source": [
      "---\n",
      "## Tying it all together\n",
      "\n",
      "The learning algorithm looks as follows:\n",
      "\n",
      "1. Initialize $U, V$.  Probably best to use an off the shelf (static) collaborative filter solver here.\n",
      "2. Initialize $w$ to all zeros, and $b$ to all zeros\n",
      "3. Repeat until convergence or exhaustion\n",
      "  1. (ADMM-NEG) $b$-step\n",
      "  2. (ADMM-NEG) $V$-step\n",
      "  3. (Parallel-NEG) $U$-step\n",
      "  4. (ADMM) $w$-step\n",
      "  \n",
      "### ADMM-NEG\n",
      "This is the scatter/gather negative sampling ADMM algorithm described above, and works as follows (for example on $b$):\n",
      "\n",
      "1. Initialize $b$ arbitrarily, or to previous value\n",
      "2. For each user $i$ generate a negative sample\n",
      "3. Repeat until convergence\n",
      "  1. Scatter sub-problems across users $i$\n",
      "  2. Gather solutions (proximal update/averaging)\n",
      "  3. Update dual variable\n",
      "  \n",
      "### Parallel-NEG\n",
      "This is the parallelized user updates.  Since users are independent, this amounts to solving independent problems, and no gather operation is necessary.\n",
      "\n",
      "### ADMM\n",
      "This is similar to ADMM-NEG, excepting that the $w$-step does not require negative example samping.  This boils down to a standard, distributed convex optimization problem."
     ]
    },
    {
     "cell_type": "markdown",
     "metadata": {},
     "source": [
      "---\n",
      "# Practical considerations\n",
      "\n",
      "The original hypergraph playlister took a kitchen sink approach, and included the following classes of features:\n",
      "\n",
      "- Audio clusters\n",
      "- Era sets\n",
      "- Lyrics topic\n",
      "- CF clusters\n",
      "- Familiarity sets\n",
      "- Tag sets\n",
      "- Uniform\n",
      "- Conjunctions\n",
      "\n",
      "In this work, we can probably discard the CF and familiarity attributes, since they should be redundant with the latent factor and bias terms."
     ]
    },
    {
     "cell_type": "code",
     "collapsed": false,
     "input": [
      "import numpy as np\n",
      "import scipy.optimize\n",
      "import matplotlib.pyplot as plt\n",
      "%matplotlib inline"
     ],
     "language": "python",
     "metadata": {},
     "outputs": [],
     "prompt_number": 1
    },
    {
     "cell_type": "code",
     "collapsed": false,
     "input": [
      "d = 64\n",
      "n = int(5e3)\n",
      "\n",
      "b = np.random.randn(n).astype(np.float32)\n",
      "y = np.sign(np.random.randn(len(b))).astype(np.float32)\n",
      "om = np.abs(np.random.randn(len(b))).astype(np.float32) / 4\n",
      "\n",
      "om[y==1] = 1\n",
      "\n",
      "beta = np.random.randn(len(b))\n",
      "beta = (np.abs(beta) * beta * 4).astype(np.float32)\n",
      "\n",
      "u = np.random.randn(d).astype(np.float32)\n",
      "v = np.random.randn(len(b), d).astype(np.float32)\n",
      "\n",
      "rho = 1e-1"
     ],
     "language": "python",
     "metadata": {},
     "outputs": [],
     "prompt_number": 280
    },
    {
     "cell_type": "code",
     "collapsed": false,
     "input": [
      "uv = v.dot(u)\n",
      "\n",
      "def bias_obj(x):\n",
      "    \n",
      "    # compute objective\n",
      "    logistic = np.logaddexp(0, -y[r] * (uv[r] + x))\n",
      "    \n",
      "    f = rho / 2.0 * (x - beta[r])**2 + om[r] * logistic\n",
      "    \n",
      "    grad = rho * (x - beta[r]) - y[r] * om[r] / (1 + np.exp(y[r] * (uv[r] + x)))\n",
      "    \n",
      "    return f, grad"
     ],
     "language": "python",
     "metadata": {},
     "outputs": [],
     "prompt_number": 281
    },
    {
     "cell_type": "code",
     "collapsed": false,
     "input": [
      "uv = v.dot(u)\n",
      "\n",
      "def bias_obj_batch(x):\n",
      "    \n",
      "    # compute objective\n",
      "    logistic =  np.logaddexp(0, - y * (uv + x))\n",
      "    \n",
      "    f = rho / 2.0 * np.sum((x - beta)**2) + om.dot( logistic)\n",
      "    \n",
      "    grad = rho * (x - beta) - y * om / (1.0 + np.exp(y * (uv + x)))\n",
      "    \n",
      "    return f, grad"
     ],
     "language": "python",
     "metadata": {},
     "outputs": [],
     "prompt_number": 282
    },
    {
     "cell_type": "code",
     "collapsed": false,
     "input": [
      "def user_obj(x):\n",
      "    \n",
      "    # Compute the objective\n",
      "    \n",
      "    scores = y * (v.dot(x) + b)\n",
      "    \n",
      "    f = 0.5 * np.sum(x**2) + om.dot(np.logaddexp(0, -scores))\n",
      "    \n",
      "    grad = x - v.T.dot(y * om / (1.0 + np.exp(scores)))\n",
      "    \n",
      "    return f, grad"
     ],
     "language": "python",
     "metadata": {},
     "outputs": [],
     "prompt_number": 283
    },
    {
     "cell_type": "code",
     "collapsed": false,
     "input": [
      "r = 12"
     ],
     "language": "python",
     "metadata": {},
     "outputs": [],
     "prompt_number": 284
    },
    {
     "cell_type": "code",
     "collapsed": false,
     "input": [
      "u0 = np.zeros_like(u)"
     ],
     "language": "python",
     "metadata": {},
     "outputs": [],
     "prompt_number": 285
    },
    {
     "cell_type": "code",
     "collapsed": false,
     "input": [
      "%timeit x_user, x_value, diagnostic = scipy.optimize.fmin_l_bfgs_b(user_obj, u0)\n",
      "x_user, x_value, diagnostic = scipy.optimize.fmin_l_bfgs_b(user_obj, u, disp=1, )\n",
      "print diagnostic"
     ],
     "language": "python",
     "metadata": {},
     "outputs": [
      {
       "output_type": "stream",
       "stream": "stdout",
       "text": [
        "100 loops, best of 3: 14.4 ms per loop\n",
        "{'warnflag': 0, 'task': 'CONVERGENCE: REL_REDUCTION_OF_F_<=_FACTR*EPSMCH', 'grad': array([ -4.79215566e-04,   7.30780333e-04,   5.06589232e-04,\n",
        "         2.53908261e-04,   2.09858729e-05,   1.16491544e-04,\n",
        "         8.86430471e-04,  -5.32217688e-04,  -1.78992617e-04,\n",
        "         1.08530734e-03,   5.23817930e-04,   3.36574962e-04,\n",
        "        -3.38209995e-04,  -1.27657781e-05,  -3.15256521e-05,\n",
        "        -4.55020299e-05,   4.92714980e-05,  -1.57142867e-05,\n",
        "         4.04703961e-05,   4.81643992e-04,   3.26325092e-04,\n",
        "         1.89580045e-04,  -6.20252186e-04,   4.27033297e-05,\n",
        "        -1.75750537e-04,   1.62004343e-04,  -2.89614812e-04,\n",
        "        -3.11579299e-04,  -1.09444799e-04,   7.14719222e-05,\n",
        "        -6.92005626e-04,  -9.43917469e-04,  -8.78191519e-04,\n",
        "        -1.71348247e-04,  -1.05633197e-05,   1.60899147e-04,\n",
        "        -7.62049912e-04,  -6.14546218e-04,   7.68707383e-05,\n",
        "         6.25842149e-04,  -6.39903398e-05,   1.72922219e-04,\n",
        "        -2.89976778e-04,  -4.06628016e-04,  -9.66150068e-05,\n",
        "        -2.72386444e-04,  -3.29428762e-04,  -5.40001967e-04,\n",
        "         2.98366699e-04,   6.63159800e-04,   1.23714888e-03,\n",
        "         1.26363851e-06,   7.45052120e-06,   1.38745258e-03,\n",
        "        -5.94981300e-04,  -6.95741667e-04,   1.34965417e-05,\n",
        "         5.72105352e-04,  -6.36174471e-04,  -3.81642156e-04,\n",
        "         6.32543998e-04,   8.12538729e-05,  -6.77882700e-04,\n",
        "        -8.32321040e-04]), 'nit': 9, 'funcalls': 12}\n"
       ]
      }
     ],
     "prompt_number": 286
    },
    {
     "cell_type": "code",
     "collapsed": false,
     "input": [
      "%timeit xb, xv, diagnostic = scipy.optimize.fmin_l_bfgs_b(bias_obj, 0)\n",
      "xb, xv, diagnostic = scipy.optimize.fmin_l_bfgs_b(bias_obj, 0)\n",
      "print diagnostic"
     ],
     "language": "python",
     "metadata": {},
     "outputs": [
      {
       "output_type": "stream",
       "stream": "stdout",
       "text": [
        "1000 loops, best of 3: 568 \u00b5s per loop\n",
        "{'warnflag': 0, 'task': 'CONVERGENCE: NORM_OF_PROJECTED_GRADIENT_<=_PGTOL', 'grad': array([ -7.71577247e-13]), 'nit': 4, 'funcalls': 6}\n"
       ]
      }
     ],
     "prompt_number": 287
    },
    {
     "cell_type": "code",
     "collapsed": false,
     "input": [
      "b0= np.zeros_like(b)"
     ],
     "language": "python",
     "metadata": {},
     "outputs": [],
     "prompt_number": 288
    },
    {
     "cell_type": "code",
     "collapsed": false,
     "input": [
      "%timeit xb, xvv, diagnostic = scipy.optimize.fmin_l_bfgs_b(bias_obj_batch, b0)\n",
      "xb, xvv, diagnostic = scipy.optimize.fmin_l_bfgs_b(bias_obj_batch, b0)\n",
      "print diagnostic"
     ],
     "language": "python",
     "metadata": {},
     "outputs": [
      {
       "output_type": "stream",
       "stream": "stdout",
       "text": [
        "10 loops, best of 3: 20.2 ms per loop\n",
        "{'warnflag': 0, 'task': 'CONVERGENCE: REL_REDUCTION_OF_F_<=_FACTR*EPSMCH', 'grad': array([  1.64034357e-05,  -6.34337503e-06,  -2.86994666e-07, ...,\n",
        "        -1.70186485e-08,   5.73792464e-08,  -2.92827043e-06]), 'nit': 13, 'funcalls': 17}\n"
       ]
      }
     ],
     "prompt_number": 292
    },
    {
     "cell_type": "code",
     "collapsed": false,
     "input": [
      "plt.plot(xb[:50])\n",
      "plt.plot(beta[:50], color='r', linestyle='--')"
     ],
     "language": "python",
     "metadata": {},
     "outputs": [
      {
       "metadata": {},
       "output_type": "pyout",
       "prompt_number": 293,
       "text": [
        "[<matplotlib.lines.Line2D at 0x7fb27e32d950>]"
       ]
      },
      {
       "metadata": {},
       "output_type": "display_data",
       "png": "[encoded data removed]",
       "text": [
        "<matplotlib.figure.Figure at 0x7fb27e32d050>"
       ]
      }
     ],
     "prompt_number": 293
    },
    {
     "cell_type": "code",
     "collapsed": false,
     "input": [
      "r = 27\n",
      "\n",
      "x = np.linspace(xb[r]-3.5, xb[r]+3.5, num=500)\n",
      "\n",
      "plt.plot(x, bias_obj(x)[0])\n",
      "#plt.vlines(xb[r:r+1], 0, max(bias_obj(x)[0]))\n",
      "plt.scatter(xb[r:r+1], [bias_obj(xb[r:r+1])[0]], c='r', s=100, marker='*')\n",
      "#plt.scatter(beta[r], bias_obj(beta[r])[0])\n",
      "#plt.axis('tight')\n",
      "plt.tight_layout()"
     ],
     "language": "python",
     "metadata": {},
     "outputs": [
      {
       "metadata": {},
       "output_type": "display_data",
       "png": "[encoded data removed]",
       "text": [
        "<matplotlib.figure.Figure at 0x7fb27e235a50>"
       ]
      }
     ],
     "prompt_number": 294
    },
    {
     "cell_type": "markdown",
     "metadata": {},
     "source": [
      "---\n",
      "## Rebuilding ismir2012 data\n"
     ]
    },
    {
     "cell_type": "code",
     "collapsed": false,
     "input": [
      "import cPickle as pickle"
     ],
     "language": "python",
     "metadata": {},
     "outputs": [],
     "prompt_number": 151
    },
    {
     "cell_type": "code",
     "collapsed": false,
     "input": [
      "H = scipy.sparse.eye(5, 3, format='lil')\n",
      "H[:,0] = True\n",
      "H = H.tocsr()"
     ],
     "language": "python",
     "metadata": {},
     "outputs": [],
     "prompt_number": 266
    },
    {
     "cell_type": "code",
     "collapsed": false,
     "input": [
      "z = np.random.randn(3)**2"
     ],
     "language": "python",
     "metadata": {},
     "outputs": [],
     "prompt_number": 267
    },
    {
     "cell_type": "code",
     "collapsed": false,
     "input": [
      "a1 = H.multiply( z)"
     ],
     "language": "python",
     "metadata": {},
     "outputs": [],
     "prompt_number": 268
    },
    {
     "cell_type": "code",
     "collapsed": false,
     "input": [
      "a1"
     ],
     "language": "python",
     "metadata": {},
     "outputs": [
      {
       "metadata": {},
       "output_type": "pyout",
       "prompt_number": 269,
       "text": [
        "matrix([[ 1.49677436,  0.        ,  0.        ],\n",
        "        [ 1.49677436,  0.6567584 ,  0.        ],\n",
        "        [ 1.49677436,  0.        ,  0.22633055],\n",
        "        [ 1.49677436,  0.        ,  0.        ],\n",
        "        [ 1.49677436,  0.        ,  0.        ]])"
       ]
      }
     ],
     "prompt_number": 269
    },
    {
     "cell_type": "code",
     "collapsed": false,
     "input": [
      "a1 /= np.sum(a1, axis=1)"
     ],
     "language": "python",
     "metadata": {},
     "outputs": [],
     "prompt_number": 270
    },
    {
     "cell_type": "code",
     "collapsed": false,
     "input": [
      "a1"
     ],
     "language": "python",
     "metadata": {},
     "outputs": [
      {
       "metadata": {},
       "output_type": "pyout",
       "prompt_number": 271,
       "text": [
        "matrix([[ 1.        ,  0.        ,  0.        ],\n",
        "        [ 0.69503208,  0.30496792,  0.        ],\n",
        "        [ 0.86864958,  0.        ,  0.13135042],\n",
        "        [ 1.        ,  0.        ,  0.        ],\n",
        "        [ 1.        ,  0.        ,  0.        ]])"
       ]
      }
     ],
     "prompt_number": 271
    },
    {
     "cell_type": "code",
     "collapsed": false,
     "input": [
      "(H * H[2].T).todense()"
     ],
     "language": "python",
     "metadata": {},
     "outputs": [
      {
       "metadata": {},
       "output_type": "pyout",
       "prompt_number": 272,
       "text": [
        "matrix([[ 1.],\n",
        "        [ 1.],\n",
        "        [ 2.],\n",
        "        [ 1.],\n",
        "        [ 1.]])"
       ]
      }
     ],
     "prompt_number": 272
    },
    {
     "cell_type": "code",
     "collapsed": false,
     "input": [
      "H[1].todense()"
     ],
     "language": "python",
     "metadata": {},
     "outputs": [
      {
       "metadata": {},
       "output_type": "pyout",
       "prompt_number": 217,
       "text": [
        "matrix([[ 0.,  1.,  0.]])"
       ]
      }
     ],
     "prompt_number": 217
    },
    {
     "cell_type": "code",
     "collapsed": false,
     "input": [
      "ZZ = np.zeros((5, 3))"
     ],
     "language": "python",
     "metadata": {},
     "outputs": [],
     "prompt_number": 299
    },
    {
     "cell_type": "markdown",
     "metadata": {},
     "source": [
      "---\n",
      "### OLD STUFF\n",
      "\n",
      "Down here be dragons"
     ]
    },
    {
     "cell_type": "markdown",
     "metadata": {},
     "source": [
      "# Optimization\n",
      "\n",
      "Model parameters $U, V, b, w$ will be optimized by alternating block-coordinate ascent.  \n",
      "\n",
      "## U, V, b\n",
      "\n",
      "With $w$ fixed, we can lower-bound each bigram's log-likehood by the following bi-concave function\n",
      "\n",
      "$$\n",
      "\\phi_{i, s, t}(U, V, b) = \\mathsf{tr}\\left(\\mathsf{e}_i^\\mathsf{T} U^\\mathsf{T} V \\mathsf{e}_t\\right) + b_t - \\sum_{e \\in E}p_e^{s,t} \\log H_{\\cdot, e}^\\mathsf{T} \\exp\\{\\mathsf{e}_i^\\mathsf{T} U^\\mathsf{T} V + b\\}\n",
      "$$\n",
      "\n",
      "$$\n",
      "p^{s,t}_e = \\frac{H_{s,e} H_{t, e} \\exp\\{w_e\\} }{ (H_s \\odot H_t)^\\mathsf{T} \\exp\\{w\\}}\n",
      "$$\n",
      "and then optimize by summing over observations\n",
      "\n",
      "$$\n",
      "\\max_{U, V, b} g_U(U) + g_V(V) + g_b(b) + \\sum_{i} \\sum_{(s,t)\\in y_i} \\phi_{i, s,t}(U, V, b)\n",
      "$$\n",
      "\n",
      "where $g_\\cdot(\\cdot)$ encode log-priors (or regularization penalties) on the various parameters.\n",
      "\n",
      "Each block of parameters $(U, V, b)$ will be updated while holding the remaining variables fixed."
     ]
    }
   ],
   "metadata": {}
  }
 ]
}