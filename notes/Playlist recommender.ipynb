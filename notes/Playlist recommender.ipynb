{
 "metadata": {
  "name": "",
  "signature": "sha256:ee88a795f60c251dc2fe70134b941cbd02b27ff233b445bb00227febde3e7f91"
 },
 "nbformat": 3,
 "nbformat_minor": 0,
 "worksheets": [
  {
   "cells": [
    {
     "cell_type": "markdown",
     "metadata": {},
     "source": [
      "# Playlist recommender\n",
      "\n",
      "This notebook explicates the Personalized HYperGraph RAndom WalK (PHYG-RAWK).\n",
      "\n",
      "### Process\n",
      "\n",
      "For a user $i$, a playlist over the song library $\\mathcal{X}$ is generated according to the following process:\n",
      "\n",
      "1. Select a subset $e \\subseteq \\mathcal{X}$ of songs\n",
      "2. Select a song $x_t \\in e$ according to a preference model\n",
      "3. Select a new subset $e \\ni x_t$ containing the previously selected song\n",
      "4. Goto 2\n",
      "\n",
      "This process will be characterized mathematically below.  Note that the process is first-order Markov over alternating selections of subsets $e$ and songs $x$.  As such, the likelihood function of an observed sequence factors into an initial selection and collection of bigrams.\n",
      " \n",
      "Without loss of generality, we will associate with each user $i$ a collection of observed bigrams $y_i = \\{(s, t)\\}$, where $(s, t)$ range over pairs of song identifiers, and the special token $s=-1$ indicates an initial selection.  This will simplify notation below."
     ]
    },
    {
     "cell_type": "markdown",
     "metadata": {},
     "source": [
      "### Notation\n",
      "\n",
      "Data:\n",
      "\n",
      "- Let $i \\in [m]$ index the set of $m$ users, and let $s, t \\in \\{-1\\} \\cup [|\\mathcal{X}|]$ index track identifiers (including the null-track $-1$).\n",
      "\n",
      "- Let $H \\in \\{0, 1\\}^{m \\times n}$ indicate the songs-by-subset affinity matrix (aka, the hypergraph edge membership or incident matrix).\n",
      "\n",
      "- Let $E \\subseteq 2^\\mathcal{X}$ denote a collection of subsets\n",
      "\n",
      "Parameters:\n",
      "\n",
      "- Let $U \\in \\mathbb{R}^{m\\times d}$ encode a latent factor representation of the users, and similarly for $V \\in \\mathbb{R}^{|\\mathcal{X}|\\times d}$.  \n",
      "\n",
      "- Let $b \\in \\mathbb{R}^{|\\mathcal{X}|}$ encode the item bias.  \n",
      "\n",
      "- Let $w \\in \\mathbb{R}^{|E|}$ denote subset weights.\n",
      "\n",
      "Distributions:\n",
      "\n",
      "- Song and subset selections will be distributed by multinomial logistic regression: \n",
      "  - $P[ x_t | u_i, V, b ] \\propto \\exp\\{u_i^\\mathsf{T} v_t + b_t\\}$\n",
      "  - $P[ w_e ] \\propto \\exp\\{w_e\\}$"
     ]
    },
    {
     "cell_type": "markdown",
     "metadata": {},
     "source": [
      "---"
     ]
    },
    {
     "cell_type": "markdown",
     "metadata": {},
     "source": [
      "# Noise-contrastive estimation\n",
      "\n",
      "An alternative learning strategy follows BPR-MF (Rendle, et al. 2009) and word2vec (Mikolov, 2013) by replacing the generative optimization problem with a discriminative task.  This method is inspired by the noise-contrastive estimation method of (Gutmann and Hyvarinen, JMLR 2012).\n",
      "\n",
      "Specifically, we synthesize a collection of negative bigrams for each user, and rather than optimize $P[x_t | u_i, x_s, V, b]$, we optimize $P[Y_{i,s,t}=1|u_i, x_s, x_t, V, b]$ for the true samples, and $P[Y_{i,s,r} \\neq 1| u_i, x_s, x_r, V, b]$ for the synthetic negative examples $r$.\n",
      "\n",
      "We can tighten this idea a bit by going back to the original (log-)distribution which marginalizes over edge selection:\n",
      "\n",
      "$$\n",
      "\\log P[X = x_t ~|~ x_s, u_i, V, b, w] = \\log \\left( \\sum_{e} P[E=e ~|~ x_s, w] P[X = x_t ~|~ e, u_i, V, b] \\right)\n",
      "$$\n",
      "\n",
      "Via some convex shenanigans and discarding some additive normalization constants (over edges), we can replace the above likelihood with a convex combination of soft-maxes:\n",
      "\n",
      "$$\n",
      "\\gtrsim \\sum_e p_e^{s,t} \\log \\left(\\frac{\\exp\\{u_i^\\mathsf{T}V\\mathsf{e}_t + b_t\\}}{\\sum_{r \\in e} \\exp\\{u_i^\\mathsf{T}V\\mathsf{e}_r + b_r\\} } \\right)\n",
      "$$\n",
      "\n",
      "where\n",
      "\n",
      "$$\n",
      "p^{s,t}_e = \\frac{H_{s,e} H_{t, e} \\exp\\{w_e\\} }{ (H_s \\odot H_t)^\\mathsf{T} \\exp\\{w\\}}\n",
      "$$\n",
      "\n",
      "This latter distribution is amenable to surrogate optimization via noise-contrastive estimation over the subset $e$.  This would result in an objective of the form\n",
      "\n",
      "$$\n",
      "- \\sum_e p_e^{s,t} \\left( \\log \\left(1 + \\exp\\{-u_i^\\mathsf{T} v_t - b_t\\} \\right) + \\sum_{r \\in Y_{i,s,e}} \\log \\left(1 + \\exp\\{u_i^\\mathsf{T} v_r + b_r\\} \\right) \\right)\n",
      "$$\n",
      "\n",
      "Turning this into a convex minimization problem, we get the point-wise loss function:\n",
      "$$\n",
      "\\varphi_{i,s,t}(U, V, b) =  \\log \\left(1 + \\exp\\{-u_i^\\mathsf{T} v_t - b_t\\} \\right) + \\sum_e p_e^{s,t} \\left( \\sum_{r \\in Y_{i,s,e}} \\log \\left(1 + \\exp\\{u_i^\\mathsf{T} v_r + b_r\\} \\right) \\right)\n",
      "$$\n",
      "\n",
      "$$\n",
      "\\min_{U,V,b} g_U(U) + g_V(V) + g_b(b) + \\sum_i \\sum_{s,t \\in y_i} \\varphi_{i,s,t}(U, V, b)\n",
      "$$\n",
      "\n",
      "where $Y_{i,s,e}$ is a sample of tracks from the noise distribution conditional on the user $i$, previous song $s$ and edge $e$.  Note that this objective is bi-concave in $U$ and $V$."
     ]
    },
    {
     "cell_type": "markdown",
     "metadata": {},
     "source": [
      "## Distributed optimization\n",
      "\n",
      "### U-step\n",
      "\n",
      "The u-step is embarrasingly parallel, since the objective is separable in the columns of $U$.  \n",
      "NCE can be employed here to accelerate training for each user.  \n",
      "\n",
      "At $U$ step, we separate the problem into $m$ sub-problems, one for each column $u_i$.  For each sub-problem, we draw a sample of $n_-$ random negative tracks $\\overline{Y}$, ie, tracks which the user is not known to have consumed.  We then optimize the following objective\n",
      "\n",
      "$$\n",
      "u_i \\leftarrow \\text{arg}\\min_u g_u(u) + \\sum_{(s,t) \\in y_i} \\log\\left(1 + \\exp\\{-u^\\mathsf{T}v_t - b_t\\}\\right) + \\sum_e p_e^{s,t} \\sum_{r \\in \\overline{Y} \\cap e} \\log\\left(1 + \\exp\\{u^\\mathsf{T} v_r + b_r\\}\\right)\n",
      "$$\n",
      "\n",
      "In order to ensure that the objective above has sufficiently useful noise terms, we can generate $\\overline{Y}$ by a union of edge-conditional negative samples, based on total the edge usage over prior tracks $s$.  Similarly, negative samples can be pooled per-user over all bigrams $(s,t)$ to improve efficiency, and limit the total amount number of song factors $(v_r, b_r)$ accessed in the user's update.\n",
      "\n",
      "Each user vector update can be interpreted as a regularized logistic regression over positive and negative examples of selected tracks, but with calibrated bias terms $b$ and importance weights derived from the edge transition probabilities.  More specifically, the importance weight $\\omega_r$ for a negative example $r$ can be computed as\n",
      "\n",
      "$$\n",
      "\\omega_{r} = \\begin{cases}\n",
      "1 & \\exists s : (s, r) \\in y_i\\\\\n",
      "\\sum_{(s, t) \\in y_i} \\sum_e p_e^{s,t} H_{r, e}, & r \\in \\overline{Y}\n",
      "\\end{cases}\n",
      "$$\n",
      "\n",
      "resulting in the objective\n",
      "\n",
      "$$\n",
      "u_i \\leftarrow \\text{arg}\\min_u g_u(u) + \\sum_{(s,t) \\in y_i} \\omega_t \\log\\left(1 + \\exp\\{-u^\\mathsf{T}v_t - b_t\\}\\right) + \\sum_{r \\in \\overline{Y}} \\omega_{r} \\log\\left(1 + \\exp\\{u^\\mathsf{T} v_r + b_r\\}\\right)\n",
      "$$\n",
      "\n",
      "or, more compactly,\n",
      "\n",
      "$$\n",
      "u_i \\leftarrow \\text{arg}\\min_u g_u(u) + \\sum_{r \\in B_i} \\omega_r \\log\\left(1 + \\exp\\{-y_r (u^\\mathsf{T} v_r + b_r) \\} \\right)\n",
      "$$\n",
      "\n",
      "Typically, an individual user will have a relatively small number of tracks (most less than 30), and the latent factors often be low-dimensional (ie less than 32), so each of these problems can be solved quite efficiently by quasi-newton methods."
     ]
    },
    {
     "cell_type": "markdown",
     "metadata": {},
     "source": [
      "### V-step\n",
      "\n",
      "The v-steps are interdependent, but since the NCE surrogate objective is convex, it is amenable to distributed optimization via ADMM.\n",
      "\n",
      "One possibility here is to clone $V$ into matrices $V$ and $A_i$ with contraints $V = A_i$ for all $i$, where $i$ ranges over users.  Then, we can solve user-specific optimizations over $A_i$ in parallel via ADMM scatter/gather.  \n",
      "\n",
      "To reduce memory, each user problem $A_i$ can operate on a small set of vectors determined by a shared sample $Y_{i,\\cdot}$.  This way, only the corresponding columns will be updated.  This also results in fewer, slightly larger, subproblems because there tend to be fewer users than items.  More precisely, this is encoded by constraints $A_i = S_iV$, where $S_i \\in \\{0, 1\\}^{n_i \\times |\\mathcal{X}|}$ are sparse binary row-selector matrices.\n",
      "\n",
      "The ADMM algorithm for the $V$ step would look as follows:\n",
      "\n",
      "- (Scatter) For each user $i$:\n",
      "  - $A_i \\leftarrow \\text{arg}\\min_{A} \\ell_i(A) + \\frac{\\rho}{2} \\|A - S_iV + \\Lambda_i\\|^2$\n",
      "- (Gather) $V \\leftarrow \\text{arg}\\min_V g_V(V) + \\frac{\\rho}{2} \\sum_i \\|S_iV - A_i - \\Lambda_i\\|^2$\n",
      "- (Residual) $\\Lambda_i \\leftarrow \\Lambda_i + A_i - S_iV$\n",
      "\n",
      "where $\\ell_i(A)$ denotes the noise-contrastive estimator for user $i$ as described in the $U$-step, except now optimizing over the item terms for a fixed user.  Note that each $A_i$ sub-problem only touches the columns of $V$ corresponding to $y_i \\cup \\overline{Y}_i$, so these problems will be relatively small; the remaining columns can simply be inferred from $V$, resulting in no penalty.\n",
      "\n",
      "Note that the $A_i$ subproblems are column-separable (track-separable) problems of the general form\n",
      "\n",
      "$$\n",
      "\\min_{x\\in \\mathbb{R}^d} \\frac{\\rho}{2} \\|x - z_r\\|^2 + \\omega_r\\log\\left(1 + \\exp\\left\\{-y_r(u_i^\\mathsf{T}x + b_r)\\right\\} \\right)\n",
      "$$\n",
      "\n",
      "where $r$ indexes the track, $z_r = (S_iV - \\Lambda_i)_r$ encodes the residual penalty, $y_r \\in [+1,-1,0]$ encodes whether the sample is positive, negative, or not sampled; and $\\omega_r$ is the importance weight for the sample (1 for positive, or as above if negative).  Note that in the case $y_r=0$, the unique optimum is $z_r$.\n",
      "\n",
      "In order for this method to converge properly, the negative samples should be fixed across all iterations of the ADMM loop.  However, new samples can be drawn at each outer-loop iteration.\n",
      "\n",
      "#### V.V-step\n",
      "\n",
      "With a gaussian prior on $V$, the inner-loop updates take the form\n",
      "\n",
      "$$\n",
      "V^{t+1} \\leftarrow  \\left(\\frac{1}{\\rho \\sigma_v^2} I + \\sum_i S_i^\\mathsf{T} S_i \\right)^{-1} \\left( \\sum_i S_i^\\mathsf{T} \\left(A^{t+1}_i + \\Lambda^t_i\\right) \\right) \n",
      "$$\n",
      "\n",
      "Note that since $S_i$ is column-orthogonal (each item is picked at most once per user), the inversion matrix is diagonal and therefore efficient to compute.  In fact, the matrix $\\sum_i S_i^\\mathsf{T} S_i$ simply counts along its diagonal how many sub-problems touch each item.  The update can thus be interpreted as a regularized average of the scattered subproblem solutions."
     ]
    },
    {
     "cell_type": "markdown",
     "metadata": {},
     "source": [
      "### b-step\n",
      "\n",
      "The architecture of the $b$ updates follows the $V$ step exactly, except that only the bias terms are adjusted.  Because the subproblems are separable and convex, each bias term can be updated independently as a scalar, convex minimization problem via bisection search.\n",
      "\n",
      "In practice, though, it is probably more efficient to solve over a batch of bias terms for each user in one go, eg, via LBGFS.\n",
      "\n",
      "This leads to the ADMM strategy:\n",
      "\n",
      "- (Scatter) For each user $i$:\n",
      "  - $c_i \\leftarrow \\text{arg}\\min_{c} \\ell_i(c) + \\frac{\\rho}{2} \\|c - S_ib + \\beta_i\\|^2$\n",
      "- (Gather) $b \\leftarrow \\text{arg}\\min_b g_b(b) + \\frac{\\rho}{2} \\sum_i \\|S_ib - c_i - \\beta_i\\|^2$\n",
      "- (Residual) $\\beta_i \\leftarrow \\beta_i + c_i - S_ib$\n",
      "\n",
      "where $S_i$ are user-specific row-selector matrices, and $\\beta_i$ are the corresponding scaled lagrangian parameters.\n",
      "\n",
      "Just as in the item factor step, the bias term updates take the form of regularized averages of subproblem solutions:\n",
      "\n",
      "\n",
      "$$\n",
      "b^{t+1} \\leftarrow  \\left(\\frac{1}{\\rho \\sigma_b^2} I + \\sum_i S_i^\\mathsf{T} S_i \\right)^{-1} \\left( \\sum_i S_i^\\mathsf{T} \\left(c^{t+1}_i + \\beta^t_i\\right) \\right) \n",
      "$$"
     ]
    },
    {
     "cell_type": "markdown",
     "metadata": {},
     "source": [
      "## w-step\n",
      "\n",
      "With $(U, V, b)$ fixed, the $w$ parameters can be optimized by lower-bounding the original objective in a slightly different way than above.  This leads to the concave surrogate for each user and bigram:\n",
      "\n",
      "$$\n",
      "\\nu_{i, s, t}(w) = \\left( \\frac{H_s \\odot H_t \\odot q^i}{(H_s \\odot H_t)^\\mathsf{T} q^i}\\right)^\\mathsf{T} w - \\log H_s^\\mathsf{T} \\exp\\{w\\}\n",
      "$$\n",
      "\n",
      "where\n",
      "\n",
      "$$\n",
      "q_e^i = \\frac{1}{H_{\\cdot,e}^\\mathsf{T} \\exp\\{u_i^\\mathsf{T} V + b \\}}\n",
      "$$\n",
      "\n",
      "denotes the affinity between user $i$ and subset $e$.\n",
      "\n",
      "The parameters $w$ are then optimized by maximizing the total penalized likelihood\n",
      "\n",
      "$$\n",
      "\\max_{w} g_w(w) + \\sum_{i} \\sum_{(s,t)\\in y_i} \\nu_{i, s, t}(w)\n",
      "$$\n",
      "\n",
      "Note that the first term of $\\nu$ is linear in $w$.  We can then collect terms by first computing a vector\n",
      "\n",
      "$$\n",
      "Z := \\sum_i Z_i, \\quad\\quad Z_i:= \\sum_{(s,t) \\in y_i} \\frac{H_{s} \\odot H_t \\odot q^i}{(H_{s} \\odot H_t)^\\mathsf{T} q^i}\n",
      "$$\n",
      "\n",
      "Similarly, the second term depends only on the previous song-selections.  Let $N \\in \\mathbb{Z}_+^{|\\mathcal{X}|}$\n",
      "\n",
      "$$\n",
      "N_s :=\\sum_i \\sum_{(s,t) \\in y_i} 1\n",
      "\\quad\\text{and}\\quad\n",
      "N_{-1} := \\sum_i |y_i|\n",
      "$$\n",
      "\n",
      "then the $w$ objective can be rewritten as\n",
      "\n",
      "$$\n",
      "\\min_w g_w(w) - Z^\\mathsf{T}w + \\sum_{s \\in \\mathcal{X}} N_s \\log H_s^\\mathsf{T} \\exp\\{w\\} + N_{-1} \\log\\sum\\exp\\{w\\}\n",
      "$$"
     ]
    },
    {
     "cell_type": "markdown",
     "metadata": {},
     "source": [
      "## edge gradient\n",
      "\n",
      "$$\n",
      "\\nabla_w g - Z + \\left(N_{-1} \\frac{\\exp\\{w\\}}{\\mathbf{1}^\\mathsf{T} \\exp\\{w\\}} + \\sum_{s \\in \\mathcal{X}} N_s \\frac{H_s \\odot \\exp\\{w\\}}{H_s^\\mathsf{T} \\exp\\{w\\}}\\right)\n",
      "$$"
     ]
    },
    {
     "cell_type": "markdown",
     "metadata": {},
     "source": [
      "---\n",
      "## Tying it all together\n",
      "\n",
      "The learning algorithm looks as follows:\n",
      "\n",
      "1. Initialize $U, V$.  Probably best to use an off the shelf (static) collaborative filter solver here.\n",
      "2. Initialize $w$ to all zeros, and $b$ to all zeros\n",
      "3. Repeat until convergence or exhaustion\n",
      "  1. (ADMM-NEG) $b$-step\n",
      "  2. (ADMM-NEG) $V$-step\n",
      "  3. (Parallel-NEG) $U$-step\n",
      "  4. (LBFGS) $w$-step\n",
      "  \n",
      "### ADMM-NEG\n",
      "This is the scatter/gather negative sampling ADMM algorithm described above, and works as follows (for example on $b$):\n",
      "\n",
      "1. Initialize $b$ arbitrarily, or to previous value\n",
      "2. For each user $i$ generate a negative sample\n",
      "3. Repeat until convergence\n",
      "  1. Scatter sub-problems across users $i$\n",
      "  2. Gather solutions (proximal update/averaging)\n",
      "  3. Update dual variable\n",
      "  \n",
      "### Parallel-NEG\n",
      "This is the parallelized user updates.  Since users are independent, this amounts to solving independent problems, and no gather operation is necessary.\n"
     ]
    },
    {
     "cell_type": "markdown",
     "metadata": {},
     "source": [
      "---\n",
      "# Practical considerations\n",
      "\n",
      "The original hypergraph playlister took a kitchen sink approach, and included the following classes of features:\n",
      "\n",
      "- Audio clusters\n",
      "- Era sets\n",
      "- Lyrics topic\n",
      "- CF clusters\n",
      "- Familiarity sets\n",
      "- Tag sets\n",
      "- Uniform\n",
      "- Conjunctions\n",
      "\n",
      "In this work, we can probably discard the CF and familiarity attributes, since they should be redundant with the latent factor and bias terms.\n",
      "\n",
      "# Stochastic ADMM\n",
      "\n",
      "If we use different negative samples at each $V$-step, there's a chance that some items may not be covered.  This suggests that a secondary proximal term $\\|V^{t+1} - V^{t}\\|^2$ should be added.\n",
      "\n",
      "*Above isn't quite true* .. each example exists as a positive for some user, so it must be covered."
     ]
    },
    {
     "cell_type": "code",
     "collapsed": false,
     "input": [
      "import numpy as np\n",
      "import scipy.optimize\n",
      "import matplotlib.pyplot as plt\n",
      "import seaborn\n",
      "import mpld3\n",
      "seaborn.set()\n",
      "mpld3.enable_notebook()\n",
      "%matplotlib inline\n",
      "np.set_printoptions(precision=3)"
     ],
     "language": "python",
     "metadata": {},
     "outputs": [],
     "prompt_number": 1
    },
    {
     "cell_type": "code",
     "collapsed": false,
     "input": [
      "d = 2\n",
      "n = int(1e3)\n",
      "\n",
      "b = np.random.randn(n).astype(np.float32)\n",
      "y = np.sign(np.random.randn(len(b)) - 1.0).astype(np.float32)\n",
      "om = np.abs(np.random.randn(len(b))).astype(np.float32) / 4\n",
      "\n",
      "om[y==1] = 1\n",
      "\n",
      "beta = np.random.randn(len(b))\n",
      "beta = (np.abs(beta) * beta * 4).astype(np.float32)\n",
      "\n",
      "u = np.random.randn(d).astype(np.float32)\n",
      "v = np.random.randn(len(b), d).astype(np.float32)\n",
      "v[y>0] += 3\n",
      "rho = 1e-2\n",
      "reg_user = 1e-3"
     ],
     "language": "python",
     "metadata": {},
     "outputs": [],
     "prompt_number": 2
    },
    {
     "cell_type": "code",
     "collapsed": false,
     "input": [
      "uv = v.dot(u)\n",
      "\n",
      "def bias_obj(x):\n",
      "    \n",
      "    # compute objective\n",
      "    logistic = np.logaddexp(0, -y[r] * (uv[r] + x))\n",
      "    \n",
      "    f = rho / 2.0 * (x - beta[r])**2 + om[r] * logistic\n",
      "    \n",
      "    grad = rho * (x - beta[r])\n",
      "    grad += - y[r] * om[r] / (1 + np.exp(y[r] * (uv[r] + x)))\n",
      "    \n",
      "    return f, grad"
     ],
     "language": "python",
     "metadata": {},
     "outputs": [],
     "prompt_number": 3
    },
    {
     "cell_type": "code",
     "collapsed": false,
     "input": [
      "uv = v.dot(u)\n",
      "\n",
      "def bias_obj_batch(x):\n",
      "    \n",
      "    # compute objective\n",
      "    logistic =  np.logaddexp(0, - y * (uv + x))\n",
      "    \n",
      "    f = rho / 2.0 * np.sum((x - beta)**2) + om.dot( logistic)\n",
      "    \n",
      "    grad = rho * (x - beta)\n",
      "    grad += - y * om / (1.0 + np.exp(y * (uv + x)))\n",
      "    \n",
      "    return f, grad"
     ],
     "language": "python",
     "metadata": {},
     "outputs": [],
     "prompt_number": 4
    },
    {
     "cell_type": "code",
     "collapsed": false,
     "input": [
      "def user_obj(x):\n",
      "    \n",
      "    # Compute the objective\n",
      "    \n",
      "    scores = y * (v.dot(x) + b)\n",
      "    \n",
      "    f = reg_user * 0.5 * np.sum(x**2) + om.dot(np.logaddexp(0, -scores))\n",
      "    \n",
      "    grad = reg_user * x \n",
      "    grad += -v.T.dot(y * om / (1.0 + np.exp(scores)))\n",
      "    \n",
      "    return f, grad"
     ],
     "language": "python",
     "metadata": {},
     "outputs": [],
     "prompt_number": 5
    },
    {
     "cell_type": "code",
     "collapsed": false,
     "input": [
      "r = 12"
     ],
     "language": "python",
     "metadata": {},
     "outputs": [],
     "prompt_number": 6
    },
    {
     "cell_type": "code",
     "collapsed": false,
     "input": [
      "u0 = np.zeros_like(u)"
     ],
     "language": "python",
     "metadata": {},
     "outputs": [],
     "prompt_number": 7
    },
    {
     "cell_type": "code",
     "collapsed": false,
     "input": [
      "%timeit x_user, x_value, diagnostic = scipy.optimize.fmin_l_bfgs_b(user_obj, u0)\n",
      "x_user, x_value, diagnostic = scipy.optimize.fmin_l_bfgs_b(user_obj, u, disp=1, )\n",
      "diagnostic"
     ],
     "language": "python",
     "metadata": {},
     "outputs": [
      {
       "output_type": "stream",
       "stream": "stdout",
       "text": [
        "1000 loops, best of 3: 1.1 ms per loop\n"
       ]
      },
      {
       "metadata": {},
       "output_type": "pyout",
       "prompt_number": 8,
       "text": [
        "{'funcalls': 11,\n",
        " 'grad': array([  1.440e-05,   1.124e-05]),\n",
        " 'nit': 10,\n",
        " 'task': 'CONVERGENCE: REL_REDUCTION_OF_F_<=_FACTR*EPSMCH',\n",
        " 'warnflag': 0}"
       ]
      }
     ],
     "prompt_number": 8
    },
    {
     "cell_type": "code",
     "collapsed": false,
     "input": [
      "%timeit xb, xv, diagnostic = scipy.optimize.fmin_l_bfgs_b(bias_obj, 0)\n",
      "xb, xv, diagnostic = scipy.optimize.fmin_l_bfgs_b(bias_obj, 0)\n",
      "diagnostic"
     ],
     "language": "python",
     "metadata": {},
     "outputs": [
      {
       "output_type": "stream",
       "stream": "stdout",
       "text": [
        "10000 loops, best of 3: 136 \u00b5s per loop\n"
       ]
      },
      {
       "metadata": {},
       "output_type": "pyout",
       "prompt_number": 9,
       "text": [
        "{'funcalls': 3,\n",
        " 'grad': array([  3.573e-06]),\n",
        " 'nit': 1,\n",
        " 'task': 'CONVERGENCE: NORM_OF_PROJECTED_GRADIENT_<=_PGTOL',\n",
        " 'warnflag': 0}"
       ]
      }
     ],
     "prompt_number": 9
    },
    {
     "cell_type": "code",
     "collapsed": false,
     "input": [
      "b0= np.zeros_like(b)"
     ],
     "language": "python",
     "metadata": {},
     "outputs": [],
     "prompt_number": 10
    },
    {
     "cell_type": "code",
     "collapsed": false,
     "input": [
      "%timeit xb, xvv, diagnostic = scipy.optimize.fmin_l_bfgs_b(bias_obj_batch, b0)\n",
      "xb, xvv, diagnostic = scipy.optimize.fmin_l_bfgs_b(bias_obj_batch, b0)\n",
      "diagnostic"
     ],
     "language": "python",
     "metadata": {},
     "outputs": [
      {
       "output_type": "stream",
       "stream": "stdout",
       "text": [
        "100 loops, best of 3: 6.05 ms per loop\n"
       ]
      },
      {
       "metadata": {},
       "output_type": "pyout",
       "prompt_number": 11,
       "text": [
        "{'funcalls': 31,\n",
        " 'grad': array([ -1.864e-06,  -8.090e-07,  -2.233e-07,   9.846e-06,  -9.011e-07,\n",
        "         -1.088e-06,   3.192e-06,  -2.409e-06,   4.633e-06,  -1.181e-06,\n",
        "         -5.751e-06,  -1.775e-06,  -1.744e-07,  -7.684e-07,  -3.609e-07,\n",
        "         -4.227e-06,   3.103e-06,  -6.241e-07,  -4.523e-06,   3.770e-06,\n",
        "         -2.421e-07,  -3.155e-06,  -4.452e-08,   3.774e-06,   4.187e-08,\n",
        "         -5.591e-07,   2.118e-06,   8.696e-08,  -3.089e-06,  -4.055e-07,\n",
        "          2.581e-06,   1.325e-06,  -3.853e-07,  -1.373e-06,   6.841e-06,\n",
        "         -4.503e-06,   1.799e-06,  -7.730e-07,   2.265e-06,   4.306e-06,\n",
        "         -1.710e-06,  -1.821e-05,   2.145e-06,  -1.617e-06,   1.557e-06,\n",
        "         -9.233e-07,   1.839e-07,   2.757e-06,   9.451e-08,   8.996e-06,\n",
        "         -2.915e-06,   1.046e-07,  -1.742e-07,   3.373e-06,  -3.248e-06,\n",
        "         -1.597e-07,   3.016e-06,  -1.341e-06,   1.342e-06,   1.018e-06,\n",
        "          2.644e-06,  -1.251e-07,  -1.106e-06,  -2.567e-07,   1.217e-06,\n",
        "         -5.750e-07,   5.050e-06,   3.541e-06,   1.040e-06,  -2.292e-06,\n",
        "         -2.558e-06,   1.550e-06,  -5.764e-07,   9.032e-06,   6.779e-06,\n",
        "         -2.538e-06,  -2.194e-06,   2.163e-06,   4.479e-07,  -4.098e-06,\n",
        "          2.722e-06,  -1.370e-06,   3.357e-06,  -2.248e-07,  -1.065e-06,\n",
        "         -5.155e-07,  -3.947e-06,   2.918e-06,   2.881e-06,  -1.446e-06,\n",
        "          5.655e-06,  -1.381e-06,   2.074e-06,   2.971e-06,  -2.599e-07,\n",
        "          5.189e-06,   7.387e-07,  -8.545e-06,   4.476e-06,   1.902e-06,\n",
        "          2.946e-06,  -1.816e-06,   2.392e-07,  -7.038e-07,  -1.353e-06,\n",
        "         -1.305e-06,   9.355e-07,  -2.179e-06,  -2.974e-08,  -5.042e-08,\n",
        "         -2.504e-06,   1.106e-06,  -4.051e-07,  -2.604e-06,   6.822e-07,\n",
        "          3.265e-06,   2.926e-06,   2.951e-07,   3.350e-06,   1.637e-06,\n",
        "          3.397e-06,  -3.819e-07,   2.072e-06,   2.739e-06,  -2.504e-06,\n",
        "         -1.375e-07,   6.205e-06,  -1.557e-07,   1.473e-06,  -4.154e-07,\n",
        "         -1.353e-06,  -2.860e-06,  -9.410e-07,  -5.464e-07,  -3.027e-06,\n",
        "         -2.916e-07,   1.102e-06,   1.334e-06,   7.590e-06,  -8.402e-06,\n",
        "          3.178e-06,   2.938e-06,   6.614e-06,  -5.126e-07,   3.010e-06,\n",
        "          3.042e-06,  -8.695e-07,  -2.264e-06,  -2.303e-06,  -1.569e-06,\n",
        "          3.232e-06,   3.065e-06,  -1.177e-06,  -1.016e-06,   5.771e-07,\n",
        "         -1.630e-06,   6.281e-06,   1.811e-07,  -8.844e-07,  -7.478e-07,\n",
        "          1.894e-07,  -1.156e-08,   4.491e-06,   1.893e-07,  -1.206e-06,\n",
        "         -7.073e-06,  -3.200e-06,  -5.190e-07,  -1.795e-06,   3.726e-07,\n",
        "          7.892e-08,   3.866e-06,   3.484e-06,  -1.132e-06,  -5.301e-06,\n",
        "          5.264e-06,  -2.314e-06,   2.534e-06,   4.161e-07,   3.275e-06,\n",
        "          9.559e-07,   1.953e-05,  -2.974e-06,  -2.665e-08,   5.741e-07,\n",
        "         -2.061e-06,   3.253e-06,  -1.407e-06,  -3.329e-06,   5.634e-06,\n",
        "         -5.625e-07,   9.142e-07,  -2.628e-06,   2.662e-06,   1.283e-06,\n",
        "         -8.374e-07,  -6.704e-07,   4.859e-07,  -8.325e-07,  -1.289e-06,\n",
        "          3.308e-06,  -7.685e-07,   1.101e-07,   6.251e-07,   4.798e-08,\n",
        "          3.001e-06,  -7.336e-07,  -1.096e-08,  -2.982e-06,   1.317e-06,\n",
        "          5.563e-07,   5.691e-06,  -6.735e-07,   2.110e-06,   1.008e-06,\n",
        "         -1.977e-05,  -6.198e-07,   3.524e-06,   1.068e-06,  -3.362e-06,\n",
        "          1.379e-06,  -4.385e-06,   1.984e-06,  -3.977e-07,  -7.011e-07,\n",
        "          5.597e-06,  -5.998e-07,  -2.256e-06,  -2.606e-07,  -2.077e-06,\n",
        "         -3.100e-07,   5.290e-06,   5.245e-07,  -5.931e-07,  -3.561e-06,\n",
        "          2.479e-06,   8.494e-07,   5.745e-06,  -1.589e-06,  -1.963e-07,\n",
        "          2.874e-06,   1.563e-06,   2.678e-06,   1.019e-07,   1.972e-06,\n",
        "         -1.242e-06,   1.590e-06,   2.978e-07,   2.255e-06,   4.218e-07,\n",
        "         -3.394e-06,  -2.239e-06,  -8.270e-07,  -7.007e-06,   2.434e-06,\n",
        "         -3.465e-07,  -2.660e-07,  -1.102e-06,   1.552e-06,  -1.943e-07,\n",
        "         -3.032e-07,  -3.205e-06,  -3.767e-06,   8.075e-06,  -3.474e-07,\n",
        "          2.483e-06,  -2.522e-07,  -2.129e-06,   4.673e-06,   1.554e-06,\n",
        "         -1.430e-06,  -1.043e-05,  -4.021e-06,  -1.476e-06,   4.712e-07,\n",
        "          2.987e-07,   2.008e-07,   2.739e-06,   6.059e-05,  -1.326e-06,\n",
        "         -1.717e-05,   9.301e-07,   4.602e-06,   2.406e-06,  -2.286e-06,\n",
        "          1.760e-05,  -7.166e-06,   1.918e-06,  -2.127e-06,  -8.514e-07,\n",
        "          3.954e-06,  -8.732e-07,  -1.833e-06,   1.536e-06,   1.438e-06,\n",
        "         -2.196e-06,   1.520e-06,   2.980e-06,   7.160e-08,   1.671e-06,\n",
        "          2.215e-06,   4.203e-06,   9.864e-08,  -2.729e-06,   4.359e-07,\n",
        "          2.838e-08,  -3.624e-07,   1.811e-06,   2.120e-06,  -4.772e-06,\n",
        "         -2.282e-06,   2.240e-06,  -9.577e-07,   2.872e-06,   1.788e-06,\n",
        "          2.069e-06,   2.383e-07,   2.821e-06,   1.805e-06,   3.992e-06,\n",
        "          1.734e-06,   1.892e-06,  -2.632e-06,   2.090e-06,   1.778e-06,\n",
        "          1.105e-06,   8.876e-07,  -2.441e-06,  -2.513e-06,   3.854e-07,\n",
        "          8.426e-07,   1.015e-05,  -2.764e-06,  -3.689e-06,  -3.084e-06,\n",
        "         -1.495e-06,   1.870e-06,  -9.355e-07,   4.400e-06,   6.495e-06,\n",
        "          8.208e-08,   8.034e-07,  -6.857e-07,  -6.444e-07,  -3.268e-07,\n",
        "         -2.439e-06,   4.880e-07,   3.449e-06,  -1.547e-07,   2.173e-06,\n",
        "          2.793e-06,  -1.237e-07,   9.067e-07,   1.577e-06,  -1.399e-07,\n",
        "          1.456e-06,  -2.737e-06,  -1.848e-06,   4.648e-06,  -5.491e-07,\n",
        "         -2.366e-05,   6.348e-06,   1.925e-06,  -3.025e-06,  -1.343e-07,\n",
        "          5.819e-07,  -2.223e-06,   1.707e-06,  -1.023e-06,  -6.978e-06,\n",
        "         -3.706e-07,  -2.617e-06,   1.922e-06,  -1.250e-06,  -2.340e-06,\n",
        "         -1.780e-06,  -3.771e-06,   3.473e-06,   1.056e-05,   1.145e-06,\n",
        "          1.107e-06,   2.024e-07,  -1.191e-06,   4.203e-06,  -1.029e-06,\n",
        "          6.336e-06,   1.000e-06,   2.020e-06,  -9.009e-07,  -3.199e-07,\n",
        "          2.387e-06,  -1.434e-06,   2.573e-06,  -2.392e-06,  -7.493e-07,\n",
        "         -2.623e-06,   2.374e-06,  -1.369e-06,  -6.383e-07,  -1.421e-06,\n",
        "         -1.380e-06,   8.044e-07,  -2.079e-06,   1.677e-06,   4.436e-09,\n",
        "         -4.904e-06,  -3.200e-06,  -4.141e-07,  -3.532e-07,  -2.473e-06,\n",
        "         -1.801e-06,  -5.935e-09,   6.027e-06,  -4.426e-06,   2.488e-06,\n",
        "          2.568e-06,   3.848e-06,  -1.052e-06,  -2.078e-07,   2.133e-06,\n",
        "          2.599e-07,  -1.998e-06,   2.267e-06,  -2.099e-06,   3.569e-06,\n",
        "         -5.585e-06,  -1.788e-06,  -1.758e-06,   2.728e-06,   1.626e-06,\n",
        "          3.400e-07,   4.535e-08,   3.502e-06,  -4.460e-07,  -1.987e-06,\n",
        "          2.079e-06,  -2.148e-06,  -2.957e-06,   2.536e-06,   1.331e-06,\n",
        "          3.002e-07,  -2.691e-06,  -2.480e-06,   3.764e-06,  -2.007e-06,\n",
        "          3.400e-06,  -4.780e-07,   1.905e-06,   2.687e-06,  -5.571e-07,\n",
        "         -2.016e-06,  -1.000e-06,  -1.039e-07,  -2.078e-05,  -7.558e-07,\n",
        "         -7.044e-07,   5.328e-11,  -3.678e-06,  -1.791e-09,   1.658e-06,\n",
        "         -3.169e-07,   3.348e-06,  -1.486e-06,  -1.794e-06,  -5.243e-07,\n",
        "          2.980e-07,   2.328e-06,  -1.146e-06,  -2.984e-06,  -7.614e-07,\n",
        "          8.100e-07,   1.351e-06,  -1.182e-06,  -6.145e-07,   5.588e-07,\n",
        "          1.583e-06,   4.735e-06,  -3.022e-07,   4.655e-06,  -1.292e-05,\n",
        "         -3.026e-06,   2.449e-06,   2.511e-06,   2.724e-07,  -3.007e-06,\n",
        "         -1.751e-06,  -3.668e-06,   1.492e-06,  -2.551e-08,  -2.030e-06,\n",
        "          1.635e-07,   2.511e-07,  -2.715e-06,   7.255e-07,  -2.431e-06,\n",
        "          5.850e-08,   7.263e-07,  -2.228e-07,  -2.825e-06,  -6.851e-06,\n",
        "          2.887e-06,   2.965e-06,  -2.380e-06,  -2.033e-06,   3.236e-06,\n",
        "          3.276e-06,  -1.536e-06,   9.918e-07,  -4.041e-06,   1.969e-06,\n",
        "          3.631e-06,   5.490e-07,   1.179e-06,  -2.562e-08,  -1.436e-06,\n",
        "          2.216e-06,  -2.324e-06,   1.832e-06,   3.852e-06,  -1.595e-06,\n",
        "          1.993e-07,  -4.020e-06,   5.399e-06,  -2.137e-06,   2.306e-06,\n",
        "          7.926e-07,   5.354e-06,   3.151e-06,   2.766e-06,  -1.404e-07,\n",
        "         -2.767e-07,  -3.335e-06,  -3.523e-06,   1.623e-08,   3.005e-06,\n",
        "         -1.681e-07,   1.048e-06,  -2.105e-06,  -4.801e-07,  -9.051e-07,\n",
        "          2.300e-06,  -4.463e-06,   5.251e-06,   4.459e-07,  -4.136e-06,\n",
        "         -3.378e-06,  -1.033e-06,   1.305e-06,  -3.635e-06,   2.798e-06,\n",
        "          3.402e-06,  -8.323e-07,   2.916e-07,  -2.479e-06,   2.014e-06,\n",
        "          4.346e-06,   4.162e-06,  -4.228e-06,   2.600e-06,   1.690e-06,\n",
        "          1.768e-05,  -3.882e-06,  -2.221e-06,  -4.441e-06,   5.459e-06,\n",
        "          2.254e-06,   8.437e-06,  -1.539e-06,   1.353e-07,   4.632e-06,\n",
        "         -1.123e-05,  -3.001e-06,  -3.964e-06,   9.529e-06,   3.967e-06,\n",
        "          3.043e-06,  -3.728e-06,  -2.687e-07,   1.285e-06,  -2.057e-06,\n",
        "          3.181e-06,   2.458e-06,   7.628e-07,   1.697e-06,  -4.573e-07,\n",
        "          8.800e-07,   1.487e-06,   6.593e-09,  -1.236e-06,  -2.522e-06,\n",
        "         -1.034e-06,  -6.460e-08,  -3.769e-06,   9.707e-07,  -3.770e-07,\n",
        "          1.405e-06,   2.659e-07,   1.149e-06,   3.347e-06,  -5.632e-07,\n",
        "          2.394e-06,   3.011e-06,   2.147e-06,   1.259e-06,   1.277e-07,\n",
        "          2.711e-06,  -6.696e-07,  -1.797e-06,  -4.937e-07,  -1.818e-06,\n",
        "          3.017e-06,   1.715e-08,   3.935e-06,  -1.247e-06,   4.186e-06,\n",
        "         -4.421e-06,  -2.469e-06,   6.902e-07,  -1.884e-07,  -5.669e-07,\n",
        "          9.862e-07,   1.345e-06,  -5.252e-06,  -1.251e-06,  -2.119e-08,\n",
        "          2.107e-06,  -2.419e-07,  -3.217e-07,   3.583e-06,   3.304e-06,\n",
        "          2.673e-06,   3.502e-06,  -2.891e-06,   1.879e-06,   5.359e-07,\n",
        "          1.144e-06,   7.051e-07,  -8.422e-07,   4.113e-06,  -2.851e-08,\n",
        "          2.816e-06,   1.122e-06,  -6.788e-09,   1.572e-06,   2.882e-06,\n",
        "          3.487e-06,   3.065e-07,   1.456e-07,  -1.152e-07,   1.100e-06,\n",
        "          1.615e-07,   5.452e-06,   2.720e-06,  -3.899e-06,   2.421e-06,\n",
        "         -1.090e-06,   2.919e-06,   2.087e-06,   3.324e-06,   3.566e-06,\n",
        "          1.035e-06,   3.244e-06,   2.465e-06,   2.168e-06,   1.939e-06,\n",
        "         -7.195e-06,  -1.418e-07,  -3.143e-07,  -1.809e-06,  -1.019e-06,\n",
        "         -4.086e-06,   2.568e-06,  -7.888e-07,   4.936e-06,  -9.742e-06,\n",
        "         -3.916e-07,  -2.454e-06,   2.971e-06,   1.347e-06,  -1.405e-06,\n",
        "         -1.847e-06,  -5.158e-08,   2.946e-06,  -9.220e-07,   6.359e-06,\n",
        "          3.054e-06,  -1.486e-08,  -2.937e-06,   2.249e-06,   1.877e-06,\n",
        "          2.871e-06,   2.276e-06,   5.706e-07,  -3.419e-08,   1.731e-06,\n",
        "          1.477e-06,  -1.868e-06,  -4.306e-07,   6.640e-06,  -1.452e-06,\n",
        "          4.438e-06,  -1.873e-06,   4.740e-06,  -1.081e-05,  -1.681e-06,\n",
        "          3.758e-06,   1.504e-07,   5.946e-06,  -1.827e-06,   3.671e-06,\n",
        "         -1.641e-07,  -1.907e-06,  -1.212e-06,  -3.185e-07,  -3.167e-06,\n",
        "         -1.707e-06,  -6.038e-07,  -2.901e-07,   4.112e-07,   6.840e-07,\n",
        "         -3.033e-06,   9.977e-07,   3.152e-06,   1.989e-07,  -1.589e-06,\n",
        "          2.957e-06,   1.564e-06,   3.844e-07,   9.906e-06,  -2.550e-07,\n",
        "          1.978e-06,   3.031e-06,   3.088e-06,   2.580e-07,   3.964e-06,\n",
        "         -1.596e-07,   9.407e-07,   1.914e-07,  -1.939e-06,  -3.013e-06,\n",
        "         -3.118e-07,  -2.464e-06,   1.276e-05,   2.202e-06,   3.314e-06,\n",
        "          3.045e-06,   2.876e-06,   1.359e-05,   3.108e-06,  -1.321e-06,\n",
        "          3.288e-06,   8.673e-08,  -5.513e-07,   3.598e-06,   3.446e-07,\n",
        "         -2.928e-06,  -4.816e-07,   3.563e-06,   3.476e-06,   2.376e-07,\n",
        "         -4.764e-08,   3.529e-06,  -7.980e-07,   9.995e-06,  -2.353e-06,\n",
        "          2.848e-06,   6.536e-07,   8.510e-06,   1.651e-06,   4.186e-06,\n",
        "         -1.684e-06,  -3.616e-07,   3.656e-06,  -3.285e-06,   1.354e-06,\n",
        "         -2.647e-07,  -1.031e-07,  -5.231e-06,   2.667e-06,   1.655e-06,\n",
        "         -4.061e-08,   3.813e-07,  -3.195e-06,  -7.345e-07,   7.641e-06,\n",
        "          1.593e-05,   2.720e-06,  -5.568e-07,  -3.220e-07,   1.364e-08,\n",
        "         -6.062e-07,   5.584e-08,  -2.853e-07,  -6.753e-06,   2.302e-06,\n",
        "          1.044e-06,   1.858e-06,  -5.745e-08,  -2.451e-06,  -3.112e-06,\n",
        "         -1.690e-06,  -2.639e-06,   4.442e-06,   2.338e-06,  -7.641e-06,\n",
        "         -2.081e-07,  -1.186e-07,   1.593e-06,  -1.057e-05,  -9.181e-07,\n",
        "         -1.838e-07,  -1.696e-06,   9.207e-07,  -4.231e-08,   1.939e-06,\n",
        "          4.377e-06,  -1.088e-06,  -3.282e-07,  -1.466e-06,  -6.024e-06,\n",
        "         -3.426e-06,  -3.594e-06,   6.957e-07,  -1.027e-06,   3.357e-06,\n",
        "          2.066e-06,   3.804e-06,  -1.277e-06,   3.779e-06,  -2.301e-06,\n",
        "          7.280e-06,   2.295e-06,  -1.585e-06,   4.478e-06,   3.177e-06,\n",
        "          4.533e-06,  -3.912e-06,   2.867e-06,   1.611e-05,  -7.422e-09,\n",
        "          1.961e-08,  -5.897e-06,   6.661e-07,   7.074e-06,  -1.285e-06,\n",
        "          7.100e-07,   3.873e-06,   6.891e-08,  -2.546e-06,  -6.789e-07,\n",
        "          1.432e-06,  -1.345e-06,  -7.196e-07,   1.481e-06,   5.247e-06,\n",
        "         -4.001e-07,   5.000e-06,  -3.971e-06,  -2.371e-07,   3.595e-06,\n",
        "         -1.898e-06,  -4.070e-06,  -7.605e-07,  -2.309e-06,  -1.777e-06,\n",
        "          2.121e-06,   1.668e-06,  -8.680e-07,   2.721e-07,   2.455e-06,\n",
        "         -2.300e-06,   3.473e-06,   1.860e-06,   1.498e-06,  -1.237e-06,\n",
        "          5.484e-06,  -1.118e-07,   3.985e-06,   2.094e-06,   2.085e-07,\n",
        "          2.957e-06,   5.779e-06,  -3.166e-06,  -1.707e-06,   3.044e-06,\n",
        "          5.022e-06,  -2.180e-06,  -2.131e-07,   1.812e-07,  -1.491e-06,\n",
        "          7.160e-06,   3.039e-06,   5.043e-06,  -2.538e-06,   4.251e-06,\n",
        "          2.334e-06,  -1.126e-06,   2.649e-05,  -6.022e-08,   3.272e-06,\n",
        "          2.879e-07,  -2.315e-06,   1.811e-06,  -3.261e-06,   7.493e-06,\n",
        "          3.651e-06,  -1.125e-06,  -3.481e-06,   3.561e-06,  -1.137e-06,\n",
        "          2.598e-06,   1.553e-06,  -6.058e-07,  -8.069e-08,   2.726e-06,\n",
        "          1.131e-06,  -3.987e-06,   2.668e-06,  -1.886e-06,  -1.668e-06,\n",
        "          9.389e-07,   2.876e-06,  -1.791e-07,   1.306e-06,  -5.621e-07,\n",
        "          9.396e-06,  -4.754e-07,  -7.090e-06,   2.196e-06,  -1.727e-06,\n",
        "         -1.287e-05,   8.399e-06,   1.062e-06,   2.759e-06,  -1.227e-06,\n",
        "         -2.312e-06,  -5.924e-07,   2.393e-06,   5.322e-07,   1.276e-06,\n",
        "         -8.686e-08,  -1.211e-07,  -1.647e-06,   3.363e-06,   5.234e-06,\n",
        "          3.112e-06,  -2.037e-06,  -4.077e-06,   4.545e-06,  -9.431e-07,\n",
        "          3.354e-06,   7.783e-06,  -6.674e-07,   2.014e-06,  -2.879e-06,\n",
        "          1.295e-06,   1.223e-05,  -3.127e-06,   2.802e-07,   6.765e-07,\n",
        "         -5.528e-06,  -3.149e-07,   1.145e-06,  -2.645e-06,   1.904e-06,\n",
        "          6.583e-06,   1.474e-06,  -4.473e-07,   2.050e-06,  -1.646e-05,\n",
        "          2.280e-07,  -3.847e-06,   1.460e-05,   2.332e-06,  -2.234e-06,\n",
        "          9.404e-07,  -7.368e-07,  -1.944e-06,   2.985e-06,   1.363e-06,\n",
        "         -2.571e-06,  -3.317e-07,   2.797e-06,   4.644e-06,   4.524e-09,\n",
        "          1.633e-07,   1.519e-06,  -3.962e-06,   3.066e-06,  -7.344e-09,\n",
        "         -6.158e-07,   1.468e-06,   4.428e-07,   8.439e-06,   1.581e-06,\n",
        "         -5.220e-07,   3.344e-07,  -1.346e-06,   4.020e-06,   1.800e-06]),\n",
        " 'nit': 26,\n",
        " 'task': 'CONVERGENCE: REL_REDUCTION_OF_F_<=_FACTR*EPSMCH',\n",
        " 'warnflag': 0}"
       ]
      }
     ],
     "prompt_number": 11
    },
    {
     "cell_type": "code",
     "collapsed": false,
     "input": [
      "plt.figure()\n",
      "plt.plot(xb[:50], label='Optimized')\n",
      "plt.plot(beta[:50], color='r', linestyle='--', label='Prior')\n",
      "plt.legend()\n",
      "plt.tight_layout()"
     ],
     "language": "python",
     "metadata": {},
     "outputs": [
      {
       "metadata": {},
       "output_type": "display_data",
       "png": "[encoded data removed]",
       "text": [
        "<matplotlib.figure.Figure at 0x7fbac7f5f2d0>"
       ]
      }
     ],
     "prompt_number": 12
    },
    {
     "cell_type": "code",
     "collapsed": false,
     "input": [
      "plt.figure()\n",
      "plt.subplot(121)\n",
      "plt.scatter(v[y<0,0], v[y<0,1], color='r', marker='o', label='Negative')\n",
      "plt.scatter(v[y>0,0], v[y>0,1], color='b', marker='o', label='Positive')\n",
      "plt.arrow(0, 0, u[0], u[1], color='g', head_width=0.5, head_length=0.5)\n",
      "plt.legend()\n",
      "\n",
      "plt.subplot(122)\n",
      "plt.hist(v[y<0].dot(x_user) + xb[y<0],  color='r', normed=True, label='Negative')\n",
      "plt.hist(v[y>0].dot(x_user) + xb[y>0],  color='b', normed=True, label='Positive')\n",
      "plt.legend()\n",
      "\n",
      "plt.tight_layout()"
     ],
     "language": "python",
     "metadata": {},
     "outputs": [
      {
       "metadata": {},
       "output_type": "display_data",
       "png": "[encoded data removed]",
       "text": [
        "<matplotlib.figure.Figure at 0x7fbac7dfaad0>"
       ]
      }
     ],
     "prompt_number": 13
    },
    {
     "cell_type": "code",
     "collapsed": false,
     "input": [
      "r = 27\n",
      "\n",
      "x = np.linspace(xb[r]-3.5, xb[r]+3.5, num=500)\n",
      "\n",
      "plt.plot(x, bias_obj(x)[0])\n",
      "#plt.vlines(xb[r:r+1], 0, max(bias_obj(x)[0]))\n",
      "plt.scatter(xb[r:r+1], [bias_obj(xb[r:r+1])[0]], c='r', s=100, marker='*')\n",
      "#plt.scatter(beta[r], bias_obj(beta[r])[0])\n",
      "#plt.axis('tight')\n",
      "plt.tight_layout()"
     ],
     "language": "python",
     "metadata": {},
     "outputs": [
      {
       "metadata": {},
       "output_type": "display_data",
       "png": "[encoded data removed]",
       "text": [
        "<matplotlib.figure.Figure at 0x7fbac7f2a850>"
       ]
      }
     ],
     "prompt_number": 14
    },
    {
     "cell_type": "code",
     "collapsed": false,
     "input": [
      "import scipy.misc"
     ],
     "language": "python",
     "metadata": {},
     "outputs": [],
     "prompt_number": 15
    },
    {
     "cell_type": "code",
     "collapsed": false,
     "input": [
      "n_edges = 100\n",
      "n_songs = int(5e3)\n",
      "\n",
      "num_usage = 1 + np.round(100 * np.abs(np.random.randn(n_songs)))\n",
      "num_playlists = 2000\n",
      "\n",
      "edge_reg = 1.0\n",
      "\n",
      "H = (scipy.sparse.rand(n_songs, n_edges, density=0.5, format='coo') > 0).astype(int)\n",
      "H[:, 0] = 1\n",
      "H = H.tocsr()\n",
      "\n",
      "Z = 0.01 + np.abs(np.random.randn(n_edges))\n",
      "\n",
      "def __edge_objective(w):\n",
      "\n",
      "    obj  = edge_reg * 0.5 * np.sum(w**2)\n",
      "    grad = edge_reg * w\n",
      "\n",
      "    obj  += -Z.dot(w)\n",
      "    grad += -Z\n",
      "\n",
      "    lse_w      = scipy.misc.logsumexp(w)\n",
      "    exp_w      = np.exp(w)\n",
      "    Hexpw_norm = np.empty_like(num_usage)\n",
      "    \n",
      "    Hexpw_norm[:] = [scipy.misc.logsumexp(w[hid.indices]) for hid in H]\n",
      "\n",
      "    obj += num_usage.dot(Hexpw_norm) + num_playlists * lse_w\n",
      "    \n",
      "    grad += np.ravel((num_usage * np.exp(-Hexpw_norm)).dot( H.multiply(exp_w) ))\n",
      "    \n",
      "    grad += exp_w * (num_playlists * np.exp(-lse_w))\n",
      "\n",
      "    \n",
      "    return obj, grad\n"
     ],
     "language": "python",
     "metadata": {},
     "outputs": [
      {
       "output_type": "stream",
       "stream": "stderr",
       "text": [
        "/usr/local/lib/python2.7/dist-packages/scipy/sparse/compressed.py:690: SparseEfficiencyWarning: Changing the sparsity structure of a csr_matrix is expensive. lil_matrix is more efficient.\n",
        "  SparseEfficiencyWarning)\n"
       ]
      }
     ],
     "prompt_number": 16
    },
    {
     "cell_type": "code",
     "collapsed": false,
     "input": [
      "w0 = np.zeros(n_edges)\n",
      "\n",
      "w_opt, w_value, diagnostics = scipy.optimize.fmin_l_bfgs_b(__edge_objective, \n",
      "                                                           w0, \n",
      "                                                           bounds=[(-80.0, 80.0)] * len(w0),\n",
      "                                                           iprint=1)\n",
      "print diagnostics\n",
      "assert diagnostics['warnflag'] == 0"
     ],
     "language": "python",
     "metadata": {},
     "outputs": [
      {
       "output_type": "stream",
       "stream": "stdout",
       "text": [
        "{'warnflag': 0, 'task': 'CONVERGENCE: REL_REDUCTION_OF_F_<=_FACTR*EPSMCH', 'grad': array([  7.952e+03,   3.916e+03,   3.966e+03,   3.825e+03,   4.086e+03,\n",
        "         3.949e+03,   3.862e+03,   3.877e+03,   3.947e+03,   3.944e+03,\n",
        "         4.083e+03,   3.966e+03,   3.892e+03,   3.886e+03,   3.862e+03,\n",
        "         4.034e+03,   3.978e+03,   3.880e+03,   3.997e+03,   3.938e+03,\n",
        "         3.927e+03,   4.020e+03,   3.925e+03,   3.943e+03,   3.854e+03,\n",
        "         3.948e+03,   3.898e+03,   3.944e+03,   4.132e+03,   4.014e+03,\n",
        "         4.064e+03,   3.900e+03,   4.101e+03,   4.079e+03,   3.901e+03,\n",
        "         4.008e+03,   3.828e+03,   3.916e+03,   3.970e+03,   3.851e+03,\n",
        "         3.880e+03,   3.902e+03,   3.796e+03,   3.876e+03,   3.979e+03,\n",
        "         3.963e+03,   3.933e+03,   3.896e+03,   4.067e+03,   3.891e+03,\n",
        "         3.964e+03,   3.827e+03,   3.988e+03,   4.031e+03,   3.935e+03,\n",
        "         3.896e+03,   3.959e+03,   3.994e+03,   3.944e+03,   3.960e+03,\n",
        "         3.899e+03,   3.948e+03,   3.964e+03,   3.898e+03,   3.897e+03,\n",
        "         4.075e+03,   4.001e+03,   3.976e+03,   3.879e+03,   3.928e+03,\n",
        "         4.019e+03,   3.916e+03,   3.981e+03,   4.085e+03,   3.927e+03,\n",
        "         3.976e+03,   3.922e+03,   4.013e+03,   4.005e+03,   4.083e+03,\n",
        "         3.980e+03,   3.945e+03,   3.899e+03,   3.831e+03,   3.904e+03,\n",
        "         3.977e+03,   3.836e+03,   3.926e+03,   3.916e+03,   3.895e+03,\n",
        "         3.966e+03,   3.998e+03,   4.014e+03,   3.951e+03,   3.893e+03,\n",
        "         4.060e+03,   3.890e+03,   3.897e+03,   3.662e+03,  -8.081e-02]), 'nit': 6, 'funcalls': 9}\n"
       ]
      }
     ],
     "prompt_number": 17
    },
    {
     "cell_type": "code",
     "collapsed": false,
     "input": [
      "%timeit scipy.optimize.fmin_l_bfgs_b(__edge_objective, w0, bounds=[(-80.0, 80.0)] * len(w0))"
     ],
     "language": "python",
     "metadata": {},
     "outputs": [
      {
       "output_type": "stream",
       "stream": "stdout",
       "text": [
        "1 loops, best of 3: 3.54 s per loop\n"
       ]
      }
     ],
     "prompt_number": 18
    },
    {
     "cell_type": "code",
     "collapsed": false,
     "input": [
      "plt.plot(np.exp(w_opt) / np.sum(np.exp(w_opt)))"
     ],
     "language": "python",
     "metadata": {},
     "outputs": [
      {
       "metadata": {},
       "output_type": "pyout",
       "prompt_number": 19,
       "text": [
        "[<matplotlib.lines.Line2D at 0x7fbac7b90190>]"
       ]
      },
      {
       "metadata": {},
       "output_type": "display_data",
       "png": "[encoded data removed]",
       "text": [
        "<matplotlib.figure.Figure at 0x7fbac7ec4c50>"
       ]
      }
     ],
     "prompt_number": 19
    },
    {
     "cell_type": "markdown",
     "metadata": {},
     "source": [
      "---\n",
      "# Item factor optimization\n",
      "\n"
     ]
    },
    {
     "cell_type": "code",
     "collapsed": false,
     "input": [
      "d = 2\n",
      "n = int(5e3)\n",
      "\n",
      "b = np.random.randn(n).astype(np.float32)\n",
      "y = np.sign(np.random.randn(len(b)) - 2.0).astype(np.float32)\n",
      "om = np.abs(np.random.randn(len(b))).astype(np.float32) / 4\n",
      "\n",
      "om[y==1] = 1\n",
      "\n",
      "beta = np.random.randn(len(b))\n",
      "beta = (np.abs(beta) * beta * 4).astype(np.float32)\n",
      "\n",
      "u = np.random.randn(d).astype(np.float32)\n",
      "a_i = np.random.randn(len(b), d).astype(np.float32)\n",
      "#a_i[y>0] += 1\n",
      "rho = 1e-3\n",
      "reg_item = 1e-6"
     ],
     "language": "python",
     "metadata": {},
     "outputs": [],
     "prompt_number": 20
    },
    {
     "cell_type": "code",
     "collapsed": false,
     "input": [
      "def item_obj(v):\n",
      "    \n",
      "    # Compute the objective\n",
      "    v = v.reshape(a_i.shape)\n",
      "    \n",
      "    scores = y * (v.dot(u) + b)\n",
      "    \n",
      "    delta = v - a_i\n",
      "    f = rho * 0.5 * np.sum(delta**2) \n",
      "    f += om.dot(np.logaddexp(0, -scores))\n",
      "    \n",
      "    grad = rho * delta\n",
      "    grad += np.multiply.outer(-y * om / (1.0 + np.exp(scores)), u)\n",
      "    \n",
      "    return f, np.ravel(grad)"
     ],
     "language": "python",
     "metadata": {},
     "outputs": [],
     "prompt_number": 21
    },
    {
     "cell_type": "code",
     "collapsed": false,
     "input": [
      "v0 = np.zeros_like(a_i)"
     ],
     "language": "python",
     "metadata": {},
     "outputs": [],
     "prompt_number": 22
    },
    {
     "cell_type": "code",
     "collapsed": false,
     "input": [
      "v_opt, v_value, diagnostics = scipy.optimize.fmin_l_bfgs_b(item_obj, v0, iprint=1)\n",
      "v_opt = v_opt.reshape(a_i.shape)\n",
      "diagnostics"
     ],
     "language": "python",
     "metadata": {},
     "outputs": [
      {
       "metadata": {},
       "output_type": "pyout",
       "prompt_number": 23,
       "text": [
        "{'funcalls': 21,\n",
        " 'grad': array([  5.397e-08,  -7.575e-08,  -7.460e-08, ...,   1.817e-07,\n",
        "         -2.623e-07,   1.952e-07]),\n",
        " 'nit': 18,\n",
        " 'task': 'CONVERGENCE: NORM_OF_PROJECTED_GRADIENT_<=_PGTOL',\n",
        " 'warnflag': 0}"
       ]
      }
     ],
     "prompt_number": 23
    },
    {
     "cell_type": "code",
     "collapsed": false,
     "input": [
      "v = v_opt"
     ],
     "language": "python",
     "metadata": {},
     "outputs": [],
     "prompt_number": 24
    },
    {
     "cell_type": "code",
     "collapsed": false,
     "input": [
      "u_opt, u_value, u_diagnostics = scipy.optimize.fmin_l_bfgs_b(user_obj, u, iprint=1)\n",
      "diagnostics"
     ],
     "language": "python",
     "metadata": {},
     "outputs": [
      {
       "metadata": {},
       "output_type": "pyout",
       "prompt_number": 25,
       "text": [
        "{'funcalls': 21,\n",
        " 'grad': array([  5.397e-08,  -7.575e-08,  -7.460e-08, ...,   1.817e-07,\n",
        "         -2.623e-07,   1.952e-07]),\n",
        " 'nit': 18,\n",
        " 'task': 'CONVERGENCE: NORM_OF_PROJECTED_GRADIENT_<=_PGTOL',\n",
        " 'warnflag': 0}"
       ]
      }
     ],
     "prompt_number": 25
    },
    {
     "cell_type": "code",
     "collapsed": false,
     "input": [
      "u = u_opt"
     ],
     "language": "python",
     "metadata": {},
     "outputs": [],
     "prompt_number": 26
    },
    {
     "cell_type": "code",
     "collapsed": false,
     "input": [
      "plt.figure(figsize=(10, 4))\n",
      "plt.subplot(121)\n",
      "plt.scatter(a_i[y<0,0], a_i[y<0,1], color='b', marker='o', label='- Before')\n",
      "plt.scatter(a_i[y>0,0], a_i[y>0,1], color='r', marker='o', label='+ Before')\n",
      "\n",
      "plt.arrow(0, 0, u[0], u[1], color='g', head_width=0.5, head_length=0.5, label='User')\n",
      "\n",
      "plt.legend()\n",
      "\n",
      "plt.subplot(122)\n",
      "plt.scatter(v_opt[y<0,0], v_opt[y<0,1], color='b', marker='o', label='- After')\n",
      "plt.scatter(v_opt[y>0,0], v_opt[y>0,1], color='r', marker='o', label='+ After')\n",
      "\n",
      "plt.arrow(0, 0, u[0], u[1], color='g', head_width=0.5, head_length=0.5, label='User')\n",
      "\n",
      "plt.legend()\n",
      "plt.tight_layout()"
     ],
     "language": "python",
     "metadata": {},
     "outputs": [
      {
       "metadata": {},
       "output_type": "display_data",
       "png": "[encoded data removed]",
       "text": [
        "<matplotlib.figure.Figure at 0x7fbac7d9af10>"
       ]
      }
     ],
     "prompt_number": 27
    },
    {
     "cell_type": "code",
     "collapsed": false,
     "input": [
      "plt.figure(figsize=(10,4))\n",
      "plt.subplot(121)\n",
      "plt.hist(a_i[y<0].dot(u) + b[y<0], normed=True, color='b', label='Neg before')\n",
      "plt.hist(a_i[y>0].dot(u) + b[y>0], normed=True, color='r', label='Pos before')\n",
      "plt.legend()\n",
      "plt.subplot(122)\n",
      "plt.hist(v_opt[y<0].dot(u) + b[y<0], normed=True, color='b', label='Neg after')\n",
      "plt.hist(v_opt[y>0].dot(u) + b[y>0], normed=True, color='r', label='Pos after')\n",
      "plt.legend()\n",
      "plt.tight_layout()"
     ],
     "language": "python",
     "metadata": {},
     "outputs": [
      {
       "metadata": {},
       "output_type": "display_data",
       "png": "[encoded data removed]",
       "text": [
        "<matplotlib.figure.Figure at 0x7fbac7da9b10>"
       ]
      }
     ],
     "prompt_number": 28
    },
    {
     "cell_type": "code",
     "collapsed": false,
     "input": [
      "%timeit v_opt, v_value, diagnostics = scipy.optimize.fmin_l_bfgs_b(item_obj, v0)"
     ],
     "language": "python",
     "metadata": {},
     "outputs": [
      {
       "output_type": "stream",
       "stream": "stdout",
       "text": [
        "10 loops, best of 3: 62.2 ms per loop\n"
       ]
      }
     ],
     "prompt_number": 29
    },
    {
     "cell_type": "markdown",
     "metadata": {},
     "source": [
      "---\n",
      "# Parallel item factor optimization"
     ]
    },
    {
     "cell_type": "code",
     "collapsed": false,
     "input": [
      "n_samp = n / 200\n",
      "idx = np.unique((n * np.random.sample(n_samp)).astype(int))\n",
      "idx.sort()\n",
      "\n",
      "v_samp = np.take(v, idx, axis=0)"
     ],
     "language": "python",
     "metadata": {},
     "outputs": [],
     "prompt_number": 30
    },
    {
     "cell_type": "code",
     "collapsed": false,
     "input": [
      "%timeit v_samp = np.take(v, idx, axis=0)"
     ],
     "language": "python",
     "metadata": {},
     "outputs": [
      {
       "output_type": "stream",
       "stream": "stdout",
       "text": [
        "1000000 loops, best of 3: 601 ns per loop\n"
       ]
      }
     ],
     "prompt_number": 31
    },
    {
     "cell_type": "code",
     "collapsed": false,
     "input": [
      "%timeit v_samp = v[idx]"
     ],
     "language": "python",
     "metadata": {},
     "outputs": [
      {
       "output_type": "stream",
       "stream": "stdout",
       "text": [
        "1000000 loops, best of 3: 1.5 \u00b5s per loop\n"
       ]
      }
     ],
     "prompt_number": 32
    },
    {
     "cell_type": "code",
     "collapsed": true,
     "input": [
      "def user_optimize_item(y, om, item_idx, Z, V, b, U, rho, user_id, A_out=None):\n",
      "    \n",
      "    # First compute the residual\n",
      "    res = np.take(V, item_idx, axis=0) - Z\n",
      "    \n",
      "    # And slice the user\n",
      "    u_vec = U[user_id, :]\n",
      "    b_vec = np.take(b, item_idx)\n",
      "    \n",
      "    def __user_item_obj(A_in):\n",
      "        \n",
      "        # Compute the objective\n",
      "        # All this view/shape stuff is to explicitly rule out copies\n",
      "        A = A_in.view()\n",
      "        A.shape = res.shape\n",
      "        \n",
      "        scores = y * (A.dot(u_vec) + b_vec)\n",
      "    \n",
      "        delta = A - res\n",
      "        f = rho * 0.5 * np.sum(delta**2) \n",
      "        f += om.dot(np.logaddexp(0, -scores))\n",
      "    \n",
      "        grad = rho * delta\n",
      "        grad += np.multiply.outer(-y * om / (1.0 + np.exp(scores)), u_vec)\n",
      "    \n",
      "        grad_out = grad.view()\n",
      "        grad_out.shape = (grad.size,)\n",
      "        \n",
      "        return f, grad_out\n",
      "    \n",
      "    A0 = np.zeros_like(res)\n",
      "    \n",
      "    A, A_value, diagnostics = scipy.optimize.fmin_l_bfgs_b(__user_item_obj, A0, iprint=2)\n",
      "    \n",
      "    assert diagnostics['warnflag'] == 0\n",
      "    \n",
      "    if A_out is not None:\n",
      "        A_out[:] = A.reshape(res.shape)\n",
      "    else:\n",
      "        A_out = A.reshape(res.shape)\n",
      "        \n",
      "    return A_out"
     ],
     "language": "python",
     "metadata": {},
     "outputs": [],
     "prompt_number": 33
    },
    {
     "cell_type": "code",
     "collapsed": false,
     "input": [
      "u_multi = np.random.randn(*v_samp.shape)"
     ],
     "language": "python",
     "metadata": {},
     "outputs": [],
     "prompt_number": 34
    },
    {
     "cell_type": "markdown",
     "metadata": {},
     "source": [
      "---\n",
      "# Current implementation"
     ]
    },
    {
     "cell_type": "code",
     "collapsed": false,
     "input": [
      "import sys\n",
      "sys.path.append('/home/bmcfee/git/playlist_recommender/code/')\n",
      "import PHyG"
     ],
     "language": "python",
     "metadata": {},
     "outputs": [],
     "prompt_number": 35
    },
    {
     "cell_type": "code",
     "collapsed": false,
     "input": [
      "reload(PHyG)"
     ],
     "language": "python",
     "metadata": {},
     "outputs": [
      {
       "metadata": {},
       "output_type": "pyout",
       "prompt_number": 36,
       "text": [
        "<module 'PHyG' from '/home/bmcfee/git/playlist_recommender/code/PHyG.pyc'>"
       ]
      }
     ],
     "prompt_number": 36
    },
    {
     "cell_type": "code",
     "collapsed": false,
     "input": [
      "def generate_bigrams(n_bigrams, n_items):\n",
      "    \n",
      "    bigrams = []\n",
      "    \n",
      "    while len(bigrams) < n_bigrams:\n",
      "        \n",
      "        if np.random.randn(1) > 1.0:\n",
      "            s = None\n",
      "        else:\n",
      "            s = np.random.randint(0, n_items)\n",
      "        \n",
      "        t = s\n",
      "        \n",
      "        while t == s:\n",
      "            t = np.random.randint(0, n_items)\n",
      "            \n",
      "        bigrams.append((s,t))\n",
      "        \n",
      "    return bigrams"
     ],
     "language": "python",
     "metadata": {},
     "outputs": [],
     "prompt_number": 37
    },
    {
     "cell_type": "code",
     "collapsed": false,
     "input": [
      "# Make some bigrams\n",
      "\n",
      "bigrams = []\n",
      "for i in range(len(u_multi)):\n",
      "    bigrams.append(generate_bigrams(2 + np.random.randint(10), H.shape[0]))"
     ],
     "language": "python",
     "metadata": {},
     "outputs": [],
     "prompt_number": 38
    },
    {
     "cell_type": "code",
     "collapsed": false,
     "input": [
      "reload(PHyG)"
     ],
     "language": "python",
     "metadata": {},
     "outputs": [
      {
       "metadata": {},
       "output_type": "pyout",
       "prompt_number": 39,
       "text": [
        "<module 'PHyG' from '/home/bmcfee/git/playlist_recommender/code/PHyG.pyc'>"
       ]
      }
     ],
     "prompt_number": 39
    },
    {
     "cell_type": "code",
     "collapsed": false,
     "input": [
      "H[1].multiply(w_opt)"
     ],
     "language": "python",
     "metadata": {},
     "outputs": [
      {
       "metadata": {},
       "output_type": "pyout",
       "prompt_number": 40,
       "text": [
        "matrix([[-80.,  -0.,  -0., -80.,  -0.,  -0.,  -0., -80., -80.,  -0., -80.,\n",
        "          -0., -80., -80.,  -0.,  -0., -80., -80., -80.,  -0.,  -0., -80.,\n",
        "          -0.,  -0., -80., -80., -80., -80., -80., -80., -80.,  -0., -80.,\n",
        "         -80., -80., -80.,  -0.,  -0., -80., -80., -80., -80., -80., -80.,\n",
        "         -80.,  -0.,  -0.,  -0.,  -0.,  -0.,  -0.,  -0.,  -0., -80., -80.,\n",
        "         -80.,  -0., -80.,  -0.,  -0.,  -0., -80., -80.,  -0.,  -0., -80.,\n",
        "         -80., -80., -80.,  -0.,  -0., -80., -80., -80., -80.,  -0.,  -0.,\n",
        "         -80.,  -0., -80.,  -0., -80.,  -0.,  -0., -80.,  -0., -80.,  -0.,\n",
        "         -80., -80., -80., -80., -80., -80., -80.,  -0.,  -0.,  -0.,  -0.,\n",
        "          -0.]])"
       ]
      }
     ],
     "prompt_number": 40
    },
    {
     "cell_type": "code",
     "collapsed": false,
     "input": [
      "H[0].multiply(scipy.sparse.lil_matrix(w_opt))"
     ],
     "language": "python",
     "metadata": {},
     "outputs": [
      {
       "metadata": {},
       "output_type": "pyout",
       "prompt_number": 41,
       "text": [
        "<1x100 sparse matrix of type '<type 'numpy.float64'>'\n",
        "\twith 52 stored elements in Compressed Sparse Row format>"
       ]
      }
     ],
     "prompt_number": 41
    },
    {
     "cell_type": "code",
     "collapsed": false,
     "input": [
      "reload(PHyG)"
     ],
     "language": "python",
     "metadata": {},
     "outputs": [
      {
       "metadata": {},
       "output_type": "pyout",
       "prompt_number": 42,
       "text": [
        "<module 'PHyG' from '/home/bmcfee/git/playlist_recommender/code/PHyG.pyc'>"
       ]
      }
     ],
     "prompt_number": 42
    },
    {
     "cell_type": "code",
     "collapsed": false,
     "input": [
      "import joblib"
     ],
     "language": "python",
     "metadata": {},
     "outputs": [],
     "prompt_number": 43
    },
    {
     "cell_type": "code",
     "collapsed": false,
     "input": [
      "PHyG.generate_user_instance(23, H, w_opt, bigrams[23], b=b)"
     ],
     "language": "python",
     "metadata": {},
     "outputs": [
      {
       "metadata": {},
       "output_type": "pyout",
       "prompt_number": 44,
       "text": [
        "(array([ 1.,  1.,  1.,  1.,  1.,  1., -1., -1., -1., -1., -1., -1., -1.,\n",
        "        -1., -1., -1., -1., -1., -1., -1., -1., -1., -1., -1., -1., -1.,\n",
        "        -1., -1., -1.]),\n",
        " array([ 1.   ,  1.   ,  1.   ,  1.   ,  1.   ,  1.   ,  2.83 ,  3.291,\n",
        "         3.357,  3.044,  2.594,  3.161,  3.749,  2.831,  3.263,  3.528,\n",
        "         2.49 ,  2.597,  3.31 ,  3.387,  2.871,  3.221,  3.1  ,  3.316,\n",
        "         3.065,  3.188,  3.919,  3.268,  2.973]),\n",
        " array([2325, 2366,  678, 4193, 4615,  173, 4457, 3320, 4072, 3091, 4513,\n",
        "         155, 3660,  737, 4449, 3215, 3452, 3938, 4312, 2273, 4353, 1200,\n",
        "        3062,  235, 4250, 3476, 1800,  156, 3625]))"
       ]
      }
     ],
     "prompt_number": 44
    },
    {
     "cell_type": "code",
     "collapsed": false,
     "input": [
      "reload(PHyG)"
     ],
     "language": "python",
     "metadata": {},
     "outputs": [
      {
       "metadata": {},
       "output_type": "pyout",
       "prompt_number": 45,
       "text": [
        "<module 'PHyG' from '/home/bmcfee/git/playlist_recommender/code/PHyG.pyc'>"
       ]
      }
     ],
     "prompt_number": 45
    },
    {
     "cell_type": "code",
     "collapsed": false,
     "input": [
      "np.asarray(H[0].multiply(np.exp(w_opt)))"
     ],
     "language": "python",
     "metadata": {},
     "outputs": [
      {
       "metadata": {},
       "output_type": "pyout",
       "prompt_number": 46,
       "text": [
        "array([[  1.805e-35,   1.805e-35,   0.000e+00,   0.000e+00,   0.000e+00,\n",
        "          1.805e-35,   1.805e-35,   1.805e-35,   0.000e+00,   0.000e+00,\n",
        "          1.805e-35,   0.000e+00,   0.000e+00,   0.000e+00,   0.000e+00,\n",
        "          0.000e+00,   1.805e-35,   1.805e-35,   0.000e+00,   0.000e+00,\n",
        "          1.805e-35,   0.000e+00,   0.000e+00,   1.805e-35,   0.000e+00,\n",
        "          0.000e+00,   0.000e+00,   1.805e-35,   1.805e-35,   1.805e-35,\n",
        "          1.805e-35,   0.000e+00,   1.805e-35,   0.000e+00,   1.805e-35,\n",
        "          1.805e-35,   0.000e+00,   0.000e+00,   0.000e+00,   1.805e-35,\n",
        "          0.000e+00,   1.805e-35,   0.000e+00,   1.805e-35,   1.805e-35,\n",
        "          1.805e-35,   0.000e+00,   1.805e-35,   0.000e+00,   0.000e+00,\n",
        "          1.805e-35,   0.000e+00,   0.000e+00,   0.000e+00,   1.805e-35,\n",
        "          0.000e+00,   1.805e-35,   1.805e-35,   1.805e-35,   1.805e-35,\n",
        "          0.000e+00,   0.000e+00,   0.000e+00,   0.000e+00,   1.805e-35,\n",
        "          1.805e-35,   1.805e-35,   1.805e-35,   0.000e+00,   0.000e+00,\n",
        "          0.000e+00,   0.000e+00,   1.805e-35,   1.805e-35,   1.805e-35,\n",
        "          0.000e+00,   1.805e-35,   1.805e-35,   1.805e-35,   1.805e-35,\n",
        "          1.805e-35,   1.805e-35,   1.805e-35,   0.000e+00,   0.000e+00,\n",
        "          1.805e-35,   0.000e+00,   1.805e-35,   0.000e+00,   0.000e+00,\n",
        "          1.805e-35,   1.805e-35,   1.805e-35,   0.000e+00,   1.805e-35,\n",
        "          1.805e-35,   1.805e-35,   0.000e+00,   1.805e-35,   0.000e+00]])"
       ]
      }
     ],
     "prompt_number": 46
    },
    {
     "cell_type": "code",
     "collapsed": false,
     "input": [
      "np.exp(w_opt) / np.sum(np.exp(w_opt))"
     ],
     "language": "python",
     "metadata": {},
     "outputs": [
      {
       "metadata": {},
       "output_type": "pyout",
       "prompt_number": 47,
       "text": [
        "array([ 0.01 ,  0.01 ,  0.01 ,  0.01 ,  0.01 ,  0.01 ,  0.01 ,  0.01 ,\n",
        "        0.01 ,  0.01 ,  0.01 ,  0.01 ,  0.01 ,  0.01 ,  0.01 ,  0.01 ,\n",
        "        0.01 ,  0.01 ,  0.01 ,  0.01 ,  0.01 ,  0.01 ,  0.01 ,  0.01 ,\n",
        "        0.01 ,  0.01 ,  0.01 ,  0.01 ,  0.01 ,  0.01 ,  0.01 ,  0.01 ,\n",
        "        0.01 ,  0.01 ,  0.01 ,  0.01 ,  0.01 ,  0.01 ,  0.01 ,  0.01 ,\n",
        "        0.01 ,  0.01 ,  0.01 ,  0.01 ,  0.01 ,  0.01 ,  0.01 ,  0.01 ,\n",
        "        0.01 ,  0.01 ,  0.01 ,  0.01 ,  0.01 ,  0.01 ,  0.01 ,  0.01 ,\n",
        "        0.01 ,  0.01 ,  0.01 ,  0.01 ,  0.01 ,  0.01 ,  0.01 ,  0.01 ,\n",
        "        0.01 ,  0.01 ,  0.01 ,  0.01 ,  0.01 ,  0.01 ,  0.01 ,  0.01 ,\n",
        "        0.01 ,  0.01 ,  0.01 ,  0.01 ,  0.01 ,  0.01 ,  0.01 ,  0.01 ,\n",
        "        0.01 ,  0.01 ,  0.01 ,  0.01 ,  0.01 ,  0.01 ,  0.01 ,  0.01 ,\n",
        "        0.01 ,  0.01 ,  0.01 ,  0.01 ,  0.01 ,  0.01 ,  0.01 ,  0.01 ,\n",
        "        0.01 ,  0.01 ,  0.01 ,  0.041])"
       ]
      }
     ],
     "prompt_number": 47
    },
    {
     "cell_type": "code",
     "collapsed": false,
     "input": [
      "PHyG.categorical(np.exp(w_opt))"
     ],
     "language": "python",
     "metadata": {},
     "outputs": [
      {
       "metadata": {},
       "output_type": "pyout",
       "prompt_number": 48,
       "text": [
        "39"
       ]
      }
     ],
     "prompt_number": 48
    },
    {
     "cell_type": "code",
     "collapsed": false,
     "input": [
      "PHyG.generate_user_instance(23, H, w_opt, bigrams[23], U=[u], V=v, user_id=0)"
     ],
     "language": "python",
     "metadata": {},
     "outputs": [
      {
       "output_type": "stream",
       "stream": "stderr",
       "text": [
        "/home/bmcfee/git/playlist_recommender/code/PHyG.py:657: FutureWarning: comparison to `None` will result in an elementwise object comparison in the future.\n",
        "  if None not in (user_id, U, V):\n"
       ]
      },
      {
       "metadata": {},
       "output_type": "pyout",
       "prompt_number": 49,
       "text": [
        "(array([ 1.,  1.,  1.,  1.,  1.,  1., -1., -1., -1., -1., -1., -1.]),\n",
        " array([ 1.   ,  1.   ,  1.   ,  1.   ,  1.   ,  1.   ,  3.308,  3.257,\n",
        "         3.088,  3.697,  3.231,  2.673]),\n",
        " array([2325, 2366,  678, 4193, 4615,  173, 2502, 3227,  880, 2879, 1980,\n",
        "         806]))"
       ]
      }
     ],
     "prompt_number": 49
    },
    {
     "cell_type": "code",
     "collapsed": false,
     "input": [
      "# Generate sub-problems\n",
      "y_idx, om_idx, idx = tuple(zip(*[PHyG.generate_user_instance(16, H, w_opt, bigrams_i, b=b) for bigrams_i in bigrams]))"
     ],
     "language": "python",
     "metadata": {},
     "outputs": [],
     "prompt_number": 50
    },
    {
     "cell_type": "code",
     "collapsed": false,
     "input": [
      "user_id = 0\n",
      "Z_i = np.zeros((len(idx[user_id]), v.shape[1]), dtype=v.dtype)\n",
      "A_i = user_optimize_item(y_idx[user_id], om_idx[user_id], idx[user_id], Z_i, v, b, u_multi, 1.0e-2, user_id)"
     ],
     "language": "python",
     "metadata": {},
     "outputs": [],
     "prompt_number": 51
    },
    {
     "cell_type": "code",
     "collapsed": false,
     "input": [
      "%timeit user_optimize_item(y_idx[user_id], om_idx[user_id], idx[user_id], Z_i, v, b, u_multi, 1.0e-2, user_id)"
     ],
     "language": "python",
     "metadata": {},
     "outputs": [
      {
       "output_type": "stream",
       "stream": "stdout",
       "text": [
        "1000 loops, best of 3: 1.59 ms per loop\n"
       ]
      }
     ],
     "prompt_number": 52
    },
    {
     "cell_type": "code",
     "collapsed": false,
     "input": [
      "plt.figure(figsize=(8,5))\n",
      "plt.plot(0.5 *  (y_idx[user_id] + 1), color='r', alpha=0.75, linestyle='-', marker='', label='Truth')\n",
      "\n",
      "plt.plot(np.exp(Z_i.dot(u_multi[user_id]) + b[idx[user_id]]) / (1 + np.exp(Z_i.dot(u_multi[user_id]) + b[idx[user_id]])), \n",
      "         alpha=0.75, color='g', linestyle='-', marker='o', label='Prior')\n",
      "\n",
      "plt.plot(np.exp(A_i.dot(u_multi[user_id]) + b[idx[user_id]]) / (1 + np.exp(A_i.dot(u_multi[user_id]) + b[idx[user_id]])), \n",
      "         alpha=0.75, color='b', linestyle='--', marker='o', label='Prediction')\n",
      "\n",
      "plt.ylabel('$P[Y=1]$')\n",
      "plt.legend()\n",
      "#plt.axis('tight')\n",
      "#plt.ylim([0.0, 1.1])\n",
      "plt.tight_layout()"
     ],
     "language": "python",
     "metadata": {},
     "outputs": [
      {
       "metadata": {},
       "output_type": "display_data",
       "png": "[encoded data removed]",
       "text": [
        "<matplotlib.figure.Figure at 0x7fbac7a78d10>"
       ]
      }
     ],
     "prompt_number": 53
    },
    {
     "cell_type": "code",
     "collapsed": false,
     "input": [
      "bigrams[23]"
     ],
     "language": "python",
     "metadata": {},
     "outputs": [
      {
       "metadata": {},
       "output_type": "pyout",
       "prompt_number": 54,
       "text": [
        "[(None, 2325), (1101, 2366), (26, 678), (217, 4193), (2159, 4615), (None, 173)]"
       ]
      }
     ],
     "prompt_number": 54
    },
    {
     "cell_type": "code",
     "collapsed": false,
     "input": [
      "H.shape, w0.shape, v.shape, b.shape"
     ],
     "language": "python",
     "metadata": {},
     "outputs": [
      {
       "metadata": {},
       "output_type": "pyout",
       "prompt_number": 55,
       "text": [
        "((5000, 100), (100,), (5000, 2), (5000,))"
       ]
      }
     ],
     "prompt_number": 55
    },
    {
     "cell_type": "code",
     "collapsed": false,
     "input": [
      "reload(PHyG)"
     ],
     "language": "python",
     "metadata": {},
     "outputs": [
      {
       "metadata": {},
       "output_type": "pyout",
       "prompt_number": 56,
       "text": [
        "<module 'PHyG' from '/home/bmcfee/git/playlist_recommender/code/PHyG.pyc'>"
       ]
      }
     ],
     "prompt_number": 56
    },
    {
     "cell_type": "code",
     "collapsed": false,
     "input": [
      "iters = []\n",
      "for uk in 2**np.arange(5, 10):\n",
      "    iters.extend([uk] * 8)"
     ],
     "language": "python",
     "metadata": {},
     "outputs": [],
     "prompt_number": 57
    },
    {
     "cell_type": "code",
     "collapsed": false,
     "input": [
      "print iters"
     ],
     "language": "python",
     "metadata": {},
     "outputs": [
      {
       "output_type": "stream",
       "stream": "stdout",
       "text": [
        "[32, 32, 32, 32, 32, 32, 32, 32, 64, 64, 64, 64, 64, 64, 64, 64, 128, 128, 128, 128, 128, 128, 128, 128, 256, 256, 256, 256, 256, 256, 256, 256, 512, 512, 512, 512, 512, 512, 512, 512]\n"
       ]
      }
     ],
     "prompt_number": 58
    },
    {
     "cell_type": "code",
     "collapsed": false,
     "input": [
      "solutions = np.vstack([PHyG.user_optimize(uk, H, w0, 1e2, v, b, \n",
      "                                          bigrams[0]) \n",
      "                       for uk in iters])"
     ],
     "language": "python",
     "metadata": {},
     "outputs": [
      {
       "ename": "AttributeError",
       "evalue": "'module' object has no attribute 'user_optimize'",
       "output_type": "pyerr",
       "traceback": [
        "\u001b[1;31m---------------------------------------------------------------------------\u001b[0m\n\u001b[1;31mAttributeError\u001b[0m                            Traceback (most recent call last)",
        "\u001b[1;32m<ipython-input-59-d5e31be64626>\u001b[0m in \u001b[0;36m<module>\u001b[1;34m()\u001b[0m\n\u001b[0;32m      1\u001b[0m solutions = np.vstack([PHyG.user_optimize(uk, H, w0, 1e2, v, b, \n\u001b[0;32m      2\u001b[0m                                           bigrams[0]) \n\u001b[1;32m----> 3\u001b[1;33m                        for uk in iters])\n\u001b[0m",
        "\u001b[1;31mAttributeError\u001b[0m: 'module' object has no attribute 'user_optimize'"
       ]
      }
     ],
     "prompt_number": 59
    },
    {
     "cell_type": "code",
     "collapsed": false,
     "input": [
      "plt.scatter(solutions[:,0], solutions[:, 1], \n",
      "            c=np.asarray(iters, dtype=float)/ np.max(iters))\n",
      "plt.tight_layout()"
     ],
     "language": "python",
     "metadata": {},
     "outputs": []
    },
    {
     "cell_type": "code",
     "collapsed": false,
     "input": [
      "dummy_playlists = {'bm106': [ [23, 35, 41, 32, 39],\n",
      "                              [18, 19, 72, 4],\n",
      "                              [12, 9],\n",
      "                              [4],\n",
      "                              [] ] }"
     ],
     "language": "python",
     "metadata": {},
     "outputs": []
    },
    {
     "cell_type": "code",
     "collapsed": false,
     "input": [
      "user_map, dummy_bigrams = PHyG.make_bigrams(dummy_playlists)"
     ],
     "language": "python",
     "metadata": {},
     "outputs": []
    },
    {
     "cell_type": "code",
     "collapsed": false,
     "input": [
      "user_map, dummy_bigrams"
     ],
     "language": "python",
     "metadata": {},
     "outputs": []
    },
    {
     "cell_type": "markdown",
     "metadata": {},
     "source": [
      "---\n",
      "# Model structure\n"
     ]
    },
    {
     "cell_type": "code",
     "collapsed": false,
     "input": [
      "import daft"
     ],
     "language": "python",
     "metadata": {},
     "outputs": [],
     "prompt_number": 56
    },
    {
     "cell_type": "code",
     "collapsed": false,
     "input": [
      "mpld3.disable_notebook()"
     ],
     "language": "python",
     "metadata": {},
     "outputs": [],
     "prompt_number": 58
    },
    {
     "cell_type": "code",
     "collapsed": false,
     "input": [
      "bbox_props = dict(fc=\"w\", ec=\"0.5\", alpha=0.9)\n",
      "\n",
      "pgm = daft.PGM([7, 6], origin=[0.7, 0])\n",
      "\n",
      "pgm.add_node(daft.Node(\"user_prior\", r\"$\\mu_u, \\sigma_u$\", 1, 4, fixed=True))\n",
      "pgm.add_node(daft.Node(\"user_vec\", r\"$u_i$\", 2.0, 4))\n",
      "\n",
      "pgm.add_node(daft.Node(\"edge_prior\", r\"$\\mu_e, \\sigma_e$\", 2.0, 5.5, fixed=True))\n",
      "pgm.add_node(daft.Node(\"edge_weight\", r\"$w_e$\", 3.0, 5.5))\n",
      "\n",
      "\n",
      "pgm.add_node(daft.Node(\"bias_prior\", r\"$\\mu_b, \\sigma_b$\", 5, 1.5, fixed=True))\n",
      "pgm.add_node(daft.Node(\"bias\", r\"$b_j$\", 4, 1.5))\n",
      "\n",
      "pgm.add_node(daft.Node(\"item_prior\", r\"$\\mu_v, \\sigma_v$\", 2, 1.5, fixed=True))\n",
      "pgm.add_node(daft.Node(\"item_vec\", r\"$v_j$\", 3, 1.5))\n",
      "\n",
      "\n",
      "pgm.add_node(daft.Node(\"songt\", r\"$y_t$\", 3, 3, observed=True))\n",
      "pgm.add_node(daft.Node(\"songt1\", r\"$y_{t+1}$\", 4, 3, observed=True))\n",
      "\n",
      "\n",
      "pgm.add_node(daft.Node(\"edget\", r\"$e_t$\", 3, 4))\n",
      "pgm.add_node(daft.Node(\"edget1\", r\"$e_{t+1}$\", 4, 4))\n",
      "\n",
      "# Edges.\n",
      "pgm.add_edge(\"item_prior\", \"item_vec\")\n",
      "pgm.add_edge(\"bias_prior\", \"bias\")\n",
      "\n",
      "pgm.add_edge(\"user_prior\", \"user_vec\")\n",
      "\n",
      "pgm.add_edge(\"edge_prior\", \"edge_weight\")\n",
      "\n",
      "pgm.add_edge(\"edge_weight\", \"edget\")\n",
      "pgm.add_edge(\"edge_weight\", \"edget1\")\n",
      "\n",
      "pgm.add_edge(\"edget\", \"songt\")\n",
      "pgm.add_edge(\"edget1\", \"songt1\")\n",
      "\n",
      "pgm.add_edge(\"songt\", \"edget1\")\n",
      "\n",
      "pgm.add_edge(\"bias\", \"songt\")\n",
      "pgm.add_edge(\"item_vec\", \"songt\")\n",
      "pgm.add_edge(\"user_vec\", \"songt\")\n",
      "\n",
      "pgm.add_edge(\"bias\", \"songt1\")\n",
      "pgm.add_edge(\"item_vec\", \"songt1\")\n",
      "pgm.add_edge(\"user_vec\", \"songt1\")\n",
      "\n",
      "\n",
      "# And a plate.\n",
      "pgm.add_plate(daft.Plate([1.5, 2.2, 3.25, 2.5], \n",
      "                         label=r\"user $i$\", \n",
      "                         shift=-0.15, \n",
      "                         position='bottom right', \n",
      "                         label_offset=[4,6], \n",
      "                         bbox=bbox_props))\n",
      "\n",
      "pgm.add_plate(daft.Plate([2.5, 0.9, 2, 1], \n",
      "                         label=r\"song $j$\", \n",
      "                         shift=-0.1, \n",
      "                         position='bottom right', \n",
      "                         label_offset=[4,8], \n",
      "                         bbox=bbox_props))\n",
      "\n",
      "pgm.add_plate(daft.Plate([2.5, 2.5, 2.0, 2.0], \n",
      "                         label=r\"bigram $t\\rightarrow t+1$\", \n",
      "                         shift=-0.1, \n",
      "                         position='bottom right', \n",
      "                         label_offset=[4,8], \n",
      "                         bbox=bbox_props))\n",
      "\n",
      "\n",
      "pgm.add_plate(daft.Plate([2.5, 4.9, 1.1, 1], \n",
      "                         label=r\"edge $e$\", \n",
      "                         shift=-0.1, \n",
      "                         position='bottom right', \n",
      "                         label_offset=[4,8], \n",
      "                         bbox=bbox_props))\n",
      "\n",
      "pgm.render()\n",
      "#pgm.figure.savefig('/home/bmcfee/git/playlist_recommender/notes/model.pdf')"
     ],
     "language": "python",
     "metadata": {},
     "outputs": [
      {
       "metadata": {},
       "output_type": "pyout",
       "prompt_number": 59,
       "text": [
        "<matplotlib.axes._axes.Axes at 0x7f4c3872e9d0>"
       ]
      },
      {
       "metadata": {},
       "output_type": "display_data",
       "png": "[encoded data removed]",
       "text": [
        "<matplotlib.figure.Figure at 0x7f4c38577e10>"
       ]
      }
     ],
     "prompt_number": 59
    },
    {
     "cell_type": "markdown",
     "metadata": {},
     "source": [
      "---\n",
      "# Other random thoughts\n",
      "\n",
      "## What about initialization?\n",
      "\n",
      "(Levy and Goldberg, 2014) show that word2vec's discriminative training, using $k$ negative samples, is optimizing a factorization of the shifted pairwise mutual information (SPMI) matrix:\n",
      "\n",
      "$$\n",
      "M_{ij} = \\log\\frac{P(i,j)}{P(i)P(j)} - \\log k\n",
      "$$\n",
      "\n",
      "They then propose to use a clipped version of SPMI,\n",
      "\n",
      "$$\n",
      "M^+_{ij} = \\max\\left(0, \\log\\frac{P(i,j)}{P(i)P(j)} - \\log k\\right)\n",
      "$$\n",
      "\n",
      "this matrix is sparse, and facilitates fast optimization.  This suggests initializing $U$ and $V$ from the SSPMI matrix derived from direct user-item interactions.  Synthetic experiments that approximate the sparsity statistics of AotM data indicate that this should take on the order of seconds.\n",
      "\n",
      "## What else?\n",
      "\n"
     ]
    },
    {
     "cell_type": "code",
     "collapsed": false,
     "input": [],
     "language": "python",
     "metadata": {},
     "outputs": []
    }
   ],
   "metadata": {}
  }
 ]
}