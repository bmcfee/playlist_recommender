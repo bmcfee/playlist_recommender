{
 "metadata": {
  "name": "",
  "signature": "sha256:ab35ae2ef26ad0f3160b7ef8fdd0a628c7c493fd6e6c69c673a2de2f38708f6e"
 },
 "nbformat": 3,
 "nbformat_minor": 0,
 "worksheets": [
  {
   "cells": [
    {
     "cell_type": "code",
     "collapsed": false,
     "input": [
      "import pandas as pd\n",
      "import numpy as np\n",
      "import sklearn\n",
      "import matplotlib.pyplot as plt\n",
      "import seaborn\n",
      "seaborn.set(style='dark')\n",
      "%matplotlib inline\n",
      "np.set_printoptions(precision=3)"
     ],
     "language": "python",
     "metadata": {},
     "outputs": [],
     "prompt_number": 22
    },
    {
     "cell_type": "code",
     "collapsed": false,
     "input": [
      "# VQ codebook training\n",
      "from VectorQuantizer import VectorQuantizer"
     ],
     "language": "python",
     "metadata": {},
     "outputs": [],
     "prompt_number": 17
    },
    {
     "cell_type": "code",
     "collapsed": false,
     "input": [
      "# We've already pre-extracted timbre vectors from the 10K subset\n",
      "timbres = pd.read_csv('/home/bmcfee/data/MillionSongSubset/data/alltimbres.csv',\n",
      "                      header=None, dtype=np.float32)"
     ],
     "language": "python",
     "metadata": {},
     "outputs": [],
     "prompt_number": 10
    },
    {
     "cell_type": "code",
     "collapsed": false,
     "input": [
      "timbres.info()"
     ],
     "language": "python",
     "metadata": {},
     "outputs": [
      {
       "output_type": "stream",
       "stream": "stdout",
       "text": [
        "<class 'pandas.core.frame.DataFrame'>\n",
        "Int64Index: 8577406 entries, 0 to 8577405\n",
        "Data columns (total 12 columns):\n",
        "0     float32\n",
        "1     float32\n",
        "2     float32\n",
        "3     float32\n",
        "4     float32\n",
        "5     float32\n",
        "6     float32\n",
        "7     float32\n",
        "8     float32\n",
        "9     float32\n",
        "10    float32\n",
        "11    float32\n",
        "dtypes: float32(12)\n",
        "memory usage: 458.1 MB\n"
       ]
      }
     ],
     "prompt_number": 14
    },
    {
     "cell_type": "code",
     "collapsed": false,
     "input": [
      "VQ = VectorQuantizer(n_atoms=512, batch_size=8192)"
     ],
     "language": "python",
     "metadata": {},
     "outputs": [],
     "prompt_number": 19
    },
    {
     "cell_type": "code",
     "collapsed": false,
     "input": [
      "VQ.fit(timbres)"
     ],
     "language": "python",
     "metadata": {},
     "outputs": [
      {
       "metadata": {},
       "output_type": "pyout",
       "prompt_number": 30,
       "text": [
        "VectorQuantizer(batch_size=8192,\n",
        "        clusterer=MiniBatchKMeans(batch_size=100, compute_labels=True, init='k-means++',\n",
        "        init_size=None, max_iter=100, max_no_improvement=10,\n",
        "        n_clusters=512, n_init=3, random_state=None,\n",
        "        reassignment_ratio=0.01, tol=0.0, verbose=0),\n",
        "        n_atoms=None, n_quantizers=1, sparse=True)"
       ]
      }
     ],
     "prompt_number": 30
    },
    {
     "cell_type": "code",
     "collapsed": false,
     "input": [
      "import cPickle as pickle"
     ],
     "language": "python",
     "metadata": {},
     "outputs": [],
     "prompt_number": 33
    },
    {
     "cell_type": "code",
     "collapsed": false,
     "input": [
      "# Save the VQ object\n",
      "with open('/home/bmcfee/git/playlist_recommender/data/vq512_msd10k_subset.pickle', 'w') as pf:\n",
      "    pickle.dump({'VQ': VQ}, pf, protocol=-1)"
     ],
     "language": "python",
     "metadata": {},
     "outputs": [],
     "prompt_number": 35
    }
   ],
   "metadata": {}
  }
 ]
}