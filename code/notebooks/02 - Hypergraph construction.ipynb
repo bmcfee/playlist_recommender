{
 "metadata": {
  "name": "",
  "signature": "sha256:d4e2bc9c6ba54904c2200754f2aead30b79e16a62299319466f3dce1c728db59"
 },
 "nbformat": 3,
 "nbformat_minor": 0,
 "worksheets": [
  {
   "cells": [
    {
     "cell_type": "code",
     "collapsed": false,
     "input": [
      "import pandas as pd\n",
      "import matplotlib.pyplot as plt\n",
      "import seaborn\n",
      "\n",
      "import sklearn.cluster\n",
      "\n",
      "seaborn.set()\n",
      "%matplotlib inline"
     ],
     "language": "python",
     "metadata": {},
     "outputs": [],
     "prompt_number": 1
    },
    {
     "cell_type": "code",
     "collapsed": false,
     "input": [
      "import numpy as np"
     ],
     "language": "python",
     "metadata": {},
     "outputs": [],
     "prompt_number": 2
    },
    {
     "cell_type": "code",
     "collapsed": false,
     "input": [
      "# Load the playlist data\n",
      "def load_pl_data(plfile):\n",
      "    return pd.read_json(plfile)"
     ],
     "language": "python",
     "metadata": {},
     "outputs": [],
     "prompt_number": 3
    },
    {
     "cell_type": "code",
     "collapsed": false,
     "input": [
      "def load_valid_songs(vsfile, pl_data):\n",
      "    \n",
      "    # Load the valid songs\n",
      "    valid_songs = pd.read_json(vsfile, orient='index')\n",
      "    valid_songs = valid_songs[valid_songs.index.isin(set(pl_data.song_id))]\n",
      "    \n",
      "    return valid_songs"
     ],
     "language": "python",
     "metadata": {},
     "outputs": [],
     "prompt_number": 4
    },
    {
     "cell_type": "code",
     "collapsed": false,
     "input": [
      "def make_uniform_edge(valid_songs):\n",
      "    df = pd.DataFrame(index=valid_songs.index, columns=['[UNIFORM]'], data=1.0, dtype=bool)\n",
      "    df.index.name = 'Song ID'\n",
      "    df.columns.name = 'Edge'\n",
      "    return df"
     ],
     "language": "python",
     "metadata": {},
     "outputs": [],
     "prompt_number": 5
    },
    {
     "cell_type": "code",
     "collapsed": false,
     "input": [
      "valid_songs = load_valid_songs('/home/bmcfee/git/playlist_recommender/data/valid_songs.json', \n",
      "                               load_pl_data('/home/bmcfee/git/playlist_recommender/data/playlist_segments.json'))"
     ],
     "language": "python",
     "metadata": {},
     "outputs": [],
     "prompt_number": 6
    },
    {
     "cell_type": "code",
     "collapsed": false,
     "input": [
      "H_uniform = make_uniform_edge(valid_songs)"
     ],
     "language": "python",
     "metadata": {},
     "outputs": []
    },
    {
     "cell_type": "code",
     "collapsed": false,
     "input": [
      "H_uniform = H_uniform.to_sparse()"
     ],
     "language": "python",
     "metadata": {},
     "outputs": []
    },
    {
     "cell_type": "code",
     "collapsed": false,
     "input": [
      "H_uniform"
     ],
     "language": "python",
     "metadata": {},
     "outputs": []
    },
    {
     "cell_type": "code",
     "collapsed": false,
     "input": [
      "H_uniform.info()"
     ],
     "language": "python",
     "metadata": {},
     "outputs": []
    },
    {
     "cell_type": "code",
     "collapsed": false,
     "input": [
      "whos"
     ],
     "language": "python",
     "metadata": {},
     "outputs": []
    },
    {
     "cell_type": "markdown",
     "metadata": {},
     "source": [
      "---\n",
      "# Tags"
     ]
    },
    {
     "cell_type": "code",
     "collapsed": false,
     "input": [
      "def make_tag_graph(tagfile, valid_songs, target_column='tag'):\n",
      "    # Load the tag data\n",
      "    tag_data = pd.read_json(tagfile)\n",
      "    tag_data = tag_data[tag_data['song_id'].isin(set(valid_songs.index))]\n",
      "    \n",
      "    # Binarize tags\n",
      "    tag_data['value'] = np.where(tag_data['value'] > 0, 1.0, np.nan)\n",
      "        \n",
      "    H_tags = tag_data.pivot(index='song_id', columns=target_column, values='value')\n",
      "\n",
      "    H_tags.columns = [u'[TAG] \"{:s}\"'.format(x) for x in H_tags.columns]\n",
      "    H_tags.columns.name = 'EDGE'\n",
      "    H_tags.index.name = 'Song ID'\n",
      "    \n",
      "    H_tags.sort_index(axis=1, inplace=True)\n",
      "    return H_tags.to_sparse()"
     ],
     "language": "python",
     "metadata": {},
     "outputs": []
    },
    {
     "cell_type": "code",
     "collapsed": false,
     "input": [
      "H_tags = make_tag_graph('/home/bmcfee/git/playlist_recommender/data/song_tags.json', valid_songs, target_column='tag_stem')"
     ],
     "language": "python",
     "metadata": {},
     "outputs": []
    },
    {
     "cell_type": "code",
     "collapsed": false,
     "input": [
      "H_tags"
     ],
     "language": "python",
     "metadata": {},
     "outputs": []
    },
    {
     "cell_type": "code",
     "collapsed": false,
     "input": [
      "H_tags.info()"
     ],
     "language": "python",
     "metadata": {},
     "outputs": []
    },
    {
     "cell_type": "code",
     "collapsed": false,
     "input": [
      "H_uniform.shape, H_tags.shape"
     ],
     "language": "python",
     "metadata": {},
     "outputs": []
    },
    {
     "cell_type": "markdown",
     "metadata": {},
     "source": [
      "---\n",
      "# Metadata"
     ]
    },
    {
     "cell_type": "code",
     "collapsed": false,
     "input": [
      "def make_era_graph(metafile, valid_songs):\n",
      "    # Load the metadata\n",
      "    meta_data = pd.read_json(metafile)\n",
      "    meta_data = meta_data[meta_data['song_id'].isin(set(valid_songs.index))]\n",
      "    del meta_data['artist_familiarity']\n",
      "    del meta_data['duration']\n",
      "    \n",
      "    meta_data.index = meta_data.song_id\n",
      "    del meta_data['song_id']\n",
      "    meta_data = meta_data.dropna()\n",
      "    \n",
      "    # Construct a membership vector\n",
      "    # Make a decade index\n",
      "    meta_data['decade'] = meta_data['year'] - np.mod(meta_data['year'], 10)\n",
      "    meta_data['decade_5'] = meta_data['year'] - np.mod(meta_data['year'] - 5, 10)\n",
      "    \n",
      "    meta_data['in'] = 1\n",
      "    \n",
      "    # Get the min and max range of the year\n",
      "    H_year = pd.pivot_table(meta_data, index=meta_data.index, columns='year', values='in')\n",
      "    H_year.columns = ['[ERA] {:4d}'.format(int(x)) for x in H_year.columns]\n",
      "    \n",
      "    H_decade = pd.pivot_table(meta_data, index=meta_data.index, columns='decade', values='in')\n",
      "    H_decade = H_decade.join(pd.pivot_table(meta_data, index=meta_data.index, columns='decade_5', values='in'))\n",
      "    \n",
      "    H_decade.columns = ['[ERA] {:4d}--{:4d}'.format(int(x), int(x) + 10) for x in H_decade.columns]\n",
      "    \n",
      "    H_year.columns.name = 'EDGE'\n",
      "    H_year.index.name = 'Song ID'\n",
      "    H_decade.columns.name = 'EDGE'\n",
      "    H_decade.index.name = 'Song ID'\n",
      "    \n",
      "    H_year.sort_index(axis=1, inplace=True)\n",
      "    H_decade.sort_index(axis=1, inplace=True)\n",
      "    return H_year.to_sparse(), H_decade.to_sparse()"
     ],
     "language": "python",
     "metadata": {},
     "outputs": []
    },
    {
     "cell_type": "code",
     "collapsed": false,
     "input": [
      "H_year, H_decade = make_era_graph('/home/bmcfee/git/playlist_recommender/data/song_metadata.json', valid_songs)"
     ],
     "language": "python",
     "metadata": {},
     "outputs": []
    },
    {
     "cell_type": "markdown",
     "metadata": {},
     "source": [
      "# Audio"
     ]
    },
    {
     "cell_type": "code",
     "collapsed": false,
     "input": [
      "def load_audio_features(valid_songs, vq_file):\n",
      "    \n",
      "    # Load in all the vq data\n",
      "    vq = pd.read_pickle(vq_file)\n",
      "    \n",
      "    # join down to just the valid tracks\n",
      "    vq = vq[vq.index.isin(set(valid_songs.track_id))]\n",
      "    vq.index.name = 'track_id'\n",
      "    \n",
      "    song_to_track = valid_songs[['track_id']]\n",
      "\n",
      "    vq = song_to_track.join(vq, on='track_id', how='inner')\n",
      "    \n",
      "    del vq['track_id']\n",
      "    \n",
      "    return vq"
     ],
     "language": "python",
     "metadata": {},
     "outputs": []
    },
    {
     "cell_type": "code",
     "collapsed": false,
     "input": [
      "def make_audio_edges(audio_vq, k, prefix='AUDIO'):\n",
      "    \n",
      "    \n",
      "    # Build the clustering object\n",
      "    C = sklearn.cluster.MiniBatchKMeans(n_clusters=k, batch_size=1000, n_init=50)\n",
      "    \n",
      "    # Fit the clustering using ppk/hellinger distance\n",
      "    # y now holds the cluster id for each example\n",
      "    y = np.argmin(C.fit_transform(audio_vq**0.5), axis=1)\n",
      "    \n",
      "    # Build the edge map\n",
      "    H = pd.DataFrame(index=audio_vq.index, dtype='float32',\n",
      "                     columns=['[{:s}] {:d}/{:d}'.format(prefix, n, k) for n in range(k)])\n",
      "    for song_id, label in zip(audio_vq.index, y):\n",
      "        H.loc[song_id].iloc[label] = 1.0\n",
      "        \n",
      "    return H"
     ],
     "language": "python",
     "metadata": {},
     "outputs": []
    },
    {
     "cell_type": "code",
     "collapsed": false,
     "input": [
      "audio_vq = load_audio_features(valid_songs, '/home/bmcfee/git/playlist_recommender/data/msd_vq512_vqhist_all.pickle')"
     ],
     "language": "python",
     "metadata": {},
     "outputs": []
    },
    {
     "cell_type": "code",
     "collapsed": false,
     "input": [
      "H_audio16 = make_audio_edges(audio_vq, 16)"
     ],
     "language": "python",
     "metadata": {},
     "outputs": []
    },
    {
     "cell_type": "code",
     "collapsed": false,
     "input": [
      "H_audio64 = make_audio_edges(audio_vq, 64)"
     ],
     "language": "python",
     "metadata": {},
     "outputs": []
    },
    {
     "cell_type": "code",
     "collapsed": false,
     "input": [
      "H_audio256 = make_audio_edges(audio_vq, 256)"
     ],
     "language": "python",
     "metadata": {},
     "outputs": []
    },
    {
     "cell_type": "code",
     "collapsed": false,
     "input": [
      "H_audio16.head(5)"
     ],
     "language": "python",
     "metadata": {},
     "outputs": []
    },
    {
     "cell_type": "code",
     "collapsed": false,
     "input": [
      "H_audio16.describe()"
     ],
     "language": "python",
     "metadata": {},
     "outputs": []
    },
    {
     "cell_type": "code",
     "collapsed": false,
     "input": [
      "H_audio64.describe()"
     ],
     "language": "python",
     "metadata": {},
     "outputs": []
    },
    {
     "cell_type": "code",
     "collapsed": false,
     "input": [
      "H_audio256.describe()"
     ],
     "language": "python",
     "metadata": {},
     "outputs": []
    },
    {
     "cell_type": "code",
     "collapsed": false,
     "input": [
      "H_audio = H_audio16.join(H_audio64.join(H_audio256))"
     ],
     "language": "python",
     "metadata": {},
     "outputs": []
    },
    {
     "cell_type": "code",
     "collapsed": false,
     "input": [
      "H_audio = H_audio.to_sparse()"
     ],
     "language": "python",
     "metadata": {},
     "outputs": []
    },
    {
     "cell_type": "code",
     "collapsed": false,
     "input": [
      "H_audio.to_dense().head(5)"
     ],
     "language": "python",
     "metadata": {},
     "outputs": []
    },
    {
     "cell_type": "markdown",
     "metadata": {},
     "source": [
      "# Endut"
     ]
    },
    {
     "cell_type": "code",
     "collapsed": false,
     "input": [
      "print 'Tags'\n",
      "print H_tags.count().describe()\n",
      "print '\\nEra - year'\n",
      "print H_year.count().describe()\n",
      "print '\\nEra - decade'\n",
      "print H_decade.count().describe()\n",
      "print '\\nAudio'\n",
      "print H_audio.count().describe()"
     ],
     "language": "python",
     "metadata": {},
     "outputs": []
    },
    {
     "cell_type": "code",
     "collapsed": false,
     "input": [
      "valid_songs.info()"
     ],
     "language": "python",
     "metadata": {},
     "outputs": []
    },
    {
     "cell_type": "code",
     "collapsed": false,
     "input": [
      "print H_year.density, H_decade.density, H_tags.density"
     ],
     "language": "python",
     "metadata": {},
     "outputs": []
    },
    {
     "cell_type": "code",
     "collapsed": false,
     "input": [
      "H_decade.to_dense()"
     ],
     "language": "python",
     "metadata": {},
     "outputs": []
    },
    {
     "cell_type": "code",
     "collapsed": false,
     "input": [
      "H_year.to_dense()"
     ],
     "language": "python",
     "metadata": {},
     "outputs": []
    },
    {
     "cell_type": "code",
     "collapsed": false,
     "input": [
      "whos"
     ],
     "language": "python",
     "metadata": {},
     "outputs": []
    },
    {
     "cell_type": "code",
     "collapsed": false,
     "input": [
      "H_uniform.to_pickle('/home/bmcfee/git/playlist_recommender/data/edges/uniform.pickle')"
     ],
     "language": "python",
     "metadata": {},
     "outputs": []
    },
    {
     "cell_type": "code",
     "collapsed": false,
     "input": [
      "H_tags.to_pickle('/home/bmcfee/git/playlist_recommender/data/edges/tags.pickle')"
     ],
     "language": "python",
     "metadata": {},
     "outputs": []
    },
    {
     "cell_type": "code",
     "collapsed": false,
     "input": [
      "H_year.to_pickle('/home/bmcfee/git/playlist_recommender/data/edges/era_year.pickle')"
     ],
     "language": "python",
     "metadata": {},
     "outputs": []
    },
    {
     "cell_type": "code",
     "collapsed": false,
     "input": [
      "H_decade.to_pickle('/home/bmcfee/git/playlist_recommender/data/edges/era_decade.pickle')"
     ],
     "language": "python",
     "metadata": {},
     "outputs": []
    },
    {
     "cell_type": "code",
     "collapsed": false,
     "input": [
      "H_audio.to_pickle('/home/bmcfee/git/playlist_recommender/data/edges/audio.pickle')"
     ],
     "language": "python",
     "metadata": {},
     "outputs": []
    },
    {
     "cell_type": "markdown",
     "metadata": {},
     "source": [
      "---\n",
      "# Loading edges"
     ]
    },
    {
     "cell_type": "code",
     "collapsed": false,
     "input": [
      "H_uniform = pd.read_pickle('/home/bmcfee/git/playlist_recommender/data/edges/uniform.pickle')\n",
      "H_tags = pd.read_pickle('/home/bmcfee/git/playlist_recommender/data/edges/tags.pickle')\n",
      "H_year = pd.read_pickle('/home/bmcfee/git/playlist_recommender/data/edges/era_year.pickle')\n",
      "H_decade = pd.read_pickle('/home/bmcfee/git/playlist_recommender/data/edges/era_decade.pickle')\n",
      "H_audio = pd.read_pickle('/home/bmcfee/git/playlist_recommender/data/edges/audio.pickle')"
     ],
     "language": "python",
     "metadata": {},
     "outputs": [],
     "prompt_number": 6
    },
    {
     "cell_type": "code",
     "collapsed": false,
     "input": [
      "H_audio.info()"
     ],
     "language": "python",
     "metadata": {},
     "outputs": [
      {
       "output_type": "stream",
       "stream": "stdout",
       "text": [
        "<class 'pandas.sparse.frame.SparseDataFrame'>\n",
        "Index: 114464 entries, SOAAAFI12A6D4F9C66 to SOZZZWN12AF72A1E29\n",
        "Columns: 336 entries, [AUDIO] 0/16 to [AUDIO] 99/256\n",
        "dtypes: float64(336)\n",
        "memory usage: 3.5+ MB\n"
       ]
      }
     ],
     "prompt_number": 7
    },
    {
     "cell_type": "markdown",
     "metadata": {},
     "source": [
      "---\n",
      "# Pruning edges that aren't large enough"
     ]
    },
    {
     "cell_type": "code",
     "collapsed": false,
     "input": [
      "#H_small = H_tags.drop(H_tags.columns[H_tags.count() < 100], axis=1)"
     ],
     "language": "python",
     "metadata": {},
     "outputs": [],
     "prompt_number": 17
    },
    {
     "cell_type": "code",
     "collapsed": false,
     "input": [
      "#H_small.info()"
     ],
     "language": "python",
     "metadata": {},
     "outputs": [],
     "prompt_number": 18
    },
    {
     "cell_type": "code",
     "collapsed": false,
     "input": [
      "#H_small.describe()"
     ],
     "language": "python",
     "metadata": {},
     "outputs": [],
     "prompt_number": 19
    },
    {
     "cell_type": "markdown",
     "metadata": {},
     "source": [
      "---\n",
      "# Joining edges\n",
      "\n",
      "Note: joining sparse dataframes works, but you have to explicitly cast the result to sparse again"
     ]
    },
    {
     "cell_type": "code",
     "collapsed": false,
     "input": [
      "from itertools import combinations"
     ],
     "language": "python",
     "metadata": {},
     "outputs": [],
     "prompt_number": 8
    },
    {
     "cell_type": "code",
     "collapsed": false,
     "input": [
      "import progressbar"
     ],
     "language": "python",
     "metadata": {},
     "outputs": [],
     "prompt_number": 9
    },
    {
     "cell_type": "code",
     "collapsed": false,
     "input": [
      "def conjunction_edges(H, max_redundancy=0.5, min_size=100):\n",
      "    '''Construct conjunction edges'''\n",
      "    \n",
      "    H = H.drop(H.columns[H.count() < min_size], axis=1)\n",
      "    columns = list(H.columns)\n",
      "    n = len(columns)\n",
      "    \n",
      "    H_new = pd.DataFrame(index=H.index, dtype='float32')\n",
      "    \n",
      "    counts = H.count()\n",
      "    \n",
      "    widgets = [progressbar.Percentage(),\n",
      "               ' ',\n",
      "               progressbar.Bar(marker=progressbar.RotatingMarker()),\n",
      "               ' ',\n",
      "               progressbar.ETA()]\n",
      "    \n",
      "    pbar = progressbar.ProgressBar(widgets=widgets, maxval=n * (n-1) / 2).start()\n",
      "    \n",
      "    for i, (c1, c2) in enumerate(combinations(columns, 2)):\n",
      "        pbar.update(i)\n",
      "        \n",
      "        new_column = H[c1] * H[c2]\n",
      "        new_count = new_column.count()\n",
      "        \n",
      "        if (new_count < min_size or \n",
      "            new_count >= max_redundancy * min(counts.loc[c1], counts.loc[c2])):\n",
      "            continue\n",
      "        \n",
      "        H_new[u'[CONJ] [{:s}] [{:s}]'.format(c1, c2)] = new_column\n",
      "    \n",
      "    pbar.finish()\n",
      "    return H_new.to_sparse()"
     ],
     "language": "python",
     "metadata": {},
     "outputs": [],
     "prompt_number": 10
    },
    {
     "cell_type": "code",
     "collapsed": false,
     "input": [
      "H_all = H_uniform.join(H_tags, \n",
      "                       how='outer').join(H_year,\n",
      "                                         how='outer').join(H_decade,\n",
      "                                                           how='outer').join(H_audio,\n",
      "                                                                             how='outer').to_sparse()"
     ],
     "language": "python",
     "metadata": {},
     "outputs": [],
     "prompt_number": 11
    },
    {
     "cell_type": "code",
     "collapsed": false,
     "input": [
      "H_all.info()"
     ],
     "language": "python",
     "metadata": {},
     "outputs": [
      {
       "output_type": "stream",
       "stream": "stdout",
       "text": [
        "<class 'pandas.sparse.frame.SparseDataFrame'>\n",
        "Index: 114464 entries, SOAAAFI12A6D4F9C66 to SOZZZWN12AF72A1E29\n",
        "Columns: 2124 entries, [AUDIO] 0/16 to [UNIFORM]\n",
        "dtypes: float64(2124)\n",
        "memory usage: 15.9+ MB\n"
       ]
      }
     ],
     "prompt_number": 12
    },
    {
     "cell_type": "code",
     "collapsed": false,
     "input": [
      "counts = H_all.count()"
     ],
     "language": "python",
     "metadata": {},
     "outputs": [],
     "prompt_number": 13
    },
    {
     "cell_type": "code",
     "collapsed": false,
     "input": [
      "counts.quantile(np.linspace(0, 1, 21, endpoint=True))"
     ],
     "language": "python",
     "metadata": {},
     "outputs": [
      {
       "metadata": {},
       "output_type": "pyout",
       "prompt_number": 14,
       "text": [
        "0.00         0.00\n",
        "0.05         0.00\n",
        "0.10         0.00\n",
        "0.15        37.35\n",
        "0.20       131.00\n",
        "0.25       172.00\n",
        "0.30       198.90\n",
        "0.35       225.00\n",
        "0.40       250.00\n",
        "0.45       281.00\n",
        "0.50       318.50\n",
        "0.55       366.30\n",
        "0.60       418.80\n",
        "0.65       471.90\n",
        "0.70       546.10\n",
        "0.75       640.00\n",
        "0.80       803.00\n",
        "0.85      1099.00\n",
        "0.90      1803.10\n",
        "0.95      3401.25\n",
        "1.00    114464.00\n",
        "dtype: float64"
       ]
      }
     ],
     "prompt_number": 14
    },
    {
     "cell_type": "markdown",
     "metadata": {},
     "source": [
      "Looks like 15% of the edges have fewer than 37 songs.  Let's set the cutoff at the median."
     ]
    },
    {
     "cell_type": "code",
     "collapsed": false,
     "input": [
      "H_conj = conjunction_edges(H_all, min_size=318)"
     ],
     "language": "python",
     "metadata": {},
     "outputs": [
      {
       "javascript": [
        "//538a421f-1159-4d0d-aa1d-69afde1c17e2\n",
        "$(\"head\").append(\"<style> td.pb_widget {     width: auto; } td.pb_widget_fill {     width: 100%; } table.pb {     font-family: monospace;     border: 0;     margin: 0; } table.pb tr { border: 0; } table.pb td {     white-space: nowrap;     border: 0; } div.pb {     border: 1px solid #ddd;     border-radius: 3px; } div.pb_bar {     height: 1.5em; } </style>\")"
       ],
       "metadata": {},
       "output_type": "display_data",
       "text": [
        "<IPython.core.display.Javascript at 0x7f2aa124a050>"
       ]
      },
      {
       "javascript": [
        "\n",
        "                  // 538a421f-1159-4d0d-aa1d-69afde1c17e2 -- used to remove this code blob in the end\n",
        "                  IPython.OutputArea.prototype.cleanProgressBar = function(uuids) {\n",
        "                      // filter by uuid-strings \n",
        "                      var myfilter = function(output) { \n",
        "                          var nuids = uuids.length;\n",
        "                          for (var i=0; i<nuids; i++) {\n",
        "                              if (output.hasOwnProperty('html')) {\n",
        "                                  if (output.html.indexOf(uuids[i]) != -1) {\n",
        "                                      return false;\n",
        "                                  }\n",
        "                              }\n",
        "                              if (output.hasOwnProperty('javascript')) {\n",
        "                                  if (output.javascript.indexOf(uuids[i]) != -1) {\n",
        "                                      return false;\n",
        "                                  }\n",
        "                              }\n",
        "                          }\n",
        "                          // keep all others\n",
        "                          return true;\n",
        "                      };\n",
        "\n",
        "                      // Filter the ouputs\n",
        "                      this.outputs = this.outputs.filter(myfilter);\n",
        "                };\n",
        "                "
       ],
       "metadata": {},
       "output_type": "display_data",
       "text": [
        "<IPython.core.display.Javascript at 0x7f2a98ae16d0>"
       ]
      },
      {
       "html": [
        "<div class=\"pb\" id=\"538a421f-1159-4d0d-aa1d-69afde1c17e2\"><table class=\"pb ui-widget\"><tr>\n",
        "<td class=\"pb_widget\"><div id=\"85400189-6928-448f-a97c-883694aea79a\">  0%</div></td>\n",
        "<td class=\"pb_widget\"> </td>\n",
        "<td class=\"pb_widget_fill\">\n",
        "        <div class=\"pb_bar\" id=\"73d29a16-56e5-4057-bc7d-518521da0697\"></div>\n",
        "        <script type=\"text/javascript\">\n",
        "            $(\"div#73d29a16-56e5-4057-bc7d-518521da0697\").progressbar({value: 0, max: 565516});\n",
        "        </script>\n",
        "        </td>\n",
        "<td class=\"pb_widget\"> </td>\n",
        "<td class=\"pb_widget\"><div id=\"ae1516f6-5e19-4df3-ac07-cf68e1f52e55\">ETA:  --:--:--</div></td>\n",
        "</tr></table><div>"
       ],
       "metadata": {},
       "output_type": "display_data",
       "text": [
        "<IPython.core.display.HTML at 0x7f2a98ae1050>"
       ]
      },
      {
       "javascript": [
        "$('div#85400189-6928-448f-a97c-883694aea79a').text('  0%');"
       ],
       "metadata": {},
       "output_type": "display_data",
       "text": [
        "<IPython.core.display.Javascript at 0x7f2a95475890>"
       ]
      },
      {
       "javascript": [
        "\n",
        "        var $myPB = $(\"div#73d29a16-56e5-4057-bc7d-518521da0697\")\n",
        "        if ($myPB.hasClass('ui-progressbar')) {\n",
        "            $myPB.progressbar('value', 2024);\n",
        "        } else {\n",
        "            $myPB.progressbar({value: 0, max: 565516});\n",
        "        }\n",
        "        "
       ],
       "metadata": {},
       "output_type": "display_data",
       "text": [
        "<IPython.core.display.Javascript at 0x7f2a954758d0>"
       ]
      },
      {
       "javascript": [
        "$('div#ae1516f6-5e19-4df3-ac07-cf68e1f52e55').text('ETA:  0:04:38');"
       ],
       "metadata": {},
       "output_type": "display_data",
       "text": [
        "<IPython.core.display.Javascript at 0x7f2a95475910>"
       ]
      },
      {
       "javascript": [
        "$('div#85400189-6928-448f-a97c-883694aea79a').text('  0%');"
       ],
       "metadata": {},
       "output_type": "display_data",
       "text": [
        "<IPython.core.display.Javascript at 0x7f2a95491490>"
       ]
      },
      {
       "javascript": [
        "\n",
        "        var $myPB = $(\"div#73d29a16-56e5-4057-bc7d-518521da0697\")\n",
        "        if ($myPB.hasClass('ui-progressbar')) {\n",
        "            $myPB.progressbar('value', 3997);\n",
        "        } else {\n",
        "            $myPB.progressbar({value: 0, max: 565516});\n",
        "        }\n",
        "        "
       ],
       "metadata": {},
       "output_type": "display_data",
       "text": [
        "<IPython.core.display.Javascript at 0x7f2a95491550>"
       ]
      },
      {
       "javascript": [
        "$('div#ae1516f6-5e19-4df3-ac07-cf68e1f52e55').text('ETA:  0:04:41');"
       ],
       "metadata": {},
       "output_type": "display_data",
       "text": [
        "<IPython.core.display.Javascript at 0x7f2a95491510>"
       ]
      },
      {
       "javascript": [
        "$('div#85400189-6928-448f-a97c-883694aea79a').text('  1%');"
       ],
       "metadata": {},
       "output_type": "display_data",
       "text": [
        "<IPython.core.display.Javascript at 0x7f2a954913d0>"
       ]
      },
      {
       "javascript": [
        "\n",
        "        var $myPB = $(\"div#73d29a16-56e5-4057-bc7d-518521da0697\")\n",
        "        if ($myPB.hasClass('ui-progressbar')) {\n",
        "            $myPB.progressbar('value', 6170);\n",
        "        } else {\n",
        "            $myPB.progressbar({value: 0, max: 565516});\n",
        "        }\n",
        "        "
       ],
       "metadata": {},
       "output_type": "display_data",
       "text": [
        "<IPython.core.display.Javascript at 0x7f2a95475890>"
       ]
      },
      {
       "javascript": [
        "$('div#ae1516f6-5e19-4df3-ac07-cf68e1f52e55').text('ETA:  0:04:32');"
       ],
       "metadata": {},
       "output_type": "display_data",
       "text": [
        "<IPython.core.display.Javascript at 0x7f2a954758d0>"
       ]
      },
      {
       "javascript": [
        "$('div#85400189-6928-448f-a97c-883694aea79a').text('  1%');"
       ],
       "metadata": {},
       "output_type": "display_data",
       "text": [
        "<IPython.core.display.Javascript at 0x7f2a954912d0>"
       ]
      },
      {
       "javascript": [
        "\n",
        "        var $myPB = $(\"div#73d29a16-56e5-4057-bc7d-518521da0697\")\n",
        "        if ($myPB.hasClass('ui-progressbar')) {\n",
        "            $myPB.progressbar('value', 8008);\n",
        "        } else {\n",
        "            $myPB.progressbar({value: 0, max: 565516});\n",
        "        }\n",
        "        "
       ],
       "metadata": {},
       "output_type": "display_data",
       "text": [
        "<IPython.core.display.Javascript at 0x7f2a95491050>"
       ]
      },
      {
       "javascript": [
        "$('div#ae1516f6-5e19-4df3-ac07-cf68e1f52e55').text('ETA:  0:04:38');"
       ],
       "metadata": {},
       "output_type": "display_data",
       "text": [
        "<IPython.core.display.Javascript at 0x7f2a95491690>"
       ]
      },
      {
       "javascript": [
        "$('div#85400189-6928-448f-a97c-883694aea79a').text('  1%');"
       ],
       "metadata": {},
       "output_type": "display_data",
       "text": [
        "<IPython.core.display.Javascript at 0x7f2a954758d0>"
       ]
      },
      {
       "javascript": [
        "\n",
        "        var $myPB = $(\"div#73d29a16-56e5-4057-bc7d-518521da0697\")\n",
        "        if ($myPB.hasClass('ui-progressbar')) {\n",
        "            $myPB.progressbar('value', 10148);\n",
        "        } else {\n",
        "            $myPB.progressbar({value: 0, max: 565516});\n",
        "        }\n",
        "        "
       ],
       "metadata": {},
       "output_type": "display_data",
       "text": [
        "<IPython.core.display.Javascript at 0x7f2a95475d50>"
       ]
      },
      {
       "javascript": [
        "$('div#ae1516f6-5e19-4df3-ac07-cf68e1f52e55').text('ETA:  0:04:33');"
       ],
       "metadata": {},
       "output_type": "display_data",
       "text": [
        "<IPython.core.display.Javascript at 0x7f2a95475910>"
       ]
      },
      {
       "javascript": [
        "$('div#85400189-6928-448f-a97c-883694aea79a').text('  2%');"
       ],
       "metadata": {},
       "output_type": "display_data",
       "text": [
        "<IPython.core.display.Javascript at 0x7f2a95475b10>"
       ]
      },
      {
       "javascript": [
        "\n",
        "        var $myPB = $(\"div#73d29a16-56e5-4057-bc7d-518521da0697\")\n",
        "        if ($myPB.hasClass('ui-progressbar')) {\n",
        "            $myPB.progressbar('value', 12474);\n",
        "        } else {\n",
        "            $myPB.progressbar({value: 0, max: 565516});\n",
        "        }\n",
        "        "
       ],
       "metadata": {},
       "output_type": "display_data",
       "text": [
        "<IPython.core.display.Javascript at 0x7f2a95475ad0>"
       ]
      },
      {
       "javascript": [
        "$('div#ae1516f6-5e19-4df3-ac07-cf68e1f52e55').text('ETA:  0:04:26');"
       ],
       "metadata": {},
       "output_type": "display_data",
       "text": [
        "<IPython.core.display.Javascript at 0x7f2a95475a90>"
       ]
      },
      {
       "javascript": [
        "$('div#85400189-6928-448f-a97c-883694aea79a').text('  2%');"
       ],
       "metadata": {},
       "output_type": "display_data",
       "text": [
        "<IPython.core.display.Javascript at 0x7f2a95475c10>"
       ]
      },
      {
       "javascript": [
        "\n",
        "        var $myPB = $(\"div#73d29a16-56e5-4057-bc7d-518521da0697\")\n",
        "        if ($myPB.hasClass('ui-progressbar')) {\n",
        "            $myPB.progressbar('value', 14747);\n",
        "        } else {\n",
        "            $myPB.progressbar({value: 0, max: 565516});\n",
        "        }\n",
        "        "
       ],
       "metadata": {},
       "output_type": "display_data",
       "text": [
        "<IPython.core.display.Javascript at 0x7f2a95475bd0>"
       ]
      },
      {
       "javascript": [
        "$('div#ae1516f6-5e19-4df3-ac07-cf68e1f52e55').text('ETA:  0:04:21');"
       ],
       "metadata": {},
       "output_type": "display_data",
       "text": [
        "<IPython.core.display.Javascript at 0x7f2a95475c50>"
       ]
      },
      {
       "javascript": [
        "$('div#85400189-6928-448f-a97c-883694aea79a').text('  3%');"
       ],
       "metadata": {},
       "output_type": "display_data",
       "text": [
        "<IPython.core.display.Javascript at 0x7f2a95475b90>"
       ]
      },
      {
       "javascript": [
        "\n",
        "        var $myPB = $(\"div#73d29a16-56e5-4057-bc7d-518521da0697\")\n",
        "        if ($myPB.hasClass('ui-progressbar')) {\n",
        "            $myPB.progressbar('value', 17000);\n",
        "        } else {\n",
        "            $myPB.progressbar({value: 0, max: 565516});\n",
        "        }\n",
        "        "
       ],
       "metadata": {},
       "output_type": "display_data",
       "text": [
        "<IPython.core.display.Javascript at 0x7f2a95475c90>"
       ]
      },
      {
       "javascript": [
        "$('div#ae1516f6-5e19-4df3-ac07-cf68e1f52e55').text('ETA:  0:04:18');"
       ],
       "metadata": {},
       "output_type": "display_data",
       "text": [
        "<IPython.core.display.Javascript at 0x7f2a95475d10>"
       ]
      },
      {
       "javascript": [
        "$('div#85400189-6928-448f-a97c-883694aea79a').text('  3%');"
       ],
       "metadata": {},
       "output_type": "display_data",
       "text": [
        "<IPython.core.display.Javascript at 0x7f2a95475f10>"
       ]
      },
      {
       "javascript": [
        "\n",
        "        var $myPB = $(\"div#73d29a16-56e5-4057-bc7d-518521da0697\")\n",
        "        if ($myPB.hasClass('ui-progressbar')) {\n",
        "            $myPB.progressbar('value', 18966);\n",
        "        } else {\n",
        "            $myPB.progressbar({value: 0, max: 565516});\n",
        "        }\n",
        "        "
       ],
       "metadata": {},
       "output_type": "display_data",
       "text": [
        "<IPython.core.display.Javascript at 0x7f2a95475d10>"
       ]
      },
      {
       "javascript": [
        "$('div#ae1516f6-5e19-4df3-ac07-cf68e1f52e55').text('ETA:  0:04:19');"
       ],
       "metadata": {},
       "output_type": "display_data",
       "text": [
        "<IPython.core.display.Javascript at 0x7f2a95475c90>"
       ]
      },
      {
       "javascript": [
        "$('div#85400189-6928-448f-a97c-883694aea79a').text('  3%');"
       ],
       "metadata": {},
       "output_type": "display_data",
       "text": [
        "<IPython.core.display.Javascript at 0x7f2a95475c50>"
       ]
      },
      {
       "javascript": [
        "\n",
        "        var $myPB = $(\"div#73d29a16-56e5-4057-bc7d-518521da0697\")\n",
        "        if ($myPB.hasClass('ui-progressbar')) {\n",
        "            $myPB.progressbar('value', 21094);\n",
        "        } else {\n",
        "            $myPB.progressbar({value: 0, max: 565516});\n",
        "        }\n",
        "        "
       ],
       "metadata": {},
       "output_type": "display_data",
       "text": [
        "<IPython.core.display.Javascript at 0x7f2a958c3a10>"
       ]
      },
      {
       "javascript": [
        "$('div#ae1516f6-5e19-4df3-ac07-cf68e1f52e55').text('ETA:  0:04:18');"
       ],
       "metadata": {},
       "output_type": "display_data",
       "text": [
        "<IPython.core.display.Javascript at 0x7f2a9ae9a110>"
       ]
      },
      {
       "javascript": [
        "$('div#85400189-6928-448f-a97c-883694aea79a').text('  4%');"
       ],
       "metadata": {},
       "output_type": "display_data",
       "text": [
        "<IPython.core.display.Javascript at 0x7f2a9ae93d10>"
       ]
      },
      {
       "javascript": [
        "\n",
        "        var $myPB = $(\"div#73d29a16-56e5-4057-bc7d-518521da0697\")\n",
        "        if ($myPB.hasClass('ui-progressbar')) {\n",
        "            $myPB.progressbar('value', 23412);\n",
        "        } else {\n",
        "            $myPB.progressbar({value: 0, max: 565516});\n",
        "        }\n",
        "        "
       ],
       "metadata": {},
       "output_type": "display_data",
       "text": [
        "<IPython.core.display.Javascript at 0x7f2a92ba8050>"
       ]
      },
      {
       "javascript": [
        "$('div#ae1516f6-5e19-4df3-ac07-cf68e1f52e55').text('ETA:  0:04:14');"
       ],
       "metadata": {},
       "output_type": "display_data",
       "text": [
        "<IPython.core.display.Javascript at 0x7f2a954914d0>"
       ]
      },
      {
       "javascript": [
        "$('div#85400189-6928-448f-a97c-883694aea79a').text('  4%');"
       ],
       "metadata": {},
       "output_type": "display_data",
       "text": [
        "<IPython.core.display.Javascript at 0x7f2a95491410>"
       ]
      },
      {
       "javascript": [
        "\n",
        "        var $myPB = $(\"div#73d29a16-56e5-4057-bc7d-518521da0697\")\n",
        "        if ($myPB.hasClass('ui-progressbar')) {\n",
        "            $myPB.progressbar('value', 25664);\n",
        "        } else {\n",
        "            $myPB.progressbar({value: 0, max: 565516});\n",
        "        }\n",
        "        "
       ],
       "metadata": {},
       "output_type": "display_data",
       "text": [
        "<IPython.core.display.Javascript at 0x7f2a95491950>"
       ]
      },
      {
       "javascript": [
        "$('div#ae1516f6-5e19-4df3-ac07-cf68e1f52e55').text('ETA:  0:04:12');"
       ],
       "metadata": {},
       "output_type": "display_data",
       "text": [
        "<IPython.core.display.Javascript at 0x7f2a95491510>"
       ]
      },
      {
       "javascript": [
        "$('div#85400189-6928-448f-a97c-883694aea79a').text('  4%');"
       ],
       "metadata": {},
       "output_type": "display_data",
       "text": [
        "<IPython.core.display.Javascript at 0x7f2a95491210>"
       ]
      },
      {
       "javascript": [
        "\n",
        "        var $myPB = $(\"div#73d29a16-56e5-4057-bc7d-518521da0697\")\n",
        "        if ($myPB.hasClass('ui-progressbar')) {\n",
        "            $myPB.progressbar('value', 27958);\n",
        "        } else {\n",
        "            $myPB.progressbar({value: 0, max: 565516});\n",
        "        }\n",
        "        "
       ],
       "metadata": {},
       "output_type": "display_data",
       "text": [
        "<IPython.core.display.Javascript at 0x7f2a954911d0>"
       ]
      },
      {
       "javascript": [
        "$('div#ae1516f6-5e19-4df3-ac07-cf68e1f52e55').text('ETA:  0:04:10');"
       ],
       "metadata": {},
       "output_type": "display_data",
       "text": [
        "<IPython.core.display.Javascript at 0x7f2a95491110>"
       ]
      },
      {
       "javascript": [
        "$('div#85400189-6928-448f-a97c-883694aea79a').text('  5%');"
       ],
       "metadata": {},
       "output_type": "display_data",
       "text": [
        "<IPython.core.display.Javascript at 0x7f2a95475f50>"
       ]
      },
      {
       "javascript": [
        "\n",
        "        var $myPB = $(\"div#73d29a16-56e5-4057-bc7d-518521da0697\")\n",
        "        if ($myPB.hasClass('ui-progressbar')) {\n",
        "            $myPB.progressbar('value', 29713);\n",
        "        } else {\n",
        "            $myPB.progressbar({value: 0, max: 565516});\n",
        "        }\n",
        "        "
       ],
       "metadata": {},
       "output_type": "display_data",
       "text": [
        "<IPython.core.display.Javascript at 0x7f2a95475fd0>"
       ]
      },
      {
       "javascript": [
        "$('div#ae1516f6-5e19-4df3-ac07-cf68e1f52e55').text('ETA:  0:04:12');"
       ],
       "metadata": {},
       "output_type": "display_data",
       "text": [
        "<IPython.core.display.Javascript at 0x7f2a95475ed0>"
       ]
      },
      {
       "javascript": [
        "$('div#85400189-6928-448f-a97c-883694aea79a').text('  5%');"
       ],
       "metadata": {},
       "output_type": "display_data",
       "text": [
        "<IPython.core.display.Javascript at 0x7f2a95475e50>"
       ]
      },
      {
       "javascript": [
        "\n",
        "        var $myPB = $(\"div#73d29a16-56e5-4057-bc7d-518521da0697\")\n",
        "        if ($myPB.hasClass('ui-progressbar')) {\n",
        "            $myPB.progressbar('value', 31886);\n",
        "        } else {\n",
        "            $myPB.progressbar({value: 0, max: 565516});\n",
        "        }\n",
        "        "
       ],
       "metadata": {},
       "output_type": "display_data",
       "text": [
        "<IPython.core.display.Javascript at 0x7f2a95475c90>"
       ]
      },
      {
       "javascript": [
        "$('div#ae1516f6-5e19-4df3-ac07-cf68e1f52e55').text('ETA:  0:04:11');"
       ],
       "metadata": {},
       "output_type": "display_data",
       "text": [
        "<IPython.core.display.Javascript at 0x7f2a95475b90>"
       ]
      },
      {
       "javascript": [
        "$('div#85400189-6928-448f-a97c-883694aea79a').text('  6%');"
       ],
       "metadata": {},
       "output_type": "display_data",
       "text": [
        "<IPython.core.display.Javascript at 0x7f2a95475c10>"
       ]
      },
      {
       "javascript": [
        "\n",
        "        var $myPB = $(\"div#73d29a16-56e5-4057-bc7d-518521da0697\")\n",
        "        if ($myPB.hasClass('ui-progressbar')) {\n",
        "            $myPB.progressbar('value', 34206);\n",
        "        } else {\n",
        "            $myPB.progressbar({value: 0, max: 565516});\n",
        "        }\n",
        "        "
       ],
       "metadata": {},
       "output_type": "display_data",
       "text": [
        "<IPython.core.display.Javascript at 0x7f2a95475a10>"
       ]
      },
      {
       "javascript": [
        "$('div#ae1516f6-5e19-4df3-ac07-cf68e1f52e55').text('ETA:  0:04:08');"
       ],
       "metadata": {},
       "output_type": "display_data",
       "text": [
        "<IPython.core.display.Javascript at 0x7f2a95475a90>"
       ]
      },
      {
       "javascript": [
        "$('div#85400189-6928-448f-a97c-883694aea79a').text('  6%');"
       ],
       "metadata": {},
       "output_type": "display_data",
       "text": [
        "<IPython.core.display.Javascript at 0x7f2a95475b50>"
       ]
      },
      {
       "javascript": [
        "\n",
        "        var $myPB = $(\"div#73d29a16-56e5-4057-bc7d-518521da0697\")\n",
        "        if ($myPB.hasClass('ui-progressbar')) {\n",
        "            $myPB.progressbar('value', 36467);\n",
        "        } else {\n",
        "            $myPB.progressbar({value: 0, max: 565516});\n",
        "        }\n",
        "        "
       ],
       "metadata": {},
       "output_type": "display_data",
       "text": [
        "<IPython.core.display.Javascript at 0x7f2a95475ad0>"
       ]
      },
      {
       "javascript": [
        "$('div#ae1516f6-5e19-4df3-ac07-cf68e1f52e55').text('ETA:  0:04:06');"
       ],
       "metadata": {},
       "output_type": "display_data",
       "text": [
        "<IPython.core.display.Javascript at 0x7f2a95475b10>"
       ]
      },
      {
       "javascript": [
        "$('div#85400189-6928-448f-a97c-883694aea79a').text('  6%');"
       ],
       "metadata": {},
       "output_type": "display_data",
       "text": [
        "<IPython.core.display.Javascript at 0x7f2a95491510>"
       ]
      },
      {
       "javascript": [
        "\n",
        "        var $myPB = $(\"div#73d29a16-56e5-4057-bc7d-518521da0697\")\n",
        "        if ($myPB.hasClass('ui-progressbar')) {\n",
        "            $myPB.progressbar('value', 38535);\n",
        "        } else {\n",
        "            $myPB.progressbar({value: 0, max: 565516});\n",
        "        }\n",
        "        "
       ],
       "metadata": {},
       "output_type": "display_data",
       "text": [
        "<IPython.core.display.Javascript at 0x7f2a95491890>"
       ]
      },
      {
       "javascript": [
        "$('div#ae1516f6-5e19-4df3-ac07-cf68e1f52e55').text('ETA:  0:04:06');"
       ],
       "metadata": {},
       "output_type": "display_data",
       "text": [
        "<IPython.core.display.Javascript at 0x7f2a954918d0>"
       ]
      },
      {
       "javascript": [
        "$('div#85400189-6928-448f-a97c-883694aea79a').text('  7%');"
       ],
       "metadata": {},
       "output_type": "display_data",
       "text": [
        "<IPython.core.display.Javascript at 0x7f2a95491710>"
       ]
      },
      {
       "javascript": [
        "\n",
        "        var $myPB = $(\"div#73d29a16-56e5-4057-bc7d-518521da0697\")\n",
        "        if ($myPB.hasClass('ui-progressbar')) {\n",
        "            $myPB.progressbar('value', 40741);\n",
        "        } else {\n",
        "            $myPB.progressbar({value: 0, max: 565516});\n",
        "        }\n",
        "        "
       ],
       "metadata": {},
       "output_type": "display_data",
       "text": [
        "<IPython.core.display.Javascript at 0x7f2a958db850>"
       ]
      },
      {
       "javascript": [
        "$('div#ae1516f6-5e19-4df3-ac07-cf68e1f52e55').text('ETA:  0:04:04');"
       ],
       "metadata": {},
       "output_type": "display_data",
       "text": [
        "<IPython.core.display.Javascript at 0x7f2a9ae9a110>"
       ]
      },
      {
       "javascript": [
        "$('div#85400189-6928-448f-a97c-883694aea79a').text('  7%');"
       ],
       "metadata": {},
       "output_type": "display_data",
       "text": [
        "<IPython.core.display.Javascript at 0x7f2a92ba8050>"
       ]
      },
      {
       "javascript": [
        "\n",
        "        var $myPB = $(\"div#73d29a16-56e5-4057-bc7d-518521da0697\")\n",
        "        if ($myPB.hasClass('ui-progressbar')) {\n",
        "            $myPB.progressbar('value', 42993);\n",
        "        } else {\n",
        "            $myPB.progressbar({value: 0, max: 565516});\n",
        "        }\n",
        "        "
       ],
       "metadata": {},
       "output_type": "display_data",
       "text": [
        "<IPython.core.display.Javascript at 0x7f2a95475d50>"
       ]
      },
      {
       "javascript": [
        "$('div#ae1516f6-5e19-4df3-ac07-cf68e1f52e55').text('ETA:  0:04:03');"
       ],
       "metadata": {},
       "output_type": "display_data",
       "text": [
        "<IPython.core.display.Javascript at 0x7f2a95475a50>"
       ]
      },
      {
       "javascript": [
        "$('div#85400189-6928-448f-a97c-883694aea79a').text('  8%');"
       ],
       "metadata": {},
       "output_type": "display_data",
       "text": [
        "<IPython.core.display.Javascript at 0x7f2a95475810>"
       ]
      },
      {
       "javascript": [
        "\n",
        "        var $myPB = $(\"div#73d29a16-56e5-4057-bc7d-518521da0697\")\n",
        "        if ($myPB.hasClass('ui-progressbar')) {\n",
        "            $myPB.progressbar('value', 45291);\n",
        "        } else {\n",
        "            $myPB.progressbar({value: 0, max: 565516});\n",
        "        }\n",
        "        "
       ],
       "metadata": {},
       "output_type": "display_data",
       "text": [
        "<IPython.core.display.Javascript at 0x7f2a95475f90>"
       ]
      },
      {
       "javascript": [
        "$('div#ae1516f6-5e19-4df3-ac07-cf68e1f52e55').text('ETA:  0:04:01');"
       ],
       "metadata": {},
       "output_type": "display_data",
       "text": [
        "<IPython.core.display.Javascript at 0x7f2a95475c50>"
       ]
      },
      {
       "javascript": [
        "$('div#85400189-6928-448f-a97c-883694aea79a').text('  8%');"
       ],
       "metadata": {},
       "output_type": "display_data",
       "text": [
        "<IPython.core.display.Javascript at 0x7f2a95475bd0>"
       ]
      },
      {
       "javascript": [
        "\n",
        "        var $myPB = $(\"div#73d29a16-56e5-4057-bc7d-518521da0697\")\n",
        "        if ($myPB.hasClass('ui-progressbar')) {\n",
        "            $myPB.progressbar('value', 47547);\n",
        "        } else {\n",
        "            $myPB.progressbar({value: 0, max: 565516});\n",
        "        }\n",
        "        "
       ],
       "metadata": {},
       "output_type": "display_data",
       "text": [
        "<IPython.core.display.Javascript at 0x7f2a95475910>"
       ]
      },
      {
       "javascript": [
        "$('div#ae1516f6-5e19-4df3-ac07-cf68e1f52e55').text('ETA:  0:03:59');"
       ],
       "metadata": {},
       "output_type": "display_data",
       "text": [
        "<IPython.core.display.Javascript at 0x7f2a954758d0>"
       ]
      },
      {
       "javascript": [
        "$('div#85400189-6928-448f-a97c-883694aea79a').text('  8%');"
       ],
       "metadata": {},
       "output_type": "display_data",
       "text": [
        "<IPython.core.display.Javascript at 0x7f2a95475d10>"
       ]
      },
      {
       "javascript": [
        "\n",
        "        var $myPB = $(\"div#73d29a16-56e5-4057-bc7d-518521da0697\")\n",
        "        if ($myPB.hasClass('ui-progressbar')) {\n",
        "            $myPB.progressbar('value', 49779);\n",
        "        } else {\n",
        "            $myPB.progressbar({value: 0, max: 565516});\n",
        "        }\n",
        "        "
       ],
       "metadata": {},
       "output_type": "display_data",
       "text": [
        "<IPython.core.display.Javascript at 0x7f2a95475b10>"
       ]
      },
      {
       "javascript": [
        "$('div#ae1516f6-5e19-4df3-ac07-cf68e1f52e55').text('ETA:  0:03:58');"
       ],
       "metadata": {},
       "output_type": "display_data",
       "text": [
        "<IPython.core.display.Javascript at 0x7f2a95475ad0>"
       ]
      },
      {
       "javascript": [
        "$('div#85400189-6928-448f-a97c-883694aea79a').text('  9%');"
       ],
       "metadata": {},
       "output_type": "display_data",
       "text": [
        "<IPython.core.display.Javascript at 0x7f2a954912d0>"
       ]
      },
      {
       "javascript": [
        "\n",
        "        var $myPB = $(\"div#73d29a16-56e5-4057-bc7d-518521da0697\")\n",
        "        if ($myPB.hasClass('ui-progressbar')) {\n",
        "            $myPB.progressbar('value', 51373);\n",
        "        } else {\n",
        "            $myPB.progressbar({value: 0, max: 565516});\n",
        "        }\n",
        "        "
       ],
       "metadata": {},
       "output_type": "display_data",
       "text": [
        "<IPython.core.display.Javascript at 0x7f2a95491510>"
       ]
      },
      {
       "javascript": [
        "$('div#ae1516f6-5e19-4df3-ac07-cf68e1f52e55').text('ETA:  0:04:00');"
       ],
       "metadata": {},
       "output_type": "display_data",
       "text": [
        "<IPython.core.display.Javascript at 0x7f2a95491890>"
       ]
      },
      {
       "javascript": [
        "$('div#85400189-6928-448f-a97c-883694aea79a').text('  9%');"
       ],
       "metadata": {},
       "output_type": "display_data",
       "text": [
        "<IPython.core.display.Javascript at 0x7f2a954918d0>"
       ]
      },
      {
       "javascript": [
        "\n",
        "        var $myPB = $(\"div#73d29a16-56e5-4057-bc7d-518521da0697\")\n",
        "        if ($myPB.hasClass('ui-progressbar')) {\n",
        "            $myPB.progressbar('value', 53484);\n",
        "        } else {\n",
        "            $myPB.progressbar({value: 0, max: 565516});\n",
        "        }\n",
        "        "
       ],
       "metadata": {},
       "output_type": "display_data",
       "text": [
        "<IPython.core.display.Javascript at 0x7f2a95491310>"
       ]
      },
      {
       "javascript": [
        "$('div#ae1516f6-5e19-4df3-ac07-cf68e1f52e55').text('ETA:  0:03:59');"
       ],
       "metadata": {},
       "output_type": "display_data",
       "text": [
        "<IPython.core.display.Javascript at 0x7f2a958db850>"
       ]
      },
      {
       "javascript": [
        "$('div#85400189-6928-448f-a97c-883694aea79a').text('  9%');"
       ],
       "metadata": {},
       "output_type": "display_data",
       "text": [
        "<IPython.core.display.Javascript at 0x7f2a95475d50>"
       ]
      },
      {
       "javascript": [
        "\n",
        "        var $myPB = $(\"div#73d29a16-56e5-4057-bc7d-518521da0697\")\n",
        "        if ($myPB.hasClass('ui-progressbar')) {\n",
        "            $myPB.progressbar('value', 55769);\n",
        "        } else {\n",
        "            $myPB.progressbar({value: 0, max: 565516});\n",
        "        }\n",
        "        "
       ],
       "metadata": {},
       "output_type": "display_data",
       "text": [
        "<IPython.core.display.Javascript at 0x7f2a95475a50>"
       ]
      },
      {
       "javascript": [
        "$('div#ae1516f6-5e19-4df3-ac07-cf68e1f52e55').text('ETA:  0:03:57');"
       ],
       "metadata": {},
       "output_type": "display_data",
       "text": [
        "<IPython.core.display.Javascript at 0x7f2a95475810>"
       ]
      },
      {
       "javascript": [
        "$('div#85400189-6928-448f-a97c-883694aea79a').text(' 10%');"
       ],
       "metadata": {},
       "output_type": "display_data",
       "text": [
        "<IPython.core.display.Javascript at 0x7f2a95475bd0>"
       ]
      },
      {
       "javascript": [
        "\n",
        "        var $myPB = $(\"div#73d29a16-56e5-4057-bc7d-518521da0697\")\n",
        "        if ($myPB.hasClass('ui-progressbar')) {\n",
        "            $myPB.progressbar('value', 58033);\n",
        "        } else {\n",
        "            $myPB.progressbar({value: 0, max: 565516});\n",
        "        }\n",
        "        "
       ],
       "metadata": {},
       "output_type": "display_data",
       "text": [
        "<IPython.core.display.Javascript at 0x7f2a95475c50>"
       ]
      },
      {
       "javascript": [
        "$('div#ae1516f6-5e19-4df3-ac07-cf68e1f52e55').text('ETA:  0:03:56');"
       ],
       "metadata": {},
       "output_type": "display_data",
       "text": [
        "<IPython.core.display.Javascript at 0x7f2a954758d0>"
       ]
      },
      {
       "javascript": [
        "$('div#85400189-6928-448f-a97c-883694aea79a').text(' 10%');"
       ],
       "metadata": {},
       "output_type": "display_data",
       "text": [
        "<IPython.core.display.Javascript at 0x7f2a95475910>"
       ]
      },
      {
       "javascript": [
        "\n",
        "        var $myPB = $(\"div#73d29a16-56e5-4057-bc7d-518521da0697\")\n",
        "        if ($myPB.hasClass('ui-progressbar')) {\n",
        "            $myPB.progressbar('value', 60322);\n",
        "        } else {\n",
        "            $myPB.progressbar({value: 0, max: 565516});\n",
        "        }\n",
        "        "
       ],
       "metadata": {},
       "output_type": "display_data",
       "text": [
        "<IPython.core.display.Javascript at 0x7f2a95475f90>"
       ]
      },
      {
       "javascript": [
        "$('div#ae1516f6-5e19-4df3-ac07-cf68e1f52e55').text('ETA:  0:03:54');"
       ],
       "metadata": {},
       "output_type": "display_data",
       "text": [
        "<IPython.core.display.Javascript at 0x7f2a95475ad0>"
       ]
      },
      {
       "javascript": [
        "$('div#85400189-6928-448f-a97c-883694aea79a').text(' 11%');"
       ],
       "metadata": {},
       "output_type": "display_data",
       "text": [
        "<IPython.core.display.Javascript at 0x7f2a954914d0>"
       ]
      },
      {
       "javascript": [
        "\n",
        "        var $myPB = $(\"div#73d29a16-56e5-4057-bc7d-518521da0697\")\n",
        "        if ($myPB.hasClass('ui-progressbar')) {\n",
        "            $myPB.progressbar('value', 62338);\n",
        "        } else {\n",
        "            $myPB.progressbar({value: 0, max: 565516});\n",
        "        }\n",
        "        "
       ],
       "metadata": {},
       "output_type": "display_data",
       "text": [
        "<IPython.core.display.Javascript at 0x7f2a95491710>"
       ]
      },
      {
       "javascript": [
        "$('div#ae1516f6-5e19-4df3-ac07-cf68e1f52e55').text('ETA:  0:03:54');"
       ],
       "metadata": {},
       "output_type": "display_data",
       "text": [
        "<IPython.core.display.Javascript at 0x7f2a95491250>"
       ]
      },
      {
       "javascript": [
        "$('div#85400189-6928-448f-a97c-883694aea79a').text(' 11%');"
       ],
       "metadata": {},
       "output_type": "display_data",
       "text": [
        "<IPython.core.display.Javascript at 0x7f2a95475850>"
       ]
      },
      {
       "javascript": [
        "\n",
        "        var $myPB = $(\"div#73d29a16-56e5-4057-bc7d-518521da0697\")\n",
        "        if ($myPB.hasClass('ui-progressbar')) {\n",
        "            $myPB.progressbar('value', 64225);\n",
        "        } else {\n",
        "            $myPB.progressbar({value: 0, max: 565516});\n",
        "        }\n",
        "        "
       ],
       "metadata": {},
       "output_type": "display_data",
       "text": [
        "<IPython.core.display.Javascript at 0x7f2a95475c10>"
       ]
      },
      {
       "javascript": [
        "$('div#ae1516f6-5e19-4df3-ac07-cf68e1f52e55').text('ETA:  0:03:54');"
       ],
       "metadata": {},
       "output_type": "display_data",
       "text": [
        "<IPython.core.display.Javascript at 0x7f2a95475a90>"
       ]
      },
      {
       "javascript": [
        "$('div#85400189-6928-448f-a97c-883694aea79a').text(' 11%');"
       ],
       "metadata": {},
       "output_type": "display_data",
       "text": [
        "<IPython.core.display.Javascript at 0x7f2a95475d10>"
       ]
      },
      {
       "javascript": [
        "\n",
        "        var $myPB = $(\"div#73d29a16-56e5-4057-bc7d-518521da0697\")\n",
        "        if ($myPB.hasClass('ui-progressbar')) {\n",
        "            $myPB.progressbar('value', 66465);\n",
        "        } else {\n",
        "            $myPB.progressbar({value: 0, max: 565516});\n",
        "        }\n",
        "        "
       ],
       "metadata": {},
       "output_type": "display_data",
       "text": [
        "<IPython.core.display.Javascript at 0x7f2a95475cd0>"
       ]
      },
      {
       "javascript": [
        "$('div#ae1516f6-5e19-4df3-ac07-cf68e1f52e55').text('ETA:  0:03:52');"
       ],
       "metadata": {},
       "output_type": "display_data",
       "text": [
        "<IPython.core.display.Javascript at 0x7f2a954758d0>"
       ]
      },
      {
       "javascript": [
        "$('div#85400189-6928-448f-a97c-883694aea79a').text(' 12%');"
       ],
       "metadata": {},
       "output_type": "display_data",
       "text": [
        "<IPython.core.display.Javascript at 0x7f2a95475bd0>"
       ]
      },
      {
       "javascript": [
        "\n",
        "        var $myPB = $(\"div#73d29a16-56e5-4057-bc7d-518521da0697\")\n",
        "        if ($myPB.hasClass('ui-progressbar')) {\n",
        "            $myPB.progressbar('value', 68723);\n",
        "        } else {\n",
        "            $myPB.progressbar({value: 0, max: 565516});\n",
        "        }\n",
        "        "
       ],
       "metadata": {},
       "output_type": "display_data",
       "text": [
        "<IPython.core.display.Javascript at 0x7f2a92ba8050>"
       ]
      },
      {
       "javascript": [
        "$('div#ae1516f6-5e19-4df3-ac07-cf68e1f52e55').text('ETA:  0:03:51');"
       ],
       "metadata": {},
       "output_type": "display_data",
       "text": [
        "<IPython.core.display.Javascript at 0x7f2a958db850>"
       ]
      },
      {
       "javascript": [
        "$('div#85400189-6928-448f-a97c-883694aea79a').text(' 12%');"
       ],
       "metadata": {},
       "output_type": "display_data",
       "text": [
        "<IPython.core.display.Javascript at 0x7f2a95491810>"
       ]
      },
      {
       "javascript": [
        "\n",
        "        var $myPB = $(\"div#73d29a16-56e5-4057-bc7d-518521da0697\")\n",
        "        if ($myPB.hasClass('ui-progressbar')) {\n",
        "            $myPB.progressbar('value', 70976);\n",
        "        } else {\n",
        "            $myPB.progressbar({value: 0, max: 565516});\n",
        "        }\n",
        "        "
       ],
       "metadata": {},
       "output_type": "display_data",
       "text": [
        "<IPython.core.display.Javascript at 0x7f2a95491850>"
       ]
      },
      {
       "javascript": [
        "$('div#ae1516f6-5e19-4df3-ac07-cf68e1f52e55').text('ETA:  0:03:49');"
       ],
       "metadata": {},
       "output_type": "display_data",
       "text": [
        "<IPython.core.display.Javascript at 0x7f2a954915d0>"
       ]
      },
      {
       "javascript": [
        "$('div#85400189-6928-448f-a97c-883694aea79a').text(' 12%');"
       ],
       "metadata": {},
       "output_type": "display_data",
       "text": [
        "<IPython.core.display.Javascript at 0x7f2a95491050>"
       ]
      },
      {
       "javascript": [
        "\n",
        "        var $myPB = $(\"div#73d29a16-56e5-4057-bc7d-518521da0697\")\n",
        "        if ($myPB.hasClass('ui-progressbar')) {\n",
        "            $myPB.progressbar('value', 73294);\n",
        "        } else {\n",
        "            $myPB.progressbar({value: 0, max: 565516});\n",
        "        }\n",
        "        "
       ],
       "metadata": {},
       "output_type": "display_data",
       "text": [
        "<IPython.core.display.Javascript at 0x7f2a95491410>"
       ]
      },
      {
       "javascript": [
        "$('div#ae1516f6-5e19-4df3-ac07-cf68e1f52e55').text('ETA:  0:03:48');"
       ],
       "metadata": {},
       "output_type": "display_data",
       "text": [
        "<IPython.core.display.Javascript at 0x7f2a95491950>"
       ]
      },
      {
       "javascript": [
        "$('div#85400189-6928-448f-a97c-883694aea79a').text(' 13%');"
       ],
       "metadata": {},
       "output_type": "display_data",
       "text": [
        "<IPython.core.display.Javascript at 0x7f2a95491750>"
       ]
      },
      {
       "javascript": [
        "\n",
        "        var $myPB = $(\"div#73d29a16-56e5-4057-bc7d-518521da0697\")\n",
        "        if ($myPB.hasClass('ui-progressbar')) {\n",
        "            $myPB.progressbar('value', 75426);\n",
        "        } else {\n",
        "            $myPB.progressbar({value: 0, max: 565516});\n",
        "        }\n",
        "        "
       ],
       "metadata": {},
       "output_type": "display_data",
       "text": [
        "<IPython.core.display.Javascript at 0x7f2a95491250>"
       ]
      },
      {
       "javascript": [
        "$('div#ae1516f6-5e19-4df3-ac07-cf68e1f52e55').text('ETA:  0:03:47');"
       ],
       "metadata": {},
       "output_type": "display_data",
       "text": [
        "<IPython.core.display.Javascript at 0x7f2a95491710>"
       ]
      },
      {
       "javascript": [
        "$('div#85400189-6928-448f-a97c-883694aea79a').text(' 13%');"
       ],
       "metadata": {},
       "output_type": "display_data",
       "text": [
        "<IPython.core.display.Javascript at 0x7f2a95491450>"
       ]
      },
      {
       "javascript": [
        "\n",
        "        var $myPB = $(\"div#73d29a16-56e5-4057-bc7d-518521da0697\")\n",
        "        if ($myPB.hasClass('ui-progressbar')) {\n",
        "            $myPB.progressbar('value', 77716);\n",
        "        } else {\n",
        "            $myPB.progressbar({value: 0, max: 565516});\n",
        "        }\n",
        "        "
       ],
       "metadata": {},
       "output_type": "display_data",
       "text": [
        "<IPython.core.display.Javascript at 0x7f2a954912d0>"
       ]
      },
      {
       "javascript": [
        "$('div#ae1516f6-5e19-4df3-ac07-cf68e1f52e55').text('ETA:  0:03:46');"
       ],
       "metadata": {},
       "output_type": "display_data",
       "text": [
        "<IPython.core.display.Javascript at 0x7f2a954914d0>"
       ]
      },
      {
       "javascript": [
        "$('div#85400189-6928-448f-a97c-883694aea79a').text(' 14%');"
       ],
       "metadata": {},
       "output_type": "display_data",
       "text": [
        "<IPython.core.display.Javascript at 0x7f2a95491690>"
       ]
      },
      {
       "javascript": [
        "\n",
        "        var $myPB = $(\"div#73d29a16-56e5-4057-bc7d-518521da0697\")\n",
        "        if ($myPB.hasClass('ui-progressbar')) {\n",
        "            $myPB.progressbar('value', 79939);\n",
        "        } else {\n",
        "            $myPB.progressbar({value: 0, max: 565516});\n",
        "        }\n",
        "        "
       ],
       "metadata": {},
       "output_type": "display_data",
       "text": [
        "<IPython.core.display.Javascript at 0x7f2a95491110>"
       ]
      },
      {
       "javascript": [
        "$('div#ae1516f6-5e19-4df3-ac07-cf68e1f52e55').text('ETA:  0:03:44');"
       ],
       "metadata": {},
       "output_type": "display_data",
       "text": [
        "<IPython.core.display.Javascript at 0x7f2a95491150>"
       ]
      },
      {
       "javascript": [
        "$('div#85400189-6928-448f-a97c-883694aea79a').text(' 14%');"
       ],
       "metadata": {},
       "output_type": "display_data",
       "text": [
        "<IPython.core.display.Javascript at 0x7f2a95475d50>"
       ]
      },
      {
       "javascript": [
        "\n",
        "        var $myPB = $(\"div#73d29a16-56e5-4057-bc7d-518521da0697\")\n",
        "        if ($myPB.hasClass('ui-progressbar')) {\n",
        "            $myPB.progressbar('value', 82062);\n",
        "        } else {\n",
        "            $myPB.progressbar({value: 0, max: 565516});\n",
        "        }\n",
        "        "
       ],
       "metadata": {},
       "output_type": "display_data",
       "text": [
        "<IPython.core.display.Javascript at 0x7f2a95475cd0>"
       ]
      },
      {
       "javascript": [
        "$('div#ae1516f6-5e19-4df3-ac07-cf68e1f52e55').text('ETA:  0:03:43');"
       ],
       "metadata": {},
       "output_type": "display_data",
       "text": [
        "<IPython.core.display.Javascript at 0x7f2a95475d10>"
       ]
      },
      {
       "javascript": [
        "$('div#85400189-6928-448f-a97c-883694aea79a').text(' 14%');"
       ],
       "metadata": {},
       "output_type": "display_data",
       "text": [
        "<IPython.core.display.Javascript at 0x7f2a95475e50>"
       ]
      },
      {
       "javascript": [
        "\n",
        "        var $myPB = $(\"div#73d29a16-56e5-4057-bc7d-518521da0697\")\n",
        "        if ($myPB.hasClass('ui-progressbar')) {\n",
        "            $myPB.progressbar('value', 84338);\n",
        "        } else {\n",
        "            $myPB.progressbar({value: 0, max: 565516});\n",
        "        }\n",
        "        "
       ],
       "metadata": {},
       "output_type": "display_data",
       "text": [
        "<IPython.core.display.Javascript at 0x7f2a95475f90>"
       ]
      },
      {
       "javascript": [
        "$('div#ae1516f6-5e19-4df3-ac07-cf68e1f52e55').text('ETA:  0:03:42');"
       ],
       "metadata": {},
       "output_type": "display_data",
       "text": [
        "<IPython.core.display.Javascript at 0x7f2a95475ad0>"
       ]
      },
      {
       "javascript": [
        "$('div#85400189-6928-448f-a97c-883694aea79a').text(' 15%');"
       ],
       "metadata": {},
       "output_type": "display_data",
       "text": [
        "<IPython.core.display.Javascript at 0x7f2a95475950>"
       ]
      },
      {
       "javascript": [
        "\n",
        "        var $myPB = $(\"div#73d29a16-56e5-4057-bc7d-518521da0697\")\n",
        "        if ($myPB.hasClass('ui-progressbar')) {\n",
        "            $myPB.progressbar('value', 86557);\n",
        "        } else {\n",
        "            $myPB.progressbar({value: 0, max: 565516});\n",
        "        }\n",
        "        "
       ],
       "metadata": {},
       "output_type": "display_data",
       "text": [
        "<IPython.core.display.Javascript at 0x7f2a95475a90>"
       ]
      },
      {
       "javascript": [
        "$('div#ae1516f6-5e19-4df3-ac07-cf68e1f52e55').text('ETA:  0:03:41');"
       ],
       "metadata": {},
       "output_type": "display_data",
       "text": [
        "<IPython.core.display.Javascript at 0x7f2a95475c10>"
       ]
      },
      {
       "javascript": [
        "$('div#85400189-6928-448f-a97c-883694aea79a').text(' 15%');"
       ],
       "metadata": {},
       "output_type": "display_data",
       "text": [
        "<IPython.core.display.Javascript at 0x7f2a95475850>"
       ]
      },
      {
       "javascript": [
        "\n",
        "        var $myPB = $(\"div#73d29a16-56e5-4057-bc7d-518521da0697\")\n",
        "        if ($myPB.hasClass('ui-progressbar')) {\n",
        "            $myPB.progressbar('value', 88854);\n",
        "        } else {\n",
        "            $myPB.progressbar({value: 0, max: 565516});\n",
        "        }\n",
        "        "
       ],
       "metadata": {},
       "output_type": "display_data",
       "text": [
        "<IPython.core.display.Javascript at 0x7f2a95475dd0>"
       ]
      },
      {
       "javascript": [
        "$('div#ae1516f6-5e19-4df3-ac07-cf68e1f52e55').text('ETA:  0:03:39');"
       ],
       "metadata": {},
       "output_type": "display_data",
       "text": [
        "<IPython.core.display.Javascript at 0x7f2a95475f10>"
       ]
      },
      {
       "javascript": [
        "$('div#85400189-6928-448f-a97c-883694aea79a').text(' 16%');"
       ],
       "metadata": {},
       "output_type": "display_data",
       "text": [
        "<IPython.core.display.Javascript at 0x7f2a95475d90>"
       ]
      },
      {
       "javascript": [
        "\n",
        "        var $myPB = $(\"div#73d29a16-56e5-4057-bc7d-518521da0697\")\n",
        "        if ($myPB.hasClass('ui-progressbar')) {\n",
        "            $myPB.progressbar('value', 91051);\n",
        "        } else {\n",
        "            $myPB.progressbar({value: 0, max: 565516});\n",
        "        }\n",
        "        "
       ],
       "metadata": {},
       "output_type": "display_data",
       "text": [
        "<IPython.core.display.Javascript at 0x7f2a95475e90>"
       ]
      },
      {
       "javascript": [
        "$('div#ae1516f6-5e19-4df3-ac07-cf68e1f52e55').text('ETA:  0:03:38');"
       ],
       "metadata": {},
       "output_type": "display_data",
       "text": [
        "<IPython.core.display.Javascript at 0x7f2a954759d0>"
       ]
      },
      {
       "javascript": [
        "$('div#85400189-6928-448f-a97c-883694aea79a').text(' 16%');"
       ],
       "metadata": {},
       "output_type": "display_data",
       "text": [
        "<IPython.core.display.Javascript at 0x7f2a95475e10>"
       ]
      },
      {
       "javascript": [
        "\n",
        "        var $myPB = $(\"div#73d29a16-56e5-4057-bc7d-518521da0697\")\n",
        "        if ($myPB.hasClass('ui-progressbar')) {\n",
        "            $myPB.progressbar('value', 93369);\n",
        "        } else {\n",
        "            $myPB.progressbar({value: 0, max: 565516});\n",
        "        }\n",
        "        "
       ],
       "metadata": {},
       "output_type": "display_data",
       "text": [
        "<IPython.core.display.Javascript at 0x7f2a958c3a10>"
       ]
      },
      {
       "javascript": [
        "$('div#ae1516f6-5e19-4df3-ac07-cf68e1f52e55').text('ETA:  0:03:37');"
       ],
       "metadata": {},
       "output_type": "display_data",
       "text": [
        "<IPython.core.display.Javascript at 0x7f2a95475b50>"
       ]
      },
      {
       "javascript": [
        "$('div#85400189-6928-448f-a97c-883694aea79a').text(' 16%');"
       ],
       "metadata": {},
       "output_type": "display_data",
       "text": [
        "<IPython.core.display.Javascript at 0x7f2a95475ed0>"
       ]
      },
      {
       "javascript": [
        "\n",
        "        var $myPB = $(\"div#73d29a16-56e5-4057-bc7d-518521da0697\")\n",
        "        if ($myPB.hasClass('ui-progressbar')) {\n",
        "            $myPB.progressbar('value', 95624);\n",
        "        } else {\n",
        "            $myPB.progressbar({value: 0, max: 565516});\n",
        "        }\n",
        "        "
       ],
       "metadata": {},
       "output_type": "display_data",
       "text": [
        "<IPython.core.display.Javascript at 0x7f2a95475890>"
       ]
      },
      {
       "javascript": [
        "$('div#ae1516f6-5e19-4df3-ac07-cf68e1f52e55').text('ETA:  0:03:36');"
       ],
       "metadata": {},
       "output_type": "display_data",
       "text": [
        "<IPython.core.display.Javascript at 0x7f2a95475fd0>"
       ]
      },
      {
       "javascript": [
        "$('div#85400189-6928-448f-a97c-883694aea79a').text(' 17%');"
       ],
       "metadata": {},
       "output_type": "display_data",
       "text": [
        "<IPython.core.display.Javascript at 0x7f2a95491610>"
       ]
      },
      {
       "javascript": [
        "\n",
        "        var $myPB = $(\"div#73d29a16-56e5-4057-bc7d-518521da0697\")\n",
        "        if ($myPB.hasClass('ui-progressbar')) {\n",
        "            $myPB.progressbar('value', 97869);\n",
        "        } else {\n",
        "            $myPB.progressbar({value: 0, max: 565516});\n",
        "        }\n",
        "        "
       ],
       "metadata": {},
       "output_type": "display_data",
       "text": [
        "<IPython.core.display.Javascript at 0x7f2a95491490>"
       ]
      },
      {
       "javascript": [
        "$('div#ae1516f6-5e19-4df3-ac07-cf68e1f52e55').text('ETA:  0:03:35');"
       ],
       "metadata": {},
       "output_type": "display_data",
       "text": [
        "<IPython.core.display.Javascript at 0x7f2a95491310>"
       ]
      },
      {
       "javascript": [
        "$('div#85400189-6928-448f-a97c-883694aea79a').text(' 17%');"
       ],
       "metadata": {},
       "output_type": "display_data",
       "text": [
        "<IPython.core.display.Javascript at 0x7f2a95491210>"
       ]
      },
      {
       "javascript": [
        "\n",
        "        var $myPB = $(\"div#73d29a16-56e5-4057-bc7d-518521da0697\")\n",
        "        if ($myPB.hasClass('ui-progressbar')) {\n",
        "            $myPB.progressbar('value', 100146);\n",
        "        } else {\n",
        "            $myPB.progressbar({value: 0, max: 565516});\n",
        "        }\n",
        "        "
       ],
       "metadata": {},
       "output_type": "display_data",
       "text": [
        "<IPython.core.display.Javascript at 0x7f2a95491a50>"
       ]
      },
      {
       "javascript": [
        "$('div#ae1516f6-5e19-4df3-ac07-cf68e1f52e55').text('ETA:  0:03:33');"
       ],
       "metadata": {},
       "output_type": "display_data",
       "text": [
        "<IPython.core.display.Javascript at 0x7f2a95491a90>"
       ]
      },
      {
       "javascript": [
        "$('div#85400189-6928-448f-a97c-883694aea79a').text(' 18%');"
       ],
       "metadata": {},
       "output_type": "display_data",
       "text": [
        "<IPython.core.display.Javascript at 0x7f2a95491110>"
       ]
      },
      {
       "javascript": [
        "\n",
        "        var $myPB = $(\"div#73d29a16-56e5-4057-bc7d-518521da0697\")\n",
        "        if ($myPB.hasClass('ui-progressbar')) {\n",
        "            $myPB.progressbar('value', 102415);\n",
        "        } else {\n",
        "            $myPB.progressbar({value: 0, max: 565516});\n",
        "        }\n",
        "        "
       ],
       "metadata": {},
       "output_type": "display_data",
       "text": [
        "<IPython.core.display.Javascript at 0x7f2a95491690>"
       ]
      },
      {
       "javascript": [
        "$('div#ae1516f6-5e19-4df3-ac07-cf68e1f52e55').text('ETA:  0:03:32');"
       ],
       "metadata": {},
       "output_type": "display_data",
       "text": [
        "<IPython.core.display.Javascript at 0x7f2a954914d0>"
       ]
      },
      {
       "javascript": [
        "$('div#85400189-6928-448f-a97c-883694aea79a').text(' 18%');"
       ],
       "metadata": {},
       "output_type": "display_data",
       "text": [
        "<IPython.core.display.Javascript at 0x7f2a954912d0>"
       ]
      },
      {
       "javascript": [
        "\n",
        "        var $myPB = $(\"div#73d29a16-56e5-4057-bc7d-518521da0697\")\n",
        "        if ($myPB.hasClass('ui-progressbar')) {\n",
        "            $myPB.progressbar('value', 104733);\n",
        "        } else {\n",
        "            $myPB.progressbar({value: 0, max: 565516});\n",
        "        }\n",
        "        "
       ],
       "metadata": {},
       "output_type": "display_data",
       "text": [
        "<IPython.core.display.Javascript at 0x7f2a95491450>"
       ]
      },
      {
       "javascript": [
        "$('div#ae1516f6-5e19-4df3-ac07-cf68e1f52e55').text('ETA:  0:03:31');"
       ],
       "metadata": {},
       "output_type": "display_data",
       "text": [
        "<IPython.core.display.Javascript at 0x7f2a95491550>"
       ]
      },
      {
       "javascript": [
        "$('div#85400189-6928-448f-a97c-883694aea79a').text(' 18%');"
       ],
       "metadata": {},
       "output_type": "display_data",
       "text": [
        "<IPython.core.display.Javascript at 0x7f2a95491710>"
       ]
      },
      {
       "javascript": [
        "\n",
        "        var $myPB = $(\"div#73d29a16-56e5-4057-bc7d-518521da0697\")\n",
        "        if ($myPB.hasClass('ui-progressbar')) {\n",
        "            $myPB.progressbar('value', 107059);\n",
        "        } else {\n",
        "            $myPB.progressbar({value: 0, max: 565516});\n",
        "        }\n",
        "        "
       ],
       "metadata": {},
       "output_type": "display_data",
       "text": [
        "<IPython.core.display.Javascript at 0x7f2a95491250>"
       ]
      },
      {
       "javascript": [
        "$('div#ae1516f6-5e19-4df3-ac07-cf68e1f52e55').text('ETA:  0:03:29');"
       ],
       "metadata": {},
       "output_type": "display_data",
       "text": [
        "<IPython.core.display.Javascript at 0x7f2a95491750>"
       ]
      },
      {
       "javascript": [
        "$('div#85400189-6928-448f-a97c-883694aea79a').text(' 19%');"
       ],
       "metadata": {},
       "output_type": "display_data",
       "text": [
        "<IPython.core.display.Javascript at 0x7f2a95491890>"
       ]
      },
      {
       "javascript": [
        "\n",
        "        var $myPB = $(\"div#73d29a16-56e5-4057-bc7d-518521da0697\")\n",
        "        if ($myPB.hasClass('ui-progressbar')) {\n",
        "            $myPB.progressbar('value', 108484);\n",
        "        } else {\n",
        "            $myPB.progressbar({value: 0, max: 565516});\n",
        "        }\n",
        "        "
       ],
       "metadata": {},
       "output_type": "display_data",
       "text": [
        "<IPython.core.display.Javascript at 0x7f2a95491210>"
       ]
      },
      {
       "javascript": [
        "$('div#ae1516f6-5e19-4df3-ac07-cf68e1f52e55').text('ETA:  0:03:30');"
       ],
       "metadata": {},
       "output_type": "display_data",
       "text": [
        "<IPython.core.display.Javascript at 0x7f2a954919d0>"
       ]
      },
      {
       "javascript": [
        "$('div#85400189-6928-448f-a97c-883694aea79a').text(' 19%');"
       ],
       "metadata": {},
       "output_type": "display_data",
       "text": [
        "<IPython.core.display.Javascript at 0x7f2a95475a50>"
       ]
      },
      {
       "javascript": [
        "\n",
        "        var $myPB = $(\"div#73d29a16-56e5-4057-bc7d-518521da0697\")\n",
        "        if ($myPB.hasClass('ui-progressbar')) {\n",
        "            $myPB.progressbar('value', 110652);\n",
        "        } else {\n",
        "            $myPB.progressbar({value: 0, max: 565516});\n",
        "        }\n",
        "        "
       ],
       "metadata": {},
       "output_type": "display_data",
       "text": [
        "<IPython.core.display.Javascript at 0x7f2a95475f90>"
       ]
      },
      {
       "javascript": [
        "$('div#ae1516f6-5e19-4df3-ac07-cf68e1f52e55').text('ETA:  0:03:29');"
       ],
       "metadata": {},
       "output_type": "display_data",
       "text": [
        "<IPython.core.display.Javascript at 0x7f2a95475c10>"
       ]
      },
      {
       "javascript": [
        "$('div#85400189-6928-448f-a97c-883694aea79a').text(' 19%');"
       ],
       "metadata": {},
       "output_type": "display_data",
       "text": [
        "<IPython.core.display.Javascript at 0x7f2a95475a90>"
       ]
      },
      {
       "javascript": [
        "\n",
        "        var $myPB = $(\"div#73d29a16-56e5-4057-bc7d-518521da0697\")\n",
        "        if ($myPB.hasClass('ui-progressbar')) {\n",
        "            $myPB.progressbar('value', 112908);\n",
        "        } else {\n",
        "            $myPB.progressbar({value: 0, max: 565516});\n",
        "        }\n",
        "        "
       ],
       "metadata": {},
       "output_type": "display_data",
       "text": [
        "<IPython.core.display.Javascript at 0x7f2a95475950>"
       ]
      },
      {
       "javascript": [
        "$('div#ae1516f6-5e19-4df3-ac07-cf68e1f52e55').text('ETA:  0:03:28');"
       ],
       "metadata": {},
       "output_type": "display_data",
       "text": [
        "<IPython.core.display.Javascript at 0x7f2a95475dd0>"
       ]
      },
      {
       "javascript": [
        "$('div#85400189-6928-448f-a97c-883694aea79a').text(' 20%');"
       ],
       "metadata": {},
       "output_type": "display_data",
       "text": [
        "<IPython.core.display.Javascript at 0x7f2a95475c50>"
       ]
      },
      {
       "javascript": [
        "\n",
        "        var $myPB = $(\"div#73d29a16-56e5-4057-bc7d-518521da0697\")\n",
        "        if ($myPB.hasClass('ui-progressbar')) {\n",
        "            $myPB.progressbar('value', 115170);\n",
        "        } else {\n",
        "            $myPB.progressbar({value: 0, max: 565516});\n",
        "        }\n",
        "        "
       ],
       "metadata": {},
       "output_type": "display_data",
       "text": [
        "<IPython.core.display.Javascript at 0x7f2a954758d0>"
       ]
      },
      {
       "javascript": [
        "$('div#ae1516f6-5e19-4df3-ac07-cf68e1f52e55').text('ETA:  0:03:27');"
       ],
       "metadata": {},
       "output_type": "display_data",
       "text": [
        "<IPython.core.display.Javascript at 0x7f2a95475c90>"
       ]
      },
      {
       "javascript": [
        "$('div#85400189-6928-448f-a97c-883694aea79a').text(' 20%');"
       ],
       "metadata": {},
       "output_type": "display_data",
       "text": [
        "<IPython.core.display.Javascript at 0x7f2a95475d90>"
       ]
      },
      {
       "javascript": [
        "\n",
        "        var $myPB = $(\"div#73d29a16-56e5-4057-bc7d-518521da0697\")\n",
        "        if ($myPB.hasClass('ui-progressbar')) {\n",
        "            $myPB.progressbar('value', 117438);\n",
        "        } else {\n",
        "            $myPB.progressbar({value: 0, max: 565516});\n",
        "        }\n",
        "        "
       ],
       "metadata": {},
       "output_type": "display_data",
       "text": [
        "<IPython.core.display.Javascript at 0x7f2a95475990>"
       ]
      },
      {
       "javascript": [
        "$('div#ae1516f6-5e19-4df3-ac07-cf68e1f52e55').text('ETA:  0:03:26');"
       ],
       "metadata": {},
       "output_type": "display_data",
       "text": [
        "<IPython.core.display.Javascript at 0x7f2a95475f10>"
       ]
      },
      {
       "javascript": [
        "$('div#85400189-6928-448f-a97c-883694aea79a').text(' 21%');"
       ],
       "metadata": {},
       "output_type": "display_data",
       "text": [
        "<IPython.core.display.Javascript at 0x7f2a95475e10>"
       ]
      },
      {
       "javascript": [
        "\n",
        "        var $myPB = $(\"div#73d29a16-56e5-4057-bc7d-518521da0697\")\n",
        "        if ($myPB.hasClass('ui-progressbar')) {\n",
        "            $myPB.progressbar('value', 119600);\n",
        "        } else {\n",
        "            $myPB.progressbar({value: 0, max: 565516});\n",
        "        }\n",
        "        "
       ],
       "metadata": {},
       "output_type": "display_data",
       "text": [
        "<IPython.core.display.Javascript at 0x7f2a9ae9a110>"
       ]
      },
      {
       "javascript": [
        "$('div#ae1516f6-5e19-4df3-ac07-cf68e1f52e55').text('ETA:  0:03:25');"
       ],
       "metadata": {},
       "output_type": "display_data",
       "text": [
        "<IPython.core.display.Javascript at 0x7f2a958c3a10>"
       ]
      },
      {
       "javascript": [
        "$('div#85400189-6928-448f-a97c-883694aea79a').text(' 21%');"
       ],
       "metadata": {},
       "output_type": "display_data",
       "text": [
        "<IPython.core.display.Javascript at 0x7f2a95491a90>"
       ]
      },
      {
       "javascript": [
        "\n",
        "        var $myPB = $(\"div#73d29a16-56e5-4057-bc7d-518521da0697\")\n",
        "        if ($myPB.hasClass('ui-progressbar')) {\n",
        "            $myPB.progressbar('value', 121925);\n",
        "        } else {\n",
        "            $myPB.progressbar({value: 0, max: 565516});\n",
        "        }\n",
        "        "
       ],
       "metadata": {},
       "output_type": "display_data",
       "text": [
        "<IPython.core.display.Javascript at 0x7f2a954919d0>"
       ]
      },
      {
       "javascript": [
        "$('div#ae1516f6-5e19-4df3-ac07-cf68e1f52e55').text('ETA:  0:03:23');"
       ],
       "metadata": {},
       "output_type": "display_data",
       "text": [
        "<IPython.core.display.Javascript at 0x7f2a95491150>"
       ]
      },
      {
       "javascript": [
        "$('div#85400189-6928-448f-a97c-883694aea79a').text(' 21%');"
       ],
       "metadata": {},
       "output_type": "display_data",
       "text": [
        "<IPython.core.display.Javascript at 0x7f2a95491310>"
       ]
      },
      {
       "javascript": [
        "\n",
        "        var $myPB = $(\"div#73d29a16-56e5-4057-bc7d-518521da0697\")\n",
        "        if ($myPB.hasClass('ui-progressbar')) {\n",
        "            $myPB.progressbar('value', 124096);\n",
        "        } else {\n",
        "            $myPB.progressbar({value: 0, max: 565516});\n",
        "        }\n",
        "        "
       ],
       "metadata": {},
       "output_type": "display_data",
       "text": [
        "<IPython.core.display.Javascript at 0x7f2a95491890>"
       ]
      },
      {
       "javascript": [
        "$('div#ae1516f6-5e19-4df3-ac07-cf68e1f52e55').text('ETA:  0:03:22');"
       ],
       "metadata": {},
       "output_type": "display_data",
       "text": [
        "<IPython.core.display.Javascript at 0x7f2a95491110>"
       ]
      },
      {
       "javascript": [
        "$('div#85400189-6928-448f-a97c-883694aea79a').text(' 22%');"
       ],
       "metadata": {},
       "output_type": "display_data",
       "text": [
        "<IPython.core.display.Javascript at 0x7f2a95491550>"
       ]
      },
      {
       "javascript": [
        "\n",
        "        var $myPB = $(\"div#73d29a16-56e5-4057-bc7d-518521da0697\")\n",
        "        if ($myPB.hasClass('ui-progressbar')) {\n",
        "            $myPB.progressbar('value', 126221);\n",
        "        } else {\n",
        "            $myPB.progressbar({value: 0, max: 565516});\n",
        "        }\n",
        "        "
       ],
       "metadata": {},
       "output_type": "display_data",
       "text": [
        "<IPython.core.display.Javascript at 0x7f2a95491450>"
       ]
      },
      {
       "javascript": [
        "$('div#ae1516f6-5e19-4df3-ac07-cf68e1f52e55').text('ETA:  0:03:21');"
       ],
       "metadata": {},
       "output_type": "display_data",
       "text": [
        "<IPython.core.display.Javascript at 0x7f2a95491690>"
       ]
      },
      {
       "javascript": [
        "$('div#85400189-6928-448f-a97c-883694aea79a').text(' 22%');"
       ],
       "metadata": {},
       "output_type": "display_data",
       "text": [
        "<IPython.core.display.Javascript at 0x7f2a95491710>"
       ]
      },
      {
       "javascript": [
        "\n",
        "        var $myPB = $(\"div#73d29a16-56e5-4057-bc7d-518521da0697\")\n",
        "        if ($myPB.hasClass('ui-progressbar')) {\n",
        "            $myPB.progressbar('value', 128374);\n",
        "        } else {\n",
        "            $myPB.progressbar({value: 0, max: 565516});\n",
        "        }\n",
        "        "
       ],
       "metadata": {},
       "output_type": "display_data",
       "text": [
        "<IPython.core.display.Javascript at 0x7f2a95491750>"
       ]
      },
      {
       "javascript": [
        "$('div#ae1516f6-5e19-4df3-ac07-cf68e1f52e55').text('ETA:  0:03:20');"
       ],
       "metadata": {},
       "output_type": "display_data",
       "text": [
        "<IPython.core.display.Javascript at 0x7f2a954913d0>"
       ]
      },
      {
       "javascript": [
        "$('div#85400189-6928-448f-a97c-883694aea79a').text(' 23%');"
       ],
       "metadata": {},
       "output_type": "display_data",
       "text": [
        "<IPython.core.display.Javascript at 0x7f2a95491990>"
       ]
      },
      {
       "javascript": [
        "\n",
        "        var $myPB = $(\"div#73d29a16-56e5-4057-bc7d-518521da0697\")\n",
        "        if ($myPB.hasClass('ui-progressbar')) {\n",
        "            $myPB.progressbar('value', 130623);\n",
        "        } else {\n",
        "            $myPB.progressbar({value: 0, max: 565516});\n",
        "        }\n",
        "        "
       ],
       "metadata": {},
       "output_type": "display_data",
       "text": [
        "<IPython.core.display.Javascript at 0x7f2a954918d0>"
       ]
      },
      {
       "javascript": [
        "$('div#ae1516f6-5e19-4df3-ac07-cf68e1f52e55').text('ETA:  0:03:19');"
       ],
       "metadata": {},
       "output_type": "display_data",
       "text": [
        "<IPython.core.display.Javascript at 0x7f2a95491090>"
       ]
      },
      {
       "javascript": [
        "$('div#85400189-6928-448f-a97c-883694aea79a').text(' 23%');"
       ],
       "metadata": {},
       "output_type": "display_data",
       "text": [
        "<IPython.core.display.Javascript at 0x7f2a95491390>"
       ]
      },
      {
       "javascript": [
        "\n",
        "        var $myPB = $(\"div#73d29a16-56e5-4057-bc7d-518521da0697\")\n",
        "        if ($myPB.hasClass('ui-progressbar')) {\n",
        "            $myPB.progressbar('value', 132808);\n",
        "        } else {\n",
        "            $myPB.progressbar({value: 0, max: 565516});\n",
        "        }\n",
        "        "
       ],
       "metadata": {},
       "output_type": "display_data",
       "text": [
        "<IPython.core.display.Javascript at 0x7f2a95491bd0>"
       ]
      },
      {
       "javascript": [
        "$('div#ae1516f6-5e19-4df3-ac07-cf68e1f52e55').text('ETA:  0:03:18');"
       ],
       "metadata": {},
       "output_type": "display_data",
       "text": [
        "<IPython.core.display.Javascript at 0x7f2a958db850>"
       ]
      },
      {
       "javascript": [
        "$('div#85400189-6928-448f-a97c-883694aea79a').text(' 23%');"
       ],
       "metadata": {},
       "output_type": "display_data",
       "text": [
        "<IPython.core.display.Javascript at 0x7f2a9ae9a110>"
       ]
      },
      {
       "javascript": [
        "\n",
        "        var $myPB = $(\"div#73d29a16-56e5-4057-bc7d-518521da0697\")\n",
        "        if ($myPB.hasClass('ui-progressbar')) {\n",
        "            $myPB.progressbar('value', 135058);\n",
        "        } else {\n",
        "            $myPB.progressbar({value: 0, max: 565516});\n",
        "        }\n",
        "        "
       ],
       "metadata": {},
       "output_type": "display_data",
       "text": [
        "<IPython.core.display.Javascript at 0x7f2a95475f50>"
       ]
      },
      {
       "javascript": [
        "$('div#ae1516f6-5e19-4df3-ac07-cf68e1f52e55').text('ETA:  0:03:17');"
       ],
       "metadata": {},
       "output_type": "display_data",
       "text": [
        "<IPython.core.display.Javascript at 0x7f2a95475e10>"
       ]
      },
      {
       "javascript": [
        "$('div#85400189-6928-448f-a97c-883694aea79a').text(' 24%');"
       ],
       "metadata": {},
       "output_type": "display_data",
       "text": [
        "<IPython.core.display.Javascript at 0x7f2a95475ed0>"
       ]
      },
      {
       "javascript": [
        "\n",
        "        var $myPB = $(\"div#73d29a16-56e5-4057-bc7d-518521da0697\")\n",
        "        if ($myPB.hasClass('ui-progressbar')) {\n",
        "            $myPB.progressbar('value', 137202);\n",
        "        } else {\n",
        "            $myPB.progressbar({value: 0, max: 565516});\n",
        "        }\n",
        "        "
       ],
       "metadata": {},
       "output_type": "display_data",
       "text": [
        "<IPython.core.display.Javascript at 0x7f2a95475c50>"
       ]
      },
      {
       "javascript": [
        "$('div#ae1516f6-5e19-4df3-ac07-cf68e1f52e55').text('ETA:  0:03:16');"
       ],
       "metadata": {},
       "output_type": "display_data",
       "text": [
        "<IPython.core.display.Javascript at 0x7f2a95475dd0>"
       ]
      },
      {
       "javascript": [
        "$('div#85400189-6928-448f-a97c-883694aea79a').text(' 24%');"
       ],
       "metadata": {},
       "output_type": "display_data",
       "text": [
        "<IPython.core.display.Javascript at 0x7f2a95475a90>"
       ]
      },
      {
       "javascript": [
        "\n",
        "        var $myPB = $(\"div#73d29a16-56e5-4057-bc7d-518521da0697\")\n",
        "        if ($myPB.hasClass('ui-progressbar')) {\n",
        "            $myPB.progressbar('value', 139504);\n",
        "        } else {\n",
        "            $myPB.progressbar({value: 0, max: 565516});\n",
        "        }\n",
        "        "
       ],
       "metadata": {},
       "output_type": "display_data",
       "text": [
        "<IPython.core.display.Javascript at 0x7f2a95475910>"
       ]
      },
      {
       "javascript": [
        "$('div#ae1516f6-5e19-4df3-ac07-cf68e1f52e55').text('ETA:  0:03:15');"
       ],
       "metadata": {},
       "output_type": "display_data",
       "text": [
        "<IPython.core.display.Javascript at 0x7f2a95475e50>"
       ]
      },
      {
       "javascript": [
        "$('div#85400189-6928-448f-a97c-883694aea79a').text(' 25%');"
       ],
       "metadata": {},
       "output_type": "display_data",
       "text": [
        "<IPython.core.display.Javascript at 0x7f2a95475c10>"
       ]
      },
      {
       "javascript": [
        "\n",
        "        var $myPB = $(\"div#73d29a16-56e5-4057-bc7d-518521da0697\")\n",
        "        if ($myPB.hasClass('ui-progressbar')) {\n",
        "            $myPB.progressbar('value', 141770);\n",
        "        } else {\n",
        "            $myPB.progressbar({value: 0, max: 565516});\n",
        "        }\n",
        "        "
       ],
       "metadata": {},
       "output_type": "display_data",
       "text": [
        "<IPython.core.display.Javascript at 0x7f2a95475f90>"
       ]
      },
      {
       "javascript": [
        "$('div#ae1516f6-5e19-4df3-ac07-cf68e1f52e55').text('ETA:  0:03:14');"
       ],
       "metadata": {},
       "output_type": "display_data",
       "text": [
        "<IPython.core.display.Javascript at 0x7f2a95475a50>"
       ]
      },
      {
       "javascript": [
        "$('div#85400189-6928-448f-a97c-883694aea79a').text(' 25%');"
       ],
       "metadata": {},
       "output_type": "display_data",
       "text": [
        "<IPython.core.display.Javascript at 0x7f2a95475ad0>"
       ]
      },
      {
       "javascript": [
        "\n",
        "        var $myPB = $(\"div#73d29a16-56e5-4057-bc7d-518521da0697\")\n",
        "        if ($myPB.hasClass('ui-progressbar')) {\n",
        "            $myPB.progressbar('value', 143989);\n",
        "        } else {\n",
        "            $myPB.progressbar({value: 0, max: 565516});\n",
        "        }\n",
        "        "
       ],
       "metadata": {},
       "output_type": "display_data",
       "text": [
        "<IPython.core.display.Javascript at 0x7f2a95475d10>"
       ]
      },
      {
       "javascript": [
        "$('div#ae1516f6-5e19-4df3-ac07-cf68e1f52e55').text('ETA:  0:03:13');"
       ],
       "metadata": {},
       "output_type": "display_data",
       "text": [
        "<IPython.core.display.Javascript at 0x7f2a95475810>"
       ]
      },
      {
       "javascript": [
        "$('div#85400189-6928-448f-a97c-883694aea79a').text(' 25%');"
       ],
       "metadata": {},
       "output_type": "display_data",
       "text": [
        "<IPython.core.display.Javascript at 0x7f2a95475b90>"
       ]
      },
      {
       "javascript": [
        "\n",
        "        var $myPB = $(\"div#73d29a16-56e5-4057-bc7d-518521da0697\")\n",
        "        if ($myPB.hasClass('ui-progressbar')) {\n",
        "            $myPB.progressbar('value', 146255);\n",
        "        } else {\n",
        "            $myPB.progressbar({value: 0, max: 565516});\n",
        "        }\n",
        "        "
       ],
       "metadata": {},
       "output_type": "display_data",
       "text": [
        "<IPython.core.display.Javascript at 0x7f2a9ae93d10>"
       ]
      },
      {
       "javascript": [
        "$('div#ae1516f6-5e19-4df3-ac07-cf68e1f52e55').text('ETA:  0:03:12');"
       ],
       "metadata": {},
       "output_type": "display_data",
       "text": [
        "<IPython.core.display.Javascript at 0x7f2a95491b90>"
       ]
      },
      {
       "javascript": [
        "$('div#85400189-6928-448f-a97c-883694aea79a').text(' 26%');"
       ],
       "metadata": {},
       "output_type": "display_data",
       "text": [
        "<IPython.core.display.Javascript at 0x7f2a95491bd0>"
       ]
      },
      {
       "javascript": [
        "\n",
        "        var $myPB = $(\"div#73d29a16-56e5-4057-bc7d-518521da0697\")\n",
        "        if ($myPB.hasClass('ui-progressbar')) {\n",
        "            $myPB.progressbar('value', 148501);\n",
        "        } else {\n",
        "            $myPB.progressbar({value: 0, max: 565516});\n",
        "        }\n",
        "        "
       ],
       "metadata": {},
       "output_type": "display_data",
       "text": [
        "<IPython.core.display.Javascript at 0x7f2a95491c10>"
       ]
      },
      {
       "javascript": [
        "$('div#ae1516f6-5e19-4df3-ac07-cf68e1f52e55').text('ETA:  0:03:10');"
       ],
       "metadata": {},
       "output_type": "display_data",
       "text": [
        "<IPython.core.display.Javascript at 0x7f2a95491c90>"
       ]
      },
      {
       "javascript": [
        "$('div#85400189-6928-448f-a97c-883694aea79a').text(' 26%');"
       ],
       "metadata": {},
       "output_type": "display_data",
       "text": [
        "<IPython.core.display.Javascript at 0x7f2a95491c50>"
       ]
      },
      {
       "javascript": [
        "\n",
        "        var $myPB = $(\"div#73d29a16-56e5-4057-bc7d-518521da0697\")\n",
        "        if ($myPB.hasClass('ui-progressbar')) {\n",
        "            $myPB.progressbar('value', 150692);\n",
        "        } else {\n",
        "            $myPB.progressbar({value: 0, max: 565516});\n",
        "        }\n",
        "        "
       ],
       "metadata": {},
       "output_type": "display_data",
       "text": [
        "<IPython.core.display.Javascript at 0x7f2a95491790>"
       ]
      },
      {
       "javascript": [
        "$('div#ae1516f6-5e19-4df3-ac07-cf68e1f52e55').text('ETA:  0:03:09');"
       ],
       "metadata": {},
       "output_type": "display_data",
       "text": [
        "<IPython.core.display.Javascript at 0x7f2a95491250>"
       ]
      },
      {
       "javascript": [
        "$('div#85400189-6928-448f-a97c-883694aea79a').text(' 27%');"
       ],
       "metadata": {},
       "output_type": "display_data",
       "text": [
        "<IPython.core.display.Javascript at 0x7f2a95491ad0>"
       ]
      },
      {
       "javascript": [
        "\n",
        "        var $myPB = $(\"div#73d29a16-56e5-4057-bc7d-518521da0697\")\n",
        "        if ($myPB.hasClass('ui-progressbar')) {\n",
        "            $myPB.progressbar('value', 152793);\n",
        "        } else {\n",
        "            $myPB.progressbar({value: 0, max: 565516});\n",
        "        }\n",
        "        "
       ],
       "metadata": {},
       "output_type": "display_data",
       "text": [
        "<IPython.core.display.Javascript at 0x7f2a95491110>"
       ]
      },
      {
       "javascript": [
        "$('div#ae1516f6-5e19-4df3-ac07-cf68e1f52e55').text('ETA:  0:03:09');"
       ],
       "metadata": {},
       "output_type": "display_data",
       "text": [
        "<IPython.core.display.Javascript at 0x7f2a95491890>"
       ]
      },
      {
       "javascript": [
        "$('div#85400189-6928-448f-a97c-883694aea79a').text(' 27%');"
       ],
       "metadata": {},
       "output_type": "display_data",
       "text": [
        "<IPython.core.display.Javascript at 0x7f2a95491550>"
       ]
      },
      {
       "javascript": [
        "\n",
        "        var $myPB = $(\"div#73d29a16-56e5-4057-bc7d-518521da0697\")\n",
        "        if ($myPB.hasClass('ui-progressbar')) {\n",
        "            $myPB.progressbar('value', 154527);\n",
        "        } else {\n",
        "            $myPB.progressbar({value: 0, max: 565516});\n",
        "        }\n",
        "        "
       ],
       "metadata": {},
       "output_type": "display_data",
       "text": [
        "<IPython.core.display.Javascript at 0x7f2a95491110>"
       ]
      },
      {
       "javascript": [
        "$('div#ae1516f6-5e19-4df3-ac07-cf68e1f52e55').text('ETA:  0:03:08');"
       ],
       "metadata": {},
       "output_type": "display_data",
       "text": [
        "<IPython.core.display.Javascript at 0x7f2a95491ad0>"
       ]
      },
      {
       "javascript": [
        "$('div#85400189-6928-448f-a97c-883694aea79a').text(' 27%');"
       ],
       "metadata": {},
       "output_type": "display_data",
       "text": [
        "<IPython.core.display.Javascript at 0x7f2a9ae9a110>"
       ]
      },
      {
       "javascript": [
        "\n",
        "        var $myPB = $(\"div#73d29a16-56e5-4057-bc7d-518521da0697\")\n",
        "        if ($myPB.hasClass('ui-progressbar')) {\n",
        "            $myPB.progressbar('value', 156330);\n",
        "        } else {\n",
        "            $myPB.progressbar({value: 0, max: 565516});\n",
        "        }\n",
        "        "
       ],
       "metadata": {},
       "output_type": "display_data",
       "text": [
        "<IPython.core.display.Javascript at 0x7f2a95475fd0>"
       ]
      },
      {
       "javascript": [
        "$('div#ae1516f6-5e19-4df3-ac07-cf68e1f52e55').text('ETA:  0:03:08');"
       ],
       "metadata": {},
       "output_type": "display_data",
       "text": [
        "<IPython.core.display.Javascript at 0x7f2a95475b10>"
       ]
      },
      {
       "javascript": [
        "$('div#85400189-6928-448f-a97c-883694aea79a').text(' 28%');"
       ],
       "metadata": {},
       "output_type": "display_data",
       "text": [
        "<IPython.core.display.Javascript at 0x7f2a95475890>"
       ]
      },
      {
       "javascript": [
        "\n",
        "        var $myPB = $(\"div#73d29a16-56e5-4057-bc7d-518521da0697\")\n",
        "        if ($myPB.hasClass('ui-progressbar')) {\n",
        "            $myPB.progressbar('value', 158424);\n",
        "        } else {\n",
        "            $myPB.progressbar({value: 0, max: 565516});\n",
        "        }\n",
        "        "
       ],
       "metadata": {},
       "output_type": "display_data",
       "text": [
        "<IPython.core.display.Javascript at 0x7f2a95475f10>"
       ]
      },
      {
       "javascript": [
        "$('div#ae1516f6-5e19-4df3-ac07-cf68e1f52e55').text('ETA:  0:03:07');"
       ],
       "metadata": {},
       "output_type": "display_data",
       "text": [
        "<IPython.core.display.Javascript at 0x7f2a95475990>"
       ]
      },
      {
       "javascript": [
        "$('div#85400189-6928-448f-a97c-883694aea79a').text(' 28%');"
       ],
       "metadata": {},
       "output_type": "display_data",
       "text": [
        "<IPython.core.display.Javascript at 0x7f2a95475ed0>"
       ]
      },
      {
       "javascript": [
        "\n",
        "        var $myPB = $(\"div#73d29a16-56e5-4057-bc7d-518521da0697\")\n",
        "        if ($myPB.hasClass('ui-progressbar')) {\n",
        "            $myPB.progressbar('value', 160623);\n",
        "        } else {\n",
        "            $myPB.progressbar({value: 0, max: 565516});\n",
        "        }\n",
        "        "
       ],
       "metadata": {},
       "output_type": "display_data",
       "text": [
        "<IPython.core.display.Javascript at 0x7f2a95475910>"
       ]
      },
      {
       "javascript": [
        "$('div#ae1516f6-5e19-4df3-ac07-cf68e1f52e55').text('ETA:  0:03:06');"
       ],
       "metadata": {},
       "output_type": "display_data",
       "text": [
        "<IPython.core.display.Javascript at 0x7f2a95475e50>"
       ]
      },
      {
       "javascript": [
        "$('div#85400189-6928-448f-a97c-883694aea79a').text(' 28%');"
       ],
       "metadata": {},
       "output_type": "display_data",
       "text": [
        "<IPython.core.display.Javascript at 0x7f2a95475c10>"
       ]
      },
      {
       "javascript": [
        "\n",
        "        var $myPB = $(\"div#73d29a16-56e5-4057-bc7d-518521da0697\")\n",
        "        if ($myPB.hasClass('ui-progressbar')) {\n",
        "            $myPB.progressbar('value', 162802);\n",
        "        } else {\n",
        "            $myPB.progressbar({value: 0, max: 565516});\n",
        "        }\n",
        "        "
       ],
       "metadata": {},
       "output_type": "display_data",
       "text": [
        "<IPython.core.display.Javascript at 0x7f2a95475d50>"
       ]
      },
      {
       "javascript": [
        "$('div#ae1516f6-5e19-4df3-ac07-cf68e1f52e55').text('ETA:  0:03:05');"
       ],
       "metadata": {},
       "output_type": "display_data",
       "text": [
        "<IPython.core.display.Javascript at 0x7f2a95475950>"
       ]
      },
      {
       "javascript": [
        "$('div#85400189-6928-448f-a97c-883694aea79a').text(' 29%');"
       ],
       "metadata": {},
       "output_type": "display_data",
       "text": [
        "<IPython.core.display.Javascript at 0x7f2a95491d50>"
       ]
      },
      {
       "javascript": [
        "\n",
        "        var $myPB = $(\"div#73d29a16-56e5-4057-bc7d-518521da0697\")\n",
        "        if ($myPB.hasClass('ui-progressbar')) {\n",
        "            $myPB.progressbar('value', 164807);\n",
        "        } else {\n",
        "            $myPB.progressbar({value: 0, max: 565516});\n",
        "        }\n",
        "        "
       ],
       "metadata": {},
       "output_type": "display_data",
       "text": [
        "<IPython.core.display.Javascript at 0x7f2a95491990>"
       ]
      },
      {
       "javascript": [
        "$('div#ae1516f6-5e19-4df3-ac07-cf68e1f52e55').text('ETA:  0:03:04');"
       ],
       "metadata": {},
       "output_type": "display_data",
       "text": [
        "<IPython.core.display.Javascript at 0x7f2a95491490>"
       ]
      },
      {
       "javascript": [
        "$('div#85400189-6928-448f-a97c-883694aea79a').text(' 29%');"
       ],
       "metadata": {},
       "output_type": "display_data",
       "text": [
        "<IPython.core.display.Javascript at 0x7f2a95491450>"
       ]
      },
      {
       "javascript": [
        "\n",
        "        var $myPB = $(\"div#73d29a16-56e5-4057-bc7d-518521da0697\")\n",
        "        if ($myPB.hasClass('ui-progressbar')) {\n",
        "            $myPB.progressbar('value', 166957);\n",
        "        } else {\n",
        "            $myPB.progressbar({value: 0, max: 565516});\n",
        "        }\n",
        "        "
       ],
       "metadata": {},
       "output_type": "display_data",
       "text": [
        "<IPython.core.display.Javascript at 0x7f2a95491b10>"
       ]
      },
      {
       "javascript": [
        "$('div#ae1516f6-5e19-4df3-ac07-cf68e1f52e55').text('ETA:  0:03:03');"
       ],
       "metadata": {},
       "output_type": "display_data",
       "text": [
        "<IPython.core.display.Javascript at 0x7f2a95491a50>"
       ]
      },
      {
       "javascript": [
        "$('div#85400189-6928-448f-a97c-883694aea79a').text(' 29%');"
       ],
       "metadata": {},
       "output_type": "display_data",
       "text": [
        "<IPython.core.display.Javascript at 0x7f2a95475d10>"
       ]
      },
      {
       "javascript": [
        "\n",
        "        var $myPB = $(\"div#73d29a16-56e5-4057-bc7d-518521da0697\")\n",
        "        if ($myPB.hasClass('ui-progressbar')) {\n",
        "            $myPB.progressbar('value', 169137);\n",
        "        } else {\n",
        "            $myPB.progressbar({value: 0, max: 565516});\n",
        "        }\n",
        "        "
       ],
       "metadata": {},
       "output_type": "display_data",
       "text": [
        "<IPython.core.display.Javascript at 0x7f2a954758d0>"
       ]
      },
      {
       "javascript": [
        "$('div#ae1516f6-5e19-4df3-ac07-cf68e1f52e55').text('ETA:  0:03:02');"
       ],
       "metadata": {},
       "output_type": "display_data",
       "text": [
        "<IPython.core.display.Javascript at 0x7f2a95475bd0>"
       ]
      },
      {
       "javascript": [
        "$('div#85400189-6928-448f-a97c-883694aea79a').text(' 30%');"
       ],
       "metadata": {},
       "output_type": "display_data",
       "text": [
        "<IPython.core.display.Javascript at 0x7f2a95475dd0>"
       ]
      },
      {
       "javascript": [
        "\n",
        "        var $myPB = $(\"div#73d29a16-56e5-4057-bc7d-518521da0697\")\n",
        "        if ($myPB.hasClass('ui-progressbar')) {\n",
        "            $myPB.progressbar('value', 171349);\n",
        "        } else {\n",
        "            $myPB.progressbar({value: 0, max: 565516});\n",
        "        }\n",
        "        "
       ],
       "metadata": {},
       "output_type": "display_data",
       "text": [
        "<IPython.core.display.Javascript at 0x7f2a95475ad0>"
       ]
      },
      {
       "javascript": [
        "$('div#ae1516f6-5e19-4df3-ac07-cf68e1f52e55').text('ETA:  0:03:01');"
       ],
       "metadata": {},
       "output_type": "display_data",
       "text": [
        "<IPython.core.display.Javascript at 0x7f2a95475a50>"
       ]
      },
      {
       "javascript": [
        "$('div#85400189-6928-448f-a97c-883694aea79a').text(' 30%');"
       ],
       "metadata": {},
       "output_type": "display_data",
       "text": [
        "<IPython.core.display.Javascript at 0x7f2a95475e50>"
       ]
      },
      {
       "javascript": [
        "\n",
        "        var $myPB = $(\"div#73d29a16-56e5-4057-bc7d-518521da0697\")\n",
        "        if ($myPB.hasClass('ui-progressbar')) {\n",
        "            $myPB.progressbar('value', 173561);\n",
        "        } else {\n",
        "            $myPB.progressbar({value: 0, max: 565516});\n",
        "        }\n",
        "        "
       ],
       "metadata": {},
       "output_type": "display_data",
       "text": [
        "<IPython.core.display.Javascript at 0x7f2a95475d90>"
       ]
      },
      {
       "javascript": [
        "$('div#ae1516f6-5e19-4df3-ac07-cf68e1f52e55').text('ETA:  0:03:00');"
       ],
       "metadata": {},
       "output_type": "display_data",
       "text": [
        "<IPython.core.display.Javascript at 0x7f2a95475a90>"
       ]
      },
      {
       "javascript": [
        "$('div#85400189-6928-448f-a97c-883694aea79a').text(' 30%');"
       ],
       "metadata": {},
       "output_type": "display_data",
       "text": [
        "<IPython.core.display.Javascript at 0x7f2a95475a10>"
       ]
      },
      {
       "javascript": [
        "\n",
        "        var $myPB = $(\"div#73d29a16-56e5-4057-bc7d-518521da0697\")\n",
        "        if ($myPB.hasClass('ui-progressbar')) {\n",
        "            $myPB.progressbar('value', 174790);\n",
        "        } else {\n",
        "            $myPB.progressbar({value: 0, max: 565516});\n",
        "        }\n",
        "        "
       ],
       "metadata": {},
       "output_type": "display_data",
       "text": [
        "<IPython.core.display.Javascript at 0x7f2a954915d0>"
       ]
      },
      {
       "javascript": [
        "$('div#ae1516f6-5e19-4df3-ac07-cf68e1f52e55').text('ETA:  0:03:01');"
       ],
       "metadata": {},
       "output_type": "display_data",
       "text": [
        "<IPython.core.display.Javascript at 0x7f2a95491650>"
       ]
      },
      {
       "javascript": [
        "$('div#85400189-6928-448f-a97c-883694aea79a').text(' 31%');"
       ],
       "metadata": {},
       "output_type": "display_data",
       "text": [
        "<IPython.core.display.Javascript at 0x7f2a95475bd0>"
       ]
      },
      {
       "javascript": [
        "\n",
        "        var $myPB = $(\"div#73d29a16-56e5-4057-bc7d-518521da0697\")\n",
        "        if ($myPB.hasClass('ui-progressbar')) {\n",
        "            $myPB.progressbar('value', 176336);\n",
        "        } else {\n",
        "            $myPB.progressbar({value: 0, max: 565516});\n",
        "        }\n",
        "        "
       ],
       "metadata": {},
       "output_type": "display_data",
       "text": [
        "<IPython.core.display.Javascript at 0x7f2a95475c50>"
       ]
      },
      {
       "javascript": [
        "$('div#ae1516f6-5e19-4df3-ac07-cf68e1f52e55').text('ETA:  0:03:01');"
       ],
       "metadata": {},
       "output_type": "display_data",
       "text": [
        "<IPython.core.display.Javascript at 0x7f2a95475990>"
       ]
      },
      {
       "javascript": [
        "$('div#85400189-6928-448f-a97c-883694aea79a').text(' 31%');"
       ],
       "metadata": {},
       "output_type": "display_data",
       "text": [
        "<IPython.core.display.Javascript at 0x7f2a954917d0>"
       ]
      },
      {
       "javascript": [
        "\n",
        "        var $myPB = $(\"div#73d29a16-56e5-4057-bc7d-518521da0697\")\n",
        "        if ($myPB.hasClass('ui-progressbar')) {\n",
        "            $myPB.progressbar('value', 178352);\n",
        "        } else {\n",
        "            $myPB.progressbar({value: 0, max: 565516});\n",
        "        }\n",
        "        "
       ],
       "metadata": {},
       "output_type": "display_data",
       "text": [
        "<IPython.core.display.Javascript at 0x7f2a954914d0>"
       ]
      },
      {
       "javascript": [
        "$('div#ae1516f6-5e19-4df3-ac07-cf68e1f52e55').text('ETA:  0:03:00');"
       ],
       "metadata": {},
       "output_type": "display_data",
       "text": [
        "<IPython.core.display.Javascript at 0x7f2a95491b10>"
       ]
      },
      {
       "javascript": [
        "$('div#85400189-6928-448f-a97c-883694aea79a').text(' 31%');"
       ],
       "metadata": {},
       "output_type": "display_data",
       "text": [
        "<IPython.core.display.Javascript at 0x7f2a95491750>"
       ]
      },
      {
       "javascript": [
        "\n",
        "        var $myPB = $(\"div#73d29a16-56e5-4057-bc7d-518521da0697\")\n",
        "        if ($myPB.hasClass('ui-progressbar')) {\n",
        "            $myPB.progressbar('value', 180417);\n",
        "        } else {\n",
        "            $myPB.progressbar({value: 0, max: 565516});\n",
        "        }\n",
        "        "
       ],
       "metadata": {},
       "output_type": "display_data",
       "text": [
        "<IPython.core.display.Javascript at 0x7f2a95491050>"
       ]
      },
      {
       "javascript": [
        "$('div#ae1516f6-5e19-4df3-ac07-cf68e1f52e55').text('ETA:  0:02:59');"
       ],
       "metadata": {},
       "output_type": "display_data",
       "text": [
        "<IPython.core.display.Javascript at 0x7f2a95491950>"
       ]
      },
      {
       "javascript": [
        "$('div#85400189-6928-448f-a97c-883694aea79a').text(' 32%');"
       ],
       "metadata": {},
       "output_type": "display_data",
       "text": [
        "<IPython.core.display.Javascript at 0x7f2a95475fd0>"
       ]
      },
      {
       "javascript": [
        "\n",
        "        var $myPB = $(\"div#73d29a16-56e5-4057-bc7d-518521da0697\")\n",
        "        if ($myPB.hasClass('ui-progressbar')) {\n",
        "            $myPB.progressbar('value', 182392);\n",
        "        } else {\n",
        "            $myPB.progressbar({value: 0, max: 565516});\n",
        "        }\n",
        "        "
       ],
       "metadata": {},
       "output_type": "display_data",
       "text": [
        "<IPython.core.display.Javascript at 0x7f2a954759d0>"
       ]
      },
      {
       "javascript": [
        "$('div#ae1516f6-5e19-4df3-ac07-cf68e1f52e55').text('ETA:  0:02:58');"
       ],
       "metadata": {},
       "output_type": "display_data",
       "text": [
        "<IPython.core.display.Javascript at 0x7f2a95475ed0>"
       ]
      },
      {
       "javascript": [
        "$('div#85400189-6928-448f-a97c-883694aea79a').text(' 32%');"
       ],
       "metadata": {},
       "output_type": "display_data",
       "text": [
        "<IPython.core.display.Javascript at 0x7f2a95475f10>"
       ]
      },
      {
       "javascript": [
        "\n",
        "        var $myPB = $(\"div#73d29a16-56e5-4057-bc7d-518521da0697\")\n",
        "        if ($myPB.hasClass('ui-progressbar')) {\n",
        "            $myPB.progressbar('value', 184563);\n",
        "        } else {\n",
        "            $myPB.progressbar({value: 0, max: 565516});\n",
        "        }\n",
        "        "
       ],
       "metadata": {},
       "output_type": "display_data",
       "text": [
        "<IPython.core.display.Javascript at 0x7f2a95475850>"
       ]
      },
      {
       "javascript": [
        "$('div#ae1516f6-5e19-4df3-ac07-cf68e1f52e55').text('ETA:  0:02:57');"
       ],
       "metadata": {},
       "output_type": "display_data",
       "text": [
        "<IPython.core.display.Javascript at 0x7f2a95475e50>"
       ]
      },
      {
       "javascript": [
        "$('div#85400189-6928-448f-a97c-883694aea79a').text(' 33%');"
       ],
       "metadata": {},
       "output_type": "display_data",
       "text": [
        "<IPython.core.display.Javascript at 0x7f2a95475ad0>"
       ]
      },
      {
       "javascript": [
        "\n",
        "        var $myPB = $(\"div#73d29a16-56e5-4057-bc7d-518521da0697\")\n",
        "        if ($myPB.hasClass('ui-progressbar')) {\n",
        "            $myPB.progressbar('value', 186721);\n",
        "        } else {\n",
        "            $myPB.progressbar({value: 0, max: 565516});\n",
        "        }\n",
        "        "
       ],
       "metadata": {},
       "output_type": "display_data",
       "text": [
        "<IPython.core.display.Javascript at 0x7f2a95475d50>"
       ]
      },
      {
       "javascript": [
        "$('div#ae1516f6-5e19-4df3-ac07-cf68e1f52e55').text('ETA:  0:02:56');"
       ],
       "metadata": {},
       "output_type": "display_data",
       "text": [
        "<IPython.core.display.Javascript at 0x7f2a958c3a10>"
       ]
      },
      {
       "javascript": [
        "$('div#85400189-6928-448f-a97c-883694aea79a').text(' 33%');"
       ],
       "metadata": {},
       "output_type": "display_data",
       "text": [
        "<IPython.core.display.Javascript at 0x7f2a954911d0>"
       ]
      },
      {
       "javascript": [
        "\n",
        "        var $myPB = $(\"div#73d29a16-56e5-4057-bc7d-518521da0697\")\n",
        "        if ($myPB.hasClass('ui-progressbar')) {\n",
        "            $myPB.progressbar('value', 188760);\n",
        "        } else {\n",
        "            $myPB.progressbar({value: 0, max: 565516});\n",
        "        }\n",
        "        "
       ],
       "metadata": {},
       "output_type": "display_data",
       "text": [
        "<IPython.core.display.Javascript at 0x7f2a95491d50>"
       ]
      },
      {
       "javascript": [
        "$('div#ae1516f6-5e19-4df3-ac07-cf68e1f52e55').text('ETA:  0:02:55');"
       ],
       "metadata": {},
       "output_type": "display_data",
       "text": [
        "<IPython.core.display.Javascript at 0x7f2a95491490>"
       ]
      },
      {
       "javascript": [
        "$('div#85400189-6928-448f-a97c-883694aea79a').text(' 33%');"
       ],
       "metadata": {},
       "output_type": "display_data",
       "text": [
        "<IPython.core.display.Javascript at 0x7f2a95491090>"
       ]
      },
      {
       "javascript": [
        "\n",
        "        var $myPB = $(\"div#73d29a16-56e5-4057-bc7d-518521da0697\")\n",
        "        if ($myPB.hasClass('ui-progressbar')) {\n",
        "            $myPB.progressbar('value', 190940);\n",
        "        } else {\n",
        "            $myPB.progressbar({value: 0, max: 565516});\n",
        "        }\n",
        "        "
       ],
       "metadata": {},
       "output_type": "display_data",
       "text": [
        "<IPython.core.display.Javascript at 0x7f2a95491890>"
       ]
      },
      {
       "javascript": [
        "$('div#ae1516f6-5e19-4df3-ac07-cf68e1f52e55').text('ETA:  0:02:54');"
       ],
       "metadata": {},
       "output_type": "display_data",
       "text": [
        "<IPython.core.display.Javascript at 0x7f2a95491a50>"
       ]
      },
      {
       "javascript": [
        "$('div#85400189-6928-448f-a97c-883694aea79a').text(' 34%');"
       ],
       "metadata": {},
       "output_type": "display_data",
       "text": [
        "<IPython.core.display.Javascript at 0x7f2a95475a10>"
       ]
      },
      {
       "javascript": [
        "\n",
        "        var $myPB = $(\"div#73d29a16-56e5-4057-bc7d-518521da0697\")\n",
        "        if ($myPB.hasClass('ui-progressbar')) {\n",
        "            $myPB.progressbar('value', 192801);\n",
        "        } else {\n",
        "            $myPB.progressbar({value: 0, max: 565516});\n",
        "        }\n",
        "        "
       ],
       "metadata": {},
       "output_type": "display_data",
       "text": [
        "<IPython.core.display.Javascript at 0x7f2a95475d90>"
       ]
      },
      {
       "javascript": [
        "$('div#ae1516f6-5e19-4df3-ac07-cf68e1f52e55').text('ETA:  0:02:54');"
       ],
       "metadata": {},
       "output_type": "display_data",
       "text": [
        "<IPython.core.display.Javascript at 0x7f2a95475e50>"
       ]
      },
      {
       "javascript": [
        "$('div#85400189-6928-448f-a97c-883694aea79a').text(' 34%');"
       ],
       "metadata": {},
       "output_type": "display_data",
       "text": [
        "<IPython.core.display.Javascript at 0x7f2a95491d10>"
       ]
      },
      {
       "javascript": [
        "\n",
        "        var $myPB = $(\"div#73d29a16-56e5-4057-bc7d-518521da0697\")\n",
        "        if ($myPB.hasClass('ui-progressbar')) {\n",
        "            $myPB.progressbar('value', 194406);\n",
        "        } else {\n",
        "            $myPB.progressbar({value: 0, max: 565516});\n",
        "        }\n",
        "        "
       ],
       "metadata": {},
       "output_type": "display_data",
       "text": [
        "<IPython.core.display.Javascript at 0x7f2a95491690>"
       ]
      },
      {
       "javascript": [
        "$('div#ae1516f6-5e19-4df3-ac07-cf68e1f52e55').text('ETA:  0:02:53');"
       ],
       "metadata": {},
       "output_type": "display_data",
       "text": [
        "<IPython.core.display.Javascript at 0x7f2a95491790>"
       ]
      },
      {
       "javascript": [
        "$('div#85400189-6928-448f-a97c-883694aea79a').text(' 34%');"
       ],
       "metadata": {},
       "output_type": "display_data",
       "text": [
        "<IPython.core.display.Javascript at 0x7f2a95475f10>"
       ]
      },
      {
       "javascript": [
        "\n",
        "        var $myPB = $(\"div#73d29a16-56e5-4057-bc7d-518521da0697\")\n",
        "        if ($myPB.hasClass('ui-progressbar')) {\n",
        "            $myPB.progressbar('value', 196498);\n",
        "        } else {\n",
        "            $myPB.progressbar({value: 0, max: 565516});\n",
        "        }\n",
        "        "
       ],
       "metadata": {},
       "output_type": "display_data",
       "text": [
        "<IPython.core.display.Javascript at 0x7f2a95475e90>"
       ]
      },
      {
       "javascript": [
        "$('div#ae1516f6-5e19-4df3-ac07-cf68e1f52e55').text('ETA:  0:02:52');"
       ],
       "metadata": {},
       "output_type": "display_data",
       "text": [
        "<IPython.core.display.Javascript at 0x7f2a95475e10>"
       ]
      },
      {
       "javascript": [
        "$('div#85400189-6928-448f-a97c-883694aea79a').text(' 35%');"
       ],
       "metadata": {},
       "output_type": "display_data",
       "text": [
        "<IPython.core.display.Javascript at 0x7f2a95475ed0>"
       ]
      },
      {
       "javascript": [
        "\n",
        "        var $myPB = $(\"div#73d29a16-56e5-4057-bc7d-518521da0697\")\n",
        "        if ($myPB.hasClass('ui-progressbar')) {\n",
        "            $myPB.progressbar('value', 198784);\n",
        "        } else {\n",
        "            $myPB.progressbar({value: 0, max: 565516});\n",
        "        }\n",
        "        "
       ],
       "metadata": {},
       "output_type": "display_data",
       "text": [
        "<IPython.core.display.Javascript at 0x7f2a95475b10>"
       ]
      },
      {
       "javascript": [
        "$('div#ae1516f6-5e19-4df3-ac07-cf68e1f52e55').text('ETA:  0:02:51');"
       ],
       "metadata": {},
       "output_type": "display_data",
       "text": [
        "<IPython.core.display.Javascript at 0x7f2a954759d0>"
       ]
      },
      {
       "javascript": [
        "$('div#85400189-6928-448f-a97c-883694aea79a').text(' 35%');"
       ],
       "metadata": {},
       "output_type": "display_data",
       "text": [
        "<IPython.core.display.Javascript at 0x7f2a95475c50>"
       ]
      },
      {
       "javascript": [
        "\n",
        "        var $myPB = $(\"div#73d29a16-56e5-4057-bc7d-518521da0697\")\n",
        "        if ($myPB.hasClass('ui-progressbar')) {\n",
        "            $myPB.progressbar('value', 200890);\n",
        "        } else {\n",
        "            $myPB.progressbar({value: 0, max: 565516});\n",
        "        }\n",
        "        "
       ],
       "metadata": {},
       "output_type": "display_data",
       "text": [
        "<IPython.core.display.Javascript at 0x7f2a95475a90>"
       ]
      },
      {
       "javascript": [
        "$('div#ae1516f6-5e19-4df3-ac07-cf68e1f52e55').text('ETA:  0:02:50');"
       ],
       "metadata": {},
       "output_type": "display_data",
       "text": [
        "<IPython.core.display.Javascript at 0x7f2a95475dd0>"
       ]
      },
      {
       "javascript": [
        "$('div#85400189-6928-448f-a97c-883694aea79a').text(' 35%');"
       ],
       "metadata": {},
       "output_type": "display_data",
       "text": [
        "<IPython.core.display.Javascript at 0x7f2a95491b50>"
       ]
      },
      {
       "javascript": [
        "\n",
        "        var $myPB = $(\"div#73d29a16-56e5-4057-bc7d-518521da0697\")\n",
        "        if ($myPB.hasClass('ui-progressbar')) {\n",
        "            $myPB.progressbar('value', 202872);\n",
        "        } else {\n",
        "            $myPB.progressbar({value: 0, max: 565516});\n",
        "        }\n",
        "        "
       ],
       "metadata": {},
       "output_type": "display_data",
       "text": [
        "<IPython.core.display.Javascript at 0x7f2a95491050>"
       ]
      },
      {
       "javascript": [
        "$('div#ae1516f6-5e19-4df3-ac07-cf68e1f52e55').text('ETA:  0:02:49');"
       ],
       "metadata": {},
       "output_type": "display_data",
       "text": [
        "<IPython.core.display.Javascript at 0x7f2a95491d50>"
       ]
      },
      {
       "javascript": [
        "$('div#85400189-6928-448f-a97c-883694aea79a').text(' 36%');"
       ],
       "metadata": {},
       "output_type": "display_data",
       "text": [
        "<IPython.core.display.Javascript at 0x7f2a95491490>"
       ]
      },
      {
       "javascript": [
        "\n",
        "        var $myPB = $(\"div#73d29a16-56e5-4057-bc7d-518521da0697\")\n",
        "        if ($myPB.hasClass('ui-progressbar')) {\n",
        "            $myPB.progressbar('value', 205131);\n",
        "        } else {\n",
        "            $myPB.progressbar({value: 0, max: 565516});\n",
        "        }\n",
        "        "
       ],
       "metadata": {},
       "output_type": "display_data",
       "text": [
        "<IPython.core.display.Javascript at 0x7f2a954915d0>"
       ]
      },
      {
       "javascript": [
        "$('div#ae1516f6-5e19-4df3-ac07-cf68e1f52e55').text('ETA:  0:02:48');"
       ],
       "metadata": {},
       "output_type": "display_data",
       "text": [
        "<IPython.core.display.Javascript at 0x7f2a954918d0>"
       ]
      },
      {
       "javascript": [
        "$('div#85400189-6928-448f-a97c-883694aea79a').text(' 36%');"
       ],
       "metadata": {},
       "output_type": "display_data",
       "text": [
        "<IPython.core.display.Javascript at 0x7f2a95491990>"
       ]
      },
      {
       "javascript": [
        "\n",
        "        var $myPB = $(\"div#73d29a16-56e5-4057-bc7d-518521da0697\")\n",
        "        if ($myPB.hasClass('ui-progressbar')) {\n",
        "            $myPB.progressbar('value', 207185);\n",
        "        } else {\n",
        "            $myPB.progressbar({value: 0, max: 565516});\n",
        "        }\n",
        "        "
       ],
       "metadata": {},
       "output_type": "display_data",
       "text": [
        "<IPython.core.display.Javascript at 0x7f2a95491650>"
       ]
      },
      {
       "javascript": [
        "$('div#ae1516f6-5e19-4df3-ac07-cf68e1f52e55').text('ETA:  0:02:47');"
       ],
       "metadata": {},
       "output_type": "display_data",
       "text": [
        "<IPython.core.display.Javascript at 0x7f2a95491110>"
       ]
      },
      {
       "javascript": [
        "$('div#85400189-6928-448f-a97c-883694aea79a').text(' 36%');"
       ],
       "metadata": {},
       "output_type": "display_data",
       "text": [
        "<IPython.core.display.Javascript at 0x7f2a95475d50>"
       ]
      },
      {
       "javascript": [
        "\n",
        "        var $myPB = $(\"div#73d29a16-56e5-4057-bc7d-518521da0697\")\n",
        "        if ($myPB.hasClass('ui-progressbar')) {\n",
        "            $myPB.progressbar('value', 209237);\n",
        "        } else {\n",
        "            $myPB.progressbar({value: 0, max: 565516});\n",
        "        }\n",
        "        "
       ],
       "metadata": {},
       "output_type": "display_data",
       "text": [
        "<IPython.core.display.Javascript at 0x7f2a95475dd0>"
       ]
      },
      {
       "javascript": [
        "$('div#ae1516f6-5e19-4df3-ac07-cf68e1f52e55').text('ETA:  0:02:46');"
       ],
       "metadata": {},
       "output_type": "display_data",
       "text": [
        "<IPython.core.display.Javascript at 0x7f2a95475a90>"
       ]
      },
      {
       "javascript": [
        "$('div#85400189-6928-448f-a97c-883694aea79a').text(' 37%');"
       ],
       "metadata": {},
       "output_type": "display_data",
       "text": [
        "<IPython.core.display.Javascript at 0x7f2a95475a10>"
       ]
      },
      {
       "javascript": [
        "\n",
        "        var $myPB = $(\"div#73d29a16-56e5-4057-bc7d-518521da0697\")\n",
        "        if ($myPB.hasClass('ui-progressbar')) {\n",
        "            $myPB.progressbar('value', 211252);\n",
        "        } else {\n",
        "            $myPB.progressbar({value: 0, max: 565516});\n",
        "        }\n",
        "        "
       ],
       "metadata": {},
       "output_type": "display_data",
       "text": [
        "<IPython.core.display.Javascript at 0x7f2a9ae93d10>"
       ]
      },
      {
       "javascript": [
        "$('div#ae1516f6-5e19-4df3-ac07-cf68e1f52e55').text('ETA:  0:02:46');"
       ],
       "metadata": {},
       "output_type": "display_data",
       "text": [
        "<IPython.core.display.Javascript at 0x7f2a95475f10>"
       ]
      },
      {
       "javascript": [
        "$('div#85400189-6928-448f-a97c-883694aea79a').text(' 37%');"
       ],
       "metadata": {},
       "output_type": "display_data",
       "text": [
        "<IPython.core.display.Javascript at 0x7f2a95475fd0>"
       ]
      },
      {
       "javascript": [
        "\n",
        "        var $myPB = $(\"div#73d29a16-56e5-4057-bc7d-518521da0697\")\n",
        "        if ($myPB.hasClass('ui-progressbar')) {\n",
        "            $myPB.progressbar('value', 212407);\n",
        "        } else {\n",
        "            $myPB.progressbar({value: 0, max: 565516});\n",
        "        }\n",
        "        "
       ],
       "metadata": {},
       "output_type": "display_data",
       "text": [
        "<IPython.core.display.Javascript at 0x7f2a95475d10>"
       ]
      },
      {
       "javascript": [
        "$('div#ae1516f6-5e19-4df3-ac07-cf68e1f52e55').text('ETA:  0:02:46');"
       ],
       "metadata": {},
       "output_type": "display_data",
       "text": [
        "<IPython.core.display.Javascript at 0x7f2a958db850>"
       ]
      },
      {
       "javascript": [
        "$('div#85400189-6928-448f-a97c-883694aea79a').text(' 37%');"
       ],
       "metadata": {},
       "output_type": "display_data",
       "text": [
        "<IPython.core.display.Javascript at 0x7f2a954758d0>"
       ]
      },
      {
       "javascript": [
        "\n",
        "        var $myPB = $(\"div#73d29a16-56e5-4057-bc7d-518521da0697\")\n",
        "        if ($myPB.hasClass('ui-progressbar')) {\n",
        "            $myPB.progressbar('value', 214658);\n",
        "        } else {\n",
        "            $myPB.progressbar({value: 0, max: 565516});\n",
        "        }\n",
        "        "
       ],
       "metadata": {},
       "output_type": "display_data",
       "text": [
        "<IPython.core.display.Javascript at 0x7f2a95475b90>"
       ]
      },
      {
       "javascript": [
        "$('div#ae1516f6-5e19-4df3-ac07-cf68e1f52e55').text('ETA:  0:02:45');"
       ],
       "metadata": {},
       "output_type": "display_data",
       "text": [
        "<IPython.core.display.Javascript at 0x7f2a92ba8050>"
       ]
      },
      {
       "javascript": [
        "$('div#85400189-6928-448f-a97c-883694aea79a').text(' 38%');"
       ],
       "metadata": {},
       "output_type": "display_data",
       "text": [
        "<IPython.core.display.Javascript at 0x7f2a95491350>"
       ]
      },
      {
       "javascript": [
        "\n",
        "        var $myPB = $(\"div#73d29a16-56e5-4057-bc7d-518521da0697\")\n",
        "        if ($myPB.hasClass('ui-progressbar')) {\n",
        "            $myPB.progressbar('value', 216711);\n",
        "        } else {\n",
        "            $myPB.progressbar({value: 0, max: 565516});\n",
        "        }\n",
        "        "
       ],
       "metadata": {},
       "output_type": "display_data",
       "text": [
        "<IPython.core.display.Javascript at 0x7f2a95491d10>"
       ]
      },
      {
       "javascript": [
        "$('div#ae1516f6-5e19-4df3-ac07-cf68e1f52e55').text('ETA:  0:02:44');"
       ],
       "metadata": {},
       "output_type": "display_data",
       "text": [
        "<IPython.core.display.Javascript at 0x7f2a95491890>"
       ]
      },
      {
       "javascript": [
        "$('div#85400189-6928-448f-a97c-883694aea79a').text(' 38%');"
       ],
       "metadata": {},
       "output_type": "display_data",
       "text": [
        "<IPython.core.display.Javascript at 0x7f2a95491ad0>"
       ]
      },
      {
       "javascript": [
        "\n",
        "        var $myPB = $(\"div#73d29a16-56e5-4057-bc7d-518521da0697\")\n",
        "        if ($myPB.hasClass('ui-progressbar')) {\n",
        "            $myPB.progressbar('value', 218819);\n",
        "        } else {\n",
        "            $myPB.progressbar({value: 0, max: 565516});\n",
        "        }\n",
        "        "
       ],
       "metadata": {},
       "output_type": "display_data",
       "text": [
        "<IPython.core.display.Javascript at 0x7f2a95491650>"
       ]
      },
      {
       "javascript": [
        "$('div#ae1516f6-5e19-4df3-ac07-cf68e1f52e55').text('ETA:  0:02:43');"
       ],
       "metadata": {},
       "output_type": "display_data",
       "text": [
        "<IPython.core.display.Javascript at 0x7f2a95491110>"
       ]
      },
      {
       "javascript": [
        "$('div#85400189-6928-448f-a97c-883694aea79a').text(' 39%');"
       ],
       "metadata": {},
       "output_type": "display_data",
       "text": [
        "<IPython.core.display.Javascript at 0x7f2a95475cd0>"
       ]
      },
      {
       "javascript": [
        "\n",
        "        var $myPB = $(\"div#73d29a16-56e5-4057-bc7d-518521da0697\")\n",
        "        if ($myPB.hasClass('ui-progressbar')) {\n",
        "            $myPB.progressbar('value', 220772);\n",
        "        } else {\n",
        "            $myPB.progressbar({value: 0, max: 565516});\n",
        "        }\n",
        "        "
       ],
       "metadata": {},
       "output_type": "display_data",
       "text": [
        "<IPython.core.display.Javascript at 0x7f2a95475a90>"
       ]
      },
      {
       "javascript": [
        "$('div#ae1516f6-5e19-4df3-ac07-cf68e1f52e55').text('ETA:  0:02:42');"
       ],
       "metadata": {},
       "output_type": "display_data",
       "text": [
        "<IPython.core.display.Javascript at 0x7f2a95475c50>"
       ]
      },
      {
       "javascript": [
        "$('div#85400189-6928-448f-a97c-883694aea79a').text(' 39%');"
       ],
       "metadata": {},
       "output_type": "display_data",
       "text": [
        "<IPython.core.display.Javascript at 0x7f2a95491390>"
       ]
      },
      {
       "javascript": [
        "\n",
        "        var $myPB = $(\"div#73d29a16-56e5-4057-bc7d-518521da0697\")\n",
        "        if ($myPB.hasClass('ui-progressbar')) {\n",
        "            $myPB.progressbar('value', 222539);\n",
        "        } else {\n",
        "            $myPB.progressbar({value: 0, max: 565516});\n",
        "        }\n",
        "        "
       ],
       "metadata": {},
       "output_type": "display_data",
       "text": [
        "<IPython.core.display.Javascript at 0x7f2a95491c10>"
       ]
      },
      {
       "javascript": [
        "$('div#ae1516f6-5e19-4df3-ac07-cf68e1f52e55').text('ETA:  0:02:41');"
       ],
       "metadata": {},
       "output_type": "display_data",
       "text": [
        "<IPython.core.display.Javascript at 0x7f2a95491990>"
       ]
      },
      {
       "javascript": [
        "$('div#85400189-6928-448f-a97c-883694aea79a').text(' 39%');"
       ],
       "metadata": {},
       "output_type": "display_data",
       "text": [
        "<IPython.core.display.Javascript at 0x7f2a95475c10>"
       ]
      },
      {
       "javascript": [
        "\n",
        "        var $myPB = $(\"div#73d29a16-56e5-4057-bc7d-518521da0697\")\n",
        "        if ($myPB.hasClass('ui-progressbar')) {\n",
        "            $myPB.progressbar('value', 224170);\n",
        "        } else {\n",
        "            $myPB.progressbar({value: 0, max: 565516});\n",
        "        }\n",
        "        "
       ],
       "metadata": {},
       "output_type": "display_data",
       "text": [
        "<IPython.core.display.Javascript at 0x7f2a954759d0>"
       ]
      },
      {
       "javascript": [
        "$('div#ae1516f6-5e19-4df3-ac07-cf68e1f52e55').text('ETA:  0:02:41');"
       ],
       "metadata": {},
       "output_type": "display_data",
       "text": [
        "<IPython.core.display.Javascript at 0x7f2a95475bd0>"
       ]
      },
      {
       "javascript": [
        "$('div#85400189-6928-448f-a97c-883694aea79a').text(' 40%');"
       ],
       "metadata": {},
       "output_type": "display_data",
       "text": [
        "<IPython.core.display.Javascript at 0x7f2a95475850>"
       ]
      },
      {
       "javascript": [
        "\n",
        "        var $myPB = $(\"div#73d29a16-56e5-4057-bc7d-518521da0697\")\n",
        "        if ($myPB.hasClass('ui-progressbar')) {\n",
        "            $myPB.progressbar('value', 226324);\n",
        "        } else {\n",
        "            $myPB.progressbar({value: 0, max: 565516});\n",
        "        }\n",
        "        "
       ],
       "metadata": {},
       "output_type": "display_data",
       "text": [
        "<IPython.core.display.Javascript at 0x7f2a95475990>"
       ]
      },
      {
       "javascript": [
        "$('div#ae1516f6-5e19-4df3-ac07-cf68e1f52e55').text('ETA:  0:02:40');"
       ],
       "metadata": {},
       "output_type": "display_data",
       "text": [
        "<IPython.core.display.Javascript at 0x7f2a95475f90>"
       ]
      },
      {
       "javascript": [
        "$('div#85400189-6928-448f-a97c-883694aea79a').text(' 40%');"
       ],
       "metadata": {},
       "output_type": "display_data",
       "text": [
        "<IPython.core.display.Javascript at 0x7f2a95475d90>"
       ]
      },
      {
       "javascript": [
        "\n",
        "        var $myPB = $(\"div#73d29a16-56e5-4057-bc7d-518521da0697\")\n",
        "        if ($myPB.hasClass('ui-progressbar')) {\n",
        "            $myPB.progressbar('value', 228617);\n",
        "        } else {\n",
        "            $myPB.progressbar({value: 0, max: 565516});\n",
        "        }\n",
        "        "
       ],
       "metadata": {},
       "output_type": "display_data",
       "text": [
        "<IPython.core.display.Javascript at 0x7f2a95475e50>"
       ]
      },
      {
       "javascript": [
        "$('div#ae1516f6-5e19-4df3-ac07-cf68e1f52e55').text('ETA:  0:02:39');"
       ],
       "metadata": {},
       "output_type": "display_data",
       "text": [
        "<IPython.core.display.Javascript at 0x7f2a95475dd0>"
       ]
      },
      {
       "javascript": [
        "$('div#85400189-6928-448f-a97c-883694aea79a').text(' 40%');"
       ],
       "metadata": {},
       "output_type": "display_data",
       "text": [
        "<IPython.core.display.Javascript at 0x7f2a954914d0>"
       ]
      },
      {
       "javascript": [
        "\n",
        "        var $myPB = $(\"div#73d29a16-56e5-4057-bc7d-518521da0697\")\n",
        "        if ($myPB.hasClass('ui-progressbar')) {\n",
        "            $myPB.progressbar('value', 230629);\n",
        "        } else {\n",
        "            $myPB.progressbar({value: 0, max: 565516});\n",
        "        }\n",
        "        "
       ],
       "metadata": {},
       "output_type": "display_data",
       "text": [
        "<IPython.core.display.Javascript at 0x7f2a95491690>"
       ]
      },
      {
       "javascript": [
        "$('div#ae1516f6-5e19-4df3-ac07-cf68e1f52e55').text('ETA:  0:02:38');"
       ],
       "metadata": {},
       "output_type": "display_data",
       "text": [
        "<IPython.core.display.Javascript at 0x7f2a95491050>"
       ]
      },
      {
       "javascript": [
        "$('div#85400189-6928-448f-a97c-883694aea79a').text(' 40%');"
       ],
       "metadata": {},
       "output_type": "display_data",
       "text": [
        "<IPython.core.display.Javascript at 0x7f2a95475d10>"
       ]
      },
      {
       "javascript": [
        "\n",
        "        var $myPB = $(\"div#73d29a16-56e5-4057-bc7d-518521da0697\")\n",
        "        if ($myPB.hasClass('ui-progressbar')) {\n",
        "            $myPB.progressbar('value', 231847);\n",
        "        } else {\n",
        "            $myPB.progressbar({value: 0, max: 565516});\n",
        "        }\n",
        "        "
       ],
       "metadata": {},
       "output_type": "display_data",
       "text": [
        "<IPython.core.display.Javascript at 0x7f2a95475e10>"
       ]
      },
      {
       "javascript": [
        "$('div#ae1516f6-5e19-4df3-ac07-cf68e1f52e55').text('ETA:  0:02:38');"
       ],
       "metadata": {},
       "output_type": "display_data",
       "text": [
        "<IPython.core.display.Javascript at 0x7f2a95475bd0>"
       ]
      },
      {
       "javascript": [
        "$('div#85400189-6928-448f-a97c-883694aea79a').text(' 41%');"
       ],
       "metadata": {},
       "output_type": "display_data",
       "text": [
        "<IPython.core.display.Javascript at 0x7f2a95475c10>"
       ]
      },
      {
       "javascript": [
        "\n",
        "        var $myPB = $(\"div#73d29a16-56e5-4057-bc7d-518521da0697\")\n",
        "        if ($myPB.hasClass('ui-progressbar')) {\n",
        "            $myPB.progressbar('value', 234045);\n",
        "        } else {\n",
        "            $myPB.progressbar({value: 0, max: 565516});\n",
        "        }\n",
        "        "
       ],
       "metadata": {},
       "output_type": "display_data",
       "text": [
        "<IPython.core.display.Javascript at 0x7f2a95475b50>"
       ]
      },
      {
       "javascript": [
        "$('div#ae1516f6-5e19-4df3-ac07-cf68e1f52e55').text('ETA:  0:02:37');"
       ],
       "metadata": {},
       "output_type": "display_data",
       "text": [
        "<IPython.core.display.Javascript at 0x7f2a95475f10>"
       ]
      },
      {
       "javascript": [
        "$('div#85400189-6928-448f-a97c-883694aea79a').text(' 41%');"
       ],
       "metadata": {},
       "output_type": "display_data",
       "text": [
        "<IPython.core.display.Javascript at 0x7f2a95475910>"
       ]
      },
      {
       "javascript": [
        "\n",
        "        var $myPB = $(\"div#73d29a16-56e5-4057-bc7d-518521da0697\")\n",
        "        if ($myPB.hasClass('ui-progressbar')) {\n",
        "            $myPB.progressbar('value', 236288);\n",
        "        } else {\n",
        "            $myPB.progressbar({value: 0, max: 565516});\n",
        "        }\n",
        "        "
       ],
       "metadata": {},
       "output_type": "display_data",
       "text": [
        "<IPython.core.display.Javascript at 0x7f2a95491a10>"
       ]
      },
      {
       "javascript": [
        "$('div#ae1516f6-5e19-4df3-ac07-cf68e1f52e55').text('ETA:  0:02:36');"
       ],
       "metadata": {},
       "output_type": "display_data",
       "text": [
        "<IPython.core.display.Javascript at 0x7f2a954919d0>"
       ]
      },
      {
       "javascript": [
        "$('div#85400189-6928-448f-a97c-883694aea79a').text(' 42%');"
       ],
       "metadata": {},
       "output_type": "display_data",
       "text": [
        "<IPython.core.display.Javascript at 0x7f2a95491c90>"
       ]
      },
      {
       "javascript": [
        "\n",
        "        var $myPB = $(\"div#73d29a16-56e5-4057-bc7d-518521da0697\")\n",
        "        if ($myPB.hasClass('ui-progressbar')) {\n",
        "            $myPB.progressbar('value', 238532);\n",
        "        } else {\n",
        "            $myPB.progressbar({value: 0, max: 565516});\n",
        "        }\n",
        "        "
       ],
       "metadata": {},
       "output_type": "display_data",
       "text": [
        "<IPython.core.display.Javascript at 0x7f2a95491610>"
       ]
      },
      {
       "javascript": [
        "$('div#ae1516f6-5e19-4df3-ac07-cf68e1f52e55').text('ETA:  0:02:34');"
       ],
       "metadata": {},
       "output_type": "display_data",
       "text": [
        "<IPython.core.display.Javascript at 0x7f2a95491390>"
       ]
      },
      {
       "javascript": [
        "$('div#85400189-6928-448f-a97c-883694aea79a').text(' 42%');"
       ],
       "metadata": {},
       "output_type": "display_data",
       "text": [
        "<IPython.core.display.Javascript at 0x7f2a95475e90>"
       ]
      },
      {
       "javascript": [
        "\n",
        "        var $myPB = $(\"div#73d29a16-56e5-4057-bc7d-518521da0697\")\n",
        "        if ($myPB.hasClass('ui-progressbar')) {\n",
        "            $myPB.progressbar('value', 239896);\n",
        "        } else {\n",
        "            $myPB.progressbar({value: 0, max: 565516});\n",
        "        }\n",
        "        "
       ],
       "metadata": {},
       "output_type": "display_data",
       "text": [
        "<IPython.core.display.Javascript at 0x7f2a95475e50>"
       ]
      },
      {
       "javascript": [
        "$('div#ae1516f6-5e19-4df3-ac07-cf68e1f52e55').text('ETA:  0:02:34');"
       ],
       "metadata": {},
       "output_type": "display_data",
       "text": [
        "<IPython.core.display.Javascript at 0x7f2a95475dd0>"
       ]
      },
      {
       "javascript": [
        "$('div#85400189-6928-448f-a97c-883694aea79a').text(' 42%');"
       ],
       "metadata": {},
       "output_type": "display_data",
       "text": [
        "<IPython.core.display.Javascript at 0x7f2a95475c90>"
       ]
      },
      {
       "javascript": [
        "\n",
        "        var $myPB = $(\"div#73d29a16-56e5-4057-bc7d-518521da0697\")\n",
        "        if ($myPB.hasClass('ui-progressbar')) {\n",
        "            $myPB.progressbar('value', 242058);\n",
        "        } else {\n",
        "            $myPB.progressbar({value: 0, max: 565516});\n",
        "        }\n",
        "        "
       ],
       "metadata": {},
       "output_type": "display_data",
       "text": [
        "<IPython.core.display.Javascript at 0x7f2a95475890>"
       ]
      },
      {
       "javascript": [
        "$('div#ae1516f6-5e19-4df3-ac07-cf68e1f52e55').text('ETA:  0:02:33');"
       ],
       "metadata": {},
       "output_type": "display_data",
       "text": [
        "<IPython.core.display.Javascript at 0x7f2a95475fd0>"
       ]
      },
      {
       "javascript": [
        "$('div#85400189-6928-448f-a97c-883694aea79a').text(' 43%');"
       ],
       "metadata": {},
       "output_type": "display_data",
       "text": [
        "<IPython.core.display.Javascript at 0x7f2a954758d0>"
       ]
      },
      {
       "javascript": [
        "\n",
        "        var $myPB = $(\"div#73d29a16-56e5-4057-bc7d-518521da0697\")\n",
        "        if ($myPB.hasClass('ui-progressbar')) {\n",
        "            $myPB.progressbar('value', 244366);\n",
        "        } else {\n",
        "            $myPB.progressbar({value: 0, max: 565516});\n",
        "        }\n",
        "        "
       ],
       "metadata": {},
       "output_type": "display_data",
       "text": [
        "<IPython.core.display.Javascript at 0x7f2a95475950>"
       ]
      },
      {
       "javascript": [
        "$('div#ae1516f6-5e19-4df3-ac07-cf68e1f52e55').text('ETA:  0:02:32');"
       ],
       "metadata": {},
       "output_type": "display_data",
       "text": [
        "<IPython.core.display.Javascript at 0x7f2a9ae9a110>"
       ]
      },
      {
       "javascript": [
        "$('div#85400189-6928-448f-a97c-883694aea79a').text(' 43%');"
       ],
       "metadata": {},
       "output_type": "display_data",
       "text": [
        "<IPython.core.display.Javascript at 0x7f2a95475990>"
       ]
      },
      {
       "javascript": [
        "\n",
        "        var $myPB = $(\"div#73d29a16-56e5-4057-bc7d-518521da0697\")\n",
        "        if ($myPB.hasClass('ui-progressbar')) {\n",
        "            $myPB.progressbar('value', 246627);\n",
        "        } else {\n",
        "            $myPB.progressbar({value: 0, max: 565516});\n",
        "        }\n",
        "        "
       ],
       "metadata": {},
       "output_type": "display_data",
       "text": [
        "<IPython.core.display.Javascript at 0x7f2a958c3a10>"
       ]
      },
      {
       "javascript": [
        "$('div#ae1516f6-5e19-4df3-ac07-cf68e1f52e55').text('ETA:  0:02:31');"
       ],
       "metadata": {},
       "output_type": "display_data",
       "text": [
        "<IPython.core.display.Javascript at 0x7f2a958db850>"
       ]
      },
      {
       "javascript": [
        "$('div#85400189-6928-448f-a97c-883694aea79a').text(' 44%');"
       ],
       "metadata": {},
       "output_type": "display_data",
       "text": [
        "<IPython.core.display.Javascript at 0x7f2a95475ad0>"
       ]
      },
      {
       "javascript": [
        "\n",
        "        var $myPB = $(\"div#73d29a16-56e5-4057-bc7d-518521da0697\")\n",
        "        if ($myPB.hasClass('ui-progressbar')) {\n",
        "            $myPB.progressbar('value', 248927);\n",
        "        } else {\n",
        "            $myPB.progressbar({value: 0, max: 565516});\n",
        "        }\n",
        "        "
       ],
       "metadata": {},
       "output_type": "display_data",
       "text": [
        "<IPython.core.display.Javascript at 0x7f2a95475b90>"
       ]
      },
      {
       "javascript": [
        "$('div#ae1516f6-5e19-4df3-ac07-cf68e1f52e55').text('ETA:  0:02:30');"
       ],
       "metadata": {},
       "output_type": "display_data",
       "text": [
        "<IPython.core.display.Javascript at 0x7f2a95475810>"
       ]
      },
      {
       "javascript": [
        "$('div#85400189-6928-448f-a97c-883694aea79a').text(' 44%');"
       ],
       "metadata": {},
       "output_type": "display_data",
       "text": [
        "<IPython.core.display.Javascript at 0x7f2a95491950>"
       ]
      },
      {
       "javascript": [
        "\n",
        "        var $myPB = $(\"div#73d29a16-56e5-4057-bc7d-518521da0697\")\n",
        "        if ($myPB.hasClass('ui-progressbar')) {\n",
        "            $myPB.progressbar('value', 250914);\n",
        "        } else {\n",
        "            $myPB.progressbar({value: 0, max: 565516});\n",
        "        }\n",
        "        "
       ],
       "metadata": {},
       "output_type": "display_data",
       "text": [
        "<IPython.core.display.Javascript at 0x7f2a95491550>"
       ]
      },
      {
       "javascript": [
        "$('div#ae1516f6-5e19-4df3-ac07-cf68e1f52e55').text('ETA:  0:02:29');"
       ],
       "metadata": {},
       "output_type": "display_data",
       "text": [
        "<IPython.core.display.Javascript at 0x7f2a95491350>"
       ]
      },
      {
       "javascript": [
        "$('div#85400189-6928-448f-a97c-883694aea79a').text(' 44%');"
       ],
       "metadata": {},
       "output_type": "display_data",
       "text": [
        "<IPython.core.display.Javascript at 0x7f2a95475d50>"
       ]
      },
      {
       "javascript": [
        "\n",
        "        var $myPB = $(\"div#73d29a16-56e5-4057-bc7d-518521da0697\")\n",
        "        if ($myPB.hasClass('ui-progressbar')) {\n",
        "            $myPB.progressbar('value', 252491);\n",
        "        } else {\n",
        "            $myPB.progressbar({value: 0, max: 565516});\n",
        "        }\n",
        "        "
       ],
       "metadata": {},
       "output_type": "display_data",
       "text": [
        "<IPython.core.display.Javascript at 0x7f2a95475890>"
       ]
      },
      {
       "javascript": [
        "$('div#ae1516f6-5e19-4df3-ac07-cf68e1f52e55').text('ETA:  0:02:28');"
       ],
       "metadata": {},
       "output_type": "display_data",
       "text": [
        "<IPython.core.display.Javascript at 0x7f2a95475c90>"
       ]
      },
      {
       "javascript": [
        "$('div#85400189-6928-448f-a97c-883694aea79a').text(' 44%');"
       ],
       "metadata": {},
       "output_type": "display_data",
       "text": [
        "<IPython.core.display.Javascript at 0x7f2a95491b90>"
       ]
      },
      {
       "javascript": [
        "\n",
        "        var $myPB = $(\"div#73d29a16-56e5-4057-bc7d-518521da0697\")\n",
        "        if ($myPB.hasClass('ui-progressbar')) {\n",
        "            $myPB.progressbar('value', 254112);\n",
        "        } else {\n",
        "            $myPB.progressbar({value: 0, max: 565516});\n",
        "        }\n",
        "        "
       ],
       "metadata": {},
       "output_type": "display_data",
       "text": [
        "<IPython.core.display.Javascript at 0x7f2a95491b10>"
       ]
      },
      {
       "javascript": [
        "$('div#ae1516f6-5e19-4df3-ac07-cf68e1f52e55').text('ETA:  0:02:28');"
       ],
       "metadata": {},
       "output_type": "display_data",
       "text": [
        "<IPython.core.display.Javascript at 0x7f2a95491990>"
       ]
      },
      {
       "javascript": [
        "$('div#85400189-6928-448f-a97c-883694aea79a').text(' 45%');"
       ],
       "metadata": {},
       "output_type": "display_data",
       "text": [
        "<IPython.core.display.Javascript at 0x7f2a95491110>"
       ]
      },
      {
       "javascript": [
        "\n",
        "        var $myPB = $(\"div#73d29a16-56e5-4057-bc7d-518521da0697\")\n",
        "        if ($myPB.hasClass('ui-progressbar')) {\n",
        "            $myPB.progressbar('value', 256229);\n",
        "        } else {\n",
        "            $myPB.progressbar({value: 0, max: 565516});\n",
        "        }\n",
        "        "
       ],
       "metadata": {},
       "output_type": "display_data",
       "text": [
        "<IPython.core.display.Javascript at 0x7f2a954911d0>"
       ]
      },
      {
       "javascript": [
        "$('div#ae1516f6-5e19-4df3-ac07-cf68e1f52e55').text('ETA:  0:02:27');"
       ],
       "metadata": {},
       "output_type": "display_data",
       "text": [
        "<IPython.core.display.Javascript at 0x7f2a95491a50>"
       ]
      },
      {
       "javascript": [
        "$('div#85400189-6928-448f-a97c-883694aea79a').text(' 45%');"
       ],
       "metadata": {},
       "output_type": "display_data",
       "text": [
        "<IPython.core.display.Javascript at 0x7f2a95491050>"
       ]
      },
      {
       "javascript": [
        "\n",
        "        var $myPB = $(\"div#73d29a16-56e5-4057-bc7d-518521da0697\")\n",
        "        if ($myPB.hasClass('ui-progressbar')) {\n",
        "            $myPB.progressbar('value', 257383);\n",
        "        } else {\n",
        "            $myPB.progressbar({value: 0, max: 565516});\n",
        "        }\n",
        "        "
       ],
       "metadata": {},
       "output_type": "display_data",
       "text": [
        "<IPython.core.display.Javascript at 0x7f2a95491490>"
       ]
      },
      {
       "javascript": [
        "$('div#ae1516f6-5e19-4df3-ac07-cf68e1f52e55').text('ETA:  0:02:27');"
       ],
       "metadata": {},
       "output_type": "display_data",
       "text": [
        "<IPython.core.display.Javascript at 0x7f2a95491550>"
       ]
      },
      {
       "javascript": [
        "$('div#85400189-6928-448f-a97c-883694aea79a').text(' 45%');"
       ],
       "metadata": {},
       "output_type": "display_data",
       "text": [
        "<IPython.core.display.Javascript at 0x7f2a95491950>"
       ]
      },
      {
       "javascript": [
        "\n",
        "        var $myPB = $(\"div#73d29a16-56e5-4057-bc7d-518521da0697\")\n",
        "        if ($myPB.hasClass('ui-progressbar')) {\n",
        "            $myPB.progressbar('value', 259706);\n",
        "        } else {\n",
        "            $myPB.progressbar({value: 0, max: 565516});\n",
        "        }\n",
        "        "
       ],
       "metadata": {},
       "output_type": "display_data",
       "text": [
        "<IPython.core.display.Javascript at 0x7f2a95491350>"
       ]
      },
      {
       "javascript": [
        "$('div#ae1516f6-5e19-4df3-ac07-cf68e1f52e55').text('ETA:  0:02:26');"
       ],
       "metadata": {},
       "output_type": "display_data",
       "text": [
        "<IPython.core.display.Javascript at 0x7f2a95491d50>"
       ]
      },
      {
       "javascript": [
        "$('div#85400189-6928-448f-a97c-883694aea79a').text(' 46%');"
       ],
       "metadata": {},
       "output_type": "display_data",
       "text": [
        "<IPython.core.display.Javascript at 0x7f2a95475910>"
       ]
      },
      {
       "javascript": [
        "\n",
        "        var $myPB = $(\"div#73d29a16-56e5-4057-bc7d-518521da0697\")\n",
        "        if ($myPB.hasClass('ui-progressbar')) {\n",
        "            $myPB.progressbar('value', 261265);\n",
        "        } else {\n",
        "            $myPB.progressbar({value: 0, max: 565516});\n",
        "        }\n",
        "        "
       ],
       "metadata": {},
       "output_type": "display_data",
       "text": [
        "<IPython.core.display.Javascript at 0x7f2a95475890>"
       ]
      },
      {
       "javascript": [
        "$('div#ae1516f6-5e19-4df3-ac07-cf68e1f52e55').text('ETA:  0:02:25');"
       ],
       "metadata": {},
       "output_type": "display_data",
       "text": [
        "<IPython.core.display.Javascript at 0x7f2a95475fd0>"
       ]
      },
      {
       "javascript": [
        "$('div#85400189-6928-448f-a97c-883694aea79a').text(' 46%');"
       ],
       "metadata": {},
       "output_type": "display_data",
       "text": [
        "<IPython.core.display.Javascript at 0x7f2a954915d0>"
       ]
      },
      {
       "javascript": [
        "\n",
        "        var $myPB = $(\"div#73d29a16-56e5-4057-bc7d-518521da0697\")\n",
        "        if ($myPB.hasClass('ui-progressbar')) {\n",
        "            $myPB.progressbar('value', 262928);\n",
        "        } else {\n",
        "            $myPB.progressbar({value: 0, max: 565516});\n",
        "        }\n",
        "        "
       ],
       "metadata": {},
       "output_type": "display_data",
       "text": [
        "<IPython.core.display.Javascript at 0x7f2a95491710>"
       ]
      },
      {
       "javascript": [
        "$('div#ae1516f6-5e19-4df3-ac07-cf68e1f52e55').text('ETA:  0:02:25');"
       ],
       "metadata": {},
       "output_type": "display_data",
       "text": [
        "<IPython.core.display.Javascript at 0x7f2a95491b90>"
       ]
      },
      {
       "javascript": [
        "$('div#85400189-6928-448f-a97c-883694aea79a').text(' 46%');"
       ],
       "metadata": {},
       "output_type": "display_data",
       "text": [
        "<IPython.core.display.Javascript at 0x7f2a95491110>"
       ]
      },
      {
       "javascript": [
        "\n",
        "        var $myPB = $(\"div#73d29a16-56e5-4057-bc7d-518521da0697\")\n",
        "        if ($myPB.hasClass('ui-progressbar')) {\n",
        "            $myPB.progressbar('value', 265065);\n",
        "        } else {\n",
        "            $myPB.progressbar({value: 0, max: 565516});\n",
        "        }\n",
        "        "
       ],
       "metadata": {},
       "output_type": "display_data",
       "text": [
        "<IPython.core.display.Javascript at 0x7f2a95491ad0>"
       ]
      },
      {
       "javascript": [
        "$('div#ae1516f6-5e19-4df3-ac07-cf68e1f52e55').text('ETA:  0:02:24');"
       ],
       "metadata": {},
       "output_type": "display_data",
       "text": [
        "<IPython.core.display.Javascript at 0x7f2a95491390>"
       ]
      },
      {
       "javascript": [
        "$('div#85400189-6928-448f-a97c-883694aea79a').text(' 47%');"
       ],
       "metadata": {},
       "output_type": "display_data",
       "text": [
        "<IPython.core.display.Javascript at 0x7f2a95491bd0>"
       ]
      },
      {
       "javascript": [
        "\n",
        "        var $myPB = $(\"div#73d29a16-56e5-4057-bc7d-518521da0697\")\n",
        "        if ($myPB.hasClass('ui-progressbar')) {\n",
        "            $myPB.progressbar('value', 266090);\n",
        "        } else {\n",
        "            $myPB.progressbar({value: 0, max: 565516});\n",
        "        }\n",
        "        "
       ],
       "metadata": {},
       "output_type": "display_data",
       "text": [
        "<IPython.core.display.Javascript at 0x7f2a95491490>"
       ]
      },
      {
       "javascript": [
        "$('div#ae1516f6-5e19-4df3-ac07-cf68e1f52e55').text('ETA:  0:02:24');"
       ],
       "metadata": {},
       "output_type": "display_data",
       "text": [
        "<IPython.core.display.Javascript at 0x7f2a95491d50>"
       ]
      },
      {
       "javascript": [
        "$('div#85400189-6928-448f-a97c-883694aea79a').text(' 47%');"
       ],
       "metadata": {},
       "output_type": "display_data",
       "text": [
        "<IPython.core.display.Javascript at 0x7f2a95475810>"
       ]
      },
      {
       "javascript": [
        "\n",
        "        var $myPB = $(\"div#73d29a16-56e5-4057-bc7d-518521da0697\")\n",
        "        if ($myPB.hasClass('ui-progressbar')) {\n",
        "            $myPB.progressbar('value', 267759);\n",
        "        } else {\n",
        "            $myPB.progressbar({value: 0, max: 565516});\n",
        "        }\n",
        "        "
       ],
       "metadata": {},
       "output_type": "display_data",
       "text": [
        "<IPython.core.display.Javascript at 0x7f2a95475950>"
       ]
      },
      {
       "javascript": [
        "$('div#ae1516f6-5e19-4df3-ac07-cf68e1f52e55').text('ETA:  0:02:23');"
       ],
       "metadata": {},
       "output_type": "display_data",
       "text": [
        "<IPython.core.display.Javascript at 0x7f2a95475ad0>"
       ]
      },
      {
       "javascript": [
        "$('div#85400189-6928-448f-a97c-883694aea79a').text(' 47%');"
       ],
       "metadata": {},
       "output_type": "display_data",
       "text": [
        "<IPython.core.display.Javascript at 0x7f2a95475990>"
       ]
      },
      {
       "javascript": [
        "\n",
        "        var $myPB = $(\"div#73d29a16-56e5-4057-bc7d-518521da0697\")\n",
        "        if ($myPB.hasClass('ui-progressbar')) {\n",
        "            $myPB.progressbar('value', 269868);\n",
        "        } else {\n",
        "            $myPB.progressbar({value: 0, max: 565516});\n",
        "        }\n",
        "        "
       ],
       "metadata": {},
       "output_type": "display_data",
       "text": [
        "<IPython.core.display.Javascript at 0x7f2a95475910>"
       ]
      },
      {
       "javascript": [
        "$('div#ae1516f6-5e19-4df3-ac07-cf68e1f52e55').text('ETA:  0:02:22');"
       ],
       "metadata": {},
       "output_type": "display_data",
       "text": [
        "<IPython.core.display.Javascript at 0x7f2a95475890>"
       ]
      },
      {
       "javascript": [
        "$('div#85400189-6928-448f-a97c-883694aea79a').text(' 47%');"
       ],
       "metadata": {},
       "output_type": "display_data",
       "text": [
        "<IPython.core.display.Javascript at 0x7f2a95475c90>"
       ]
      },
      {
       "javascript": [
        "\n",
        "        var $myPB = $(\"div#73d29a16-56e5-4057-bc7d-518521da0697\")\n",
        "        if ($myPB.hasClass('ui-progressbar')) {\n",
        "            $myPB.progressbar('value', 270607);\n",
        "        } else {\n",
        "            $myPB.progressbar({value: 0, max: 565516});\n",
        "        }\n",
        "        "
       ],
       "metadata": {},
       "output_type": "display_data",
       "text": [
        "<IPython.core.display.Javascript at 0x7f2a95475a50>"
       ]
      },
      {
       "javascript": [
        "$('div#ae1516f6-5e19-4df3-ac07-cf68e1f52e55').text('ETA:  0:02:22');"
       ],
       "metadata": {},
       "output_type": "display_data",
       "text": [
        "<IPython.core.display.Javascript at 0x7f2a95475850>"
       ]
      },
      {
       "javascript": [
        "$('div#85400189-6928-448f-a97c-883694aea79a').text(' 48%');"
       ],
       "metadata": {},
       "output_type": "display_data",
       "text": [
        "<IPython.core.display.Javascript at 0x7f2a95475e90>"
       ]
      },
      {
       "javascript": [
        "\n",
        "        var $myPB = $(\"div#73d29a16-56e5-4057-bc7d-518521da0697\")\n",
        "        if ($myPB.hasClass('ui-progressbar')) {\n",
        "            $myPB.progressbar('value', 271522);\n",
        "        } else {\n",
        "            $myPB.progressbar({value: 0, max: 565516});\n",
        "        }\n",
        "        "
       ],
       "metadata": {},
       "output_type": "display_data",
       "text": [
        "<IPython.core.display.Javascript at 0x7f2a95475950>"
       ]
      },
      {
       "javascript": [
        "$('div#ae1516f6-5e19-4df3-ac07-cf68e1f52e55').text('ETA:  0:02:22');"
       ],
       "metadata": {},
       "output_type": "display_data",
       "text": [
        "<IPython.core.display.Javascript at 0x7f2a95475ad0>"
       ]
      },
      {
       "javascript": [
        "$('div#85400189-6928-448f-a97c-883694aea79a').text(' 48%');"
       ],
       "metadata": {},
       "output_type": "display_data",
       "text": [
        "<IPython.core.display.Javascript at 0x7f2a95475990>"
       ]
      },
      {
       "javascript": [
        "\n",
        "        var $myPB = $(\"div#73d29a16-56e5-4057-bc7d-518521da0697\")\n",
        "        if ($myPB.hasClass('ui-progressbar')) {\n",
        "            $myPB.progressbar('value', 273590);\n",
        "        } else {\n",
        "            $myPB.progressbar({value: 0, max: 565516});\n",
        "        }\n",
        "        "
       ],
       "metadata": {},
       "output_type": "display_data",
       "text": [
        "<IPython.core.display.Javascript at 0x7f2a95475b90>"
       ]
      },
      {
       "javascript": [
        "$('div#ae1516f6-5e19-4df3-ac07-cf68e1f52e55').text('ETA:  0:02:21');"
       ],
       "metadata": {},
       "output_type": "display_data",
       "text": [
        "<IPython.core.display.Javascript at 0x7f2a95475f90>"
       ]
      },
      {
       "javascript": [
        "$('div#85400189-6928-448f-a97c-883694aea79a').text(' 48%');"
       ],
       "metadata": {},
       "output_type": "display_data",
       "text": [
        "<IPython.core.display.Javascript at 0x7f2a95491410>"
       ]
      },
      {
       "javascript": [
        "\n",
        "        var $myPB = $(\"div#73d29a16-56e5-4057-bc7d-518521da0697\")\n",
        "        if ($myPB.hasClass('ui-progressbar')) {\n",
        "            $myPB.progressbar('value', 274931);\n",
        "        } else {\n",
        "            $myPB.progressbar({value: 0, max: 565516});\n",
        "        }\n",
        "        "
       ],
       "metadata": {},
       "output_type": "display_data",
       "text": [
        "<IPython.core.display.Javascript at 0x7f2a95491b10>"
       ]
      },
      {
       "javascript": [
        "$('div#ae1516f6-5e19-4df3-ac07-cf68e1f52e55').text('ETA:  0:02:21');"
       ],
       "metadata": {},
       "output_type": "display_data",
       "text": [
        "<IPython.core.display.Javascript at 0x7f2a95491110>"
       ]
      },
      {
       "javascript": [
        "$('div#85400189-6928-448f-a97c-883694aea79a').text(' 48%');"
       ],
       "metadata": {},
       "output_type": "display_data",
       "text": [
        "<IPython.core.display.Javascript at 0x7f2a95491c50>"
       ]
      },
      {
       "javascript": [
        "\n",
        "        var $myPB = $(\"div#73d29a16-56e5-4057-bc7d-518521da0697\")\n",
        "        if ($myPB.hasClass('ui-progressbar')) {\n",
        "            $myPB.progressbar('value', 275196);\n",
        "        } else {\n",
        "            $myPB.progressbar({value: 0, max: 565516});\n",
        "        }\n",
        "        "
       ],
       "metadata": {},
       "output_type": "display_data",
       "text": [
        "<IPython.core.display.Javascript at 0x7f2a954917d0>"
       ]
      },
      {
       "javascript": [
        "$('div#ae1516f6-5e19-4df3-ac07-cf68e1f52e55').text('ETA:  0:02:22');"
       ],
       "metadata": {},
       "output_type": "display_data",
       "text": [
        "<IPython.core.display.Javascript at 0x7f2a95491710>"
       ]
      },
      {
       "javascript": [
        "$('div#85400189-6928-448f-a97c-883694aea79a').text(' 48%');"
       ],
       "metadata": {},
       "output_type": "display_data",
       "text": [
        "<IPython.core.display.Javascript at 0x7f2a95475f50>"
       ]
      },
      {
       "javascript": [
        "\n",
        "        var $myPB = $(\"div#73d29a16-56e5-4057-bc7d-518521da0697\")\n",
        "        if ($myPB.hasClass('ui-progressbar')) {\n",
        "            $myPB.progressbar('value', 275488);\n",
        "        } else {\n",
        "            $myPB.progressbar({value: 0, max: 565516});\n",
        "        }\n",
        "        "
       ],
       "metadata": {},
       "output_type": "display_data",
       "text": [
        "<IPython.core.display.Javascript at 0x7f2a95475fd0>"
       ]
      },
      {
       "javascript": [
        "$('div#ae1516f6-5e19-4df3-ac07-cf68e1f52e55').text('ETA:  0:02:23');"
       ],
       "metadata": {},
       "output_type": "display_data",
       "text": [
        "<IPython.core.display.Javascript at 0x7f2a95475d50>"
       ]
      },
      {
       "javascript": [
        "$('div#85400189-6928-448f-a97c-883694aea79a').text(' 48%');"
       ],
       "metadata": {},
       "output_type": "display_data",
       "text": [
        "<IPython.core.display.Javascript at 0x7f2a95491bd0>"
       ]
      },
      {
       "javascript": [
        "\n",
        "        var $myPB = $(\"div#73d29a16-56e5-4057-bc7d-518521da0697\")\n",
        "        if ($myPB.hasClass('ui-progressbar')) {\n",
        "            $myPB.progressbar('value', 276826);\n",
        "        } else {\n",
        "            $myPB.progressbar({value: 0, max: 565516});\n",
        "        }\n",
        "        "
       ],
       "metadata": {},
       "output_type": "display_data",
       "text": [
        "<IPython.core.display.Javascript at 0x7f2a95491090>"
       ]
      },
      {
       "javascript": [
        "$('div#ae1516f6-5e19-4df3-ac07-cf68e1f52e55').text('ETA:  0:02:22');"
       ],
       "metadata": {},
       "output_type": "display_data",
       "text": [
        "<IPython.core.display.Javascript at 0x7f2a95491b90>"
       ]
      },
      {
       "javascript": [
        "$('div#85400189-6928-448f-a97c-883694aea79a').text(' 49%');"
       ],
       "metadata": {},
       "output_type": "display_data",
       "text": [
        "<IPython.core.display.Javascript at 0x7f2a95491550>"
       ]
      },
      {
       "javascript": [
        "\n",
        "        var $myPB = $(\"div#73d29a16-56e5-4057-bc7d-518521da0697\")\n",
        "        if ($myPB.hasClass('ui-progressbar')) {\n",
        "            $myPB.progressbar('value', 278001);\n",
        "        } else {\n",
        "            $myPB.progressbar({value: 0, max: 565516});\n",
        "        }\n",
        "        "
       ],
       "metadata": {},
       "output_type": "display_data",
       "text": [
        "<IPython.core.display.Javascript at 0x7f2a95491210>"
       ]
      },
      {
       "javascript": [
        "$('div#ae1516f6-5e19-4df3-ac07-cf68e1f52e55').text('ETA:  0:02:22');"
       ],
       "metadata": {},
       "output_type": "display_data",
       "text": [
        "<IPython.core.display.Javascript at 0x7f2a95491450>"
       ]
      },
      {
       "javascript": [
        "$('div#85400189-6928-448f-a97c-883694aea79a').text(' 49%');"
       ],
       "metadata": {},
       "output_type": "display_data",
       "text": [
        "<IPython.core.display.Javascript at 0x7f2a95475d90>"
       ]
      },
      {
       "javascript": [
        "\n",
        "        var $myPB = $(\"div#73d29a16-56e5-4057-bc7d-518521da0697\")\n",
        "        if ($myPB.hasClass('ui-progressbar')) {\n",
        "            $myPB.progressbar('value', 279213);\n",
        "        } else {\n",
        "            $myPB.progressbar({value: 0, max: 565516});\n",
        "        }\n",
        "        "
       ],
       "metadata": {},
       "output_type": "display_data",
       "text": [
        "<IPython.core.display.Javascript at 0x7f2a95475990>"
       ]
      },
      {
       "javascript": [
        "$('div#ae1516f6-5e19-4df3-ac07-cf68e1f52e55').text('ETA:  0:02:22');"
       ],
       "metadata": {},
       "output_type": "display_data",
       "text": [
        "<IPython.core.display.Javascript at 0x7f2a95475f90>"
       ]
      },
      {
       "javascript": [
        "$('div#85400189-6928-448f-a97c-883694aea79a').text(' 49%');"
       ],
       "metadata": {},
       "output_type": "display_data",
       "text": [
        "<IPython.core.display.Javascript at 0x7f2a95475bd0>"
       ]
      },
      {
       "javascript": [
        "\n",
        "        var $myPB = $(\"div#73d29a16-56e5-4057-bc7d-518521da0697\")\n",
        "        if ($myPB.hasClass('ui-progressbar')) {\n",
        "            $myPB.progressbar('value', 279532);\n",
        "        } else {\n",
        "            $myPB.progressbar({value: 0, max: 565516});\n",
        "        }\n",
        "        "
       ],
       "metadata": {},
       "output_type": "display_data",
       "text": [
        "<IPython.core.display.Javascript at 0x7f2a95475a50>"
       ]
      },
      {
       "javascript": [
        "$('div#ae1516f6-5e19-4df3-ac07-cf68e1f52e55').text('ETA:  0:02:23');"
       ],
       "metadata": {},
       "output_type": "display_data",
       "text": [
        "<IPython.core.display.Javascript at 0x7f2a954759d0>"
       ]
      },
      {
       "javascript": [
        "$('div#85400189-6928-448f-a97c-883694aea79a').text(' 49%');"
       ],
       "metadata": {},
       "output_type": "display_data",
       "text": [
        "<IPython.core.display.Javascript at 0x7f2a95475e10>"
       ]
      },
      {
       "javascript": [
        "\n",
        "        var $myPB = $(\"div#73d29a16-56e5-4057-bc7d-518521da0697\")\n",
        "        if ($myPB.hasClass('ui-progressbar')) {\n",
        "            $myPB.progressbar('value', 279674);\n",
        "        } else {\n",
        "            $myPB.progressbar({value: 0, max: 565516});\n",
        "        }\n",
        "        "
       ],
       "metadata": {},
       "output_type": "display_data",
       "text": [
        "<IPython.core.display.Javascript at 0x7f2a95475d10>"
       ]
      },
      {
       "javascript": [
        "$('div#ae1516f6-5e19-4df3-ac07-cf68e1f52e55').text('ETA:  0:02:24');"
       ],
       "metadata": {},
       "output_type": "display_data",
       "text": [
        "<IPython.core.display.Javascript at 0x7f2a95475d50>"
       ]
      },
      {
       "javascript": [
        "$('div#85400189-6928-448f-a97c-883694aea79a').text(' 49%');"
       ],
       "metadata": {},
       "output_type": "display_data",
       "text": [
        "<IPython.core.display.Javascript at 0x7f2a95475dd0>"
       ]
      },
      {
       "javascript": [
        "\n",
        "        var $myPB = $(\"div#73d29a16-56e5-4057-bc7d-518521da0697\")\n",
        "        if ($myPB.hasClass('ui-progressbar')) {\n",
        "            $myPB.progressbar('value', 279797);\n",
        "        } else {\n",
        "            $myPB.progressbar({value: 0, max: 565516});\n",
        "        }\n",
        "        "
       ],
       "metadata": {},
       "output_type": "display_data",
       "text": [
        "<IPython.core.display.Javascript at 0x7f2a95475d50>"
       ]
      },
      {
       "javascript": [
        "$('div#ae1516f6-5e19-4df3-ac07-cf68e1f52e55').text('ETA:  0:02:25');"
       ],
       "metadata": {},
       "output_type": "display_data",
       "text": [
        "<IPython.core.display.Javascript at 0x7f2a95475d10>"
       ]
      },
      {
       "javascript": [
        "$('div#85400189-6928-448f-a97c-883694aea79a').text(' 49%');"
       ],
       "metadata": {},
       "output_type": "display_data",
       "text": [
        "<IPython.core.display.Javascript at 0x7f2a95475810>"
       ]
      },
      {
       "javascript": [
        "\n",
        "        var $myPB = $(\"div#73d29a16-56e5-4057-bc7d-518521da0697\")\n",
        "        if ($myPB.hasClass('ui-progressbar')) {\n",
        "            $myPB.progressbar('value', 279988);\n",
        "        } else {\n",
        "            $myPB.progressbar({value: 0, max: 565516});\n",
        "        }\n",
        "        "
       ],
       "metadata": {},
       "output_type": "display_data",
       "text": [
        "<IPython.core.display.Javascript at 0x7f2a954759d0>"
       ]
      },
      {
       "javascript": [
        "$('div#ae1516f6-5e19-4df3-ac07-cf68e1f52e55').text('ETA:  0:02:25');"
       ],
       "metadata": {},
       "output_type": "display_data",
       "text": [
        "<IPython.core.display.Javascript at 0x7f2a95475a50>"
       ]
      },
      {
       "javascript": [
        "$('div#85400189-6928-448f-a97c-883694aea79a').text(' 49%');"
       ],
       "metadata": {},
       "output_type": "display_data",
       "text": [
        "<IPython.core.display.Javascript at 0x7f2a95475e90>"
       ]
      },
      {
       "javascript": [
        "\n",
        "        var $myPB = $(\"div#73d29a16-56e5-4057-bc7d-518521da0697\")\n",
        "        if ($myPB.hasClass('ui-progressbar')) {\n",
        "            $myPB.progressbar('value', 280697);\n",
        "        } else {\n",
        "            $myPB.progressbar({value: 0, max: 565516});\n",
        "        }\n",
        "        "
       ],
       "metadata": {},
       "output_type": "display_data",
       "text": [
        "<IPython.core.display.Javascript at 0x7f2a9ae93d10>"
       ]
      },
      {
       "javascript": [
        "$('div#ae1516f6-5e19-4df3-ac07-cf68e1f52e55').text('ETA:  0:02:26');"
       ],
       "metadata": {},
       "output_type": "display_data",
       "text": [
        "<IPython.core.display.Javascript at 0x7f2a958db850>"
       ]
      },
      {
       "javascript": [
        "$('div#85400189-6928-448f-a97c-883694aea79a').text(' 49%');"
       ],
       "metadata": {},
       "output_type": "display_data",
       "text": [
        "<IPython.core.display.Javascript at 0x7f2a95475810>"
       ]
      },
      {
       "javascript": [
        "\n",
        "        var $myPB = $(\"div#73d29a16-56e5-4057-bc7d-518521da0697\")\n",
        "        if ($myPB.hasClass('ui-progressbar')) {\n",
        "            $myPB.progressbar('value', 282040);\n",
        "        } else {\n",
        "            $myPB.progressbar({value: 0, max: 565516});\n",
        "        }\n",
        "        "
       ],
       "metadata": {},
       "output_type": "display_data",
       "text": [
        "<IPython.core.display.Javascript at 0x7f2a95475e10>"
       ]
      },
      {
       "javascript": [
        "$('div#ae1516f6-5e19-4df3-ac07-cf68e1f52e55').text('ETA:  0:02:25');"
       ],
       "metadata": {},
       "output_type": "display_data",
       "text": [
        "<IPython.core.display.Javascript at 0x7f2a95475890>"
       ]
      },
      {
       "javascript": [
        "$('div#85400189-6928-448f-a97c-883694aea79a').text(' 50%');"
       ],
       "metadata": {},
       "output_type": "display_data",
       "text": [
        "<IPython.core.display.Javascript at 0x7f2a958db850>"
       ]
      },
      {
       "javascript": [
        "\n",
        "        var $myPB = $(\"div#73d29a16-56e5-4057-bc7d-518521da0697\")\n",
        "        if ($myPB.hasClass('ui-progressbar')) {\n",
        "            $myPB.progressbar('value', 283205);\n",
        "        } else {\n",
        "            $myPB.progressbar({value: 0, max: 565516});\n",
        "        }\n",
        "        "
       ],
       "metadata": {},
       "output_type": "display_data",
       "text": [
        "<IPython.core.display.Javascript at 0x7f2a95475e90>"
       ]
      },
      {
       "javascript": [
        "$('div#ae1516f6-5e19-4df3-ac07-cf68e1f52e55').text('ETA:  0:02:25');"
       ],
       "metadata": {},
       "output_type": "display_data",
       "text": [
        "<IPython.core.display.Javascript at 0x7f2a95475b10>"
       ]
      },
      {
       "javascript": [
        "$('div#85400189-6928-448f-a97c-883694aea79a').text(' 50%');"
       ],
       "metadata": {},
       "output_type": "display_data",
       "text": [
        "<IPython.core.display.Javascript at 0x7f2a958db850>"
       ]
      },
      {
       "javascript": [
        "\n",
        "        var $myPB = $(\"div#73d29a16-56e5-4057-bc7d-518521da0697\")\n",
        "        if ($myPB.hasClass('ui-progressbar')) {\n",
        "            $myPB.progressbar('value', 283999);\n",
        "        } else {\n",
        "            $myPB.progressbar({value: 0, max: 565516});\n",
        "        }\n",
        "        "
       ],
       "metadata": {},
       "output_type": "display_data",
       "text": [
        "<IPython.core.display.Javascript at 0x7f2a9ae9a110>"
       ]
      },
      {
       "javascript": [
        "$('div#ae1516f6-5e19-4df3-ac07-cf68e1f52e55').text('ETA:  0:02:25');"
       ],
       "metadata": {},
       "output_type": "display_data",
       "text": [
        "<IPython.core.display.Javascript at 0x7f2a95475a10>"
       ]
      },
      {
       "javascript": [
        "$('div#85400189-6928-448f-a97c-883694aea79a').text(' 50%');"
       ],
       "metadata": {},
       "output_type": "display_data",
       "text": [
        "<IPython.core.display.Javascript at 0x7f2a95475890>"
       ]
      },
      {
       "javascript": [
        "\n",
        "        var $myPB = $(\"div#73d29a16-56e5-4057-bc7d-518521da0697\")\n",
        "        if ($myPB.hasClass('ui-progressbar')) {\n",
        "            $myPB.progressbar('value', 284246);\n",
        "        } else {\n",
        "            $myPB.progressbar({value: 0, max: 565516});\n",
        "        }\n",
        "        "
       ],
       "metadata": {},
       "output_type": "display_data",
       "text": [
        "<IPython.core.display.Javascript at 0x7f2a95475dd0>"
       ]
      },
      {
       "javascript": [
        "$('div#ae1516f6-5e19-4df3-ac07-cf68e1f52e55').text('ETA:  0:02:26');"
       ],
       "metadata": {},
       "output_type": "display_data",
       "text": [
        "<IPython.core.display.Javascript at 0x7f2a95475d90>"
       ]
      },
      {
       "javascript": [
        "$('div#85400189-6928-448f-a97c-883694aea79a').text(' 50%');"
       ],
       "metadata": {},
       "output_type": "display_data",
       "text": [
        "<IPython.core.display.Javascript at 0x7f2a95475b10>"
       ]
      },
      {
       "javascript": [
        "\n",
        "        var $myPB = $(\"div#73d29a16-56e5-4057-bc7d-518521da0697\")\n",
        "        if ($myPB.hasClass('ui-progressbar')) {\n",
        "            $myPB.progressbar('value', 284474);\n",
        "        } else {\n",
        "            $myPB.progressbar({value: 0, max: 565516});\n",
        "        }\n",
        "        "
       ],
       "metadata": {},
       "output_type": "display_data",
       "text": [
        "<IPython.core.display.Javascript at 0x7f2a95475e10>"
       ]
      },
      {
       "javascript": [
        "$('div#ae1516f6-5e19-4df3-ac07-cf68e1f52e55').text('ETA:  0:02:27');"
       ],
       "metadata": {},
       "output_type": "display_data",
       "text": [
        "<IPython.core.display.Javascript at 0x7f2a95475e90>"
       ]
      },
      {
       "javascript": [
        "$('div#85400189-6928-448f-a97c-883694aea79a').text(' 50%');"
       ],
       "metadata": {},
       "output_type": "display_data",
       "text": [
        "<IPython.core.display.Javascript at 0x7f2a95475a90>"
       ]
      },
      {
       "javascript": [
        "\n",
        "        var $myPB = $(\"div#73d29a16-56e5-4057-bc7d-518521da0697\")\n",
        "        if ($myPB.hasClass('ui-progressbar')) {\n",
        "            $myPB.progressbar('value', 284847);\n",
        "        } else {\n",
        "            $myPB.progressbar({value: 0, max: 565516});\n",
        "        }\n",
        "        "
       ],
       "metadata": {},
       "output_type": "display_data",
       "text": [
        "<IPython.core.display.Javascript at 0x7f2a95475bd0>"
       ]
      },
      {
       "javascript": [
        "$('div#ae1516f6-5e19-4df3-ac07-cf68e1f52e55').text('ETA:  0:02:27');"
       ],
       "metadata": {},
       "output_type": "display_data",
       "text": [
        "<IPython.core.display.Javascript at 0x7f2a95475f50>"
       ]
      },
      {
       "javascript": [
        "$('div#85400189-6928-448f-a97c-883694aea79a').text(' 50%');"
       ],
       "metadata": {},
       "output_type": "display_data",
       "text": [
        "<IPython.core.display.Javascript at 0x7f2a95475890>"
       ]
      },
      {
       "javascript": [
        "\n",
        "        var $myPB = $(\"div#73d29a16-56e5-4057-bc7d-518521da0697\")\n",
        "        if ($myPB.hasClass('ui-progressbar')) {\n",
        "            $myPB.progressbar('value', 285828);\n",
        "        } else {\n",
        "            $myPB.progressbar({value: 0, max: 565516});\n",
        "        }\n",
        "        "
       ],
       "metadata": {},
       "output_type": "display_data",
       "text": [
        "<IPython.core.display.Javascript at 0x7f2a95475c90>"
       ]
      },
      {
       "javascript": [
        "$('div#ae1516f6-5e19-4df3-ac07-cf68e1f52e55').text('ETA:  0:02:27');"
       ],
       "metadata": {},
       "output_type": "display_data",
       "text": [
        "<IPython.core.display.Javascript at 0x7f2a95475dd0>"
       ]
      },
      {
       "javascript": [
        "$('div#85400189-6928-448f-a97c-883694aea79a').text(' 50%');"
       ],
       "metadata": {},
       "output_type": "display_data",
       "text": [
        "<IPython.core.display.Javascript at 0x7f2a95475cd0>"
       ]
      },
      {
       "javascript": [
        "\n",
        "        var $myPB = $(\"div#73d29a16-56e5-4057-bc7d-518521da0697\")\n",
        "        if ($myPB.hasClass('ui-progressbar')) {\n",
        "            $myPB.progressbar('value', 286701);\n",
        "        } else {\n",
        "            $myPB.progressbar({value: 0, max: 565516});\n",
        "        }\n",
        "        "
       ],
       "metadata": {},
       "output_type": "display_data",
       "text": [
        "<IPython.core.display.Javascript at 0x7f2a95475810>"
       ]
      },
      {
       "javascript": [
        "$('div#ae1516f6-5e19-4df3-ac07-cf68e1f52e55').text('ETA:  0:02:27');"
       ],
       "metadata": {},
       "output_type": "display_data",
       "text": [
        "<IPython.core.display.Javascript at 0x7f2a95475fd0>"
       ]
      },
      {
       "javascript": [
        "$('div#85400189-6928-448f-a97c-883694aea79a').text(' 50%');"
       ],
       "metadata": {},
       "output_type": "display_data",
       "text": [
        "<IPython.core.display.Javascript at 0x7f2a95475c50>"
       ]
      },
      {
       "javascript": [
        "\n",
        "        var $myPB = $(\"div#73d29a16-56e5-4057-bc7d-518521da0697\")\n",
        "        if ($myPB.hasClass('ui-progressbar')) {\n",
        "            $myPB.progressbar('value', 287560);\n",
        "        } else {\n",
        "            $myPB.progressbar({value: 0, max: 565516});\n",
        "        }\n",
        "        "
       ],
       "metadata": {},
       "output_type": "display_data",
       "text": [
        "<IPython.core.display.Javascript at 0x7f2a954758d0>"
       ]
      },
      {
       "javascript": [
        "$('div#ae1516f6-5e19-4df3-ac07-cf68e1f52e55').text('ETA:  0:02:28');"
       ],
       "metadata": {},
       "output_type": "display_data",
       "text": [
        "<IPython.core.display.Javascript at 0x7f2a95475950>"
       ]
      },
      {
       "javascript": [
        "$('div#85400189-6928-448f-a97c-883694aea79a').text(' 50%');"
       ],
       "metadata": {},
       "output_type": "display_data",
       "text": [
        "<IPython.core.display.Javascript at 0x7f2a95475b90>"
       ]
      },
      {
       "javascript": [
        "\n",
        "        var $myPB = $(\"div#73d29a16-56e5-4057-bc7d-518521da0697\")\n",
        "        if ($myPB.hasClass('ui-progressbar')) {\n",
        "            $myPB.progressbar('value', 288390);\n",
        "        } else {\n",
        "            $myPB.progressbar({value: 0, max: 565516});\n",
        "        }\n",
        "        "
       ],
       "metadata": {},
       "output_type": "display_data",
       "text": [
        "<IPython.core.display.Javascript at 0x7f2a95475cd0>"
       ]
      },
      {
       "javascript": [
        "$('div#ae1516f6-5e19-4df3-ac07-cf68e1f52e55').text('ETA:  0:02:28');"
       ],
       "metadata": {},
       "output_type": "display_data",
       "text": [
        "<IPython.core.display.Javascript at 0x7f2a954758d0>"
       ]
      },
      {
       "javascript": [
        "$('div#85400189-6928-448f-a97c-883694aea79a').text(' 51%');"
       ],
       "metadata": {},
       "output_type": "display_data",
       "text": [
        "<IPython.core.display.Javascript at 0x7f2a95475b90>"
       ]
      },
      {
       "javascript": [
        "\n",
        "        var $myPB = $(\"div#73d29a16-56e5-4057-bc7d-518521da0697\")\n",
        "        if ($myPB.hasClass('ui-progressbar')) {\n",
        "            $myPB.progressbar('value', 288649);\n",
        "        } else {\n",
        "            $myPB.progressbar({value: 0, max: 565516});\n",
        "        }\n",
        "        "
       ],
       "metadata": {},
       "output_type": "display_data",
       "text": [
        "<IPython.core.display.Javascript at 0x7f2a95491ad0>"
       ]
      },
      {
       "javascript": [
        "$('div#ae1516f6-5e19-4df3-ac07-cf68e1f52e55').text('ETA:  0:02:28');"
       ],
       "metadata": {},
       "output_type": "display_data",
       "text": [
        "<IPython.core.display.Javascript at 0x7f2a954917d0>"
       ]
      },
      {
       "javascript": [
        "$('div#85400189-6928-448f-a97c-883694aea79a').text(' 51%');"
       ],
       "metadata": {},
       "output_type": "display_data",
       "text": [
        "<IPython.core.display.Javascript at 0x7f2a95491810>"
       ]
      },
      {
       "javascript": [
        "\n",
        "        var $myPB = $(\"div#73d29a16-56e5-4057-bc7d-518521da0697\")\n",
        "        if ($myPB.hasClass('ui-progressbar')) {\n",
        "            $myPB.progressbar('value', 288857);\n",
        "        } else {\n",
        "            $myPB.progressbar({value: 0, max: 565516});\n",
        "        }\n",
        "        "
       ],
       "metadata": {},
       "output_type": "display_data",
       "text": [
        "<IPython.core.display.Javascript at 0x7f2a95491610>"
       ]
      },
      {
       "javascript": [
        "$('div#ae1516f6-5e19-4df3-ac07-cf68e1f52e55').text('ETA:  0:02:29');"
       ],
       "metadata": {},
       "output_type": "display_data",
       "text": [
        "<IPython.core.display.Javascript at 0x7f2a954916d0>"
       ]
      },
      {
       "javascript": [
        "$('div#85400189-6928-448f-a97c-883694aea79a').text(' 51%');"
       ],
       "metadata": {},
       "output_type": "display_data",
       "text": [
        "<IPython.core.display.Javascript at 0x7f2a95491510>"
       ]
      },
      {
       "javascript": [
        "\n",
        "        var $myPB = $(\"div#73d29a16-56e5-4057-bc7d-518521da0697\")\n",
        "        if ($myPB.hasClass('ui-progressbar')) {\n",
        "            $myPB.progressbar('value', 289150);\n",
        "        } else {\n",
        "            $myPB.progressbar({value: 0, max: 565516});\n",
        "        }\n",
        "        "
       ],
       "metadata": {},
       "output_type": "display_data",
       "text": [
        "<IPython.core.display.Javascript at 0x7f2a95491750>"
       ]
      },
      {
       "javascript": [
        "$('div#ae1516f6-5e19-4df3-ac07-cf68e1f52e55').text('ETA:  0:02:30');"
       ],
       "metadata": {},
       "output_type": "display_data",
       "text": [
        "<IPython.core.display.Javascript at 0x7f2a95491b50>"
       ]
      },
      {
       "javascript": [
        "$('div#85400189-6928-448f-a97c-883694aea79a').text(' 51%');"
       ],
       "metadata": {},
       "output_type": "display_data",
       "text": [
        "<IPython.core.display.Javascript at 0x7f2a954918d0>"
       ]
      },
      {
       "javascript": [
        "\n",
        "        var $myPB = $(\"div#73d29a16-56e5-4057-bc7d-518521da0697\")\n",
        "        if ($myPB.hasClass('ui-progressbar')) {\n",
        "            $myPB.progressbar('value', 289971);\n",
        "        } else {\n",
        "            $myPB.progressbar({value: 0, max: 565516});\n",
        "        }\n",
        "        "
       ],
       "metadata": {},
       "output_type": "display_data",
       "text": [
        "<IPython.core.display.Javascript at 0x7f2a95491790>"
       ]
      },
      {
       "javascript": [
        "$('div#ae1516f6-5e19-4df3-ac07-cf68e1f52e55').text('ETA:  0:02:30');"
       ],
       "metadata": {},
       "output_type": "display_data",
       "text": [
        "<IPython.core.display.Javascript at 0x7f2a95491b50>"
       ]
      },
      {
       "javascript": [
        "$('div#85400189-6928-448f-a97c-883694aea79a').text(' 51%');"
       ],
       "metadata": {},
       "output_type": "display_data",
       "text": [
        "<IPython.core.display.Javascript at 0x7f2a95475c90>"
       ]
      },
      {
       "javascript": [
        "\n",
        "        var $myPB = $(\"div#73d29a16-56e5-4057-bc7d-518521da0697\")\n",
        "        if ($myPB.hasClass('ui-progressbar')) {\n",
        "            $myPB.progressbar('value', 290816);\n",
        "        } else {\n",
        "            $myPB.progressbar({value: 0, max: 565516});\n",
        "        }\n",
        "        "
       ],
       "metadata": {},
       "output_type": "display_data",
       "text": [
        "<IPython.core.display.Javascript at 0x7f2a954758d0>"
       ]
      },
      {
       "javascript": [
        "$('div#ae1516f6-5e19-4df3-ac07-cf68e1f52e55').text('ETA:  0:02:30');"
       ],
       "metadata": {},
       "output_type": "display_data",
       "text": [
        "<IPython.core.display.Javascript at 0x7f2a9ae93d10>"
       ]
      },
      {
       "javascript": [
        "$('div#85400189-6928-448f-a97c-883694aea79a').text(' 51%');"
       ],
       "metadata": {},
       "output_type": "display_data",
       "text": [
        "<IPython.core.display.Javascript at 0x7f2a95475e50>"
       ]
      },
      {
       "javascript": [
        "\n",
        "        var $myPB = $(\"div#73d29a16-56e5-4057-bc7d-518521da0697\")\n",
        "        if ($myPB.hasClass('ui-progressbar')) {\n",
        "            $myPB.progressbar('value', 292446);\n",
        "        } else {\n",
        "            $myPB.progressbar({value: 0, max: 565516});\n",
        "        }\n",
        "        "
       ],
       "metadata": {},
       "output_type": "display_data",
       "text": [
        "<IPython.core.display.Javascript at 0x7f2a95475810>"
       ]
      },
      {
       "javascript": [
        "$('div#ae1516f6-5e19-4df3-ac07-cf68e1f52e55').text('ETA:  0:02:29');"
       ],
       "metadata": {},
       "output_type": "display_data",
       "text": [
        "<IPython.core.display.Javascript at 0x7f2a95475cd0>"
       ]
      },
      {
       "javascript": [
        "$('div#85400189-6928-448f-a97c-883694aea79a').text(' 51%');"
       ],
       "metadata": {},
       "output_type": "display_data",
       "text": [
        "<IPython.core.display.Javascript at 0x7f2a95475b90>"
       ]
      },
      {
       "javascript": [
        "\n",
        "        var $myPB = $(\"div#73d29a16-56e5-4057-bc7d-518521da0697\")\n",
        "        if ($myPB.hasClass('ui-progressbar')) {\n",
        "            $myPB.progressbar('value', 293694);\n",
        "        } else {\n",
        "            $myPB.progressbar({value: 0, max: 565516});\n",
        "        }\n",
        "        "
       ],
       "metadata": {},
       "output_type": "display_data",
       "text": [
        "<IPython.core.display.Javascript at 0x7f2a95491690>"
       ]
      },
      {
       "javascript": [
        "$('div#ae1516f6-5e19-4df3-ac07-cf68e1f52e55').text('ETA:  0:02:29');"
       ],
       "metadata": {},
       "output_type": "display_data",
       "text": [
        "<IPython.core.display.Javascript at 0x7f2a95491bd0>"
       ]
      },
      {
       "javascript": [
        "$('div#85400189-6928-448f-a97c-883694aea79a').text(' 51%');"
       ],
       "metadata": {},
       "output_type": "display_data",
       "text": [
        "<IPython.core.display.Javascript at 0x7f2a95491e90>"
       ]
      },
      {
       "javascript": [
        "\n",
        "        var $myPB = $(\"div#73d29a16-56e5-4057-bc7d-518521da0697\")\n",
        "        if ($myPB.hasClass('ui-progressbar')) {\n",
        "            $myPB.progressbar('value', 293887);\n",
        "        } else {\n",
        "            $myPB.progressbar({value: 0, max: 565516});\n",
        "        }\n",
        "        "
       ],
       "metadata": {},
       "output_type": "display_data",
       "text": [
        "<IPython.core.display.Javascript at 0x7f2a95491f10>"
       ]
      },
      {
       "javascript": [
        "$('div#ae1516f6-5e19-4df3-ac07-cf68e1f52e55').text('ETA:  0:02:29');"
       ],
       "metadata": {},
       "output_type": "display_data",
       "text": [
        "<IPython.core.display.Javascript at 0x7f2a95491f50>"
       ]
      },
      {
       "javascript": [
        "$('div#85400189-6928-448f-a97c-883694aea79a').text(' 52%');"
       ],
       "metadata": {},
       "output_type": "display_data",
       "text": [
        "<IPython.core.display.Javascript at 0x7f2a9c0fb0d0>"
       ]
      },
      {
       "javascript": [
        "\n",
        "        var $myPB = $(\"div#73d29a16-56e5-4057-bc7d-518521da0697\")\n",
        "        if ($myPB.hasClass('ui-progressbar')) {\n",
        "            $myPB.progressbar('value', 294086);\n",
        "        } else {\n",
        "            $myPB.progressbar({value: 0, max: 565516});\n",
        "        }\n",
        "        "
       ],
       "metadata": {},
       "output_type": "display_data",
       "text": [
        "<IPython.core.display.Javascript at 0x7f2a9c0fb190>"
       ]
      },
      {
       "javascript": [
        "$('div#ae1516f6-5e19-4df3-ac07-cf68e1f52e55').text('ETA:  0:02:30');"
       ],
       "metadata": {},
       "output_type": "display_data",
       "text": [
        "<IPython.core.display.Javascript at 0x7f2a9c0fb1d0>"
       ]
      },
      {
       "javascript": [
        "$('div#85400189-6928-448f-a97c-883694aea79a').text(' 52%');"
       ],
       "metadata": {},
       "output_type": "display_data",
       "text": [
        "<IPython.core.display.Javascript at 0x7f2a9c0fb210>"
       ]
      },
      {
       "javascript": [
        "\n",
        "        var $myPB = $(\"div#73d29a16-56e5-4057-bc7d-518521da0697\")\n",
        "        if ($myPB.hasClass('ui-progressbar')) {\n",
        "            $myPB.progressbar('value', 294493);\n",
        "        } else {\n",
        "            $myPB.progressbar({value: 0, max: 565516});\n",
        "        }\n",
        "        "
       ],
       "metadata": {},
       "output_type": "display_data",
       "text": [
        "<IPython.core.display.Javascript at 0x7f2a9c0fb0d0>"
       ]
      },
      {
       "javascript": [
        "$('div#ae1516f6-5e19-4df3-ac07-cf68e1f52e55').text('ETA:  0:02:31');"
       ],
       "metadata": {},
       "output_type": "display_data",
       "text": [
        "<IPython.core.display.Javascript at 0x7f2a9c0fb050>"
       ]
      },
      {
       "javascript": [
        "$('div#85400189-6928-448f-a97c-883694aea79a').text(' 52%');"
       ],
       "metadata": {},
       "output_type": "display_data",
       "text": [
        "<IPython.core.display.Javascript at 0x7f2a95475dd0>"
       ]
      },
      {
       "javascript": [
        "\n",
        "        var $myPB = $(\"div#73d29a16-56e5-4057-bc7d-518521da0697\")\n",
        "        if ($myPB.hasClass('ui-progressbar')) {\n",
        "            $myPB.progressbar('value', 295277);\n",
        "        } else {\n",
        "            $myPB.progressbar({value: 0, max: 565516});\n",
        "        }\n",
        "        "
       ],
       "metadata": {},
       "output_type": "display_data",
       "text": [
        "<IPython.core.display.Javascript at 0x7f2a9c0fb490>"
       ]
      },
      {
       "javascript": [
        "$('div#ae1516f6-5e19-4df3-ac07-cf68e1f52e55').text('ETA:  0:02:31');"
       ],
       "metadata": {},
       "output_type": "display_data",
       "text": [
        "<IPython.core.display.Javascript at 0x7f2a9c0fb210>"
       ]
      },
      {
       "javascript": [
        "$('div#85400189-6928-448f-a97c-883694aea79a').text(' 52%');"
       ],
       "metadata": {},
       "output_type": "display_data",
       "text": [
        "<IPython.core.display.Javascript at 0x7f2a95475810>"
       ]
      },
      {
       "javascript": [
        "\n",
        "        var $myPB = $(\"div#73d29a16-56e5-4057-bc7d-518521da0697\")\n",
        "        if ($myPB.hasClass('ui-progressbar')) {\n",
        "            $myPB.progressbar('value', 295686);\n",
        "        } else {\n",
        "            $myPB.progressbar({value: 0, max: 565516});\n",
        "        }\n",
        "        "
       ],
       "metadata": {},
       "output_type": "display_data",
       "text": [
        "<IPython.core.display.Javascript at 0x7f2a95475e50>"
       ]
      },
      {
       "javascript": [
        "$('div#ae1516f6-5e19-4df3-ac07-cf68e1f52e55').text('ETA:  0:02:31');"
       ],
       "metadata": {},
       "output_type": "display_data",
       "text": [
        "<IPython.core.display.Javascript at 0x7f2a95475b90>"
       ]
      },
      {
       "javascript": [
        "$('div#85400189-6928-448f-a97c-883694aea79a').text(' 52%');"
       ],
       "metadata": {},
       "output_type": "display_data",
       "text": [
        "<IPython.core.display.Javascript at 0x7f2a9c0fb810>"
       ]
      },
      {
       "javascript": [
        "\n",
        "        var $myPB = $(\"div#73d29a16-56e5-4057-bc7d-518521da0697\")\n",
        "        if ($myPB.hasClass('ui-progressbar')) {\n",
        "            $myPB.progressbar('value', 296024);\n",
        "        } else {\n",
        "            $myPB.progressbar({value: 0, max: 565516});\n",
        "        }\n",
        "        "
       ],
       "metadata": {},
       "output_type": "display_data",
       "text": [
        "<IPython.core.display.Javascript at 0x7f2a9c0fb750>"
       ]
      },
      {
       "javascript": [
        "$('div#ae1516f6-5e19-4df3-ac07-cf68e1f52e55').text('ETA:  0:02:32');"
       ],
       "metadata": {},
       "output_type": "display_data",
       "text": [
        "<IPython.core.display.Javascript at 0x7f2a9c0fb850>"
       ]
      },
      {
       "javascript": [
        "$('div#85400189-6928-448f-a97c-883694aea79a').text(' 52%');"
       ],
       "metadata": {},
       "output_type": "display_data",
       "text": [
        "<IPython.core.display.Javascript at 0x7f2a9c0fba10>"
       ]
      },
      {
       "javascript": [
        "\n",
        "        var $myPB = $(\"div#73d29a16-56e5-4057-bc7d-518521da0697\")\n",
        "        if ($myPB.hasClass('ui-progressbar')) {\n",
        "            $myPB.progressbar('value', 296334);\n",
        "        } else {\n",
        "            $myPB.progressbar({value: 0, max: 565516});\n",
        "        }\n",
        "        "
       ],
       "metadata": {},
       "output_type": "display_data",
       "text": [
        "<IPython.core.display.Javascript at 0x7f2a9c0fb850>"
       ]
      },
      {
       "javascript": [
        "$('div#ae1516f6-5e19-4df3-ac07-cf68e1f52e55').text('ETA:  0:02:32');"
       ],
       "metadata": {},
       "output_type": "display_data",
       "text": [
        "<IPython.core.display.Javascript at 0x7f2a9c0fb610>"
       ]
      },
      {
       "javascript": [
        "$('div#85400189-6928-448f-a97c-883694aea79a').text(' 52%');"
       ],
       "metadata": {},
       "output_type": "display_data",
       "text": [
        "<IPython.core.display.Javascript at 0x7f2a95475cd0>"
       ]
      },
      {
       "javascript": [
        "\n",
        "        var $myPB = $(\"div#73d29a16-56e5-4057-bc7d-518521da0697\")\n",
        "        if ($myPB.hasClass('ui-progressbar')) {\n",
        "            $myPB.progressbar('value', 296629);\n",
        "        } else {\n",
        "            $myPB.progressbar({value: 0, max: 565516});\n",
        "        }\n",
        "        "
       ],
       "metadata": {},
       "output_type": "display_data",
       "text": [
        "<IPython.core.display.Javascript at 0x7f2a95475810>"
       ]
      },
      {
       "javascript": [
        "$('div#ae1516f6-5e19-4df3-ac07-cf68e1f52e55').text('ETA:  0:02:33');"
       ],
       "metadata": {},
       "output_type": "display_data",
       "text": [
        "<IPython.core.display.Javascript at 0x7f2a9c0fb990>"
       ]
      },
      {
       "javascript": [
        "$('div#85400189-6928-448f-a97c-883694aea79a').text(' 52%');"
       ],
       "metadata": {},
       "output_type": "display_data",
       "text": [
        "<IPython.core.display.Javascript at 0x7f2a9c0fbe50>"
       ]
      },
      {
       "javascript": [
        "\n",
        "        var $myPB = $(\"div#73d29a16-56e5-4057-bc7d-518521da0697\")\n",
        "        if ($myPB.hasClass('ui-progressbar')) {\n",
        "            $myPB.progressbar('value', 296824);\n",
        "        } else {\n",
        "            $myPB.progressbar({value: 0, max: 565516});\n",
        "        }\n",
        "        "
       ],
       "metadata": {},
       "output_type": "display_data",
       "text": [
        "<IPython.core.display.Javascript at 0x7f2a9c0fbf90>"
       ]
      },
      {
       "javascript": [
        "$('div#ae1516f6-5e19-4df3-ac07-cf68e1f52e55').text('ETA:  0:02:34');"
       ],
       "metadata": {},
       "output_type": "display_data",
       "text": [
        "<IPython.core.display.Javascript at 0x7f2a9c0180d0>"
       ]
      },
      {
       "javascript": [
        "$('div#85400189-6928-448f-a97c-883694aea79a').text(' 52%');"
       ],
       "metadata": {},
       "output_type": "display_data",
       "text": [
        "<IPython.core.display.Javascript at 0x7f2a9c018450>"
       ]
      },
      {
       "javascript": [
        "\n",
        "        var $myPB = $(\"div#73d29a16-56e5-4057-bc7d-518521da0697\")\n",
        "        if ($myPB.hasClass('ui-progressbar')) {\n",
        "            $myPB.progressbar('value', 297075);\n",
        "        } else {\n",
        "            $myPB.progressbar({value: 0, max: 565516});\n",
        "        }\n",
        "        "
       ],
       "metadata": {},
       "output_type": "display_data",
       "text": [
        "<IPython.core.display.Javascript at 0x7f2a9c018510>"
       ]
      },
      {
       "javascript": [
        "$('div#ae1516f6-5e19-4df3-ac07-cf68e1f52e55').text('ETA:  0:02:34');"
       ],
       "metadata": {},
       "output_type": "display_data",
       "text": [
        "<IPython.core.display.Javascript at 0x7f2a9c018550>"
       ]
      },
      {
       "javascript": [
        "$('div#85400189-6928-448f-a97c-883694aea79a').text(' 52%');"
       ],
       "metadata": {},
       "output_type": "display_data",
       "text": [
        "<IPython.core.display.Javascript at 0x7f2a9c018610>"
       ]
      },
      {
       "javascript": [
        "\n",
        "        var $myPB = $(\"div#73d29a16-56e5-4057-bc7d-518521da0697\")\n",
        "        if ($myPB.hasClass('ui-progressbar')) {\n",
        "            $myPB.progressbar('value', 297529);\n",
        "        } else {\n",
        "            $myPB.progressbar({value: 0, max: 565516});\n",
        "        }\n",
        "        "
       ],
       "metadata": {},
       "output_type": "display_data",
       "text": [
        "<IPython.core.display.Javascript at 0x7f2a9c018890>"
       ]
      },
      {
       "javascript": [
        "$('div#ae1516f6-5e19-4df3-ac07-cf68e1f52e55').text('ETA:  0:02:35');"
       ],
       "metadata": {},
       "output_type": "display_data",
       "text": [
        "<IPython.core.display.Javascript at 0x7f2a9c0188d0>"
       ]
      },
      {
       "javascript": [
        "$('div#85400189-6928-448f-a97c-883694aea79a').text(' 52%');"
       ],
       "metadata": {},
       "output_type": "display_data",
       "text": [
        "<IPython.core.display.Javascript at 0x7f2a9c0180d0>"
       ]
      },
      {
       "javascript": [
        "\n",
        "        var $myPB = $(\"div#73d29a16-56e5-4057-bc7d-518521da0697\")\n",
        "        if ($myPB.hasClass('ui-progressbar')) {\n",
        "            $myPB.progressbar('value', 298768);\n",
        "        } else {\n",
        "            $myPB.progressbar({value: 0, max: 565516});\n",
        "        }\n",
        "        "
       ],
       "metadata": {},
       "output_type": "display_data",
       "text": [
        "<IPython.core.display.Javascript at 0x7f2a9c018990>"
       ]
      },
      {
       "javascript": [
        "$('div#ae1516f6-5e19-4df3-ac07-cf68e1f52e55').text('ETA:  0:02:34');"
       ],
       "metadata": {},
       "output_type": "display_data",
       "text": [
        "<IPython.core.display.Javascript at 0x7f2a9c018850>"
       ]
      },
      {
       "javascript": [
        "$('div#85400189-6928-448f-a97c-883694aea79a').text(' 52%');"
       ],
       "metadata": {},
       "output_type": "display_data",
       "text": [
        "<IPython.core.display.Javascript at 0x7f2a9c018990>"
       ]
      },
      {
       "javascript": [
        "\n",
        "        var $myPB = $(\"div#73d29a16-56e5-4057-bc7d-518521da0697\")\n",
        "        if ($myPB.hasClass('ui-progressbar')) {\n",
        "            $myPB.progressbar('value', 299251);\n",
        "        } else {\n",
        "            $myPB.progressbar({value: 0, max: 565516});\n",
        "        }\n",
        "        "
       ],
       "metadata": {},
       "output_type": "display_data",
       "text": [
        "<IPython.core.display.Javascript at 0x7f2a9c018d10>"
       ]
      },
      {
       "javascript": [
        "$('div#ae1516f6-5e19-4df3-ac07-cf68e1f52e55').text('ETA:  0:02:35');"
       ],
       "metadata": {},
       "output_type": "display_data",
       "text": [
        "<IPython.core.display.Javascript at 0x7f2a9c018d50>"
       ]
      },
      {
       "javascript": [
        "$('div#85400189-6928-448f-a97c-883694aea79a').text(' 52%');"
       ],
       "metadata": {},
       "output_type": "display_data",
       "text": [
        "<IPython.core.display.Javascript at 0x7f2a9c018cd0>"
       ]
      },
      {
       "javascript": [
        "\n",
        "        var $myPB = $(\"div#73d29a16-56e5-4057-bc7d-518521da0697\")\n",
        "        if ($myPB.hasClass('ui-progressbar')) {\n",
        "            $myPB.progressbar('value', 299606);\n",
        "        } else {\n",
        "            $myPB.progressbar({value: 0, max: 565516});\n",
        "        }\n",
        "        "
       ],
       "metadata": {},
       "output_type": "display_data",
       "text": [
        "<IPython.core.display.Javascript at 0x7f2a9c018d50>"
       ]
      },
      {
       "javascript": [
        "$('div#ae1516f6-5e19-4df3-ac07-cf68e1f52e55').text('ETA:  0:02:35');"
       ],
       "metadata": {},
       "output_type": "display_data",
       "text": [
        "<IPython.core.display.Javascript at 0x7f2a9bf3e050>"
       ]
      },
      {
       "javascript": [
        "$('div#85400189-6928-448f-a97c-883694aea79a').text(' 53%');"
       ],
       "metadata": {},
       "output_type": "display_data",
       "text": [
        "<IPython.core.display.Javascript at 0x7f2a9bf60410>"
       ]
      },
      {
       "javascript": [
        "\n",
        "        var $myPB = $(\"div#73d29a16-56e5-4057-bc7d-518521da0697\")\n",
        "        if ($myPB.hasClass('ui-progressbar')) {\n",
        "            $myPB.progressbar('value', 299787);\n",
        "        } else {\n",
        "            $myPB.progressbar({value: 0, max: 565516});\n",
        "        }\n",
        "        "
       ],
       "metadata": {},
       "output_type": "display_data",
       "text": [
        "<IPython.core.display.Javascript at 0x7f2a9bf60450>"
       ]
      },
      {
       "javascript": [
        "$('div#ae1516f6-5e19-4df3-ac07-cf68e1f52e55').text('ETA:  0:02:36');"
       ],
       "metadata": {},
       "output_type": "display_data",
       "text": [
        "<IPython.core.display.Javascript at 0x7f2a9bf60490>"
       ]
      },
      {
       "javascript": [
        "$('div#85400189-6928-448f-a97c-883694aea79a').text(' 53%');"
       ],
       "metadata": {},
       "output_type": "display_data",
       "text": [
        "<IPython.core.display.Javascript at 0x7f2a9bf60550>"
       ]
      },
      {
       "javascript": [
        "\n",
        "        var $myPB = $(\"div#73d29a16-56e5-4057-bc7d-518521da0697\")\n",
        "        if ($myPB.hasClass('ui-progressbar')) {\n",
        "            $myPB.progressbar('value', 299996);\n",
        "        } else {\n",
        "            $myPB.progressbar({value: 0, max: 565516});\n",
        "        }\n",
        "        "
       ],
       "metadata": {},
       "output_type": "display_data",
       "text": [
        "<IPython.core.display.Javascript at 0x7f2a9bf60750>"
       ]
      },
      {
       "javascript": [
        "$('div#ae1516f6-5e19-4df3-ac07-cf68e1f52e55').text('ETA:  0:02:36');"
       ],
       "metadata": {},
       "output_type": "display_data",
       "text": [
        "<IPython.core.display.Javascript at 0x7f2a9bf60310>"
       ]
      },
      {
       "javascript": [
        "$('div#85400189-6928-448f-a97c-883694aea79a').text(' 53%');"
       ],
       "metadata": {},
       "output_type": "display_data",
       "text": [
        "<IPython.core.display.Javascript at 0x7f2a9bf60850>"
       ]
      },
      {
       "javascript": [
        "\n",
        "        var $myPB = $(\"div#73d29a16-56e5-4057-bc7d-518521da0697\")\n",
        "        if ($myPB.hasClass('ui-progressbar')) {\n",
        "            $myPB.progressbar('value', 300517);\n",
        "        } else {\n",
        "            $myPB.progressbar({value: 0, max: 565516});\n",
        "        }\n",
        "        "
       ],
       "metadata": {},
       "output_type": "display_data",
       "text": [
        "<IPython.core.display.Javascript at 0x7f2a9bf60bd0>"
       ]
      },
      {
       "javascript": [
        "$('div#ae1516f6-5e19-4df3-ac07-cf68e1f52e55').text('ETA:  0:02:37');"
       ],
       "metadata": {},
       "output_type": "display_data",
       "text": [
        "<IPython.core.display.Javascript at 0x7f2a9bf60c10>"
       ]
      },
      {
       "javascript": [
        "$('div#85400189-6928-448f-a97c-883694aea79a').text(' 53%');"
       ],
       "metadata": {},
       "output_type": "display_data",
       "text": [
        "<IPython.core.display.Javascript at 0x7f2a9bf60850>"
       ]
      },
      {
       "javascript": [
        "\n",
        "        var $myPB = $(\"div#73d29a16-56e5-4057-bc7d-518521da0697\")\n",
        "        if ($myPB.hasClass('ui-progressbar')) {\n",
        "            $myPB.progressbar('value', 301028);\n",
        "        } else {\n",
        "            $myPB.progressbar({value: 0, max: 565516});\n",
        "        }\n",
        "        "
       ],
       "metadata": {},
       "output_type": "display_data",
       "text": [
        "<IPython.core.display.Javascript at 0x7f2a9bf60e90>"
       ]
      },
      {
       "javascript": [
        "$('div#ae1516f6-5e19-4df3-ac07-cf68e1f52e55').text('ETA:  0:02:37');"
       ],
       "metadata": {},
       "output_type": "display_data",
       "text": [
        "<IPython.core.display.Javascript at 0x7f2a9bf60ed0>"
       ]
      },
      {
       "javascript": [
        "$('div#85400189-6928-448f-a97c-883694aea79a').text(' 53%');"
       ],
       "metadata": {},
       "output_type": "display_data",
       "text": [
        "<IPython.core.display.Javascript at 0x7f2a99a59250>"
       ]
      },
      {
       "javascript": [
        "\n",
        "        var $myPB = $(\"div#73d29a16-56e5-4057-bc7d-518521da0697\")\n",
        "        if ($myPB.hasClass('ui-progressbar')) {\n",
        "            $myPB.progressbar('value', 301196);\n",
        "        } else {\n",
        "            $myPB.progressbar({value: 0, max: 565516});\n",
        "        }\n",
        "        "
       ],
       "metadata": {},
       "output_type": "display_data",
       "text": [
        "<IPython.core.display.Javascript at 0x7f2a99a59190>"
       ]
      },
      {
       "javascript": [
        "$('div#ae1516f6-5e19-4df3-ac07-cf68e1f52e55').text('ETA:  0:02:38');"
       ],
       "metadata": {},
       "output_type": "display_data",
       "text": [
        "<IPython.core.display.Javascript at 0x7f2a99a59290>"
       ]
      },
      {
       "javascript": [
        "$('div#85400189-6928-448f-a97c-883694aea79a').text(' 53%');"
       ],
       "metadata": {},
       "output_type": "display_data",
       "text": [
        "<IPython.core.display.Javascript at 0x7f2a99a595d0>"
       ]
      },
      {
       "javascript": [
        "\n",
        "        var $myPB = $(\"div#73d29a16-56e5-4057-bc7d-518521da0697\")\n",
        "        if ($myPB.hasClass('ui-progressbar')) {\n",
        "            $myPB.progressbar('value', 301400);\n",
        "        } else {\n",
        "            $myPB.progressbar({value: 0, max: 565516});\n",
        "        }\n",
        "        "
       ],
       "metadata": {},
       "output_type": "display_data",
       "text": [
        "<IPython.core.display.Javascript at 0x7f2a99a59690>"
       ]
      },
      {
       "javascript": [
        "$('div#ae1516f6-5e19-4df3-ac07-cf68e1f52e55').text('ETA:  0:02:38');"
       ],
       "metadata": {},
       "output_type": "display_data",
       "text": [
        "<IPython.core.display.Javascript at 0x7f2a99a596d0>"
       ]
      },
      {
       "javascript": [
        "$('div#85400189-6928-448f-a97c-883694aea79a').text(' 53%');"
       ],
       "metadata": {},
       "output_type": "display_data",
       "text": [
        "<IPython.core.display.Javascript at 0x7f2a99a598d0>"
       ]
      },
      {
       "javascript": [
        "\n",
        "        var $myPB = $(\"div#73d29a16-56e5-4057-bc7d-518521da0697\")\n",
        "        if ($myPB.hasClass('ui-progressbar')) {\n",
        "            $myPB.progressbar('value', 301883);\n",
        "        } else {\n",
        "            $myPB.progressbar({value: 0, max: 565516});\n",
        "        }\n",
        "        "
       ],
       "metadata": {},
       "output_type": "display_data",
       "text": [
        "<IPython.core.display.Javascript at 0x7f2a99a59990>"
       ]
      },
      {
       "javascript": [
        "$('div#ae1516f6-5e19-4df3-ac07-cf68e1f52e55').text('ETA:  0:02:39');"
       ],
       "metadata": {},
       "output_type": "display_data",
       "text": [
        "<IPython.core.display.Javascript at 0x7f2a99a599d0>"
       ]
      },
      {
       "javascript": [
        "$('div#85400189-6928-448f-a97c-883694aea79a').text(' 53%');"
       ],
       "metadata": {},
       "output_type": "display_data",
       "text": [
        "<IPython.core.display.Javascript at 0x7f2a99a59b10>"
       ]
      },
      {
       "javascript": [
        "\n",
        "        var $myPB = $(\"div#73d29a16-56e5-4057-bc7d-518521da0697\")\n",
        "        if ($myPB.hasClass('ui-progressbar')) {\n",
        "            $myPB.progressbar('value', 302794);\n",
        "        } else {\n",
        "            $myPB.progressbar({value: 0, max: 565516});\n",
        "        }\n",
        "        "
       ],
       "metadata": {},
       "output_type": "display_data",
       "text": [
        "<IPython.core.display.Javascript at 0x7f2a99a59c10>"
       ]
      },
      {
       "javascript": [
        "$('div#ae1516f6-5e19-4df3-ac07-cf68e1f52e55').text('ETA:  0:02:39');"
       ],
       "metadata": {},
       "output_type": "display_data",
       "text": [
        "<IPython.core.display.Javascript at 0x7f2a99a59c50>"
       ]
      },
      {
       "javascript": [
        "$('div#85400189-6928-448f-a97c-883694aea79a').text(' 53%');"
       ],
       "metadata": {},
       "output_type": "display_data",
       "text": [
        "<IPython.core.display.Javascript at 0x7f2a99a59a10>"
       ]
      },
      {
       "javascript": [
        "\n",
        "        var $myPB = $(\"div#73d29a16-56e5-4057-bc7d-518521da0697\")\n",
        "        if ($myPB.hasClass('ui-progressbar')) {\n",
        "            $myPB.progressbar('value', 303152);\n",
        "        } else {\n",
        "            $myPB.progressbar({value: 0, max: 565516});\n",
        "        }\n",
        "        "
       ],
       "metadata": {},
       "output_type": "display_data",
       "text": [
        "<IPython.core.display.Javascript at 0x7f2a99a59f10>"
       ]
      },
      {
       "javascript": [
        "$('div#ae1516f6-5e19-4df3-ac07-cf68e1f52e55').text('ETA:  0:02:39');"
       ],
       "metadata": {},
       "output_type": "display_data",
       "text": [
        "<IPython.core.display.Javascript at 0x7f2a99a59f50>"
       ]
      },
      {
       "javascript": [
        "$('div#85400189-6928-448f-a97c-883694aea79a').text(' 53%');"
       ],
       "metadata": {},
       "output_type": "display_data",
       "text": [
        "<IPython.core.display.Javascript at 0x7f2a99e53290>"
       ]
      },
      {
       "javascript": [
        "\n",
        "        var $myPB = $(\"div#73d29a16-56e5-4057-bc7d-518521da0697\")\n",
        "        if ($myPB.hasClass('ui-progressbar')) {\n",
        "            $myPB.progressbar('value', 303372);\n",
        "        } else {\n",
        "            $myPB.progressbar({value: 0, max: 565516});\n",
        "        }\n",
        "        "
       ],
       "metadata": {},
       "output_type": "display_data",
       "text": [
        "<IPython.core.display.Javascript at 0x7f2a99e532d0>"
       ]
      },
      {
       "javascript": [
        "$('div#ae1516f6-5e19-4df3-ac07-cf68e1f52e55').text('ETA:  0:02:40');"
       ],
       "metadata": {},
       "output_type": "display_data",
       "text": [
        "<IPython.core.display.Javascript at 0x7f2a99e53310>"
       ]
      },
      {
       "javascript": [
        "$('div#85400189-6928-448f-a97c-883694aea79a').text(' 53%');"
       ],
       "metadata": {},
       "output_type": "display_data",
       "text": [
        "<IPython.core.display.Javascript at 0x7f2a99e535d0>"
       ]
      },
      {
       "javascript": [
        "\n",
        "        var $myPB = $(\"div#73d29a16-56e5-4057-bc7d-518521da0697\")\n",
        "        if ($myPB.hasClass('ui-progressbar')) {\n",
        "            $myPB.progressbar('value', 303584);\n",
        "        } else {\n",
        "            $myPB.progressbar({value: 0, max: 565516});\n",
        "        }\n",
        "        "
       ],
       "metadata": {},
       "output_type": "display_data",
       "text": [
        "<IPython.core.display.Javascript at 0x7f2a99e53710>"
       ]
      },
      {
       "javascript": [
        "$('div#ae1516f6-5e19-4df3-ac07-cf68e1f52e55').text('ETA:  0:02:40');"
       ],
       "metadata": {},
       "output_type": "display_data",
       "text": [
        "<IPython.core.display.Javascript at 0x7f2a99e53750>"
       ]
      },
      {
       "javascript": [
        "$('div#85400189-6928-448f-a97c-883694aea79a').text(' 53%');"
       ],
       "metadata": {},
       "output_type": "display_data",
       "text": [
        "<IPython.core.display.Javascript at 0x7f2a99e53a90>"
       ]
      },
      {
       "javascript": [
        "\n",
        "        var $myPB = $(\"div#73d29a16-56e5-4057-bc7d-518521da0697\")\n",
        "        if ($myPB.hasClass('ui-progressbar')) {\n",
        "            $myPB.progressbar('value', 303770);\n",
        "        } else {\n",
        "            $myPB.progressbar({value: 0, max: 565516});\n",
        "        }\n",
        "        "
       ],
       "metadata": {},
       "output_type": "display_data",
       "text": [
        "<IPython.core.display.Javascript at 0x7f2a99e53450>"
       ]
      },
      {
       "javascript": [
        "$('div#ae1516f6-5e19-4df3-ac07-cf68e1f52e55').text('ETA:  0:02:41');"
       ],
       "metadata": {},
       "output_type": "display_data",
       "text": [
        "<IPython.core.display.Javascript at 0x7f2a99e53c50>"
       ]
      },
      {
       "javascript": [
        "$('div#85400189-6928-448f-a97c-883694aea79a').text(' 54%');"
       ],
       "metadata": {},
       "output_type": "display_data",
       "text": [
        "<IPython.core.display.Javascript at 0x7f2a99e53450>"
       ]
      },
      {
       "javascript": [
        "\n",
        "        var $myPB = $(\"div#73d29a16-56e5-4057-bc7d-518521da0697\")\n",
        "        if ($myPB.hasClass('ui-progressbar')) {\n",
        "            $myPB.progressbar('value', 305742);\n",
        "        } else {\n",
        "            $myPB.progressbar({value: 0, max: 565516});\n",
        "        }\n",
        "        "
       ],
       "metadata": {},
       "output_type": "display_data",
       "text": [
        "<IPython.core.display.Javascript at 0x7f2a99e53d10>"
       ]
      },
      {
       "javascript": [
        "$('div#ae1516f6-5e19-4df3-ac07-cf68e1f52e55').text('ETA:  0:02:40');"
       ],
       "metadata": {},
       "output_type": "display_data",
       "text": [
        "<IPython.core.display.Javascript at 0x7f2a99e53d50>"
       ]
      },
      {
       "javascript": [
        "$('div#85400189-6928-448f-a97c-883694aea79a').text(' 54%');"
       ],
       "metadata": {},
       "output_type": "display_data",
       "text": [
        "<IPython.core.display.Javascript at 0x7f2a99e53a10>"
       ]
      },
      {
       "javascript": [
        "\n",
        "        var $myPB = $(\"div#73d29a16-56e5-4057-bc7d-518521da0697\")\n",
        "        if ($myPB.hasClass('ui-progressbar')) {\n",
        "            $myPB.progressbar('value', 307683);\n",
        "        } else {\n",
        "            $myPB.progressbar({value: 0, max: 565516});\n",
        "        }\n",
        "        "
       ],
       "metadata": {},
       "output_type": "display_data",
       "text": [
        "<IPython.core.display.Javascript at 0x7f2a99e53d90>"
       ]
      },
      {
       "javascript": [
        "$('div#ae1516f6-5e19-4df3-ac07-cf68e1f52e55').text('ETA:  0:02:38');"
       ],
       "metadata": {},
       "output_type": "display_data",
       "text": [
        "<IPython.core.display.Javascript at 0x7f2a99e53dd0>"
       ]
      },
      {
       "javascript": [
        "$('div#85400189-6928-448f-a97c-883694aea79a').text(' 54%');"
       ],
       "metadata": {},
       "output_type": "display_data",
       "text": [
        "<IPython.core.display.Javascript at 0x7f2a99682050>"
       ]
      },
      {
       "javascript": [
        "\n",
        "        var $myPB = $(\"div#73d29a16-56e5-4057-bc7d-518521da0697\")\n",
        "        if ($myPB.hasClass('ui-progressbar')) {\n",
        "            $myPB.progressbar('value', 308308);\n",
        "        } else {\n",
        "            $myPB.progressbar({value: 0, max: 565516});\n",
        "        }\n",
        "        "
       ],
       "metadata": {},
       "output_type": "display_data",
       "text": [
        "<IPython.core.display.Javascript at 0x7f2a99682210>"
       ]
      },
      {
       "javascript": [
        "$('div#ae1516f6-5e19-4df3-ac07-cf68e1f52e55').text('ETA:  0:02:38');"
       ],
       "metadata": {},
       "output_type": "display_data",
       "text": [
        "<IPython.core.display.Javascript at 0x7f2a99682250>"
       ]
      },
      {
       "javascript": [
        "$('div#85400189-6928-448f-a97c-883694aea79a').text(' 54%');"
       ],
       "metadata": {},
       "output_type": "display_data",
       "text": [
        "<IPython.core.display.Javascript at 0x7f2a99682550>"
       ]
      },
      {
       "javascript": [
        "\n",
        "        var $myPB = $(\"div#73d29a16-56e5-4057-bc7d-518521da0697\")\n",
        "        if ($myPB.hasClass('ui-progressbar')) {\n",
        "            $myPB.progressbar('value', 308493);\n",
        "        } else {\n",
        "            $myPB.progressbar({value: 0, max: 565516});\n",
        "        }\n",
        "        "
       ],
       "metadata": {},
       "output_type": "display_data",
       "text": [
        "<IPython.core.display.Javascript at 0x7f2a99682750>"
       ]
      },
      {
       "javascript": [
        "$('div#ae1516f6-5e19-4df3-ac07-cf68e1f52e55').text('ETA:  0:02:39');"
       ],
       "metadata": {},
       "output_type": "display_data",
       "text": [
        "<IPython.core.display.Javascript at 0x7f2a99682790>"
       ]
      },
      {
       "javascript": [
        "$('div#85400189-6928-448f-a97c-883694aea79a').text(' 54%');"
       ],
       "metadata": {},
       "output_type": "display_data",
       "text": [
        "<IPython.core.display.Javascript at 0x7f2a996827d0>"
       ]
      },
      {
       "javascript": [
        "\n",
        "        var $myPB = $(\"div#73d29a16-56e5-4057-bc7d-518521da0697\")\n",
        "        if ($myPB.hasClass('ui-progressbar')) {\n",
        "            $myPB.progressbar('value', 308711);\n",
        "        } else {\n",
        "            $myPB.progressbar({value: 0, max: 565516});\n",
        "        }\n",
        "        "
       ],
       "metadata": {},
       "output_type": "display_data",
       "text": [
        "<IPython.core.display.Javascript at 0x7f2a99682b90>"
       ]
      },
      {
       "javascript": [
        "$('div#ae1516f6-5e19-4df3-ac07-cf68e1f52e55').text('ETA:  0:02:40');"
       ],
       "metadata": {},
       "output_type": "display_data",
       "text": [
        "<IPython.core.display.Javascript at 0x7f2a99682bd0>"
       ]
      },
      {
       "javascript": [
        "$('div#85400189-6928-448f-a97c-883694aea79a').text(' 54%');"
       ],
       "metadata": {},
       "output_type": "display_data",
       "text": [
        "<IPython.core.display.Javascript at 0x7f2a99682b50>"
       ]
      },
      {
       "javascript": [
        "\n",
        "        var $myPB = $(\"div#73d29a16-56e5-4057-bc7d-518521da0697\")\n",
        "        if ($myPB.hasClass('ui-progressbar')) {\n",
        "            $myPB.progressbar('value', 309820);\n",
        "        } else {\n",
        "            $myPB.progressbar({value: 0, max: 565516});\n",
        "        }\n",
        "        "
       ],
       "metadata": {},
       "output_type": "display_data",
       "text": [
        "<IPython.core.display.Javascript at 0x7f2a99682e90>"
       ]
      },
      {
       "javascript": [
        "$('div#ae1516f6-5e19-4df3-ac07-cf68e1f52e55').text('ETA:  0:02:39');"
       ],
       "metadata": {},
       "output_type": "display_data",
       "text": [
        "<IPython.core.display.Javascript at 0x7f2a99682ed0>"
       ]
      },
      {
       "javascript": [
        "$('div#85400189-6928-448f-a97c-883694aea79a').text(' 55%');"
       ],
       "metadata": {},
       "output_type": "display_data",
       "text": [
        "<IPython.core.display.Javascript at 0x7f2a99682b50>"
       ]
      },
      {
       "javascript": [
        "\n",
        "        var $myPB = $(\"div#73d29a16-56e5-4057-bc7d-518521da0697\")\n",
        "        if ($myPB.hasClass('ui-progressbar')) {\n",
        "            $myPB.progressbar('value', 311564);\n",
        "        } else {\n",
        "            $myPB.progressbar({value: 0, max: 565516});\n",
        "        }\n",
        "        "
       ],
       "metadata": {},
       "output_type": "display_data",
       "text": [
        "<IPython.core.display.Javascript at 0x7f2a99682f90>"
       ]
      },
      {
       "javascript": [
        "$('div#ae1516f6-5e19-4df3-ac07-cf68e1f52e55').text('ETA:  0:02:38');"
       ],
       "metadata": {},
       "output_type": "display_data",
       "text": [
        "<IPython.core.display.Javascript at 0x7f2a99682f10>"
       ]
      },
      {
       "javascript": [
        "$('div#85400189-6928-448f-a97c-883694aea79a').text(' 55%');"
       ],
       "metadata": {},
       "output_type": "display_data",
       "text": [
        "<IPython.core.display.Javascript at 0x7f2a995db050>"
       ]
      },
      {
       "javascript": [
        "\n",
        "        var $myPB = $(\"div#73d29a16-56e5-4057-bc7d-518521da0697\")\n",
        "        if ($myPB.hasClass('ui-progressbar')) {\n",
        "            $myPB.progressbar('value', 313414);\n",
        "        } else {\n",
        "            $myPB.progressbar({value: 0, max: 565516});\n",
        "        }\n",
        "        "
       ],
       "metadata": {},
       "output_type": "display_data",
       "text": [
        "<IPython.core.display.Javascript at 0x7f2a995db0d0>"
       ]
      },
      {
       "javascript": [
        "$('div#ae1516f6-5e19-4df3-ac07-cf68e1f52e55').text('ETA:  0:02:37');"
       ],
       "metadata": {},
       "output_type": "display_data",
       "text": [
        "<IPython.core.display.Javascript at 0x7f2a995db110>"
       ]
      },
      {
       "javascript": [
        "$('div#85400189-6928-448f-a97c-883694aea79a').text(' 55%');"
       ],
       "metadata": {},
       "output_type": "display_data",
       "text": [
        "<IPython.core.display.Javascript at 0x7f2a995db050>"
       ]
      },
      {
       "javascript": [
        "\n",
        "        var $myPB = $(\"div#73d29a16-56e5-4057-bc7d-518521da0697\")\n",
        "        if ($myPB.hasClass('ui-progressbar')) {\n",
        "            $myPB.progressbar('value', 315324);\n",
        "        } else {\n",
        "            $myPB.progressbar({value: 0, max: 565516});\n",
        "        }\n",
        "        "
       ],
       "metadata": {},
       "output_type": "display_data",
       "text": [
        "<IPython.core.display.Javascript at 0x7f2a995db1d0>"
       ]
      },
      {
       "javascript": [
        "$('div#ae1516f6-5e19-4df3-ac07-cf68e1f52e55').text('ETA:  0:02:35');"
       ],
       "metadata": {},
       "output_type": "display_data",
       "text": [
        "<IPython.core.display.Javascript at 0x7f2a995db210>"
       ]
      },
      {
       "javascript": [
        "$('div#85400189-6928-448f-a97c-883694aea79a').text(' 56%');"
       ],
       "metadata": {},
       "output_type": "display_data",
       "text": [
        "<IPython.core.display.Javascript at 0x7f2a995db250>"
       ]
      },
      {
       "javascript": [
        "\n",
        "        var $myPB = $(\"div#73d29a16-56e5-4057-bc7d-518521da0697\")\n",
        "        if ($myPB.hasClass('ui-progressbar')) {\n",
        "            $myPB.progressbar('value', 316823);\n",
        "        } else {\n",
        "            $myPB.progressbar({value: 0, max: 565516});\n",
        "        }\n",
        "        "
       ],
       "metadata": {},
       "output_type": "display_data",
       "text": [
        "<IPython.core.display.Javascript at 0x7f2a995db350>"
       ]
      },
      {
       "javascript": [
        "$('div#ae1516f6-5e19-4df3-ac07-cf68e1f52e55').text('ETA:  0:02:34');"
       ],
       "metadata": {},
       "output_type": "display_data",
       "text": [
        "<IPython.core.display.Javascript at 0x7f2a995db390>"
       ]
      },
      {
       "javascript": [
        "$('div#85400189-6928-448f-a97c-883694aea79a').text(' 56%');"
       ],
       "metadata": {},
       "output_type": "display_data",
       "text": [
        "<IPython.core.display.Javascript at 0x7f2a995db410>"
       ]
      },
      {
       "javascript": [
        "\n",
        "        var $myPB = $(\"div#73d29a16-56e5-4057-bc7d-518521da0697\")\n",
        "        if ($myPB.hasClass('ui-progressbar')) {\n",
        "            $myPB.progressbar('value', 318504);\n",
        "        } else {\n",
        "            $myPB.progressbar({value: 0, max: 565516});\n",
        "        }\n",
        "        "
       ],
       "metadata": {},
       "output_type": "display_data",
       "text": [
        "<IPython.core.display.Javascript at 0x7f2a995db4d0>"
       ]
      },
      {
       "javascript": [
        "$('div#ae1516f6-5e19-4df3-ac07-cf68e1f52e55').text('ETA:  0:02:33');"
       ],
       "metadata": {},
       "output_type": "display_data",
       "text": [
        "<IPython.core.display.Javascript at 0x7f2a995db510>"
       ]
      },
      {
       "javascript": [
        "$('div#85400189-6928-448f-a97c-883694aea79a').text(' 56%');"
       ],
       "metadata": {},
       "output_type": "display_data",
       "text": [
        "<IPython.core.display.Javascript at 0x7f2a995db590>"
       ]
      },
      {
       "javascript": [
        "\n",
        "        var $myPB = $(\"div#73d29a16-56e5-4057-bc7d-518521da0697\")\n",
        "        if ($myPB.hasClass('ui-progressbar')) {\n",
        "            $myPB.progressbar('value', 320770);\n",
        "        } else {\n",
        "            $myPB.progressbar({value: 0, max: 565516});\n",
        "        }\n",
        "        "
       ],
       "metadata": {},
       "output_type": "display_data",
       "text": [
        "<IPython.core.display.Javascript at 0x7f2a995db5d0>"
       ]
      },
      {
       "javascript": [
        "$('div#ae1516f6-5e19-4df3-ac07-cf68e1f52e55').text('ETA:  0:02:32');"
       ],
       "metadata": {},
       "output_type": "display_data",
       "text": [
        "<IPython.core.display.Javascript at 0x7f2a995db610>"
       ]
      },
      {
       "javascript": [
        "$('div#85400189-6928-448f-a97c-883694aea79a').text(' 57%');"
       ],
       "metadata": {},
       "output_type": "display_data",
       "text": [
        "<IPython.core.display.Javascript at 0x7f2a995db650>"
       ]
      },
      {
       "javascript": [
        "\n",
        "        var $myPB = $(\"div#73d29a16-56e5-4057-bc7d-518521da0697\")\n",
        "        if ($myPB.hasClass('ui-progressbar')) {\n",
        "            $myPB.progressbar('value', 323069);\n",
        "        } else {\n",
        "            $myPB.progressbar({value: 0, max: 565516});\n",
        "        }\n",
        "        "
       ],
       "metadata": {},
       "output_type": "display_data",
       "text": [
        "<IPython.core.display.Javascript at 0x7f2a995db690>"
       ]
      },
      {
       "javascript": [
        "$('div#ae1516f6-5e19-4df3-ac07-cf68e1f52e55').text('ETA:  0:02:30');"
       ],
       "metadata": {},
       "output_type": "display_data",
       "text": [
        "<IPython.core.display.Javascript at 0x7f2a995db6d0>"
       ]
      },
      {
       "javascript": [
        "$('div#85400189-6928-448f-a97c-883694aea79a').text(' 57%');"
       ],
       "metadata": {},
       "output_type": "display_data",
       "text": [
        "<IPython.core.display.Javascript at 0x7f2a995db590>"
       ]
      },
      {
       "javascript": [
        "\n",
        "        var $myPB = $(\"div#73d29a16-56e5-4057-bc7d-518521da0697\")\n",
        "        if ($myPB.hasClass('ui-progressbar')) {\n",
        "            $myPB.progressbar('value', 324579);\n",
        "        } else {\n",
        "            $myPB.progressbar({value: 0, max: 565516});\n",
        "        }\n",
        "        "
       ],
       "metadata": {},
       "output_type": "display_data",
       "text": [
        "<IPython.core.display.Javascript at 0x7f2a995db710>"
       ]
      },
      {
       "javascript": [
        "$('div#ae1516f6-5e19-4df3-ac07-cf68e1f52e55').text('ETA:  0:02:29');"
       ],
       "metadata": {},
       "output_type": "display_data",
       "text": [
        "<IPython.core.display.Javascript at 0x7f2a995db750>"
       ]
      },
      {
       "javascript": [
        "$('div#85400189-6928-448f-a97c-883694aea79a').text(' 57%');"
       ],
       "metadata": {},
       "output_type": "display_data",
       "text": [
        "<IPython.core.display.Javascript at 0x7f2a92b814d0>"
       ]
      },
      {
       "javascript": [
        "\n",
        "        var $myPB = $(\"div#73d29a16-56e5-4057-bc7d-518521da0697\")\n",
        "        if ($myPB.hasClass('ui-progressbar')) {\n",
        "            $myPB.progressbar('value', 324987);\n",
        "        } else {\n",
        "            $myPB.progressbar({value: 0, max: 565516});\n",
        "        }\n",
        "        "
       ],
       "metadata": {},
       "output_type": "display_data",
       "text": [
        "<IPython.core.display.Javascript at 0x7f2a92b81450>"
       ]
      },
      {
       "javascript": [
        "$('div#ae1516f6-5e19-4df3-ac07-cf68e1f52e55').text('ETA:  0:02:29');"
       ],
       "metadata": {},
       "output_type": "display_data",
       "text": [
        "<IPython.core.display.Javascript at 0x7f2a92b81410>"
       ]
      },
      {
       "javascript": [
        "$('div#85400189-6928-448f-a97c-883694aea79a').text(' 57%');"
       ],
       "metadata": {},
       "output_type": "display_data",
       "text": [
        "<IPython.core.display.Javascript at 0x7f2a92b81550>"
       ]
      },
      {
       "javascript": [
        "\n",
        "        var $myPB = $(\"div#73d29a16-56e5-4057-bc7d-518521da0697\")\n",
        "        if ($myPB.hasClass('ui-progressbar')) {\n",
        "            $myPB.progressbar('value', 327100);\n",
        "        } else {\n",
        "            $myPB.progressbar({value: 0, max: 565516});\n",
        "        }\n",
        "        "
       ],
       "metadata": {},
       "output_type": "display_data",
       "text": [
        "<IPython.core.display.Javascript at 0x7f2a92b814d0>"
       ]
      },
      {
       "javascript": [
        "$('div#ae1516f6-5e19-4df3-ac07-cf68e1f52e55').text('ETA:  0:02:28');"
       ],
       "metadata": {},
       "output_type": "display_data",
       "text": [
        "<IPython.core.display.Javascript at 0x7f2a92b81310>"
       ]
      },
      {
       "javascript": [
        "$('div#85400189-6928-448f-a97c-883694aea79a').text(' 58%');"
       ],
       "metadata": {},
       "output_type": "display_data",
       "text": [
        "<IPython.core.display.Javascript at 0x7f2a92b81410>"
       ]
      },
      {
       "javascript": [
        "\n",
        "        var $myPB = $(\"div#73d29a16-56e5-4057-bc7d-518521da0697\")\n",
        "        if ($myPB.hasClass('ui-progressbar')) {\n",
        "            $myPB.progressbar('value', 329110);\n",
        "        } else {\n",
        "            $myPB.progressbar({value: 0, max: 565516});\n",
        "        }\n",
        "        "
       ],
       "metadata": {},
       "output_type": "display_data",
       "text": [
        "<IPython.core.display.Javascript at 0x7f2a92b81290>"
       ]
      },
      {
       "javascript": [
        "$('div#ae1516f6-5e19-4df3-ac07-cf68e1f52e55').text('ETA:  0:02:26');"
       ],
       "metadata": {},
       "output_type": "display_data",
       "text": [
        "<IPython.core.display.Javascript at 0x7f2a92b81250>"
       ]
      },
      {
       "javascript": [
        "$('div#85400189-6928-448f-a97c-883694aea79a').text(' 58%');"
       ],
       "metadata": {},
       "output_type": "display_data",
       "text": [
        "<IPython.core.display.Javascript at 0x7f2a92b81090>"
       ]
      },
      {
       "javascript": [
        "\n",
        "        var $myPB = $(\"div#73d29a16-56e5-4057-bc7d-518521da0697\")\n",
        "        if ($myPB.hasClass('ui-progressbar')) {\n",
        "            $myPB.progressbar('value', 330600);\n",
        "        } else {\n",
        "            $myPB.progressbar({value: 0, max: 565516});\n",
        "        }\n",
        "        "
       ],
       "metadata": {},
       "output_type": "display_data",
       "text": [
        "<IPython.core.display.Javascript at 0x7f2a92be2190>"
       ]
      },
      {
       "javascript": [
        "$('div#ae1516f6-5e19-4df3-ac07-cf68e1f52e55').text('ETA:  0:02:25');"
       ],
       "metadata": {},
       "output_type": "display_data",
       "text": [
        "<IPython.core.display.Javascript at 0x7f2a92be2fd0>"
       ]
      },
      {
       "javascript": [
        "$('div#85400189-6928-448f-a97c-883694aea79a').text(' 58%');"
       ],
       "metadata": {},
       "output_type": "display_data",
       "text": [
        "<IPython.core.display.Javascript at 0x7f2a92be2f90>"
       ]
      },
      {
       "javascript": [
        "\n",
        "        var $myPB = $(\"div#73d29a16-56e5-4057-bc7d-518521da0697\")\n",
        "        if ($myPB.hasClass('ui-progressbar')) {\n",
        "            $myPB.progressbar('value', 332570);\n",
        "        } else {\n",
        "            $myPB.progressbar({value: 0, max: 565516});\n",
        "        }\n",
        "        "
       ],
       "metadata": {},
       "output_type": "display_data",
       "text": [
        "<IPython.core.display.Javascript at 0x7f2a92be2c50>"
       ]
      },
      {
       "javascript": [
        "$('div#ae1516f6-5e19-4df3-ac07-cf68e1f52e55').text('ETA:  0:02:24');"
       ],
       "metadata": {},
       "output_type": "display_data",
       "text": [
        "<IPython.core.display.Javascript at 0x7f2a92be2e10>"
       ]
      },
      {
       "javascript": [
        "$('div#85400189-6928-448f-a97c-883694aea79a').text(' 59%');"
       ],
       "metadata": {},
       "output_type": "display_data",
       "text": [
        "<IPython.core.display.Javascript at 0x7f2a92be2a50>"
       ]
      },
      {
       "javascript": [
        "\n",
        "        var $myPB = $(\"div#73d29a16-56e5-4057-bc7d-518521da0697\")\n",
        "        if ($myPB.hasClass('ui-progressbar')) {\n",
        "            $myPB.progressbar('value', 334790);\n",
        "        } else {\n",
        "            $myPB.progressbar({value: 0, max: 565516});\n",
        "        }\n",
        "        "
       ],
       "metadata": {},
       "output_type": "display_data",
       "text": [
        "<IPython.core.display.Javascript at 0x7f2a92be2790>"
       ]
      },
      {
       "javascript": [
        "$('div#ae1516f6-5e19-4df3-ac07-cf68e1f52e55').text('ETA:  0:02:22');"
       ],
       "metadata": {},
       "output_type": "display_data",
       "text": [
        "<IPython.core.display.Javascript at 0x7f2a92be2a90>"
       ]
      },
      {
       "javascript": [
        "$('div#85400189-6928-448f-a97c-883694aea79a').text(' 59%');"
       ],
       "metadata": {},
       "output_type": "display_data",
       "text": [
        "<IPython.core.display.Javascript at 0x7f2a92be2d10>"
       ]
      },
      {
       "javascript": [
        "\n",
        "        var $myPB = $(\"div#73d29a16-56e5-4057-bc7d-518521da0697\")\n",
        "        if ($myPB.hasClass('ui-progressbar')) {\n",
        "            $myPB.progressbar('value', 336249);\n",
        "        } else {\n",
        "            $myPB.progressbar({value: 0, max: 565516});\n",
        "        }\n",
        "        "
       ],
       "metadata": {},
       "output_type": "display_data",
       "text": [
        "<IPython.core.display.Javascript at 0x7f2a92be2810>"
       ]
      },
      {
       "javascript": [
        "$('div#ae1516f6-5e19-4df3-ac07-cf68e1f52e55').text('ETA:  0:02:22');"
       ],
       "metadata": {},
       "output_type": "display_data",
       "text": [
        "<IPython.core.display.Javascript at 0x7f2a92be2e90>"
       ]
      },
      {
       "javascript": [
        "$('div#85400189-6928-448f-a97c-883694aea79a').text(' 59%');"
       ],
       "metadata": {},
       "output_type": "display_data",
       "text": [
        "<IPython.core.display.Javascript at 0x7f2a92be2ad0>"
       ]
      },
      {
       "javascript": [
        "\n",
        "        var $myPB = $(\"div#73d29a16-56e5-4057-bc7d-518521da0697\")\n",
        "        if ($myPB.hasClass('ui-progressbar')) {\n",
        "            $myPB.progressbar('value', 337314);\n",
        "        } else {\n",
        "            $myPB.progressbar({value: 0, max: 565516});\n",
        "        }\n",
        "        "
       ],
       "metadata": {},
       "output_type": "display_data",
       "text": [
        "<IPython.core.display.Javascript at 0x7f2a92be2cd0>"
       ]
      },
      {
       "javascript": [
        "$('div#ae1516f6-5e19-4df3-ac07-cf68e1f52e55').text('ETA:  0:02:21');"
       ],
       "metadata": {},
       "output_type": "display_data",
       "text": [
        "<IPython.core.display.Javascript at 0x7f2a92be2a10>"
       ]
      },
      {
       "javascript": [
        "$('div#85400189-6928-448f-a97c-883694aea79a').text(' 60%');"
       ],
       "metadata": {},
       "output_type": "display_data",
       "text": [
        "<IPython.core.display.Javascript at 0x7f2a92be2610>"
       ]
      },
      {
       "javascript": [
        "\n",
        "        var $myPB = $(\"div#73d29a16-56e5-4057-bc7d-518521da0697\")\n",
        "        if ($myPB.hasClass('ui-progressbar')) {\n",
        "            $myPB.progressbar('value', 339590);\n",
        "        } else {\n",
        "            $myPB.progressbar({value: 0, max: 565516});\n",
        "        }\n",
        "        "
       ],
       "metadata": {},
       "output_type": "display_data",
       "text": [
        "<IPython.core.display.Javascript at 0x7f2a92beaf90>"
       ]
      },
      {
       "javascript": [
        "$('div#ae1516f6-5e19-4df3-ac07-cf68e1f52e55').text('ETA:  0:02:20');"
       ],
       "metadata": {},
       "output_type": "display_data",
       "text": [
        "<IPython.core.display.Javascript at 0x7f2a92beaf50>"
       ]
      },
      {
       "javascript": [
        "$('div#85400189-6928-448f-a97c-883694aea79a').text(' 60%');"
       ],
       "metadata": {},
       "output_type": "display_data",
       "text": [
        "<IPython.core.display.Javascript at 0x7f2a92be26d0>"
       ]
      },
      {
       "javascript": [
        "\n",
        "        var $myPB = $(\"div#73d29a16-56e5-4057-bc7d-518521da0697\")\n",
        "        if ($myPB.hasClass('ui-progressbar')) {\n",
        "            $myPB.progressbar('value', 341489);\n",
        "        } else {\n",
        "            $myPB.progressbar({value: 0, max: 565516});\n",
        "        }\n",
        "        "
       ],
       "metadata": {},
       "output_type": "display_data",
       "text": [
        "<IPython.core.display.Javascript at 0x7f2a92beae90>"
       ]
      },
      {
       "javascript": [
        "$('div#ae1516f6-5e19-4df3-ac07-cf68e1f52e55').text('ETA:  0:02:18');"
       ],
       "metadata": {},
       "output_type": "display_data",
       "text": [
        "<IPython.core.display.Javascript at 0x7f2a92beafd0>"
       ]
      },
      {
       "javascript": [
        "$('div#85400189-6928-448f-a97c-883694aea79a').text(' 60%');"
       ],
       "metadata": {},
       "output_type": "display_data",
       "text": [
        "<IPython.core.display.Javascript at 0x7f2a92beabd0>"
       ]
      },
      {
       "javascript": [
        "\n",
        "        var $myPB = $(\"div#73d29a16-56e5-4057-bc7d-518521da0697\")\n",
        "        if ($myPB.hasClass('ui-progressbar')) {\n",
        "            $myPB.progressbar('value', 342848);\n",
        "        } else {\n",
        "            $myPB.progressbar({value: 0, max: 565516});\n",
        "        }\n",
        "        "
       ],
       "metadata": {},
       "output_type": "display_data",
       "text": [
        "<IPython.core.display.Javascript at 0x7f2a92beaa90>"
       ]
      },
      {
       "javascript": [
        "$('div#ae1516f6-5e19-4df3-ac07-cf68e1f52e55').text('ETA:  0:02:17');"
       ],
       "metadata": {},
       "output_type": "display_data",
       "text": [
        "<IPython.core.display.Javascript at 0x7f2a92beaa50>"
       ]
      },
      {
       "javascript": [
        "$('div#85400189-6928-448f-a97c-883694aea79a').text(' 60%');"
       ],
       "metadata": {},
       "output_type": "display_data",
       "text": [
        "<IPython.core.display.Javascript at 0x7f2a92bea250>"
       ]
      },
      {
       "javascript": [
        "\n",
        "        var $myPB = $(\"div#73d29a16-56e5-4057-bc7d-518521da0697\")\n",
        "        if ($myPB.hasClass('ui-progressbar')) {\n",
        "            $myPB.progressbar('value', 343339);\n",
        "        } else {\n",
        "            $myPB.progressbar({value: 0, max: 565516});\n",
        "        }\n",
        "        "
       ],
       "metadata": {},
       "output_type": "display_data",
       "text": [
        "<IPython.core.display.Javascript at 0x7f2a9ae93d10>"
       ]
      },
      {
       "javascript": [
        "$('div#ae1516f6-5e19-4df3-ac07-cf68e1f52e55').text('ETA:  0:02:18');"
       ],
       "metadata": {},
       "output_type": "display_data",
       "text": [
        "<IPython.core.display.Javascript at 0x7f2a92bea290>"
       ]
      },
      {
       "javascript": [
        "$('div#85400189-6928-448f-a97c-883694aea79a').text(' 60%');"
       ],
       "metadata": {},
       "output_type": "display_data",
       "text": [
        "<IPython.core.display.Javascript at 0x7f2a95475ed0>"
       ]
      },
      {
       "javascript": [
        "\n",
        "        var $myPB = $(\"div#73d29a16-56e5-4057-bc7d-518521da0697\")\n",
        "        if ($myPB.hasClass('ui-progressbar')) {\n",
        "            $myPB.progressbar('value', 343907);\n",
        "        } else {\n",
        "            $myPB.progressbar({value: 0, max: 565516});\n",
        "        }\n",
        "        "
       ],
       "metadata": {},
       "output_type": "display_data",
       "text": [
        "<IPython.core.display.Javascript at 0x7f2a95475bd0>"
       ]
      },
      {
       "javascript": [
        "$('div#ae1516f6-5e19-4df3-ac07-cf68e1f52e55').text('ETA:  0:02:18');"
       ],
       "metadata": {},
       "output_type": "display_data",
       "text": [
        "<IPython.core.display.Javascript at 0x7f2a95475b50>"
       ]
      },
      {
       "javascript": [
        "$('div#85400189-6928-448f-a97c-883694aea79a').text(' 60%');"
       ],
       "metadata": {},
       "output_type": "display_data",
       "text": [
        "<IPython.core.display.Javascript at 0x7f2a995db1d0>"
       ]
      },
      {
       "javascript": [
        "\n",
        "        var $myPB = $(\"div#73d29a16-56e5-4057-bc7d-518521da0697\")\n",
        "        if ($myPB.hasClass('ui-progressbar')) {\n",
        "            $myPB.progressbar('value', 344546);\n",
        "        } else {\n",
        "            $myPB.progressbar({value: 0, max: 565516});\n",
        "        }\n",
        "        "
       ],
       "metadata": {},
       "output_type": "display_data",
       "text": [
        "<IPython.core.display.Javascript at 0x7f2a995db050>"
       ]
      },
      {
       "javascript": [
        "$('div#ae1516f6-5e19-4df3-ac07-cf68e1f52e55').text('ETA:  0:02:18');"
       ],
       "metadata": {},
       "output_type": "display_data",
       "text": [
        "<IPython.core.display.Javascript at 0x7f2a995db190>"
       ]
      },
      {
       "javascript": [
        "$('div#85400189-6928-448f-a97c-883694aea79a').text(' 61%');"
       ],
       "metadata": {},
       "output_type": "display_data",
       "text": [
        "<IPython.core.display.Javascript at 0x7f2a995dbad0>"
       ]
      },
      {
       "javascript": [
        "\n",
        "        var $myPB = $(\"div#73d29a16-56e5-4057-bc7d-518521da0697\")\n",
        "        if ($myPB.hasClass('ui-progressbar')) {\n",
        "            $myPB.progressbar('value', 345417);\n",
        "        } else {\n",
        "            $myPB.progressbar({value: 0, max: 565516});\n",
        "        }\n",
        "        "
       ],
       "metadata": {},
       "output_type": "display_data",
       "text": [
        "<IPython.core.display.Javascript at 0x7f2a995dbc90>"
       ]
      },
      {
       "javascript": [
        "$('div#ae1516f6-5e19-4df3-ac07-cf68e1f52e55').text('ETA:  0:02:17');"
       ],
       "metadata": {},
       "output_type": "display_data",
       "text": [
        "<IPython.core.display.Javascript at 0x7f2a995dbcd0>"
       ]
      },
      {
       "javascript": [
        "$('div#85400189-6928-448f-a97c-883694aea79a').text(' 61%');"
       ],
       "metadata": {},
       "output_type": "display_data",
       "text": [
        "<IPython.core.display.Javascript at 0x7f2a92b76550>"
       ]
      },
      {
       "javascript": [
        "\n",
        "        var $myPB = $(\"div#73d29a16-56e5-4057-bc7d-518521da0697\")\n",
        "        if ($myPB.hasClass('ui-progressbar')) {\n",
        "            $myPB.progressbar('value', 345548);\n",
        "        } else {\n",
        "            $myPB.progressbar({value: 0, max: 565516});\n",
        "        }\n",
        "        "
       ],
       "metadata": {},
       "output_type": "display_data",
       "text": [
        "<IPython.core.display.Javascript at 0x7f2a92b76650>"
       ]
      },
      {
       "javascript": [
        "$('div#ae1516f6-5e19-4df3-ac07-cf68e1f52e55').text('ETA:  0:02:18');"
       ],
       "metadata": {},
       "output_type": "display_data",
       "text": [
        "<IPython.core.display.Javascript at 0x7f2a92b76690>"
       ]
      },
      {
       "javascript": [
        "$('div#85400189-6928-448f-a97c-883694aea79a').text(' 61%');"
       ],
       "metadata": {},
       "output_type": "display_data",
       "text": [
        "<IPython.core.display.Javascript at 0x7f2a92b76f10>"
       ]
      },
      {
       "javascript": [
        "\n",
        "        var $myPB = $(\"div#73d29a16-56e5-4057-bc7d-518521da0697\")\n",
        "        if ($myPB.hasClass('ui-progressbar')) {\n",
        "            $myPB.progressbar('value', 345682);\n",
        "        } else {\n",
        "            $myPB.progressbar({value: 0, max: 565516});\n",
        "        }\n",
        "        "
       ],
       "metadata": {},
       "output_type": "display_data",
       "text": [
        "<IPython.core.display.Javascript at 0x7f2a92be4090>"
       ]
      },
      {
       "javascript": [
        "$('div#ae1516f6-5e19-4df3-ac07-cf68e1f52e55').text('ETA:  0:02:18');"
       ],
       "metadata": {},
       "output_type": "display_data",
       "text": [
        "<IPython.core.display.Javascript at 0x7f2a92be40d0>"
       ]
      },
      {
       "javascript": [
        "$('div#85400189-6928-448f-a97c-883694aea79a').text(' 61%');"
       ],
       "metadata": {},
       "output_type": "display_data",
       "text": [
        "<IPython.core.display.Javascript at 0x7f2a92be4a10>"
       ]
      },
      {
       "javascript": [
        "\n",
        "        var $myPB = $(\"div#73d29a16-56e5-4057-bc7d-518521da0697\")\n",
        "        if ($myPB.hasClass('ui-progressbar')) {\n",
        "            $myPB.progressbar('value', 345826);\n",
        "        } else {\n",
        "            $myPB.progressbar({value: 0, max: 565516});\n",
        "        }\n",
        "        "
       ],
       "metadata": {},
       "output_type": "display_data",
       "text": [
        "<IPython.core.display.Javascript at 0x7f2a92be4a90>"
       ]
      },
      {
       "javascript": [
        "$('div#ae1516f6-5e19-4df3-ac07-cf68e1f52e55').text('ETA:  0:02:19');"
       ],
       "metadata": {},
       "output_type": "display_data",
       "text": [
        "<IPython.core.display.Javascript at 0x7f2a92be4ad0>"
       ]
      },
      {
       "javascript": [
        "$('div#85400189-6928-448f-a97c-883694aea79a').text(' 61%');"
       ],
       "metadata": {},
       "output_type": "display_data",
       "text": [
        "<IPython.core.display.Javascript at 0x7f2a92abe390>"
       ]
      },
      {
       "javascript": [
        "\n",
        "        var $myPB = $(\"div#73d29a16-56e5-4057-bc7d-518521da0697\")\n",
        "        if ($myPB.hasClass('ui-progressbar')) {\n",
        "            $myPB.progressbar('value', 346009);\n",
        "        } else {\n",
        "            $myPB.progressbar({value: 0, max: 565516});\n",
        "        }\n",
        "        "
       ],
       "metadata": {},
       "output_type": "display_data",
       "text": [
        "<IPython.core.display.Javascript at 0x7f2a92abe410>"
       ]
      },
      {
       "javascript": [
        "$('div#ae1516f6-5e19-4df3-ac07-cf68e1f52e55').text('ETA:  0:02:19');"
       ],
       "metadata": {},
       "output_type": "display_data",
       "text": [
        "<IPython.core.display.Javascript at 0x7f2a92abe450>"
       ]
      },
      {
       "javascript": [
        "$('div#85400189-6928-448f-a97c-883694aea79a').text(' 61%');"
       ],
       "metadata": {},
       "output_type": "display_data",
       "text": [
        "<IPython.core.display.Javascript at 0x7f2a92abe5d0>"
       ]
      },
      {
       "javascript": [
        "\n",
        "        var $myPB = $(\"div#73d29a16-56e5-4057-bc7d-518521da0697\")\n",
        "        if ($myPB.hasClass('ui-progressbar')) {\n",
        "            $myPB.progressbar('value', 347709);\n",
        "        } else {\n",
        "            $myPB.progressbar({value: 0, max: 565516});\n",
        "        }\n",
        "        "
       ],
       "metadata": {},
       "output_type": "display_data",
       "text": [
        "<IPython.core.display.Javascript at 0x7f2a92abe6d0>"
       ]
      },
      {
       "javascript": [
        "$('div#ae1516f6-5e19-4df3-ac07-cf68e1f52e55').text('ETA:  0:02:18');"
       ],
       "metadata": {},
       "output_type": "display_data",
       "text": [
        "<IPython.core.display.Javascript at 0x7f2a92abe710>"
       ]
      },
      {
       "javascript": [
        "$('div#85400189-6928-448f-a97c-883694aea79a').text(' 61%');"
       ],
       "metadata": {},
       "output_type": "display_data",
       "text": [
        "<IPython.core.display.Javascript at 0x7f2a92abea50>"
       ]
      },
      {
       "javascript": [
        "\n",
        "        var $myPB = $(\"div#73d29a16-56e5-4057-bc7d-518521da0697\")\n",
        "        if ($myPB.hasClass('ui-progressbar')) {\n",
        "            $myPB.progressbar('value', 349237);\n",
        "        } else {\n",
        "            $myPB.progressbar({value: 0, max: 565516});\n",
        "        }\n",
        "        "
       ],
       "metadata": {},
       "output_type": "display_data",
       "text": [
        "<IPython.core.display.Javascript at 0x7f2a92abead0>"
       ]
      },
      {
       "javascript": [
        "$('div#ae1516f6-5e19-4df3-ac07-cf68e1f52e55').text('ETA:  0:02:17');"
       ],
       "metadata": {},
       "output_type": "display_data",
       "text": [
        "<IPython.core.display.Javascript at 0x7f2a92abeb10>"
       ]
      },
      {
       "javascript": [
        "$('div#85400189-6928-448f-a97c-883694aea79a').text(' 62%');"
       ],
       "metadata": {},
       "output_type": "display_data",
       "text": [
        "<IPython.core.display.Javascript at 0x7f2a92abe9d0>"
       ]
      },
      {
       "javascript": [
        "\n",
        "        var $myPB = $(\"div#73d29a16-56e5-4057-bc7d-518521da0697\")\n",
        "        if ($myPB.hasClass('ui-progressbar')) {\n",
        "            $myPB.progressbar('value', 351179);\n",
        "        } else {\n",
        "            $myPB.progressbar({value: 0, max: 565516});\n",
        "        }\n",
        "        "
       ],
       "metadata": {},
       "output_type": "display_data",
       "text": [
        "<IPython.core.display.Javascript at 0x7f2a92abec50>"
       ]
      },
      {
       "javascript": [
        "$('div#ae1516f6-5e19-4df3-ac07-cf68e1f52e55').text('ETA:  0:02:16');"
       ],
       "metadata": {},
       "output_type": "display_data",
       "text": [
        "<IPython.core.display.Javascript at 0x7f2a92abebd0>"
       ]
      },
      {
       "javascript": [
        "$('div#85400189-6928-448f-a97c-883694aea79a').text(' 62%');"
       ],
       "metadata": {},
       "output_type": "display_data",
       "text": [
        "<IPython.core.display.Javascript at 0x7f2a92b28050>"
       ]
      },
      {
       "javascript": [
        "\n",
        "        var $myPB = $(\"div#73d29a16-56e5-4057-bc7d-518521da0697\")\n",
        "        if ($myPB.hasClass('ui-progressbar')) {\n",
        "            $myPB.progressbar('value', 352699);\n",
        "        } else {\n",
        "            $myPB.progressbar({value: 0, max: 565516});\n",
        "        }\n",
        "        "
       ],
       "metadata": {},
       "output_type": "display_data",
       "text": [
        "<IPython.core.display.Javascript at 0x7f2a92b28090>"
       ]
      },
      {
       "javascript": [
        "$('div#ae1516f6-5e19-4df3-ac07-cf68e1f52e55').text('ETA:  0:02:15');"
       ],
       "metadata": {},
       "output_type": "display_data",
       "text": [
        "<IPython.core.display.Javascript at 0x7f2a92b280d0>"
       ]
      },
      {
       "javascript": [
        "$('div#85400189-6928-448f-a97c-883694aea79a').text(' 62%');"
       ],
       "metadata": {},
       "output_type": "display_data",
       "text": [
        "<IPython.core.display.Javascript at 0x7f2a92b28610>"
       ]
      },
      {
       "javascript": [
        "\n",
        "        var $myPB = $(\"div#73d29a16-56e5-4057-bc7d-518521da0697\")\n",
        "        if ($myPB.hasClass('ui-progressbar')) {\n",
        "            $myPB.progressbar('value', 354048);\n",
        "        } else {\n",
        "            $myPB.progressbar({value: 0, max: 565516});\n",
        "        }\n",
        "        "
       ],
       "metadata": {},
       "output_type": "display_data",
       "text": [
        "<IPython.core.display.Javascript at 0x7f2a92b28690>"
       ]
      },
      {
       "javascript": [
        "$('div#ae1516f6-5e19-4df3-ac07-cf68e1f52e55').text('ETA:  0:02:14');"
       ],
       "metadata": {},
       "output_type": "display_data",
       "text": [
        "<IPython.core.display.Javascript at 0x7f2a92b286d0>"
       ]
      },
      {
       "javascript": [
        "$('div#85400189-6928-448f-a97c-883694aea79a').text(' 62%');"
       ],
       "metadata": {},
       "output_type": "display_data",
       "text": [
        "<IPython.core.display.Javascript at 0x7f2a92b28d10>"
       ]
      },
      {
       "javascript": [
        "\n",
        "        var $myPB = $(\"div#73d29a16-56e5-4057-bc7d-518521da0697\")\n",
        "        if ($myPB.hasClass('ui-progressbar')) {\n",
        "            $myPB.progressbar('value', 355146);\n",
        "        } else {\n",
        "            $myPB.progressbar({value: 0, max: 565516});\n",
        "        }\n",
        "        "
       ],
       "metadata": {},
       "output_type": "display_data",
       "text": [
        "<IPython.core.display.Javascript at 0x7f2a92b28d90>"
       ]
      },
      {
       "javascript": [
        "$('div#ae1516f6-5e19-4df3-ac07-cf68e1f52e55').text('ETA:  0:02:14');"
       ],
       "metadata": {},
       "output_type": "display_data",
       "text": [
        "<IPython.core.display.Javascript at 0x7f2a92b28dd0>"
       ]
      },
      {
       "javascript": [
        "$('div#85400189-6928-448f-a97c-883694aea79a').text(' 63%');"
       ],
       "metadata": {},
       "output_type": "display_data",
       "text": [
        "<IPython.core.display.Javascript at 0x7f2a92b30350>"
       ]
      },
      {
       "javascript": [
        "\n",
        "        var $myPB = $(\"div#73d29a16-56e5-4057-bc7d-518521da0697\")\n",
        "        if ($myPB.hasClass('ui-progressbar')) {\n",
        "            $myPB.progressbar('value', 356388);\n",
        "        } else {\n",
        "            $myPB.progressbar({value: 0, max: 565516});\n",
        "        }\n",
        "        "
       ],
       "metadata": {},
       "output_type": "display_data",
       "text": [
        "<IPython.core.display.Javascript at 0x7f2a92b303d0>"
       ]
      },
      {
       "javascript": [
        "$('div#ae1516f6-5e19-4df3-ac07-cf68e1f52e55').text('ETA:  0:02:13');"
       ],
       "metadata": {},
       "output_type": "display_data",
       "text": [
        "<IPython.core.display.Javascript at 0x7f2a92b30410>"
       ]
      },
      {
       "javascript": [
        "$('div#85400189-6928-448f-a97c-883694aea79a').text(' 63%');"
       ],
       "metadata": {},
       "output_type": "display_data",
       "text": [
        "<IPython.core.display.Javascript at 0x7f2a92b30e50>"
       ]
      },
      {
       "javascript": [
        "\n",
        "        var $myPB = $(\"div#73d29a16-56e5-4057-bc7d-518521da0697\")\n",
        "        if ($myPB.hasClass('ui-progressbar')) {\n",
        "            $myPB.progressbar('value', 356833);\n",
        "        } else {\n",
        "            $myPB.progressbar({value: 0, max: 565516});\n",
        "        }\n",
        "        "
       ],
       "metadata": {},
       "output_type": "display_data",
       "text": [
        "<IPython.core.display.Javascript at 0x7f2a92b30ed0>"
       ]
      },
      {
       "javascript": [
        "$('div#ae1516f6-5e19-4df3-ac07-cf68e1f52e55').text('ETA:  0:02:13');"
       ],
       "metadata": {},
       "output_type": "display_data",
       "text": [
        "<IPython.core.display.Javascript at 0x7f2a92b30f10>"
       ]
      },
      {
       "javascript": [
        "$('div#85400189-6928-448f-a97c-883694aea79a').text(' 63%');"
       ],
       "metadata": {},
       "output_type": "display_data",
       "text": [
        "<IPython.core.display.Javascript at 0x7f2a995c3990>"
       ]
      },
      {
       "javascript": [
        "\n",
        "        var $myPB = $(\"div#73d29a16-56e5-4057-bc7d-518521da0697\")\n",
        "        if ($myPB.hasClass('ui-progressbar')) {\n",
        "            $myPB.progressbar('value', 357212);\n",
        "        } else {\n",
        "            $myPB.progressbar({value: 0, max: 565516});\n",
        "        }\n",
        "        "
       ],
       "metadata": {},
       "output_type": "display_data",
       "text": [
        "<IPython.core.display.Javascript at 0x7f2a995c3a10>"
       ]
      },
      {
       "javascript": [
        "$('div#ae1516f6-5e19-4df3-ac07-cf68e1f52e55').text('ETA:  0:02:13');"
       ],
       "metadata": {},
       "output_type": "display_data",
       "text": [
        "<IPython.core.display.Javascript at 0x7f2a995c3a50>"
       ]
      },
      {
       "javascript": [
        "$('div#85400189-6928-448f-a97c-883694aea79a').text(' 63%');"
       ],
       "metadata": {},
       "output_type": "display_data",
       "text": [
        "<IPython.core.display.Javascript at 0x7f2a995c3810>"
       ]
      },
      {
       "javascript": [
        "\n",
        "        var $myPB = $(\"div#73d29a16-56e5-4057-bc7d-518521da0697\")\n",
        "        if ($myPB.hasClass('ui-progressbar')) {\n",
        "            $myPB.progressbar('value', 359310);\n",
        "        } else {\n",
        "            $myPB.progressbar({value: 0, max: 565516});\n",
        "        }\n",
        "        "
       ],
       "metadata": {},
       "output_type": "display_data",
       "text": [
        "<IPython.core.display.Javascript at 0x7f2a995c3b50>"
       ]
      },
      {
       "javascript": [
        "$('div#ae1516f6-5e19-4df3-ac07-cf68e1f52e55').text('ETA:  0:02:12');"
       ],
       "metadata": {},
       "output_type": "display_data",
       "text": [
        "<IPython.core.display.Javascript at 0x7f2a995c3b90>"
       ]
      },
      {
       "javascript": [
        "$('div#85400189-6928-448f-a97c-883694aea79a').text(' 63%');"
       ],
       "metadata": {},
       "output_type": "display_data",
       "text": [
        "<IPython.core.display.Javascript at 0x7f2a995c3910>"
       ]
      },
      {
       "javascript": [
        "\n",
        "        var $myPB = $(\"div#73d29a16-56e5-4057-bc7d-518521da0697\")\n",
        "        if ($myPB.hasClass('ui-progressbar')) {\n",
        "            $myPB.progressbar('value', 361423);\n",
        "        } else {\n",
        "            $myPB.progressbar({value: 0, max: 565516});\n",
        "        }\n",
        "        "
       ],
       "metadata": {},
       "output_type": "display_data",
       "text": [
        "<IPython.core.display.Javascript at 0x7f2a995c3c50>"
       ]
      },
      {
       "javascript": [
        "$('div#ae1516f6-5e19-4df3-ac07-cf68e1f52e55').text('ETA:  0:02:10');"
       ],
       "metadata": {},
       "output_type": "display_data",
       "text": [
        "<IPython.core.display.Javascript at 0x7f2a995c3c90>"
       ]
      },
      {
       "javascript": [
        "$('div#85400189-6928-448f-a97c-883694aea79a').text(' 63%');"
       ],
       "metadata": {},
       "output_type": "display_data",
       "text": [
        "<IPython.core.display.Javascript at 0x7f2a995b9550>"
       ]
      },
      {
       "javascript": [
        "\n",
        "        var $myPB = $(\"div#73d29a16-56e5-4057-bc7d-518521da0697\")\n",
        "        if ($myPB.hasClass('ui-progressbar')) {\n",
        "            $myPB.progressbar('value', 361870);\n",
        "        } else {\n",
        "            $myPB.progressbar({value: 0, max: 565516});\n",
        "        }\n",
        "        "
       ],
       "metadata": {},
       "output_type": "display_data",
       "text": [
        "<IPython.core.display.Javascript at 0x7f2a995b9690>"
       ]
      },
      {
       "javascript": [
        "$('div#ae1516f6-5e19-4df3-ac07-cf68e1f52e55').text('ETA:  0:02:10');"
       ],
       "metadata": {},
       "output_type": "display_data",
       "text": [
        "<IPython.core.display.Javascript at 0x7f2a995b96d0>"
       ]
      },
      {
       "javascript": [
        "$('div#85400189-6928-448f-a97c-883694aea79a').text(' 64%');"
       ],
       "metadata": {},
       "output_type": "display_data",
       "text": [
        "<IPython.core.display.Javascript at 0x7f2a99734210>"
       ]
      },
      {
       "javascript": [
        "\n",
        "        var $myPB = $(\"div#73d29a16-56e5-4057-bc7d-518521da0697\")\n",
        "        if ($myPB.hasClass('ui-progressbar')) {\n",
        "            $myPB.progressbar('value', 362097);\n",
        "        } else {\n",
        "            $myPB.progressbar({value: 0, max: 565516});\n",
        "        }\n",
        "        "
       ],
       "metadata": {},
       "output_type": "display_data",
       "text": [
        "<IPython.core.display.Javascript at 0x7f2a99734290>"
       ]
      },
      {
       "javascript": [
        "$('div#ae1516f6-5e19-4df3-ac07-cf68e1f52e55').text('ETA:  0:02:11');"
       ],
       "metadata": {},
       "output_type": "display_data",
       "text": [
        "<IPython.core.display.Javascript at 0x7f2a997342d0>"
       ]
      },
      {
       "javascript": [
        "$('div#85400189-6928-448f-a97c-883694aea79a').text(' 64%');"
       ],
       "metadata": {},
       "output_type": "display_data",
       "text": [
        "<IPython.core.display.Javascript at 0x7f2a99734990>"
       ]
      },
      {
       "javascript": [
        "\n",
        "        var $myPB = $(\"div#73d29a16-56e5-4057-bc7d-518521da0697\")\n",
        "        if ($myPB.hasClass('ui-progressbar')) {\n",
        "            $myPB.progressbar('value', 362862);\n",
        "        } else {\n",
        "            $myPB.progressbar({value: 0, max: 565516});\n",
        "        }\n",
        "        "
       ],
       "metadata": {},
       "output_type": "display_data",
       "text": [
        "<IPython.core.display.Javascript at 0x7f2a99734ad0>"
       ]
      },
      {
       "javascript": [
        "$('div#ae1516f6-5e19-4df3-ac07-cf68e1f52e55').text('ETA:  0:02:11');"
       ],
       "metadata": {},
       "output_type": "display_data",
       "text": [
        "<IPython.core.display.Javascript at 0x7f2a99734b10>"
       ]
      },
      {
       "javascript": [
        "$('div#85400189-6928-448f-a97c-883694aea79a').text(' 64%');"
       ],
       "metadata": {},
       "output_type": "display_data",
       "text": [
        "<IPython.core.display.Javascript at 0x7f2a99734d10>"
       ]
      },
      {
       "javascript": [
        "\n",
        "        var $myPB = $(\"div#73d29a16-56e5-4057-bc7d-518521da0697\")\n",
        "        if ($myPB.hasClass('ui-progressbar')) {\n",
        "            $myPB.progressbar('value', 364695);\n",
        "        } else {\n",
        "            $myPB.progressbar({value: 0, max: 565516});\n",
        "        }\n",
        "        "
       ],
       "metadata": {},
       "output_type": "display_data",
       "text": [
        "<IPython.core.display.Javascript at 0x7f2a99734d90>"
       ]
      },
      {
       "javascript": [
        "$('div#ae1516f6-5e19-4df3-ac07-cf68e1f52e55').text('ETA:  0:02:09');"
       ],
       "metadata": {},
       "output_type": "display_data",
       "text": [
        "<IPython.core.display.Javascript at 0x7f2a99734dd0>"
       ]
      },
      {
       "javascript": [
        "$('div#85400189-6928-448f-a97c-883694aea79a').text(' 64%');"
       ],
       "metadata": {},
       "output_type": "display_data",
       "text": [
        "<IPython.core.display.Javascript at 0x7f2a99734e90>"
       ]
      },
      {
       "javascript": [
        "\n",
        "        var $myPB = $(\"div#73d29a16-56e5-4057-bc7d-518521da0697\")\n",
        "        if ($myPB.hasClass('ui-progressbar')) {\n",
        "            $myPB.progressbar('value', 366621);\n",
        "        } else {\n",
        "            $myPB.progressbar({value: 0, max: 565516});\n",
        "        }\n",
        "        "
       ],
       "metadata": {},
       "output_type": "display_data",
       "text": [
        "<IPython.core.display.Javascript at 0x7f2a99734f90>"
       ]
      },
      {
       "javascript": [
        "$('div#ae1516f6-5e19-4df3-ac07-cf68e1f52e55').text('ETA:  0:02:08');"
       ],
       "metadata": {},
       "output_type": "display_data",
       "text": [
        "<IPython.core.display.Javascript at 0x7f2a99734fd0>"
       ]
      },
      {
       "javascript": [
        "$('div#85400189-6928-448f-a97c-883694aea79a').text(' 65%');"
       ],
       "metadata": {},
       "output_type": "display_data",
       "text": [
        "<IPython.core.display.Javascript at 0x7f2a99738050>"
       ]
      },
      {
       "javascript": [
        "\n",
        "        var $myPB = $(\"div#73d29a16-56e5-4057-bc7d-518521da0697\")\n",
        "        if ($myPB.hasClass('ui-progressbar')) {\n",
        "            $myPB.progressbar('value', 368863);\n",
        "        } else {\n",
        "            $myPB.progressbar({value: 0, max: 565516});\n",
        "        }\n",
        "        "
       ],
       "metadata": {},
       "output_type": "display_data",
       "text": [
        "<IPython.core.display.Javascript at 0x7f2a99738110>"
       ]
      },
      {
       "javascript": [
        "$('div#ae1516f6-5e19-4df3-ac07-cf68e1f52e55').text('ETA:  0:02:06');"
       ],
       "metadata": {},
       "output_type": "display_data",
       "text": [
        "<IPython.core.display.Javascript at 0x7f2a99738150>"
       ]
      },
      {
       "javascript": [
        "$('div#85400189-6928-448f-a97c-883694aea79a').text(' 65%');"
       ],
       "metadata": {},
       "output_type": "display_data",
       "text": [
        "<IPython.core.display.Javascript at 0x7f2a997381d0>"
       ]
      },
      {
       "javascript": [
        "\n",
        "        var $myPB = $(\"div#73d29a16-56e5-4057-bc7d-518521da0697\")\n",
        "        if ($myPB.hasClass('ui-progressbar')) {\n",
        "            $myPB.progressbar('value', 370505);\n",
        "        } else {\n",
        "            $myPB.progressbar({value: 0, max: 565516});\n",
        "        }\n",
        "        "
       ],
       "metadata": {},
       "output_type": "display_data",
       "text": [
        "<IPython.core.display.Javascript at 0x7f2a99738310>"
       ]
      },
      {
       "javascript": [
        "$('div#ae1516f6-5e19-4df3-ac07-cf68e1f52e55').text('ETA:  0:02:05');"
       ],
       "metadata": {},
       "output_type": "display_data",
       "text": [
        "<IPython.core.display.Javascript at 0x7f2a99738350>"
       ]
      },
      {
       "javascript": [
        "$('div#85400189-6928-448f-a97c-883694aea79a').text(' 65%');"
       ],
       "metadata": {},
       "output_type": "display_data",
       "text": [
        "<IPython.core.display.Javascript at 0x7f2a99738410>"
       ]
      },
      {
       "javascript": [
        "\n",
        "        var $myPB = $(\"div#73d29a16-56e5-4057-bc7d-518521da0697\")\n",
        "        if ($myPB.hasClass('ui-progressbar')) {\n",
        "            $myPB.progressbar('value', 372396);\n",
        "        } else {\n",
        "            $myPB.progressbar({value: 0, max: 565516});\n",
        "        }\n",
        "        "
       ],
       "metadata": {},
       "output_type": "display_data",
       "text": [
        "<IPython.core.display.Javascript at 0x7f2a99738510>"
       ]
      },
      {
       "javascript": [
        "$('div#ae1516f6-5e19-4df3-ac07-cf68e1f52e55').text('ETA:  0:02:04');"
       ],
       "metadata": {},
       "output_type": "display_data",
       "text": [
        "<IPython.core.display.Javascript at 0x7f2a99738550>"
       ]
      },
      {
       "javascript": [
        "$('div#85400189-6928-448f-a97c-883694aea79a').text(' 66%');"
       ],
       "metadata": {},
       "output_type": "display_data",
       "text": [
        "<IPython.core.display.Javascript at 0x7f2a99738b50>"
       ]
      },
      {
       "javascript": [
        "\n",
        "        var $myPB = $(\"div#73d29a16-56e5-4057-bc7d-518521da0697\")\n",
        "        if ($myPB.hasClass('ui-progressbar')) {\n",
        "            $myPB.progressbar('value', 373527);\n",
        "        } else {\n",
        "            $myPB.progressbar({value: 0, max: 565516});\n",
        "        }\n",
        "        "
       ],
       "metadata": {},
       "output_type": "display_data",
       "text": [
        "<IPython.core.display.Javascript at 0x7f2a99738bd0>"
       ]
      },
      {
       "javascript": [
        "$('div#ae1516f6-5e19-4df3-ac07-cf68e1f52e55').text('ETA:  0:02:03');"
       ],
       "metadata": {},
       "output_type": "display_data",
       "text": [
        "<IPython.core.display.Javascript at 0x7f2a99738c10>"
       ]
      },
      {
       "javascript": [
        "$('div#85400189-6928-448f-a97c-883694aea79a').text(' 66%');"
       ],
       "metadata": {},
       "output_type": "display_data",
       "text": [
        "<IPython.core.display.Javascript at 0x7f2a99735210>"
       ]
      },
      {
       "javascript": [
        "\n",
        "        var $myPB = $(\"div#73d29a16-56e5-4057-bc7d-518521da0697\")\n",
        "        if ($myPB.hasClass('ui-progressbar')) {\n",
        "            $myPB.progressbar('value', 374694);\n",
        "        } else {\n",
        "            $myPB.progressbar({value: 0, max: 565516});\n",
        "        }\n",
        "        "
       ],
       "metadata": {},
       "output_type": "display_data",
       "text": [
        "<IPython.core.display.Javascript at 0x7f2a99735250>"
       ]
      },
      {
       "javascript": [
        "$('div#ae1516f6-5e19-4df3-ac07-cf68e1f52e55').text('ETA:  0:02:03');"
       ],
       "metadata": {},
       "output_type": "display_data",
       "text": [
        "<IPython.core.display.Javascript at 0x7f2a99735290>"
       ]
      },
      {
       "javascript": [
        "$('div#85400189-6928-448f-a97c-883694aea79a').text(' 66%');"
       ],
       "metadata": {},
       "output_type": "display_data",
       "text": [
        "<IPython.core.display.Javascript at 0x7f2a99735510>"
       ]
      },
      {
       "javascript": [
        "\n",
        "        var $myPB = $(\"div#73d29a16-56e5-4057-bc7d-518521da0697\")\n",
        "        if ($myPB.hasClass('ui-progressbar')) {\n",
        "            $myPB.progressbar('value', 376102);\n",
        "        } else {\n",
        "            $myPB.progressbar({value: 0, max: 565516});\n",
        "        }\n",
        "        "
       ],
       "metadata": {},
       "output_type": "display_data",
       "text": [
        "<IPython.core.display.Javascript at 0x7f2a99735590>"
       ]
      },
      {
       "javascript": [
        "$('div#ae1516f6-5e19-4df3-ac07-cf68e1f52e55').text('ETA:  0:02:02');"
       ],
       "metadata": {},
       "output_type": "display_data",
       "text": [
        "<IPython.core.display.Javascript at 0x7f2a997355d0>"
       ]
      },
      {
       "javascript": [
        "$('div#85400189-6928-448f-a97c-883694aea79a').text(' 66%');"
       ],
       "metadata": {},
       "output_type": "display_data",
       "text": [
        "<IPython.core.display.Javascript at 0x7f2a99735e90>"
       ]
      },
      {
       "javascript": [
        "\n",
        "        var $myPB = $(\"div#73d29a16-56e5-4057-bc7d-518521da0697\")\n",
        "        if ($myPB.hasClass('ui-progressbar')) {\n",
        "            $myPB.progressbar('value', 376612);\n",
        "        } else {\n",
        "            $myPB.progressbar({value: 0, max: 565516});\n",
        "        }\n",
        "        "
       ],
       "metadata": {},
       "output_type": "display_data",
       "text": [
        "<IPython.core.display.Javascript at 0x7f2a99735f10>"
       ]
      },
      {
       "javascript": [
        "$('div#ae1516f6-5e19-4df3-ac07-cf68e1f52e55').text('ETA:  0:02:02');"
       ],
       "metadata": {},
       "output_type": "display_data",
       "text": [
        "<IPython.core.display.Javascript at 0x7f2a99735f50>"
       ]
      },
      {
       "javascript": [
        "$('div#85400189-6928-448f-a97c-883694aea79a').text(' 66%');"
       ],
       "metadata": {},
       "output_type": "display_data",
       "text": [
        "<IPython.core.display.Javascript at 0x7f2a9905d650>"
       ]
      },
      {
       "javascript": [
        "\n",
        "        var $myPB = $(\"div#73d29a16-56e5-4057-bc7d-518521da0697\")\n",
        "        if ($myPB.hasClass('ui-progressbar')) {\n",
        "            $myPB.progressbar('value', 376817);\n",
        "        } else {\n",
        "            $myPB.progressbar({value: 0, max: 565516});\n",
        "        }\n",
        "        "
       ],
       "metadata": {},
       "output_type": "display_data",
       "text": [
        "<IPython.core.display.Javascript at 0x7f2a9905d7d0>"
       ]
      },
      {
       "javascript": [
        "$('div#ae1516f6-5e19-4df3-ac07-cf68e1f52e55').text('ETA:  0:02:02');"
       ],
       "metadata": {},
       "output_type": "display_data",
       "text": [
        "<IPython.core.display.Javascript at 0x7f2a9905d810>"
       ]
      },
      {
       "javascript": [
        "$('div#85400189-6928-448f-a97c-883694aea79a').text(' 66%');"
       ],
       "metadata": {},
       "output_type": "display_data",
       "text": [
        "<IPython.core.display.Javascript at 0x7f2a9905f310>"
       ]
      },
      {
       "javascript": [
        "\n",
        "        var $myPB = $(\"div#73d29a16-56e5-4057-bc7d-518521da0697\")\n",
        "        if ($myPB.hasClass('ui-progressbar')) {\n",
        "            $myPB.progressbar('value', 376915);\n",
        "        } else {\n",
        "            $myPB.progressbar({value: 0, max: 565516});\n",
        "        }\n",
        "        "
       ],
       "metadata": {},
       "output_type": "display_data",
       "text": [
        "<IPython.core.display.Javascript at 0x7f2a9905f390>"
       ]
      },
      {
       "javascript": [
        "$('div#ae1516f6-5e19-4df3-ac07-cf68e1f52e55').text('ETA:  0:02:02');"
       ],
       "metadata": {},
       "output_type": "display_data",
       "text": [
        "<IPython.core.display.Javascript at 0x7f2a9905f3d0>"
       ]
      },
      {
       "javascript": [
        "$('div#85400189-6928-448f-a97c-883694aea79a').text(' 66%');"
       ],
       "metadata": {},
       "output_type": "display_data",
       "text": [
        "<IPython.core.display.Javascript at 0x7f2a9905fa90>"
       ]
      },
      {
       "javascript": [
        "\n",
        "        var $myPB = $(\"div#73d29a16-56e5-4057-bc7d-518521da0697\")\n",
        "        if ($myPB.hasClass('ui-progressbar')) {\n",
        "            $myPB.progressbar('value', 377044);\n",
        "        } else {\n",
        "            $myPB.progressbar({value: 0, max: 565516});\n",
        "        }\n",
        "        "
       ],
       "metadata": {},
       "output_type": "display_data",
       "text": [
        "<IPython.core.display.Javascript at 0x7f2a9905fd10>"
       ]
      },
      {
       "javascript": [
        "$('div#ae1516f6-5e19-4df3-ac07-cf68e1f52e55').text('ETA:  0:02:03');"
       ],
       "metadata": {},
       "output_type": "display_data",
       "text": [
        "<IPython.core.display.Javascript at 0x7f2a9905fd50>"
       ]
      },
      {
       "javascript": [
        "$('div#85400189-6928-448f-a97c-883694aea79a').text(' 66%');"
       ],
       "metadata": {},
       "output_type": "display_data",
       "text": [
        "<IPython.core.display.Javascript at 0x7f2a9903f690>"
       ]
      },
      {
       "javascript": [
        "\n",
        "        var $myPB = $(\"div#73d29a16-56e5-4057-bc7d-518521da0697\")\n",
        "        if ($myPB.hasClass('ui-progressbar')) {\n",
        "            $myPB.progressbar('value', 377156);\n",
        "        } else {\n",
        "            $myPB.progressbar({value: 0, max: 565516});\n",
        "        }\n",
        "        "
       ],
       "metadata": {},
       "output_type": "display_data",
       "text": [
        "<IPython.core.display.Javascript at 0x7f2a9903f850>"
       ]
      },
      {
       "javascript": [
        "$('div#ae1516f6-5e19-4df3-ac07-cf68e1f52e55').text('ETA:  0:02:03');"
       ],
       "metadata": {},
       "output_type": "display_data",
       "text": [
        "<IPython.core.display.Javascript at 0x7f2a9903f890>"
       ]
      },
      {
       "javascript": [
        "$('div#85400189-6928-448f-a97c-883694aea79a').text(' 66%');"
       ],
       "metadata": {},
       "output_type": "display_data",
       "text": [
        "<IPython.core.display.Javascript at 0x7f2a994ce190>"
       ]
      },
      {
       "javascript": [
        "\n",
        "        var $myPB = $(\"div#73d29a16-56e5-4057-bc7d-518521da0697\")\n",
        "        if ($myPB.hasClass('ui-progressbar')) {\n",
        "            $myPB.progressbar('value', 377304);\n",
        "        } else {\n",
        "            $myPB.progressbar({value: 0, max: 565516});\n",
        "        }\n",
        "        "
       ],
       "metadata": {},
       "output_type": "display_data",
       "text": [
        "<IPython.core.display.Javascript at 0x7f2a994ce210>"
       ]
      },
      {
       "javascript": [
        "$('div#ae1516f6-5e19-4df3-ac07-cf68e1f52e55').text('ETA:  0:02:04');"
       ],
       "metadata": {},
       "output_type": "display_data",
       "text": [
        "<IPython.core.display.Javascript at 0x7f2a994ce250>"
       ]
      },
      {
       "javascript": [
        "$('div#85400189-6928-448f-a97c-883694aea79a').text(' 67%');"
       ],
       "metadata": {},
       "output_type": "display_data",
       "text": [
        "<IPython.core.display.Javascript at 0x7f2a994ce350>"
       ]
      },
      {
       "javascript": [
        "\n",
        "        var $myPB = $(\"div#73d29a16-56e5-4057-bc7d-518521da0697\")\n",
        "        if ($myPB.hasClass('ui-progressbar')) {\n",
        "            $myPB.progressbar('value', 379184);\n",
        "        } else {\n",
        "            $myPB.progressbar({value: 0, max: 565516});\n",
        "        }\n",
        "        "
       ],
       "metadata": {},
       "output_type": "display_data",
       "text": [
        "<IPython.core.display.Javascript at 0x7f2a994ce310>"
       ]
      },
      {
       "javascript": [
        "$('div#ae1516f6-5e19-4df3-ac07-cf68e1f52e55').text('ETA:  0:02:02');"
       ],
       "metadata": {},
       "output_type": "display_data",
       "text": [
        "<IPython.core.display.Javascript at 0x7f2a994ce3d0>"
       ]
      },
      {
       "javascript": [
        "$('div#85400189-6928-448f-a97c-883694aea79a').text(' 67%');"
       ],
       "metadata": {},
       "output_type": "display_data",
       "text": [
        "<IPython.core.display.Javascript at 0x7f2a994cead0>"
       ]
      },
      {
       "javascript": [
        "\n",
        "        var $myPB = $(\"div#73d29a16-56e5-4057-bc7d-518521da0697\")\n",
        "        if ($myPB.hasClass('ui-progressbar')) {\n",
        "            $myPB.progressbar('value', 379352);\n",
        "        } else {\n",
        "            $myPB.progressbar({value: 0, max: 565516});\n",
        "        }\n",
        "        "
       ],
       "metadata": {},
       "output_type": "display_data",
       "text": [
        "<IPython.core.display.Javascript at 0x7f2a994cec50>"
       ]
      },
      {
       "javascript": [
        "$('div#ae1516f6-5e19-4df3-ac07-cf68e1f52e55').text('ETA:  0:02:03');"
       ],
       "metadata": {},
       "output_type": "display_data",
       "text": [
        "<IPython.core.display.Javascript at 0x7f2a994cec90>"
       ]
      },
      {
       "javascript": [
        "$('div#85400189-6928-448f-a97c-883694aea79a').text(' 67%');"
       ],
       "metadata": {},
       "output_type": "display_data",
       "text": [
        "<IPython.core.display.Javascript at 0x7f2a994bc6d0>"
       ]
      },
      {
       "javascript": [
        "\n",
        "        var $myPB = $(\"div#73d29a16-56e5-4057-bc7d-518521da0697\")\n",
        "        if ($myPB.hasClass('ui-progressbar')) {\n",
        "            $myPB.progressbar('value', 379531);\n",
        "        } else {\n",
        "            $myPB.progressbar({value: 0, max: 565516});\n",
        "        }\n",
        "        "
       ],
       "metadata": {},
       "output_type": "display_data",
       "text": [
        "<IPython.core.display.Javascript at 0x7f2a994bc750>"
       ]
      },
      {
       "javascript": [
        "$('div#ae1516f6-5e19-4df3-ac07-cf68e1f52e55').text('ETA:  0:02:03');"
       ],
       "metadata": {},
       "output_type": "display_data",
       "text": [
        "<IPython.core.display.Javascript at 0x7f2a994bc790>"
       ]
      },
      {
       "javascript": [
        "$('div#85400189-6928-448f-a97c-883694aea79a').text(' 67%');"
       ],
       "metadata": {},
       "output_type": "display_data",
       "text": [
        "<IPython.core.display.Javascript at 0x7f2a994d8190>"
       ]
      },
      {
       "javascript": [
        "\n",
        "        var $myPB = $(\"div#73d29a16-56e5-4057-bc7d-518521da0697\")\n",
        "        if ($myPB.hasClass('ui-progressbar')) {\n",
        "            $myPB.progressbar('value', 379683);\n",
        "        } else {\n",
        "            $myPB.progressbar({value: 0, max: 565516});\n",
        "        }\n",
        "        "
       ],
       "metadata": {},
       "output_type": "display_data",
       "text": [
        "<IPython.core.display.Javascript at 0x7f2a994d8210>"
       ]
      },
      {
       "javascript": [
        "$('div#ae1516f6-5e19-4df3-ac07-cf68e1f52e55').text('ETA:  0:02:03');"
       ],
       "metadata": {},
       "output_type": "display_data",
       "text": [
        "<IPython.core.display.Javascript at 0x7f2a994d8250>"
       ]
      },
      {
       "javascript": [
        "$('div#85400189-6928-448f-a97c-883694aea79a').text(' 67%');"
       ],
       "metadata": {},
       "output_type": "display_data",
       "text": [
        "<IPython.core.display.Javascript at 0x7f2a994d8c10>"
       ]
      },
      {
       "javascript": [
        "\n",
        "        var $myPB = $(\"div#73d29a16-56e5-4057-bc7d-518521da0697\")\n",
        "        if ($myPB.hasClass('ui-progressbar')) {\n",
        "            $myPB.progressbar('value', 379921);\n",
        "        } else {\n",
        "            $myPB.progressbar({value: 0, max: 565516});\n",
        "        }\n",
        "        "
       ],
       "metadata": {},
       "output_type": "display_data",
       "text": [
        "<IPython.core.display.Javascript at 0x7f2a994d8c90>"
       ]
      },
      {
       "javascript": [
        "$('div#ae1516f6-5e19-4df3-ac07-cf68e1f52e55').text('ETA:  0:02:03');"
       ],
       "metadata": {},
       "output_type": "display_data",
       "text": [
        "<IPython.core.display.Javascript at 0x7f2a994d8cd0>"
       ]
      },
      {
       "javascript": [
        "$('div#85400189-6928-448f-a97c-883694aea79a').text(' 67%');"
       ],
       "metadata": {},
       "output_type": "display_data",
       "text": [
        "<IPython.core.display.Javascript at 0x7f2a98c975d0>"
       ]
      },
      {
       "javascript": [
        "\n",
        "        var $myPB = $(\"div#73d29a16-56e5-4057-bc7d-518521da0697\")\n",
        "        if ($myPB.hasClass('ui-progressbar')) {\n",
        "            $myPB.progressbar('value', 380187);\n",
        "        } else {\n",
        "            $myPB.progressbar({value: 0, max: 565516});\n",
        "        }\n",
        "        "
       ],
       "metadata": {},
       "output_type": "display_data",
       "text": [
        "<IPython.core.display.Javascript at 0x7f2a98c97710>"
       ]
      },
      {
       "javascript": [
        "$('div#ae1516f6-5e19-4df3-ac07-cf68e1f52e55').text('ETA:  0:02:04');"
       ],
       "metadata": {},
       "output_type": "display_data",
       "text": [
        "<IPython.core.display.Javascript at 0x7f2a98c97750>"
       ]
      },
      {
       "javascript": [
        "$('div#85400189-6928-448f-a97c-883694aea79a').text(' 67%');"
       ],
       "metadata": {},
       "output_type": "display_data",
       "text": [
        "<IPython.core.display.Javascript at 0x7f2a98c97cd0>"
       ]
      },
      {
       "javascript": [
        "\n",
        "        var $myPB = $(\"div#73d29a16-56e5-4057-bc7d-518521da0697\")\n",
        "        if ($myPB.hasClass('ui-progressbar')) {\n",
        "            $myPB.progressbar('value', 381013);\n",
        "        } else {\n",
        "            $myPB.progressbar({value: 0, max: 565516});\n",
        "        }\n",
        "        "
       ],
       "metadata": {},
       "output_type": "display_data",
       "text": [
        "<IPython.core.display.Javascript at 0x7f2a98c97e10>"
       ]
      },
      {
       "javascript": [
        "$('div#ae1516f6-5e19-4df3-ac07-cf68e1f52e55').text('ETA:  0:02:03');"
       ],
       "metadata": {},
       "output_type": "display_data",
       "text": [
        "<IPython.core.display.Javascript at 0x7f2a98c97e50>"
       ]
      },
      {
       "javascript": [
        "$('div#85400189-6928-448f-a97c-883694aea79a').text(' 67%');"
       ],
       "metadata": {},
       "output_type": "display_data",
       "text": [
        "<IPython.core.display.Javascript at 0x7f2a98c9d4d0>"
       ]
      },
      {
       "javascript": [
        "\n",
        "        var $myPB = $(\"div#73d29a16-56e5-4057-bc7d-518521da0697\")\n",
        "        if ($myPB.hasClass('ui-progressbar')) {\n",
        "            $myPB.progressbar('value', 381650);\n",
        "        } else {\n",
        "            $myPB.progressbar({value: 0, max: 565516});\n",
        "        }\n",
        "        "
       ],
       "metadata": {},
       "output_type": "display_data",
       "text": [
        "<IPython.core.display.Javascript at 0x7f2a98c9d690>"
       ]
      },
      {
       "javascript": [
        "$('div#ae1516f6-5e19-4df3-ac07-cf68e1f52e55').text('ETA:  0:02:03');"
       ],
       "metadata": {},
       "output_type": "display_data",
       "text": [
        "<IPython.core.display.Javascript at 0x7f2a98c9d6d0>"
       ]
      },
      {
       "javascript": [
        "$('div#85400189-6928-448f-a97c-883694aea79a').text(' 67%');"
       ],
       "metadata": {},
       "output_type": "display_data",
       "text": [
        "<IPython.core.display.Javascript at 0x7f2a98ca1250>"
       ]
      },
      {
       "javascript": [
        "\n",
        "        var $myPB = $(\"div#73d29a16-56e5-4057-bc7d-518521da0697\")\n",
        "        if ($myPB.hasClass('ui-progressbar')) {\n",
        "            $myPB.progressbar('value', 381788);\n",
        "        } else {\n",
        "            $myPB.progressbar({value: 0, max: 565516});\n",
        "        }\n",
        "        "
       ],
       "metadata": {},
       "output_type": "display_data",
       "text": [
        "<IPython.core.display.Javascript at 0x7f2a98ca1490>"
       ]
      },
      {
       "javascript": [
        "$('div#ae1516f6-5e19-4df3-ac07-cf68e1f52e55').text('ETA:  0:02:04');"
       ],
       "metadata": {},
       "output_type": "display_data",
       "text": [
        "<IPython.core.display.Javascript at 0x7f2a98ca14d0>"
       ]
      },
      {
       "javascript": [
        "$('div#85400189-6928-448f-a97c-883694aea79a').text(' 67%');"
       ],
       "metadata": {},
       "output_type": "display_data",
       "text": [
        "<IPython.core.display.Javascript at 0x7f2a98690210>"
       ]
      },
      {
       "javascript": [
        "\n",
        "        var $myPB = $(\"div#73d29a16-56e5-4057-bc7d-518521da0697\")\n",
        "        if ($myPB.hasClass('ui-progressbar')) {\n",
        "            $myPB.progressbar('value', 381965);\n",
        "        } else {\n",
        "            $myPB.progressbar({value: 0, max: 565516});\n",
        "        }\n",
        "        "
       ],
       "metadata": {},
       "output_type": "display_data",
       "text": [
        "<IPython.core.display.Javascript at 0x7f2a98690290>"
       ]
      },
      {
       "javascript": [
        "$('div#ae1516f6-5e19-4df3-ac07-cf68e1f52e55').text('ETA:  0:02:04');"
       ],
       "metadata": {},
       "output_type": "display_data",
       "text": [
        "<IPython.core.display.Javascript at 0x7f2a986902d0>"
       ]
      },
      {
       "javascript": [
        "$('div#85400189-6928-448f-a97c-883694aea79a').text(' 67%');"
       ],
       "metadata": {},
       "output_type": "display_data",
       "text": [
        "<IPython.core.display.Javascript at 0x7f2a98678050>"
       ]
      },
      {
       "javascript": [
        "\n",
        "        var $myPB = $(\"div#73d29a16-56e5-4057-bc7d-518521da0697\")\n",
        "        if ($myPB.hasClass('ui-progressbar')) {\n",
        "            $myPB.progressbar('value', 382100);\n",
        "        } else {\n",
        "            $myPB.progressbar({value: 0, max: 565516});\n",
        "        }\n",
        "        "
       ],
       "metadata": {},
       "output_type": "display_data",
       "text": [
        "<IPython.core.display.Javascript at 0x7f2a986780d0>"
       ]
      },
      {
       "javascript": [
        "$('div#ae1516f6-5e19-4df3-ac07-cf68e1f52e55').text('ETA:  0:02:04');"
       ],
       "metadata": {},
       "output_type": "display_data",
       "text": [
        "<IPython.core.display.Javascript at 0x7f2a98678110>"
       ]
      },
      {
       "javascript": [
        "$('div#85400189-6928-448f-a97c-883694aea79a').text(' 67%');"
       ],
       "metadata": {},
       "output_type": "display_data",
       "text": [
        "<IPython.core.display.Javascript at 0x7f2a98678690>"
       ]
      },
      {
       "javascript": [
        "\n",
        "        var $myPB = $(\"div#73d29a16-56e5-4057-bc7d-518521da0697\")\n",
        "        if ($myPB.hasClass('ui-progressbar')) {\n",
        "            $myPB.progressbar('value', 383246);\n",
        "        } else {\n",
        "            $myPB.progressbar({value: 0, max: 565516});\n",
        "        }\n",
        "        "
       ],
       "metadata": {},
       "output_type": "display_data",
       "text": [
        "<IPython.core.display.Javascript at 0x7f2a98678810>"
       ]
      },
      {
       "javascript": [
        "$('div#ae1516f6-5e19-4df3-ac07-cf68e1f52e55').text('ETA:  0:02:04');"
       ],
       "metadata": {},
       "output_type": "display_data",
       "text": [
        "<IPython.core.display.Javascript at 0x7f2a98678850>"
       ]
      },
      {
       "javascript": [
        "$('div#85400189-6928-448f-a97c-883694aea79a').text(' 68%');"
       ],
       "metadata": {},
       "output_type": "display_data",
       "text": [
        "<IPython.core.display.Javascript at 0x7f2a98678850>"
       ]
      },
      {
       "javascript": [
        "\n",
        "        var $myPB = $(\"div#73d29a16-56e5-4057-bc7d-518521da0697\")\n",
        "        if ($myPB.hasClass('ui-progressbar')) {\n",
        "            $myPB.progressbar('value', 385457);\n",
        "        } else {\n",
        "            $myPB.progressbar({value: 0, max: 565516});\n",
        "        }\n",
        "        "
       ],
       "metadata": {},
       "output_type": "display_data",
       "text": [
        "<IPython.core.display.Javascript at 0x7f2a98678690>"
       ]
      },
      {
       "javascript": [
        "$('div#ae1516f6-5e19-4df3-ac07-cf68e1f52e55').text('ETA:  0:02:02');"
       ],
       "metadata": {},
       "output_type": "display_data",
       "text": [
        "<IPython.core.display.Javascript at 0x7f2a98678910>"
       ]
      },
      {
       "javascript": [
        "$('div#85400189-6928-448f-a97c-883694aea79a').text(' 68%');"
       ],
       "metadata": {},
       "output_type": "display_data",
       "text": [
        "<IPython.core.display.Javascript at 0x7f2a98678ad0>"
       ]
      },
      {
       "javascript": [
        "\n",
        "        var $myPB = $(\"div#73d29a16-56e5-4057-bc7d-518521da0697\")\n",
        "        if ($myPB.hasClass('ui-progressbar')) {\n",
        "            $myPB.progressbar('value', 387023);\n",
        "        } else {\n",
        "            $myPB.progressbar({value: 0, max: 565516});\n",
        "        }\n",
        "        "
       ],
       "metadata": {},
       "output_type": "display_data",
       "text": [
        "<IPython.core.display.Javascript at 0x7f2a98678d10>"
       ]
      },
      {
       "javascript": [
        "$('div#ae1516f6-5e19-4df3-ac07-cf68e1f52e55').text('ETA:  0:02:01');"
       ],
       "metadata": {},
       "output_type": "display_data",
       "text": [
        "<IPython.core.display.Javascript at 0x7f2a98678d50>"
       ]
      },
      {
       "javascript": [
        "$('div#85400189-6928-448f-a97c-883694aea79a').text(' 68%');"
       ],
       "metadata": {},
       "output_type": "display_data",
       "text": [
        "<IPython.core.display.Javascript at 0x7f2a9869b910>"
       ]
      },
      {
       "javascript": [
        "\n",
        "        var $myPB = $(\"div#73d29a16-56e5-4057-bc7d-518521da0697\")\n",
        "        if ($myPB.hasClass('ui-progressbar')) {\n",
        "            $myPB.progressbar('value', 387435);\n",
        "        } else {\n",
        "            $myPB.progressbar({value: 0, max: 565516});\n",
        "        }\n",
        "        "
       ],
       "metadata": {},
       "output_type": "display_data",
       "text": [
        "<IPython.core.display.Javascript at 0x7f2a9869b990>"
       ]
      },
      {
       "javascript": [
        "$('div#ae1516f6-5e19-4df3-ac07-cf68e1f52e55').text('ETA:  0:02:01');"
       ],
       "metadata": {},
       "output_type": "display_data",
       "text": [
        "<IPython.core.display.Javascript at 0x7f2a9869b9d0>"
       ]
      },
      {
       "javascript": [
        "$('div#85400189-6928-448f-a97c-883694aea79a').text(' 68%');"
       ],
       "metadata": {},
       "output_type": "display_data",
       "text": [
        "<IPython.core.display.Javascript at 0x7f2a9869bb10>"
       ]
      },
      {
       "javascript": [
        "\n",
        "        var $myPB = $(\"div#73d29a16-56e5-4057-bc7d-518521da0697\")\n",
        "        if ($myPB.hasClass('ui-progressbar')) {\n",
        "            $myPB.progressbar('value', 389234);\n",
        "        } else {\n",
        "            $myPB.progressbar({value: 0, max: 565516});\n",
        "        }\n",
        "        "
       ],
       "metadata": {},
       "output_type": "display_data",
       "text": [
        "<IPython.core.display.Javascript at 0x7f2a9869bc50>"
       ]
      },
      {
       "javascript": [
        "$('div#ae1516f6-5e19-4df3-ac07-cf68e1f52e55').text('ETA:  0:01:59');"
       ],
       "metadata": {},
       "output_type": "display_data",
       "text": [
        "<IPython.core.display.Javascript at 0x7f2a9869bc90>"
       ]
      },
      {
       "javascript": [
        "$('div#85400189-6928-448f-a97c-883694aea79a').text(' 69%');"
       ],
       "metadata": {},
       "output_type": "display_data",
       "text": [
        "<IPython.core.display.Javascript at 0x7f2a9869be10>"
       ]
      },
      {
       "javascript": [
        "\n",
        "        var $myPB = $(\"div#73d29a16-56e5-4057-bc7d-518521da0697\")\n",
        "        if ($myPB.hasClass('ui-progressbar')) {\n",
        "            $myPB.progressbar('value', 391179);\n",
        "        } else {\n",
        "            $myPB.progressbar({value: 0, max: 565516});\n",
        "        }\n",
        "        "
       ],
       "metadata": {},
       "output_type": "display_data",
       "text": [
        "<IPython.core.display.Javascript at 0x7f2a9869be90>"
       ]
      },
      {
       "javascript": [
        "$('div#ae1516f6-5e19-4df3-ac07-cf68e1f52e55').text('ETA:  0:01:58');"
       ],
       "metadata": {},
       "output_type": "display_data",
       "text": [
        "<IPython.core.display.Javascript at 0x7f2a9869bed0>"
       ]
      },
      {
       "javascript": [
        "$('div#85400189-6928-448f-a97c-883694aea79a').text(' 69%');"
       ],
       "metadata": {},
       "output_type": "display_data",
       "text": [
        "<IPython.core.display.Javascript at 0x7f2a9818b950>"
       ]
      },
      {
       "javascript": [
        "\n",
        "        var $myPB = $(\"div#73d29a16-56e5-4057-bc7d-518521da0697\")\n",
        "        if ($myPB.hasClass('ui-progressbar')) {\n",
        "            $myPB.progressbar('value', 391302);\n",
        "        } else {\n",
        "            $myPB.progressbar({value: 0, max: 565516});\n",
        "        }\n",
        "        "
       ],
       "metadata": {},
       "output_type": "display_data",
       "text": [
        "<IPython.core.display.Javascript at 0x7f2a9818bb90>"
       ]
      },
      {
       "javascript": [
        "$('div#ae1516f6-5e19-4df3-ac07-cf68e1f52e55').text('ETA:  0:01:58');"
       ],
       "metadata": {},
       "output_type": "display_data",
       "text": [
        "<IPython.core.display.Javascript at 0x7f2a9818bbd0>"
       ]
      },
      {
       "javascript": [
        "$('div#85400189-6928-448f-a97c-883694aea79a').text(' 69%');"
       ],
       "metadata": {},
       "output_type": "display_data",
       "text": [
        "<IPython.core.display.Javascript at 0x7f2a9819a910>"
       ]
      },
      {
       "javascript": [
        "\n",
        "        var $myPB = $(\"div#73d29a16-56e5-4057-bc7d-518521da0697\")\n",
        "        if ($myPB.hasClass('ui-progressbar')) {\n",
        "            $myPB.progressbar('value', 391400);\n",
        "        } else {\n",
        "            $myPB.progressbar({value: 0, max: 565516});\n",
        "        }\n",
        "        "
       ],
       "metadata": {},
       "output_type": "display_data",
       "text": [
        "<IPython.core.display.Javascript at 0x7f2a9819a990>"
       ]
      },
      {
       "javascript": [
        "$('div#ae1516f6-5e19-4df3-ac07-cf68e1f52e55').text('ETA:  0:01:59');"
       ],
       "metadata": {},
       "output_type": "display_data",
       "text": [
        "<IPython.core.display.Javascript at 0x7f2a9819a9d0>"
       ]
      },
      {
       "javascript": [
        "$('div#85400189-6928-448f-a97c-883694aea79a').text(' 69%');"
       ],
       "metadata": {},
       "output_type": "display_data",
       "text": [
        "<IPython.core.display.Javascript at 0x7f2a9818f6d0>"
       ]
      },
      {
       "javascript": [
        "\n",
        "        var $myPB = $(\"div#73d29a16-56e5-4057-bc7d-518521da0697\")\n",
        "        if ($myPB.hasClass('ui-progressbar')) {\n",
        "            $myPB.progressbar('value', 391547);\n",
        "        } else {\n",
        "            $myPB.progressbar({value: 0, max: 565516});\n",
        "        }\n",
        "        "
       ],
       "metadata": {},
       "output_type": "display_data",
       "text": [
        "<IPython.core.display.Javascript at 0x7f2a9818f750>"
       ]
      },
      {
       "javascript": [
        "$('div#ae1516f6-5e19-4df3-ac07-cf68e1f52e55').text('ETA:  0:01:59');"
       ],
       "metadata": {},
       "output_type": "display_data",
       "text": [
        "<IPython.core.display.Javascript at 0x7f2a9818f790>"
       ]
      },
      {
       "javascript": [
        "$('div#85400189-6928-448f-a97c-883694aea79a').text(' 69%');"
       ],
       "metadata": {},
       "output_type": "display_data",
       "text": [
        "<IPython.core.display.Javascript at 0x7f2a9819b2d0>"
       ]
      },
      {
       "javascript": [
        "\n",
        "        var $myPB = $(\"div#73d29a16-56e5-4057-bc7d-518521da0697\")\n",
        "        if ($myPB.hasClass('ui-progressbar')) {\n",
        "            $myPB.progressbar('value', 391673);\n",
        "        } else {\n",
        "            $myPB.progressbar({value: 0, max: 565516});\n",
        "        }\n",
        "        "
       ],
       "metadata": {},
       "output_type": "display_data",
       "text": [
        "<IPython.core.display.Javascript at 0x7f2a9819b490>"
       ]
      },
      {
       "javascript": [
        "$('div#ae1516f6-5e19-4df3-ac07-cf68e1f52e55').text('ETA:  0:01:59');"
       ],
       "metadata": {},
       "output_type": "display_data",
       "text": [
        "<IPython.core.display.Javascript at 0x7f2a9819b4d0>"
       ]
      },
      {
       "javascript": [
        "$('div#85400189-6928-448f-a97c-883694aea79a').text(' 69%');"
       ],
       "metadata": {},
       "output_type": "display_data",
       "text": [
        "<IPython.core.display.Javascript at 0x7f2a9819ba10>"
       ]
      },
      {
       "javascript": [
        "\n",
        "        var $myPB = $(\"div#73d29a16-56e5-4057-bc7d-518521da0697\")\n",
        "        if ($myPB.hasClass('ui-progressbar')) {\n",
        "            $myPB.progressbar('value', 392971);\n",
        "        } else {\n",
        "            $myPB.progressbar({value: 0, max: 565516});\n",
        "        }\n",
        "        "
       ],
       "metadata": {},
       "output_type": "display_data",
       "text": [
        "<IPython.core.display.Javascript at 0x7f2a9819ba90>"
       ]
      },
      {
       "javascript": [
        "$('div#ae1516f6-5e19-4df3-ac07-cf68e1f52e55').text('ETA:  0:01:58');"
       ],
       "metadata": {},
       "output_type": "display_data",
       "text": [
        "<IPython.core.display.Javascript at 0x7f2a9819bad0>"
       ]
      },
      {
       "javascript": [
        "$('div#85400189-6928-448f-a97c-883694aea79a').text(' 69%');"
       ],
       "metadata": {},
       "output_type": "display_data",
       "text": [
        "<IPython.core.display.Javascript at 0x7f2a9816d5d0>"
       ]
      },
      {
       "javascript": [
        "\n",
        "        var $myPB = $(\"div#73d29a16-56e5-4057-bc7d-518521da0697\")\n",
        "        if ($myPB.hasClass('ui-progressbar')) {\n",
        "            $myPB.progressbar('value', 393367);\n",
        "        } else {\n",
        "            $myPB.progressbar({value: 0, max: 565516});\n",
        "        }\n",
        "        "
       ],
       "metadata": {},
       "output_type": "display_data",
       "text": [
        "<IPython.core.display.Javascript at 0x7f2a9816d650>"
       ]
      },
      {
       "javascript": [
        "$('div#ae1516f6-5e19-4df3-ac07-cf68e1f52e55').text('ETA:  0:01:59');"
       ],
       "metadata": {},
       "output_type": "display_data",
       "text": [
        "<IPython.core.display.Javascript at 0x7f2a9816d690>"
       ]
      },
      {
       "javascript": [
        "$('div#85400189-6928-448f-a97c-883694aea79a').text(' 69%');"
       ],
       "metadata": {},
       "output_type": "display_data",
       "text": [
        "<IPython.core.display.Javascript at 0x7f2a9816d990>"
       ]
      },
      {
       "javascript": [
        "\n",
        "        var $myPB = $(\"div#73d29a16-56e5-4057-bc7d-518521da0697\")\n",
        "        if ($myPB.hasClass('ui-progressbar')) {\n",
        "            $myPB.progressbar('value', 394690);\n",
        "        } else {\n",
        "            $myPB.progressbar({value: 0, max: 565516});\n",
        "        }\n",
        "        "
       ],
       "metadata": {},
       "output_type": "display_data",
       "text": [
        "<IPython.core.display.Javascript at 0x7f2a9816dbd0>"
       ]
      },
      {
       "javascript": [
        "$('div#ae1516f6-5e19-4df3-ac07-cf68e1f52e55').text('ETA:  0:01:58');"
       ],
       "metadata": {},
       "output_type": "display_data",
       "text": [
        "<IPython.core.display.Javascript at 0x7f2a9816dc10>"
       ]
      },
      {
       "javascript": [
        "$('div#85400189-6928-448f-a97c-883694aea79a').text(' 70%');"
       ],
       "metadata": {},
       "output_type": "display_data",
       "text": [
        "<IPython.core.display.Javascript at 0x7f2a98168150>"
       ]
      },
      {
       "javascript": [
        "\n",
        "        var $myPB = $(\"div#73d29a16-56e5-4057-bc7d-518521da0697\")\n",
        "        if ($myPB.hasClass('ui-progressbar')) {\n",
        "            $myPB.progressbar('value', 395919);\n",
        "        } else {\n",
        "            $myPB.progressbar({value: 0, max: 565516});\n",
        "        }\n",
        "        "
       ],
       "metadata": {},
       "output_type": "display_data",
       "text": [
        "<IPython.core.display.Javascript at 0x7f2a981682d0>"
       ]
      },
      {
       "javascript": [
        "$('div#ae1516f6-5e19-4df3-ac07-cf68e1f52e55').text('ETA:  0:01:57');"
       ],
       "metadata": {},
       "output_type": "display_data",
       "text": [
        "<IPython.core.display.Javascript at 0x7f2a98168310>"
       ]
      },
      {
       "javascript": [
        "$('div#85400189-6928-448f-a97c-883694aea79a').text(' 70%');"
       ],
       "metadata": {},
       "output_type": "display_data",
       "text": [
        "<IPython.core.display.Javascript at 0x7f2a98168dd0>"
       ]
      },
      {
       "javascript": [
        "\n",
        "        var $myPB = $(\"div#73d29a16-56e5-4057-bc7d-518521da0697\")\n",
        "        if ($myPB.hasClass('ui-progressbar')) {\n",
        "            $myPB.progressbar('value', 396028);\n",
        "        } else {\n",
        "            $myPB.progressbar({value: 0, max: 565516});\n",
        "        }\n",
        "        "
       ],
       "metadata": {},
       "output_type": "display_data",
       "text": [
        "<IPython.core.display.Javascript at 0x7f2a98167050>"
       ]
      },
      {
       "javascript": [
        "$('div#ae1516f6-5e19-4df3-ac07-cf68e1f52e55').text('ETA:  0:01:57');"
       ],
       "metadata": {},
       "output_type": "display_data",
       "text": [
        "<IPython.core.display.Javascript at 0x7f2a98167090>"
       ]
      },
      {
       "javascript": [
        "$('div#85400189-6928-448f-a97c-883694aea79a').text(' 70%');"
       ],
       "metadata": {},
       "output_type": "display_data",
       "text": [
        "<IPython.core.display.Javascript at 0x7f2a98167d50>"
       ]
      },
      {
       "javascript": [
        "\n",
        "        var $myPB = $(\"div#73d29a16-56e5-4057-bc7d-518521da0697\")\n",
        "        if ($myPB.hasClass('ui-progressbar')) {\n",
        "            $myPB.progressbar('value', 396167);\n",
        "        } else {\n",
        "            $myPB.progressbar({value: 0, max: 565516});\n",
        "        }\n",
        "        "
       ],
       "metadata": {},
       "output_type": "display_data",
       "text": [
        "<IPython.core.display.Javascript at 0x7f2a98167dd0>"
       ]
      },
      {
       "javascript": [
        "$('div#ae1516f6-5e19-4df3-ac07-cf68e1f52e55').text('ETA:  0:01:57');"
       ],
       "metadata": {},
       "output_type": "display_data",
       "text": [
        "<IPython.core.display.Javascript at 0x7f2a98167e10>"
       ]
      },
      {
       "javascript": [
        "$('div#85400189-6928-448f-a97c-883694aea79a').text(' 70%');"
       ],
       "metadata": {},
       "output_type": "display_data",
       "text": [
        "<IPython.core.display.Javascript at 0x7f2a9767a990>"
       ]
      },
      {
       "javascript": [
        "\n",
        "        var $myPB = $(\"div#73d29a16-56e5-4057-bc7d-518521da0697\")\n",
        "        if ($myPB.hasClass('ui-progressbar')) {\n",
        "            $myPB.progressbar('value', 396287);\n",
        "        } else {\n",
        "            $myPB.progressbar({value: 0, max: 565516});\n",
        "        }\n",
        "        "
       ],
       "metadata": {},
       "output_type": "display_data",
       "text": [
        "<IPython.core.display.Javascript at 0x7f2a9767aa10>"
       ]
      },
      {
       "javascript": [
        "$('div#ae1516f6-5e19-4df3-ac07-cf68e1f52e55').text('ETA:  0:01:58');"
       ],
       "metadata": {},
       "output_type": "display_data",
       "text": [
        "<IPython.core.display.Javascript at 0x7f2a9767aa50>"
       ]
      },
      {
       "javascript": [
        "$('div#85400189-6928-448f-a97c-883694aea79a').text(' 70%');"
       ],
       "metadata": {},
       "output_type": "display_data",
       "text": [
        "<IPython.core.display.Javascript at 0x7f2a97684250>"
       ]
      },
      {
       "javascript": [
        "\n",
        "        var $myPB = $(\"div#73d29a16-56e5-4057-bc7d-518521da0697\")\n",
        "        if ($myPB.hasClass('ui-progressbar')) {\n",
        "            $myPB.progressbar('value', 397183);\n",
        "        } else {\n",
        "            $myPB.progressbar({value: 0, max: 565516});\n",
        "        }\n",
        "        "
       ],
       "metadata": {},
       "output_type": "display_data",
       "text": [
        "<IPython.core.display.Javascript at 0x7f2a976842d0>"
       ]
      },
      {
       "javascript": [
        "$('div#ae1516f6-5e19-4df3-ac07-cf68e1f52e55').text('ETA:  0:01:57');"
       ],
       "metadata": {},
       "output_type": "display_data",
       "text": [
        "<IPython.core.display.Javascript at 0x7f2a97684310>"
       ]
      },
      {
       "javascript": [
        "$('div#85400189-6928-448f-a97c-883694aea79a').text(' 70%');"
       ],
       "metadata": {},
       "output_type": "display_data",
       "text": [
        "<IPython.core.display.Javascript at 0x7f2a976847d0>"
       ]
      },
      {
       "javascript": [
        "\n",
        "        var $myPB = $(\"div#73d29a16-56e5-4057-bc7d-518521da0697\")\n",
        "        if ($myPB.hasClass('ui-progressbar')) {\n",
        "            $myPB.progressbar('value', 398557);\n",
        "        } else {\n",
        "            $myPB.progressbar({value: 0, max: 565516});\n",
        "        }\n",
        "        "
       ],
       "metadata": {},
       "output_type": "display_data",
       "text": [
        "<IPython.core.display.Javascript at 0x7f2a97684850>"
       ]
      },
      {
       "javascript": [
        "$('div#ae1516f6-5e19-4df3-ac07-cf68e1f52e55').text('ETA:  0:01:56');"
       ],
       "metadata": {},
       "output_type": "display_data",
       "text": [
        "<IPython.core.display.Javascript at 0x7f2a97684890>"
       ]
      },
      {
       "javascript": [
        "$('div#85400189-6928-448f-a97c-883694aea79a').text(' 70%');"
       ],
       "metadata": {},
       "output_type": "display_data",
       "text": [
        "<IPython.core.display.Javascript at 0x7f2a97684b50>"
       ]
      },
      {
       "javascript": [
        "\n",
        "        var $myPB = $(\"div#73d29a16-56e5-4057-bc7d-518521da0697\")\n",
        "        if ($myPB.hasClass('ui-progressbar')) {\n",
        "            $myPB.progressbar('value', 400204);\n",
        "        } else {\n",
        "            $myPB.progressbar({value: 0, max: 565516});\n",
        "        }\n",
        "        "
       ],
       "metadata": {},
       "output_type": "display_data",
       "text": [
        "<IPython.core.display.Javascript at 0x7f2a97684bd0>"
       ]
      },
      {
       "javascript": [
        "$('div#ae1516f6-5e19-4df3-ac07-cf68e1f52e55').text('ETA:  0:01:55');"
       ],
       "metadata": {},
       "output_type": "display_data",
       "text": [
        "<IPython.core.display.Javascript at 0x7f2a97684c10>"
       ]
      },
      {
       "javascript": [
        "$('div#85400189-6928-448f-a97c-883694aea79a').text(' 71%');"
       ],
       "metadata": {},
       "output_type": "display_data",
       "text": [
        "<IPython.core.display.Javascript at 0x7f2a97684bd0>"
       ]
      },
      {
       "javascript": [
        "\n",
        "        var $myPB = $(\"div#73d29a16-56e5-4057-bc7d-518521da0697\")\n",
        "        if ($myPB.hasClass('ui-progressbar')) {\n",
        "            $myPB.progressbar('value', 402211);\n",
        "        } else {\n",
        "            $myPB.progressbar({value: 0, max: 565516});\n",
        "        }\n",
        "        "
       ],
       "metadata": {},
       "output_type": "display_data",
       "text": [
        "<IPython.core.display.Javascript at 0x7f2a97684d90>"
       ]
      },
      {
       "javascript": [
        "$('div#ae1516f6-5e19-4df3-ac07-cf68e1f52e55').text('ETA:  0:01:54');"
       ],
       "metadata": {},
       "output_type": "display_data",
       "text": [
        "<IPython.core.display.Javascript at 0x7f2a97684dd0>"
       ]
      },
      {
       "javascript": [
        "$('div#85400189-6928-448f-a97c-883694aea79a').text(' 71%');"
       ],
       "metadata": {},
       "output_type": "display_data",
       "text": [
        "<IPython.core.display.Javascript at 0x7f2a97696410>"
       ]
      },
      {
       "javascript": [
        "\n",
        "        var $myPB = $(\"div#73d29a16-56e5-4057-bc7d-518521da0697\")\n",
        "        if ($myPB.hasClass('ui-progressbar')) {\n",
        "            $myPB.progressbar('value', 403388);\n",
        "        } else {\n",
        "            $myPB.progressbar({value: 0, max: 565516});\n",
        "        }\n",
        "        "
       ],
       "metadata": {},
       "output_type": "display_data",
       "text": [
        "<IPython.core.display.Javascript at 0x7f2a97696490>"
       ]
      },
      {
       "javascript": [
        "$('div#ae1516f6-5e19-4df3-ac07-cf68e1f52e55').text('ETA:  0:01:53');"
       ],
       "metadata": {},
       "output_type": "display_data",
       "text": [
        "<IPython.core.display.Javascript at 0x7f2a976964d0>"
       ]
      },
      {
       "javascript": [
        "$('div#85400189-6928-448f-a97c-883694aea79a').text(' 71%');"
       ],
       "metadata": {},
       "output_type": "display_data",
       "text": [
        "<IPython.core.display.Javascript at 0x7f2a97696f10>"
       ]
      },
      {
       "javascript": [
        "\n",
        "        var $myPB = $(\"div#73d29a16-56e5-4057-bc7d-518521da0697\")\n",
        "        if ($myPB.hasClass('ui-progressbar')) {\n",
        "            $myPB.progressbar('value', 403762);\n",
        "        } else {\n",
        "            $myPB.progressbar({value: 0, max: 565516});\n",
        "        }\n",
        "        "
       ],
       "metadata": {},
       "output_type": "display_data",
       "text": [
        "<IPython.core.display.Javascript at 0x7f2a97696f90>"
       ]
      },
      {
       "javascript": [
        "$('div#ae1516f6-5e19-4df3-ac07-cf68e1f52e55').text('ETA:  0:01:53');"
       ],
       "metadata": {},
       "output_type": "display_data",
       "text": [
        "<IPython.core.display.Javascript at 0x7f2a97696fd0>"
       ]
      },
      {
       "javascript": [
        "$('div#85400189-6928-448f-a97c-883694aea79a').text(' 71%');"
       ],
       "metadata": {},
       "output_type": "display_data",
       "text": [
        "<IPython.core.display.Javascript at 0x7f2a976a15d0>"
       ]
      },
      {
       "javascript": [
        "\n",
        "        var $myPB = $(\"div#73d29a16-56e5-4057-bc7d-518521da0697\")\n",
        "        if ($myPB.hasClass('ui-progressbar')) {\n",
        "            $myPB.progressbar('value', 405035);\n",
        "        } else {\n",
        "            $myPB.progressbar({value: 0, max: 565516});\n",
        "        }\n",
        "        "
       ],
       "metadata": {},
       "output_type": "display_data",
       "text": [
        "<IPython.core.display.Javascript at 0x7f2a976a1650>"
       ]
      },
      {
       "javascript": [
        "$('div#ae1516f6-5e19-4df3-ac07-cf68e1f52e55').text('ETA:  0:01:52');"
       ],
       "metadata": {},
       "output_type": "display_data",
       "text": [
        "<IPython.core.display.Javascript at 0x7f2a976a1690>"
       ]
      },
      {
       "javascript": [
        "$('div#85400189-6928-448f-a97c-883694aea79a').text(' 72%');"
       ],
       "metadata": {},
       "output_type": "display_data",
       "text": [
        "<IPython.core.display.Javascript at 0x7f2a976a1590>"
       ]
      },
      {
       "javascript": [
        "\n",
        "        var $myPB = $(\"div#73d29a16-56e5-4057-bc7d-518521da0697\")\n",
        "        if ($myPB.hasClass('ui-progressbar')) {\n",
        "            $myPB.progressbar('value', 407182);\n",
        "        } else {\n",
        "            $myPB.progressbar({value: 0, max: 565516});\n",
        "        }\n",
        "        "
       ],
       "metadata": {},
       "output_type": "display_data",
       "text": [
        "<IPython.core.display.Javascript at 0x7f2a976a15d0>"
       ]
      },
      {
       "javascript": [
        "$('div#ae1516f6-5e19-4df3-ac07-cf68e1f52e55').text('ETA:  0:01:50');"
       ],
       "metadata": {},
       "output_type": "display_data",
       "text": [
        "<IPython.core.display.Javascript at 0x7f2a976a1790>"
       ]
      },
      {
       "javascript": [
        "$('div#85400189-6928-448f-a97c-883694aea79a').text(' 72%');"
       ],
       "metadata": {},
       "output_type": "display_data",
       "text": [
        "<IPython.core.display.Javascript at 0x7f2a976a1d50>"
       ]
      },
      {
       "javascript": [
        "\n",
        "        var $myPB = $(\"div#73d29a16-56e5-4057-bc7d-518521da0697\")\n",
        "        if ($myPB.hasClass('ui-progressbar')) {\n",
        "            $myPB.progressbar('value', 408409);\n",
        "        } else {\n",
        "            $myPB.progressbar({value: 0, max: 565516});\n",
        "        }\n",
        "        "
       ],
       "metadata": {},
       "output_type": "display_data",
       "text": [
        "<IPython.core.display.Javascript at 0x7f2a976a1dd0>"
       ]
      },
      {
       "javascript": [
        "$('div#ae1516f6-5e19-4df3-ac07-cf68e1f52e55').text('ETA:  0:01:50');"
       ],
       "metadata": {},
       "output_type": "display_data",
       "text": [
        "<IPython.core.display.Javascript at 0x7f2a976a1e10>"
       ]
      },
      {
       "javascript": [
        "$('div#85400189-6928-448f-a97c-883694aea79a').text(' 72%');"
       ],
       "metadata": {},
       "output_type": "display_data",
       "text": [
        "<IPython.core.display.Javascript at 0x7f2a978f2090>"
       ]
      },
      {
       "javascript": [
        "\n",
        "        var $myPB = $(\"div#73d29a16-56e5-4057-bc7d-518521da0697\")\n",
        "        if ($myPB.hasClass('ui-progressbar')) {\n",
        "            $myPB.progressbar('value', 410156);\n",
        "        } else {\n",
        "            $myPB.progressbar({value: 0, max: 565516});\n",
        "        }\n",
        "        "
       ],
       "metadata": {},
       "output_type": "display_data",
       "text": [
        "<IPython.core.display.Javascript at 0x7f2a978f2110>"
       ]
      },
      {
       "javascript": [
        "$('div#ae1516f6-5e19-4df3-ac07-cf68e1f52e55').text('ETA:  0:01:48');"
       ],
       "metadata": {},
       "output_type": "display_data",
       "text": [
        "<IPython.core.display.Javascript at 0x7f2a978f2150>"
       ]
      },
      {
       "javascript": [
        "$('div#85400189-6928-448f-a97c-883694aea79a').text(' 72%');"
       ],
       "metadata": {},
       "output_type": "display_data",
       "text": [
        "<IPython.core.display.Javascript at 0x7f2a978f2bd0>"
       ]
      },
      {
       "javascript": [
        "\n",
        "        var $myPB = $(\"div#73d29a16-56e5-4057-bc7d-518521da0697\")\n",
        "        if ($myPB.hasClass('ui-progressbar')) {\n",
        "            $myPB.progressbar('value', 410277);\n",
        "        } else {\n",
        "            $myPB.progressbar({value: 0, max: 565516});\n",
        "        }\n",
        "        "
       ],
       "metadata": {},
       "output_type": "display_data",
       "text": [
        "<IPython.core.display.Javascript at 0x7f2a978f2d90>"
       ]
      },
      {
       "javascript": [
        "$('div#ae1516f6-5e19-4df3-ac07-cf68e1f52e55').text('ETA:  0:01:49');"
       ],
       "metadata": {},
       "output_type": "display_data",
       "text": [
        "<IPython.core.display.Javascript at 0x7f2a978f2dd0>"
       ]
      },
      {
       "javascript": [
        "$('div#85400189-6928-448f-a97c-883694aea79a').text(' 72%');"
       ],
       "metadata": {},
       "output_type": "display_data",
       "text": [
        "<IPython.core.display.Javascript at 0x7f2a978c2910>"
       ]
      },
      {
       "javascript": [
        "\n",
        "        var $myPB = $(\"div#73d29a16-56e5-4057-bc7d-518521da0697\")\n",
        "        if ($myPB.hasClass('ui-progressbar')) {\n",
        "            $myPB.progressbar('value', 410473);\n",
        "        } else {\n",
        "            $myPB.progressbar({value: 0, max: 565516});\n",
        "        }\n",
        "        "
       ],
       "metadata": {},
       "output_type": "display_data",
       "text": [
        "<IPython.core.display.Javascript at 0x7f2a978c2a90>"
       ]
      },
      {
       "javascript": [
        "$('div#ae1516f6-5e19-4df3-ac07-cf68e1f52e55').text('ETA:  0:01:49');"
       ],
       "metadata": {},
       "output_type": "display_data",
       "text": [
        "<IPython.core.display.Javascript at 0x7f2a978c2ad0>"
       ]
      },
      {
       "javascript": [
        "$('div#85400189-6928-448f-a97c-883694aea79a').text(' 72%');"
       ],
       "metadata": {},
       "output_type": "display_data",
       "text": [
        "<IPython.core.display.Javascript at 0x7f2a978b7550>"
       ]
      },
      {
       "javascript": [
        "\n",
        "        var $myPB = $(\"div#73d29a16-56e5-4057-bc7d-518521da0697\")\n",
        "        if ($myPB.hasClass('ui-progressbar')) {\n",
        "            $myPB.progressbar('value', 410638);\n",
        "        } else {\n",
        "            $myPB.progressbar({value: 0, max: 565516});\n",
        "        }\n",
        "        "
       ],
       "metadata": {},
       "output_type": "display_data",
       "text": [
        "<IPython.core.display.Javascript at 0x7f2a978b76d0>"
       ]
      },
      {
       "javascript": [
        "$('div#ae1516f6-5e19-4df3-ac07-cf68e1f52e55').text('ETA:  0:01:49');"
       ],
       "metadata": {},
       "output_type": "display_data",
       "text": [
        "<IPython.core.display.Javascript at 0x7f2a978b7710>"
       ]
      },
      {
       "javascript": [
        "$('div#85400189-6928-448f-a97c-883694aea79a').text(' 72%');"
       ],
       "metadata": {},
       "output_type": "display_data",
       "text": [
        "<IPython.core.display.Javascript at 0x7f2a978b7b50>"
       ]
      },
      {
       "javascript": [
        "\n",
        "        var $myPB = $(\"div#73d29a16-56e5-4057-bc7d-518521da0697\")\n",
        "        if ($myPB.hasClass('ui-progressbar')) {\n",
        "            $myPB.progressbar('value', 411892);\n",
        "        } else {\n",
        "            $myPB.progressbar({value: 0, max: 565516});\n",
        "        }\n",
        "        "
       ],
       "metadata": {},
       "output_type": "display_data",
       "text": [
        "<IPython.core.display.Javascript at 0x7f2a978b7d10>"
       ]
      },
      {
       "javascript": [
        "$('div#ae1516f6-5e19-4df3-ac07-cf68e1f52e55').text('ETA:  0:01:48');"
       ],
       "metadata": {},
       "output_type": "display_data",
       "text": [
        "<IPython.core.display.Javascript at 0x7f2a978b7d50>"
       ]
      },
      {
       "javascript": [
        "$('div#85400189-6928-448f-a97c-883694aea79a').text(' 72%');"
       ],
       "metadata": {},
       "output_type": "display_data",
       "text": [
        "<IPython.core.display.Javascript at 0x7f2a9737ead0>"
       ]
      },
      {
       "javascript": [
        "\n",
        "        var $myPB = $(\"div#73d29a16-56e5-4057-bc7d-518521da0697\")\n",
        "        if ($myPB.hasClass('ui-progressbar')) {\n",
        "            $myPB.progressbar('value', 412072);\n",
        "        } else {\n",
        "            $myPB.progressbar({value: 0, max: 565516});\n",
        "        }\n",
        "        "
       ],
       "metadata": {},
       "output_type": "display_data",
       "text": [
        "<IPython.core.display.Javascript at 0x7f2a9737eb50>"
       ]
      },
      {
       "javascript": [
        "$('div#ae1516f6-5e19-4df3-ac07-cf68e1f52e55').text('ETA:  0:01:48');"
       ],
       "metadata": {},
       "output_type": "display_data",
       "text": [
        "<IPython.core.display.Javascript at 0x7f2a9737eb90>"
       ]
      },
      {
       "javascript": [
        "$('div#85400189-6928-448f-a97c-883694aea79a').text(' 72%');"
       ],
       "metadata": {},
       "output_type": "display_data",
       "text": [
        "<IPython.core.display.Javascript at 0x7f2a973b0990>"
       ]
      },
      {
       "javascript": [
        "\n",
        "        var $myPB = $(\"div#73d29a16-56e5-4057-bc7d-518521da0697\")\n",
        "        if ($myPB.hasClass('ui-progressbar')) {\n",
        "            $myPB.progressbar('value', 412274);\n",
        "        } else {\n",
        "            $myPB.progressbar({value: 0, max: 565516});\n",
        "        }\n",
        "        "
       ],
       "metadata": {},
       "output_type": "display_data",
       "text": [
        "<IPython.core.display.Javascript at 0x7f2a973b0a10>"
       ]
      },
      {
       "javascript": [
        "$('div#ae1516f6-5e19-4df3-ac07-cf68e1f52e55').text('ETA:  0:01:48');"
       ],
       "metadata": {},
       "output_type": "display_data",
       "text": [
        "<IPython.core.display.Javascript at 0x7f2a973b0a50>"
       ]
      },
      {
       "javascript": [
        "$('div#85400189-6928-448f-a97c-883694aea79a').text(' 73%');"
       ],
       "metadata": {},
       "output_type": "display_data",
       "text": [
        "<IPython.core.display.Javascript at 0x7f2a973a3250>"
       ]
      },
      {
       "javascript": [
        "\n",
        "        var $myPB = $(\"div#73d29a16-56e5-4057-bc7d-518521da0697\")\n",
        "        if ($myPB.hasClass('ui-progressbar')) {\n",
        "            $myPB.progressbar('value', 413314);\n",
        "        } else {\n",
        "            $myPB.progressbar({value: 0, max: 565516});\n",
        "        }\n",
        "        "
       ],
       "metadata": {},
       "output_type": "display_data",
       "text": [
        "<IPython.core.display.Javascript at 0x7f2a973a32d0>"
       ]
      },
      {
       "javascript": [
        "$('div#ae1516f6-5e19-4df3-ac07-cf68e1f52e55').text('ETA:  0:01:48');"
       ],
       "metadata": {},
       "output_type": "display_data",
       "text": [
        "<IPython.core.display.Javascript at 0x7f2a973a3310>"
       ]
      },
      {
       "javascript": [
        "$('div#85400189-6928-448f-a97c-883694aea79a').text(' 73%');"
       ],
       "metadata": {},
       "output_type": "display_data",
       "text": [
        "<IPython.core.display.Javascript at 0x7f2a9739a090>"
       ]
      },
      {
       "javascript": [
        "\n",
        "        var $myPB = $(\"div#73d29a16-56e5-4057-bc7d-518521da0697\")\n",
        "        if ($myPB.hasClass('ui-progressbar')) {\n",
        "            $myPB.progressbar('value', 413573);\n",
        "        } else {\n",
        "            $myPB.progressbar({value: 0, max: 565516});\n",
        "        }\n",
        "        "
       ],
       "metadata": {},
       "output_type": "display_data",
       "text": [
        "<IPython.core.display.Javascript at 0x7f2a9739a110>"
       ]
      },
      {
       "javascript": [
        "$('div#ae1516f6-5e19-4df3-ac07-cf68e1f52e55').text('ETA:  0:01:48');"
       ],
       "metadata": {},
       "output_type": "display_data",
       "text": [
        "<IPython.core.display.Javascript at 0x7f2a9739a150>"
       ]
      },
      {
       "javascript": [
        "$('div#85400189-6928-448f-a97c-883694aea79a').text(' 73%');"
       ],
       "metadata": {},
       "output_type": "display_data",
       "text": [
        "<IPython.core.display.Javascript at 0x7f2a9739ae90>"
       ]
      },
      {
       "javascript": [
        "\n",
        "        var $myPB = $(\"div#73d29a16-56e5-4057-bc7d-518521da0697\")\n",
        "        if ($myPB.hasClass('ui-progressbar')) {\n",
        "            $myPB.progressbar('value', 413826);\n",
        "        } else {\n",
        "            $myPB.progressbar({value: 0, max: 565516});\n",
        "        }\n",
        "        "
       ],
       "metadata": {},
       "output_type": "display_data",
       "text": [
        "<IPython.core.display.Javascript at 0x7f2a9739af10>"
       ]
      },
      {
       "javascript": [
        "$('div#ae1516f6-5e19-4df3-ac07-cf68e1f52e55').text('ETA:  0:01:48');"
       ],
       "metadata": {},
       "output_type": "display_data",
       "text": [
        "<IPython.core.display.Javascript at 0x7f2a9739af50>"
       ]
      },
      {
       "javascript": [
        "$('div#85400189-6928-448f-a97c-883694aea79a').text(' 73%');"
       ],
       "metadata": {},
       "output_type": "display_data",
       "text": [
        "<IPython.core.display.Javascript at 0x7f2a96ff9650>"
       ]
      },
      {
       "javascript": [
        "\n",
        "        var $myPB = $(\"div#73d29a16-56e5-4057-bc7d-518521da0697\")\n",
        "        if ($myPB.hasClass('ui-progressbar')) {\n",
        "            $myPB.progressbar('value', 414914);\n",
        "        } else {\n",
        "            $myPB.progressbar({value: 0, max: 565516});\n",
        "        }\n",
        "        "
       ],
       "metadata": {},
       "output_type": "display_data",
       "text": [
        "<IPython.core.display.Javascript at 0x7f2a96ff96d0>"
       ]
      },
      {
       "javascript": [
        "$('div#ae1516f6-5e19-4df3-ac07-cf68e1f52e55').text('ETA:  0:01:47');"
       ],
       "metadata": {},
       "output_type": "display_data",
       "text": [
        "<IPython.core.display.Javascript at 0x7f2a96ff9710>"
       ]
      },
      {
       "javascript": [
        "$('div#85400189-6928-448f-a97c-883694aea79a').text(' 73%');"
       ],
       "metadata": {},
       "output_type": "display_data",
       "text": [
        "<IPython.core.display.Javascript at 0x7f2a96ff9790>"
       ]
      },
      {
       "javascript": [
        "\n",
        "        var $myPB = $(\"div#73d29a16-56e5-4057-bc7d-518521da0697\")\n",
        "        if ($myPB.hasClass('ui-progressbar')) {\n",
        "            $myPB.progressbar('value', 417238);\n",
        "        } else {\n",
        "            $myPB.progressbar({value: 0, max: 565516});\n",
        "        }\n",
        "        "
       ],
       "metadata": {},
       "output_type": "display_data",
       "text": [
        "<IPython.core.display.Javascript at 0x7f2a96ff9810>"
       ]
      },
      {
       "javascript": [
        "$('div#ae1516f6-5e19-4df3-ac07-cf68e1f52e55').text('ETA:  0:01:45');"
       ],
       "metadata": {},
       "output_type": "display_data",
       "text": [
        "<IPython.core.display.Javascript at 0x7f2a96ff9850>"
       ]
      },
      {
       "javascript": [
        "$('div#85400189-6928-448f-a97c-883694aea79a').text(' 73%');"
       ],
       "metadata": {},
       "output_type": "display_data",
       "text": [
        "<IPython.core.display.Javascript at 0x7f2a96ff4190>"
       ]
      },
      {
       "javascript": [
        "\n",
        "        var $myPB = $(\"div#73d29a16-56e5-4057-bc7d-518521da0697\")\n",
        "        if ($myPB.hasClass('ui-progressbar')) {\n",
        "            $myPB.progressbar('value', 417904);\n",
        "        } else {\n",
        "            $myPB.progressbar({value: 0, max: 565516});\n",
        "        }\n",
        "        "
       ],
       "metadata": {},
       "output_type": "display_data",
       "text": [
        "<IPython.core.display.Javascript at 0x7f2a96ff4210>"
       ]
      },
      {
       "javascript": [
        "$('div#ae1516f6-5e19-4df3-ac07-cf68e1f52e55').text('ETA:  0:01:45');"
       ],
       "metadata": {},
       "output_type": "display_data",
       "text": [
        "<IPython.core.display.Javascript at 0x7f2a96ff4250>"
       ]
      },
      {
       "javascript": [
        "$('div#85400189-6928-448f-a97c-883694aea79a').text(' 73%');"
       ],
       "metadata": {},
       "output_type": "display_data",
       "text": [
        "<IPython.core.display.Javascript at 0x7f2a97021090>"
       ]
      },
      {
       "javascript": [
        "\n",
        "        var $myPB = $(\"div#73d29a16-56e5-4057-bc7d-518521da0697\")\n",
        "        if ($myPB.hasClass('ui-progressbar')) {\n",
        "            $myPB.progressbar('value', 418026);\n",
        "        } else {\n",
        "            $myPB.progressbar({value: 0, max: 565516});\n",
        "        }\n",
        "        "
       ],
       "metadata": {},
       "output_type": "display_data",
       "text": [
        "<IPython.core.display.Javascript at 0x7f2a970210d0>"
       ]
      },
      {
       "javascript": [
        "$('div#ae1516f6-5e19-4df3-ac07-cf68e1f52e55').text('ETA:  0:01:45');"
       ],
       "metadata": {},
       "output_type": "display_data",
       "text": [
        "<IPython.core.display.Javascript at 0x7f2a97021110>"
       ]
      },
      {
       "javascript": [
        "$('div#85400189-6928-448f-a97c-883694aea79a').text(' 73%');"
       ],
       "metadata": {},
       "output_type": "display_data",
       "text": [
        "<IPython.core.display.Javascript at 0x7f2a97021ed0>"
       ]
      },
      {
       "javascript": [
        "\n",
        "        var $myPB = $(\"div#73d29a16-56e5-4057-bc7d-518521da0697\")\n",
        "        if ($myPB.hasClass('ui-progressbar')) {\n",
        "            $myPB.progressbar('value', 418170);\n",
        "        } else {\n",
        "            $myPB.progressbar({value: 0, max: 565516});\n",
        "        }\n",
        "        "
       ],
       "metadata": {},
       "output_type": "display_data",
       "text": [
        "<IPython.core.display.Javascript at 0x7f2a97021f50>"
       ]
      },
      {
       "javascript": [
        "$('div#ae1516f6-5e19-4df3-ac07-cf68e1f52e55').text('ETA:  0:01:46');"
       ],
       "metadata": {},
       "output_type": "display_data",
       "text": [
        "<IPython.core.display.Javascript at 0x7f2a97021f90>"
       ]
      },
      {
       "javascript": [
        "$('div#85400189-6928-448f-a97c-883694aea79a').text(' 73%');"
       ],
       "metadata": {},
       "output_type": "display_data",
       "text": [
        "<IPython.core.display.Javascript at 0x7f2a976cdc90>"
       ]
      },
      {
       "javascript": [
        "\n",
        "        var $myPB = $(\"div#73d29a16-56e5-4057-bc7d-518521da0697\")\n",
        "        if ($myPB.hasClass('ui-progressbar')) {\n",
        "            $myPB.progressbar('value', 418310);\n",
        "        } else {\n",
        "            $myPB.progressbar({value: 0, max: 565516});\n",
        "        }\n",
        "        "
       ],
       "metadata": {},
       "output_type": "display_data",
       "text": [
        "<IPython.core.display.Javascript at 0x7f2a976cdd10>"
       ]
      },
      {
       "javascript": [
        "$('div#ae1516f6-5e19-4df3-ac07-cf68e1f52e55').text('ETA:  0:01:46');"
       ],
       "metadata": {},
       "output_type": "display_data",
       "text": [
        "<IPython.core.display.Javascript at 0x7f2a976cdd50>"
       ]
      },
      {
       "javascript": [
        "$('div#85400189-6928-448f-a97c-883694aea79a').text(' 74%');"
       ],
       "metadata": {},
       "output_type": "display_data",
       "text": [
        "<IPython.core.display.Javascript at 0x7f2a976cdf10>"
       ]
      },
      {
       "javascript": [
        "\n",
        "        var $myPB = $(\"div#73d29a16-56e5-4057-bc7d-518521da0697\")\n",
        "        if ($myPB.hasClass('ui-progressbar')) {\n",
        "            $myPB.progressbar('value', 420257);\n",
        "        } else {\n",
        "            $myPB.progressbar({value: 0, max: 565516});\n",
        "        }\n",
        "        "
       ],
       "metadata": {},
       "output_type": "display_data",
       "text": [
        "<IPython.core.display.Javascript at 0x7f2a976cdf90>"
       ]
      },
      {
       "javascript": [
        "$('div#ae1516f6-5e19-4df3-ac07-cf68e1f52e55').text('ETA:  0:01:44');"
       ],
       "metadata": {},
       "output_type": "display_data",
       "text": [
        "<IPython.core.display.Javascript at 0x7f2a976cdfd0>"
       ]
      },
      {
       "javascript": [
        "$('div#85400189-6928-448f-a97c-883694aea79a').text(' 74%');"
       ],
       "metadata": {},
       "output_type": "display_data",
       "text": [
        "<IPython.core.display.Javascript at 0x7f2a976eb0d0>"
       ]
      },
      {
       "javascript": [
        "\n",
        "        var $myPB = $(\"div#73d29a16-56e5-4057-bc7d-518521da0697\")\n",
        "        if ($myPB.hasClass('ui-progressbar')) {\n",
        "            $myPB.progressbar('value', 422348);\n",
        "        } else {\n",
        "            $myPB.progressbar({value: 0, max: 565516});\n",
        "        }\n",
        "        "
       ],
       "metadata": {},
       "output_type": "display_data",
       "text": [
        "<IPython.core.display.Javascript at 0x7f2a976eb110>"
       ]
      },
      {
       "javascript": [
        "$('div#ae1516f6-5e19-4df3-ac07-cf68e1f52e55').text('ETA:  0:01:43');"
       ],
       "metadata": {},
       "output_type": "display_data",
       "text": [
        "<IPython.core.display.Javascript at 0x7f2a976eb150>"
       ]
      },
      {
       "javascript": [
        "$('div#85400189-6928-448f-a97c-883694aea79a').text(' 74%');"
       ],
       "metadata": {},
       "output_type": "display_data",
       "text": [
        "<IPython.core.display.Javascript at 0x7f2a976eb4d0>"
       ]
      },
      {
       "javascript": [
        "\n",
        "        var $myPB = $(\"div#73d29a16-56e5-4057-bc7d-518521da0697\")\n",
        "        if ($myPB.hasClass('ui-progressbar')) {\n",
        "            $myPB.progressbar('value', 423804);\n",
        "        } else {\n",
        "            $myPB.progressbar({value: 0, max: 565516});\n",
        "        }\n",
        "        "
       ],
       "metadata": {},
       "output_type": "display_data",
       "text": [
        "<IPython.core.display.Javascript at 0x7f2a976eb550>"
       ]
      },
      {
       "javascript": [
        "$('div#ae1516f6-5e19-4df3-ac07-cf68e1f52e55').text('ETA:  0:01:42');"
       ],
       "metadata": {},
       "output_type": "display_data",
       "text": [
        "<IPython.core.display.Javascript at 0x7f2a976eb590>"
       ]
      },
      {
       "javascript": [
        "$('div#85400189-6928-448f-a97c-883694aea79a').text(' 74%');"
       ],
       "metadata": {},
       "output_type": "display_data",
       "text": [
        "<IPython.core.display.Javascript at 0x7f2a976ca310>"
       ]
      },
      {
       "javascript": [
        "\n",
        "        var $myPB = $(\"div#73d29a16-56e5-4057-bc7d-518521da0697\")\n",
        "        if ($myPB.hasClass('ui-progressbar')) {\n",
        "            $myPB.progressbar('value', 423976);\n",
        "        } else {\n",
        "            $myPB.progressbar({value: 0, max: 565516});\n",
        "        }\n",
        "        "
       ],
       "metadata": {},
       "output_type": "display_data",
       "text": [
        "<IPython.core.display.Javascript at 0x7f2a976ca390>"
       ]
      },
      {
       "javascript": [
        "$('div#ae1516f6-5e19-4df3-ac07-cf68e1f52e55').text('ETA:  0:01:42');"
       ],
       "metadata": {},
       "output_type": "display_data",
       "text": [
        "<IPython.core.display.Javascript at 0x7f2a976ca3d0>"
       ]
      },
      {
       "javascript": [
        "$('div#85400189-6928-448f-a97c-883694aea79a').text(' 74%');"
       ],
       "metadata": {},
       "output_type": "display_data",
       "text": [
        "<IPython.core.display.Javascript at 0x7f2a976d10d0>"
       ]
      },
      {
       "javascript": [
        "\n",
        "        var $myPB = $(\"div#73d29a16-56e5-4057-bc7d-518521da0697\")\n",
        "        if ($myPB.hasClass('ui-progressbar')) {\n",
        "            $myPB.progressbar('value', 424132);\n",
        "        } else {\n",
        "            $myPB.progressbar({value: 0, max: 565516});\n",
        "        }\n",
        "        "
       ],
       "metadata": {},
       "output_type": "display_data",
       "text": [
        "<IPython.core.display.Javascript at 0x7f2a976d1150>"
       ]
      },
      {
       "javascript": [
        "$('div#ae1516f6-5e19-4df3-ac07-cf68e1f52e55').text('ETA:  0:01:42');"
       ],
       "metadata": {},
       "output_type": "display_data",
       "text": [
        "<IPython.core.display.Javascript at 0x7f2a976d1190>"
       ]
      },
      {
       "javascript": [
        "$('div#85400189-6928-448f-a97c-883694aea79a').text(' 75%');"
       ],
       "metadata": {},
       "output_type": "display_data",
       "text": [
        "<IPython.core.display.Javascript at 0x7f2a976d17d0>"
       ]
      },
      {
       "javascript": [
        "\n",
        "        var $myPB = $(\"div#73d29a16-56e5-4057-bc7d-518521da0697\")\n",
        "        if ($myPB.hasClass('ui-progressbar')) {\n",
        "            $myPB.progressbar('value', 425347);\n",
        "        } else {\n",
        "            $myPB.progressbar({value: 0, max: 565516});\n",
        "        }\n",
        "        "
       ],
       "metadata": {},
       "output_type": "display_data",
       "text": [
        "<IPython.core.display.Javascript at 0x7f2a976d1850>"
       ]
      },
      {
       "javascript": [
        "$('div#ae1516f6-5e19-4df3-ac07-cf68e1f52e55').text('ETA:  0:01:41');"
       ],
       "metadata": {},
       "output_type": "display_data",
       "text": [
        "<IPython.core.display.Javascript at 0x7f2a976d1890>"
       ]
      },
      {
       "javascript": [
        "$('div#85400189-6928-448f-a97c-883694aea79a').text(' 75%');"
       ],
       "metadata": {},
       "output_type": "display_data",
       "text": [
        "<IPython.core.display.Javascript at 0x7f2a976d1cd0>"
       ]
      },
      {
       "javascript": [
        "\n",
        "        var $myPB = $(\"div#73d29a16-56e5-4057-bc7d-518521da0697\")\n",
        "        if ($myPB.hasClass('ui-progressbar')) {\n",
        "            $myPB.progressbar('value', 426941);\n",
        "        } else {\n",
        "            $myPB.progressbar({value: 0, max: 565516});\n",
        "        }\n",
        "        "
       ],
       "metadata": {},
       "output_type": "display_data",
       "text": [
        "<IPython.core.display.Javascript at 0x7f2a976d1d50>"
       ]
      },
      {
       "javascript": [
        "$('div#ae1516f6-5e19-4df3-ac07-cf68e1f52e55').text('ETA:  0:01:40');"
       ],
       "metadata": {},
       "output_type": "display_data",
       "text": [
        "<IPython.core.display.Javascript at 0x7f2a976d1d90>"
       ]
      },
      {
       "javascript": [
        "$('div#85400189-6928-448f-a97c-883694aea79a').text(' 75%');"
       ],
       "metadata": {},
       "output_type": "display_data",
       "text": [
        "<IPython.core.display.Javascript at 0x7f2a974c1b90>"
       ]
      },
      {
       "javascript": [
        "\n",
        "        var $myPB = $(\"div#73d29a16-56e5-4057-bc7d-518521da0697\")\n",
        "        if ($myPB.hasClass('ui-progressbar')) {\n",
        "            $myPB.progressbar('value', 427060);\n",
        "        } else {\n",
        "            $myPB.progressbar({value: 0, max: 565516});\n",
        "        }\n",
        "        "
       ],
       "metadata": {},
       "output_type": "display_data",
       "text": [
        "<IPython.core.display.Javascript at 0x7f2a974c1c10>"
       ]
      },
      {
       "javascript": [
        "$('div#ae1516f6-5e19-4df3-ac07-cf68e1f52e55').text('ETA:  0:01:40');"
       ],
       "metadata": {},
       "output_type": "display_data",
       "text": [
        "<IPython.core.display.Javascript at 0x7f2a974c1c50>"
       ]
      },
      {
       "javascript": [
        "$('div#85400189-6928-448f-a97c-883694aea79a').text(' 75%');"
       ],
       "metadata": {},
       "output_type": "display_data",
       "text": [
        "<IPython.core.display.Javascript at 0x7f2a974b39d0>"
       ]
      },
      {
       "javascript": [
        "\n",
        "        var $myPB = $(\"div#73d29a16-56e5-4057-bc7d-518521da0697\")\n",
        "        if ($myPB.hasClass('ui-progressbar')) {\n",
        "            $myPB.progressbar('value', 427244);\n",
        "        } else {\n",
        "            $myPB.progressbar({value: 0, max: 565516});\n",
        "        }\n",
        "        "
       ],
       "metadata": {},
       "output_type": "display_data",
       "text": [
        "<IPython.core.display.Javascript at 0x7f2a974b3a50>"
       ]
      },
      {
       "javascript": [
        "$('div#ae1516f6-5e19-4df3-ac07-cf68e1f52e55').text('ETA:  0:01:40');"
       ],
       "metadata": {},
       "output_type": "display_data",
       "text": [
        "<IPython.core.display.Javascript at 0x7f2a974b3a90>"
       ]
      },
      {
       "javascript": [
        "$('div#85400189-6928-448f-a97c-883694aea79a').text(' 75%');"
       ],
       "metadata": {},
       "output_type": "display_data",
       "text": [
        "<IPython.core.display.Javascript at 0x7f2a974cc690>"
       ]
      },
      {
       "javascript": [
        "\n",
        "        var $myPB = $(\"div#73d29a16-56e5-4057-bc7d-518521da0697\")\n",
        "        if ($myPB.hasClass('ui-progressbar')) {\n",
        "            $myPB.progressbar('value', 427393);\n",
        "        } else {\n",
        "            $myPB.progressbar({value: 0, max: 565516});\n",
        "        }\n",
        "        "
       ],
       "metadata": {},
       "output_type": "display_data",
       "text": [
        "<IPython.core.display.Javascript at 0x7f2a974cc710>"
       ]
      },
      {
       "javascript": [
        "$('div#ae1516f6-5e19-4df3-ac07-cf68e1f52e55').text('ETA:  0:01:40');"
       ],
       "metadata": {},
       "output_type": "display_data",
       "text": [
        "<IPython.core.display.Javascript at 0x7f2a974cc750>"
       ]
      },
      {
       "javascript": [
        "$('div#85400189-6928-448f-a97c-883694aea79a').text(' 75%');"
       ],
       "metadata": {},
       "output_type": "display_data",
       "text": [
        "<IPython.core.display.Javascript at 0x7f2a974ce050>"
       ]
      },
      {
       "javascript": [
        "\n",
        "        var $myPB = $(\"div#73d29a16-56e5-4057-bc7d-518521da0697\")\n",
        "        if ($myPB.hasClass('ui-progressbar')) {\n",
        "            $myPB.progressbar('value', 428284);\n",
        "        } else {\n",
        "            $myPB.progressbar({value: 0, max: 565516});\n",
        "        }\n",
        "        "
       ],
       "metadata": {},
       "output_type": "display_data",
       "text": [
        "<IPython.core.display.Javascript at 0x7f2a974ce0d0>"
       ]
      },
      {
       "javascript": [
        "$('div#ae1516f6-5e19-4df3-ac07-cf68e1f52e55').text('ETA:  0:01:40');"
       ],
       "metadata": {},
       "output_type": "display_data",
       "text": [
        "<IPython.core.display.Javascript at 0x7f2a974ce110>"
       ]
      },
      {
       "javascript": [
        "$('div#85400189-6928-448f-a97c-883694aea79a').text(' 75%');"
       ],
       "metadata": {},
       "output_type": "display_data",
       "text": [
        "<IPython.core.display.Javascript at 0x7f2a974ce8d0>"
       ]
      },
      {
       "javascript": [
        "\n",
        "        var $myPB = $(\"div#73d29a16-56e5-4057-bc7d-518521da0697\")\n",
        "        if ($myPB.hasClass('ui-progressbar')) {\n",
        "            $myPB.progressbar('value', 429254);\n",
        "        } else {\n",
        "            $myPB.progressbar({value: 0, max: 565516});\n",
        "        }\n",
        "        "
       ],
       "metadata": {},
       "output_type": "display_data",
       "text": [
        "<IPython.core.display.Javascript at 0x7f2a974ce950>"
       ]
      },
      {
       "javascript": [
        "$('div#ae1516f6-5e19-4df3-ac07-cf68e1f52e55').text('ETA:  0:01:39');"
       ],
       "metadata": {},
       "output_type": "display_data",
       "text": [
        "<IPython.core.display.Javascript at 0x7f2a974ce990>"
       ]
      },
      {
       "javascript": [
        "$('div#85400189-6928-448f-a97c-883694aea79a').text(' 76%');"
       ],
       "metadata": {},
       "output_type": "display_data",
       "text": [
        "<IPython.core.display.Javascript at 0x7f2a974ceed0>"
       ]
      },
      {
       "javascript": [
        "\n",
        "        var $myPB = $(\"div#73d29a16-56e5-4057-bc7d-518521da0697\")\n",
        "        if ($myPB.hasClass('ui-progressbar')) {\n",
        "            $myPB.progressbar('value', 430485);\n",
        "        } else {\n",
        "            $myPB.progressbar({value: 0, max: 565516});\n",
        "        }\n",
        "        "
       ],
       "metadata": {},
       "output_type": "display_data",
       "text": [
        "<IPython.core.display.Javascript at 0x7f2a974cef50>"
       ]
      },
      {
       "javascript": [
        "$('div#ae1516f6-5e19-4df3-ac07-cf68e1f52e55').text('ETA:  0:01:38');"
       ],
       "metadata": {},
       "output_type": "display_data",
       "text": [
        "<IPython.core.display.Javascript at 0x7f2a974cef90>"
       ]
      },
      {
       "javascript": [
        "$('div#85400189-6928-448f-a97c-883694aea79a').text(' 76%');"
       ],
       "metadata": {},
       "output_type": "display_data",
       "text": [
        "<IPython.core.display.Javascript at 0x7f2a96348210>"
       ]
      },
      {
       "javascript": [
        "\n",
        "        var $myPB = $(\"div#73d29a16-56e5-4057-bc7d-518521da0697\")\n",
        "        if ($myPB.hasClass('ui-progressbar')) {\n",
        "            $myPB.progressbar('value', 432279);\n",
        "        } else {\n",
        "            $myPB.progressbar({value: 0, max: 565516});\n",
        "        }\n",
        "        "
       ],
       "metadata": {},
       "output_type": "display_data",
       "text": [
        "<IPython.core.display.Javascript at 0x7f2a96348290>"
       ]
      },
      {
       "javascript": [
        "$('div#ae1516f6-5e19-4df3-ac07-cf68e1f52e55').text('ETA:  0:01:37');"
       ],
       "metadata": {},
       "output_type": "display_data",
       "text": [
        "<IPython.core.display.Javascript at 0x7f2a963482d0>"
       ]
      },
      {
       "javascript": [
        "$('div#85400189-6928-448f-a97c-883694aea79a').text(' 76%');"
       ],
       "metadata": {},
       "output_type": "display_data",
       "text": [
        "<IPython.core.display.Javascript at 0x7f2a96348a10>"
       ]
      },
      {
       "javascript": [
        "\n",
        "        var $myPB = $(\"div#73d29a16-56e5-4057-bc7d-518521da0697\")\n",
        "        if ($myPB.hasClass('ui-progressbar')) {\n",
        "            $myPB.progressbar('value', 433257);\n",
        "        } else {\n",
        "            $myPB.progressbar({value: 0, max: 565516});\n",
        "        }\n",
        "        "
       ],
       "metadata": {},
       "output_type": "display_data",
       "text": [
        "<IPython.core.display.Javascript at 0x7f2a96348a90>"
       ]
      },
      {
       "javascript": [
        "$('div#ae1516f6-5e19-4df3-ac07-cf68e1f52e55').text('ETA:  0:01:36');"
       ],
       "metadata": {},
       "output_type": "display_data",
       "text": [
        "<IPython.core.display.Javascript at 0x7f2a96348ad0>"
       ]
      },
      {
       "javascript": [
        "$('div#85400189-6928-448f-a97c-883694aea79a').text(' 76%');"
       ],
       "metadata": {},
       "output_type": "display_data",
       "text": [
        "<IPython.core.display.Javascript at 0x7f2a96348f10>"
       ]
      },
      {
       "javascript": [
        "\n",
        "        var $myPB = $(\"div#73d29a16-56e5-4057-bc7d-518521da0697\")\n",
        "        if ($myPB.hasClass('ui-progressbar')) {\n",
        "            $myPB.progressbar('value', 434776);\n",
        "        } else {\n",
        "            $myPB.progressbar({value: 0, max: 565516});\n",
        "        }\n",
        "        "
       ],
       "metadata": {},
       "output_type": "display_data",
       "text": [
        "<IPython.core.display.Javascript at 0x7f2a96348f90>"
       ]
      },
      {
       "javascript": [
        "$('div#ae1516f6-5e19-4df3-ac07-cf68e1f52e55').text('ETA:  0:01:35');"
       ],
       "metadata": {},
       "output_type": "display_data",
       "text": [
        "<IPython.core.display.Javascript at 0x7f2a96348fd0>"
       ]
      },
      {
       "javascript": [
        "$('div#85400189-6928-448f-a97c-883694aea79a').text(' 77%');"
       ],
       "metadata": {},
       "output_type": "display_data",
       "text": [
        "<IPython.core.display.Javascript at 0x7f2a9633b750>"
       ]
      },
      {
       "javascript": [
        "\n",
        "        var $myPB = $(\"div#73d29a16-56e5-4057-bc7d-518521da0697\")\n",
        "        if ($myPB.hasClass('ui-progressbar')) {\n",
        "            $myPB.progressbar('value', 435797);\n",
        "        } else {\n",
        "            $myPB.progressbar({value: 0, max: 565516});\n",
        "        }\n",
        "        "
       ],
       "metadata": {},
       "output_type": "display_data",
       "text": [
        "<IPython.core.display.Javascript at 0x7f2a9633b7d0>"
       ]
      },
      {
       "javascript": [
        "$('div#ae1516f6-5e19-4df3-ac07-cf68e1f52e55').text('ETA:  0:01:35');"
       ],
       "metadata": {},
       "output_type": "display_data",
       "text": [
        "<IPython.core.display.Javascript at 0x7f2a9633b810>"
       ]
      },
      {
       "javascript": [
        "$('div#85400189-6928-448f-a97c-883694aea79a').text(' 77%');"
       ],
       "metadata": {},
       "output_type": "display_data",
       "text": [
        "<IPython.core.display.Javascript at 0x7f2a9635b510>"
       ]
      },
      {
       "javascript": [
        "\n",
        "        var $myPB = $(\"div#73d29a16-56e5-4057-bc7d-518521da0697\")\n",
        "        if ($myPB.hasClass('ui-progressbar')) {\n",
        "            $myPB.progressbar('value', 435995);\n",
        "        } else {\n",
        "            $myPB.progressbar({value: 0, max: 565516});\n",
        "        }\n",
        "        "
       ],
       "metadata": {},
       "output_type": "display_data",
       "text": [
        "<IPython.core.display.Javascript at 0x7f2a9635b590>"
       ]
      },
      {
       "javascript": [
        "$('div#ae1516f6-5e19-4df3-ac07-cf68e1f52e55').text('ETA:  0:01:35');"
       ],
       "metadata": {},
       "output_type": "display_data",
       "text": [
        "<IPython.core.display.Javascript at 0x7f2a9635b5d0>"
       ]
      },
      {
       "javascript": [
        "$('div#85400189-6928-448f-a97c-883694aea79a').text(' 77%');"
       ],
       "metadata": {},
       "output_type": "display_data",
       "text": [
        "<IPython.core.display.Javascript at 0x7f2a950ca2d0>"
       ]
      },
      {
       "javascript": [
        "\n",
        "        var $myPB = $(\"div#73d29a16-56e5-4057-bc7d-518521da0697\")\n",
        "        if ($myPB.hasClass('ui-progressbar')) {\n",
        "            $myPB.progressbar('value', 436181);\n",
        "        } else {\n",
        "            $myPB.progressbar({value: 0, max: 565516});\n",
        "        }\n",
        "        "
       ],
       "metadata": {},
       "output_type": "display_data",
       "text": [
        "<IPython.core.display.Javascript at 0x7f2a950ca350>"
       ]
      },
      {
       "javascript": [
        "$('div#ae1516f6-5e19-4df3-ac07-cf68e1f52e55').text('ETA:  0:01:35');"
       ],
       "metadata": {},
       "output_type": "display_data",
       "text": [
        "<IPython.core.display.Javascript at 0x7f2a950ca390>"
       ]
      },
      {
       "javascript": [
        "$('div#85400189-6928-448f-a97c-883694aea79a').text(' 77%');"
       ],
       "metadata": {},
       "output_type": "display_data",
       "text": [
        "<IPython.core.display.Javascript at 0x7f2a950caed0>"
       ]
      },
      {
       "javascript": [
        "\n",
        "        var $myPB = $(\"div#73d29a16-56e5-4057-bc7d-518521da0697\")\n",
        "        if ($myPB.hasClass('ui-progressbar')) {\n",
        "            $myPB.progressbar('value', 436475);\n",
        "        } else {\n",
        "            $myPB.progressbar({value: 0, max: 565516});\n",
        "        }\n",
        "        "
       ],
       "metadata": {},
       "output_type": "display_data",
       "text": [
        "<IPython.core.display.Javascript at 0x7f2a950caf50>"
       ]
      },
      {
       "javascript": [
        "$('div#ae1516f6-5e19-4df3-ac07-cf68e1f52e55').text('ETA:  0:01:35');"
       ],
       "metadata": {},
       "output_type": "display_data",
       "text": [
        "<IPython.core.display.Javascript at 0x7f2a950caf90>"
       ]
      },
      {
       "javascript": [
        "$('div#85400189-6928-448f-a97c-883694aea79a').text(' 77%');"
       ],
       "metadata": {},
       "output_type": "display_data",
       "text": [
        "<IPython.core.display.Javascript at 0x7f2a950b3490>"
       ]
      },
      {
       "javascript": [
        "\n",
        "        var $myPB = $(\"div#73d29a16-56e5-4057-bc7d-518521da0697\")\n",
        "        if ($myPB.hasClass('ui-progressbar')) {\n",
        "            $myPB.progressbar('value', 437984);\n",
        "        } else {\n",
        "            $myPB.progressbar({value: 0, max: 565516});\n",
        "        }\n",
        "        "
       ],
       "metadata": {},
       "output_type": "display_data",
       "text": [
        "<IPython.core.display.Javascript at 0x7f2a950b3510>"
       ]
      },
      {
       "javascript": [
        "$('div#ae1516f6-5e19-4df3-ac07-cf68e1f52e55').text('ETA:  0:01:34');"
       ],
       "metadata": {},
       "output_type": "display_data",
       "text": [
        "<IPython.core.display.Javascript at 0x7f2a950b3550>"
       ]
      },
      {
       "javascript": [
        "$('div#85400189-6928-448f-a97c-883694aea79a').text(' 77%');"
       ],
       "metadata": {},
       "output_type": "display_data",
       "text": [
        "<IPython.core.display.Javascript at 0x7f2a950b3710>"
       ]
      },
      {
       "javascript": [
        "\n",
        "        var $myPB = $(\"div#73d29a16-56e5-4057-bc7d-518521da0697\")\n",
        "        if ($myPB.hasClass('ui-progressbar')) {\n",
        "            $myPB.progressbar('value', 439809);\n",
        "        } else {\n",
        "            $myPB.progressbar({value: 0, max: 565516});\n",
        "        }\n",
        "        "
       ],
       "metadata": {},
       "output_type": "display_data",
       "text": [
        "<IPython.core.display.Javascript at 0x7f2a950b3790>"
       ]
      },
      {
       "javascript": [
        "$('div#ae1516f6-5e19-4df3-ac07-cf68e1f52e55').text('ETA:  0:01:32');"
       ],
       "metadata": {},
       "output_type": "display_data",
       "text": [
        "<IPython.core.display.Javascript at 0x7f2a950b37d0>"
       ]
      },
      {
       "javascript": [
        "$('div#85400189-6928-448f-a97c-883694aea79a').text(' 77%');"
       ],
       "metadata": {},
       "output_type": "display_data",
       "text": [
        "<IPython.core.display.Javascript at 0x7f2a950e61d0>"
       ]
      },
      {
       "javascript": [
        "\n",
        "        var $myPB = $(\"div#73d29a16-56e5-4057-bc7d-518521da0697\")\n",
        "        if ($myPB.hasClass('ui-progressbar')) {\n",
        "            $myPB.progressbar('value', 440494);\n",
        "        } else {\n",
        "            $myPB.progressbar({value: 0, max: 565516});\n",
        "        }\n",
        "        "
       ],
       "metadata": {},
       "output_type": "display_data",
       "text": [
        "<IPython.core.display.Javascript at 0x7f2a950e6250>"
       ]
      },
      {
       "javascript": [
        "$('div#ae1516f6-5e19-4df3-ac07-cf68e1f52e55').text('ETA:  0:01:32');"
       ],
       "metadata": {},
       "output_type": "display_data",
       "text": [
        "<IPython.core.display.Javascript at 0x7f2a950e6290>"
       ]
      },
      {
       "javascript": [
        "$('div#85400189-6928-448f-a97c-883694aea79a').text(' 78%');"
       ],
       "metadata": {},
       "output_type": "display_data",
       "text": [
        "<IPython.core.display.Javascript at 0x7f2a950e6ad0>"
       ]
      },
      {
       "javascript": [
        "\n",
        "        var $myPB = $(\"div#73d29a16-56e5-4057-bc7d-518521da0697\")\n",
        "        if ($myPB.hasClass('ui-progressbar')) {\n",
        "            $myPB.progressbar('value', 441350);\n",
        "        } else {\n",
        "            $myPB.progressbar({value: 0, max: 565516});\n",
        "        }\n",
        "        "
       ],
       "metadata": {},
       "output_type": "display_data",
       "text": [
        "<IPython.core.display.Javascript at 0x7f2a950e6b50>"
       ]
      },
      {
       "javascript": [
        "$('div#ae1516f6-5e19-4df3-ac07-cf68e1f52e55').text('ETA:  0:01:31');"
       ],
       "metadata": {},
       "output_type": "display_data",
       "text": [
        "<IPython.core.display.Javascript at 0x7f2a950e6b90>"
       ]
      },
      {
       "javascript": [
        "$('div#85400189-6928-448f-a97c-883694aea79a').text(' 78%');"
       ],
       "metadata": {},
       "output_type": "display_data",
       "text": [
        "<IPython.core.display.Javascript at 0x7f2a950d9490>"
       ]
      },
      {
       "javascript": [
        "\n",
        "        var $myPB = $(\"div#73d29a16-56e5-4057-bc7d-518521da0697\")\n",
        "        if ($myPB.hasClass('ui-progressbar')) {\n",
        "            $myPB.progressbar('value', 442025);\n",
        "        } else {\n",
        "            $myPB.progressbar({value: 0, max: 565516});\n",
        "        }\n",
        "        "
       ],
       "metadata": {},
       "output_type": "display_data",
       "text": [
        "<IPython.core.display.Javascript at 0x7f2a950d9510>"
       ]
      },
      {
       "javascript": [
        "$('div#ae1516f6-5e19-4df3-ac07-cf68e1f52e55').text('ETA:  0:01:31');"
       ],
       "metadata": {},
       "output_type": "display_data",
       "text": [
        "<IPython.core.display.Javascript at 0x7f2a950d9550>"
       ]
      },
      {
       "javascript": [
        "$('div#85400189-6928-448f-a97c-883694aea79a').text(' 78%');"
       ],
       "metadata": {},
       "output_type": "display_data",
       "text": [
        "<IPython.core.display.Javascript at 0x7f2a950d9e10>"
       ]
      },
      {
       "javascript": [
        "\n",
        "        var $myPB = $(\"div#73d29a16-56e5-4057-bc7d-518521da0697\")\n",
        "        if ($myPB.hasClass('ui-progressbar')) {\n",
        "            $myPB.progressbar('value', 442834);\n",
        "        } else {\n",
        "            $myPB.progressbar({value: 0, max: 565516});\n",
        "        }\n",
        "        "
       ],
       "metadata": {},
       "output_type": "display_data",
       "text": [
        "<IPython.core.display.Javascript at 0x7f2a950d9e90>"
       ]
      },
      {
       "javascript": [
        "$('div#ae1516f6-5e19-4df3-ac07-cf68e1f52e55').text('ETA:  0:01:31');"
       ],
       "metadata": {},
       "output_type": "display_data",
       "text": [
        "<IPython.core.display.Javascript at 0x7f2a950d9ed0>"
       ]
      },
      {
       "javascript": [
        "$('div#85400189-6928-448f-a97c-883694aea79a').text(' 78%');"
       ],
       "metadata": {},
       "output_type": "display_data",
       "text": [
        "<IPython.core.display.Javascript at 0x7f2a9534f7d0>"
       ]
      },
      {
       "javascript": [
        "\n",
        "        var $myPB = $(\"div#73d29a16-56e5-4057-bc7d-518521da0697\")\n",
        "        if ($myPB.hasClass('ui-progressbar')) {\n",
        "            $myPB.progressbar('value', 443600);\n",
        "        } else {\n",
        "            $myPB.progressbar({value: 0, max: 565516});\n",
        "        }\n",
        "        "
       ],
       "metadata": {},
       "output_type": "display_data",
       "text": [
        "<IPython.core.display.Javascript at 0x7f2a9534f850>"
       ]
      },
      {
       "javascript": [
        "$('div#ae1516f6-5e19-4df3-ac07-cf68e1f52e55').text('ETA:  0:01:30');"
       ],
       "metadata": {},
       "output_type": "display_data",
       "text": [
        "<IPython.core.display.Javascript at 0x7f2a9534f890>"
       ]
      },
      {
       "javascript": [
        "$('div#85400189-6928-448f-a97c-883694aea79a').text(' 78%');"
       ],
       "metadata": {},
       "output_type": "display_data",
       "text": [
        "<IPython.core.display.Javascript at 0x7f2a9534fa50>"
       ]
      },
      {
       "javascript": [
        "\n",
        "        var $myPB = $(\"div#73d29a16-56e5-4057-bc7d-518521da0697\")\n",
        "        if ($myPB.hasClass('ui-progressbar')) {\n",
        "            $myPB.progressbar('value', 445565);\n",
        "        } else {\n",
        "            $myPB.progressbar({value: 0, max: 565516});\n",
        "        }\n",
        "        "
       ],
       "metadata": {},
       "output_type": "display_data",
       "text": [
        "<IPython.core.display.Javascript at 0x7f2a9534fad0>"
       ]
      },
      {
       "javascript": [
        "$('div#ae1516f6-5e19-4df3-ac07-cf68e1f52e55').text('ETA:  0:01:29');"
       ],
       "metadata": {},
       "output_type": "display_data",
       "text": [
        "<IPython.core.display.Javascript at 0x7f2a9534fb10>"
       ]
      },
      {
       "javascript": [
        "$('div#85400189-6928-448f-a97c-883694aea79a').text(' 79%');"
       ],
       "metadata": {},
       "output_type": "display_data",
       "text": [
        "<IPython.core.display.Javascript at 0x7f2a9534fdd0>"
       ]
      },
      {
       "javascript": [
        "\n",
        "        var $myPB = $(\"div#73d29a16-56e5-4057-bc7d-518521da0697\")\n",
        "        if ($myPB.hasClass('ui-progressbar')) {\n",
        "            $myPB.progressbar('value', 447317);\n",
        "        } else {\n",
        "            $myPB.progressbar({value: 0, max: 565516});\n",
        "        }\n",
        "        "
       ],
       "metadata": {},
       "output_type": "display_data",
       "text": [
        "<IPython.core.display.Javascript at 0x7f2a9534fe50>"
       ]
      },
      {
       "javascript": [
        "$('div#ae1516f6-5e19-4df3-ac07-cf68e1f52e55').text('ETA:  0:01:27');"
       ],
       "metadata": {},
       "output_type": "display_data",
       "text": [
        "<IPython.core.display.Javascript at 0x7f2a9534fe90>"
       ]
      },
      {
       "javascript": [
        "$('div#85400189-6928-448f-a97c-883694aea79a').text(' 79%');"
       ],
       "metadata": {},
       "output_type": "display_data",
       "text": [
        "<IPython.core.display.Javascript at 0x7f2a95372990>"
       ]
      },
      {
       "javascript": [
        "\n",
        "        var $myPB = $(\"div#73d29a16-56e5-4057-bc7d-518521da0697\")\n",
        "        if ($myPB.hasClass('ui-progressbar')) {\n",
        "            $myPB.progressbar('value', 447687);\n",
        "        } else {\n",
        "            $myPB.progressbar({value: 0, max: 565516});\n",
        "        }\n",
        "        "
       ],
       "metadata": {},
       "output_type": "display_data",
       "text": [
        "<IPython.core.display.Javascript at 0x7f2a95372a10>"
       ]
      },
      {
       "javascript": [
        "$('div#ae1516f6-5e19-4df3-ac07-cf68e1f52e55').text('ETA:  0:01:27');"
       ],
       "metadata": {},
       "output_type": "display_data",
       "text": [
        "<IPython.core.display.Javascript at 0x7f2a95372a50>"
       ]
      },
      {
       "javascript": [
        "$('div#85400189-6928-448f-a97c-883694aea79a').text(' 79%');"
       ],
       "metadata": {},
       "output_type": "display_data",
       "text": [
        "<IPython.core.display.Javascript at 0x7f2a9533f6d0>"
       ]
      },
      {
       "javascript": [
        "\n",
        "        var $myPB = $(\"div#73d29a16-56e5-4057-bc7d-518521da0697\")\n",
        "        if ($myPB.hasClass('ui-progressbar')) {\n",
        "            $myPB.progressbar('value', 447881);\n",
        "        } else {\n",
        "            $myPB.progressbar({value: 0, max: 565516});\n",
        "        }\n",
        "        "
       ],
       "metadata": {},
       "output_type": "display_data",
       "text": [
        "<IPython.core.display.Javascript at 0x7f2a9533f750>"
       ]
      },
      {
       "javascript": [
        "$('div#ae1516f6-5e19-4df3-ac07-cf68e1f52e55').text('ETA:  0:01:27');"
       ],
       "metadata": {},
       "output_type": "display_data",
       "text": [
        "<IPython.core.display.Javascript at 0x7f2a9533f790>"
       ]
      },
      {
       "javascript": [
        "$('div#85400189-6928-448f-a97c-883694aea79a').text(' 79%');"
       ],
       "metadata": {},
       "output_type": "display_data",
       "text": [
        "<IPython.core.display.Javascript at 0x7f2a95354290>"
       ]
      },
      {
       "javascript": [
        "\n",
        "        var $myPB = $(\"div#73d29a16-56e5-4057-bc7d-518521da0697\")\n",
        "        if ($myPB.hasClass('ui-progressbar')) {\n",
        "            $myPB.progressbar('value', 448201);\n",
        "        } else {\n",
        "            $myPB.progressbar({value: 0, max: 565516});\n",
        "        }\n",
        "        "
       ],
       "metadata": {},
       "output_type": "display_data",
       "text": [
        "<IPython.core.display.Javascript at 0x7f2a95354310>"
       ]
      },
      {
       "javascript": [
        "$('div#ae1516f6-5e19-4df3-ac07-cf68e1f52e55').text('ETA:  0:01:27');"
       ],
       "metadata": {},
       "output_type": "display_data",
       "text": [
        "<IPython.core.display.Javascript at 0x7f2a95354350>"
       ]
      },
      {
       "javascript": [
        "$('div#85400189-6928-448f-a97c-883694aea79a').text(' 79%');"
       ],
       "metadata": {},
       "output_type": "display_data",
       "text": [
        "<IPython.core.display.Javascript at 0x7f2a95354810>"
       ]
      },
      {
       "javascript": [
        "\n",
        "        var $myPB = $(\"div#73d29a16-56e5-4057-bc7d-518521da0697\")\n",
        "        if ($myPB.hasClass('ui-progressbar')) {\n",
        "            $myPB.progressbar('value', 449636);\n",
        "        } else {\n",
        "            $myPB.progressbar({value: 0, max: 565516});\n",
        "        }\n",
        "        "
       ],
       "metadata": {},
       "output_type": "display_data",
       "text": [
        "<IPython.core.display.Javascript at 0x7f2a95354890>"
       ]
      },
      {
       "javascript": [
        "$('div#ae1516f6-5e19-4df3-ac07-cf68e1f52e55').text('ETA:  0:01:26');"
       ],
       "metadata": {},
       "output_type": "display_data",
       "text": [
        "<IPython.core.display.Javascript at 0x7f2a953548d0>"
       ]
      },
      {
       "javascript": [
        "$('div#85400189-6928-448f-a97c-883694aea79a').text(' 79%');"
       ],
       "metadata": {},
       "output_type": "display_data",
       "text": [
        "<IPython.core.display.Javascript at 0x7f2a94b2a4d0>"
       ]
      },
      {
       "javascript": [
        "\n",
        "        var $myPB = $(\"div#73d29a16-56e5-4057-bc7d-518521da0697\")\n",
        "        if ($myPB.hasClass('ui-progressbar')) {\n",
        "            $myPB.progressbar('value', 449860);\n",
        "        } else {\n",
        "            $myPB.progressbar({value: 0, max: 565516});\n",
        "        }\n",
        "        "
       ],
       "metadata": {},
       "output_type": "display_data",
       "text": [
        "<IPython.core.display.Javascript at 0x7f2a94b2a550>"
       ]
      },
      {
       "javascript": [
        "$('div#ae1516f6-5e19-4df3-ac07-cf68e1f52e55').text('ETA:  0:01:26');"
       ],
       "metadata": {},
       "output_type": "display_data",
       "text": [
        "<IPython.core.display.Javascript at 0x7f2a94b2a590>"
       ]
      },
      {
       "javascript": [
        "$('div#85400189-6928-448f-a97c-883694aea79a').text(' 79%');"
       ],
       "metadata": {},
       "output_type": "display_data",
       "text": [
        "<IPython.core.display.Javascript at 0x7f2a94afd110>"
       ]
      },
      {
       "javascript": [
        "\n",
        "        var $myPB = $(\"div#73d29a16-56e5-4057-bc7d-518521da0697\")\n",
        "        if ($myPB.hasClass('ui-progressbar')) {\n",
        "            $myPB.progressbar('value', 450060);\n",
        "        } else {\n",
        "            $myPB.progressbar({value: 0, max: 565516});\n",
        "        }\n",
        "        "
       ],
       "metadata": {},
       "output_type": "display_data",
       "text": [
        "<IPython.core.display.Javascript at 0x7f2a94afd190>"
       ]
      },
      {
       "javascript": [
        "$('div#ae1516f6-5e19-4df3-ac07-cf68e1f52e55').text('ETA:  0:01:26');"
       ],
       "metadata": {},
       "output_type": "display_data",
       "text": [
        "<IPython.core.display.Javascript at 0x7f2a94afd1d0>"
       ]
      },
      {
       "javascript": [
        "$('div#85400189-6928-448f-a97c-883694aea79a').text(' 79%');"
       ],
       "metadata": {},
       "output_type": "display_data",
       "text": [
        "<IPython.core.display.Javascript at 0x7f2a94afd290>"
       ]
      },
      {
       "javascript": [
        "\n",
        "        var $myPB = $(\"div#73d29a16-56e5-4057-bc7d-518521da0697\")\n",
        "        if ($myPB.hasClass('ui-progressbar')) {\n",
        "            $myPB.progressbar('value', 452130);\n",
        "        } else {\n",
        "            $myPB.progressbar({value: 0, max: 565516});\n",
        "        }\n",
        "        "
       ],
       "metadata": {},
       "output_type": "display_data",
       "text": [
        "<IPython.core.display.Javascript at 0x7f2a94afd390>"
       ]
      },
      {
       "javascript": [
        "$('div#ae1516f6-5e19-4df3-ac07-cf68e1f52e55').text('ETA:  0:01:24');"
       ],
       "metadata": {},
       "output_type": "display_data",
       "text": [
        "<IPython.core.display.Javascript at 0x7f2a94afd3d0>"
       ]
      },
      {
       "javascript": [
        "$('div#85400189-6928-448f-a97c-883694aea79a').text(' 80%');"
       ],
       "metadata": {},
       "output_type": "display_data",
       "text": [
        "<IPython.core.display.Javascript at 0x7f2a94afd610>"
       ]
      },
      {
       "javascript": [
        "\n",
        "        var $myPB = $(\"div#73d29a16-56e5-4057-bc7d-518521da0697\")\n",
        "        if ($myPB.hasClass('ui-progressbar')) {\n",
        "            $myPB.progressbar('value', 453895);\n",
        "        } else {\n",
        "            $myPB.progressbar({value: 0, max: 565516});\n",
        "        }\n",
        "        "
       ],
       "metadata": {},
       "output_type": "display_data",
       "text": [
        "<IPython.core.display.Javascript at 0x7f2a94afd690>"
       ]
      },
      {
       "javascript": [
        "$('div#ae1516f6-5e19-4df3-ac07-cf68e1f52e55').text('ETA:  0:01:23');"
       ],
       "metadata": {},
       "output_type": "display_data",
       "text": [
        "<IPython.core.display.Javascript at 0x7f2a94afd6d0>"
       ]
      },
      {
       "javascript": [
        "$('div#85400189-6928-448f-a97c-883694aea79a').text(' 80%');"
       ],
       "metadata": {},
       "output_type": "display_data",
       "text": [
        "<IPython.core.display.Javascript at 0x7f2a94b1e250>"
       ]
      },
      {
       "javascript": [
        "\n",
        "        var $myPB = $(\"div#73d29a16-56e5-4057-bc7d-518521da0697\")\n",
        "        if ($myPB.hasClass('ui-progressbar')) {\n",
        "            $myPB.progressbar('value', 454261);\n",
        "        } else {\n",
        "            $myPB.progressbar({value: 0, max: 565516});\n",
        "        }\n",
        "        "
       ],
       "metadata": {},
       "output_type": "display_data",
       "text": [
        "<IPython.core.display.Javascript at 0x7f2a94b1e2d0>"
       ]
      },
      {
       "javascript": [
        "$('div#ae1516f6-5e19-4df3-ac07-cf68e1f52e55').text('ETA:  0:01:23');"
       ],
       "metadata": {},
       "output_type": "display_data",
       "text": [
        "<IPython.core.display.Javascript at 0x7f2a94b1e310>"
       ]
      },
      {
       "javascript": [
        "$('div#85400189-6928-448f-a97c-883694aea79a').text(' 80%');"
       ],
       "metadata": {},
       "output_type": "display_data",
       "text": [
        "<IPython.core.display.Javascript at 0x7f2a94b1ebd0>"
       ]
      },
      {
       "javascript": [
        "\n",
        "        var $myPB = $(\"div#73d29a16-56e5-4057-bc7d-518521da0697\")\n",
        "        if ($myPB.hasClass('ui-progressbar')) {\n",
        "            $myPB.progressbar('value', 454961);\n",
        "        } else {\n",
        "            $myPB.progressbar({value: 0, max: 565516});\n",
        "        }\n",
        "        "
       ],
       "metadata": {},
       "output_type": "display_data",
       "text": [
        "<IPython.core.display.Javascript at 0x7f2a94b1ec50>"
       ]
      },
      {
       "javascript": [
        "$('div#ae1516f6-5e19-4df3-ac07-cf68e1f52e55').text('ETA:  0:01:23');"
       ],
       "metadata": {},
       "output_type": "display_data",
       "text": [
        "<IPython.core.display.Javascript at 0x7f2a94b1ec90>"
       ]
      },
      {
       "javascript": [
        "$('div#85400189-6928-448f-a97c-883694aea79a').text(' 80%');"
       ],
       "metadata": {},
       "output_type": "display_data",
       "text": [
        "<IPython.core.display.Javascript at 0x7f2a94b26390>"
       ]
      },
      {
       "javascript": [
        "\n",
        "        var $myPB = $(\"div#73d29a16-56e5-4057-bc7d-518521da0697\")\n",
        "        if ($myPB.hasClass('ui-progressbar')) {\n",
        "            $myPB.progressbar('value', 455947);\n",
        "        } else {\n",
        "            $myPB.progressbar({value: 0, max: 565516});\n",
        "        }\n",
        "        "
       ],
       "metadata": {},
       "output_type": "display_data",
       "text": [
        "<IPython.core.display.Javascript at 0x7f2a94b26410>"
       ]
      },
      {
       "javascript": [
        "$('div#ae1516f6-5e19-4df3-ac07-cf68e1f52e55').text('ETA:  0:01:22');"
       ],
       "metadata": {},
       "output_type": "display_data",
       "text": [
        "<IPython.core.display.Javascript at 0x7f2a94b26450>"
       ]
      },
      {
       "javascript": [
        "$('div#85400189-6928-448f-a97c-883694aea79a').text(' 80%');"
       ],
       "metadata": {},
       "output_type": "display_data",
       "text": [
        "<IPython.core.display.Javascript at 0x7f2a94b26b10>"
       ]
      },
      {
       "javascript": [
        "\n",
        "        var $myPB = $(\"div#73d29a16-56e5-4057-bc7d-518521da0697\")\n",
        "        if ($myPB.hasClass('ui-progressbar')) {\n",
        "            $myPB.progressbar('value', 457012);\n",
        "        } else {\n",
        "            $myPB.progressbar({value: 0, max: 565516});\n",
        "        }\n",
        "        "
       ],
       "metadata": {},
       "output_type": "display_data",
       "text": [
        "<IPython.core.display.Javascript at 0x7f2a94b26b90>"
       ]
      },
      {
       "javascript": [
        "$('div#ae1516f6-5e19-4df3-ac07-cf68e1f52e55').text('ETA:  0:01:21');"
       ],
       "metadata": {},
       "output_type": "display_data",
       "text": [
        "<IPython.core.display.Javascript at 0x7f2a94b26bd0>"
       ]
      },
      {
       "javascript": [
        "$('div#85400189-6928-448f-a97c-883694aea79a').text(' 80%');"
       ],
       "metadata": {},
       "output_type": "display_data",
       "text": [
        "<IPython.core.display.Javascript at 0x7f2a961e7650>"
       ]
      },
      {
       "javascript": [
        "\n",
        "        var $myPB = $(\"div#73d29a16-56e5-4057-bc7d-518521da0697\")\n",
        "        if ($myPB.hasClass('ui-progressbar')) {\n",
        "            $myPB.progressbar('value', 457443);\n",
        "        } else {\n",
        "            $myPB.progressbar({value: 0, max: 565516});\n",
        "        }\n",
        "        "
       ],
       "metadata": {},
       "output_type": "display_data",
       "text": [
        "<IPython.core.display.Javascript at 0x7f2a961e76d0>"
       ]
      },
      {
       "javascript": [
        "$('div#ae1516f6-5e19-4df3-ac07-cf68e1f52e55').text('ETA:  0:01:21');"
       ],
       "metadata": {},
       "output_type": "display_data",
       "text": [
        "<IPython.core.display.Javascript at 0x7f2a961e7710>"
       ]
      },
      {
       "javascript": [
        "$('div#85400189-6928-448f-a97c-883694aea79a').text(' 81%');"
       ],
       "metadata": {},
       "output_type": "display_data",
       "text": [
        "<IPython.core.display.Javascript at 0x7f2a961e7e50>"
       ]
      },
      {
       "javascript": [
        "\n",
        "        var $myPB = $(\"div#73d29a16-56e5-4057-bc7d-518521da0697\")\n",
        "        if ($myPB.hasClass('ui-progressbar')) {\n",
        "            $myPB.progressbar('value', 458418);\n",
        "        } else {\n",
        "            $myPB.progressbar({value: 0, max: 565516});\n",
        "        }\n",
        "        "
       ],
       "metadata": {},
       "output_type": "display_data",
       "text": [
        "<IPython.core.display.Javascript at 0x7f2a961e7ed0>"
       ]
      },
      {
       "javascript": [
        "$('div#ae1516f6-5e19-4df3-ac07-cf68e1f52e55').text('ETA:  0:01:20');"
       ],
       "metadata": {},
       "output_type": "display_data",
       "text": [
        "<IPython.core.display.Javascript at 0x7f2a961e7f10>"
       ]
      },
      {
       "javascript": [
        "$('div#85400189-6928-448f-a97c-883694aea79a').text(' 81%');"
       ],
       "metadata": {},
       "output_type": "display_data",
       "text": [
        "<IPython.core.display.Javascript at 0x7f2a961f2310>"
       ]
      },
      {
       "javascript": [
        "\n",
        "        var $myPB = $(\"div#73d29a16-56e5-4057-bc7d-518521da0697\")\n",
        "        if ($myPB.hasClass('ui-progressbar')) {\n",
        "            $myPB.progressbar('value', 459965);\n",
        "        } else {\n",
        "            $myPB.progressbar({value: 0, max: 565516});\n",
        "        }\n",
        "        "
       ],
       "metadata": {},
       "output_type": "display_data",
       "text": [
        "<IPython.core.display.Javascript at 0x7f2a961f2390>"
       ]
      },
      {
       "javascript": [
        "$('div#ae1516f6-5e19-4df3-ac07-cf68e1f52e55').text('ETA:  0:01:19');"
       ],
       "metadata": {},
       "output_type": "display_data",
       "text": [
        "<IPython.core.display.Javascript at 0x7f2a961f23d0>"
       ]
      },
      {
       "javascript": [
        "$('div#85400189-6928-448f-a97c-883694aea79a').text(' 81%');"
       ],
       "metadata": {},
       "output_type": "display_data",
       "text": [
        "<IPython.core.display.Javascript at 0x7f2a961f2f90>"
       ]
      },
      {
       "javascript": [
        "\n",
        "        var $myPB = $(\"div#73d29a16-56e5-4057-bc7d-518521da0697\")\n",
        "        if ($myPB.hasClass('ui-progressbar')) {\n",
        "            $myPB.progressbar('value', 460141);\n",
        "        } else {\n",
        "            $myPB.progressbar({value: 0, max: 565516});\n",
        "        }\n",
        "        "
       ],
       "metadata": {},
       "output_type": "display_data",
       "text": [
        "<IPython.core.display.Javascript at 0x7f2a961d7050>"
       ]
      },
      {
       "javascript": [
        "$('div#ae1516f6-5e19-4df3-ac07-cf68e1f52e55').text('ETA:  0:01:19');"
       ],
       "metadata": {},
       "output_type": "display_data",
       "text": [
        "<IPython.core.display.Javascript at 0x7f2a961d7090>"
       ]
      },
      {
       "javascript": [
        "$('div#85400189-6928-448f-a97c-883694aea79a').text(' 81%');"
       ],
       "metadata": {},
       "output_type": "display_data",
       "text": [
        "<IPython.core.display.Javascript at 0x7f2a961d7ad0>"
       ]
      },
      {
       "javascript": [
        "\n",
        "        var $myPB = $(\"div#73d29a16-56e5-4057-bc7d-518521da0697\")\n",
        "        if ($myPB.hasClass('ui-progressbar')) {\n",
        "            $myPB.progressbar('value', 460547);\n",
        "        } else {\n",
        "            $myPB.progressbar({value: 0, max: 565516});\n",
        "        }\n",
        "        "
       ],
       "metadata": {},
       "output_type": "display_data",
       "text": [
        "<IPython.core.display.Javascript at 0x7f2a961d7b50>"
       ]
      },
      {
       "javascript": [
        "$('div#ae1516f6-5e19-4df3-ac07-cf68e1f52e55').text('ETA:  0:01:19');"
       ],
       "metadata": {},
       "output_type": "display_data",
       "text": [
        "<IPython.core.display.Javascript at 0x7f2a961d7b90>"
       ]
      },
      {
       "javascript": [
        "$('div#85400189-6928-448f-a97c-883694aea79a').text(' 81%');"
       ],
       "metadata": {},
       "output_type": "display_data",
       "text": [
        "<IPython.core.display.Javascript at 0x7f2a961d7d50>"
       ]
      },
      {
       "javascript": [
        "\n",
        "        var $myPB = $(\"div#73d29a16-56e5-4057-bc7d-518521da0697\")\n",
        "        if ($myPB.hasClass('ui-progressbar')) {\n",
        "            $myPB.progressbar('value', 462422);\n",
        "        } else {\n",
        "            $myPB.progressbar({value: 0, max: 565516});\n",
        "        }\n",
        "        "
       ],
       "metadata": {},
       "output_type": "display_data",
       "text": [
        "<IPython.core.display.Javascript at 0x7f2a961d7dd0>"
       ]
      },
      {
       "javascript": [
        "$('div#ae1516f6-5e19-4df3-ac07-cf68e1f52e55').text('ETA:  0:01:17');"
       ],
       "metadata": {},
       "output_type": "display_data",
       "text": [
        "<IPython.core.display.Javascript at 0x7f2a961d7e10>"
       ]
      },
      {
       "javascript": [
        "$('div#85400189-6928-448f-a97c-883694aea79a').text(' 82%');"
       ],
       "metadata": {},
       "output_type": "display_data",
       "text": [
        "<IPython.core.display.Javascript at 0x7f2a94d4c110>"
       ]
      },
      {
       "javascript": [
        "\n",
        "        var $myPB = $(\"div#73d29a16-56e5-4057-bc7d-518521da0697\")\n",
        "        if ($myPB.hasClass('ui-progressbar')) {\n",
        "            $myPB.progressbar('value', 464142);\n",
        "        } else {\n",
        "            $myPB.progressbar({value: 0, max: 565516});\n",
        "        }\n",
        "        "
       ],
       "metadata": {},
       "output_type": "display_data",
       "text": [
        "<IPython.core.display.Javascript at 0x7f2a94d4c190>"
       ]
      },
      {
       "javascript": [
        "$('div#ae1516f6-5e19-4df3-ac07-cf68e1f52e55').text('ETA:  0:01:16');"
       ],
       "metadata": {},
       "output_type": "display_data",
       "text": [
        "<IPython.core.display.Javascript at 0x7f2a94d4c1d0>"
       ]
      },
      {
       "javascript": [
        "$('div#85400189-6928-448f-a97c-883694aea79a').text(' 82%');"
       ],
       "metadata": {},
       "output_type": "display_data",
       "text": [
        "<IPython.core.display.Javascript at 0x7f2a94d4c710>"
       ]
      },
      {
       "javascript": [
        "\n",
        "        var $myPB = $(\"div#73d29a16-56e5-4057-bc7d-518521da0697\")\n",
        "        if ($myPB.hasClass('ui-progressbar')) {\n",
        "            $myPB.progressbar('value', 465442);\n",
        "        } else {\n",
        "            $myPB.progressbar({value: 0, max: 565516});\n",
        "        }\n",
        "        "
       ],
       "metadata": {},
       "output_type": "display_data",
       "text": [
        "<IPython.core.display.Javascript at 0x7f2a94d4c790>"
       ]
      },
      {
       "javascript": [
        "$('div#ae1516f6-5e19-4df3-ac07-cf68e1f52e55').text('ETA:  0:01:15');"
       ],
       "metadata": {},
       "output_type": "display_data",
       "text": [
        "<IPython.core.display.Javascript at 0x7f2a94d4c7d0>"
       ]
      },
      {
       "javascript": [
        "$('div#85400189-6928-448f-a97c-883694aea79a').text(' 82%');"
       ],
       "metadata": {},
       "output_type": "display_data",
       "text": [
        "<IPython.core.display.Javascript at 0x7f2a94d6c3d0>"
       ]
      },
      {
       "javascript": [
        "\n",
        "        var $myPB = $(\"div#73d29a16-56e5-4057-bc7d-518521da0697\")\n",
        "        if ($myPB.hasClass('ui-progressbar')) {\n",
        "            $myPB.progressbar('value', 465609);\n",
        "        } else {\n",
        "            $myPB.progressbar({value: 0, max: 565516});\n",
        "        }\n",
        "        "
       ],
       "metadata": {},
       "output_type": "display_data",
       "text": [
        "<IPython.core.display.Javascript at 0x7f2a94d6c450>"
       ]
      },
      {
       "javascript": [
        "$('div#ae1516f6-5e19-4df3-ac07-cf68e1f52e55').text('ETA:  0:01:15');"
       ],
       "metadata": {},
       "output_type": "display_data",
       "text": [
        "<IPython.core.display.Javascript at 0x7f2a94d6c490>"
       ]
      },
      {
       "javascript": [
        "$('div#85400189-6928-448f-a97c-883694aea79a').text(' 82%');"
       ],
       "metadata": {},
       "output_type": "display_data",
       "text": [
        "<IPython.core.display.Javascript at 0x7f2a94d45090>"
       ]
      },
      {
       "javascript": [
        "\n",
        "        var $myPB = $(\"div#73d29a16-56e5-4057-bc7d-518521da0697\")\n",
        "        if ($myPB.hasClass('ui-progressbar')) {\n",
        "            $myPB.progressbar('value', 465774);\n",
        "        } else {\n",
        "            $myPB.progressbar({value: 0, max: 565516});\n",
        "        }\n",
        "        "
       ],
       "metadata": {},
       "output_type": "display_data",
       "text": [
        "<IPython.core.display.Javascript at 0x7f2a94d45110>"
       ]
      },
      {
       "javascript": [
        "$('div#ae1516f6-5e19-4df3-ac07-cf68e1f52e55').text('ETA:  0:01:15');"
       ],
       "metadata": {},
       "output_type": "display_data",
       "text": [
        "<IPython.core.display.Javascript at 0x7f2a94d45150>"
       ]
      },
      {
       "javascript": [
        "$('div#85400189-6928-448f-a97c-883694aea79a').text(' 82%');"
       ],
       "metadata": {},
       "output_type": "display_data",
       "text": [
        "<IPython.core.display.Javascript at 0x7f2a94d45590>"
       ]
      },
      {
       "javascript": [
        "\n",
        "        var $myPB = $(\"div#73d29a16-56e5-4057-bc7d-518521da0697\")\n",
        "        if ($myPB.hasClass('ui-progressbar')) {\n",
        "            $myPB.progressbar('value', 467240);\n",
        "        } else {\n",
        "            $myPB.progressbar({value: 0, max: 565516});\n",
        "        }\n",
        "        "
       ],
       "metadata": {},
       "output_type": "display_data",
       "text": [
        "<IPython.core.display.Javascript at 0x7f2a94d45610>"
       ]
      },
      {
       "javascript": [
        "$('div#ae1516f6-5e19-4df3-ac07-cf68e1f52e55').text('ETA:  0:01:14');"
       ],
       "metadata": {},
       "output_type": "display_data",
       "text": [
        "<IPython.core.display.Javascript at 0x7f2a94d45650>"
       ]
      },
      {
       "javascript": [
        "$('div#85400189-6928-448f-a97c-883694aea79a').text(' 82%');"
       ],
       "metadata": {},
       "output_type": "display_data",
       "text": [
        "<IPython.core.display.Javascript at 0x7f2a94d3c1d0>"
       ]
      },
      {
       "javascript": [
        "\n",
        "        var $myPB = $(\"div#73d29a16-56e5-4057-bc7d-518521da0697\")\n",
        "        if ($myPB.hasClass('ui-progressbar')) {\n",
        "            $myPB.progressbar('value', 467514);\n",
        "        } else {\n",
        "            $myPB.progressbar({value: 0, max: 565516});\n",
        "        }\n",
        "        "
       ],
       "metadata": {},
       "output_type": "display_data",
       "text": [
        "<IPython.core.display.Javascript at 0x7f2a94d3c250>"
       ]
      },
      {
       "javascript": [
        "$('div#ae1516f6-5e19-4df3-ac07-cf68e1f52e55').text('ETA:  0:01:14');"
       ],
       "metadata": {},
       "output_type": "display_data",
       "text": [
        "<IPython.core.display.Javascript at 0x7f2a94d3c290>"
       ]
      },
      {
       "javascript": [
        "$('div#85400189-6928-448f-a97c-883694aea79a').text(' 82%');"
       ],
       "metadata": {},
       "output_type": "display_data",
       "text": [
        "<IPython.core.display.Javascript at 0x7f2a94d3cbd0>"
       ]
      },
      {
       "javascript": [
        "\n",
        "        var $myPB = $(\"div#73d29a16-56e5-4057-bc7d-518521da0697\")\n",
        "        if ($myPB.hasClass('ui-progressbar')) {\n",
        "            $myPB.progressbar('value', 468114);\n",
        "        } else {\n",
        "            $myPB.progressbar({value: 0, max: 565516});\n",
        "        }\n",
        "        "
       ],
       "metadata": {},
       "output_type": "display_data",
       "text": [
        "<IPython.core.display.Javascript at 0x7f2a94d3cc50>"
       ]
      },
      {
       "javascript": [
        "$('div#ae1516f6-5e19-4df3-ac07-cf68e1f52e55').text('ETA:  0:01:14');"
       ],
       "metadata": {},
       "output_type": "display_data",
       "text": [
        "<IPython.core.display.Javascript at 0x7f2a94d3cc90>"
       ]
      },
      {
       "javascript": [
        "$('div#85400189-6928-448f-a97c-883694aea79a').text(' 82%');"
       ],
       "metadata": {},
       "output_type": "display_data",
       "text": [
        "<IPython.core.display.Javascript at 0x7f2a93dfb890>"
       ]
      },
      {
       "javascript": [
        "\n",
        "        var $myPB = $(\"div#73d29a16-56e5-4057-bc7d-518521da0697\")\n",
        "        if ($myPB.hasClass('ui-progressbar')) {\n",
        "            $myPB.progressbar('value', 468213);\n",
        "        } else {\n",
        "            $myPB.progressbar({value: 0, max: 565516});\n",
        "        }\n",
        "        "
       ],
       "metadata": {},
       "output_type": "display_data",
       "text": [
        "<IPython.core.display.Javascript at 0x7f2a93dfb910>"
       ]
      },
      {
       "javascript": [
        "$('div#ae1516f6-5e19-4df3-ac07-cf68e1f52e55').text('ETA:  0:01:14');"
       ],
       "metadata": {},
       "output_type": "display_data",
       "text": [
        "<IPython.core.display.Javascript at 0x7f2a93dfb950>"
       ]
      },
      {
       "javascript": [
        "$('div#85400189-6928-448f-a97c-883694aea79a').text(' 82%');"
       ],
       "metadata": {},
       "output_type": "display_data",
       "text": [
        "<IPython.core.display.Javascript at 0x7f2a93e045d0>"
       ]
      },
      {
       "javascript": [
        "\n",
        "        var $myPB = $(\"div#73d29a16-56e5-4057-bc7d-518521da0697\")\n",
        "        if ($myPB.hasClass('ui-progressbar')) {\n",
        "            $myPB.progressbar('value', 468312);\n",
        "        } else {\n",
        "            $myPB.progressbar({value: 0, max: 565516});\n",
        "        }\n",
        "        "
       ],
       "metadata": {},
       "output_type": "display_data",
       "text": [
        "<IPython.core.display.Javascript at 0x7f2a93e04650>"
       ]
      },
      {
       "javascript": [
        "$('div#ae1516f6-5e19-4df3-ac07-cf68e1f52e55').text('ETA:  0:01:14');"
       ],
       "metadata": {},
       "output_type": "display_data",
       "text": [
        "<IPython.core.display.Javascript at 0x7f2a93e04690>"
       ]
      },
      {
       "javascript": [
        "$('div#85400189-6928-448f-a97c-883694aea79a').text(' 82%');"
       ],
       "metadata": {},
       "output_type": "display_data",
       "text": [
        "<IPython.core.display.Javascript at 0x7f2a93e2a290>"
       ]
      },
      {
       "javascript": [
        "\n",
        "        var $myPB = $(\"div#73d29a16-56e5-4057-bc7d-518521da0697\")\n",
        "        if ($myPB.hasClass('ui-progressbar')) {\n",
        "            $myPB.progressbar('value', 468392);\n",
        "        } else {\n",
        "            $myPB.progressbar({value: 0, max: 565516});\n",
        "        }\n",
        "        "
       ],
       "metadata": {},
       "output_type": "display_data",
       "text": [
        "<IPython.core.display.Javascript at 0x7f2a93e2a310>"
       ]
      },
      {
       "javascript": [
        "$('div#ae1516f6-5e19-4df3-ac07-cf68e1f52e55').text('ETA:  0:01:14');"
       ],
       "metadata": {},
       "output_type": "display_data",
       "text": [
        "<IPython.core.display.Javascript at 0x7f2a93e2a350>"
       ]
      },
      {
       "javascript": [
        "$('div#85400189-6928-448f-a97c-883694aea79a').text(' 82%');"
       ],
       "metadata": {},
       "output_type": "display_data",
       "text": [
        "<IPython.core.display.Javascript at 0x7f2a93e2ae90>"
       ]
      },
      {
       "javascript": [
        "\n",
        "        var $myPB = $(\"div#73d29a16-56e5-4057-bc7d-518521da0697\")\n",
        "        if ($myPB.hasClass('ui-progressbar')) {\n",
        "            $myPB.progressbar('value', 468600);\n",
        "        } else {\n",
        "            $myPB.progressbar({value: 0, max: 565516});\n",
        "        }\n",
        "        "
       ],
       "metadata": {},
       "output_type": "display_data",
       "text": [
        "<IPython.core.display.Javascript at 0x7f2a93e2af10>"
       ]
      },
      {
       "javascript": [
        "$('div#ae1516f6-5e19-4df3-ac07-cf68e1f52e55').text('ETA:  0:01:14');"
       ],
       "metadata": {},
       "output_type": "display_data",
       "text": [
        "<IPython.core.display.Javascript at 0x7f2a93e2af50>"
       ]
      },
      {
       "javascript": [
        "$('div#85400189-6928-448f-a97c-883694aea79a').text(' 83%');"
       ],
       "metadata": {},
       "output_type": "display_data",
       "text": [
        "<IPython.core.display.Javascript at 0x7f2a93e28750>"
       ]
      },
      {
       "javascript": [
        "\n",
        "        var $myPB = $(\"div#73d29a16-56e5-4057-bc7d-518521da0697\")\n",
        "        if ($myPB.hasClass('ui-progressbar')) {\n",
        "            $myPB.progressbar('value', 469440);\n",
        "        } else {\n",
        "            $myPB.progressbar({value: 0, max: 565516});\n",
        "        }\n",
        "        "
       ],
       "metadata": {},
       "output_type": "display_data",
       "text": [
        "<IPython.core.display.Javascript at 0x7f2a93e287d0>"
       ]
      },
      {
       "javascript": [
        "$('div#ae1516f6-5e19-4df3-ac07-cf68e1f52e55').text('ETA:  0:01:14');"
       ],
       "metadata": {},
       "output_type": "display_data",
       "text": [
        "<IPython.core.display.Javascript at 0x7f2a93e28810>"
       ]
      },
      {
       "javascript": [
        "$('div#85400189-6928-448f-a97c-883694aea79a').text(' 83%');"
       ],
       "metadata": {},
       "output_type": "display_data",
       "text": [
        "<IPython.core.display.Javascript at 0x7f2a938b2050>"
       ]
      },
      {
       "javascript": [
        "\n",
        "        var $myPB = $(\"div#73d29a16-56e5-4057-bc7d-518521da0697\")\n",
        "        if ($myPB.hasClass('ui-progressbar')) {\n",
        "            $myPB.progressbar('value', 470229);\n",
        "        } else {\n",
        "            $myPB.progressbar({value: 0, max: 565516});\n",
        "        }\n",
        "        "
       ],
       "metadata": {},
       "output_type": "display_data",
       "text": [
        "<IPython.core.display.Javascript at 0x7f2a938b2090>"
       ]
      },
      {
       "javascript": [
        "$('div#ae1516f6-5e19-4df3-ac07-cf68e1f52e55').text('ETA:  0:01:13');"
       ],
       "metadata": {},
       "output_type": "display_data",
       "text": [
        "<IPython.core.display.Javascript at 0x7f2a938b20d0>"
       ]
      },
      {
       "javascript": [
        "$('div#85400189-6928-448f-a97c-883694aea79a').text(' 83%');"
       ],
       "metadata": {},
       "output_type": "display_data",
       "text": [
        "<IPython.core.display.Javascript at 0x7f2a938b2410>"
       ]
      },
      {
       "javascript": [
        "\n",
        "        var $myPB = $(\"div#73d29a16-56e5-4057-bc7d-518521da0697\")\n",
        "        if ($myPB.hasClass('ui-progressbar')) {\n",
        "            $myPB.progressbar('value', 471602);\n",
        "        } else {\n",
        "            $myPB.progressbar({value: 0, max: 565516});\n",
        "        }\n",
        "        "
       ],
       "metadata": {},
       "output_type": "display_data",
       "text": [
        "<IPython.core.display.Javascript at 0x7f2a938b2490>"
       ]
      },
      {
       "javascript": [
        "$('div#ae1516f6-5e19-4df3-ac07-cf68e1f52e55').text('ETA:  0:01:12');"
       ],
       "metadata": {},
       "output_type": "display_data",
       "text": [
        "<IPython.core.display.Javascript at 0x7f2a938b24d0>"
       ]
      },
      {
       "javascript": [
        "$('div#85400189-6928-448f-a97c-883694aea79a').text(' 83%');"
       ],
       "metadata": {},
       "output_type": "display_data",
       "text": [
        "<IPython.core.display.Javascript at 0x7f2a93893050>"
       ]
      },
      {
       "javascript": [
        "\n",
        "        var $myPB = $(\"div#73d29a16-56e5-4057-bc7d-518521da0697\")\n",
        "        if ($myPB.hasClass('ui-progressbar')) {\n",
        "            $myPB.progressbar('value', 471716);\n",
        "        } else {\n",
        "            $myPB.progressbar({value: 0, max: 565516});\n",
        "        }\n",
        "        "
       ],
       "metadata": {},
       "output_type": "display_data",
       "text": [
        "<IPython.core.display.Javascript at 0x7f2a938930d0>"
       ]
      },
      {
       "javascript": [
        "$('div#ae1516f6-5e19-4df3-ac07-cf68e1f52e55').text('ETA:  0:01:12');"
       ],
       "metadata": {},
       "output_type": "display_data",
       "text": [
        "<IPython.core.display.Javascript at 0x7f2a93893110>"
       ]
      },
      {
       "javascript": [
        "$('div#85400189-6928-448f-a97c-883694aea79a').text(' 83%');"
       ],
       "metadata": {},
       "output_type": "display_data",
       "text": [
        "<IPython.core.display.Javascript at 0x7f2a93893ad0>"
       ]
      },
      {
       "javascript": [
        "\n",
        "        var $myPB = $(\"div#73d29a16-56e5-4057-bc7d-518521da0697\")\n",
        "        if ($myPB.hasClass('ui-progressbar')) {\n",
        "            $myPB.progressbar('value', 471824);\n",
        "        } else {\n",
        "            $myPB.progressbar({value: 0, max: 565516});\n",
        "        }\n",
        "        "
       ],
       "metadata": {},
       "output_type": "display_data",
       "text": [
        "<IPython.core.display.Javascript at 0x7f2a93893b50>"
       ]
      },
      {
       "javascript": [
        "$('div#ae1516f6-5e19-4df3-ac07-cf68e1f52e55').text('ETA:  0:01:12');"
       ],
       "metadata": {},
       "output_type": "display_data",
       "text": [
        "<IPython.core.display.Javascript at 0x7f2a93893b90>"
       ]
      },
      {
       "javascript": [
        "$('div#85400189-6928-448f-a97c-883694aea79a').text(' 83%');"
       ],
       "metadata": {},
       "output_type": "display_data",
       "text": [
        "<IPython.core.display.Javascript at 0x7f2a93877490>"
       ]
      },
      {
       "javascript": [
        "\n",
        "        var $myPB = $(\"div#73d29a16-56e5-4057-bc7d-518521da0697\")\n",
        "        if ($myPB.hasClass('ui-progressbar')) {\n",
        "            $myPB.progressbar('value', 471900);\n",
        "        } else {\n",
        "            $myPB.progressbar({value: 0, max: 565516});\n",
        "        }\n",
        "        "
       ],
       "metadata": {},
       "output_type": "display_data",
       "text": [
        "<IPython.core.display.Javascript at 0x7f2a93877510>"
       ]
      },
      {
       "javascript": [
        "$('div#ae1516f6-5e19-4df3-ac07-cf68e1f52e55').text('ETA:  0:01:12');"
       ],
       "metadata": {},
       "output_type": "display_data",
       "text": [
        "<IPython.core.display.Javascript at 0x7f2a93877550>"
       ]
      },
      {
       "javascript": [
        "$('div#85400189-6928-448f-a97c-883694aea79a').text(' 83%');"
       ],
       "metadata": {},
       "output_type": "display_data",
       "text": [
        "<IPython.core.display.Javascript at 0x7f2a93877f10>"
       ]
      },
      {
       "javascript": [
        "\n",
        "        var $myPB = $(\"div#73d29a16-56e5-4057-bc7d-518521da0697\")\n",
        "        if ($myPB.hasClass('ui-progressbar')) {\n",
        "            $myPB.progressbar('value', 472066);\n",
        "        } else {\n",
        "            $myPB.progressbar({value: 0, max: 565516});\n",
        "        }\n",
        "        "
       ],
       "metadata": {},
       "output_type": "display_data",
       "text": [
        "<IPython.core.display.Javascript at 0x7f2a93877f90>"
       ]
      },
      {
       "javascript": [
        "$('div#ae1516f6-5e19-4df3-ac07-cf68e1f52e55').text('ETA:  0:01:12');"
       ],
       "metadata": {},
       "output_type": "display_data",
       "text": [
        "<IPython.core.display.Javascript at 0x7f2a93877fd0>"
       ]
      },
      {
       "javascript": [
        "$('div#85400189-6928-448f-a97c-883694aea79a').text(' 83%');"
       ],
       "metadata": {},
       "output_type": "display_data",
       "text": [
        "<IPython.core.display.Javascript at 0x7f2a9334ba50>"
       ]
      },
      {
       "javascript": [
        "\n",
        "        var $myPB = $(\"div#73d29a16-56e5-4057-bc7d-518521da0697\")\n",
        "        if ($myPB.hasClass('ui-progressbar')) {\n",
        "            $myPB.progressbar('value', 472332);\n",
        "        } else {\n",
        "            $myPB.progressbar({value: 0, max: 565516});\n",
        "        }\n",
        "        "
       ],
       "metadata": {},
       "output_type": "display_data",
       "text": [
        "<IPython.core.display.Javascript at 0x7f2a9334bad0>"
       ]
      },
      {
       "javascript": [
        "$('div#ae1516f6-5e19-4df3-ac07-cf68e1f52e55').text('ETA:  0:01:12');"
       ],
       "metadata": {},
       "output_type": "display_data",
       "text": [
        "<IPython.core.display.Javascript at 0x7f2a9334bb10>"
       ]
      },
      {
       "javascript": [
        "$('div#85400189-6928-448f-a97c-883694aea79a').text(' 83%');"
       ],
       "metadata": {},
       "output_type": "display_data",
       "text": [
        "<IPython.core.display.Javascript at 0x7f2a93352510>"
       ]
      },
      {
       "javascript": [
        "\n",
        "        var $myPB = $(\"div#73d29a16-56e5-4057-bc7d-518521da0697\")\n",
        "        if ($myPB.hasClass('ui-progressbar')) {\n",
        "            $myPB.progressbar('value', 472654);\n",
        "        } else {\n",
        "            $myPB.progressbar({value: 0, max: 565516});\n",
        "        }\n",
        "        "
       ],
       "metadata": {},
       "output_type": "display_data",
       "text": [
        "<IPython.core.display.Javascript at 0x7f2a93352590>"
       ]
      },
      {
       "javascript": [
        "$('div#ae1516f6-5e19-4df3-ac07-cf68e1f52e55').text('ETA:  0:01:12');"
       ],
       "metadata": {},
       "output_type": "display_data",
       "text": [
        "<IPython.core.display.Javascript at 0x7f2a933525d0>"
       ]
      },
      {
       "javascript": [
        "$('div#85400189-6928-448f-a97c-883694aea79a').text(' 83%');"
       ],
       "metadata": {},
       "output_type": "display_data",
       "text": [
        "<IPython.core.display.Javascript at 0x7f2a93352c90>"
       ]
      },
      {
       "javascript": [
        "\n",
        "        var $myPB = $(\"div#73d29a16-56e5-4057-bc7d-518521da0697\")\n",
        "        if ($myPB.hasClass('ui-progressbar')) {\n",
        "            $myPB.progressbar('value', 473613);\n",
        "        } else {\n",
        "            $myPB.progressbar({value: 0, max: 565516});\n",
        "        }\n",
        "        "
       ],
       "metadata": {},
       "output_type": "display_data",
       "text": [
        "<IPython.core.display.Javascript at 0x7f2a93352d10>"
       ]
      },
      {
       "javascript": [
        "$('div#ae1516f6-5e19-4df3-ac07-cf68e1f52e55').text('ETA:  0:01:12');"
       ],
       "metadata": {},
       "output_type": "display_data",
       "text": [
        "<IPython.core.display.Javascript at 0x7f2a93352d50>"
       ]
      },
      {
       "javascript": [
        "$('div#85400189-6928-448f-a97c-883694aea79a').text(' 83%');"
       ],
       "metadata": {},
       "output_type": "display_data",
       "text": [
        "<IPython.core.display.Javascript at 0x7f2a93347650>"
       ]
      },
      {
       "javascript": [
        "\n",
        "        var $myPB = $(\"div#73d29a16-56e5-4057-bc7d-518521da0697\")\n",
        "        if ($myPB.hasClass('ui-progressbar')) {\n",
        "            $myPB.progressbar('value', 474172);\n",
        "        } else {\n",
        "            $myPB.progressbar({value: 0, max: 565516});\n",
        "        }\n",
        "        "
       ],
       "metadata": {},
       "output_type": "display_data",
       "text": [
        "<IPython.core.display.Javascript at 0x7f2a933476d0>"
       ]
      },
      {
       "javascript": [
        "$('div#ae1516f6-5e19-4df3-ac07-cf68e1f52e55').text('ETA:  0:01:11');"
       ],
       "metadata": {},
       "output_type": "display_data",
       "text": [
        "<IPython.core.display.Javascript at 0x7f2a93347710>"
       ]
      },
      {
       "javascript": [
        "$('div#85400189-6928-448f-a97c-883694aea79a').text(' 83%');"
       ],
       "metadata": {},
       "output_type": "display_data",
       "text": [
        "<IPython.core.display.Javascript at 0x7f2a93367290>"
       ]
      },
      {
       "javascript": [
        "\n",
        "        var $myPB = $(\"div#73d29a16-56e5-4057-bc7d-518521da0697\")\n",
        "        if ($myPB.hasClass('ui-progressbar')) {\n",
        "            $myPB.progressbar('value', 474349);\n",
        "        } else {\n",
        "            $myPB.progressbar({value: 0, max: 565516});\n",
        "        }\n",
        "        "
       ],
       "metadata": {},
       "output_type": "display_data",
       "text": [
        "<IPython.core.display.Javascript at 0x7f2a93367310>"
       ]
      },
      {
       "javascript": [
        "$('div#ae1516f6-5e19-4df3-ac07-cf68e1f52e55').text('ETA:  0:01:11');"
       ],
       "metadata": {},
       "output_type": "display_data",
       "text": [
        "<IPython.core.display.Javascript at 0x7f2a93367350>"
       ]
      },
      {
       "javascript": [
        "$('div#85400189-6928-448f-a97c-883694aea79a').text(' 83%');"
       ],
       "metadata": {},
       "output_type": "display_data",
       "text": [
        "<IPython.core.display.Javascript at 0x7f2a93367d90>"
       ]
      },
      {
       "javascript": [
        "\n",
        "        var $myPB = $(\"div#73d29a16-56e5-4057-bc7d-518521da0697\")\n",
        "        if ($myPB.hasClass('ui-progressbar')) {\n",
        "            $myPB.progressbar('value', 474555);\n",
        "        } else {\n",
        "            $myPB.progressbar({value: 0, max: 565516});\n",
        "        }\n",
        "        "
       ],
       "metadata": {},
       "output_type": "display_data",
       "text": [
        "<IPython.core.display.Javascript at 0x7f2a93367e10>"
       ]
      },
      {
       "javascript": [
        "$('div#ae1516f6-5e19-4df3-ac07-cf68e1f52e55').text('ETA:  0:01:11');"
       ],
       "metadata": {},
       "output_type": "display_data",
       "text": [
        "<IPython.core.display.Javascript at 0x7f2a93367e50>"
       ]
      },
      {
       "javascript": [
        "$('div#85400189-6928-448f-a97c-883694aea79a').text(' 84%');"
       ],
       "metadata": {},
       "output_type": "display_data",
       "text": [
        "<IPython.core.display.Javascript at 0x7f2a93367e50>"
       ]
      },
      {
       "javascript": [
        "\n",
        "        var $myPB = $(\"div#73d29a16-56e5-4057-bc7d-518521da0697\")\n",
        "        if ($myPB.hasClass('ui-progressbar')) {\n",
        "            $myPB.progressbar('value', 476501);\n",
        "        } else {\n",
        "            $myPB.progressbar({value: 0, max: 565516});\n",
        "        }\n",
        "        "
       ],
       "metadata": {},
       "output_type": "display_data",
       "text": [
        "<IPython.core.display.Javascript at 0x7f2a93367d90>"
       ]
      },
      {
       "javascript": [
        "$('div#ae1516f6-5e19-4df3-ac07-cf68e1f52e55').text('ETA:  0:01:10');"
       ],
       "metadata": {},
       "output_type": "display_data",
       "text": [
        "<IPython.core.display.Javascript at 0x7f2a93367f50>"
       ]
      },
      {
       "javascript": [
        "$('div#85400189-6928-448f-a97c-883694aea79a').text(' 84%');"
       ],
       "metadata": {},
       "output_type": "display_data",
       "text": [
        "<IPython.core.display.Javascript at 0x7f2a949a6350>"
       ]
      },
      {
       "javascript": [
        "\n",
        "        var $myPB = $(\"div#73d29a16-56e5-4057-bc7d-518521da0697\")\n",
        "        if ($myPB.hasClass('ui-progressbar')) {\n",
        "            $myPB.progressbar('value', 477682);\n",
        "        } else {\n",
        "            $myPB.progressbar({value: 0, max: 565516});\n",
        "        }\n",
        "        "
       ],
       "metadata": {},
       "output_type": "display_data",
       "text": [
        "<IPython.core.display.Javascript at 0x7f2a949a63d0>"
       ]
      },
      {
       "javascript": [
        "$('div#ae1516f6-5e19-4df3-ac07-cf68e1f52e55').text('ETA:  0:01:09');"
       ],
       "metadata": {},
       "output_type": "display_data",
       "text": [
        "<IPython.core.display.Javascript at 0x7f2a949a6410>"
       ]
      },
      {
       "javascript": [
        "$('div#85400189-6928-448f-a97c-883694aea79a').text(' 84%');"
       ],
       "metadata": {},
       "output_type": "display_data",
       "text": [
        "<IPython.core.display.Javascript at 0x7f2a949a6cd0>"
       ]
      },
      {
       "javascript": [
        "\n",
        "        var $myPB = $(\"div#73d29a16-56e5-4057-bc7d-518521da0697\")\n",
        "        if ($myPB.hasClass('ui-progressbar')) {\n",
        "            $myPB.progressbar('value', 478153);\n",
        "        } else {\n",
        "            $myPB.progressbar({value: 0, max: 565516});\n",
        "        }\n",
        "        "
       ],
       "metadata": {},
       "output_type": "display_data",
       "text": [
        "<IPython.core.display.Javascript at 0x7f2a949a6d50>"
       ]
      },
      {
       "javascript": [
        "$('div#ae1516f6-5e19-4df3-ac07-cf68e1f52e55').text('ETA:  0:01:08');"
       ],
       "metadata": {},
       "output_type": "display_data",
       "text": [
        "<IPython.core.display.Javascript at 0x7f2a949a6d90>"
       ]
      },
      {
       "javascript": [
        "$('div#85400189-6928-448f-a97c-883694aea79a').text(' 84%');"
       ],
       "metadata": {},
       "output_type": "display_data",
       "text": [
        "<IPython.core.display.Javascript at 0x7f2a949af810>"
       ]
      },
      {
       "javascript": [
        "\n",
        "        var $myPB = $(\"div#73d29a16-56e5-4057-bc7d-518521da0697\")\n",
        "        if ($myPB.hasClass('ui-progressbar')) {\n",
        "            $myPB.progressbar('value', 478443);\n",
        "        } else {\n",
        "            $myPB.progressbar({value: 0, max: 565516});\n",
        "        }\n",
        "        "
       ],
       "metadata": {},
       "output_type": "display_data",
       "text": [
        "<IPython.core.display.Javascript at 0x7f2a949af890>"
       ]
      },
      {
       "javascript": [
        "$('div#ae1516f6-5e19-4df3-ac07-cf68e1f52e55').text('ETA:  0:01:08');"
       ],
       "metadata": {},
       "output_type": "display_data",
       "text": [
        "<IPython.core.display.Javascript at 0x7f2a949af8d0>"
       ]
      },
      {
       "javascript": [
        "$('div#85400189-6928-448f-a97c-883694aea79a').text(' 84%');"
       ],
       "metadata": {},
       "output_type": "display_data",
       "text": [
        "<IPython.core.display.Javascript at 0x7f2a9497e150>"
       ]
      },
      {
       "javascript": [
        "\n",
        "        var $myPB = $(\"div#73d29a16-56e5-4057-bc7d-518521da0697\")\n",
        "        if ($myPB.hasClass('ui-progressbar')) {\n",
        "            $myPB.progressbar('value', 478616);\n",
        "        } else {\n",
        "            $myPB.progressbar({value: 0, max: 565516});\n",
        "        }\n",
        "        "
       ],
       "metadata": {},
       "output_type": "display_data",
       "text": [
        "<IPython.core.display.Javascript at 0x7f2a9497e1d0>"
       ]
      },
      {
       "javascript": [
        "$('div#ae1516f6-5e19-4df3-ac07-cf68e1f52e55').text('ETA:  0:01:08');"
       ],
       "metadata": {},
       "output_type": "display_data",
       "text": [
        "<IPython.core.display.Javascript at 0x7f2a9497e210>"
       ]
      },
      {
       "javascript": [
        "$('div#85400189-6928-448f-a97c-883694aea79a').text(' 84%');"
       ],
       "metadata": {},
       "output_type": "display_data",
       "text": [
        "<IPython.core.display.Javascript at 0x7f2a9497e9d0>"
       ]
      },
      {
       "javascript": [
        "\n",
        "        var $myPB = $(\"div#73d29a16-56e5-4057-bc7d-518521da0697\")\n",
        "        if ($myPB.hasClass('ui-progressbar')) {\n",
        "            $myPB.progressbar('value', 479298);\n",
        "        } else {\n",
        "            $myPB.progressbar({value: 0, max: 565516});\n",
        "        }\n",
        "        "
       ],
       "metadata": {},
       "output_type": "display_data",
       "text": [
        "<IPython.core.display.Javascript at 0x7f2a9497ea50>"
       ]
      },
      {
       "javascript": [
        "$('div#ae1516f6-5e19-4df3-ac07-cf68e1f52e55').text('ETA:  0:01:08');"
       ],
       "metadata": {},
       "output_type": "display_data",
       "text": [
        "<IPython.core.display.Javascript at 0x7f2a9497ea90>"
       ]
      },
      {
       "javascript": [
        "$('div#85400189-6928-448f-a97c-883694aea79a').text(' 84%');"
       ],
       "metadata": {},
       "output_type": "display_data",
       "text": [
        "<IPython.core.display.Javascript at 0x7f2a9497eed0>"
       ]
      },
      {
       "javascript": [
        "\n",
        "        var $myPB = $(\"div#73d29a16-56e5-4057-bc7d-518521da0697\")\n",
        "        if ($myPB.hasClass('ui-progressbar')) {\n",
        "            $myPB.progressbar('value', 480681);\n",
        "        } else {\n",
        "            $myPB.progressbar({value: 0, max: 565516});\n",
        "        }\n",
        "        "
       ],
       "metadata": {},
       "output_type": "display_data",
       "text": [
        "<IPython.core.display.Javascript at 0x7f2a9497ef50>"
       ]
      },
      {
       "javascript": [
        "$('div#ae1516f6-5e19-4df3-ac07-cf68e1f52e55').text('ETA:  0:01:07');"
       ],
       "metadata": {},
       "output_type": "display_data",
       "text": [
        "<IPython.core.display.Javascript at 0x7f2a9497ef90>"
       ]
      },
      {
       "javascript": [
        "$('div#85400189-6928-448f-a97c-883694aea79a').text(' 85%');"
       ],
       "metadata": {},
       "output_type": "display_data",
       "text": [
        "<IPython.core.display.Javascript at 0x7f2a94986210>"
       ]
      },
      {
       "javascript": [
        "\n",
        "        var $myPB = $(\"div#73d29a16-56e5-4057-bc7d-518521da0697\")\n",
        "        if ($myPB.hasClass('ui-progressbar')) {\n",
        "            $myPB.progressbar('value', 482252);\n",
        "        } else {\n",
        "            $myPB.progressbar({value: 0, max: 565516});\n",
        "        }\n",
        "        "
       ],
       "metadata": {},
       "output_type": "display_data",
       "text": [
        "<IPython.core.display.Javascript at 0x7f2a94986290>"
       ]
      },
      {
       "javascript": [
        "$('div#ae1516f6-5e19-4df3-ac07-cf68e1f52e55').text('ETA:  0:01:05');"
       ],
       "metadata": {},
       "output_type": "display_data",
       "text": [
        "<IPython.core.display.Javascript at 0x7f2a949862d0>"
       ]
      },
      {
       "javascript": [
        "$('div#85400189-6928-448f-a97c-883694aea79a').text(' 85%');"
       ],
       "metadata": {},
       "output_type": "display_data",
       "text": [
        "<IPython.core.display.Javascript at 0x7f2a94986390>"
       ]
      },
      {
       "javascript": [
        "\n",
        "        var $myPB = $(\"div#73d29a16-56e5-4057-bc7d-518521da0697\")\n",
        "        if ($myPB.hasClass('ui-progressbar')) {\n",
        "            $myPB.progressbar('value', 484235);\n",
        "        } else {\n",
        "            $myPB.progressbar({value: 0, max: 565516});\n",
        "        }\n",
        "        "
       ],
       "metadata": {},
       "output_type": "display_data",
       "text": [
        "<IPython.core.display.Javascript at 0x7f2a94986490>"
       ]
      },
      {
       "javascript": [
        "$('div#ae1516f6-5e19-4df3-ac07-cf68e1f52e55').text('ETA:  0:01:04');"
       ],
       "metadata": {},
       "output_type": "display_data",
       "text": [
        "<IPython.core.display.Javascript at 0x7f2a949864d0>"
       ]
      },
      {
       "javascript": [
        "$('div#85400189-6928-448f-a97c-883694aea79a').text(' 85%');"
       ],
       "metadata": {},
       "output_type": "display_data",
       "text": [
        "<IPython.core.display.Javascript at 0x7f2a949865d0>"
       ]
      },
      {
       "javascript": [
        "\n",
        "        var $myPB = $(\"div#73d29a16-56e5-4057-bc7d-518521da0697\")\n",
        "        if ($myPB.hasClass('ui-progressbar')) {\n",
        "            $myPB.progressbar('value', 485955);\n",
        "        } else {\n",
        "            $myPB.progressbar({value: 0, max: 565516});\n",
        "        }\n",
        "        "
       ],
       "metadata": {},
       "output_type": "display_data",
       "text": [
        "<IPython.core.display.Javascript at 0x7f2a94986590>"
       ]
      },
      {
       "javascript": [
        "$('div#ae1516f6-5e19-4df3-ac07-cf68e1f52e55').text('ETA:  0:01:02');"
       ],
       "metadata": {},
       "output_type": "display_data",
       "text": [
        "<IPython.core.display.Javascript at 0x7f2a94986650>"
       ]
      },
      {
       "javascript": [
        "$('div#85400189-6928-448f-a97c-883694aea79a').text(' 86%');"
       ],
       "metadata": {},
       "output_type": "display_data",
       "text": [
        "<IPython.core.display.Javascript at 0x7f2a94986650>"
       ]
      },
      {
       "javascript": [
        "\n",
        "        var $myPB = $(\"div#73d29a16-56e5-4057-bc7d-518521da0697\")\n",
        "        if ($myPB.hasClass('ui-progressbar')) {\n",
        "            $myPB.progressbar('value', 487718);\n",
        "        } else {\n",
        "            $myPB.progressbar({value: 0, max: 565516});\n",
        "        }\n",
        "        "
       ],
       "metadata": {},
       "output_type": "display_data",
       "text": [
        "<IPython.core.display.Javascript at 0x7f2a949865d0>"
       ]
      },
      {
       "javascript": [
        "$('div#ae1516f6-5e19-4df3-ac07-cf68e1f52e55').text('ETA:  0:01:01');"
       ],
       "metadata": {},
       "output_type": "display_data",
       "text": [
        "<IPython.core.display.Javascript at 0x7f2a94986750>"
       ]
      },
      {
       "javascript": [
        "$('div#85400189-6928-448f-a97c-883694aea79a').text(' 86%');"
       ],
       "metadata": {},
       "output_type": "display_data",
       "text": [
        "<IPython.core.display.Javascript at 0x7f2a94986d90>"
       ]
      },
      {
       "javascript": [
        "\n",
        "        var $myPB = $(\"div#73d29a16-56e5-4057-bc7d-518521da0697\")\n",
        "        if ($myPB.hasClass('ui-progressbar')) {\n",
        "            $myPB.progressbar('value', 488115);\n",
        "        } else {\n",
        "            $myPB.progressbar({value: 0, max: 565516});\n",
        "        }\n",
        "        "
       ],
       "metadata": {},
       "output_type": "display_data",
       "text": [
        "<IPython.core.display.Javascript at 0x7f2a94986e10>"
       ]
      },
      {
       "javascript": [
        "$('div#ae1516f6-5e19-4df3-ac07-cf68e1f52e55').text('ETA:  0:01:01');"
       ],
       "metadata": {},
       "output_type": "display_data",
       "text": [
        "<IPython.core.display.Javascript at 0x7f2a94986e50>"
       ]
      },
      {
       "javascript": [
        "$('div#85400189-6928-448f-a97c-883694aea79a').text(' 86%');"
       ],
       "metadata": {},
       "output_type": "display_data",
       "text": [
        "<IPython.core.display.Javascript at 0x7f2a946116d0>"
       ]
      },
      {
       "javascript": [
        "\n",
        "        var $myPB = $(\"div#73d29a16-56e5-4057-bc7d-518521da0697\")\n",
        "        if ($myPB.hasClass('ui-progressbar')) {\n",
        "            $myPB.progressbar('value', 488587);\n",
        "        } else {\n",
        "            $myPB.progressbar({value: 0, max: 565516});\n",
        "        }\n",
        "        "
       ],
       "metadata": {},
       "output_type": "display_data",
       "text": [
        "<IPython.core.display.Javascript at 0x7f2a94611750>"
       ]
      },
      {
       "javascript": [
        "$('div#ae1516f6-5e19-4df3-ac07-cf68e1f52e55').text('ETA:  0:01:00');"
       ],
       "metadata": {},
       "output_type": "display_data",
       "text": [
        "<IPython.core.display.Javascript at 0x7f2a94611790>"
       ]
      },
      {
       "javascript": [
        "$('div#85400189-6928-448f-a97c-883694aea79a').text(' 86%');"
       ],
       "metadata": {},
       "output_type": "display_data",
       "text": [
        "<IPython.core.display.Javascript at 0x7f2a94611790>"
       ]
      },
      {
       "javascript": [
        "\n",
        "        var $myPB = $(\"div#73d29a16-56e5-4057-bc7d-518521da0697\")\n",
        "        if ($myPB.hasClass('ui-progressbar')) {\n",
        "            $myPB.progressbar('value', 490608);\n",
        "        } else {\n",
        "            $myPB.progressbar({value: 0, max: 565516});\n",
        "        }\n",
        "        "
       ],
       "metadata": {},
       "output_type": "display_data",
       "text": [
        "<IPython.core.display.Javascript at 0x7f2a94611890>"
       ]
      },
      {
       "javascript": [
        "$('div#ae1516f6-5e19-4df3-ac07-cf68e1f52e55').text('ETA:  0:00:59');"
       ],
       "metadata": {},
       "output_type": "display_data",
       "text": [
        "<IPython.core.display.Javascript at 0x7f2a946118d0>"
       ]
      },
      {
       "javascript": [
        "$('div#85400189-6928-448f-a97c-883694aea79a').text(' 87%');"
       ],
       "metadata": {},
       "output_type": "display_data",
       "text": [
        "<IPython.core.display.Javascript at 0x7f2a94611b50>"
       ]
      },
      {
       "javascript": [
        "\n",
        "        var $myPB = $(\"div#73d29a16-56e5-4057-bc7d-518521da0697\")\n",
        "        if ($myPB.hasClass('ui-progressbar')) {\n",
        "            $myPB.progressbar('value', 492099);\n",
        "        } else {\n",
        "            $myPB.progressbar({value: 0, max: 565516});\n",
        "        }\n",
        "        "
       ],
       "metadata": {},
       "output_type": "display_data",
       "text": [
        "<IPython.core.display.Javascript at 0x7f2a94611bd0>"
       ]
      },
      {
       "javascript": [
        "$('div#ae1516f6-5e19-4df3-ac07-cf68e1f52e55').text('ETA:  0:00:58');"
       ],
       "metadata": {},
       "output_type": "display_data",
       "text": [
        "<IPython.core.display.Javascript at 0x7f2a94611c10>"
       ]
      },
      {
       "javascript": [
        "$('div#85400189-6928-448f-a97c-883694aea79a').text(' 87%');"
       ],
       "metadata": {},
       "output_type": "display_data",
       "text": [
        "<IPython.core.display.Javascript at 0x7f2a94630490>"
       ]
      },
      {
       "javascript": [
        "\n",
        "        var $myPB = $(\"div#73d29a16-56e5-4057-bc7d-518521da0697\")\n",
        "        if ($myPB.hasClass('ui-progressbar')) {\n",
        "            $myPB.progressbar('value', 492667);\n",
        "        } else {\n",
        "            $myPB.progressbar({value: 0, max: 565516});\n",
        "        }\n",
        "        "
       ],
       "metadata": {},
       "output_type": "display_data",
       "text": [
        "<IPython.core.display.Javascript at 0x7f2a94630510>"
       ]
      },
      {
       "javascript": [
        "$('div#ae1516f6-5e19-4df3-ac07-cf68e1f52e55').text('ETA:  0:00:57');"
       ],
       "metadata": {},
       "output_type": "display_data",
       "text": [
        "<IPython.core.display.Javascript at 0x7f2a94630550>"
       ]
      },
      {
       "javascript": [
        "$('div#85400189-6928-448f-a97c-883694aea79a').text(' 87%');"
       ],
       "metadata": {},
       "output_type": "display_data",
       "text": [
        "<IPython.core.display.Javascript at 0x7f2a94630b90>"
       ]
      },
      {
       "javascript": [
        "\n",
        "        var $myPB = $(\"div#73d29a16-56e5-4057-bc7d-518521da0697\")\n",
        "        if ($myPB.hasClass('ui-progressbar')) {\n",
        "            $myPB.progressbar('value', 493435);\n",
        "        } else {\n",
        "            $myPB.progressbar({value: 0, max: 565516});\n",
        "        }\n",
        "        "
       ],
       "metadata": {},
       "output_type": "display_data",
       "text": [
        "<IPython.core.display.Javascript at 0x7f2a94630c10>"
       ]
      },
      {
       "javascript": [
        "$('div#ae1516f6-5e19-4df3-ac07-cf68e1f52e55').text('ETA:  0:00:57');"
       ],
       "metadata": {},
       "output_type": "display_data",
       "text": [
        "<IPython.core.display.Javascript at 0x7f2a94630c50>"
       ]
      },
      {
       "javascript": [
        "$('div#85400189-6928-448f-a97c-883694aea79a').text(' 87%');"
       ],
       "metadata": {},
       "output_type": "display_data",
       "text": [
        "<IPython.core.display.Javascript at 0x7f2a946013d0>"
       ]
      },
      {
       "javascript": [
        "\n",
        "        var $myPB = $(\"div#73d29a16-56e5-4057-bc7d-518521da0697\")\n",
        "        if ($myPB.hasClass('ui-progressbar')) {\n",
        "            $myPB.progressbar('value', 494185);\n",
        "        } else {\n",
        "            $myPB.progressbar({value: 0, max: 565516});\n",
        "        }\n",
        "        "
       ],
       "metadata": {},
       "output_type": "display_data",
       "text": [
        "<IPython.core.display.Javascript at 0x7f2a94601450>"
       ]
      },
      {
       "javascript": [
        "$('div#ae1516f6-5e19-4df3-ac07-cf68e1f52e55').text('ETA:  0:00:56');"
       ],
       "metadata": {},
       "output_type": "display_data",
       "text": [
        "<IPython.core.display.Javascript at 0x7f2a94601490>"
       ]
      },
      {
       "javascript": [
        "$('div#85400189-6928-448f-a97c-883694aea79a').text(' 87%');"
       ],
       "metadata": {},
       "output_type": "display_data",
       "text": [
        "<IPython.core.display.Javascript at 0x7f2a94601bd0>"
       ]
      },
      {
       "javascript": [
        "\n",
        "        var $myPB = $(\"div#73d29a16-56e5-4057-bc7d-518521da0697\")\n",
        "        if ($myPB.hasClass('ui-progressbar')) {\n",
        "            $myPB.progressbar('value', 494859);\n",
        "        } else {\n",
        "            $myPB.progressbar({value: 0, max: 565516});\n",
        "        }\n",
        "        "
       ],
       "metadata": {},
       "output_type": "display_data",
       "text": [
        "<IPython.core.display.Javascript at 0x7f2a94601c50>"
       ]
      },
      {
       "javascript": [
        "$('div#ae1516f6-5e19-4df3-ac07-cf68e1f52e55').text('ETA:  0:00:56');"
       ],
       "metadata": {},
       "output_type": "display_data",
       "text": [
        "<IPython.core.display.Javascript at 0x7f2a94601c90>"
       ]
      },
      {
       "javascript": [
        "$('div#85400189-6928-448f-a97c-883694aea79a').text(' 87%');"
       ],
       "metadata": {},
       "output_type": "display_data",
       "text": [
        "<IPython.core.display.Javascript at 0x7f2a97c75290>"
       ]
      },
      {
       "javascript": [
        "\n",
        "        var $myPB = $(\"div#73d29a16-56e5-4057-bc7d-518521da0697\")\n",
        "        if ($myPB.hasClass('ui-progressbar')) {\n",
        "            $myPB.progressbar('value', 495857);\n",
        "        } else {\n",
        "            $myPB.progressbar({value: 0, max: 565516});\n",
        "        }\n",
        "        "
       ],
       "metadata": {},
       "output_type": "display_data",
       "text": [
        "<IPython.core.display.Javascript at 0x7f2a97c75310>"
       ]
      },
      {
       "javascript": [
        "$('div#ae1516f6-5e19-4df3-ac07-cf68e1f52e55').text('ETA:  0:00:55');"
       ],
       "metadata": {},
       "output_type": "display_data",
       "text": [
        "<IPython.core.display.Javascript at 0x7f2a97c75350>"
       ]
      },
      {
       "javascript": [
        "$('div#85400189-6928-448f-a97c-883694aea79a').text(' 87%');"
       ],
       "metadata": {},
       "output_type": "display_data",
       "text": [
        "<IPython.core.display.Javascript at 0x7f2a97c75d90>"
       ]
      },
      {
       "javascript": [
        "\n",
        "        var $myPB = $(\"div#73d29a16-56e5-4057-bc7d-518521da0697\")\n",
        "        if ($myPB.hasClass('ui-progressbar')) {\n",
        "            $myPB.progressbar('value', 496033);\n",
        "        } else {\n",
        "            $myPB.progressbar({value: 0, max: 565516});\n",
        "        }\n",
        "        "
       ],
       "metadata": {},
       "output_type": "display_data",
       "text": [
        "<IPython.core.display.Javascript at 0x7f2a97c75e10>"
       ]
      },
      {
       "javascript": [
        "$('div#ae1516f6-5e19-4df3-ac07-cf68e1f52e55').text('ETA:  0:00:55');"
       ],
       "metadata": {},
       "output_type": "display_data",
       "text": [
        "<IPython.core.display.Javascript at 0x7f2a97c75e50>"
       ]
      },
      {
       "javascript": [
        "$('div#85400189-6928-448f-a97c-883694aea79a').text(' 87%');"
       ],
       "metadata": {},
       "output_type": "display_data",
       "text": [
        "<IPython.core.display.Javascript at 0x7f2a97c77650>"
       ]
      },
      {
       "javascript": [
        "\n",
        "        var $myPB = $(\"div#73d29a16-56e5-4057-bc7d-518521da0697\")\n",
        "        if ($myPB.hasClass('ui-progressbar')) {\n",
        "            $myPB.progressbar('value', 496618);\n",
        "        } else {\n",
        "            $myPB.progressbar({value: 0, max: 565516});\n",
        "        }\n",
        "        "
       ],
       "metadata": {},
       "output_type": "display_data",
       "text": [
        "<IPython.core.display.Javascript at 0x7f2a97c776d0>"
       ]
      },
      {
       "javascript": [
        "$('div#ae1516f6-5e19-4df3-ac07-cf68e1f52e55').text('ETA:  0:00:54');"
       ],
       "metadata": {},
       "output_type": "display_data",
       "text": [
        "<IPython.core.display.Javascript at 0x7f2a97c77710>"
       ]
      },
      {
       "javascript": [
        "$('div#85400189-6928-448f-a97c-883694aea79a').text(' 87%');"
       ],
       "metadata": {},
       "output_type": "display_data",
       "text": [
        "<IPython.core.display.Javascript at 0x7f2a97c77e50>"
       ]
      },
      {
       "javascript": [
        "\n",
        "        var $myPB = $(\"div#73d29a16-56e5-4057-bc7d-518521da0697\")\n",
        "        if ($myPB.hasClass('ui-progressbar')) {\n",
        "            $myPB.progressbar('value', 496782);\n",
        "        } else {\n",
        "            $myPB.progressbar({value: 0, max: 565516});\n",
        "        }\n",
        "        "
       ],
       "metadata": {},
       "output_type": "display_data",
       "text": [
        "<IPython.core.display.Javascript at 0x7f2a97c77ed0>"
       ]
      },
      {
       "javascript": [
        "$('div#ae1516f6-5e19-4df3-ac07-cf68e1f52e55').text('ETA:  0:00:54');"
       ],
       "metadata": {},
       "output_type": "display_data",
       "text": [
        "<IPython.core.display.Javascript at 0x7f2a97c77f10>"
       ]
      },
      {
       "javascript": [
        "$('div#85400189-6928-448f-a97c-883694aea79a').text(' 88%');"
       ],
       "metadata": {},
       "output_type": "display_data",
       "text": [
        "<IPython.core.display.Javascript at 0x7f2a97c7b310>"
       ]
      },
      {
       "javascript": [
        "\n",
        "        var $myPB = $(\"div#73d29a16-56e5-4057-bc7d-518521da0697\")\n",
        "        if ($myPB.hasClass('ui-progressbar')) {\n",
        "            $myPB.progressbar('value', 498027);\n",
        "        } else {\n",
        "            $myPB.progressbar({value: 0, max: 565516});\n",
        "        }\n",
        "        "
       ],
       "metadata": {},
       "output_type": "display_data",
       "text": [
        "<IPython.core.display.Javascript at 0x7f2a97c7b390>"
       ]
      },
      {
       "javascript": [
        "$('div#ae1516f6-5e19-4df3-ac07-cf68e1f52e55').text('ETA:  0:00:53');"
       ],
       "metadata": {},
       "output_type": "display_data",
       "text": [
        "<IPython.core.display.Javascript at 0x7f2a97c7b3d0>"
       ]
      },
      {
       "javascript": [
        "$('div#85400189-6928-448f-a97c-883694aea79a').text(' 88%');"
       ],
       "metadata": {},
       "output_type": "display_data",
       "text": [
        "<IPython.core.display.Javascript at 0x7f2a97c7ba10>"
       ]
      },
      {
       "javascript": [
        "\n",
        "        var $myPB = $(\"div#73d29a16-56e5-4057-bc7d-518521da0697\")\n",
        "        if ($myPB.hasClass('ui-progressbar')) {\n",
        "            $myPB.progressbar('value', 498177);\n",
        "        } else {\n",
        "            $myPB.progressbar({value: 0, max: 565516});\n",
        "        }\n",
        "        "
       ],
       "metadata": {},
       "output_type": "display_data",
       "text": [
        "<IPython.core.display.Javascript at 0x7f2a97c7ba90>"
       ]
      },
      {
       "javascript": [
        "$('div#ae1516f6-5e19-4df3-ac07-cf68e1f52e55').text('ETA:  0:00:53');"
       ],
       "metadata": {},
       "output_type": "display_data",
       "text": [
        "<IPython.core.display.Javascript at 0x7f2a97c7bad0>"
       ]
      },
      {
       "javascript": [
        "$('div#85400189-6928-448f-a97c-883694aea79a').text(' 88%');"
       ],
       "metadata": {},
       "output_type": "display_data",
       "text": [
        "<IPython.core.display.Javascript at 0x7f2a97ca2350>"
       ]
      },
      {
       "javascript": [
        "\n",
        "        var $myPB = $(\"div#73d29a16-56e5-4057-bc7d-518521da0697\")\n",
        "        if ($myPB.hasClass('ui-progressbar')) {\n",
        "            $myPB.progressbar('value', 498601);\n",
        "        } else {\n",
        "            $myPB.progressbar({value: 0, max: 565516});\n",
        "        }\n",
        "        "
       ],
       "metadata": {},
       "output_type": "display_data",
       "text": [
        "<IPython.core.display.Javascript at 0x7f2a97ca23d0>"
       ]
      },
      {
       "javascript": [
        "$('div#ae1516f6-5e19-4df3-ac07-cf68e1f52e55').text('ETA:  0:00:53');"
       ],
       "metadata": {},
       "output_type": "display_data",
       "text": [
        "<IPython.core.display.Javascript at 0x7f2a97ca2410>"
       ]
      },
      {
       "javascript": [
        "$('div#85400189-6928-448f-a97c-883694aea79a').text(' 88%');"
       ],
       "metadata": {},
       "output_type": "display_data",
       "text": [
        "<IPython.core.display.Javascript at 0x7f2a97ca25d0>"
       ]
      },
      {
       "javascript": [
        "\n",
        "        var $myPB = $(\"div#73d29a16-56e5-4057-bc7d-518521da0697\")\n",
        "        if ($myPB.hasClass('ui-progressbar')) {\n",
        "            $myPB.progressbar('value', 499922);\n",
        "        } else {\n",
        "            $myPB.progressbar({value: 0, max: 565516});\n",
        "        }\n",
        "        "
       ],
       "metadata": {},
       "output_type": "display_data",
       "text": [
        "<IPython.core.display.Javascript at 0x7f2a97ca2650>"
       ]
      },
      {
       "javascript": [
        "$('div#ae1516f6-5e19-4df3-ac07-cf68e1f52e55').text('ETA:  0:00:52');"
       ],
       "metadata": {},
       "output_type": "display_data",
       "text": [
        "<IPython.core.display.Javascript at 0x7f2a97ca2690>"
       ]
      },
      {
       "javascript": [
        "$('div#85400189-6928-448f-a97c-883694aea79a').text(' 88%');"
       ],
       "metadata": {},
       "output_type": "display_data",
       "text": [
        "<IPython.core.display.Javascript at 0x7f2a97ca2a50>"
       ]
      },
      {
       "javascript": [
        "\n",
        "        var $myPB = $(\"div#73d29a16-56e5-4057-bc7d-518521da0697\")\n",
        "        if ($myPB.hasClass('ui-progressbar')) {\n",
        "            $myPB.progressbar('value', 500933);\n",
        "        } else {\n",
        "            $myPB.progressbar({value: 0, max: 565516});\n",
        "        }\n",
        "        "
       ],
       "metadata": {},
       "output_type": "display_data",
       "text": [
        "<IPython.core.display.Javascript at 0x7f2a97ca2ad0>"
       ]
      },
      {
       "javascript": [
        "$('div#ae1516f6-5e19-4df3-ac07-cf68e1f52e55').text('ETA:  0:00:51');"
       ],
       "metadata": {},
       "output_type": "display_data",
       "text": [
        "<IPython.core.display.Javascript at 0x7f2a97ca2b10>"
       ]
      },
      {
       "javascript": [
        "$('div#85400189-6928-448f-a97c-883694aea79a').text(' 88%');"
       ],
       "metadata": {},
       "output_type": "display_data",
       "text": [
        "<IPython.core.display.Javascript at 0x7f2a97ca2dd0>"
       ]
      },
      {
       "javascript": [
        "\n",
        "        var $myPB = $(\"div#73d29a16-56e5-4057-bc7d-518521da0697\")\n",
        "        if ($myPB.hasClass('ui-progressbar')) {\n",
        "            $myPB.progressbar('value', 502176);\n",
        "        } else {\n",
        "            $myPB.progressbar({value: 0, max: 565516});\n",
        "        }\n",
        "        "
       ],
       "metadata": {},
       "output_type": "display_data",
       "text": [
        "<IPython.core.display.Javascript at 0x7f2a97ca2e50>"
       ]
      },
      {
       "javascript": [
        "$('div#ae1516f6-5e19-4df3-ac07-cf68e1f52e55').text('ETA:  0:00:50');"
       ],
       "metadata": {},
       "output_type": "display_data",
       "text": [
        "<IPython.core.display.Javascript at 0x7f2a97ca2e90>"
       ]
      },
      {
       "javascript": [
        "$('div#85400189-6928-448f-a97c-883694aea79a').text(' 88%');"
       ],
       "metadata": {},
       "output_type": "display_data",
       "text": [
        "<IPython.core.display.Javascript at 0x7f2a9befa490>"
       ]
      },
      {
       "javascript": [
        "\n",
        "        var $myPB = $(\"div#73d29a16-56e5-4057-bc7d-518521da0697\")\n",
        "        if ($myPB.hasClass('ui-progressbar')) {\n",
        "            $myPB.progressbar('value', 502911);\n",
        "        } else {\n",
        "            $myPB.progressbar({value: 0, max: 565516});\n",
        "        }\n",
        "        "
       ],
       "metadata": {},
       "output_type": "display_data",
       "text": [
        "<IPython.core.display.Javascript at 0x7f2a9befa510>"
       ]
      },
      {
       "javascript": [
        "$('div#ae1516f6-5e19-4df3-ac07-cf68e1f52e55').text('ETA:  0:00:50');"
       ],
       "metadata": {},
       "output_type": "display_data",
       "text": [
        "<IPython.core.display.Javascript at 0x7f2a9befa550>"
       ]
      },
      {
       "javascript": [
        "$('div#85400189-6928-448f-a97c-883694aea79a').text(' 89%');"
       ],
       "metadata": {},
       "output_type": "display_data",
       "text": [
        "<IPython.core.display.Javascript at 0x7f2a9befa710>"
       ]
      },
      {
       "javascript": [
        "\n",
        "        var $myPB = $(\"div#73d29a16-56e5-4057-bc7d-518521da0697\")\n",
        "        if ($myPB.hasClass('ui-progressbar')) {\n",
        "            $myPB.progressbar('value', 504685);\n",
        "        } else {\n",
        "            $myPB.progressbar({value: 0, max: 565516});\n",
        "        }\n",
        "        "
       ],
       "metadata": {},
       "output_type": "display_data",
       "text": [
        "<IPython.core.display.Javascript at 0x7f2a9befa790>"
       ]
      },
      {
       "javascript": [
        "$('div#ae1516f6-5e19-4df3-ac07-cf68e1f52e55').text('ETA:  0:00:48');"
       ],
       "metadata": {},
       "output_type": "display_data",
       "text": [
        "<IPython.core.display.Javascript at 0x7f2a9befa7d0>"
       ]
      },
      {
       "javascript": [
        "$('div#85400189-6928-448f-a97c-883694aea79a').text(' 89%');"
       ],
       "metadata": {},
       "output_type": "display_data",
       "text": [
        "<IPython.core.display.Javascript at 0x7f2a9befaa90>"
       ]
      },
      {
       "javascript": [
        "\n",
        "        var $myPB = $(\"div#73d29a16-56e5-4057-bc7d-518521da0697\")\n",
        "        if ($myPB.hasClass('ui-progressbar')) {\n",
        "            $myPB.progressbar('value', 505930);\n",
        "        } else {\n",
        "            $myPB.progressbar({value: 0, max: 565516});\n",
        "        }\n",
        "        "
       ],
       "metadata": {},
       "output_type": "display_data",
       "text": [
        "<IPython.core.display.Javascript at 0x7f2a9befab10>"
       ]
      },
      {
       "javascript": [
        "$('div#ae1516f6-5e19-4df3-ac07-cf68e1f52e55').text('ETA:  0:00:47');"
       ],
       "metadata": {},
       "output_type": "display_data",
       "text": [
        "<IPython.core.display.Javascript at 0x7f2a9befab50>"
       ]
      },
      {
       "javascript": [
        "$('div#85400189-6928-448f-a97c-883694aea79a').text(' 89%');"
       ],
       "metadata": {},
       "output_type": "display_data",
       "text": [
        "<IPython.core.display.Javascript at 0x7f2a9befad10>"
       ]
      },
      {
       "javascript": [
        "\n",
        "        var $myPB = $(\"div#73d29a16-56e5-4057-bc7d-518521da0697\")\n",
        "        if ($myPB.hasClass('ui-progressbar')) {\n",
        "            $myPB.progressbar('value', 507437);\n",
        "        } else {\n",
        "            $myPB.progressbar({value: 0, max: 565516});\n",
        "        }\n",
        "        "
       ],
       "metadata": {},
       "output_type": "display_data",
       "text": [
        "<IPython.core.display.Javascript at 0x7f2a9befad90>"
       ]
      },
      {
       "javascript": [
        "$('div#ae1516f6-5e19-4df3-ac07-cf68e1f52e55').text('ETA:  0:00:46');"
       ],
       "metadata": {},
       "output_type": "display_data",
       "text": [
        "<IPython.core.display.Javascript at 0x7f2a9befadd0>"
       ]
      },
      {
       "javascript": [
        "$('div#85400189-6928-448f-a97c-883694aea79a').text(' 89%');"
       ],
       "metadata": {},
       "output_type": "display_data",
       "text": [
        "<IPython.core.display.Javascript at 0x7f2a9bef4250>"
       ]
      },
      {
       "javascript": [
        "\n",
        "        var $myPB = $(\"div#73d29a16-56e5-4057-bc7d-518521da0697\")\n",
        "        if ($myPB.hasClass('ui-progressbar')) {\n",
        "            $myPB.progressbar('value', 508637);\n",
        "        } else {\n",
        "            $myPB.progressbar({value: 0, max: 565516});\n",
        "        }\n",
        "        "
       ],
       "metadata": {},
       "output_type": "display_data",
       "text": [
        "<IPython.core.display.Javascript at 0x7f2a9bef42d0>"
       ]
      },
      {
       "javascript": [
        "$('div#ae1516f6-5e19-4df3-ac07-cf68e1f52e55').text('ETA:  0:00:45');"
       ],
       "metadata": {},
       "output_type": "display_data",
       "text": [
        "<IPython.core.display.Javascript at 0x7f2a9bef4310>"
       ]
      },
      {
       "javascript": [
        "$('div#85400189-6928-448f-a97c-883694aea79a').text(' 89%');"
       ],
       "metadata": {},
       "output_type": "display_data",
       "text": [
        "<IPython.core.display.Javascript at 0x7f2a9bef4bd0>"
       ]
      },
      {
       "javascript": [
        "\n",
        "        var $myPB = $(\"div#73d29a16-56e5-4057-bc7d-518521da0697\")\n",
        "        if ($myPB.hasClass('ui-progressbar')) {\n",
        "            $myPB.progressbar('value', 508795);\n",
        "        } else {\n",
        "            $myPB.progressbar({value: 0, max: 565516});\n",
        "        }\n",
        "        "
       ],
       "metadata": {},
       "output_type": "display_data",
       "text": [
        "<IPython.core.display.Javascript at 0x7f2a9bef4c50>"
       ]
      },
      {
       "javascript": [
        "$('div#ae1516f6-5e19-4df3-ac07-cf68e1f52e55').text('ETA:  0:00:45');"
       ],
       "metadata": {},
       "output_type": "display_data",
       "text": [
        "<IPython.core.display.Javascript at 0x7f2a9bef4c90>"
       ]
      },
      {
       "javascript": [
        "$('div#85400189-6928-448f-a97c-883694aea79a').text(' 89%');"
       ],
       "metadata": {},
       "output_type": "display_data",
       "text": [
        "<IPython.core.display.Javascript at 0x7f2a9bf03690>"
       ]
      },
      {
       "javascript": [
        "\n",
        "        var $myPB = $(\"div#73d29a16-56e5-4057-bc7d-518521da0697\")\n",
        "        if ($myPB.hasClass('ui-progressbar')) {\n",
        "            $myPB.progressbar('value', 508957);\n",
        "        } else {\n",
        "            $myPB.progressbar({value: 0, max: 565516});\n",
        "        }\n",
        "        "
       ],
       "metadata": {},
       "output_type": "display_data",
       "text": [
        "<IPython.core.display.Javascript at 0x7f2a9bf03710>"
       ]
      },
      {
       "javascript": [
        "$('div#ae1516f6-5e19-4df3-ac07-cf68e1f52e55').text('ETA:  0:00:45');"
       ],
       "metadata": {},
       "output_type": "display_data",
       "text": [
        "<IPython.core.display.Javascript at 0x7f2a9bf03750>"
       ]
      },
      {
       "javascript": [
        "$('div#85400189-6928-448f-a97c-883694aea79a').text(' 90%');"
       ],
       "metadata": {},
       "output_type": "display_data",
       "text": [
        "<IPython.core.display.Javascript at 0x7f2a9bf191d0>"
       ]
      },
      {
       "javascript": [
        "\n",
        "        var $myPB = $(\"div#73d29a16-56e5-4057-bc7d-518521da0697\")\n",
        "        if ($myPB.hasClass('ui-progressbar')) {\n",
        "            $myPB.progressbar('value', 509051);\n",
        "        } else {\n",
        "            $myPB.progressbar({value: 0, max: 565516});\n",
        "        }\n",
        "        "
       ],
       "metadata": {},
       "output_type": "display_data",
       "text": [
        "<IPython.core.display.Javascript at 0x7f2a9bf19250>"
       ]
      },
      {
       "javascript": [
        "$('div#ae1516f6-5e19-4df3-ac07-cf68e1f52e55').text('ETA:  0:00:45');"
       ],
       "metadata": {},
       "output_type": "display_data",
       "text": [
        "<IPython.core.display.Javascript at 0x7f2a9bf19290>"
       ]
      },
      {
       "javascript": [
        "$('div#85400189-6928-448f-a97c-883694aea79a').text(' 90%');"
       ],
       "metadata": {},
       "output_type": "display_data",
       "text": [
        "<IPython.core.display.Javascript at 0x7f2a9bf19ad0>"
       ]
      },
      {
       "javascript": [
        "\n",
        "        var $myPB = $(\"div#73d29a16-56e5-4057-bc7d-518521da0697\")\n",
        "        if ($myPB.hasClass('ui-progressbar')) {\n",
        "            $myPB.progressbar('value', 509131);\n",
        "        } else {\n",
        "            $myPB.progressbar({value: 0, max: 565516});\n",
        "        }\n",
        "        "
       ],
       "metadata": {},
       "output_type": "display_data",
       "text": [
        "<IPython.core.display.Javascript at 0x7f2a9bf19b50>"
       ]
      },
      {
       "javascript": [
        "$('div#ae1516f6-5e19-4df3-ac07-cf68e1f52e55').text('ETA:  0:00:45');"
       ],
       "metadata": {},
       "output_type": "display_data",
       "text": [
        "<IPython.core.display.Javascript at 0x7f2a9bf19b90>"
       ]
      },
      {
       "javascript": [
        "$('div#85400189-6928-448f-a97c-883694aea79a').text(' 90%');"
       ],
       "metadata": {},
       "output_type": "display_data",
       "text": [
        "<IPython.core.display.Javascript at 0x7f2a95bb6390>"
       ]
      },
      {
       "javascript": [
        "\n",
        "        var $myPB = $(\"div#73d29a16-56e5-4057-bc7d-518521da0697\")\n",
        "        if ($myPB.hasClass('ui-progressbar')) {\n",
        "            $myPB.progressbar('value', 509533);\n",
        "        } else {\n",
        "            $myPB.progressbar({value: 0, max: 565516});\n",
        "        }\n",
        "        "
       ],
       "metadata": {},
       "output_type": "display_data",
       "text": [
        "<IPython.core.display.Javascript at 0x7f2a95bb6410>"
       ]
      },
      {
       "javascript": [
        "$('div#ae1516f6-5e19-4df3-ac07-cf68e1f52e55').text('ETA:  0:00:45');"
       ],
       "metadata": {},
       "output_type": "display_data",
       "text": [
        "<IPython.core.display.Javascript at 0x7f2a95bb6450>"
       ]
      },
      {
       "javascript": [
        "$('div#85400189-6928-448f-a97c-883694aea79a').text(' 90%');"
       ],
       "metadata": {},
       "output_type": "display_data",
       "text": [
        "<IPython.core.display.Javascript at 0x7f2a95bb6550>"
       ]
      },
      {
       "javascript": [
        "\n",
        "        var $myPB = $(\"div#73d29a16-56e5-4057-bc7d-518521da0697\")\n",
        "        if ($myPB.hasClass('ui-progressbar')) {\n",
        "            $myPB.progressbar('value', 511536);\n",
        "        } else {\n",
        "            $myPB.progressbar({value: 0, max: 565516});\n",
        "        }\n",
        "        "
       ],
       "metadata": {},
       "output_type": "display_data",
       "text": [
        "<IPython.core.display.Javascript at 0x7f2a95bb6510>"
       ]
      },
      {
       "javascript": [
        "$('div#ae1516f6-5e19-4df3-ac07-cf68e1f52e55').text('ETA:  0:00:43');"
       ],
       "metadata": {},
       "output_type": "display_data",
       "text": [
        "<IPython.core.display.Javascript at 0x7f2a95bb65d0>"
       ]
      },
      {
       "javascript": [
        "$('div#85400189-6928-448f-a97c-883694aea79a').text(' 90%');"
       ],
       "metadata": {},
       "output_type": "display_data",
       "text": [
        "<IPython.core.display.Javascript at 0x7f2a95bb6c90>"
       ]
      },
      {
       "javascript": [
        "\n",
        "        var $myPB = $(\"div#73d29a16-56e5-4057-bc7d-518521da0697\")\n",
        "        if ($myPB.hasClass('ui-progressbar')) {\n",
        "            $myPB.progressbar('value', 512382);\n",
        "        } else {\n",
        "            $myPB.progressbar({value: 0, max: 565516});\n",
        "        }\n",
        "        "
       ],
       "metadata": {},
       "output_type": "display_data",
       "text": [
        "<IPython.core.display.Javascript at 0x7f2a95bb6d10>"
       ]
      },
      {
       "javascript": [
        "$('div#ae1516f6-5e19-4df3-ac07-cf68e1f52e55').text('ETA:  0:00:43');"
       ],
       "metadata": {},
       "output_type": "display_data",
       "text": [
        "<IPython.core.display.Javascript at 0x7f2a95bb6d50>"
       ]
      },
      {
       "javascript": [
        "$('div#85400189-6928-448f-a97c-883694aea79a').text(' 90%');"
       ],
       "metadata": {},
       "output_type": "display_data",
       "text": [
        "<IPython.core.display.Javascript at 0x7f2a95bb6e50>"
       ]
      },
      {
       "javascript": [
        "\n",
        "        var $myPB = $(\"div#73d29a16-56e5-4057-bc7d-518521da0697\")\n",
        "        if ($myPB.hasClass('ui-progressbar')) {\n",
        "            $myPB.progressbar('value', 514459);\n",
        "        } else {\n",
        "            $myPB.progressbar({value: 0, max: 565516});\n",
        "        }\n",
        "        "
       ],
       "metadata": {},
       "output_type": "display_data",
       "text": [
        "<IPython.core.display.Javascript at 0x7f2a95bb6e10>"
       ]
      },
      {
       "javascript": [
        "$('div#ae1516f6-5e19-4df3-ac07-cf68e1f52e55').text('ETA:  0:00:41');"
       ],
       "metadata": {},
       "output_type": "display_data",
       "text": [
        "<IPython.core.display.Javascript at 0x7f2a95bb6ed0>"
       ]
      },
      {
       "javascript": [
        "$('div#85400189-6928-448f-a97c-883694aea79a').text(' 91%');"
       ],
       "metadata": {},
       "output_type": "display_data",
       "text": [
        "<IPython.core.display.Javascript at 0x7f2a95bb6f90>"
       ]
      },
      {
       "javascript": [
        "\n",
        "        var $myPB = $(\"div#73d29a16-56e5-4057-bc7d-518521da0697\")\n",
        "        if ($myPB.hasClass('ui-progressbar')) {\n",
        "            $myPB.progressbar('value', 516416);\n",
        "        } else {\n",
        "            $myPB.progressbar({value: 0, max: 565516});\n",
        "        }\n",
        "        "
       ],
       "metadata": {},
       "output_type": "display_data",
       "text": [
        "<IPython.core.display.Javascript at 0x7f2a95bbc050>"
       ]
      },
      {
       "javascript": [
        "$('div#ae1516f6-5e19-4df3-ac07-cf68e1f52e55').text('ETA:  0:00:39');"
       ],
       "metadata": {},
       "output_type": "display_data",
       "text": [
        "<IPython.core.display.Javascript at 0x7f2a95bbc090>"
       ]
      },
      {
       "javascript": [
        "$('div#85400189-6928-448f-a97c-883694aea79a').text(' 91%');"
       ],
       "metadata": {},
       "output_type": "display_data",
       "text": [
        "<IPython.core.display.Javascript at 0x7f2a95bbca50>"
       ]
      },
      {
       "javascript": [
        "\n",
        "        var $myPB = $(\"div#73d29a16-56e5-4057-bc7d-518521da0697\")\n",
        "        if ($myPB.hasClass('ui-progressbar')) {\n",
        "            $myPB.progressbar('value', 516672);\n",
        "        } else {\n",
        "            $myPB.progressbar({value: 0, max: 565516});\n",
        "        }\n",
        "        "
       ],
       "metadata": {},
       "output_type": "display_data",
       "text": [
        "<IPython.core.display.Javascript at 0x7f2a95bbcad0>"
       ]
      },
      {
       "javascript": [
        "$('div#ae1516f6-5e19-4df3-ac07-cf68e1f52e55').text('ETA:  0:00:39');"
       ],
       "metadata": {},
       "output_type": "display_data",
       "text": [
        "<IPython.core.display.Javascript at 0x7f2a95bbcb10>"
       ]
      },
      {
       "javascript": [
        "$('div#85400189-6928-448f-a97c-883694aea79a').text(' 91%');"
       ],
       "metadata": {},
       "output_type": "display_data",
       "text": [
        "<IPython.core.display.Javascript at 0x7f2a95bbcb90>"
       ]
      },
      {
       "javascript": [
        "\n",
        "        var $myPB = $(\"div#73d29a16-56e5-4057-bc7d-518521da0697\")\n",
        "        if ($myPB.hasClass('ui-progressbar')) {\n",
        "            $myPB.progressbar('value', 518625);\n",
        "        } else {\n",
        "            $myPB.progressbar({value: 0, max: 565516});\n",
        "        }\n",
        "        "
       ],
       "metadata": {},
       "output_type": "display_data",
       "text": [
        "<IPython.core.display.Javascript at 0x7f2a95bbcc10>"
       ]
      },
      {
       "javascript": [
        "$('div#ae1516f6-5e19-4df3-ac07-cf68e1f52e55').text('ETA:  0:00:37');"
       ],
       "metadata": {},
       "output_type": "display_data",
       "text": [
        "<IPython.core.display.Javascript at 0x7f2a95bbcc50>"
       ]
      },
      {
       "javascript": [
        "$('div#85400189-6928-448f-a97c-883694aea79a').text(' 92%');"
       ],
       "metadata": {},
       "output_type": "display_data",
       "text": [
        "<IPython.core.display.Javascript at 0x7f2a95bbcb10>"
       ]
      },
      {
       "javascript": [
        "\n",
        "        var $myPB = $(\"div#73d29a16-56e5-4057-bc7d-518521da0697\")\n",
        "        if ($myPB.hasClass('ui-progressbar')) {\n",
        "            $myPB.progressbar('value', 520653);\n",
        "        } else {\n",
        "            $myPB.progressbar({value: 0, max: 565516});\n",
        "        }\n",
        "        "
       ],
       "metadata": {},
       "output_type": "display_data",
       "text": [
        "<IPython.core.display.Javascript at 0x7f2a95bbca50>"
       ]
      },
      {
       "javascript": [
        "$('div#ae1516f6-5e19-4df3-ac07-cf68e1f52e55').text('ETA:  0:00:36');"
       ],
       "metadata": {},
       "output_type": "display_data",
       "text": [
        "<IPython.core.display.Javascript at 0x7f2a95bbccd0>"
       ]
      },
      {
       "javascript": [
        "$('div#85400189-6928-448f-a97c-883694aea79a').text(' 92%');"
       ],
       "metadata": {},
       "output_type": "display_data",
       "text": [
        "<IPython.core.display.Javascript at 0x7f2a95bcd050>"
       ]
      },
      {
       "javascript": [
        "\n",
        "        var $myPB = $(\"div#73d29a16-56e5-4057-bc7d-518521da0697\")\n",
        "        if ($myPB.hasClass('ui-progressbar')) {\n",
        "            $myPB.progressbar('value', 522346);\n",
        "        } else {\n",
        "            $myPB.progressbar({value: 0, max: 565516});\n",
        "        }\n",
        "        "
       ],
       "metadata": {},
       "output_type": "display_data",
       "text": [
        "<IPython.core.display.Javascript at 0x7f2a95bcd090>"
       ]
      },
      {
       "javascript": [
        "$('div#ae1516f6-5e19-4df3-ac07-cf68e1f52e55').text('ETA:  0:00:34');"
       ],
       "metadata": {},
       "output_type": "display_data",
       "text": [
        "<IPython.core.display.Javascript at 0x7f2a95bcd0d0>"
       ]
      },
      {
       "javascript": [
        "$('div#85400189-6928-448f-a97c-883694aea79a').text(' 92%');"
       ],
       "metadata": {},
       "output_type": "display_data",
       "text": [
        "<IPython.core.display.Javascript at 0x7f2a95bcd310>"
       ]
      },
      {
       "javascript": [
        "\n",
        "        var $myPB = $(\"div#73d29a16-56e5-4057-bc7d-518521da0697\")\n",
        "        if ($myPB.hasClass('ui-progressbar')) {\n",
        "            $myPB.progressbar('value', 524211);\n",
        "        } else {\n",
        "            $myPB.progressbar({value: 0, max: 565516});\n",
        "        }\n",
        "        "
       ],
       "metadata": {},
       "output_type": "display_data",
       "text": [
        "<IPython.core.display.Javascript at 0x7f2a95bcd390>"
       ]
      },
      {
       "javascript": [
        "$('div#ae1516f6-5e19-4df3-ac07-cf68e1f52e55').text('ETA:  0:00:33');"
       ],
       "metadata": {},
       "output_type": "display_data",
       "text": [
        "<IPython.core.display.Javascript at 0x7f2a95bcd3d0>"
       ]
      },
      {
       "javascript": [
        "$('div#85400189-6928-448f-a97c-883694aea79a').text(' 92%');"
       ],
       "metadata": {},
       "output_type": "display_data",
       "text": [
        "<IPython.core.display.Javascript at 0x7f2a95bcdd10>"
       ]
      },
      {
       "javascript": [
        "\n",
        "        var $myPB = $(\"div#73d29a16-56e5-4057-bc7d-518521da0697\")\n",
        "        if ($myPB.hasClass('ui-progressbar')) {\n",
        "            $myPB.progressbar('value', 524568);\n",
        "        } else {\n",
        "            $myPB.progressbar({value: 0, max: 565516});\n",
        "        }\n",
        "        "
       ],
       "metadata": {},
       "output_type": "display_data",
       "text": [
        "<IPython.core.display.Javascript at 0x7f2a95bcdd90>"
       ]
      },
      {
       "javascript": [
        "$('div#ae1516f6-5e19-4df3-ac07-cf68e1f52e55').text('ETA:  0:00:33');"
       ],
       "metadata": {},
       "output_type": "display_data",
       "text": [
        "<IPython.core.display.Javascript at 0x7f2a95bcddd0>"
       ]
      },
      {
       "javascript": [
        "$('div#85400189-6928-448f-a97c-883694aea79a').text(' 92%');"
       ],
       "metadata": {},
       "output_type": "display_data",
       "text": [
        "<IPython.core.display.Javascript at 0x7f2a95bd74d0>"
       ]
      },
      {
       "javascript": [
        "\n",
        "        var $myPB = $(\"div#73d29a16-56e5-4057-bc7d-518521da0697\")\n",
        "        if ($myPB.hasClass('ui-progressbar')) {\n",
        "            $myPB.progressbar('value', 525429);\n",
        "        } else {\n",
        "            $myPB.progressbar({value: 0, max: 565516});\n",
        "        }\n",
        "        "
       ],
       "metadata": {},
       "output_type": "display_data",
       "text": [
        "<IPython.core.display.Javascript at 0x7f2a95bd7550>"
       ]
      },
      {
       "javascript": [
        "$('div#ae1516f6-5e19-4df3-ac07-cf68e1f52e55').text('ETA:  0:00:32');"
       ],
       "metadata": {},
       "output_type": "display_data",
       "text": [
        "<IPython.core.display.Javascript at 0x7f2a95bd7590>"
       ]
      },
      {
       "javascript": [
        "$('div#85400189-6928-448f-a97c-883694aea79a').text(' 93%');"
       ],
       "metadata": {},
       "output_type": "display_data",
       "text": [
        "<IPython.core.display.Javascript at 0x7f2a95bd7e50>"
       ]
      },
      {
       "javascript": [
        "\n",
        "        var $myPB = $(\"div#73d29a16-56e5-4057-bc7d-518521da0697\")\n",
        "        if ($myPB.hasClass('ui-progressbar')) {\n",
        "            $myPB.progressbar('value', 525986);\n",
        "        } else {\n",
        "            $myPB.progressbar({value: 0, max: 565516});\n",
        "        }\n",
        "        "
       ],
       "metadata": {},
       "output_type": "display_data",
       "text": [
        "<IPython.core.display.Javascript at 0x7f2a95bd7ed0>"
       ]
      },
      {
       "javascript": [
        "$('div#ae1516f6-5e19-4df3-ac07-cf68e1f52e55').text('ETA:  0:00:31');"
       ],
       "metadata": {},
       "output_type": "display_data",
       "text": [
        "<IPython.core.display.Javascript at 0x7f2a95bd7f10>"
       ]
      },
      {
       "javascript": [
        "$('div#85400189-6928-448f-a97c-883694aea79a').text(' 93%');"
       ],
       "metadata": {},
       "output_type": "display_data",
       "text": [
        "<IPython.core.display.Javascript at 0x7f2a945e0810>"
       ]
      },
      {
       "javascript": [
        "\n",
        "        var $myPB = $(\"div#73d29a16-56e5-4057-bc7d-518521da0697\")\n",
        "        if ($myPB.hasClass('ui-progressbar')) {\n",
        "            $myPB.progressbar('value', 526471);\n",
        "        } else {\n",
        "            $myPB.progressbar({value: 0, max: 565516});\n",
        "        }\n",
        "        "
       ],
       "metadata": {},
       "output_type": "display_data",
       "text": [
        "<IPython.core.display.Javascript at 0x7f2a945e0890>"
       ]
      },
      {
       "javascript": [
        "$('div#ae1516f6-5e19-4df3-ac07-cf68e1f52e55').text('ETA:  0:00:31');"
       ],
       "metadata": {},
       "output_type": "display_data",
       "text": [
        "<IPython.core.display.Javascript at 0x7f2a945e08d0>"
       ]
      },
      {
       "javascript": [
        "$('div#85400189-6928-448f-a97c-883694aea79a').text(' 93%');"
       ],
       "metadata": {},
       "output_type": "display_data",
       "text": [
        "<IPython.core.display.Javascript at 0x7f2a945e0f90>"
       ]
      },
      {
       "javascript": [
        "\n",
        "        var $myPB = $(\"div#73d29a16-56e5-4057-bc7d-518521da0697\")\n",
        "        if ($myPB.hasClass('ui-progressbar')) {\n",
        "            $myPB.progressbar('value', 527302);\n",
        "        } else {\n",
        "            $myPB.progressbar({value: 0, max: 565516});\n",
        "        }\n",
        "        "
       ],
       "metadata": {},
       "output_type": "display_data",
       "text": [
        "<IPython.core.display.Javascript at 0x7f2a945b6050>"
       ]
      },
      {
       "javascript": [
        "$('div#ae1516f6-5e19-4df3-ac07-cf68e1f52e55').text('ETA:  0:00:30');"
       ],
       "metadata": {},
       "output_type": "display_data",
       "text": [
        "<IPython.core.display.Javascript at 0x7f2a945b6090>"
       ]
      },
      {
       "javascript": [
        "$('div#85400189-6928-448f-a97c-883694aea79a').text(' 93%');"
       ],
       "metadata": {},
       "output_type": "display_data",
       "text": [
        "<IPython.core.display.Javascript at 0x7f2a945b6650>"
       ]
      },
      {
       "javascript": [
        "\n",
        "        var $myPB = $(\"div#73d29a16-56e5-4057-bc7d-518521da0697\")\n",
        "        if ($myPB.hasClass('ui-progressbar')) {\n",
        "            $myPB.progressbar('value', 528450);\n",
        "        } else {\n",
        "            $myPB.progressbar({value: 0, max: 565516});\n",
        "        }\n",
        "        "
       ],
       "metadata": {},
       "output_type": "display_data",
       "text": [
        "<IPython.core.display.Javascript at 0x7f2a945b66d0>"
       ]
      },
      {
       "javascript": [
        "$('div#ae1516f6-5e19-4df3-ac07-cf68e1f52e55').text('ETA:  0:00:30');"
       ],
       "metadata": {},
       "output_type": "display_data",
       "text": [
        "<IPython.core.display.Javascript at 0x7f2a945b6710>"
       ]
      },
      {
       "javascript": [
        "$('div#85400189-6928-448f-a97c-883694aea79a').text(' 93%');"
       ],
       "metadata": {},
       "output_type": "display_data",
       "text": [
        "<IPython.core.display.Javascript at 0x7f2a945b7190>"
       ]
      },
      {
       "javascript": [
        "\n",
        "        var $myPB = $(\"div#73d29a16-56e5-4057-bc7d-518521da0697\")\n",
        "        if ($myPB.hasClass('ui-progressbar')) {\n",
        "            $myPB.progressbar('value', 528522);\n",
        "        } else {\n",
        "            $myPB.progressbar({value: 0, max: 565516});\n",
        "        }\n",
        "        "
       ],
       "metadata": {},
       "output_type": "display_data",
       "text": [
        "<IPython.core.display.Javascript at 0x7f2a945b7210>"
       ]
      },
      {
       "javascript": [
        "$('div#ae1516f6-5e19-4df3-ac07-cf68e1f52e55').text('ETA:  0:00:30');"
       ],
       "metadata": {},
       "output_type": "display_data",
       "text": [
        "<IPython.core.display.Javascript at 0x7f2a945b7250>"
       ]
      },
      {
       "javascript": [
        "$('div#85400189-6928-448f-a97c-883694aea79a').text(' 93%');"
       ],
       "metadata": {},
       "output_type": "display_data",
       "text": [
        "<IPython.core.display.Javascript at 0x7f2a945b7c90>"
       ]
      },
      {
       "javascript": [
        "\n",
        "        var $myPB = $(\"div#73d29a16-56e5-4057-bc7d-518521da0697\")\n",
        "        if ($myPB.hasClass('ui-progressbar')) {\n",
        "            $myPB.progressbar('value', 528668);\n",
        "        } else {\n",
        "            $myPB.progressbar({value: 0, max: 565516});\n",
        "        }\n",
        "        "
       ],
       "metadata": {},
       "output_type": "display_data",
       "text": [
        "<IPython.core.display.Javascript at 0x7f2a945b7d10>"
       ]
      },
      {
       "javascript": [
        "$('div#ae1516f6-5e19-4df3-ac07-cf68e1f52e55').text('ETA:  0:00:30');"
       ],
       "metadata": {},
       "output_type": "display_data",
       "text": [
        "<IPython.core.display.Javascript at 0x7f2a945b7d50>"
       ]
      },
      {
       "javascript": [
        "$('div#85400189-6928-448f-a97c-883694aea79a').text(' 93%');"
       ],
       "metadata": {},
       "output_type": "display_data",
       "text": [
        "<IPython.core.display.Javascript at 0x7f2a945e8090>"
       ]
      },
      {
       "javascript": [
        "\n",
        "        var $myPB = $(\"div#73d29a16-56e5-4057-bc7d-518521da0697\")\n",
        "        if ($myPB.hasClass('ui-progressbar')) {\n",
        "            $myPB.progressbar('value', 530346);\n",
        "        } else {\n",
        "            $myPB.progressbar({value: 0, max: 565516});\n",
        "        }\n",
        "        "
       ],
       "metadata": {},
       "output_type": "display_data",
       "text": [
        "<IPython.core.display.Javascript at 0x7f2a945e80d0>"
       ]
      },
      {
       "javascript": [
        "$('div#ae1516f6-5e19-4df3-ac07-cf68e1f52e55').text('ETA:  0:00:28');"
       ],
       "metadata": {},
       "output_type": "display_data",
       "text": [
        "<IPython.core.display.Javascript at 0x7f2a945e8110>"
       ]
      },
      {
       "javascript": [
        "$('div#85400189-6928-448f-a97c-883694aea79a').text(' 93%');"
       ],
       "metadata": {},
       "output_type": "display_data",
       "text": [
        "<IPython.core.display.Javascript at 0x7f2a945e8a50>"
       ]
      },
      {
       "javascript": [
        "\n",
        "        var $myPB = $(\"div#73d29a16-56e5-4057-bc7d-518521da0697\")\n",
        "        if ($myPB.hasClass('ui-progressbar')) {\n",
        "            $myPB.progressbar('value', 530585);\n",
        "        } else {\n",
        "            $myPB.progressbar({value: 0, max: 565516});\n",
        "        }\n",
        "        "
       ],
       "metadata": {},
       "output_type": "display_data",
       "text": [
        "<IPython.core.display.Javascript at 0x7f2a945e8ad0>"
       ]
      },
      {
       "javascript": [
        "$('div#ae1516f6-5e19-4df3-ac07-cf68e1f52e55').text('ETA:  0:00:28');"
       ],
       "metadata": {},
       "output_type": "display_data",
       "text": [
        "<IPython.core.display.Javascript at 0x7f2a945e8b10>"
       ]
      },
      {
       "javascript": [
        "$('div#85400189-6928-448f-a97c-883694aea79a').text(' 93%');"
       ],
       "metadata": {},
       "output_type": "display_data",
       "text": [
        "<IPython.core.display.Javascript at 0x7f2a93822590>"
       ]
      },
      {
       "javascript": [
        "\n",
        "        var $myPB = $(\"div#73d29a16-56e5-4057-bc7d-518521da0697\")\n",
        "        if ($myPB.hasClass('ui-progressbar')) {\n",
        "            $myPB.progressbar('value', 530738);\n",
        "        } else {\n",
        "            $myPB.progressbar({value: 0, max: 565516});\n",
        "        }\n",
        "        "
       ],
       "metadata": {},
       "output_type": "display_data",
       "text": [
        "<IPython.core.display.Javascript at 0x7f2a93822610>"
       ]
      },
      {
       "javascript": [
        "$('div#ae1516f6-5e19-4df3-ac07-cf68e1f52e55').text('ETA:  0:00:28');"
       ],
       "metadata": {},
       "output_type": "display_data",
       "text": [
        "<IPython.core.display.Javascript at 0x7f2a93822650>"
       ]
      },
      {
       "javascript": [
        "$('div#85400189-6928-448f-a97c-883694aea79a').text(' 93%');"
       ],
       "metadata": {},
       "output_type": "display_data",
       "text": [
        "<IPython.core.display.Javascript at 0x7f2a9382c0d0>"
       ]
      },
      {
       "javascript": [
        "\n",
        "        var $myPB = $(\"div#73d29a16-56e5-4057-bc7d-518521da0697\")\n",
        "        if ($myPB.hasClass('ui-progressbar')) {\n",
        "            $myPB.progressbar('value', 530879);\n",
        "        } else {\n",
        "            $myPB.progressbar({value: 0, max: 565516});\n",
        "        }\n",
        "        "
       ],
       "metadata": {},
       "output_type": "display_data",
       "text": [
        "<IPython.core.display.Javascript at 0x7f2a9382c150>"
       ]
      },
      {
       "javascript": [
        "$('div#ae1516f6-5e19-4df3-ac07-cf68e1f52e55').text('ETA:  0:00:28');"
       ],
       "metadata": {},
       "output_type": "display_data",
       "text": [
        "<IPython.core.display.Javascript at 0x7f2a9382c190>"
       ]
      },
      {
       "javascript": [
        "$('div#85400189-6928-448f-a97c-883694aea79a').text(' 93%');"
       ],
       "metadata": {},
       "output_type": "display_data",
       "text": [
        "<IPython.core.display.Javascript at 0x7f2a9382cbd0>"
       ]
      },
      {
       "javascript": [
        "\n",
        "        var $myPB = $(\"div#73d29a16-56e5-4057-bc7d-518521da0697\")\n",
        "        if ($myPB.hasClass('ui-progressbar')) {\n",
        "            $myPB.progressbar('value', 531031);\n",
        "        } else {\n",
        "            $myPB.progressbar({value: 0, max: 565516});\n",
        "        }\n",
        "        "
       ],
       "metadata": {},
       "output_type": "display_data",
       "text": [
        "<IPython.core.display.Javascript at 0x7f2a9382cc50>"
       ]
      },
      {
       "javascript": [
        "$('div#ae1516f6-5e19-4df3-ac07-cf68e1f52e55').text('ETA:  0:00:28');"
       ],
       "metadata": {},
       "output_type": "display_data",
       "text": [
        "<IPython.core.display.Javascript at 0x7f2a9382cc90>"
       ]
      },
      {
       "javascript": [
        "$('div#85400189-6928-448f-a97c-883694aea79a').text(' 94%');"
       ],
       "metadata": {},
       "output_type": "display_data",
       "text": [
        "<IPython.core.display.Javascript at 0x7f2a9381d210>"
       ]
      },
      {
       "javascript": [
        "\n",
        "        var $myPB = $(\"div#73d29a16-56e5-4057-bc7d-518521da0697\")\n",
        "        if ($myPB.hasClass('ui-progressbar')) {\n",
        "            $myPB.progressbar('value', 532218);\n",
        "        } else {\n",
        "            $myPB.progressbar({value: 0, max: 565516});\n",
        "        }\n",
        "        "
       ],
       "metadata": {},
       "output_type": "display_data",
       "text": [
        "<IPython.core.display.Javascript at 0x7f2a9381d290>"
       ]
      },
      {
       "javascript": [
        "$('div#ae1516f6-5e19-4df3-ac07-cf68e1f52e55').text('ETA:  0:00:27');"
       ],
       "metadata": {},
       "output_type": "display_data",
       "text": [
        "<IPython.core.display.Javascript at 0x7f2a9381d2d0>"
       ]
      },
      {
       "javascript": [
        "$('div#85400189-6928-448f-a97c-883694aea79a').text(' 94%');"
       ],
       "metadata": {},
       "output_type": "display_data",
       "text": [
        "<IPython.core.display.Javascript at 0x7f2a9381d590>"
       ]
      },
      {
       "javascript": [
        "\n",
        "        var $myPB = $(\"div#73d29a16-56e5-4057-bc7d-518521da0697\")\n",
        "        if ($myPB.hasClass('ui-progressbar')) {\n",
        "            $myPB.progressbar('value', 533908);\n",
        "        } else {\n",
        "            $myPB.progressbar({value: 0, max: 565516});\n",
        "        }\n",
        "        "
       ],
       "metadata": {},
       "output_type": "display_data",
       "text": [
        "<IPython.core.display.Javascript at 0x7f2a9381d610>"
       ]
      },
      {
       "javascript": [
        "$('div#ae1516f6-5e19-4df3-ac07-cf68e1f52e55').text('ETA:  0:00:25');"
       ],
       "metadata": {},
       "output_type": "display_data",
       "text": [
        "<IPython.core.display.Javascript at 0x7f2a9381d650>"
       ]
      },
      {
       "javascript": [
        "$('div#85400189-6928-448f-a97c-883694aea79a').text(' 94%');"
       ],
       "metadata": {},
       "output_type": "display_data",
       "text": [
        "<IPython.core.display.Javascript at 0x7f2a9381d750>"
       ]
      },
      {
       "javascript": [
        "\n",
        "        var $myPB = $(\"div#73d29a16-56e5-4057-bc7d-518521da0697\")\n",
        "        if ($myPB.hasClass('ui-progressbar')) {\n",
        "            $myPB.progressbar('value', 535953);\n",
        "        } else {\n",
        "            $myPB.progressbar({value: 0, max: 565516});\n",
        "        }\n",
        "        "
       ],
       "metadata": {},
       "output_type": "display_data",
       "text": [
        "<IPython.core.display.Javascript at 0x7f2a9381d710>"
       ]
      },
      {
       "javascript": [
        "$('div#ae1516f6-5e19-4df3-ac07-cf68e1f52e55').text('ETA:  0:00:24');"
       ],
       "metadata": {},
       "output_type": "display_data",
       "text": [
        "<IPython.core.display.Javascript at 0x7f2a9381d7d0>"
       ]
      },
      {
       "javascript": [
        "$('div#85400189-6928-448f-a97c-883694aea79a').text(' 95%');"
       ],
       "metadata": {},
       "output_type": "display_data",
       "text": [
        "<IPython.core.display.Javascript at 0x7f2a9381d990>"
       ]
      },
      {
       "javascript": [
        "\n",
        "        var $myPB = $(\"div#73d29a16-56e5-4057-bc7d-518521da0697\")\n",
        "        if ($myPB.hasClass('ui-progressbar')) {\n",
        "            $myPB.progressbar('value', 537837);\n",
        "        } else {\n",
        "            $myPB.progressbar({value: 0, max: 565516});\n",
        "        }\n",
        "        "
       ],
       "metadata": {},
       "output_type": "display_data",
       "text": [
        "<IPython.core.display.Javascript at 0x7f2a9381da10>"
       ]
      },
      {
       "javascript": [
        "$('div#ae1516f6-5e19-4df3-ac07-cf68e1f52e55').text('ETA:  0:00:22');"
       ],
       "metadata": {},
       "output_type": "display_data",
       "text": [
        "<IPython.core.display.Javascript at 0x7f2a9381da50>"
       ]
      },
      {
       "javascript": [
        "$('div#85400189-6928-448f-a97c-883694aea79a').text(' 95%');"
       ],
       "metadata": {},
       "output_type": "display_data",
       "text": [
        "<IPython.core.display.Javascript at 0x7f2a948b4050>"
       ]
      },
      {
       "javascript": [
        "\n",
        "        var $myPB = $(\"div#73d29a16-56e5-4057-bc7d-518521da0697\")\n",
        "        if ($myPB.hasClass('ui-progressbar')) {\n",
        "            $myPB.progressbar('value', 538930);\n",
        "        } else {\n",
        "            $myPB.progressbar({value: 0, max: 565516});\n",
        "        }\n",
        "        "
       ],
       "metadata": {},
       "output_type": "display_data",
       "text": [
        "<IPython.core.display.Javascript at 0x7f2a948b40d0>"
       ]
      },
      {
       "javascript": [
        "$('div#ae1516f6-5e19-4df3-ac07-cf68e1f52e55').text('ETA:  0:00:21');"
       ],
       "metadata": {},
       "output_type": "display_data",
       "text": [
        "<IPython.core.display.Javascript at 0x7f2a948b4110>"
       ]
      },
      {
       "javascript": [
        "$('div#85400189-6928-448f-a97c-883694aea79a').text(' 95%');"
       ],
       "metadata": {},
       "output_type": "display_data",
       "text": [
        "<IPython.core.display.Javascript at 0x7f2a948b4550>"
       ]
      },
      {
       "javascript": [
        "\n",
        "        var $myPB = $(\"div#73d29a16-56e5-4057-bc7d-518521da0697\")\n",
        "        if ($myPB.hasClass('ui-progressbar')) {\n",
        "            $myPB.progressbar('value', 540251);\n",
        "        } else {\n",
        "            $myPB.progressbar({value: 0, max: 565516});\n",
        "        }\n",
        "        "
       ],
       "metadata": {},
       "output_type": "display_data",
       "text": [
        "<IPython.core.display.Javascript at 0x7f2a948b45d0>"
       ]
      },
      {
       "javascript": [
        "$('div#ae1516f6-5e19-4df3-ac07-cf68e1f52e55').text('ETA:  0:00:20');"
       ],
       "metadata": {},
       "output_type": "display_data",
       "text": [
        "<IPython.core.display.Javascript at 0x7f2a948b4610>"
       ]
      },
      {
       "javascript": [
        "$('div#85400189-6928-448f-a97c-883694aea79a').text(' 95%');"
       ],
       "metadata": {},
       "output_type": "display_data",
       "text": [
        "<IPython.core.display.Javascript at 0x7f2a948b47d0>"
       ]
      },
      {
       "javascript": [
        "\n",
        "        var $myPB = $(\"div#73d29a16-56e5-4057-bc7d-518521da0697\")\n",
        "        if ($myPB.hasClass('ui-progressbar')) {\n",
        "            $myPB.progressbar('value', 542180);\n",
        "        } else {\n",
        "            $myPB.progressbar({value: 0, max: 565516});\n",
        "        }\n",
        "        "
       ],
       "metadata": {},
       "output_type": "display_data",
       "text": [
        "<IPython.core.display.Javascript at 0x7f2a948b4850>"
       ]
      },
      {
       "javascript": [
        "$('div#ae1516f6-5e19-4df3-ac07-cf68e1f52e55').text('ETA:  0:00:19');"
       ],
       "metadata": {},
       "output_type": "display_data",
       "text": [
        "<IPython.core.display.Javascript at 0x7f2a948b4890>"
       ]
      },
      {
       "javascript": [
        "$('div#85400189-6928-448f-a97c-883694aea79a').text(' 96%');"
       ],
       "metadata": {},
       "output_type": "display_data",
       "text": [
        "<IPython.core.display.Javascript at 0x7f2a948b4c50>"
       ]
      },
      {
       "javascript": [
        "\n",
        "        var $myPB = $(\"div#73d29a16-56e5-4057-bc7d-518521da0697\")\n",
        "        if ($myPB.hasClass('ui-progressbar')) {\n",
        "            $myPB.progressbar('value', 543596);\n",
        "        } else {\n",
        "            $myPB.progressbar({value: 0, max: 565516});\n",
        "        }\n",
        "        "
       ],
       "metadata": {},
       "output_type": "display_data",
       "text": [
        "<IPython.core.display.Javascript at 0x7f2a948b4cd0>"
       ]
      },
      {
       "javascript": [
        "$('div#ae1516f6-5e19-4df3-ac07-cf68e1f52e55').text('ETA:  0:00:17');"
       ],
       "metadata": {},
       "output_type": "display_data",
       "text": [
        "<IPython.core.display.Javascript at 0x7f2a948b4d10>"
       ]
      },
      {
       "javascript": [
        "$('div#85400189-6928-448f-a97c-883694aea79a').text(' 96%');"
       ],
       "metadata": {},
       "output_type": "display_data",
       "text": [
        "<IPython.core.display.Javascript at 0x7f2a948ec490>"
       ]
      },
      {
       "javascript": [
        "\n",
        "        var $myPB = $(\"div#73d29a16-56e5-4057-bc7d-518521da0697\")\n",
        "        if ($myPB.hasClass('ui-progressbar')) {\n",
        "            $myPB.progressbar('value', 544296);\n",
        "        } else {\n",
        "            $myPB.progressbar({value: 0, max: 565516});\n",
        "        }\n",
        "        "
       ],
       "metadata": {},
       "output_type": "display_data",
       "text": [
        "<IPython.core.display.Javascript at 0x7f2a948ec510>"
       ]
      },
      {
       "javascript": [
        "$('div#ae1516f6-5e19-4df3-ac07-cf68e1f52e55').text('ETA:  0:00:17');"
       ],
       "metadata": {},
       "output_type": "display_data",
       "text": [
        "<IPython.core.display.Javascript at 0x7f2a948ec550>"
       ]
      },
      {
       "javascript": [
        "$('div#85400189-6928-448f-a97c-883694aea79a').text(' 96%');"
       ],
       "metadata": {},
       "output_type": "display_data",
       "text": [
        "<IPython.core.display.Javascript at 0x7f2a948eca90>"
       ]
      },
      {
       "javascript": [
        "\n",
        "        var $myPB = $(\"div#73d29a16-56e5-4057-bc7d-518521da0697\")\n",
        "        if ($myPB.hasClass('ui-progressbar')) {\n",
        "            $myPB.progressbar('value', 545517);\n",
        "        } else {\n",
        "            $myPB.progressbar({value: 0, max: 565516});\n",
        "        }\n",
        "        "
       ],
       "metadata": {},
       "output_type": "display_data",
       "text": [
        "<IPython.core.display.Javascript at 0x7f2a948ecb10>"
       ]
      },
      {
       "javascript": [
        "$('div#ae1516f6-5e19-4df3-ac07-cf68e1f52e55').text('ETA:  0:00:16');"
       ],
       "metadata": {},
       "output_type": "display_data",
       "text": [
        "<IPython.core.display.Javascript at 0x7f2a948ecb50>"
       ]
      },
      {
       "javascript": [
        "$('div#85400189-6928-448f-a97c-883694aea79a').text(' 96%');"
       ],
       "metadata": {},
       "output_type": "display_data",
       "text": [
        "<IPython.core.display.Javascript at 0x7f2a948eb2d0>"
       ]
      },
      {
       "javascript": [
        "\n",
        "        var $myPB = $(\"div#73d29a16-56e5-4057-bc7d-518521da0697\")\n",
        "        if ($myPB.hasClass('ui-progressbar')) {\n",
        "            $myPB.progressbar('value', 546183);\n",
        "        } else {\n",
        "            $myPB.progressbar({value: 0, max: 565516});\n",
        "        }\n",
        "        "
       ],
       "metadata": {},
       "output_type": "display_data",
       "text": [
        "<IPython.core.display.Javascript at 0x7f2a948eb350>"
       ]
      },
      {
       "javascript": [
        "$('div#ae1516f6-5e19-4df3-ac07-cf68e1f52e55').text('ETA:  0:00:15');"
       ],
       "metadata": {},
       "output_type": "display_data",
       "text": [
        "<IPython.core.display.Javascript at 0x7f2a948eb390>"
       ]
      },
      {
       "javascript": [
        "$('div#85400189-6928-448f-a97c-883694aea79a').text(' 96%');"
       ],
       "metadata": {},
       "output_type": "display_data",
       "text": [
        "<IPython.core.display.Javascript at 0x7f2a948eb850>"
       ]
      },
      {
       "javascript": [
        "\n",
        "        var $myPB = $(\"div#73d29a16-56e5-4057-bc7d-518521da0697\")\n",
        "        if ($myPB.hasClass('ui-progressbar')) {\n",
        "            $myPB.progressbar('value', 547438);\n",
        "        } else {\n",
        "            $myPB.progressbar({value: 0, max: 565516});\n",
        "        }\n",
        "        "
       ],
       "metadata": {},
       "output_type": "display_data",
       "text": [
        "<IPython.core.display.Javascript at 0x7f2a948eb8d0>"
       ]
      },
      {
       "javascript": [
        "$('div#ae1516f6-5e19-4df3-ac07-cf68e1f52e55').text('ETA:  0:00:14');"
       ],
       "metadata": {},
       "output_type": "display_data",
       "text": [
        "<IPython.core.display.Javascript at 0x7f2a948eb910>"
       ]
      },
      {
       "javascript": [
        "$('div#85400189-6928-448f-a97c-883694aea79a').text(' 96%');"
       ],
       "metadata": {},
       "output_type": "display_data",
       "text": [
        "<IPython.core.display.Javascript at 0x7f2a948db050>"
       ]
      },
      {
       "javascript": [
        "\n",
        "        var $myPB = $(\"div#73d29a16-56e5-4057-bc7d-518521da0697\")\n",
        "        if ($myPB.hasClass('ui-progressbar')) {\n",
        "            $myPB.progressbar('value', 548331);\n",
        "        } else {\n",
        "            $myPB.progressbar({value: 0, max: 565516});\n",
        "        }\n",
        "        "
       ],
       "metadata": {},
       "output_type": "display_data",
       "text": [
        "<IPython.core.display.Javascript at 0x7f2a948db090>"
       ]
      },
      {
       "javascript": [
        "$('div#ae1516f6-5e19-4df3-ac07-cf68e1f52e55').text('ETA:  0:00:14');"
       ],
       "metadata": {},
       "output_type": "display_data",
       "text": [
        "<IPython.core.display.Javascript at 0x7f2a948db0d0>"
       ]
      },
      {
       "javascript": [
        "$('div#85400189-6928-448f-a97c-883694aea79a').text(' 96%');"
       ],
       "metadata": {},
       "output_type": "display_data",
       "text": [
        "<IPython.core.display.Javascript at 0x7f2a948dba90>"
       ]
      },
      {
       "javascript": [
        "\n",
        "        var $myPB = $(\"div#73d29a16-56e5-4057-bc7d-518521da0697\")\n",
        "        if ($myPB.hasClass('ui-progressbar')) {\n",
        "            $myPB.progressbar('value', 548503);\n",
        "        } else {\n",
        "            $myPB.progressbar({value: 0, max: 565516});\n",
        "        }\n",
        "        "
       ],
       "metadata": {},
       "output_type": "display_data",
       "text": [
        "<IPython.core.display.Javascript at 0x7f2a948dbb10>"
       ]
      },
      {
       "javascript": [
        "$('div#ae1516f6-5e19-4df3-ac07-cf68e1f52e55').text('ETA:  0:00:13');"
       ],
       "metadata": {},
       "output_type": "display_data",
       "text": [
        "<IPython.core.display.Javascript at 0x7f2a948dbb50>"
       ]
      },
      {
       "javascript": [
        "$('div#85400189-6928-448f-a97c-883694aea79a').text(' 97%');"
       ],
       "metadata": {},
       "output_type": "display_data",
       "text": [
        "<IPython.core.display.Javascript at 0x7f2a986075d0>"
       ]
      },
      {
       "javascript": [
        "\n",
        "        var $myPB = $(\"div#73d29a16-56e5-4057-bc7d-518521da0697\")\n",
        "        if ($myPB.hasClass('ui-progressbar')) {\n",
        "            $myPB.progressbar('value', 548601);\n",
        "        } else {\n",
        "            $myPB.progressbar({value: 0, max: 565516});\n",
        "        }\n",
        "        "
       ],
       "metadata": {},
       "output_type": "display_data",
       "text": [
        "<IPython.core.display.Javascript at 0x7f2a98607650>"
       ]
      },
      {
       "javascript": [
        "$('div#ae1516f6-5e19-4df3-ac07-cf68e1f52e55').text('ETA:  0:00:13');"
       ],
       "metadata": {},
       "output_type": "display_data",
       "text": [
        "<IPython.core.display.Javascript at 0x7f2a98607690>"
       ]
      },
      {
       "javascript": [
        "$('div#85400189-6928-448f-a97c-883694aea79a').text(' 97%');"
       ],
       "metadata": {},
       "output_type": "display_data",
       "text": [
        "<IPython.core.display.Javascript at 0x7f2a98607cd0>"
       ]
      },
      {
       "javascript": [
        "\n",
        "        var $myPB = $(\"div#73d29a16-56e5-4057-bc7d-518521da0697\")\n",
        "        if ($myPB.hasClass('ui-progressbar')) {\n",
        "            $myPB.progressbar('value', 549437);\n",
        "        } else {\n",
        "            $myPB.progressbar({value: 0, max: 565516});\n",
        "        }\n",
        "        "
       ],
       "metadata": {},
       "output_type": "display_data",
       "text": [
        "<IPython.core.display.Javascript at 0x7f2a98607d50>"
       ]
      },
      {
       "javascript": [
        "$('div#ae1516f6-5e19-4df3-ac07-cf68e1f52e55').text('ETA:  0:00:13');"
       ],
       "metadata": {},
       "output_type": "display_data",
       "text": [
        "<IPython.core.display.Javascript at 0x7f2a98607d90>"
       ]
      },
      {
       "javascript": [
        "$('div#85400189-6928-448f-a97c-883694aea79a').text(' 97%');"
       ],
       "metadata": {},
       "output_type": "display_data",
       "text": [
        "<IPython.core.display.Javascript at 0x7f2a98627110>"
       ]
      },
      {
       "javascript": [
        "\n",
        "        var $myPB = $(\"div#73d29a16-56e5-4057-bc7d-518521da0697\")\n",
        "        if ($myPB.hasClass('ui-progressbar')) {\n",
        "            $myPB.progressbar('value', 550981);\n",
        "        } else {\n",
        "            $myPB.progressbar({value: 0, max: 565516});\n",
        "        }\n",
        "        "
       ],
       "metadata": {},
       "output_type": "display_data",
       "text": [
        "<IPython.core.display.Javascript at 0x7f2a98627190>"
       ]
      },
      {
       "javascript": [
        "$('div#ae1516f6-5e19-4df3-ac07-cf68e1f52e55').text('ETA:  0:00:11');"
       ],
       "metadata": {},
       "output_type": "display_data",
       "text": [
        "<IPython.core.display.Javascript at 0x7f2a986271d0>"
       ]
      },
      {
       "javascript": [
        "$('div#85400189-6928-448f-a97c-883694aea79a').text(' 97%');"
       ],
       "metadata": {},
       "output_type": "display_data",
       "text": [
        "<IPython.core.display.Javascript at 0x7f2a98627690>"
       ]
      },
      {
       "javascript": [
        "\n",
        "        var $myPB = $(\"div#73d29a16-56e5-4057-bc7d-518521da0697\")\n",
        "        if ($myPB.hasClass('ui-progressbar')) {\n",
        "            $myPB.progressbar('value', 551982);\n",
        "        } else {\n",
        "            $myPB.progressbar({value: 0, max: 565516});\n",
        "        }\n",
        "        "
       ],
       "metadata": {},
       "output_type": "display_data",
       "text": [
        "<IPython.core.display.Javascript at 0x7f2a98627710>"
       ]
      },
      {
       "javascript": [
        "$('div#ae1516f6-5e19-4df3-ac07-cf68e1f52e55').text('ETA:  0:00:11');"
       ],
       "metadata": {},
       "output_type": "display_data",
       "text": [
        "<IPython.core.display.Javascript at 0x7f2a98627750>"
       ]
      },
      {
       "javascript": [
        "$('div#85400189-6928-448f-a97c-883694aea79a').text(' 97%');"
       ],
       "metadata": {},
       "output_type": "display_data",
       "text": [
        "<IPython.core.display.Javascript at 0x7f2a98627d10>"
       ]
      },
      {
       "javascript": [
        "\n",
        "        var $myPB = $(\"div#73d29a16-56e5-4057-bc7d-518521da0697\")\n",
        "        if ($myPB.hasClass('ui-progressbar')) {\n",
        "            $myPB.progressbar('value', 552856);\n",
        "        } else {\n",
        "            $myPB.progressbar({value: 0, max: 565516});\n",
        "        }\n",
        "        "
       ],
       "metadata": {},
       "output_type": "display_data",
       "text": [
        "<IPython.core.display.Javascript at 0x7f2a98627d90>"
       ]
      },
      {
       "javascript": [
        "$('div#ae1516f6-5e19-4df3-ac07-cf68e1f52e55').text('ETA:  0:00:10');"
       ],
       "metadata": {},
       "output_type": "display_data",
       "text": [
        "<IPython.core.display.Javascript at 0x7f2a98627dd0>"
       ]
      },
      {
       "javascript": [
        "$('div#85400189-6928-448f-a97c-883694aea79a').text(' 97%');"
       ],
       "metadata": {},
       "output_type": "display_data",
       "text": [
        "<IPython.core.display.Javascript at 0x7f2a98628550>"
       ]
      },
      {
       "javascript": [
        "\n",
        "        var $myPB = $(\"div#73d29a16-56e5-4057-bc7d-518521da0697\")\n",
        "        if ($myPB.hasClass('ui-progressbar')) {\n",
        "            $myPB.progressbar('value', 553547);\n",
        "        } else {\n",
        "            $myPB.progressbar({value: 0, max: 565516});\n",
        "        }\n",
        "        "
       ],
       "metadata": {},
       "output_type": "display_data",
       "text": [
        "<IPython.core.display.Javascript at 0x7f2a986285d0>"
       ]
      },
      {
       "javascript": [
        "$('div#ae1516f6-5e19-4df3-ac07-cf68e1f52e55').text('ETA:  0:00:09');"
       ],
       "metadata": {},
       "output_type": "display_data",
       "text": [
        "<IPython.core.display.Javascript at 0x7f2a98628610>"
       ]
      },
      {
       "javascript": [
        "$('div#85400189-6928-448f-a97c-883694aea79a').text(' 98%');"
       ],
       "metadata": {},
       "output_type": "display_data",
       "text": [
        "<IPython.core.display.Javascript at 0x7f2a986289d0>"
       ]
      },
      {
       "javascript": [
        "\n",
        "        var $myPB = $(\"div#73d29a16-56e5-4057-bc7d-518521da0697\")\n",
        "        if ($myPB.hasClass('ui-progressbar')) {\n",
        "            $myPB.progressbar('value', 554969);\n",
        "        } else {\n",
        "            $myPB.progressbar({value: 0, max: 565516});\n",
        "        }\n",
        "        "
       ],
       "metadata": {},
       "output_type": "display_data",
       "text": [
        "<IPython.core.display.Javascript at 0x7f2a98628a50>"
       ]
      },
      {
       "javascript": [
        "$('div#ae1516f6-5e19-4df3-ac07-cf68e1f52e55').text('ETA:  0:00:08');"
       ],
       "metadata": {},
       "output_type": "display_data",
       "text": [
        "<IPython.core.display.Javascript at 0x7f2a98628a90>"
       ]
      },
      {
       "javascript": [
        "$('div#85400189-6928-448f-a97c-883694aea79a').text(' 98%');"
       ],
       "metadata": {},
       "output_type": "display_data",
       "text": [
        "<IPython.core.display.Javascript at 0x7f2a9861e190>"
       ]
      },
      {
       "javascript": [
        "\n",
        "        var $myPB = $(\"div#73d29a16-56e5-4057-bc7d-518521da0697\")\n",
        "        if ($myPB.hasClass('ui-progressbar')) {\n",
        "            $myPB.progressbar('value', 555768);\n",
        "        } else {\n",
        "            $myPB.progressbar({value: 0, max: 565516});\n",
        "        }\n",
        "        "
       ],
       "metadata": {},
       "output_type": "display_data",
       "text": [
        "<IPython.core.display.Javascript at 0x7f2a9861e210>"
       ]
      },
      {
       "javascript": [
        "$('div#ae1516f6-5e19-4df3-ac07-cf68e1f52e55').text('ETA:  0:00:08');"
       ],
       "metadata": {},
       "output_type": "display_data",
       "text": [
        "<IPython.core.display.Javascript at 0x7f2a9861e250>"
       ]
      },
      {
       "javascript": [
        "$('div#85400189-6928-448f-a97c-883694aea79a').text(' 98%');"
       ],
       "metadata": {},
       "output_type": "display_data",
       "text": [
        "<IPython.core.display.Javascript at 0x7f2a9861e490>"
       ]
      },
      {
       "javascript": [
        "\n",
        "        var $myPB = $(\"div#73d29a16-56e5-4057-bc7d-518521da0697\")\n",
        "        if ($myPB.hasClass('ui-progressbar')) {\n",
        "            $myPB.progressbar('value', 557441);\n",
        "        } else {\n",
        "            $myPB.progressbar({value: 0, max: 565516});\n",
        "        }\n",
        "        "
       ],
       "metadata": {},
       "output_type": "display_data",
       "text": [
        "<IPython.core.display.Javascript at 0x7f2a9861e510>"
       ]
      },
      {
       "javascript": [
        "$('div#ae1516f6-5e19-4df3-ac07-cf68e1f52e55').text('ETA:  0:00:06');"
       ],
       "metadata": {},
       "output_type": "display_data",
       "text": [
        "<IPython.core.display.Javascript at 0x7f2a9861e550>"
       ]
      },
      {
       "javascript": [
        "$('div#85400189-6928-448f-a97c-883694aea79a').text(' 98%');"
       ],
       "metadata": {},
       "output_type": "display_data",
       "text": [
        "<IPython.core.display.Javascript at 0x7f2a9861ed10>"
       ]
      },
      {
       "javascript": [
        "\n",
        "        var $myPB = $(\"div#73d29a16-56e5-4057-bc7d-518521da0697\")\n",
        "        if ($myPB.hasClass('ui-progressbar')) {\n",
        "            $myPB.progressbar('value', 557926);\n",
        "        } else {\n",
        "            $myPB.progressbar({value: 0, max: 565516});\n",
        "        }\n",
        "        "
       ],
       "metadata": {},
       "output_type": "display_data",
       "text": [
        "<IPython.core.display.Javascript at 0x7f2a9861ed90>"
       ]
      },
      {
       "javascript": [
        "$('div#ae1516f6-5e19-4df3-ac07-cf68e1f52e55').text('ETA:  0:00:06');"
       ],
       "metadata": {},
       "output_type": "display_data",
       "text": [
        "<IPython.core.display.Javascript at 0x7f2a9861edd0>"
       ]
      },
      {
       "javascript": [
        "$('div#85400189-6928-448f-a97c-883694aea79a').text(' 98%');"
       ],
       "metadata": {},
       "output_type": "display_data",
       "text": [
        "<IPython.core.display.Javascript at 0x7f2a9879c3d0>"
       ]
      },
      {
       "javascript": [
        "\n",
        "        var $myPB = $(\"div#73d29a16-56e5-4057-bc7d-518521da0697\")\n",
        "        if ($myPB.hasClass('ui-progressbar')) {\n",
        "            $myPB.progressbar('value', 558739);\n",
        "        } else {\n",
        "            $myPB.progressbar({value: 0, max: 565516});\n",
        "        }\n",
        "        "
       ],
       "metadata": {},
       "output_type": "display_data",
       "text": [
        "<IPython.core.display.Javascript at 0x7f2a9879c450>"
       ]
      },
      {
       "javascript": [
        "$('div#ae1516f6-5e19-4df3-ac07-cf68e1f52e55').text('ETA:  0:00:05');"
       ],
       "metadata": {},
       "output_type": "display_data",
       "text": [
        "<IPython.core.display.Javascript at 0x7f2a9879c490>"
       ]
      },
      {
       "javascript": [
        "$('div#85400189-6928-448f-a97c-883694aea79a').text(' 98%');"
       ],
       "metadata": {},
       "output_type": "display_data",
       "text": [
        "<IPython.core.display.Javascript at 0x7f2a9879c9d0>"
       ]
      },
      {
       "javascript": [
        "\n",
        "        var $myPB = $(\"div#73d29a16-56e5-4057-bc7d-518521da0697\")\n",
        "        if ($myPB.hasClass('ui-progressbar')) {\n",
        "            $myPB.progressbar('value', 559852);\n",
        "        } else {\n",
        "            $myPB.progressbar({value: 0, max: 565516});\n",
        "        }\n",
        "        "
       ],
       "metadata": {},
       "output_type": "display_data",
       "text": [
        "<IPython.core.display.Javascript at 0x7f2a9879ca50>"
       ]
      },
      {
       "javascript": [
        "$('div#ae1516f6-5e19-4df3-ac07-cf68e1f52e55').text('ETA:  0:00:04');"
       ],
       "metadata": {},
       "output_type": "display_data",
       "text": [
        "<IPython.core.display.Javascript at 0x7f2a9879ca90>"
       ]
      },
      {
       "javascript": [
        "$('div#85400189-6928-448f-a97c-883694aea79a').text(' 99%');"
       ],
       "metadata": {},
       "output_type": "display_data",
       "text": [
        "<IPython.core.display.Javascript at 0x7f2a987ab090>"
       ]
      },
      {
       "javascript": [
        "\n",
        "        var $myPB = $(\"div#73d29a16-56e5-4057-bc7d-518521da0697\")\n",
        "        if ($myPB.hasClass('ui-progressbar')) {\n",
        "            $myPB.progressbar('value', 560573);\n",
        "        } else {\n",
        "            $myPB.progressbar({value: 0, max: 565516});\n",
        "        }\n",
        "        "
       ],
       "metadata": {},
       "output_type": "display_data",
       "text": [
        "<IPython.core.display.Javascript at 0x7f2a987ab110>"
       ]
      },
      {
       "javascript": [
        "$('div#ae1516f6-5e19-4df3-ac07-cf68e1f52e55').text('ETA:  0:00:04');"
       ],
       "metadata": {},
       "output_type": "display_data",
       "text": [
        "<IPython.core.display.Javascript at 0x7f2a987ab150>"
       ]
      },
      {
       "javascript": [
        "$('div#85400189-6928-448f-a97c-883694aea79a').text(' 99%');"
       ],
       "metadata": {},
       "output_type": "display_data",
       "text": [
        "<IPython.core.display.Javascript at 0x7f2a987ab690>"
       ]
      },
      {
       "javascript": [
        "\n",
        "        var $myPB = $(\"div#73d29a16-56e5-4057-bc7d-518521da0697\")\n",
        "        if ($myPB.hasClass('ui-progressbar')) {\n",
        "            $myPB.progressbar('value', 561323);\n",
        "        } else {\n",
        "            $myPB.progressbar({value: 0, max: 565516});\n",
        "        }\n",
        "        "
       ],
       "metadata": {},
       "output_type": "display_data",
       "text": [
        "<IPython.core.display.Javascript at 0x7f2a987ab710>"
       ]
      },
      {
       "javascript": [
        "$('div#ae1516f6-5e19-4df3-ac07-cf68e1f52e55').text('ETA:  0:00:03');"
       ],
       "metadata": {},
       "output_type": "display_data",
       "text": [
        "<IPython.core.display.Javascript at 0x7f2a987ab750>"
       ]
      },
      {
       "javascript": [
        "$('div#85400189-6928-448f-a97c-883694aea79a').text(' 99%');"
       ],
       "metadata": {},
       "output_type": "display_data",
       "text": [
        "<IPython.core.display.Javascript at 0x7f2a987abc90>"
       ]
      },
      {
       "javascript": [
        "\n",
        "        var $myPB = $(\"div#73d29a16-56e5-4057-bc7d-518521da0697\")\n",
        "        if ($myPB.hasClass('ui-progressbar')) {\n",
        "            $myPB.progressbar('value', 562201);\n",
        "        } else {\n",
        "            $myPB.progressbar({value: 0, max: 565516});\n",
        "        }\n",
        "        "
       ],
       "metadata": {},
       "output_type": "display_data",
       "text": [
        "<IPython.core.display.Javascript at 0x7f2a987abd10>"
       ]
      },
      {
       "javascript": [
        "$('div#ae1516f6-5e19-4df3-ac07-cf68e1f52e55').text('ETA:  0:00:02');"
       ],
       "metadata": {},
       "output_type": "display_data",
       "text": [
        "<IPython.core.display.Javascript at 0x7f2a987abd50>"
       ]
      },
      {
       "javascript": [
        "$('div#85400189-6928-448f-a97c-883694aea79a').text(' 99%');"
       ],
       "metadata": {},
       "output_type": "display_data",
       "text": [
        "<IPython.core.display.Javascript at 0x7f2a98789150>"
       ]
      },
      {
       "javascript": [
        "\n",
        "        var $myPB = $(\"div#73d29a16-56e5-4057-bc7d-518521da0697\")\n",
        "        if ($myPB.hasClass('ui-progressbar')) {\n",
        "            $myPB.progressbar('value', 563633);\n",
        "        } else {\n",
        "            $myPB.progressbar({value: 0, max: 565516});\n",
        "        }\n",
        "        "
       ],
       "metadata": {},
       "output_type": "display_data",
       "text": [
        "<IPython.core.display.Javascript at 0x7f2a987891d0>"
       ]
      },
      {
       "javascript": [
        "$('div#ae1516f6-5e19-4df3-ac07-cf68e1f52e55').text('ETA:  0:00:01');"
       ],
       "metadata": {},
       "output_type": "display_data",
       "text": [
        "<IPython.core.display.Javascript at 0x7f2a98789210>"
       ]
      },
      {
       "javascript": [
        "$('div#85400189-6928-448f-a97c-883694aea79a').text(' 99%');"
       ],
       "metadata": {},
       "output_type": "display_data",
       "text": [
        "<IPython.core.display.Javascript at 0x7f2a987892d0>"
       ]
      },
      {
       "javascript": [
        "\n",
        "        var $myPB = $(\"div#73d29a16-56e5-4057-bc7d-518521da0697\")\n",
        "        if ($myPB.hasClass('ui-progressbar')) {\n",
        "            $myPB.progressbar('value', 565461);\n",
        "        } else {\n",
        "            $myPB.progressbar({value: 0, max: 565516});\n",
        "        }\n",
        "        "
       ],
       "metadata": {},
       "output_type": "display_data",
       "text": [
        "<IPython.core.display.Javascript at 0x7f2a987893d0>"
       ]
      },
      {
       "javascript": [
        "$('div#ae1516f6-5e19-4df3-ac07-cf68e1f52e55').text('ETA:  0:00:00');"
       ],
       "metadata": {},
       "output_type": "display_data",
       "text": [
        "<IPython.core.display.Javascript at 0x7f2a98789410>"
       ]
      },
      {
       "javascript": [
        "$('div#85400189-6928-448f-a97c-883694aea79a').text('100%');"
       ],
       "metadata": {},
       "output_type": "display_data",
       "text": [
        "<IPython.core.display.Javascript at 0x7f2a98789490>"
       ]
      },
      {
       "javascript": [
        "\n",
        "        var $myPB = $(\"div#73d29a16-56e5-4057-bc7d-518521da0697\")\n",
        "        if ($myPB.hasClass('ui-progressbar')) {\n",
        "            $myPB.progressbar('value', 565516);\n",
        "        } else {\n",
        "            $myPB.progressbar({value: 0, max: 565516});\n",
        "        }\n",
        "        "
       ],
       "metadata": {},
       "output_type": "display_data",
       "text": [
        "<IPython.core.display.Javascript at 0x7f2a98789510>"
       ]
      },
      {
       "javascript": [
        "$('div#ae1516f6-5e19-4df3-ac07-cf68e1f52e55').text('Time: 0:07:47');"
       ],
       "metadata": {},
       "output_type": "display_data",
       "text": [
        "<IPython.core.display.Javascript at 0x7f2a98789550>"
       ]
      },
      {
       "javascript": [
        "var element = document.getElementById('538a421f-1159-4d0d-aa1d-69afde1c17e2');\n",
        "                    var parent = element.parentNode\n",
        "                    parent.removeChild(element);\n",
        "                    parent.parentElement.remove();"
       ],
       "metadata": {},
       "output_type": "display_data",
       "text": [
        "<IPython.core.display.Javascript at 0x7f2a98789390>"
       ]
      },
      {
       "javascript": [
        "this.cleanProgressBar(['538a421f-1159-4d0d-aa1d-69afde1c17e2', '85400189-6928-448f-a97c-883694aea79a', '73d29a16-56e5-4057-bc7d-518521da0697', 'ae1516f6-5e19-4df3-ac07-cf68e1f52e55'])"
       ],
       "metadata": {},
       "output_type": "display_data",
       "text": [
        "<IPython.core.display.Javascript at 0x7f2a98789590>"
       ]
      }
     ],
     "prompt_number": 36
    },
    {
     "cell_type": "code",
     "collapsed": false,
     "input": [
      "H_conj.shape"
     ],
     "language": "python",
     "metadata": {},
     "outputs": [
      {
       "metadata": {},
       "output_type": "pyout",
       "prompt_number": 37,
       "text": [
        "(114464, 8833)"
       ]
      }
     ],
     "prompt_number": 37
    },
    {
     "cell_type": "code",
     "collapsed": false,
     "input": [
      "ccounts = H_conj.count()"
     ],
     "language": "python",
     "metadata": {},
     "outputs": [],
     "prompt_number": 40
    },
    {
     "cell_type": "code",
     "collapsed": false,
     "input": [
      "counts.describe()"
     ],
     "language": "python",
     "metadata": {},
     "outputs": [
      {
       "metadata": {},
       "output_type": "pyout",
       "prompt_number": 41,
       "text": [
        "count      2124.000000\n",
        "mean        929.596045\n",
        "std        3406.264202\n",
        "min           0.000000\n",
        "25%         172.000000\n",
        "50%         318.500000\n",
        "75%         640.000000\n",
        "max      114464.000000\n",
        "dtype: float64"
       ]
      }
     ],
     "prompt_number": 41
    },
    {
     "cell_type": "code",
     "collapsed": false,
     "input": [
      "counts[counts > 318].describe()"
     ],
     "language": "python",
     "metadata": {},
     "outputs": [
      {
       "metadata": {},
       "output_type": "pyout",
       "prompt_number": 42,
       "text": [
        "count      1062.000000\n",
        "mean       1713.684557\n",
        "std        4687.598188\n",
        "min         319.000000\n",
        "25%         445.250000\n",
        "50%         640.000000\n",
        "75%        1452.750000\n",
        "max      114464.000000\n",
        "dtype: float64"
       ]
      }
     ],
     "prompt_number": 42
    },
    {
     "cell_type": "code",
     "collapsed": false,
     "input": [
      "ccounts[ccounts > 318].describe()"
     ],
     "language": "python",
     "metadata": {},
     "outputs": [
      {
       "metadata": {},
       "output_type": "pyout",
       "prompt_number": 43,
       "text": [
        "count     8800.000000\n",
        "mean       758.309773\n",
        "std        721.291377\n",
        "min        319.000000\n",
        "25%        395.000000\n",
        "50%        527.000000\n",
        "75%        819.000000\n",
        "max      13593.000000\n",
        "dtype: float64"
       ]
      }
     ],
     "prompt_number": 43
    },
    {
     "cell_type": "code",
     "collapsed": false,
     "input": [
      "H_conj.count().describe()"
     ],
     "language": "python",
     "metadata": {},
     "outputs": [
      {
       "metadata": {},
       "output_type": "pyout",
       "prompt_number": 44,
       "text": [
        "count     8833.000000\n",
        "mean       756.664780\n",
        "std        720.443628\n",
        "min        318.000000\n",
        "25%        394.000000\n",
        "50%        525.000000\n",
        "75%        817.000000\n",
        "max      13593.000000\n",
        "dtype: float64"
       ]
      }
     ],
     "prompt_number": 44
    },
    {
     "cell_type": "code",
     "collapsed": false,
     "input": [
      "H_conj.describe()"
     ],
     "language": "python",
     "metadata": {},
     "outputs": [
      {
       "html": [
        "<div style=\"max-height:1000px;max-width:1500px;overflow:auto;\">\n",
        "<table border=\"1\" class=\"dataframe\">\n",
        "  <thead>\n",
        "    <tr style=\"text-align: right;\">\n",
        "      <th></th>\n",
        "      <th>[CONJ] [[AUDIO] 0/16] [[AUDIO] 37/64]</th>\n",
        "      <th>[CONJ] [[AUDIO] 0/16] [[AUDIO] 48/64]</th>\n",
        "      <th>[CONJ] [[AUDIO] 0/16] [[ERA] 1975--1985]</th>\n",
        "      <th>[CONJ] [[AUDIO] 0/16] [[ERA] 1980--1990]</th>\n",
        "      <th>[CONJ] [[AUDIO] 0/16] [[ERA] 1985--1995]</th>\n",
        "      <th>[CONJ] [[AUDIO] 0/16] [[ERA] 1990--2000]</th>\n",
        "      <th>[CONJ] [[AUDIO] 0/16] [[ERA] 1995--2005]</th>\n",
        "      <th>[CONJ] [[AUDIO] 0/16] [[ERA] 2000--2010]</th>\n",
        "      <th>[CONJ] [[AUDIO] 0/16] [[TAG] \"'80s\"]</th>\n",
        "      <th>[CONJ] [[AUDIO] 0/16] [[TAG] \"'90s\"]</th>\n",
        "      <th>...</th>\n",
        "      <th>[CONJ] [[TAG] \"soulfully\"] [[TAG] \"up beat\"]</th>\n",
        "      <th>[CONJ] [[TAG] \"soulfully\"] [[TAG] \"vocalizations\"]</th>\n",
        "      <th>[CONJ] [[TAG] \"soundtracking\"] [[TAG] \"summers\"]</th>\n",
        "      <th>[CONJ] [[TAG] \"soundtracking\"] [[TAG] \"sweetness\"]</th>\n",
        "      <th>[CONJ] [[TAG] \"soundtracking\"] [[TAG] \"up beat\"]</th>\n",
        "      <th>[CONJ] [[TAG] \"summers\"] [[TAG] \"sweetness\"]</th>\n",
        "      <th>[CONJ] [[TAG] \"summers\"] [[TAG] \"up beat\"]</th>\n",
        "      <th>[CONJ] [[TAG] \"t e c h n o\"] [[TAG] \"trancing\"]</th>\n",
        "      <th>[CONJ] [[TAG] \"trip - hop\"] [[TAG] \"uks\"]</th>\n",
        "      <th>[CONJ] [[TAG] \"uks\"] [[TAG] \"up beat\"]</th>\n",
        "    </tr>\n",
        "  </thead>\n",
        "  <tbody>\n",
        "    <tr>\n",
        "      <th>count</th>\n",
        "      <td> 477</td>\n",
        "      <td> 418</td>\n",
        "      <td> 488</td>\n",
        "      <td> 727</td>\n",
        "      <td> 1075</td>\n",
        "      <td> 1349</td>\n",
        "      <td> 1420</td>\n",
        "      <td> 1043</td>\n",
        "      <td> 473</td>\n",
        "      <td> 424</td>\n",
        "      <td>...</td>\n",
        "      <td> 354</td>\n",
        "      <td> 707</td>\n",
        "      <td> 370</td>\n",
        "      <td> 345</td>\n",
        "      <td> 437</td>\n",
        "      <td> 427</td>\n",
        "      <td> 700</td>\n",
        "      <td> 545</td>\n",
        "      <td> 367</td>\n",
        "      <td> 408</td>\n",
        "    </tr>\n",
        "    <tr>\n",
        "      <th>mean</th>\n",
        "      <td>   1</td>\n",
        "      <td>   1</td>\n",
        "      <td>   1</td>\n",
        "      <td>   1</td>\n",
        "      <td>    1</td>\n",
        "      <td>    1</td>\n",
        "      <td>    1</td>\n",
        "      <td>    1</td>\n",
        "      <td>   1</td>\n",
        "      <td>   1</td>\n",
        "      <td>...</td>\n",
        "      <td>   1</td>\n",
        "      <td>   1</td>\n",
        "      <td>   1</td>\n",
        "      <td>   1</td>\n",
        "      <td>   1</td>\n",
        "      <td>   1</td>\n",
        "      <td>   1</td>\n",
        "      <td>   1</td>\n",
        "      <td>   1</td>\n",
        "      <td>   1</td>\n",
        "    </tr>\n",
        "    <tr>\n",
        "      <th>std</th>\n",
        "      <td>   0</td>\n",
        "      <td>   0</td>\n",
        "      <td>   0</td>\n",
        "      <td>   0</td>\n",
        "      <td>    0</td>\n",
        "      <td>    0</td>\n",
        "      <td>    0</td>\n",
        "      <td>    0</td>\n",
        "      <td>   0</td>\n",
        "      <td>   0</td>\n",
        "      <td>...</td>\n",
        "      <td>   0</td>\n",
        "      <td>   0</td>\n",
        "      <td>   0</td>\n",
        "      <td>   0</td>\n",
        "      <td>   0</td>\n",
        "      <td>   0</td>\n",
        "      <td>   0</td>\n",
        "      <td>   0</td>\n",
        "      <td>   0</td>\n",
        "      <td>   0</td>\n",
        "    </tr>\n",
        "    <tr>\n",
        "      <th>min</th>\n",
        "      <td>   1</td>\n",
        "      <td>   1</td>\n",
        "      <td>   1</td>\n",
        "      <td>   1</td>\n",
        "      <td>    1</td>\n",
        "      <td>    1</td>\n",
        "      <td>    1</td>\n",
        "      <td>    1</td>\n",
        "      <td>   1</td>\n",
        "      <td>   1</td>\n",
        "      <td>...</td>\n",
        "      <td>   1</td>\n",
        "      <td>   1</td>\n",
        "      <td>   1</td>\n",
        "      <td>   1</td>\n",
        "      <td>   1</td>\n",
        "      <td>   1</td>\n",
        "      <td>   1</td>\n",
        "      <td>   1</td>\n",
        "      <td>   1</td>\n",
        "      <td>   1</td>\n",
        "    </tr>\n",
        "    <tr>\n",
        "      <th>25%</th>\n",
        "      <td>   1</td>\n",
        "      <td>   1</td>\n",
        "      <td>   1</td>\n",
        "      <td>   1</td>\n",
        "      <td>    1</td>\n",
        "      <td>    1</td>\n",
        "      <td>    1</td>\n",
        "      <td>    1</td>\n",
        "      <td>   1</td>\n",
        "      <td>   1</td>\n",
        "      <td>...</td>\n",
        "      <td>   1</td>\n",
        "      <td>   1</td>\n",
        "      <td>   1</td>\n",
        "      <td>   1</td>\n",
        "      <td>   1</td>\n",
        "      <td>   1</td>\n",
        "      <td>   1</td>\n",
        "      <td>   1</td>\n",
        "      <td>   1</td>\n",
        "      <td>   1</td>\n",
        "    </tr>\n",
        "    <tr>\n",
        "      <th>50%</th>\n",
        "      <td>   1</td>\n",
        "      <td>   1</td>\n",
        "      <td>   1</td>\n",
        "      <td>   1</td>\n",
        "      <td>    1</td>\n",
        "      <td>    1</td>\n",
        "      <td>    1</td>\n",
        "      <td>    1</td>\n",
        "      <td>   1</td>\n",
        "      <td>   1</td>\n",
        "      <td>...</td>\n",
        "      <td>   1</td>\n",
        "      <td>   1</td>\n",
        "      <td>   1</td>\n",
        "      <td>   1</td>\n",
        "      <td>   1</td>\n",
        "      <td>   1</td>\n",
        "      <td>   1</td>\n",
        "      <td>   1</td>\n",
        "      <td>   1</td>\n",
        "      <td>   1</td>\n",
        "    </tr>\n",
        "    <tr>\n",
        "      <th>75%</th>\n",
        "      <td>   1</td>\n",
        "      <td>   1</td>\n",
        "      <td>   1</td>\n",
        "      <td>   1</td>\n",
        "      <td>    1</td>\n",
        "      <td>    1</td>\n",
        "      <td>    1</td>\n",
        "      <td>    1</td>\n",
        "      <td>   1</td>\n",
        "      <td>   1</td>\n",
        "      <td>...</td>\n",
        "      <td>   1</td>\n",
        "      <td>   1</td>\n",
        "      <td>   1</td>\n",
        "      <td>   1</td>\n",
        "      <td>   1</td>\n",
        "      <td>   1</td>\n",
        "      <td>   1</td>\n",
        "      <td>   1</td>\n",
        "      <td>   1</td>\n",
        "      <td>   1</td>\n",
        "    </tr>\n",
        "    <tr>\n",
        "      <th>max</th>\n",
        "      <td>   1</td>\n",
        "      <td>   1</td>\n",
        "      <td>   1</td>\n",
        "      <td>   1</td>\n",
        "      <td>    1</td>\n",
        "      <td>    1</td>\n",
        "      <td>    1</td>\n",
        "      <td>    1</td>\n",
        "      <td>   1</td>\n",
        "      <td>   1</td>\n",
        "      <td>...</td>\n",
        "      <td>   1</td>\n",
        "      <td>   1</td>\n",
        "      <td>   1</td>\n",
        "      <td>   1</td>\n",
        "      <td>   1</td>\n",
        "      <td>   1</td>\n",
        "      <td>   1</td>\n",
        "      <td>   1</td>\n",
        "      <td>   1</td>\n",
        "      <td>   1</td>\n",
        "    </tr>\n",
        "  </tbody>\n",
        "</table>\n",
        "<p>8 rows \u00d7 8833 columns</p>\n",
        "</div>"
       ],
       "metadata": {},
       "output_type": "pyout",
       "prompt_number": 45,
       "text": [
        "       [CONJ] [[AUDIO] 0/16] [[AUDIO] 37/64]  \\\n",
        "count                                    477   \n",
        "mean                                       1   \n",
        "std                                        0   \n",
        "min                                        1   \n",
        "25%                                        1   \n",
        "50%                                        1   \n",
        "75%                                        1   \n",
        "max                                        1   \n",
        "\n",
        "       [CONJ] [[AUDIO] 0/16] [[AUDIO] 48/64]  \\\n",
        "count                                    418   \n",
        "mean                                       1   \n",
        "std                                        0   \n",
        "min                                        1   \n",
        "25%                                        1   \n",
        "50%                                        1   \n",
        "75%                                        1   \n",
        "max                                        1   \n",
        "\n",
        "       [CONJ] [[AUDIO] 0/16] [[ERA] 1975--1985]  \\\n",
        "count                                       488   \n",
        "mean                                          1   \n",
        "std                                           0   \n",
        "min                                           1   \n",
        "25%                                           1   \n",
        "50%                                           1   \n",
        "75%                                           1   \n",
        "max                                           1   \n",
        "\n",
        "       [CONJ] [[AUDIO] 0/16] [[ERA] 1980--1990]  \\\n",
        "count                                       727   \n",
        "mean                                          1   \n",
        "std                                           0   \n",
        "min                                           1   \n",
        "25%                                           1   \n",
        "50%                                           1   \n",
        "75%                                           1   \n",
        "max                                           1   \n",
        "\n",
        "       [CONJ] [[AUDIO] 0/16] [[ERA] 1985--1995]  \\\n",
        "count                                      1075   \n",
        "mean                                          1   \n",
        "std                                           0   \n",
        "min                                           1   \n",
        "25%                                           1   \n",
        "50%                                           1   \n",
        "75%                                           1   \n",
        "max                                           1   \n",
        "\n",
        "       [CONJ] [[AUDIO] 0/16] [[ERA] 1990--2000]  \\\n",
        "count                                      1349   \n",
        "mean                                          1   \n",
        "std                                           0   \n",
        "min                                           1   \n",
        "25%                                           1   \n",
        "50%                                           1   \n",
        "75%                                           1   \n",
        "max                                           1   \n",
        "\n",
        "       [CONJ] [[AUDIO] 0/16] [[ERA] 1995--2005]  \\\n",
        "count                                      1420   \n",
        "mean                                          1   \n",
        "std                                           0   \n",
        "min                                           1   \n",
        "25%                                           1   \n",
        "50%                                           1   \n",
        "75%                                           1   \n",
        "max                                           1   \n",
        "\n",
        "       [CONJ] [[AUDIO] 0/16] [[ERA] 2000--2010]  \\\n",
        "count                                      1043   \n",
        "mean                                          1   \n",
        "std                                           0   \n",
        "min                                           1   \n",
        "25%                                           1   \n",
        "50%                                           1   \n",
        "75%                                           1   \n",
        "max                                           1   \n",
        "\n",
        "       [CONJ] [[AUDIO] 0/16] [[TAG] \"'80s\"]  \\\n",
        "count                                   473   \n",
        "mean                                      1   \n",
        "std                                       0   \n",
        "min                                       1   \n",
        "25%                                       1   \n",
        "50%                                       1   \n",
        "75%                                       1   \n",
        "max                                       1   \n",
        "\n",
        "       [CONJ] [[AUDIO] 0/16] [[TAG] \"'90s\"]  \\\n",
        "count                                   424   \n",
        "mean                                      1   \n",
        "std                                       0   \n",
        "min                                       1   \n",
        "25%                                       1   \n",
        "50%                                       1   \n",
        "75%                                       1   \n",
        "max                                       1   \n",
        "\n",
        "                        ...                    \\\n",
        "count                   ...                     \n",
        "mean                    ...                     \n",
        "std                     ...                     \n",
        "min                     ...                     \n",
        "25%                     ...                     \n",
        "50%                     ...                     \n",
        "75%                     ...                     \n",
        "max                     ...                     \n",
        "\n",
        "       [CONJ] [[TAG] \"soulfully\"] [[TAG] \"up beat\"]  \\\n",
        "count                                           354   \n",
        "mean                                              1   \n",
        "std                                               0   \n",
        "min                                               1   \n",
        "25%                                               1   \n",
        "50%                                               1   \n",
        "75%                                               1   \n",
        "max                                               1   \n",
        "\n",
        "       [CONJ] [[TAG] \"soulfully\"] [[TAG] \"vocalizations\"]  \\\n",
        "count                                                707    \n",
        "mean                                                   1    \n",
        "std                                                    0    \n",
        "min                                                    1    \n",
        "25%                                                    1    \n",
        "50%                                                    1    \n",
        "75%                                                    1    \n",
        "max                                                    1    \n",
        "\n",
        "       [CONJ] [[TAG] \"soundtracking\"] [[TAG] \"summers\"]  \\\n",
        "count                                               370   \n",
        "mean                                                  1   \n",
        "std                                                   0   \n",
        "min                                                   1   \n",
        "25%                                                   1   \n",
        "50%                                                   1   \n",
        "75%                                                   1   \n",
        "max                                                   1   \n",
        "\n",
        "       [CONJ] [[TAG] \"soundtracking\"] [[TAG] \"sweetness\"]  \\\n",
        "count                                                345    \n",
        "mean                                                   1    \n",
        "std                                                    0    \n",
        "min                                                    1    \n",
        "25%                                                    1    \n",
        "50%                                                    1    \n",
        "75%                                                    1    \n",
        "max                                                    1    \n",
        "\n",
        "       [CONJ] [[TAG] \"soundtracking\"] [[TAG] \"up beat\"]  \\\n",
        "count                                               437   \n",
        "mean                                                  1   \n",
        "std                                                   0   \n",
        "min                                                   1   \n",
        "25%                                                   1   \n",
        "50%                                                   1   \n",
        "75%                                                   1   \n",
        "max                                                   1   \n",
        "\n",
        "       [CONJ] [[TAG] \"summers\"] [[TAG] \"sweetness\"]  \\\n",
        "count                                           427   \n",
        "mean                                              1   \n",
        "std                                               0   \n",
        "min                                               1   \n",
        "25%                                               1   \n",
        "50%                                               1   \n",
        "75%                                               1   \n",
        "max                                               1   \n",
        "\n",
        "       [CONJ] [[TAG] \"summers\"] [[TAG] \"up beat\"]  \\\n",
        "count                                         700   \n",
        "mean                                            1   \n",
        "std                                             0   \n",
        "min                                             1   \n",
        "25%                                             1   \n",
        "50%                                             1   \n",
        "75%                                             1   \n",
        "max                                             1   \n",
        "\n",
        "       [CONJ] [[TAG] \"t e c h n o\"] [[TAG] \"trancing\"]  \\\n",
        "count                                              545   \n",
        "mean                                                 1   \n",
        "std                                                  0   \n",
        "min                                                  1   \n",
        "25%                                                  1   \n",
        "50%                                                  1   \n",
        "75%                                                  1   \n",
        "max                                                  1   \n",
        "\n",
        "       [CONJ] [[TAG] \"trip - hop\"] [[TAG] \"uks\"]  \\\n",
        "count                                        367   \n",
        "mean                                           1   \n",
        "std                                            0   \n",
        "min                                            1   \n",
        "25%                                            1   \n",
        "50%                                            1   \n",
        "75%                                            1   \n",
        "max                                            1   \n",
        "\n",
        "       [CONJ] [[TAG] \"uks\"] [[TAG] \"up beat\"]  \n",
        "count                                     408  \n",
        "mean                                        1  \n",
        "std                                         0  \n",
        "min                                         1  \n",
        "25%                                         1  \n",
        "50%                                         1  \n",
        "75%                                         1  \n",
        "max                                         1  \n",
        "\n",
        "[8 rows x 8833 columns]"
       ]
      }
     ],
     "prompt_number": 45
    },
    {
     "cell_type": "code",
     "collapsed": false,
     "input": [
      "H_all.describe()"
     ],
     "language": "python",
     "metadata": {},
     "outputs": [
      {
       "html": [
        "<div style=\"max-height:1000px;max-width:1500px;overflow:auto;\">\n",
        "<table border=\"1\" class=\"dataframe\">\n",
        "  <thead>\n",
        "    <tr style=\"text-align: right;\">\n",
        "      <th></th>\n",
        "      <th>[AUDIO] 0/16</th>\n",
        "      <th>[AUDIO] 0/256</th>\n",
        "      <th>[AUDIO] 0/64</th>\n",
        "      <th>[AUDIO] 1/16</th>\n",
        "      <th>[AUDIO] 1/256</th>\n",
        "      <th>[AUDIO] 1/64</th>\n",
        "      <th>[AUDIO] 10/16</th>\n",
        "      <th>[AUDIO] 10/256</th>\n",
        "      <th>[AUDIO] 10/64</th>\n",
        "      <th>[AUDIO] 100/256</th>\n",
        "      <th>...</th>\n",
        "      <th>[TAG] \"xynod\"</th>\n",
        "      <th>[TAG] \"yay and hooray and yippee and huzzah\"</th>\n",
        "      <th>[TAG] \"yay i like it\"</th>\n",
        "      <th>[TAG] \"yayness\"</th>\n",
        "      <th>[TAG] \"yeah!\"</th>\n",
        "      <th>[TAG] \"yes\"</th>\n",
        "      <th>[TAG] \"you and me\"</th>\n",
        "      <th>[TAG] \"z3po like this\"</th>\n",
        "      <th>[TAG] \"zajebiste\"</th>\n",
        "      <th>[UNIFORM]</th>\n",
        "    </tr>\n",
        "  </thead>\n",
        "  <tbody>\n",
        "    <tr>\n",
        "      <th>count</th>\n",
        "      <td> 4366</td>\n",
        "      <td> 511</td>\n",
        "      <td> 1762</td>\n",
        "      <td> 8506</td>\n",
        "      <td> 575</td>\n",
        "      <td> 2138</td>\n",
        "      <td> 9134</td>\n",
        "      <td> 462</td>\n",
        "      <td> 2231</td>\n",
        "      <td> 600</td>\n",
        "      <td>...</td>\n",
        "      <td> 158</td>\n",
        "      <td> 344</td>\n",
        "      <td>  0</td>\n",
        "      <td> 295</td>\n",
        "      <td> 676</td>\n",
        "      <td> 566</td>\n",
        "      <td> 196</td>\n",
        "      <td> 106</td>\n",
        "      <td> 188</td>\n",
        "      <td> 114464</td>\n",
        "    </tr>\n",
        "    <tr>\n",
        "      <th>mean</th>\n",
        "      <td>    1</td>\n",
        "      <td>   1</td>\n",
        "      <td>    1</td>\n",
        "      <td>    1</td>\n",
        "      <td>   1</td>\n",
        "      <td>    1</td>\n",
        "      <td>    1</td>\n",
        "      <td>   1</td>\n",
        "      <td>    1</td>\n",
        "      <td>   1</td>\n",
        "      <td>...</td>\n",
        "      <td>   1</td>\n",
        "      <td>   1</td>\n",
        "      <td>NaN</td>\n",
        "      <td>   1</td>\n",
        "      <td>   1</td>\n",
        "      <td>   1</td>\n",
        "      <td>   1</td>\n",
        "      <td>   1</td>\n",
        "      <td>   1</td>\n",
        "      <td>      1</td>\n",
        "    </tr>\n",
        "    <tr>\n",
        "      <th>std</th>\n",
        "      <td>    0</td>\n",
        "      <td>   0</td>\n",
        "      <td>    0</td>\n",
        "      <td>    0</td>\n",
        "      <td>   0</td>\n",
        "      <td>    0</td>\n",
        "      <td>    0</td>\n",
        "      <td>   0</td>\n",
        "      <td>    0</td>\n",
        "      <td>   0</td>\n",
        "      <td>...</td>\n",
        "      <td>   0</td>\n",
        "      <td>   0</td>\n",
        "      <td>NaN</td>\n",
        "      <td>   0</td>\n",
        "      <td>   0</td>\n",
        "      <td>   0</td>\n",
        "      <td>   0</td>\n",
        "      <td>   0</td>\n",
        "      <td>   0</td>\n",
        "      <td>      0</td>\n",
        "    </tr>\n",
        "    <tr>\n",
        "      <th>min</th>\n",
        "      <td>    1</td>\n",
        "      <td>   1</td>\n",
        "      <td>    1</td>\n",
        "      <td>    1</td>\n",
        "      <td>   1</td>\n",
        "      <td>    1</td>\n",
        "      <td>    1</td>\n",
        "      <td>   1</td>\n",
        "      <td>    1</td>\n",
        "      <td>   1</td>\n",
        "      <td>...</td>\n",
        "      <td>   1</td>\n",
        "      <td>   1</td>\n",
        "      <td>NaN</td>\n",
        "      <td>   1</td>\n",
        "      <td>   1</td>\n",
        "      <td>   1</td>\n",
        "      <td>   1</td>\n",
        "      <td>   1</td>\n",
        "      <td>   1</td>\n",
        "      <td>      1</td>\n",
        "    </tr>\n",
        "    <tr>\n",
        "      <th>25%</th>\n",
        "      <td>    1</td>\n",
        "      <td>   1</td>\n",
        "      <td>    1</td>\n",
        "      <td>    1</td>\n",
        "      <td>   1</td>\n",
        "      <td>    1</td>\n",
        "      <td>    1</td>\n",
        "      <td>   1</td>\n",
        "      <td>    1</td>\n",
        "      <td>   1</td>\n",
        "      <td>...</td>\n",
        "      <td>   1</td>\n",
        "      <td>   1</td>\n",
        "      <td>NaN</td>\n",
        "      <td>   1</td>\n",
        "      <td>   1</td>\n",
        "      <td>   1</td>\n",
        "      <td>   1</td>\n",
        "      <td>   1</td>\n",
        "      <td>   1</td>\n",
        "      <td>      1</td>\n",
        "    </tr>\n",
        "    <tr>\n",
        "      <th>50%</th>\n",
        "      <td>    1</td>\n",
        "      <td>   1</td>\n",
        "      <td>    1</td>\n",
        "      <td>    1</td>\n",
        "      <td>   1</td>\n",
        "      <td>    1</td>\n",
        "      <td>    1</td>\n",
        "      <td>   1</td>\n",
        "      <td>    1</td>\n",
        "      <td>   1</td>\n",
        "      <td>...</td>\n",
        "      <td>   1</td>\n",
        "      <td>   1</td>\n",
        "      <td>NaN</td>\n",
        "      <td>   1</td>\n",
        "      <td>   1</td>\n",
        "      <td>   1</td>\n",
        "      <td>   1</td>\n",
        "      <td>   1</td>\n",
        "      <td>   1</td>\n",
        "      <td>      1</td>\n",
        "    </tr>\n",
        "    <tr>\n",
        "      <th>75%</th>\n",
        "      <td>    1</td>\n",
        "      <td>   1</td>\n",
        "      <td>    1</td>\n",
        "      <td>    1</td>\n",
        "      <td>   1</td>\n",
        "      <td>    1</td>\n",
        "      <td>    1</td>\n",
        "      <td>   1</td>\n",
        "      <td>    1</td>\n",
        "      <td>   1</td>\n",
        "      <td>...</td>\n",
        "      <td>   1</td>\n",
        "      <td>   1</td>\n",
        "      <td>NaN</td>\n",
        "      <td>   1</td>\n",
        "      <td>   1</td>\n",
        "      <td>   1</td>\n",
        "      <td>   1</td>\n",
        "      <td>   1</td>\n",
        "      <td>   1</td>\n",
        "      <td>      1</td>\n",
        "    </tr>\n",
        "    <tr>\n",
        "      <th>max</th>\n",
        "      <td>    1</td>\n",
        "      <td>   1</td>\n",
        "      <td>    1</td>\n",
        "      <td>    1</td>\n",
        "      <td>   1</td>\n",
        "      <td>    1</td>\n",
        "      <td>    1</td>\n",
        "      <td>   1</td>\n",
        "      <td>    1</td>\n",
        "      <td>   1</td>\n",
        "      <td>...</td>\n",
        "      <td>   1</td>\n",
        "      <td>   1</td>\n",
        "      <td>NaN</td>\n",
        "      <td>   1</td>\n",
        "      <td>   1</td>\n",
        "      <td>   1</td>\n",
        "      <td>   1</td>\n",
        "      <td>   1</td>\n",
        "      <td>   1</td>\n",
        "      <td>      1</td>\n",
        "    </tr>\n",
        "  </tbody>\n",
        "</table>\n",
        "<p>8 rows \u00d7 2124 columns</p>\n",
        "</div>"
       ],
       "metadata": {},
       "output_type": "pyout",
       "prompt_number": 47,
       "text": [
        "       [AUDIO] 0/16  [AUDIO] 0/256  [AUDIO] 0/64  [AUDIO] 1/16  [AUDIO] 1/256  \\\n",
        "count          4366            511          1762          8506            575   \n",
        "mean              1              1             1             1              1   \n",
        "std               0              0             0             0              0   \n",
        "min               1              1             1             1              1   \n",
        "25%               1              1             1             1              1   \n",
        "50%               1              1             1             1              1   \n",
        "75%               1              1             1             1              1   \n",
        "max               1              1             1             1              1   \n",
        "\n",
        "       [AUDIO] 1/64  [AUDIO] 10/16  [AUDIO] 10/256  [AUDIO] 10/64  \\\n",
        "count          2138           9134             462           2231   \n",
        "mean              1              1               1              1   \n",
        "std               0              0               0              0   \n",
        "min               1              1               1              1   \n",
        "25%               1              1               1              1   \n",
        "50%               1              1               1              1   \n",
        "75%               1              1               1              1   \n",
        "max               1              1               1              1   \n",
        "\n",
        "       [AUDIO] 100/256    ...      [TAG] \"xynod\"  \\\n",
        "count              600    ...                158   \n",
        "mean                 1    ...                  1   \n",
        "std                  0    ...                  0   \n",
        "min                  1    ...                  1   \n",
        "25%                  1    ...                  1   \n",
        "50%                  1    ...                  1   \n",
        "75%                  1    ...                  1   \n",
        "max                  1    ...                  1   \n",
        "\n",
        "       [TAG] \"yay and hooray and yippee and huzzah\"  [TAG] \"yay i like it\"  \\\n",
        "count                                           344                      0   \n",
        "mean                                              1                    NaN   \n",
        "std                                               0                    NaN   \n",
        "min                                               1                    NaN   \n",
        "25%                                               1                    NaN   \n",
        "50%                                               1                    NaN   \n",
        "75%                                               1                    NaN   \n",
        "max                                               1                    NaN   \n",
        "\n",
        "       [TAG] \"yayness\"  [TAG] \"yeah!\"  [TAG] \"yes\"  [TAG] \"you and me\"  \\\n",
        "count              295            676          566                 196   \n",
        "mean                 1              1            1                   1   \n",
        "std                  0              0            0                   0   \n",
        "min                  1              1            1                   1   \n",
        "25%                  1              1            1                   1   \n",
        "50%                  1              1            1                   1   \n",
        "75%                  1              1            1                   1   \n",
        "max                  1              1            1                   1   \n",
        "\n",
        "       [TAG] \"z3po like this\"  [TAG] \"zajebiste\"  [UNIFORM]  \n",
        "count                     106                188     114464  \n",
        "mean                        1                  1          1  \n",
        "std                         0                  0          0  \n",
        "min                         1                  1          1  \n",
        "25%                         1                  1          1  \n",
        "50%                         1                  1          1  \n",
        "75%                         1                  1          1  \n",
        "max                         1                  1          1  \n",
        "\n",
        "[8 rows x 2124 columns]"
       ]
      }
     ],
     "prompt_number": 47
    },
    {
     "cell_type": "code",
     "collapsed": false,
     "input": [
      "H_audio.describe()"
     ],
     "language": "python",
     "metadata": {},
     "outputs": [
      {
       "html": [
        "<div style=\"max-height:1000px;max-width:1500px;overflow:auto;\">\n",
        "<table border=\"1\" class=\"dataframe\">\n",
        "  <thead>\n",
        "    <tr style=\"text-align: right;\">\n",
        "      <th></th>\n",
        "      <th>[AUDIO] 0/16</th>\n",
        "      <th>[AUDIO] 0/256</th>\n",
        "      <th>[AUDIO] 0/64</th>\n",
        "      <th>[AUDIO] 1/16</th>\n",
        "      <th>[AUDIO] 1/256</th>\n",
        "      <th>[AUDIO] 1/64</th>\n",
        "      <th>[AUDIO] 10/16</th>\n",
        "      <th>[AUDIO] 10/256</th>\n",
        "      <th>[AUDIO] 10/64</th>\n",
        "      <th>[AUDIO] 100/256</th>\n",
        "      <th>...</th>\n",
        "      <th>[AUDIO] 90/256</th>\n",
        "      <th>[AUDIO] 91/256</th>\n",
        "      <th>[AUDIO] 92/256</th>\n",
        "      <th>[AUDIO] 93/256</th>\n",
        "      <th>[AUDIO] 94/256</th>\n",
        "      <th>[AUDIO] 95/256</th>\n",
        "      <th>[AUDIO] 96/256</th>\n",
        "      <th>[AUDIO] 97/256</th>\n",
        "      <th>[AUDIO] 98/256</th>\n",
        "      <th>[AUDIO] 99/256</th>\n",
        "    </tr>\n",
        "  </thead>\n",
        "  <tbody>\n",
        "    <tr>\n",
        "      <th>count</th>\n",
        "      <td> 4366</td>\n",
        "      <td> 511</td>\n",
        "      <td> 1762</td>\n",
        "      <td> 8506</td>\n",
        "      <td> 575</td>\n",
        "      <td> 2138</td>\n",
        "      <td> 9134</td>\n",
        "      <td> 462</td>\n",
        "      <td> 2231</td>\n",
        "      <td> 600</td>\n",
        "      <td>...</td>\n",
        "      <td> 359</td>\n",
        "      <td> 381</td>\n",
        "      <td> 844</td>\n",
        "      <td> 476</td>\n",
        "      <td> 623</td>\n",
        "      <td> 499</td>\n",
        "      <td> 430</td>\n",
        "      <td> 583</td>\n",
        "      <td> 384</td>\n",
        "      <td> 617</td>\n",
        "    </tr>\n",
        "    <tr>\n",
        "      <th>mean</th>\n",
        "      <td>    1</td>\n",
        "      <td>   1</td>\n",
        "      <td>    1</td>\n",
        "      <td>    1</td>\n",
        "      <td>   1</td>\n",
        "      <td>    1</td>\n",
        "      <td>    1</td>\n",
        "      <td>   1</td>\n",
        "      <td>    1</td>\n",
        "      <td>   1</td>\n",
        "      <td>...</td>\n",
        "      <td>   1</td>\n",
        "      <td>   1</td>\n",
        "      <td>   1</td>\n",
        "      <td>   1</td>\n",
        "      <td>   1</td>\n",
        "      <td>   1</td>\n",
        "      <td>   1</td>\n",
        "      <td>   1</td>\n",
        "      <td>   1</td>\n",
        "      <td>   1</td>\n",
        "    </tr>\n",
        "    <tr>\n",
        "      <th>std</th>\n",
        "      <td>    0</td>\n",
        "      <td>   0</td>\n",
        "      <td>    0</td>\n",
        "      <td>    0</td>\n",
        "      <td>   0</td>\n",
        "      <td>    0</td>\n",
        "      <td>    0</td>\n",
        "      <td>   0</td>\n",
        "      <td>    0</td>\n",
        "      <td>   0</td>\n",
        "      <td>...</td>\n",
        "      <td>   0</td>\n",
        "      <td>   0</td>\n",
        "      <td>   0</td>\n",
        "      <td>   0</td>\n",
        "      <td>   0</td>\n",
        "      <td>   0</td>\n",
        "      <td>   0</td>\n",
        "      <td>   0</td>\n",
        "      <td>   0</td>\n",
        "      <td>   0</td>\n",
        "    </tr>\n",
        "    <tr>\n",
        "      <th>min</th>\n",
        "      <td>    1</td>\n",
        "      <td>   1</td>\n",
        "      <td>    1</td>\n",
        "      <td>    1</td>\n",
        "      <td>   1</td>\n",
        "      <td>    1</td>\n",
        "      <td>    1</td>\n",
        "      <td>   1</td>\n",
        "      <td>    1</td>\n",
        "      <td>   1</td>\n",
        "      <td>...</td>\n",
        "      <td>   1</td>\n",
        "      <td>   1</td>\n",
        "      <td>   1</td>\n",
        "      <td>   1</td>\n",
        "      <td>   1</td>\n",
        "      <td>   1</td>\n",
        "      <td>   1</td>\n",
        "      <td>   1</td>\n",
        "      <td>   1</td>\n",
        "      <td>   1</td>\n",
        "    </tr>\n",
        "    <tr>\n",
        "      <th>25%</th>\n",
        "      <td>    1</td>\n",
        "      <td>   1</td>\n",
        "      <td>    1</td>\n",
        "      <td>    1</td>\n",
        "      <td>   1</td>\n",
        "      <td>    1</td>\n",
        "      <td>    1</td>\n",
        "      <td>   1</td>\n",
        "      <td>    1</td>\n",
        "      <td>   1</td>\n",
        "      <td>...</td>\n",
        "      <td>   1</td>\n",
        "      <td>   1</td>\n",
        "      <td>   1</td>\n",
        "      <td>   1</td>\n",
        "      <td>   1</td>\n",
        "      <td>   1</td>\n",
        "      <td>   1</td>\n",
        "      <td>   1</td>\n",
        "      <td>   1</td>\n",
        "      <td>   1</td>\n",
        "    </tr>\n",
        "    <tr>\n",
        "      <th>50%</th>\n",
        "      <td>    1</td>\n",
        "      <td>   1</td>\n",
        "      <td>    1</td>\n",
        "      <td>    1</td>\n",
        "      <td>   1</td>\n",
        "      <td>    1</td>\n",
        "      <td>    1</td>\n",
        "      <td>   1</td>\n",
        "      <td>    1</td>\n",
        "      <td>   1</td>\n",
        "      <td>...</td>\n",
        "      <td>   1</td>\n",
        "      <td>   1</td>\n",
        "      <td>   1</td>\n",
        "      <td>   1</td>\n",
        "      <td>   1</td>\n",
        "      <td>   1</td>\n",
        "      <td>   1</td>\n",
        "      <td>   1</td>\n",
        "      <td>   1</td>\n",
        "      <td>   1</td>\n",
        "    </tr>\n",
        "    <tr>\n",
        "      <th>75%</th>\n",
        "      <td>    1</td>\n",
        "      <td>   1</td>\n",
        "      <td>    1</td>\n",
        "      <td>    1</td>\n",
        "      <td>   1</td>\n",
        "      <td>    1</td>\n",
        "      <td>    1</td>\n",
        "      <td>   1</td>\n",
        "      <td>    1</td>\n",
        "      <td>   1</td>\n",
        "      <td>...</td>\n",
        "      <td>   1</td>\n",
        "      <td>   1</td>\n",
        "      <td>   1</td>\n",
        "      <td>   1</td>\n",
        "      <td>   1</td>\n",
        "      <td>   1</td>\n",
        "      <td>   1</td>\n",
        "      <td>   1</td>\n",
        "      <td>   1</td>\n",
        "      <td>   1</td>\n",
        "    </tr>\n",
        "    <tr>\n",
        "      <th>max</th>\n",
        "      <td>    1</td>\n",
        "      <td>   1</td>\n",
        "      <td>    1</td>\n",
        "      <td>    1</td>\n",
        "      <td>   1</td>\n",
        "      <td>    1</td>\n",
        "      <td>    1</td>\n",
        "      <td>   1</td>\n",
        "      <td>    1</td>\n",
        "      <td>   1</td>\n",
        "      <td>...</td>\n",
        "      <td>   1</td>\n",
        "      <td>   1</td>\n",
        "      <td>   1</td>\n",
        "      <td>   1</td>\n",
        "      <td>   1</td>\n",
        "      <td>   1</td>\n",
        "      <td>   1</td>\n",
        "      <td>   1</td>\n",
        "      <td>   1</td>\n",
        "      <td>   1</td>\n",
        "    </tr>\n",
        "  </tbody>\n",
        "</table>\n",
        "<p>8 rows \u00d7 336 columns</p>\n",
        "</div>"
       ],
       "metadata": {},
       "output_type": "pyout",
       "prompt_number": 48,
       "text": [
        "       [AUDIO] 0/16  [AUDIO] 0/256  [AUDIO] 0/64  [AUDIO] 1/16  [AUDIO] 1/256  \\\n",
        "count          4366            511          1762          8506            575   \n",
        "mean              1              1             1             1              1   \n",
        "std               0              0             0             0              0   \n",
        "min               1              1             1             1              1   \n",
        "25%               1              1             1             1              1   \n",
        "50%               1              1             1             1              1   \n",
        "75%               1              1             1             1              1   \n",
        "max               1              1             1             1              1   \n",
        "\n",
        "       [AUDIO] 1/64  [AUDIO] 10/16  [AUDIO] 10/256  [AUDIO] 10/64  \\\n",
        "count          2138           9134             462           2231   \n",
        "mean              1              1               1              1   \n",
        "std               0              0               0              0   \n",
        "min               1              1               1              1   \n",
        "25%               1              1               1              1   \n",
        "50%               1              1               1              1   \n",
        "75%               1              1               1              1   \n",
        "max               1              1               1              1   \n",
        "\n",
        "       [AUDIO] 100/256       ...        [AUDIO] 90/256  [AUDIO] 91/256  \\\n",
        "count              600       ...                   359             381   \n",
        "mean                 1       ...                     1               1   \n",
        "std                  0       ...                     0               0   \n",
        "min                  1       ...                     1               1   \n",
        "25%                  1       ...                     1               1   \n",
        "50%                  1       ...                     1               1   \n",
        "75%                  1       ...                     1               1   \n",
        "max                  1       ...                     1               1   \n",
        "\n",
        "       [AUDIO] 92/256  [AUDIO] 93/256  [AUDIO] 94/256  [AUDIO] 95/256  \\\n",
        "count             844             476             623             499   \n",
        "mean                1               1               1               1   \n",
        "std                 0               0               0               0   \n",
        "min                 1               1               1               1   \n",
        "25%                 1               1               1               1   \n",
        "50%                 1               1               1               1   \n",
        "75%                 1               1               1               1   \n",
        "max                 1               1               1               1   \n",
        "\n",
        "       [AUDIO] 96/256  [AUDIO] 97/256  [AUDIO] 98/256  [AUDIO] 99/256  \n",
        "count             430             583             384             617  \n",
        "mean                1               1               1               1  \n",
        "std                 0               0               0               0  \n",
        "min                 1               1               1               1  \n",
        "25%                 1               1               1               1  \n",
        "50%                 1               1               1               1  \n",
        "75%                 1               1               1               1  \n",
        "max                 1               1               1               1  \n",
        "\n",
        "[8 rows x 336 columns]"
       ]
      }
     ],
     "prompt_number": 48
    },
    {
     "cell_type": "code",
     "collapsed": false,
     "input": [
      "H_tags.describe()"
     ],
     "language": "python",
     "metadata": {},
     "outputs": [
      {
       "html": [
        "<div style=\"max-height:1000px;max-width:1500px;overflow:auto;\">\n",
        "<table border=\"1\" class=\"dataframe\">\n",
        "  <thead>\n",
        "    <tr style=\"text-align: right;\">\n",
        "      <th></th>\n",
        "      <th>[TAG] \"'00s\"</th>\n",
        "      <th>[TAG] \"'50s\"</th>\n",
        "      <th>[TAG] \"'70s\"</th>\n",
        "      <th>[TAG] \"'80s\"</th>\n",
        "      <th>[TAG] \"'90s\"</th>\n",
        "      <th>[TAG] \"- best songs ever\"</th>\n",
        "      <th>[TAG] \"- great riff\"</th>\n",
        "      <th>[TAG] \"- progressive metal -\"</th>\n",
        "      <th>[TAG] \"- progressive rock -\"</th>\n",
        "      <th>[TAG] \"-- chilled --\"</th>\n",
        "      <th>...</th>\n",
        "      <th>[TAG] \"x-mas\"</th>\n",
        "      <th>[TAG] \"xynod\"</th>\n",
        "      <th>[TAG] \"yay and hooray and yippee and huzzah\"</th>\n",
        "      <th>[TAG] \"yay i like it\"</th>\n",
        "      <th>[TAG] \"yayness\"</th>\n",
        "      <th>[TAG] \"yeah!\"</th>\n",
        "      <th>[TAG] \"yes\"</th>\n",
        "      <th>[TAG] \"you and me\"</th>\n",
        "      <th>[TAG] \"z3po like this\"</th>\n",
        "      <th>[TAG] \"zajebiste\"</th>\n",
        "    </tr>\n",
        "  </thead>\n",
        "  <tbody>\n",
        "    <tr>\n",
        "      <th>count</th>\n",
        "      <td> 9935</td>\n",
        "      <td> 1208</td>\n",
        "      <td> 5208</td>\n",
        "      <td> 7869</td>\n",
        "      <td> 9858</td>\n",
        "      <td> 1646</td>\n",
        "      <td> 172</td>\n",
        "      <td> 983</td>\n",
        "      <td> 3180</td>\n",
        "      <td> 8911</td>\n",
        "      <td>...</td>\n",
        "      <td> 311</td>\n",
        "      <td> 158</td>\n",
        "      <td> 344</td>\n",
        "      <td> 170</td>\n",
        "      <td> 295</td>\n",
        "      <td> 676</td>\n",
        "      <td> 566</td>\n",
        "      <td> 196</td>\n",
        "      <td> 106</td>\n",
        "      <td> 188</td>\n",
        "    </tr>\n",
        "    <tr>\n",
        "      <th>mean</th>\n",
        "      <td>    1</td>\n",
        "      <td>    1</td>\n",
        "      <td>    1</td>\n",
        "      <td>    1</td>\n",
        "      <td>    1</td>\n",
        "      <td>    1</td>\n",
        "      <td>   1</td>\n",
        "      <td>   1</td>\n",
        "      <td>    1</td>\n",
        "      <td>    1</td>\n",
        "      <td>...</td>\n",
        "      <td>   1</td>\n",
        "      <td>   1</td>\n",
        "      <td>   1</td>\n",
        "      <td>   1</td>\n",
        "      <td>   1</td>\n",
        "      <td>   1</td>\n",
        "      <td>   1</td>\n",
        "      <td>   1</td>\n",
        "      <td>   1</td>\n",
        "      <td>   1</td>\n",
        "    </tr>\n",
        "    <tr>\n",
        "      <th>std</th>\n",
        "      <td>    0</td>\n",
        "      <td>    0</td>\n",
        "      <td>    0</td>\n",
        "      <td>    0</td>\n",
        "      <td>    0</td>\n",
        "      <td>    0</td>\n",
        "      <td>   0</td>\n",
        "      <td>   0</td>\n",
        "      <td>    0</td>\n",
        "      <td>    0</td>\n",
        "      <td>...</td>\n",
        "      <td>   0</td>\n",
        "      <td>   0</td>\n",
        "      <td>   0</td>\n",
        "      <td>   0</td>\n",
        "      <td>   0</td>\n",
        "      <td>   0</td>\n",
        "      <td>   0</td>\n",
        "      <td>   0</td>\n",
        "      <td>   0</td>\n",
        "      <td>   0</td>\n",
        "    </tr>\n",
        "    <tr>\n",
        "      <th>min</th>\n",
        "      <td>    1</td>\n",
        "      <td>    1</td>\n",
        "      <td>    1</td>\n",
        "      <td>    1</td>\n",
        "      <td>    1</td>\n",
        "      <td>    1</td>\n",
        "      <td>   1</td>\n",
        "      <td>   1</td>\n",
        "      <td>    1</td>\n",
        "      <td>    1</td>\n",
        "      <td>...</td>\n",
        "      <td>   1</td>\n",
        "      <td>   1</td>\n",
        "      <td>   1</td>\n",
        "      <td>   1</td>\n",
        "      <td>   1</td>\n",
        "      <td>   1</td>\n",
        "      <td>   1</td>\n",
        "      <td>   1</td>\n",
        "      <td>   1</td>\n",
        "      <td>   1</td>\n",
        "    </tr>\n",
        "    <tr>\n",
        "      <th>25%</th>\n",
        "      <td>    1</td>\n",
        "      <td>    1</td>\n",
        "      <td>    1</td>\n",
        "      <td>    1</td>\n",
        "      <td>    1</td>\n",
        "      <td>    1</td>\n",
        "      <td>   1</td>\n",
        "      <td>   1</td>\n",
        "      <td>    1</td>\n",
        "      <td>    1</td>\n",
        "      <td>...</td>\n",
        "      <td>   1</td>\n",
        "      <td>   1</td>\n",
        "      <td>   1</td>\n",
        "      <td>   1</td>\n",
        "      <td>   1</td>\n",
        "      <td>   1</td>\n",
        "      <td>   1</td>\n",
        "      <td>   1</td>\n",
        "      <td>   1</td>\n",
        "      <td>   1</td>\n",
        "    </tr>\n",
        "    <tr>\n",
        "      <th>50%</th>\n",
        "      <td>    1</td>\n",
        "      <td>    1</td>\n",
        "      <td>    1</td>\n",
        "      <td>    1</td>\n",
        "      <td>    1</td>\n",
        "      <td>    1</td>\n",
        "      <td>   1</td>\n",
        "      <td>   1</td>\n",
        "      <td>    1</td>\n",
        "      <td>    1</td>\n",
        "      <td>...</td>\n",
        "      <td>   1</td>\n",
        "      <td>   1</td>\n",
        "      <td>   1</td>\n",
        "      <td>   1</td>\n",
        "      <td>   1</td>\n",
        "      <td>   1</td>\n",
        "      <td>   1</td>\n",
        "      <td>   1</td>\n",
        "      <td>   1</td>\n",
        "      <td>   1</td>\n",
        "    </tr>\n",
        "    <tr>\n",
        "      <th>75%</th>\n",
        "      <td>    1</td>\n",
        "      <td>    1</td>\n",
        "      <td>    1</td>\n",
        "      <td>    1</td>\n",
        "      <td>    1</td>\n",
        "      <td>    1</td>\n",
        "      <td>   1</td>\n",
        "      <td>   1</td>\n",
        "      <td>    1</td>\n",
        "      <td>    1</td>\n",
        "      <td>...</td>\n",
        "      <td>   1</td>\n",
        "      <td>   1</td>\n",
        "      <td>   1</td>\n",
        "      <td>   1</td>\n",
        "      <td>   1</td>\n",
        "      <td>   1</td>\n",
        "      <td>   1</td>\n",
        "      <td>   1</td>\n",
        "      <td>   1</td>\n",
        "      <td>   1</td>\n",
        "    </tr>\n",
        "    <tr>\n",
        "      <th>max</th>\n",
        "      <td>    1</td>\n",
        "      <td>    1</td>\n",
        "      <td>    1</td>\n",
        "      <td>    1</td>\n",
        "      <td>    1</td>\n",
        "      <td>    1</td>\n",
        "      <td>   1</td>\n",
        "      <td>   1</td>\n",
        "      <td>    1</td>\n",
        "      <td>    1</td>\n",
        "      <td>...</td>\n",
        "      <td>   1</td>\n",
        "      <td>   1</td>\n",
        "      <td>   1</td>\n",
        "      <td>   1</td>\n",
        "      <td>   1</td>\n",
        "      <td>   1</td>\n",
        "      <td>   1</td>\n",
        "      <td>   1</td>\n",
        "      <td>   1</td>\n",
        "      <td>   1</td>\n",
        "    </tr>\n",
        "  </tbody>\n",
        "</table>\n",
        "<p>8 rows \u00d7 1681 columns</p>\n",
        "</div>"
       ],
       "metadata": {},
       "output_type": "pyout",
       "prompt_number": 51,
       "text": [
        "       [TAG] \"'00s\"  [TAG] \"'50s\"  [TAG] \"'70s\"  [TAG] \"'80s\"  [TAG] \"'90s\"  \\\n",
        "count          9935          1208          5208          7869          9858   \n",
        "mean              1             1             1             1             1   \n",
        "std               0             0             0             0             0   \n",
        "min               1             1             1             1             1   \n",
        "25%               1             1             1             1             1   \n",
        "50%               1             1             1             1             1   \n",
        "75%               1             1             1             1             1   \n",
        "max               1             1             1             1             1   \n",
        "\n",
        "       [TAG] \"- best songs ever\"  [TAG] \"- great riff\"  \\\n",
        "count                       1646                   172   \n",
        "mean                           1                     1   \n",
        "std                            0                     0   \n",
        "min                            1                     1   \n",
        "25%                            1                     1   \n",
        "50%                            1                     1   \n",
        "75%                            1                     1   \n",
        "max                            1                     1   \n",
        "\n",
        "       [TAG] \"- progressive metal -\"  [TAG] \"- progressive rock -\"  \\\n",
        "count                            983                          3180   \n",
        "mean                               1                             1   \n",
        "std                                0                             0   \n",
        "min                                1                             1   \n",
        "25%                                1                             1   \n",
        "50%                                1                             1   \n",
        "75%                                1                             1   \n",
        "max                                1                             1   \n",
        "\n",
        "       [TAG] \"-- chilled --\"        ...          [TAG] \"x-mas\"  [TAG] \"xynod\"  \\\n",
        "count                   8911        ...                    311            158   \n",
        "mean                       1        ...                      1              1   \n",
        "std                        0        ...                      0              0   \n",
        "min                        1        ...                      1              1   \n",
        "25%                        1        ...                      1              1   \n",
        "50%                        1        ...                      1              1   \n",
        "75%                        1        ...                      1              1   \n",
        "max                        1        ...                      1              1   \n",
        "\n",
        "       [TAG] \"yay and hooray and yippee and huzzah\"  [TAG] \"yay i like it\"  \\\n",
        "count                                           344                    170   \n",
        "mean                                              1                      1   \n",
        "std                                               0                      0   \n",
        "min                                               1                      1   \n",
        "25%                                               1                      1   \n",
        "50%                                               1                      1   \n",
        "75%                                               1                      1   \n",
        "max                                               1                      1   \n",
        "\n",
        "       [TAG] \"yayness\"  [TAG] \"yeah!\"  [TAG] \"yes\"  [TAG] \"you and me\"  \\\n",
        "count              295            676          566                 196   \n",
        "mean                 1              1            1                   1   \n",
        "std                  0              0            0                   0   \n",
        "min                  1              1            1                   1   \n",
        "25%                  1              1            1                   1   \n",
        "50%                  1              1            1                   1   \n",
        "75%                  1              1            1                   1   \n",
        "max                  1              1            1                   1   \n",
        "\n",
        "       [TAG] \"z3po like this\"  [TAG] \"zajebiste\"  \n",
        "count                     106                188  \n",
        "mean                        1                  1  \n",
        "std                         0                  0  \n",
        "min                         1                  1  \n",
        "25%                         1                  1  \n",
        "50%                         1                  1  \n",
        "75%                         1                  1  \n",
        "max                         1                  1  \n",
        "\n",
        "[8 rows x 1681 columns]"
       ]
      }
     ],
     "prompt_number": 51
    },
    {
     "cell_type": "code",
     "collapsed": false,
     "input": [
      "H_decade.describe()"
     ],
     "language": "python",
     "metadata": {},
     "outputs": [
      {
       "html": [
        "<div style=\"max-height:1000px;max-width:1500px;overflow:auto;\">\n",
        "<table border=\"1\" class=\"dataframe\">\n",
        "  <thead>\n",
        "    <tr style=\"text-align: right;\">\n",
        "      <th></th>\n",
        "      <th>[ERA] 1915--1925</th>\n",
        "      <th>[ERA] 1920--1930</th>\n",
        "      <th>[ERA] 1925--1935</th>\n",
        "      <th>[ERA] 1930--1940</th>\n",
        "      <th>[ERA] 1935--1945</th>\n",
        "      <th>[ERA] 1940--1950</th>\n",
        "      <th>[ERA] 1945--1955</th>\n",
        "      <th>[ERA] 1950--1960</th>\n",
        "      <th>[ERA] 1955--1965</th>\n",
        "      <th>[ERA] 1960--1970</th>\n",
        "      <th>[ERA] 1965--1975</th>\n",
        "      <th>[ERA] 1970--1980</th>\n",
        "      <th>[ERA] 1975--1985</th>\n",
        "      <th>[ERA] 1980--1990</th>\n",
        "      <th>[ERA] 1985--1995</th>\n",
        "      <th>[ERA] 1990--2000</th>\n",
        "      <th>[ERA] 1995--2005</th>\n",
        "      <th>[ERA] 2000--2010</th>\n",
        "      <th>[ERA] 2005--2015</th>\n",
        "      <th>[ERA] 2010--2020</th>\n",
        "    </tr>\n",
        "  </thead>\n",
        "  <tbody>\n",
        "    <tr>\n",
        "      <th>count</th>\n",
        "      <td>  1</td>\n",
        "      <td> 39</td>\n",
        "      <td> 62</td>\n",
        "      <td> 50</td>\n",
        "      <td> 59</td>\n",
        "      <td> 77</td>\n",
        "      <td> 153</td>\n",
        "      <td> 658</td>\n",
        "      <td> 1357</td>\n",
        "      <td> 3361</td>\n",
        "      <td> 5496</td>\n",
        "      <td> 6167</td>\n",
        "      <td> 7421</td>\n",
        "      <td> 9965</td>\n",
        "      <td> 16097</td>\n",
        "      <td> 27519</td>\n",
        "      <td> 41965</td>\n",
        "      <td> 40869</td>\n",
        "      <td> 16513</td>\n",
        "      <td> 419</td>\n",
        "    </tr>\n",
        "    <tr>\n",
        "      <th>mean</th>\n",
        "      <td>  1</td>\n",
        "      <td>  1</td>\n",
        "      <td>  1</td>\n",
        "      <td>  1</td>\n",
        "      <td>  1</td>\n",
        "      <td>  1</td>\n",
        "      <td>   1</td>\n",
        "      <td>   1</td>\n",
        "      <td>    1</td>\n",
        "      <td>    1</td>\n",
        "      <td>    1</td>\n",
        "      <td>    1</td>\n",
        "      <td>    1</td>\n",
        "      <td>    1</td>\n",
        "      <td>     1</td>\n",
        "      <td>     1</td>\n",
        "      <td>     1</td>\n",
        "      <td>     1</td>\n",
        "      <td>     1</td>\n",
        "      <td>   1</td>\n",
        "    </tr>\n",
        "    <tr>\n",
        "      <th>std</th>\n",
        "      <td>NaN</td>\n",
        "      <td>  0</td>\n",
        "      <td>  0</td>\n",
        "      <td>  0</td>\n",
        "      <td>  0</td>\n",
        "      <td>  0</td>\n",
        "      <td>   0</td>\n",
        "      <td>   0</td>\n",
        "      <td>    0</td>\n",
        "      <td>    0</td>\n",
        "      <td>    0</td>\n",
        "      <td>    0</td>\n",
        "      <td>    0</td>\n",
        "      <td>    0</td>\n",
        "      <td>     0</td>\n",
        "      <td>     0</td>\n",
        "      <td>     0</td>\n",
        "      <td>     0</td>\n",
        "      <td>     0</td>\n",
        "      <td>   0</td>\n",
        "    </tr>\n",
        "    <tr>\n",
        "      <th>min</th>\n",
        "      <td>  1</td>\n",
        "      <td>  1</td>\n",
        "      <td>  1</td>\n",
        "      <td>  1</td>\n",
        "      <td>  1</td>\n",
        "      <td>  1</td>\n",
        "      <td>   1</td>\n",
        "      <td>   1</td>\n",
        "      <td>    1</td>\n",
        "      <td>    1</td>\n",
        "      <td>    1</td>\n",
        "      <td>    1</td>\n",
        "      <td>    1</td>\n",
        "      <td>    1</td>\n",
        "      <td>     1</td>\n",
        "      <td>     1</td>\n",
        "      <td>     1</td>\n",
        "      <td>     1</td>\n",
        "      <td>     1</td>\n",
        "      <td>   1</td>\n",
        "    </tr>\n",
        "    <tr>\n",
        "      <th>25%</th>\n",
        "      <td>  1</td>\n",
        "      <td>  1</td>\n",
        "      <td>  1</td>\n",
        "      <td>  1</td>\n",
        "      <td>  1</td>\n",
        "      <td>  1</td>\n",
        "      <td>   1</td>\n",
        "      <td>   1</td>\n",
        "      <td>    1</td>\n",
        "      <td>    1</td>\n",
        "      <td>    1</td>\n",
        "      <td>    1</td>\n",
        "      <td>    1</td>\n",
        "      <td>    1</td>\n",
        "      <td>     1</td>\n",
        "      <td>     1</td>\n",
        "      <td>     1</td>\n",
        "      <td>     1</td>\n",
        "      <td>     1</td>\n",
        "      <td>   1</td>\n",
        "    </tr>\n",
        "    <tr>\n",
        "      <th>50%</th>\n",
        "      <td>  1</td>\n",
        "      <td>  1</td>\n",
        "      <td>  1</td>\n",
        "      <td>  1</td>\n",
        "      <td>  1</td>\n",
        "      <td>  1</td>\n",
        "      <td>   1</td>\n",
        "      <td>   1</td>\n",
        "      <td>    1</td>\n",
        "      <td>    1</td>\n",
        "      <td>    1</td>\n",
        "      <td>    1</td>\n",
        "      <td>    1</td>\n",
        "      <td>    1</td>\n",
        "      <td>     1</td>\n",
        "      <td>     1</td>\n",
        "      <td>     1</td>\n",
        "      <td>     1</td>\n",
        "      <td>     1</td>\n",
        "      <td>   1</td>\n",
        "    </tr>\n",
        "    <tr>\n",
        "      <th>75%</th>\n",
        "      <td>  1</td>\n",
        "      <td>  1</td>\n",
        "      <td>  1</td>\n",
        "      <td>  1</td>\n",
        "      <td>  1</td>\n",
        "      <td>  1</td>\n",
        "      <td>   1</td>\n",
        "      <td>   1</td>\n",
        "      <td>    1</td>\n",
        "      <td>    1</td>\n",
        "      <td>    1</td>\n",
        "      <td>    1</td>\n",
        "      <td>    1</td>\n",
        "      <td>    1</td>\n",
        "      <td>     1</td>\n",
        "      <td>     1</td>\n",
        "      <td>     1</td>\n",
        "      <td>     1</td>\n",
        "      <td>     1</td>\n",
        "      <td>   1</td>\n",
        "    </tr>\n",
        "    <tr>\n",
        "      <th>max</th>\n",
        "      <td>  1</td>\n",
        "      <td>  1</td>\n",
        "      <td>  1</td>\n",
        "      <td>  1</td>\n",
        "      <td>  1</td>\n",
        "      <td>  1</td>\n",
        "      <td>   1</td>\n",
        "      <td>   1</td>\n",
        "      <td>    1</td>\n",
        "      <td>    1</td>\n",
        "      <td>    1</td>\n",
        "      <td>    1</td>\n",
        "      <td>    1</td>\n",
        "      <td>    1</td>\n",
        "      <td>     1</td>\n",
        "      <td>     1</td>\n",
        "      <td>     1</td>\n",
        "      <td>     1</td>\n",
        "      <td>     1</td>\n",
        "      <td>   1</td>\n",
        "    </tr>\n",
        "  </tbody>\n",
        "</table>\n",
        "</div>"
       ],
       "metadata": {},
       "output_type": "pyout",
       "prompt_number": 52,
       "text": [
        "       [ERA] 1915--1925  [ERA] 1920--1930  [ERA] 1925--1935  [ERA] 1930--1940  \\\n",
        "count                 1                39                62                50   \n",
        "mean                  1                 1                 1                 1   \n",
        "std                 NaN                 0                 0                 0   \n",
        "min                   1                 1                 1                 1   \n",
        "25%                   1                 1                 1                 1   \n",
        "50%                   1                 1                 1                 1   \n",
        "75%                   1                 1                 1                 1   \n",
        "max                   1                 1                 1                 1   \n",
        "\n",
        "       [ERA] 1935--1945  [ERA] 1940--1950  [ERA] 1945--1955  [ERA] 1950--1960  \\\n",
        "count                59                77               153               658   \n",
        "mean                  1                 1                 1                 1   \n",
        "std                   0                 0                 0                 0   \n",
        "min                   1                 1                 1                 1   \n",
        "25%                   1                 1                 1                 1   \n",
        "50%                   1                 1                 1                 1   \n",
        "75%                   1                 1                 1                 1   \n",
        "max                   1                 1                 1                 1   \n",
        "\n",
        "       [ERA] 1955--1965  [ERA] 1960--1970  [ERA] 1965--1975  [ERA] 1970--1980  \\\n",
        "count              1357              3361              5496              6167   \n",
        "mean                  1                 1                 1                 1   \n",
        "std                   0                 0                 0                 0   \n",
        "min                   1                 1                 1                 1   \n",
        "25%                   1                 1                 1                 1   \n",
        "50%                   1                 1                 1                 1   \n",
        "75%                   1                 1                 1                 1   \n",
        "max                   1                 1                 1                 1   \n",
        "\n",
        "       [ERA] 1975--1985  [ERA] 1980--1990  [ERA] 1985--1995  [ERA] 1990--2000  \\\n",
        "count              7421              9965             16097             27519   \n",
        "mean                  1                 1                 1                 1   \n",
        "std                   0                 0                 0                 0   \n",
        "min                   1                 1                 1                 1   \n",
        "25%                   1                 1                 1                 1   \n",
        "50%                   1                 1                 1                 1   \n",
        "75%                   1                 1                 1                 1   \n",
        "max                   1                 1                 1                 1   \n",
        "\n",
        "       [ERA] 1995--2005  [ERA] 2000--2010  [ERA] 2005--2015  [ERA] 2010--2020  \n",
        "count             41965             40869             16513               419  \n",
        "mean                  1                 1                 1                 1  \n",
        "std                   0                 0                 0                 0  \n",
        "min                   1                 1                 1                 1  \n",
        "25%                   1                 1                 1                 1  \n",
        "50%                   1                 1                 1                 1  \n",
        "75%                   1                 1                 1                 1  \n",
        "max                   1                 1                 1                 1  "
       ]
      }
     ],
     "prompt_number": 52
    },
    {
     "cell_type": "code",
     "collapsed": false,
     "input": [
      "H_conj.info()"
     ],
     "language": "python",
     "metadata": {},
     "outputs": [
      {
       "output_type": "stream",
       "stream": "stdout",
       "text": [
        "<class 'pandas.sparse.frame.SparseDataFrame'>\n",
        "Index: 114464 entries, SOAAAFI12A6D4F9C66 to SOZZZWN12AF72A1E29\n",
        "Columns: 8833 entries, [CONJ] [[AUDIO] 0/16] [[AUDIO] 37/64] to [CONJ] [[TAG] \"uks\"] [[TAG] \"up beat\"]\n",
        "dtypes: float64(8833)\n",
        "memory usage: 51.9+ MB\n"
       ]
      }
     ],
     "prompt_number": 46
    },
    {
     "cell_type": "code",
     "collapsed": false,
     "input": [
      "H_conj.to_pickle('/home/bmcfee/git/playlist_recommender/data/edges/conjunctions.pickle')"
     ],
     "language": "python",
     "metadata": {},
     "outputs": [],
     "prompt_number": 53
    },
    {
     "cell_type": "code",
     "collapsed": false,
     "input": [],
     "language": "python",
     "metadata": {},
     "outputs": []
    }
   ],
   "metadata": {}
  }
 ]
}