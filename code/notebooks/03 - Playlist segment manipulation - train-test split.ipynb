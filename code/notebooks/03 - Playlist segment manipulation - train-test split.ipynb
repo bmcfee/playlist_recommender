{
 "metadata": {
  "name": "",
  "signature": "sha256:740094090d765f036ac803503c92d1535dc12238779b83917068b689abf8afe8"
 },
 "nbformat": 3,
 "nbformat_minor": 0,
 "worksheets": [
  {
   "cells": [
    {
     "cell_type": "code",
     "collapsed": false,
     "input": [
      "import pandas as pd\n",
      "import matplotlib.pyplot as plt\n",
      "import seaborn\n",
      "seaborn.set()\n",
      "%matplotlib inline\n",
      "import numpy as np"
     ],
     "language": "python",
     "metadata": {},
     "outputs": [],
     "prompt_number": 1
    },
    {
     "cell_type": "code",
     "collapsed": false,
     "input": [
      "import sklearn.cross_validation"
     ],
     "language": "python",
     "metadata": {},
     "outputs": [],
     "prompt_number": 123
    },
    {
     "cell_type": "code",
     "collapsed": false,
     "input": [
      "import IPython.display"
     ],
     "language": "python",
     "metadata": {},
     "outputs": [],
     "prompt_number": 127
    },
    {
     "cell_type": "code",
     "collapsed": false,
     "input": [
      "def hierachify(df):\n",
      "    df.set_index(['user', 'mix_id', 'segment_id', 'segment_position'],\n",
      "                 inplace=True)\n",
      "    \n",
      "def hier_take(df, index):\n",
      "    \n",
      "    df_out = df[df.user.isin(index)]\n",
      "    hierachify(df_out)\n",
      "    \n",
      "    return df_out\n",
      "\n",
      "def kfold_playlists(pl_data, n_folds=3, **kwargs):\n",
      "    users = pl_data['user'].unique()\n",
      "    \n",
      "    folder = sklearn.cross_validation.KFold(len(users), n_folds, **kwargs)\n",
      "    \n",
      "    for train_idx, test_idx in folder:\n",
      "        train_users = users[train_idx]\n",
      "        test_users = users[test_idx]\n",
      "        \n",
      "        pl_train = hier_take(pl_data, train_users)\n",
      "        pl_test = hier_take(pl_data, test_users)\n",
      "        \n",
      "        yield pl_train, pl_test"
     ],
     "language": "python",
     "metadata": {},
     "outputs": [],
     "prompt_number": 156
    },
    {
     "cell_type": "code",
     "collapsed": false,
     "input": [
      "pl_data = pd.read_json('/home/bmcfee/git/playlist_recommender/data/playlist_segments.json')"
     ],
     "language": "python",
     "metadata": {},
     "outputs": [],
     "prompt_number": 152
    },
    {
     "cell_type": "code",
     "collapsed": false,
     "input": [
      "for fold_num, (pl_train, pl_test) in enumerate(kfold_playlists(pl_data, n_folds=5)):\n",
      "    print 'Saving fold {:d}'.format(fold_num)\n",
      "    pl_train.to_pickle('/home/bmcfee/git/playlist_recommender/data/folds/{:d}_train.pickle'.format(fold_num))\n",
      "    pl_test.to_pickle('/home/bmcfee/git/playlist_recommender/data/folds/{:d}_test.pickle'.format(fold_num))"
     ],
     "language": "python",
     "metadata": {},
     "outputs": [
      {
       "output_type": "stream",
       "stream": "stdout",
       "text": [
        "Saving fold 0\n",
        "Saving fold 1"
       ]
      },
      {
       "output_type": "stream",
       "stream": "stdout",
       "text": [
        "\n",
        "Saving fold 2"
       ]
      },
      {
       "output_type": "stream",
       "stream": "stdout",
       "text": [
        "\n",
        "Saving fold 3"
       ]
      },
      {
       "output_type": "stream",
       "stream": "stdout",
       "text": [
        "\n",
        "Saving fold 4"
       ]
      },
      {
       "output_type": "stream",
       "stream": "stdout",
       "text": [
        "\n"
       ]
      }
     ],
     "prompt_number": 158
    }
   ],
   "metadata": {}
  }
 ]
}