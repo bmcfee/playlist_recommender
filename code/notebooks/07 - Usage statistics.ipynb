{
 "metadata": {
  "name": "",
  "signature": "sha256:0e974c242f468953ccfd5c13c3dd88dae5f5c5641d4123a62761dedfc8cd416b"
 },
 "nbformat": 3,
 "nbformat_minor": 0,
 "worksheets": [
  {
   "cells": [
    {
     "cell_type": "markdown",
     "metadata": {},
     "source": [
      "The quantities we need to compute:\n",
      "\n",
      "* $P(x)$ - raw popularity of each song.  This should be estimated from a training set.\n",
      "\n",
      "* $P(e ~|~ u)$ - probability of an edge given a user.  Each user has her own distribution over edges when constructing a transition, as estimated by the statistics of $x_s \\odot x_t$ for each $(s, t)$ in the user's history.\n",
      "\n",
      "* $P(x ~|~ e)$ - probability of a song given an edge.  Condition on membership in a particular edge.\n",
      "\n",
      "  $$\n",
      "    P(x ~|~ e) = \\frac{P(x) \\mathbb{1}[x \\in e]}{\\sum_{x' \\in e} P(x')}\n",
      "  $$\n",
      "  \n",
      "* $P(x ~|~ u, x_p)$ - probability of a song selection given the user and previous song $x_p$.  This can be decomposed in terms of the above as\n",
      "\n",
      "$$\n",
      "P(x ~|~ u, x_p) = \\sum_e P(x, e ~|~ u, x_p) = \\sum_{e} P(x ~|~ e, u) P(e ~|~ u, x_p) = \\sum_e P(x ~|~ e) P(e ~|~ u, x_p)\n",
      "$$\n",
      "\n",
      "$$\n",
      "P(e ~|~ u, x_p) = \\frac{P(e ~|~ u) \\mathbb{1}[x_p \\in e]}{\\sum_f P(f ~|~ u) \\mathbb{1}[x_p \\in f]}\n",
      "$$\n",
      "\n",
      "The questions we want to answer:\n",
      "\n",
      "* Aesthetic diversity: for each user, what is $H(P(e~|~u, e \\neq \\text{uniform}))$?  \n",
      "* Breadth vs depth: what is $H(P(e~|~u))$ vs $\\mathbf{E}_{x\\in u}[P(x~|~u)]$?\n",
      "\n",
      "## Technicality details\n",
      "\n",
      "The song $x$ is used to estimate $P(e|u)$, so we need to be careful about how we explain and interpret this quantity.  One way to think of it is: if we were to redraw a song $x$ given our crude knowledge about the user (edge affinity), how likely are we to get *this* song?  In other words, can a model of the user's general style (edges) and knowledge of the gross statistics of track selection (popularity) accurately inform the selection of the track?\n",
      "\n",
      "  - If so, then the user is 'broad' in the sense that their preferences appear similar to the crowd\n",
      "  - If not, then the user is 'deep', in that they're selecting unpopular tracks relative to others\n",
      "\n",
      "## Should we be bayesian?\n",
      "\n",
      "Probably we will need priors on the distributions $P(x)$ and $P(e | u)$.\n",
      "\n",
      "* $P(x) \\sim \\textbf{Dirichlet}(\\alpha_0)$  (assume the distribution over all songs is multinomial)\n",
      "* $P(e ~|~ u) \\sim \\textbf{Dirichlet}(\\alpha_1)$\n",
      "\n",
      "To be fully bayesian, we should integrate out the posteriors in all relevant computations, rather than taking point estimates (modes)."
     ]
    },
    {
     "cell_type": "code",
     "collapsed": false,
     "input": [
      "import pandas as pd\n",
      "import scipy\n",
      "import numpy as np\n",
      "\n",
      "import progressbar\n",
      "import seaborn\n",
      "import matplotlib.pyplot as plt\n",
      "seaborn.set()\n",
      "%matplotlib inline"
     ],
     "language": "python",
     "metadata": {},
     "outputs": [],
     "prompt_number": 39
    },
    {
     "cell_type": "code",
     "collapsed": false,
     "input": [
      "def load_edges(*files, **kwargs):\n",
      "    \n",
      "    min_size = kwargs.get('min_size', 100)\n",
      "    \n",
      "    frames = [pd.read_pickle(_) for _ in files]\n",
      "    frames = [frame.drop(frame.columns[frame.count() < min_size], axis=1).to_dense()\n",
      "              for frame in frames]\n",
      "    \n",
      "    H = frames.pop(0)\n",
      "    \n",
      "    while len(frames):\n",
      "        H = H.join(frames.pop(0), how='outer', sort=True)\n",
      "    \n",
      "    H.index.name = 'song_id'\n",
      "    H = H.to_sparse()\n",
      "    return H"
     ],
     "language": "python",
     "metadata": {},
     "outputs": [],
     "prompt_number": 2
    },
    {
     "cell_type": "code",
     "collapsed": false,
     "input": [
      "def p_edge_given_user(Ht, playlists, alpha=0.5, min_bigrams=5, max_users=None):\n",
      "    '''Estimate the edge distribution for each user.\n",
      "    \n",
      "    Parameters\n",
      "    ----------\n",
      "    Ht :  n_edges * n_songs dataframe\n",
      "    \n",
      "    playlists : hierarchical dataframe\n",
      "    \n",
      "    alpha : scalar or ndarray\n",
      "        Vector of hyperparameters\n",
      "        \n",
      "    '''\n",
      "    \n",
      "    \n",
      "    stats_frame = pd.DataFrame(columns=Ht.index, dtype='float32')\n",
      "    \n",
      "    if max_users is None:\n",
      "        max_users = len(playlists.index.levels[0])\n",
      "    \n",
      "    widgets = [progressbar.Percentage(),\n",
      "               ' ',\n",
      "               progressbar.Bar(marker=progressbar.RotatingMarker()),\n",
      "               ' ',\n",
      "               progressbar.ETA()]\n",
      "    \n",
      "    pbar = progressbar.ProgressBar(widgets=widgets, maxval=max_users).start()\n",
      "    \n",
      "    for user in playlists.index.levels[0]:\n",
      "        \n",
      "        if len(stats_frame) >= max_users:\n",
      "            break\n",
      "        \n",
      "        u_stat = alpha\n",
      "        n_bigrams = 0\n",
      "        \n",
      "        for (mix_id, segment_id), group in playlists.loc[user].groupby(level=[0,1]):\n",
      "            for s, t in zip(group['song_id'][:-1], group['song_id'][1:]):\n",
      "                # Accumulate\n",
      "                transition = Ht[s] * Ht[t]\n",
      "                u_stat = u_stat + transition.to_dense()\n",
      "                n_bigrams += 1\n",
      "                          \n",
      "        if n_bigrams < min_bigrams:\n",
      "            continue\n",
      "        \n",
      "        model = scipy.stats.dirichlet(u_stat)\n",
      "        stats_frame.loc[user] = model.mean()\n",
      "        \n",
      "        pbar.update(len(stats_frame.index))\n",
      "    \n",
      "    pbar.finish()\n",
      "    \n",
      "    return stats_frame"
     ],
     "language": "python",
     "metadata": {},
     "outputs": [],
     "prompt_number": 49
    },
    {
     "cell_type": "code",
     "collapsed": false,
     "input": [
      "def song_given_edge(song_prob, H_T):\n",
      "    \n",
      "    mpe = H_T.dot(song_prob)\n",
      "    \n",
      "    return (H_T.divide(mpe['Probability'], axis='index') * song_prob['Probability'])    "
     ],
     "language": "python",
     "metadata": {},
     "outputs": [],
     "prompt_number": 4
    },
    {
     "cell_type": "code",
     "collapsed": false,
     "input": [
      "def p_song_given_user(playlists, spe_t, edge_given_user, aggregate=scipy.stats.gmean):\n",
      "    \n",
      "    song_stats = pd.DataFrame(index=edge_given_user.index, columns=['log probability'])\n",
      "    \n",
      "    for u in edge_given_user.index:\n",
      "        # Get the songs for this user\n",
      "        user_songs = playlists.loc[u]['song_id']\n",
      "        u_vec = edge_given_user.loc[u]\n",
      "        \n",
      "        song_given_user = u_vec.dot(spe_t[user_songs]).to_frame()\n",
      "        \n",
      "        song_stats.loc[u] = song_given_user.apply(aggregate)[0]\n",
      "        \n",
      "    return song_stats.applymap(np.log)\n",
      "        "
     ],
     "language": "python",
     "metadata": {},
     "outputs": [],
     "prompt_number": 5
    },
    {
     "cell_type": "code",
     "collapsed": false,
     "input": [
      "def p_song_given_user_prev(playlists, spe_t, Ht, edge_given_user, aggregate=scipy.stats.gmean):\n",
      "    \n",
      "    song_stats = pd.DataFrame(index=edge_given_user.index, columns=['log probability'])\n",
      "    \n",
      "    for u in edge_given_user.index:\n",
      "        # Get the songs for this user\n",
      "        user_songs = playlists.loc[u]['song_id']\n",
      "        u_vec = edge_given_user.loc[u]\n",
      "        \n",
      "        song_given_user = []\n",
      "        \n",
      "        for (mix_id, segment_id), group in playlists.loc[u].groupby(level=[0,1]):\n",
      "            for s, t in zip(group['song_id'][:-1], group['song_id'][1:]):\n",
      "                # Accumulate\n",
      "                u_vec = (Ht[s] * edge_given_user.loc[u]).to_dense()\n",
      "                song_given_user.append(u_vec.T.dot(spe_t[t].to_dense()) / u_vec.sum())\n",
      "        \n",
      "        song_stats.loc[u] = pd.DataFrame(song_given_user).apply(aggregate)[0]\n",
      "        \n",
      "    return song_stats.applymap(np.log)\n",
      "        "
     ],
     "language": "python",
     "metadata": {},
     "outputs": [],
     "prompt_number": 6
    },
    {
     "cell_type": "code",
     "collapsed": false,
     "input": [
      "def song_counts(playlists, songs):\n",
      "    raw_counts = pd.Series(data=0.0, index=songs) + playlists.groupby('song_id')['timestamp'].aggregate('count')\n",
      "    raw_counts = raw_counts.fillna(0).to_frame(name='Counts')\n",
      "    raw_counts.index.name = 'song_id'\n",
      "    \n",
      "    return raw_counts"
     ],
     "language": "python",
     "metadata": {},
     "outputs": [],
     "prompt_number": 7
    },
    {
     "cell_type": "code",
     "collapsed": false,
     "input": [
      "def p_song(playlists, songs, alpha=1.0):\n",
      "    \n",
      "    K = len(songs)\n",
      "    \n",
      "    raw_counts = song_counts(playlists, songs)\n",
      "    \n",
      "    model = scipy.stats.dirichlet(alpha=raw_counts['Counts'] + alpha)\n",
      "    \n",
      "    probs = pd.DataFrame(index=raw_counts.index,\n",
      "                         columns=['Probability'],\n",
      "                         data=model.mean())\n",
      "    \n",
      "    return probs"
     ],
     "language": "python",
     "metadata": {},
     "outputs": [],
     "prompt_number": 8
    },
    {
     "cell_type": "code",
     "collapsed": false,
     "input": [
      "def get_song_names():\n",
      "    \n",
      "    song_names = pd.read_json('/home/bmcfee/git/playlist_recommender/data/valid_songs.json', orient='index')\n",
      "    song_names.index.name = 'song_id'\n",
      "    return song_names"
     ],
     "language": "python",
     "metadata": {},
     "outputs": [],
     "prompt_number": 9
    },
    {
     "cell_type": "code",
     "collapsed": false,
     "input": [
      "song_names = get_song_names()"
     ],
     "language": "python",
     "metadata": {},
     "outputs": [],
     "prompt_number": 10
    },
    {
     "cell_type": "code",
     "collapsed": false,
     "input": [
      "fold = 0"
     ],
     "language": "python",
     "metadata": {},
     "outputs": [],
     "prompt_number": 11
    },
    {
     "cell_type": "code",
     "collapsed": false,
     "input": [
      "playlists_train = pd.read_pickle('/home/bmcfee/git/playlist_recommender/data/folds/{:d}_train.pickle'.format(fold))\n",
      "playlists_test = pd.read_pickle('/home/bmcfee/git/playlist_recommender/data/folds/{:d}_test.pickle'.format(fold))"
     ],
     "language": "python",
     "metadata": {},
     "outputs": [],
     "prompt_number": 12
    },
    {
     "cell_type": "code",
     "collapsed": false,
     "input": [
      "H_frame = load_edges('/home/bmcfee/git/playlist_recommender/data/edges/uniform.pickle',\n",
      "                     '/home/bmcfee/git/playlist_recommender/data/edges/tags.pickle',\n",
      "                     '/home/bmcfee/git/playlist_recommender/data/edges/era_decade.pickle',\n",
      "                     '/home/bmcfee/git/playlist_recommender/data/edges/era_year.pickle',\n",
      "                     '/home/bmcfee/git/playlist_recommender/data/edges/audio.pickle',\n",
      "                     min_size=200)\n",
      "H_frame_T = H_frame.T.to_sparse(fill_value=0.0)\n",
      "H_frame = H_frame.to_sparse(fill_value=0.0)"
     ],
     "language": "python",
     "metadata": {},
     "outputs": [],
     "prompt_number": 13
    },
    {
     "cell_type": "code",
     "collapsed": false,
     "input": [
      "#raw_counts = song_counts(playlists, H_frame.index)"
     ],
     "language": "python",
     "metadata": {},
     "outputs": [],
     "prompt_number": 14
    },
    {
     "cell_type": "code",
     "collapsed": false,
     "input": [
      "song_prob = p_song(playlists_train, H_frame.index)"
     ],
     "language": "python",
     "metadata": {},
     "outputs": [],
     "prompt_number": 15
    },
    {
     "cell_type": "code",
     "collapsed": false,
     "input": [
      "spe_t = song_given_edge(song_prob, H_frame_T)"
     ],
     "language": "python",
     "metadata": {},
     "outputs": [],
     "prompt_number": 16
    },
    {
     "cell_type": "code",
     "collapsed": false,
     "input": [
      "song_prob.describe()"
     ],
     "language": "python",
     "metadata": {},
     "outputs": [
      {
       "html": [
        "<div style=\"max-height:1000px;max-width:1500px;overflow:auto;\">\n",
        "<table border=\"1\" class=\"dataframe\">\n",
        "  <thead>\n",
        "    <tr style=\"text-align: right;\">\n",
        "      <th></th>\n",
        "      <th>Probability</th>\n",
        "    </tr>\n",
        "  </thead>\n",
        "  <tbody>\n",
        "    <tr>\n",
        "      <th>count</th>\n",
        "      <td> 114464.000000</td>\n",
        "    </tr>\n",
        "    <tr>\n",
        "      <th>mean</th>\n",
        "      <td>      0.000009</td>\n",
        "    </tr>\n",
        "    <tr>\n",
        "      <th>std</th>\n",
        "      <td>      0.000022</td>\n",
        "    </tr>\n",
        "    <tr>\n",
        "      <th>min</th>\n",
        "      <td>      0.000001</td>\n",
        "    </tr>\n",
        "    <tr>\n",
        "      <th>25%</th>\n",
        "      <td>      0.000003</td>\n",
        "    </tr>\n",
        "    <tr>\n",
        "      <th>50%</th>\n",
        "      <td>      0.000003</td>\n",
        "    </tr>\n",
        "    <tr>\n",
        "      <th>75%</th>\n",
        "      <td>      0.000007</td>\n",
        "    </tr>\n",
        "    <tr>\n",
        "      <th>max</th>\n",
        "      <td>      0.000934</td>\n",
        "    </tr>\n",
        "  </tbody>\n",
        "</table>\n",
        "</div>"
       ],
       "metadata": {},
       "output_type": "pyout",
       "prompt_number": 17,
       "text": [
        "         Probability\n",
        "count  114464.000000\n",
        "mean        0.000009\n",
        "std         0.000022\n",
        "min         0.000001\n",
        "25%         0.000003\n",
        "50%         0.000003\n",
        "75%         0.000007\n",
        "max         0.000934"
       ]
      }
     ],
     "prompt_number": 17
    },
    {
     "cell_type": "code",
     "collapsed": false,
     "input": [
      "song_names.loc[song_prob['Probability'].argmax()]"
     ],
     "language": "python",
     "metadata": {},
     "outputs": [
      {
       "metadata": {},
       "output_type": "pyout",
       "prompt_number": 19,
       "text": [
        "artist                  Pixies\n",
        "title        Where Is My Mind?\n",
        "track_id    TRNNGMK128F423F034\n",
        "Name: SOBBKGF12A8C1311EE, dtype: object"
       ]
      }
     ],
     "prompt_number": 19
    },
    {
     "cell_type": "code",
     "collapsed": false,
     "input": [
      "p_egu = p_edge_given_user(H_frame_T, playlists_test)"
     ],
     "language": "python",
     "metadata": {},
     "outputs": [
      {
       "javascript": [
        "//1b6c5f9d-5c08-4f8c-948b-c50829625373\n",
        "$(\"head\").append(\"<style> td.pb_widget {     width: auto; } td.pb_widget_fill {     width: 100%; } table.pb {     font-family: monospace;     border: 0;     margin: 0; } table.pb tr { border: 0; } table.pb td {     white-space: nowrap;     border: 0; } div.pb {     border: 1px solid #ddd;     border-radius: 3px; } div.pb_bar {     height: 1.5em; } </style>\")"
       ],
       "metadata": {},
       "output_type": "display_data",
       "text": [
        "<IPython.core.display.Javascript at 0x7fdf22782a90>"
       ]
      },
      {
       "javascript": [
        "\n",
        "                  // 1b6c5f9d-5c08-4f8c-948b-c50829625373 -- used to remove this code blob in the end\n",
        "                  IPython.OutputArea.prototype.cleanProgressBar = function(uuids) {\n",
        "                      // filter by uuid-strings \n",
        "                      var myfilter = function(output) { \n",
        "                          var nuids = uuids.length;\n",
        "                          for (var i=0; i<nuids; i++) {\n",
        "                              if (output.hasOwnProperty('html')) {\n",
        "                                  if (output.html.indexOf(uuids[i]) != -1) {\n",
        "                                      return false;\n",
        "                                  }\n",
        "                              }\n",
        "                              if (output.hasOwnProperty('javascript')) {\n",
        "                                  if (output.javascript.indexOf(uuids[i]) != -1) {\n",
        "                                      return false;\n",
        "                                  }\n",
        "                              }\n",
        "                          }\n",
        "                          // keep all others\n",
        "                          return true;\n",
        "                      };\n",
        "\n",
        "                      // Filter the ouputs\n",
        "                      this.outputs = this.outputs.filter(myfilter);\n",
        "                };\n",
        "                "
       ],
       "metadata": {},
       "output_type": "display_data",
       "text": [
        "<IPython.core.display.Javascript at 0x7fdf225eb950>"
       ]
      },
      {
       "html": [
        "<div class=\"pb\" id=\"1b6c5f9d-5c08-4f8c-948b-c50829625373\"><table class=\"pb ui-widget\"><tr>\n",
        "<td class=\"pb_widget\"><div id=\"0ce4b508-bcf6-43db-9d4d-405a4564baee\">  0%</div></td>\n",
        "<td class=\"pb_widget\"> </td>\n",
        "<td class=\"pb_widget_fill\">\n",
        "        <div class=\"pb_bar\" id=\"9efa009e-1e31-430d-b70d-7930de400302\"></div>\n",
        "        <script type=\"text/javascript\">\n",
        "            $(\"div#9efa009e-1e31-430d-b70d-7930de400302\").progressbar({value: 0, max: 3127});\n",
        "        </script>\n",
        "        </td>\n",
        "<td class=\"pb_widget\"> </td>\n",
        "<td class=\"pb_widget\"><div id=\"88edccd4-e38b-4215-a66a-706e4d223113\">ETA:  --:--:--</div></td>\n",
        "</tr></table><div>"
       ],
       "metadata": {},
       "output_type": "display_data",
       "text": [
        "<IPython.core.display.HTML at 0x7fdf22782250>"
       ]
      },
      {
       "javascript": [
        "$('div#0ce4b508-bcf6-43db-9d4d-405a4564baee').text('  0%');"
       ],
       "metadata": {},
       "output_type": "display_data",
       "text": [
        "<IPython.core.display.Javascript at 0x7fdf11e5cc90>"
       ]
      },
      {
       "javascript": [
        "\n",
        "        var $myPB = $(\"div#9efa009e-1e31-430d-b70d-7930de400302\")\n",
        "        if ($myPB.hasClass('ui-progressbar')) {\n",
        "            $myPB.progressbar('value', 24);\n",
        "        } else {\n",
        "            $myPB.progressbar({value: 0, max: 3127});\n",
        "        }\n",
        "        "
       ],
       "metadata": {},
       "output_type": "display_data",
       "text": [
        "<IPython.core.display.Javascript at 0x7fdf226afd10>"
       ]
      },
      {
       "javascript": [
        "$('div#88edccd4-e38b-4215-a66a-706e4d223113').text('ETA:  0:02:10');"
       ],
       "metadata": {},
       "output_type": "display_data",
       "text": [
        "<IPython.core.display.Javascript at 0x7fdf10b1c8d0>"
       ]
      },
      {
       "javascript": [
        "$('div#0ce4b508-bcf6-43db-9d4d-405a4564baee').text('  0%');"
       ],
       "metadata": {},
       "output_type": "display_data",
       "text": [
        "<IPython.core.display.Javascript at 0x7fdf10fbc810>"
       ]
      },
      {
       "javascript": [
        "\n",
        "        var $myPB = $(\"div#9efa009e-1e31-430d-b70d-7930de400302\")\n",
        "        if ($myPB.hasClass('ui-progressbar')) {\n",
        "            $myPB.progressbar('value', 29);\n",
        "        } else {\n",
        "            $myPB.progressbar({value: 0, max: 3127});\n",
        "        }\n",
        "        "
       ],
       "metadata": {},
       "output_type": "display_data",
       "text": [
        "<IPython.core.display.Javascript at 0x7fdf12083b10>"
       ]
      },
      {
       "javascript": [
        "$('div#88edccd4-e38b-4215-a66a-706e4d223113').text('ETA:  0:03:42');"
       ],
       "metadata": {},
       "output_type": "display_data",
       "text": [
        "<IPython.core.display.Javascript at 0x7fdf12083290>"
       ]
      },
      {
       "javascript": [
        "$('div#0ce4b508-bcf6-43db-9d4d-405a4564baee').text('  1%');"
       ],
       "metadata": {},
       "output_type": "display_data",
       "text": [
        "<IPython.core.display.Javascript at 0x7fdf12066a50>"
       ]
      },
      {
       "javascript": [
        "\n",
        "        var $myPB = $(\"div#9efa009e-1e31-430d-b70d-7930de400302\")\n",
        "        if ($myPB.hasClass('ui-progressbar')) {\n",
        "            $myPB.progressbar('value', 61);\n",
        "        } else {\n",
        "            $myPB.progressbar({value: 0, max: 3127});\n",
        "        }\n",
        "        "
       ],
       "metadata": {},
       "output_type": "display_data",
       "text": [
        "<IPython.core.display.Javascript at 0x7fdf1207c850>"
       ]
      },
      {
       "javascript": [
        "$('div#88edccd4-e38b-4215-a66a-706e4d223113').text('ETA:  0:02:35');"
       ],
       "metadata": {},
       "output_type": "display_data",
       "text": [
        "<IPython.core.display.Javascript at 0x7fdf120b8590>"
       ]
      },
      {
       "javascript": [
        "$('div#0ce4b508-bcf6-43db-9d4d-405a4564baee').text('  2%');"
       ],
       "metadata": {},
       "output_type": "display_data",
       "text": [
        "<IPython.core.display.Javascript at 0x7fdf22484750>"
       ]
      },
      {
       "javascript": [
        "\n",
        "        var $myPB = $(\"div#9efa009e-1e31-430d-b70d-7930de400302\")\n",
        "        if ($myPB.hasClass('ui-progressbar')) {\n",
        "            $myPB.progressbar('value', 83);\n",
        "        } else {\n",
        "            $myPB.progressbar({value: 0, max: 3127});\n",
        "        }\n",
        "        "
       ],
       "metadata": {},
       "output_type": "display_data",
       "text": [
        "<IPython.core.display.Javascript at 0x7fdf2247c510>"
       ]
      },
      {
       "javascript": [
        "$('div#88edccd4-e38b-4215-a66a-706e4d223113').text('ETA:  0:02:33');"
       ],
       "metadata": {},
       "output_type": "display_data",
       "text": [
        "<IPython.core.display.Javascript at 0x7fdf028c51d0>"
       ]
      },
      {
       "javascript": [
        "$('div#0ce4b508-bcf6-43db-9d4d-405a4564baee').text('  3%');"
       ],
       "metadata": {},
       "output_type": "display_data",
       "text": [
        "<IPython.core.display.Javascript at 0x7fdf10f98a90>"
       ]
      },
      {
       "javascript": [
        "\n",
        "        var $myPB = $(\"div#9efa009e-1e31-430d-b70d-7930de400302\")\n",
        "        if ($myPB.hasClass('ui-progressbar')) {\n",
        "            $myPB.progressbar('value', 108);\n",
        "        } else {\n",
        "            $myPB.progressbar({value: 0, max: 3127});\n",
        "        }\n",
        "        "
       ],
       "metadata": {},
       "output_type": "display_data",
       "text": [
        "<IPython.core.display.Javascript at 0x7fdf2247c510>"
       ]
      },
      {
       "javascript": [
        "$('div#88edccd4-e38b-4215-a66a-706e4d223113').text('ETA:  0:02:25');"
       ],
       "metadata": {},
       "output_type": "display_data",
       "text": [
        "<IPython.core.display.Javascript at 0x7fdf10fb4650>"
       ]
      },
      {
       "javascript": [
        "$('div#0ce4b508-bcf6-43db-9d4d-405a4564baee').text('  4%');"
       ],
       "metadata": {},
       "output_type": "display_data",
       "text": [
        "<IPython.core.display.Javascript at 0x7fdf10403990>"
       ]
      },
      {
       "javascript": [
        "\n",
        "        var $myPB = $(\"div#9efa009e-1e31-430d-b70d-7930de400302\")\n",
        "        if ($myPB.hasClass('ui-progressbar')) {\n",
        "            $myPB.progressbar('value', 128);\n",
        "        } else {\n",
        "            $myPB.progressbar({value: 0, max: 3127});\n",
        "        }\n",
        "        "
       ],
       "metadata": {},
       "output_type": "display_data",
       "text": [
        "<IPython.core.display.Javascript at 0x7fdf11f35e10>"
       ]
      },
      {
       "javascript": [
        "$('div#88edccd4-e38b-4215-a66a-706e4d223113').text('ETA:  0:02:25');"
       ],
       "metadata": {},
       "output_type": "display_data",
       "text": [
        "<IPython.core.display.Javascript at 0x7fdf1213fb50>"
       ]
      },
      {
       "javascript": [
        "$('div#0ce4b508-bcf6-43db-9d4d-405a4564baee').text('  4%');"
       ],
       "metadata": {},
       "output_type": "display_data",
       "text": [
        "<IPython.core.display.Javascript at 0x7fdf028eefd0>"
       ]
      },
      {
       "javascript": [
        "\n",
        "        var $myPB = $(\"div#9efa009e-1e31-430d-b70d-7930de400302\")\n",
        "        if ($myPB.hasClass('ui-progressbar')) {\n",
        "            $myPB.progressbar('value', 142);\n",
        "        } else {\n",
        "            $myPB.progressbar({value: 0, max: 3127});\n",
        "        }\n",
        "        "
       ],
       "metadata": {},
       "output_type": "display_data",
       "text": [
        "<IPython.core.display.Javascript at 0x7fdf1214f050>"
       ]
      },
      {
       "javascript": [
        "$('div#88edccd4-e38b-4215-a66a-706e4d223113').text('ETA:  0:02:41');"
       ],
       "metadata": {},
       "output_type": "display_data",
       "text": [
        "<IPython.core.display.Javascript at 0x7fdf22484750>"
       ]
      },
      {
       "javascript": [
        "$('div#0ce4b508-bcf6-43db-9d4d-405a4564baee').text('  5%');"
       ],
       "metadata": {},
       "output_type": "display_data",
       "text": [
        "<IPython.core.display.Javascript at 0x7fdf120b8590>"
       ]
      },
      {
       "javascript": [
        "\n",
        "        var $myPB = $(\"div#9efa009e-1e31-430d-b70d-7930de400302\")\n",
        "        if ($myPB.hasClass('ui-progressbar')) {\n",
        "            $myPB.progressbar('value', 166);\n",
        "        } else {\n",
        "            $myPB.progressbar({value: 0, max: 3127});\n",
        "        }\n",
        "        "
       ],
       "metadata": {},
       "output_type": "display_data",
       "text": [
        "<IPython.core.display.Javascript at 0x7fdf1213fb50>"
       ]
      },
      {
       "javascript": [
        "$('div#88edccd4-e38b-4215-a66a-706e4d223113').text('ETA:  0:02:34');"
       ],
       "metadata": {},
       "output_type": "display_data",
       "text": [
        "<IPython.core.display.Javascript at 0x7fdf028f4210>"
       ]
      },
      {
       "javascript": [
        "$('div#0ce4b508-bcf6-43db-9d4d-405a4564baee').text('  5%');"
       ],
       "metadata": {},
       "output_type": "display_data",
       "text": [
        "<IPython.core.display.Javascript at 0x7fdf12083b90>"
       ]
      },
      {
       "javascript": [
        "\n",
        "        var $myPB = $(\"div#9efa009e-1e31-430d-b70d-7930de400302\")\n",
        "        if ($myPB.hasClass('ui-progressbar')) {\n",
        "            $myPB.progressbar('value', 170);\n",
        "        } else {\n",
        "            $myPB.progressbar({value: 0, max: 3127});\n",
        "        }\n",
        "        "
       ],
       "metadata": {},
       "output_type": "display_data",
       "text": [
        "<IPython.core.display.Javascript at 0x7fdf225eb950>"
       ]
      },
      {
       "javascript": [
        "$('div#88edccd4-e38b-4215-a66a-706e4d223113').text('ETA:  0:02:55');"
       ],
       "metadata": {},
       "output_type": "display_data",
       "text": [
        "<IPython.core.display.Javascript at 0x7fdf120797d0>"
       ]
      },
      {
       "javascript": [
        "$('div#0ce4b508-bcf6-43db-9d4d-405a4564baee').text('  5%');"
       ],
       "metadata": {},
       "output_type": "display_data",
       "text": [
        "<IPython.core.display.Javascript at 0x7fdf120e1c10>"
       ]
      },
      {
       "javascript": [
        "\n",
        "        var $myPB = $(\"div#9efa009e-1e31-430d-b70d-7930de400302\")\n",
        "        if ($myPB.hasClass('ui-progressbar')) {\n",
        "            $myPB.progressbar('value', 178);\n",
        "        } else {\n",
        "            $myPB.progressbar({value: 0, max: 3127});\n",
        "        }\n",
        "        "
       ],
       "metadata": {},
       "output_type": "display_data",
       "text": [
        "<IPython.core.display.Javascript at 0x7fdf028e02d0>"
       ]
      },
      {
       "javascript": [
        "$('div#88edccd4-e38b-4215-a66a-706e4d223113').text('ETA:  0:03:03');"
       ],
       "metadata": {},
       "output_type": "display_data",
       "text": [
        "<IPython.core.display.Javascript at 0x7fdf120663d0>"
       ]
      },
      {
       "javascript": [
        "$('div#0ce4b508-bcf6-43db-9d4d-405a4564baee').text('  6%');"
       ],
       "metadata": {},
       "output_type": "display_data",
       "text": [
        "<IPython.core.display.Javascript at 0x7fdf1212c610>"
       ]
      },
      {
       "javascript": [
        "\n",
        "        var $myPB = $(\"div#9efa009e-1e31-430d-b70d-7930de400302\")\n",
        "        if ($myPB.hasClass('ui-progressbar')) {\n",
        "            $myPB.progressbar('value', 200);\n",
        "        } else {\n",
        "            $myPB.progressbar({value: 0, max: 3127});\n",
        "        }\n",
        "        "
       ],
       "metadata": {},
       "output_type": "display_data",
       "text": [
        "<IPython.core.display.Javascript at 0x7fdf120663d0>"
       ]
      },
      {
       "javascript": [
        "$('div#88edccd4-e38b-4215-a66a-706e4d223113').text('ETA:  0:02:57');"
       ],
       "metadata": {},
       "output_type": "display_data",
       "text": [
        "<IPython.core.display.Javascript at 0x7fdf10fa7e50>"
       ]
      },
      {
       "javascript": [
        "$('div#0ce4b508-bcf6-43db-9d4d-405a4564baee').text('  6%');"
       ],
       "metadata": {},
       "output_type": "display_data",
       "text": [
        "<IPython.core.display.Javascript at 0x7fdf12075690>"
       ]
      },
      {
       "javascript": [
        "\n",
        "        var $myPB = $(\"div#9efa009e-1e31-430d-b70d-7930de400302\")\n",
        "        if ($myPB.hasClass('ui-progressbar')) {\n",
        "            $myPB.progressbar('value', 216);\n",
        "        } else {\n",
        "            $myPB.progressbar({value: 0, max: 3127});\n",
        "        }\n",
        "        "
       ],
       "metadata": {},
       "output_type": "display_data",
       "text": [
        "<IPython.core.display.Javascript at 0x7fdf11dde290>"
       ]
      },
      {
       "javascript": [
        "$('div#88edccd4-e38b-4215-a66a-706e4d223113').text('ETA:  0:02:57');"
       ],
       "metadata": {},
       "output_type": "display_data",
       "text": [
        "<IPython.core.display.Javascript at 0x7fdf120663d0>"
       ]
      },
      {
       "javascript": [
        "$('div#0ce4b508-bcf6-43db-9d4d-405a4564baee').text('  7%');"
       ],
       "metadata": {},
       "output_type": "display_data",
       "text": [
        "<IPython.core.display.Javascript at 0x7fdf10fbc190>"
       ]
      },
      {
       "javascript": [
        "\n",
        "        var $myPB = $(\"div#9efa009e-1e31-430d-b70d-7930de400302\")\n",
        "        if ($myPB.hasClass('ui-progressbar')) {\n",
        "            $myPB.progressbar('value', 229);\n",
        "        } else {\n",
        "            $myPB.progressbar({value: 0, max: 3127});\n",
        "        }\n",
        "        "
       ],
       "metadata": {},
       "output_type": "display_data",
       "text": [
        "<IPython.core.display.Javascript at 0x7fdf10fb4650>"
       ]
      },
      {
       "javascript": [
        "$('div#88edccd4-e38b-4215-a66a-706e4d223113').text('ETA:  0:03:00');"
       ],
       "metadata": {},
       "output_type": "display_data",
       "text": [
        "<IPython.core.display.Javascript at 0x7fdf1212f750>"
       ]
      },
      {
       "javascript": [
        "$('div#0ce4b508-bcf6-43db-9d4d-405a4564baee').text('  7%');"
       ],
       "metadata": {},
       "output_type": "display_data",
       "text": [
        "<IPython.core.display.Javascript at 0x7fdf12118f50>"
       ]
      },
      {
       "javascript": [
        "\n",
        "        var $myPB = $(\"div#9efa009e-1e31-430d-b70d-7930de400302\")\n",
        "        if ($myPB.hasClass('ui-progressbar')) {\n",
        "            $myPB.progressbar('value', 248);\n",
        "        } else {\n",
        "            $myPB.progressbar({value: 0, max: 3127});\n",
        "        }\n",
        "        "
       ],
       "metadata": {},
       "output_type": "display_data",
       "text": [
        "<IPython.core.display.Javascript at 0x7fdf12118d90>"
       ]
      },
      {
       "javascript": [
        "$('div#88edccd4-e38b-4215-a66a-706e4d223113').text('ETA:  0:03:02');"
       ],
       "metadata": {},
       "output_type": "display_data",
       "text": [
        "<IPython.core.display.Javascript at 0x7fdf1212f950>"
       ]
      },
      {
       "javascript": [
        "$('div#0ce4b508-bcf6-43db-9d4d-405a4564baee').text('  8%');"
       ],
       "metadata": {},
       "output_type": "display_data",
       "text": [
        "<IPython.core.display.Javascript at 0x7fdf10f98a90>"
       ]
      },
      {
       "javascript": [
        "\n",
        "        var $myPB = $(\"div#9efa009e-1e31-430d-b70d-7930de400302\")\n",
        "        if ($myPB.hasClass('ui-progressbar')) {\n",
        "            $myPB.progressbar('value', 256);\n",
        "        } else {\n",
        "            $myPB.progressbar({value: 0, max: 3127});\n",
        "        }\n",
        "        "
       ],
       "metadata": {},
       "output_type": "display_data",
       "text": [
        "<IPython.core.display.Javascript at 0x7fdf028e3dd0>"
       ]
      },
      {
       "javascript": [
        "$('div#88edccd4-e38b-4215-a66a-706e4d223113').text('ETA:  0:03:16');"
       ],
       "metadata": {},
       "output_type": "display_data",
       "text": [
        "<IPython.core.display.Javascript at 0x7fdf028e02d0>"
       ]
      },
      {
       "javascript": [
        "$('div#0ce4b508-bcf6-43db-9d4d-405a4564baee').text('  8%');"
       ],
       "metadata": {},
       "output_type": "display_data",
       "text": [
        "<IPython.core.display.Javascript at 0x7fdf028e3dd0>"
       ]
      },
      {
       "javascript": [
        "\n",
        "        var $myPB = $(\"div#9efa009e-1e31-430d-b70d-7930de400302\")\n",
        "        if ($myPB.hasClass('ui-progressbar')) {\n",
        "            $myPB.progressbar('value', 261);\n",
        "        } else {\n",
        "            $myPB.progressbar({value: 0, max: 3127});\n",
        "        }\n",
        "        "
       ],
       "metadata": {},
       "output_type": "display_data",
       "text": [
        "<IPython.core.display.Javascript at 0x7fdf120663d0>"
       ]
      },
      {
       "javascript": [
        "$('div#88edccd4-e38b-4215-a66a-706e4d223113').text('ETA:  0:03:23');"
       ],
       "metadata": {},
       "output_type": "display_data",
       "text": [
        "<IPython.core.display.Javascript at 0x7fdf1213fb50>"
       ]
      },
      {
       "javascript": [
        "$('div#0ce4b508-bcf6-43db-9d4d-405a4564baee').text('  8%');"
       ],
       "metadata": {},
       "output_type": "display_data",
       "text": [
        "<IPython.core.display.Javascript at 0x7fdf12118d90>"
       ]
      },
      {
       "javascript": [
        "\n",
        "        var $myPB = $(\"div#9efa009e-1e31-430d-b70d-7930de400302\")\n",
        "        if ($myPB.hasClass('ui-progressbar')) {\n",
        "            $myPB.progressbar('value', 273);\n",
        "        } else {\n",
        "            $myPB.progressbar({value: 0, max: 3127});\n",
        "        }\n",
        "        "
       ],
       "metadata": {},
       "output_type": "display_data",
       "text": [
        "<IPython.core.display.Javascript at 0x7fdf10f98a90>"
       ]
      },
      {
       "javascript": [
        "$('div#88edccd4-e38b-4215-a66a-706e4d223113').text('ETA:  0:03:24');"
       ],
       "metadata": {},
       "output_type": "display_data",
       "text": [
        "<IPython.core.display.Javascript at 0x7fdf1205d950>"
       ]
      },
      {
       "javascript": [
        "$('div#0ce4b508-bcf6-43db-9d4d-405a4564baee').text('  8%');"
       ],
       "metadata": {},
       "output_type": "display_data",
       "text": [
        "<IPython.core.display.Javascript at 0x7fdf1212f950>"
       ]
      },
      {
       "javascript": [
        "\n",
        "        var $myPB = $(\"div#9efa009e-1e31-430d-b70d-7930de400302\")\n",
        "        if ($myPB.hasClass('ui-progressbar')) {\n",
        "            $myPB.progressbar('value', 278);\n",
        "        } else {\n",
        "            $myPB.progressbar({value: 0, max: 3127});\n",
        "        }\n",
        "        "
       ],
       "metadata": {},
       "output_type": "display_data",
       "text": [
        "<IPython.core.display.Javascript at 0x7fdf10fbc810>"
       ]
      },
      {
       "javascript": [
        "$('div#88edccd4-e38b-4215-a66a-706e4d223113').text('ETA:  0:03:30');"
       ],
       "metadata": {},
       "output_type": "display_data",
       "text": [
        "<IPython.core.display.Javascript at 0x7fdf120b8590>"
       ]
      },
      {
       "javascript": [
        "$('div#0ce4b508-bcf6-43db-9d4d-405a4564baee').text('  9%');"
       ],
       "metadata": {},
       "output_type": "display_data",
       "text": [
        "<IPython.core.display.Javascript at 0x7fdf028e02d0>"
       ]
      },
      {
       "javascript": [
        "\n",
        "        var $myPB = $(\"div#9efa009e-1e31-430d-b70d-7930de400302\")\n",
        "        if ($myPB.hasClass('ui-progressbar')) {\n",
        "            $myPB.progressbar('value', 298);\n",
        "        } else {\n",
        "            $myPB.progressbar({value: 0, max: 3127});\n",
        "        }\n",
        "        "
       ],
       "metadata": {},
       "output_type": "display_data",
       "text": [
        "<IPython.core.display.Javascript at 0x7fdf120dd610>"
       ]
      },
      {
       "javascript": [
        "$('div#88edccd4-e38b-4215-a66a-706e4d223113').text('ETA:  0:03:24');"
       ],
       "metadata": {},
       "output_type": "display_data",
       "text": [
        "<IPython.core.display.Javascript at 0x7fdf120dd210>"
       ]
      },
      {
       "javascript": [
        "$('div#0ce4b508-bcf6-43db-9d4d-405a4564baee').text(' 10%');"
       ],
       "metadata": {},
       "output_type": "display_data",
       "text": [
        "<IPython.core.display.Javascript at 0x7fdf12056dd0>"
       ]
      },
      {
       "javascript": [
        "\n",
        "        var $myPB = $(\"div#9efa009e-1e31-430d-b70d-7930de400302\")\n",
        "        if ($myPB.hasClass('ui-progressbar')) {\n",
        "            $myPB.progressbar('value', 315);\n",
        "        } else {\n",
        "            $myPB.progressbar({value: 0, max: 3127});\n",
        "        }\n",
        "        "
       ],
       "metadata": {},
       "output_type": "display_data",
       "text": [
        "<IPython.core.display.Javascript at 0x7fdf120ee490>"
       ]
      },
      {
       "javascript": [
        "$('div#88edccd4-e38b-4215-a66a-706e4d223113').text('ETA:  0:03:22');"
       ],
       "metadata": {},
       "output_type": "display_data",
       "text": [
        "<IPython.core.display.Javascript at 0x7fdf10f98a90>"
       ]
      },
      {
       "javascript": [
        "$('div#0ce4b508-bcf6-43db-9d4d-405a4564baee').text(' 10%');"
       ],
       "metadata": {},
       "output_type": "display_data",
       "text": [
        "<IPython.core.display.Javascript at 0x7fdf10fbc810>"
       ]
      },
      {
       "javascript": [
        "\n",
        "        var $myPB = $(\"div#9efa009e-1e31-430d-b70d-7930de400302\")\n",
        "        if ($myPB.hasClass('ui-progressbar')) {\n",
        "            $myPB.progressbar('value', 322);\n",
        "        } else {\n",
        "            $myPB.progressbar({value: 0, max: 3127});\n",
        "        }\n",
        "        "
       ],
       "metadata": {},
       "output_type": "display_data",
       "text": [
        "<IPython.core.display.Javascript at 0x7fdf11f35e10>"
       ]
      },
      {
       "javascript": [
        "$('div#88edccd4-e38b-4215-a66a-706e4d223113').text('ETA:  0:03:26');"
       ],
       "metadata": {},
       "output_type": "display_data",
       "text": [
        "<IPython.core.display.Javascript at 0x7fdf12118d90>"
       ]
      },
      {
       "javascript": [
        "$('div#0ce4b508-bcf6-43db-9d4d-405a4564baee').text(' 11%');"
       ],
       "metadata": {},
       "output_type": "display_data",
       "text": [
        "<IPython.core.display.Javascript at 0x7fdf1205d950>"
       ]
      },
      {
       "javascript": [
        "\n",
        "        var $myPB = $(\"div#9efa009e-1e31-430d-b70d-7930de400302\")\n",
        "        if ($myPB.hasClass('ui-progressbar')) {\n",
        "            $myPB.progressbar('value', 345);\n",
        "        } else {\n",
        "            $myPB.progressbar({value: 0, max: 3127});\n",
        "        }\n",
        "        "
       ],
       "metadata": {},
       "output_type": "display_data",
       "text": [
        "<IPython.core.display.Javascript at 0x7fdf1205dfd0>"
       ]
      },
      {
       "javascript": [
        "$('div#88edccd4-e38b-4215-a66a-706e4d223113').text('ETA:  0:03:21');"
       ],
       "metadata": {},
       "output_type": "display_data",
       "text": [
        "<IPython.core.display.Javascript at 0x7fdf10fb4650>"
       ]
      },
      {
       "javascript": [
        "$('div#0ce4b508-bcf6-43db-9d4d-405a4564baee').text(' 11%');"
       ],
       "metadata": {},
       "output_type": "display_data",
       "text": [
        "<IPython.core.display.Javascript at 0x7fdf12118d90>"
       ]
      },
      {
       "javascript": [
        "\n",
        "        var $myPB = $(\"div#9efa009e-1e31-430d-b70d-7930de400302\")\n",
        "        if ($myPB.hasClass('ui-progressbar')) {\n",
        "            $myPB.progressbar('value', 369);\n",
        "        } else {\n",
        "            $myPB.progressbar({value: 0, max: 3127});\n",
        "        }\n",
        "        "
       ],
       "metadata": {},
       "output_type": "display_data",
       "text": [
        "<IPython.core.display.Javascript at 0x7fdf2246ad90>"
       ]
      },
      {
       "javascript": [
        "$('div#88edccd4-e38b-4215-a66a-706e4d223113').text('ETA:  0:03:14');"
       ],
       "metadata": {},
       "output_type": "display_data",
       "text": [
        "<IPython.core.display.Javascript at 0x7fdf120eef50>"
       ]
      },
      {
       "javascript": [
        "$('div#0ce4b508-bcf6-43db-9d4d-405a4564baee').text(' 12%');"
       ],
       "metadata": {},
       "output_type": "display_data",
       "text": [
        "<IPython.core.display.Javascript at 0x7fdf120ded10>"
       ]
      },
      {
       "javascript": [
        "\n",
        "        var $myPB = $(\"div#9efa009e-1e31-430d-b70d-7930de400302\")\n",
        "        if ($myPB.hasClass('ui-progressbar')) {\n",
        "            $myPB.progressbar('value', 377);\n",
        "        } else {\n",
        "            $myPB.progressbar({value: 0, max: 3127});\n",
        "        }\n",
        "        "
       ],
       "metadata": {},
       "output_type": "display_data",
       "text": [
        "<IPython.core.display.Javascript at 0x7fdf028f4210>"
       ]
      },
      {
       "javascript": [
        "$('div#88edccd4-e38b-4215-a66a-706e4d223113').text('ETA:  0:03:19');"
       ],
       "metadata": {},
       "output_type": "display_data",
       "text": [
        "<IPython.core.display.Javascript at 0x7fdf120d6990>"
       ]
      },
      {
       "javascript": [
        "$('div#0ce4b508-bcf6-43db-9d4d-405a4564baee').text(' 12%');"
       ],
       "metadata": {},
       "output_type": "display_data",
       "text": [
        "<IPython.core.display.Javascript at 0x7fdf1212f950>"
       ]
      },
      {
       "javascript": [
        "\n",
        "        var $myPB = $(\"div#9efa009e-1e31-430d-b70d-7930de400302\")\n",
        "        if ($myPB.hasClass('ui-progressbar')) {\n",
        "            $myPB.progressbar('value', 400);\n",
        "        } else {\n",
        "            $myPB.progressbar({value: 0, max: 3127});\n",
        "        }\n",
        "        "
       ],
       "metadata": {},
       "output_type": "display_data",
       "text": [
        "<IPython.core.display.Javascript at 0x7fdf2246ad90>"
       ]
      },
      {
       "javascript": [
        "$('div#88edccd4-e38b-4215-a66a-706e4d223113').text('ETA:  0:03:13');"
       ],
       "metadata": {},
       "output_type": "display_data",
       "text": [
        "<IPython.core.display.Javascript at 0x7fdf120eef50>"
       ]
      },
      {
       "javascript": [
        "$('div#0ce4b508-bcf6-43db-9d4d-405a4564baee').text(' 12%');"
       ],
       "metadata": {},
       "output_type": "display_data",
       "text": [
        "<IPython.core.display.Javascript at 0x7fdf120eef50>"
       ]
      },
      {
       "javascript": [
        "\n",
        "        var $myPB = $(\"div#9efa009e-1e31-430d-b70d-7930de400302\")\n",
        "        if ($myPB.hasClass('ui-progressbar')) {\n",
        "            $myPB.progressbar('value', 406);\n",
        "        } else {\n",
        "            $myPB.progressbar({value: 0, max: 3127});\n",
        "        }\n",
        "        "
       ],
       "metadata": {},
       "output_type": "display_data",
       "text": [
        "<IPython.core.display.Javascript at 0x7fdf120dee50>"
       ]
      },
      {
       "javascript": [
        "$('div#88edccd4-e38b-4215-a66a-706e4d223113').text('ETA:  0:03:17');"
       ],
       "metadata": {},
       "output_type": "display_data",
       "text": [
        "<IPython.core.display.Javascript at 0x7fdf120e9290>"
       ]
      },
      {
       "javascript": [
        "$('div#0ce4b508-bcf6-43db-9d4d-405a4564baee').text(' 13%');"
       ],
       "metadata": {},
       "output_type": "display_data",
       "text": [
        "<IPython.core.display.Javascript at 0x7fdf11f783d0>"
       ]
      },
      {
       "javascript": [
        "\n",
        "        var $myPB = $(\"div#9efa009e-1e31-430d-b70d-7930de400302\")\n",
        "        if ($myPB.hasClass('ui-progressbar')) {\n",
        "            $myPB.progressbar('value', 425);\n",
        "        } else {\n",
        "            $myPB.progressbar({value: 0, max: 3127});\n",
        "        }\n",
        "        "
       ],
       "metadata": {},
       "output_type": "display_data",
       "text": [
        "<IPython.core.display.Javascript at 0x7fdf11f78a10>"
       ]
      },
      {
       "javascript": [
        "$('div#88edccd4-e38b-4215-a66a-706e4d223113').text('ETA:  0:03:13');"
       ],
       "metadata": {},
       "output_type": "display_data",
       "text": [
        "<IPython.core.display.Javascript at 0x7fdf120e15d0>"
       ]
      },
      {
       "javascript": [
        "$('div#0ce4b508-bcf6-43db-9d4d-405a4564baee').text(' 14%');"
       ],
       "metadata": {},
       "output_type": "display_data",
       "text": [
        "<IPython.core.display.Javascript at 0x7fdf12083290>"
       ]
      },
      {
       "javascript": [
        "\n",
        "        var $myPB = $(\"div#9efa009e-1e31-430d-b70d-7930de400302\")\n",
        "        if ($myPB.hasClass('ui-progressbar')) {\n",
        "            $myPB.progressbar('value', 438);\n",
        "        } else {\n",
        "            $myPB.progressbar({value: 0, max: 3127});\n",
        "        }\n",
        "        "
       ],
       "metadata": {},
       "output_type": "display_data",
       "text": [
        "<IPython.core.display.Javascript at 0x7fdf120ecd90>"
       ]
      },
      {
       "javascript": [
        "$('div#88edccd4-e38b-4215-a66a-706e4d223113').text('ETA:  0:03:13');"
       ],
       "metadata": {},
       "output_type": "display_data",
       "text": [
        "<IPython.core.display.Javascript at 0x7fdf120663d0>"
       ]
      },
      {
       "javascript": [
        "$('div#0ce4b508-bcf6-43db-9d4d-405a4564baee').text(' 14%');"
       ],
       "metadata": {},
       "output_type": "display_data",
       "text": [
        "<IPython.core.display.Javascript at 0x7fdf120f1c90>"
       ]
      },
      {
       "javascript": [
        "\n",
        "        var $myPB = $(\"div#9efa009e-1e31-430d-b70d-7930de400302\")\n",
        "        if ($myPB.hasClass('ui-progressbar')) {\n",
        "            $myPB.progressbar('value', 458);\n",
        "        } else {\n",
        "            $myPB.progressbar({value: 0, max: 3127});\n",
        "        }\n",
        "        "
       ],
       "metadata": {},
       "output_type": "display_data",
       "text": [
        "<IPython.core.display.Javascript at 0x7fdf120f1ed0>"
       ]
      },
      {
       "javascript": [
        "$('div#88edccd4-e38b-4215-a66a-706e4d223113').text('ETA:  0:03:09');"
       ],
       "metadata": {},
       "output_type": "display_data",
       "text": [
        "<IPython.core.display.Javascript at 0x7fdf120f11d0>"
       ]
      },
      {
       "javascript": [
        "$('div#0ce4b508-bcf6-43db-9d4d-405a4564baee').text(' 15%');"
       ],
       "metadata": {},
       "output_type": "display_data",
       "text": [
        "<IPython.core.display.Javascript at 0x7fdf120fd690>"
       ]
      },
      {
       "javascript": [
        "\n",
        "        var $myPB = $(\"div#9efa009e-1e31-430d-b70d-7930de400302\")\n",
        "        if ($myPB.hasClass('ui-progressbar')) {\n",
        "            $myPB.progressbar('value', 470);\n",
        "        } else {\n",
        "            $myPB.progressbar({value: 0, max: 3127});\n",
        "        }\n",
        "        "
       ],
       "metadata": {},
       "output_type": "display_data",
       "text": [
        "<IPython.core.display.Javascript at 0x7fdf11f7e090>"
       ]
      },
      {
       "javascript": [
        "$('div#88edccd4-e38b-4215-a66a-706e4d223113').text('ETA:  0:03:14');"
       ],
       "metadata": {},
       "output_type": "display_data",
       "text": [
        "<IPython.core.display.Javascript at 0x7fdf11f7e1d0>"
       ]
      },
      {
       "javascript": [
        "$('div#0ce4b508-bcf6-43db-9d4d-405a4564baee').text(' 15%');"
       ],
       "metadata": {},
       "output_type": "display_data",
       "text": [
        "<IPython.core.display.Javascript at 0x7fdf12145ad0>"
       ]
      },
      {
       "javascript": [
        "\n",
        "        var $myPB = $(\"div#9efa009e-1e31-430d-b70d-7930de400302\")\n",
        "        if ($myPB.hasClass('ui-progressbar')) {\n",
        "            $myPB.progressbar('value', 490);\n",
        "        } else {\n",
        "            $myPB.progressbar({value: 0, max: 3127});\n",
        "        }\n",
        "        "
       ],
       "metadata": {},
       "output_type": "display_data",
       "text": [
        "<IPython.core.display.Javascript at 0x7fdf120d67d0>"
       ]
      },
      {
       "javascript": [
        "$('div#88edccd4-e38b-4215-a66a-706e4d223113').text('ETA:  0:03:11');"
       ],
       "metadata": {},
       "output_type": "display_data",
       "text": [
        "<IPython.core.display.Javascript at 0x7fdf120e95d0>"
       ]
      },
      {
       "javascript": [
        "$('div#0ce4b508-bcf6-43db-9d4d-405a4564baee').text(' 16%');"
       ],
       "metadata": {},
       "output_type": "display_data",
       "text": [
        "<IPython.core.display.Javascript at 0x7fdf028e02d0>"
       ]
      },
      {
       "javascript": [
        "\n",
        "        var $myPB = $(\"div#9efa009e-1e31-430d-b70d-7930de400302\")\n",
        "        if ($myPB.hasClass('ui-progressbar')) {\n",
        "            $myPB.progressbar('value', 505);\n",
        "        } else {\n",
        "            $myPB.progressbar({value: 0, max: 3127});\n",
        "        }\n",
        "        "
       ],
       "metadata": {},
       "output_type": "display_data",
       "text": [
        "<IPython.core.display.Javascript at 0x7fdf120fd690>"
       ]
      },
      {
       "javascript": [
        "$('div#88edccd4-e38b-4215-a66a-706e4d223113').text('ETA:  0:03:10');"
       ],
       "metadata": {},
       "output_type": "display_data",
       "text": [
        "<IPython.core.display.Javascript at 0x7fdf120e3310>"
       ]
      },
      {
       "javascript": [
        "$('div#0ce4b508-bcf6-43db-9d4d-405a4564baee').text(' 16%');"
       ],
       "metadata": {},
       "output_type": "display_data",
       "text": [
        "<IPython.core.display.Javascript at 0x7fdf120ea490>"
       ]
      },
      {
       "javascript": [
        "\n",
        "        var $myPB = $(\"div#9efa009e-1e31-430d-b70d-7930de400302\")\n",
        "        if ($myPB.hasClass('ui-progressbar')) {\n",
        "            $myPB.progressbar('value', 523);\n",
        "        } else {\n",
        "            $myPB.progressbar({value: 0, max: 3127});\n",
        "        }\n",
        "        "
       ],
       "metadata": {},
       "output_type": "display_data",
       "text": [
        "<IPython.core.display.Javascript at 0x7fdf11f78890>"
       ]
      },
      {
       "javascript": [
        "$('div#88edccd4-e38b-4215-a66a-706e4d223113').text('ETA:  0:03:25');"
       ],
       "metadata": {},
       "output_type": "display_data",
       "text": [
        "<IPython.core.display.Javascript at 0x7fdf11f780d0>"
       ]
      },
      {
       "javascript": [
        "$('div#0ce4b508-bcf6-43db-9d4d-405a4564baee').text(' 16%');"
       ],
       "metadata": {},
       "output_type": "display_data",
       "text": [
        "<IPython.core.display.Javascript at 0x7fdf11f6b690>"
       ]
      },
      {
       "javascript": [
        "\n",
        "        var $myPB = $(\"div#9efa009e-1e31-430d-b70d-7930de400302\")\n",
        "        if ($myPB.hasClass('ui-progressbar')) {\n",
        "            $myPB.progressbar('value', 530);\n",
        "        } else {\n",
        "            $myPB.progressbar({value: 0, max: 3127});\n",
        "        }\n",
        "        "
       ],
       "metadata": {},
       "output_type": "display_data",
       "text": [
        "<IPython.core.display.Javascript at 0x7fdf11f6bdd0>"
       ]
      },
      {
       "javascript": [
        "$('div#88edccd4-e38b-4215-a66a-706e4d223113').text('ETA:  0:03:30');"
       ],
       "metadata": {},
       "output_type": "display_data",
       "text": [
        "<IPython.core.display.Javascript at 0x7fdf11f6b310>"
       ]
      },
      {
       "javascript": [
        "$('div#0ce4b508-bcf6-43db-9d4d-405a4564baee').text(' 17%');"
       ],
       "metadata": {},
       "output_type": "display_data",
       "text": [
        "<IPython.core.display.Javascript at 0x7fdf120e1390>"
       ]
      },
      {
       "javascript": [
        "\n",
        "        var $myPB = $(\"div#9efa009e-1e31-430d-b70d-7930de400302\")\n",
        "        if ($myPB.hasClass('ui-progressbar')) {\n",
        "            $myPB.progressbar('value', 556);\n",
        "        } else {\n",
        "            $myPB.progressbar({value: 0, max: 3127});\n",
        "        }\n",
        "        "
       ],
       "metadata": {},
       "output_type": "display_data",
       "text": [
        "<IPython.core.display.Javascript at 0x7fdf11f7e110>"
       ]
      },
      {
       "javascript": [
        "$('div#88edccd4-e38b-4215-a66a-706e4d223113').text('ETA:  0:03:23');"
       ],
       "metadata": {},
       "output_type": "display_data",
       "text": [
        "<IPython.core.display.Javascript at 0x7fdf11f7e090>"
       ]
      },
      {
       "javascript": [
        "$('div#0ce4b508-bcf6-43db-9d4d-405a4564baee').text(' 18%');"
       ],
       "metadata": {},
       "output_type": "display_data",
       "text": [
        "<IPython.core.display.Javascript at 0x7fdf11f6bc90>"
       ]
      },
      {
       "javascript": [
        "\n",
        "        var $myPB = $(\"div#9efa009e-1e31-430d-b70d-7930de400302\")\n",
        "        if ($myPB.hasClass('ui-progressbar')) {\n",
        "            $myPB.progressbar('value', 570);\n",
        "        } else {\n",
        "            $myPB.progressbar({value: 0, max: 3127});\n",
        "        }\n",
        "        "
       ],
       "metadata": {},
       "output_type": "display_data",
       "text": [
        "<IPython.core.display.Javascript at 0x7fdf11f78510>"
       ]
      },
      {
       "javascript": [
        "$('div#88edccd4-e38b-4215-a66a-706e4d223113').text('ETA:  0:03:21');"
       ],
       "metadata": {},
       "output_type": "display_data",
       "text": [
        "<IPython.core.display.Javascript at 0x7fdf120ecd90>"
       ]
      },
      {
       "javascript": [
        "$('div#0ce4b508-bcf6-43db-9d4d-405a4564baee').text(' 18%');"
       ],
       "metadata": {},
       "output_type": "display_data",
       "text": [
        "<IPython.core.display.Javascript at 0x7fdf120eab50>"
       ]
      },
      {
       "javascript": [
        "\n",
        "        var $myPB = $(\"div#9efa009e-1e31-430d-b70d-7930de400302\")\n",
        "        if ($myPB.hasClass('ui-progressbar')) {\n",
        "            $myPB.progressbar('value', 584);\n",
        "        } else {\n",
        "            $myPB.progressbar({value: 0, max: 3127});\n",
        "        }\n",
        "        "
       ],
       "metadata": {},
       "output_type": "display_data",
       "text": [
        "<IPython.core.display.Javascript at 0x7fdf120ecb90>"
       ]
      },
      {
       "javascript": [
        "$('div#88edccd4-e38b-4215-a66a-706e4d223113').text('ETA:  0:03:20');"
       ],
       "metadata": {},
       "output_type": "display_data",
       "text": [
        "<IPython.core.display.Javascript at 0x7fdf120ece50>"
       ]
      },
      {
       "javascript": [
        "$('div#0ce4b508-bcf6-43db-9d4d-405a4564baee').text(' 19%');"
       ],
       "metadata": {},
       "output_type": "display_data",
       "text": [
        "<IPython.core.display.Javascript at 0x7fdf11f6bd90>"
       ]
      },
      {
       "javascript": [
        "\n",
        "        var $myPB = $(\"div#9efa009e-1e31-430d-b70d-7930de400302\")\n",
        "        if ($myPB.hasClass('ui-progressbar')) {\n",
        "            $myPB.progressbar('value', 605);\n",
        "        } else {\n",
        "            $myPB.progressbar({value: 0, max: 3127});\n",
        "        }\n",
        "        "
       ],
       "metadata": {},
       "output_type": "display_data",
       "text": [
        "<IPython.core.display.Javascript at 0x7fdf120ecd90>"
       ]
      },
      {
       "javascript": [
        "$('div#88edccd4-e38b-4215-a66a-706e4d223113').text('ETA:  0:03:16');"
       ],
       "metadata": {},
       "output_type": "display_data",
       "text": [
        "<IPython.core.display.Javascript at 0x7fdf120ece50>"
       ]
      },
      {
       "javascript": [
        "$('div#0ce4b508-bcf6-43db-9d4d-405a4564baee').text(' 19%');"
       ],
       "metadata": {},
       "output_type": "display_data",
       "text": [
        "<IPython.core.display.Javascript at 0x7fdf11f8ce10>"
       ]
      },
      {
       "javascript": [
        "\n",
        "        var $myPB = $(\"div#9efa009e-1e31-430d-b70d-7930de400302\")\n",
        "        if ($myPB.hasClass('ui-progressbar')) {\n",
        "            $myPB.progressbar('value', 621);\n",
        "        } else {\n",
        "            $myPB.progressbar({value: 0, max: 3127});\n",
        "        }\n",
        "        "
       ],
       "metadata": {},
       "output_type": "display_data",
       "text": [
        "<IPython.core.display.Javascript at 0x7fdf11f53510>"
       ]
      },
      {
       "javascript": [
        "$('div#88edccd4-e38b-4215-a66a-706e4d223113').text('ETA:  0:03:14');"
       ],
       "metadata": {},
       "output_type": "display_data",
       "text": [
        "<IPython.core.display.Javascript at 0x7fdf11f6b190>"
       ]
      },
      {
       "javascript": [
        "$('div#0ce4b508-bcf6-43db-9d4d-405a4564baee').text(' 20%');"
       ],
       "metadata": {},
       "output_type": "display_data",
       "text": [
        "<IPython.core.display.Javascript at 0x7fdf120ecd90>"
       ]
      },
      {
       "javascript": [
        "\n",
        "        var $myPB = $(\"div#9efa009e-1e31-430d-b70d-7930de400302\")\n",
        "        if ($myPB.hasClass('ui-progressbar')) {\n",
        "            $myPB.progressbar('value', 634);\n",
        "        } else {\n",
        "            $myPB.progressbar({value: 0, max: 3127});\n",
        "        }\n",
        "        "
       ],
       "metadata": {},
       "output_type": "display_data",
       "text": [
        "<IPython.core.display.Javascript at 0x7fdf11f53090>"
       ]
      },
      {
       "javascript": [
        "$('div#88edccd4-e38b-4215-a66a-706e4d223113').text('ETA:  0:03:13');"
       ],
       "metadata": {},
       "output_type": "display_data",
       "text": [
        "<IPython.core.display.Javascript at 0x7fdf11f53890>"
       ]
      },
      {
       "javascript": [
        "$('div#0ce4b508-bcf6-43db-9d4d-405a4564baee').text(' 20%');"
       ],
       "metadata": {},
       "output_type": "display_data",
       "text": [
        "<IPython.core.display.Javascript at 0x7fdf120eab50>"
       ]
      },
      {
       "javascript": [
        "\n",
        "        var $myPB = $(\"div#9efa009e-1e31-430d-b70d-7930de400302\")\n",
        "        if ($myPB.hasClass('ui-progressbar')) {\n",
        "            $myPB.progressbar('value', 656);\n",
        "        } else {\n",
        "            $myPB.progressbar({value: 0, max: 3127});\n",
        "        }\n",
        "        "
       ],
       "metadata": {},
       "output_type": "display_data",
       "text": [
        "<IPython.core.display.Javascript at 0x7fdf120dd1d0>"
       ]
      },
      {
       "javascript": [
        "$('div#88edccd4-e38b-4215-a66a-706e4d223113').text('ETA:  0:03:09');"
       ],
       "metadata": {},
       "output_type": "display_data",
       "text": [
        "<IPython.core.display.Javascript at 0x7fdf120e1390>"
       ]
      },
      {
       "javascript": [
        "$('div#0ce4b508-bcf6-43db-9d4d-405a4564baee').text(' 21%');"
       ],
       "metadata": {},
       "output_type": "display_data",
       "text": [
        "<IPython.core.display.Javascript at 0x7fdf11f7ef90>"
       ]
      },
      {
       "javascript": [
        "\n",
        "        var $myPB = $(\"div#9efa009e-1e31-430d-b70d-7930de400302\")\n",
        "        if ($myPB.hasClass('ui-progressbar')) {\n",
        "            $myPB.progressbar('value', 669);\n",
        "        } else {\n",
        "            $myPB.progressbar({value: 0, max: 3127});\n",
        "        }\n",
        "        "
       ],
       "metadata": {},
       "output_type": "display_data",
       "text": [
        "<IPython.core.display.Javascript at 0x7fdf11f832d0>"
       ]
      },
      {
       "javascript": [
        "$('div#88edccd4-e38b-4215-a66a-706e4d223113').text('ETA:  0:03:08');"
       ],
       "metadata": {},
       "output_type": "display_data",
       "text": [
        "<IPython.core.display.Javascript at 0x7fdf11f83ad0>"
       ]
      },
      {
       "javascript": [
        "$('div#0ce4b508-bcf6-43db-9d4d-405a4564baee').text(' 22%');"
       ],
       "metadata": {},
       "output_type": "display_data",
       "text": [
        "<IPython.core.display.Javascript at 0x7fdf11f8c610>"
       ]
      },
      {
       "javascript": [
        "\n",
        "        var $myPB = $(\"div#9efa009e-1e31-430d-b70d-7930de400302\")\n",
        "        if ($myPB.hasClass('ui-progressbar')) {\n",
        "            $myPB.progressbar('value', 691);\n",
        "        } else {\n",
        "            $myPB.progressbar({value: 0, max: 3127});\n",
        "        }\n",
        "        "
       ],
       "metadata": {},
       "output_type": "display_data",
       "text": [
        "<IPython.core.display.Javascript at 0x7fdf11f834d0>"
       ]
      },
      {
       "javascript": [
        "$('div#88edccd4-e38b-4215-a66a-706e4d223113').text('ETA:  0:03:04');"
       ],
       "metadata": {},
       "output_type": "display_data",
       "text": [
        "<IPython.core.display.Javascript at 0x7fdf11f836d0>"
       ]
      },
      {
       "javascript": [
        "$('div#0ce4b508-bcf6-43db-9d4d-405a4564baee').text(' 22%');"
       ],
       "metadata": {},
       "output_type": "display_data",
       "text": [
        "<IPython.core.display.Javascript at 0x7fdf11f83bd0>"
       ]
      },
      {
       "javascript": [
        "\n",
        "        var $myPB = $(\"div#9efa009e-1e31-430d-b70d-7930de400302\")\n",
        "        if ($myPB.hasClass('ui-progressbar')) {\n",
        "            $myPB.progressbar('value', 698);\n",
        "        } else {\n",
        "            $myPB.progressbar({value: 0, max: 3127});\n",
        "        }\n",
        "        "
       ],
       "metadata": {},
       "output_type": "display_data",
       "text": [
        "<IPython.core.display.Javascript at 0x7fdf11f83610>"
       ]
      },
      {
       "javascript": [
        "$('div#88edccd4-e38b-4215-a66a-706e4d223113').text('ETA:  0:03:05');"
       ],
       "metadata": {},
       "output_type": "display_data",
       "text": [
        "<IPython.core.display.Javascript at 0x7fdf11f83f10>"
       ]
      },
      {
       "javascript": [
        "$('div#0ce4b508-bcf6-43db-9d4d-405a4564baee').text(' 22%');"
       ],
       "metadata": {},
       "output_type": "display_data",
       "text": [
        "<IPython.core.display.Javascript at 0x7fdf120d6e90>"
       ]
      },
      {
       "javascript": [
        "\n",
        "        var $myPB = $(\"div#9efa009e-1e31-430d-b70d-7930de400302\")\n",
        "        if ($myPB.hasClass('ui-progressbar')) {\n",
        "            $myPB.progressbar('value', 705);\n",
        "        } else {\n",
        "            $myPB.progressbar({value: 0, max: 3127});\n",
        "        }\n",
        "        "
       ],
       "metadata": {},
       "output_type": "display_data",
       "text": [
        "<IPython.core.display.Javascript at 0x7fdf120f1d10>"
       ]
      },
      {
       "javascript": [
        "$('div#88edccd4-e38b-4215-a66a-706e4d223113').text('ETA:  0:03:06');"
       ],
       "metadata": {},
       "output_type": "display_data",
       "text": [
        "<IPython.core.display.Javascript at 0x7fdf120dec90>"
       ]
      },
      {
       "javascript": [
        "$('div#0ce4b508-bcf6-43db-9d4d-405a4564baee').text(' 23%');"
       ],
       "metadata": {},
       "output_type": "display_data",
       "text": [
        "<IPython.core.display.Javascript at 0x7fdf120fdd50>"
       ]
      },
      {
       "javascript": [
        "\n",
        "        var $myPB = $(\"div#9efa009e-1e31-430d-b70d-7930de400302\")\n",
        "        if ($myPB.hasClass('ui-progressbar')) {\n",
        "            $myPB.progressbar('value', 730);\n",
        "        } else {\n",
        "            $myPB.progressbar({value: 0, max: 3127});\n",
        "        }\n",
        "        "
       ],
       "metadata": {},
       "output_type": "display_data",
       "text": [
        "<IPython.core.display.Javascript at 0x7fdf120dec90>"
       ]
      },
      {
       "javascript": [
        "$('div#88edccd4-e38b-4215-a66a-706e4d223113').text('ETA:  0:03:02');"
       ],
       "metadata": {},
       "output_type": "display_data",
       "text": [
        "<IPython.core.display.Javascript at 0x7fdf11f74ed0>"
       ]
      },
      {
       "javascript": [
        "$('div#0ce4b508-bcf6-43db-9d4d-405a4564baee').text(' 23%');"
       ],
       "metadata": {},
       "output_type": "display_data",
       "text": [
        "<IPython.core.display.Javascript at 0x7fdf11f7b790>"
       ]
      },
      {
       "javascript": [
        "\n",
        "        var $myPB = $(\"div#9efa009e-1e31-430d-b70d-7930de400302\")\n",
        "        if ($myPB.hasClass('ui-progressbar')) {\n",
        "            $myPB.progressbar('value', 746);\n",
        "        } else {\n",
        "            $myPB.progressbar({value: 0, max: 3127});\n",
        "        }\n",
        "        "
       ],
       "metadata": {},
       "output_type": "display_data",
       "text": [
        "<IPython.core.display.Javascript at 0x7fdf120f1d10>"
       ]
      },
      {
       "javascript": [
        "$('div#88edccd4-e38b-4215-a66a-706e4d223113').text('ETA:  0:03:00');"
       ],
       "metadata": {},
       "output_type": "display_data",
       "text": [
        "<IPython.core.display.Javascript at 0x7fdf120e3cd0>"
       ]
      },
      {
       "javascript": [
        "$('div#0ce4b508-bcf6-43db-9d4d-405a4564baee').text(' 24%');"
       ],
       "metadata": {},
       "output_type": "display_data",
       "text": [
        "<IPython.core.display.Javascript at 0x7fdf11f50750>"
       ]
      },
      {
       "javascript": [
        "\n",
        "        var $myPB = $(\"div#9efa009e-1e31-430d-b70d-7930de400302\")\n",
        "        if ($myPB.hasClass('ui-progressbar')) {\n",
        "            $myPB.progressbar('value', 765);\n",
        "        } else {\n",
        "            $myPB.progressbar({value: 0, max: 3127});\n",
        "        }\n",
        "        "
       ],
       "metadata": {},
       "output_type": "display_data",
       "text": [
        "<IPython.core.display.Javascript at 0x7fdf11f505d0>"
       ]
      },
      {
       "javascript": [
        "$('div#88edccd4-e38b-4215-a66a-706e4d223113').text('ETA:  0:02:58');"
       ],
       "metadata": {},
       "output_type": "display_data",
       "text": [
        "<IPython.core.display.Javascript at 0x7fdf11f50cd0>"
       ]
      },
      {
       "javascript": [
        "$('div#0ce4b508-bcf6-43db-9d4d-405a4564baee').text(' 25%');"
       ],
       "metadata": {},
       "output_type": "display_data",
       "text": [
        "<IPython.core.display.Javascript at 0x7fdf120dec90>"
       ]
      },
      {
       "javascript": [
        "\n",
        "        var $myPB = $(\"div#9efa009e-1e31-430d-b70d-7930de400302\")\n",
        "        if ($myPB.hasClass('ui-progressbar')) {\n",
        "            $myPB.progressbar('value', 790);\n",
        "        } else {\n",
        "            $myPB.progressbar({value: 0, max: 3127});\n",
        "        }\n",
        "        "
       ],
       "metadata": {},
       "output_type": "display_data",
       "text": [
        "<IPython.core.display.Javascript at 0x7fdf11f82590>"
       ]
      },
      {
       "javascript": [
        "$('div#88edccd4-e38b-4215-a66a-706e4d223113').text('ETA:  0:02:54');"
       ],
       "metadata": {},
       "output_type": "display_data",
       "text": [
        "<IPython.core.display.Javascript at 0x7fdf11f820d0>"
       ]
      },
      {
       "javascript": [
        "$('div#0ce4b508-bcf6-43db-9d4d-405a4564baee').text(' 25%');"
       ],
       "metadata": {},
       "output_type": "display_data",
       "text": [
        "<IPython.core.display.Javascript at 0x7fdf11f8c690>"
       ]
      },
      {
       "javascript": [
        "\n",
        "        var $myPB = $(\"div#9efa009e-1e31-430d-b70d-7930de400302\")\n",
        "        if ($myPB.hasClass('ui-progressbar')) {\n",
        "            $myPB.progressbar('value', 805);\n",
        "        } else {\n",
        "            $myPB.progressbar({value: 0, max: 3127});\n",
        "        }\n",
        "        "
       ],
       "metadata": {},
       "output_type": "display_data",
       "text": [
        "<IPython.core.display.Javascript at 0x7fdf11f78b90>"
       ]
      },
      {
       "javascript": [
        "$('div#88edccd4-e38b-4215-a66a-706e4d223113').text('ETA:  0:02:52');"
       ],
       "metadata": {},
       "output_type": "display_data",
       "text": [
        "<IPython.core.display.Javascript at 0x7fdf11f78890>"
       ]
      },
      {
       "javascript": [
        "$('div#0ce4b508-bcf6-43db-9d4d-405a4564baee').text(' 26%');"
       ],
       "metadata": {},
       "output_type": "display_data",
       "text": [
        "<IPython.core.display.Javascript at 0x7fdf11f6b890>"
       ]
      },
      {
       "javascript": [
        "\n",
        "        var $myPB = $(\"div#9efa009e-1e31-430d-b70d-7930de400302\")\n",
        "        if ($myPB.hasClass('ui-progressbar')) {\n",
        "            $myPB.progressbar('value', 822);\n",
        "        } else {\n",
        "            $myPB.progressbar({value: 0, max: 3127});\n",
        "        }\n",
        "        "
       ],
       "metadata": {},
       "output_type": "display_data",
       "text": [
        "<IPython.core.display.Javascript at 0x7fdf11f82910>"
       ]
      },
      {
       "javascript": [
        "$('div#88edccd4-e38b-4215-a66a-706e4d223113').text('ETA:  0:02:50');"
       ],
       "metadata": {},
       "output_type": "display_data",
       "text": [
        "<IPython.core.display.Javascript at 0x7fdf11f82fd0>"
       ]
      },
      {
       "javascript": [
        "$('div#0ce4b508-bcf6-43db-9d4d-405a4564baee').text(' 27%');"
       ],
       "metadata": {},
       "output_type": "display_data",
       "text": [
        "<IPython.core.display.Javascript at 0x7fdf120e9f50>"
       ]
      },
      {
       "javascript": [
        "\n",
        "        var $myPB = $(\"div#9efa009e-1e31-430d-b70d-7930de400302\")\n",
        "        if ($myPB.hasClass('ui-progressbar')) {\n",
        "            $myPB.progressbar('value', 846);\n",
        "        } else {\n",
        "            $myPB.progressbar({value: 0, max: 3127});\n",
        "        }\n",
        "        "
       ],
       "metadata": {},
       "output_type": "display_data",
       "text": [
        "<IPython.core.display.Javascript at 0x7fdf11f78290>"
       ]
      },
      {
       "javascript": [
        "$('div#88edccd4-e38b-4215-a66a-706e4d223113').text('ETA:  0:02:47');"
       ],
       "metadata": {},
       "output_type": "display_data",
       "text": [
        "<IPython.core.display.Javascript at 0x7fdf11f73bd0>"
       ]
      },
      {
       "javascript": [
        "$('div#0ce4b508-bcf6-43db-9d4d-405a4564baee').text(' 27%');"
       ],
       "metadata": {},
       "output_type": "display_data",
       "text": [
        "<IPython.core.display.Javascript at 0x7fdf120e95d0>"
       ]
      },
      {
       "javascript": [
        "\n",
        "        var $myPB = $(\"div#9efa009e-1e31-430d-b70d-7930de400302\")\n",
        "        if ($myPB.hasClass('ui-progressbar')) {\n",
        "            $myPB.progressbar('value', 856);\n",
        "        } else {\n",
        "            $myPB.progressbar({value: 0, max: 3127});\n",
        "        }\n",
        "        "
       ],
       "metadata": {},
       "output_type": "display_data",
       "text": [
        "<IPython.core.display.Javascript at 0x7fdf120e9690>"
       ]
      },
      {
       "javascript": [
        "$('div#88edccd4-e38b-4215-a66a-706e4d223113').text('ETA:  0:02:47');"
       ],
       "metadata": {},
       "output_type": "display_data",
       "text": [
        "<IPython.core.display.Javascript at 0x7fdf11f83bd0>"
       ]
      },
      {
       "javascript": [
        "$('div#0ce4b508-bcf6-43db-9d4d-405a4564baee').text(' 27%');"
       ],
       "metadata": {},
       "output_type": "display_data",
       "text": [
        "<IPython.core.display.Javascript at 0x7fdf120dec90>"
       ]
      },
      {
       "javascript": [
        "\n",
        "        var $myPB = $(\"div#9efa009e-1e31-430d-b70d-7930de400302\")\n",
        "        if ($myPB.hasClass('ui-progressbar')) {\n",
        "            $myPB.progressbar('value', 871);\n",
        "        } else {\n",
        "            $myPB.progressbar({value: 0, max: 3127});\n",
        "        }\n",
        "        "
       ],
       "metadata": {},
       "output_type": "display_data",
       "text": [
        "<IPython.core.display.Javascript at 0x7fdf11f7b390>"
       ]
      },
      {
       "javascript": [
        "$('div#88edccd4-e38b-4215-a66a-706e4d223113').text('ETA:  0:02:45');"
       ],
       "metadata": {},
       "output_type": "display_data",
       "text": [
        "<IPython.core.display.Javascript at 0x7fdf11f7b550>"
       ]
      },
      {
       "javascript": [
        "$('div#0ce4b508-bcf6-43db-9d4d-405a4564baee').text(' 28%');"
       ],
       "metadata": {},
       "output_type": "display_data",
       "text": [
        "<IPython.core.display.Javascript at 0x7fdf11f53690>"
       ]
      },
      {
       "javascript": [
        "\n",
        "        var $myPB = $(\"div#9efa009e-1e31-430d-b70d-7930de400302\")\n",
        "        if ($myPB.hasClass('ui-progressbar')) {\n",
        "            $myPB.progressbar('value', 883);\n",
        "        } else {\n",
        "            $myPB.progressbar({value: 0, max: 3127});\n",
        "        }\n",
        "        "
       ],
       "metadata": {},
       "output_type": "display_data",
       "text": [
        "<IPython.core.display.Javascript at 0x7fdf11f56ad0>"
       ]
      },
      {
       "javascript": [
        "$('div#88edccd4-e38b-4215-a66a-706e4d223113').text('ETA:  0:02:45');"
       ],
       "metadata": {},
       "output_type": "display_data",
       "text": [
        "<IPython.core.display.Javascript at 0x7fdf11f56e50>"
       ]
      },
      {
       "javascript": [
        "$('div#0ce4b508-bcf6-43db-9d4d-405a4564baee').text(' 28%');"
       ],
       "metadata": {},
       "output_type": "display_data",
       "text": [
        "<IPython.core.display.Javascript at 0x7fdf120f17d0>"
       ]
      },
      {
       "javascript": [
        "\n",
        "        var $myPB = $(\"div#9efa009e-1e31-430d-b70d-7930de400302\")\n",
        "        if ($myPB.hasClass('ui-progressbar')) {\n",
        "            $myPB.progressbar('value', 906);\n",
        "        } else {\n",
        "            $myPB.progressbar({value: 0, max: 3127});\n",
        "        }\n",
        "        "
       ],
       "metadata": {},
       "output_type": "display_data",
       "text": [
        "<IPython.core.display.Javascript at 0x7fdf11f56790>"
       ]
      },
      {
       "javascript": [
        "$('div#88edccd4-e38b-4215-a66a-706e4d223113').text('ETA:  0:02:48');"
       ],
       "metadata": {},
       "output_type": "display_data",
       "text": [
        "<IPython.core.display.Javascript at 0x7fdf11f56e10>"
       ]
      },
      {
       "javascript": [
        "$('div#0ce4b508-bcf6-43db-9d4d-405a4564baee').text(' 29%');"
       ],
       "metadata": {},
       "output_type": "display_data",
       "text": [
        "<IPython.core.display.Javascript at 0x7fdf120e3b50>"
       ]
      },
      {
       "javascript": [
        "\n",
        "        var $myPB = $(\"div#9efa009e-1e31-430d-b70d-7930de400302\")\n",
        "        if ($myPB.hasClass('ui-progressbar')) {\n",
        "            $myPB.progressbar('value', 918);\n",
        "        } else {\n",
        "            $myPB.progressbar({value: 0, max: 3127});\n",
        "        }\n",
        "        "
       ],
       "metadata": {},
       "output_type": "display_data",
       "text": [
        "<IPython.core.display.Javascript at 0x7fdf11f78850>"
       ]
      },
      {
       "javascript": [
        "$('div#88edccd4-e38b-4215-a66a-706e4d223113').text('ETA:  0:02:47');"
       ],
       "metadata": {},
       "output_type": "display_data",
       "text": [
        "<IPython.core.display.Javascript at 0x7fdf11f78b90>"
       ]
      },
      {
       "javascript": [
        "$('div#0ce4b508-bcf6-43db-9d4d-405a4564baee').text(' 29%');"
       ],
       "metadata": {},
       "output_type": "display_data",
       "text": [
        "<IPython.core.display.Javascript at 0x7fdf120dec90>"
       ]
      },
      {
       "javascript": [
        "\n",
        "        var $myPB = $(\"div#9efa009e-1e31-430d-b70d-7930de400302\")\n",
        "        if ($myPB.hasClass('ui-progressbar')) {\n",
        "            $myPB.progressbar('value', 929);\n",
        "        } else {\n",
        "            $myPB.progressbar({value: 0, max: 3127});\n",
        "        }\n",
        "        "
       ],
       "metadata": {},
       "output_type": "display_data",
       "text": [
        "<IPython.core.display.Javascript at 0x7fdf11f83590>"
       ]
      },
      {
       "javascript": [
        "$('div#88edccd4-e38b-4215-a66a-706e4d223113').text('ETA:  0:02:47');"
       ],
       "metadata": {},
       "output_type": "display_data",
       "text": [
        "<IPython.core.display.Javascript at 0x7fdf11f8ced0>"
       ]
      },
      {
       "javascript": [
        "$('div#0ce4b508-bcf6-43db-9d4d-405a4564baee').text(' 30%');"
       ],
       "metadata": {},
       "output_type": "display_data",
       "text": [
        "<IPython.core.display.Javascript at 0x7fdf11f50710>"
       ]
      },
      {
       "javascript": [
        "\n",
        "        var $myPB = $(\"div#9efa009e-1e31-430d-b70d-7930de400302\")\n",
        "        if ($myPB.hasClass('ui-progressbar')) {\n",
        "            $myPB.progressbar('value', 956);\n",
        "        } else {\n",
        "            $myPB.progressbar({value: 0, max: 3127});\n",
        "        }\n",
        "        "
       ],
       "metadata": {},
       "output_type": "display_data",
       "text": [
        "<IPython.core.display.Javascript at 0x7fdf11f50a50>"
       ]
      },
      {
       "javascript": [
        "$('div#88edccd4-e38b-4215-a66a-706e4d223113').text('ETA:  0:02:43');"
       ],
       "metadata": {},
       "output_type": "display_data",
       "text": [
        "<IPython.core.display.Javascript at 0x7fdf11f5d950>"
       ]
      },
      {
       "javascript": [
        "$('div#0ce4b508-bcf6-43db-9d4d-405a4564baee').text(' 31%');"
       ],
       "metadata": {},
       "output_type": "display_data",
       "text": [
        "<IPython.core.display.Javascript at 0x7fdf120dec90>"
       ]
      },
      {
       "javascript": [
        "\n",
        "        var $myPB = $(\"div#9efa009e-1e31-430d-b70d-7930de400302\")\n",
        "        if ($myPB.hasClass('ui-progressbar')) {\n",
        "            $myPB.progressbar('value', 972);\n",
        "        } else {\n",
        "            $myPB.progressbar({value: 0, max: 3127});\n",
        "        }\n",
        "        "
       ],
       "metadata": {},
       "output_type": "display_data",
       "text": [
        "<IPython.core.display.Javascript at 0x7fdf120d6310>"
       ]
      },
      {
       "javascript": [
        "$('div#88edccd4-e38b-4215-a66a-706e4d223113').text('ETA:  0:02:42');"
       ],
       "metadata": {},
       "output_type": "display_data",
       "text": [
        "<IPython.core.display.Javascript at 0x7fdf11f5de50>"
       ]
      },
      {
       "javascript": [
        "$('div#0ce4b508-bcf6-43db-9d4d-405a4564baee').text(' 31%');"
       ],
       "metadata": {},
       "output_type": "display_data",
       "text": [
        "<IPython.core.display.Javascript at 0x7fdf120d6310>"
       ]
      },
      {
       "javascript": [
        "\n",
        "        var $myPB = $(\"div#9efa009e-1e31-430d-b70d-7930de400302\")\n",
        "        if ($myPB.hasClass('ui-progressbar')) {\n",
        "            $myPB.progressbar('value', 983);\n",
        "        } else {\n",
        "            $myPB.progressbar({value: 0, max: 3127});\n",
        "        }\n",
        "        "
       ],
       "metadata": {},
       "output_type": "display_data",
       "text": [
        "<IPython.core.display.Javascript at 0x7fdf11f8ced0>"
       ]
      },
      {
       "javascript": [
        "$('div#88edccd4-e38b-4215-a66a-706e4d223113').text('ETA:  0:02:42');"
       ],
       "metadata": {},
       "output_type": "display_data",
       "text": [
        "<IPython.core.display.Javascript at 0x7fdf120dec90>"
       ]
      },
      {
       "javascript": [
        "$('div#0ce4b508-bcf6-43db-9d4d-405a4564baee').text(' 31%');"
       ],
       "metadata": {},
       "output_type": "display_data",
       "text": [
        "<IPython.core.display.Javascript at 0x7fdf11f7be50>"
       ]
      },
      {
       "javascript": [
        "\n",
        "        var $myPB = $(\"div#9efa009e-1e31-430d-b70d-7930de400302\")\n",
        "        if ($myPB.hasClass('ui-progressbar')) {\n",
        "            $myPB.progressbar('value', 996);\n",
        "        } else {\n",
        "            $myPB.progressbar({value: 0, max: 3127});\n",
        "        }\n",
        "        "
       ],
       "metadata": {},
       "output_type": "display_data",
       "text": [
        "<IPython.core.display.Javascript at 0x7fdf11f7b810>"
       ]
      },
      {
       "javascript": [
        "$('div#88edccd4-e38b-4215-a66a-706e4d223113').text('ETA:  0:02:41');"
       ],
       "metadata": {},
       "output_type": "display_data",
       "text": [
        "<IPython.core.display.Javascript at 0x7fdf120e3b50>"
       ]
      },
      {
       "javascript": [
        "$('div#0ce4b508-bcf6-43db-9d4d-405a4564baee').text(' 32%');"
       ],
       "metadata": {},
       "output_type": "display_data",
       "text": [
        "<IPython.core.display.Javascript at 0x7fdf11f536d0>"
       ]
      },
      {
       "javascript": [
        "\n",
        "        var $myPB = $(\"div#9efa009e-1e31-430d-b70d-7930de400302\")\n",
        "        if ($myPB.hasClass('ui-progressbar')) {\n",
        "            $myPB.progressbar('value', 1011);\n",
        "        } else {\n",
        "            $myPB.progressbar({value: 0, max: 3127});\n",
        "        }\n",
        "        "
       ],
       "metadata": {},
       "output_type": "display_data",
       "text": [
        "<IPython.core.display.Javascript at 0x7fdf11f539d0>"
       ]
      },
      {
       "javascript": [
        "$('div#88edccd4-e38b-4215-a66a-706e4d223113').text('ETA:  0:02:40');"
       ],
       "metadata": {},
       "output_type": "display_data",
       "text": [
        "<IPython.core.display.Javascript at 0x7fdf120dec90>"
       ]
      },
      {
       "javascript": [
        "$('div#0ce4b508-bcf6-43db-9d4d-405a4564baee').text(' 32%');"
       ],
       "metadata": {},
       "output_type": "display_data",
       "text": [
        "<IPython.core.display.Javascript at 0x7fdf120d6310>"
       ]
      },
      {
       "javascript": [
        "\n",
        "        var $myPB = $(\"div#9efa009e-1e31-430d-b70d-7930de400302\")\n",
        "        if ($myPB.hasClass('ui-progressbar')) {\n",
        "            $myPB.progressbar('value', 1019);\n",
        "        } else {\n",
        "            $myPB.progressbar({value: 0, max: 3127});\n",
        "        }\n",
        "        "
       ],
       "metadata": {},
       "output_type": "display_data",
       "text": [
        "<IPython.core.display.Javascript at 0x7fdf11f78850>"
       ]
      },
      {
       "javascript": [
        "$('div#88edccd4-e38b-4215-a66a-706e4d223113').text('ETA:  0:02:40');"
       ],
       "metadata": {},
       "output_type": "display_data",
       "text": [
        "<IPython.core.display.Javascript at 0x7fdf11f70210>"
       ]
      },
      {
       "javascript": [
        "$('div#0ce4b508-bcf6-43db-9d4d-405a4564baee').text(' 32%');"
       ],
       "metadata": {},
       "output_type": "display_data",
       "text": [
        "<IPython.core.display.Javascript at 0x7fdf11f51890>"
       ]
      },
      {
       "javascript": [
        "\n",
        "        var $myPB = $(\"div#9efa009e-1e31-430d-b70d-7930de400302\")\n",
        "        if ($myPB.hasClass('ui-progressbar')) {\n",
        "            $myPB.progressbar('value', 1026);\n",
        "        } else {\n",
        "            $myPB.progressbar({value: 0, max: 3127});\n",
        "        }\n",
        "        "
       ],
       "metadata": {},
       "output_type": "display_data",
       "text": [
        "<IPython.core.display.Javascript at 0x7fdf11f633d0>"
       ]
      },
      {
       "javascript": [
        "$('div#88edccd4-e38b-4215-a66a-706e4d223113').text('ETA:  0:02:42');"
       ],
       "metadata": {},
       "output_type": "display_data",
       "text": [
        "<IPython.core.display.Javascript at 0x7fdf11f74b10>"
       ]
      },
      {
       "javascript": [
        "$('div#0ce4b508-bcf6-43db-9d4d-405a4564baee').text(' 33%');"
       ],
       "metadata": {},
       "output_type": "display_data",
       "text": [
        "<IPython.core.display.Javascript at 0x7fdf120d6310>"
       ]
      },
      {
       "javascript": [
        "\n",
        "        var $myPB = $(\"div#9efa009e-1e31-430d-b70d-7930de400302\")\n",
        "        if ($myPB.hasClass('ui-progressbar')) {\n",
        "            $myPB.progressbar('value', 1040);\n",
        "        } else {\n",
        "            $myPB.progressbar({value: 0, max: 3127});\n",
        "        }\n",
        "        "
       ],
       "metadata": {},
       "output_type": "display_data",
       "text": [
        "<IPython.core.display.Javascript at 0x7fdf11f71210>"
       ]
      },
      {
       "javascript": [
        "$('div#88edccd4-e38b-4215-a66a-706e4d223113').text('ETA:  0:02:41');"
       ],
       "metadata": {},
       "output_type": "display_data",
       "text": [
        "<IPython.core.display.Javascript at 0x7fdf11f71350>"
       ]
      },
      {
       "javascript": [
        "$('div#0ce4b508-bcf6-43db-9d4d-405a4564baee').text(' 33%');"
       ],
       "metadata": {},
       "output_type": "display_data",
       "text": [
        "<IPython.core.display.Javascript at 0x7fdf11f7e110>"
       ]
      },
      {
       "javascript": [
        "\n",
        "        var $myPB = $(\"div#9efa009e-1e31-430d-b70d-7930de400302\")\n",
        "        if ($myPB.hasClass('ui-progressbar')) {\n",
        "            $myPB.progressbar('value', 1043);\n",
        "        } else {\n",
        "            $myPB.progressbar({value: 0, max: 3127});\n",
        "        }\n",
        "        "
       ],
       "metadata": {},
       "output_type": "display_data",
       "text": [
        "<IPython.core.display.Javascript at 0x7fdf11f74b10>"
       ]
      },
      {
       "javascript": [
        "$('div#88edccd4-e38b-4215-a66a-706e4d223113').text('ETA:  0:02:42');"
       ],
       "metadata": {},
       "output_type": "display_data",
       "text": [
        "<IPython.core.display.Javascript at 0x7fdf11f82410>"
       ]
      },
      {
       "javascript": [
        "$('div#0ce4b508-bcf6-43db-9d4d-405a4564baee').text(' 33%');"
       ],
       "metadata": {},
       "output_type": "display_data",
       "text": [
        "<IPython.core.display.Javascript at 0x7fdf11f7e110>"
       ]
      },
      {
       "javascript": [
        "\n",
        "        var $myPB = $(\"div#9efa009e-1e31-430d-b70d-7930de400302\")\n",
        "        if ($myPB.hasClass('ui-progressbar')) {\n",
        "            $myPB.progressbar('value', 1050);\n",
        "        } else {\n",
        "            $myPB.progressbar({value: 0, max: 3127});\n",
        "        }\n",
        "        "
       ],
       "metadata": {},
       "output_type": "display_data",
       "text": [
        "<IPython.core.display.Javascript at 0x7fdf11f65090>"
       ]
      },
      {
       "javascript": [
        "$('div#88edccd4-e38b-4215-a66a-706e4d223113').text('ETA:  0:02:43');"
       ],
       "metadata": {},
       "output_type": "display_data",
       "text": [
        "<IPython.core.display.Javascript at 0x7fdf11f7bf10>"
       ]
      },
      {
       "javascript": [
        "$('div#0ce4b508-bcf6-43db-9d4d-405a4564baee').text(' 34%');"
       ],
       "metadata": {},
       "output_type": "display_data",
       "text": [
        "<IPython.core.display.Javascript at 0x7fdf120e95d0>"
       ]
      },
      {
       "javascript": [
        "\n",
        "        var $myPB = $(\"div#9efa009e-1e31-430d-b70d-7930de400302\")\n",
        "        if ($myPB.hasClass('ui-progressbar')) {\n",
        "            $myPB.progressbar('value', 1067);\n",
        "        } else {\n",
        "            $myPB.progressbar({value: 0, max: 3127});\n",
        "        }\n",
        "        "
       ],
       "metadata": {},
       "output_type": "display_data",
       "text": [
        "<IPython.core.display.Javascript at 0x7fdf11f7b810>"
       ]
      },
      {
       "javascript": [
        "$('div#88edccd4-e38b-4215-a66a-706e4d223113').text('ETA:  0:02:41');"
       ],
       "metadata": {},
       "output_type": "display_data",
       "text": [
        "<IPython.core.display.Javascript at 0x7fdf11f70890>"
       ]
      },
      {
       "javascript": [
        "$('div#0ce4b508-bcf6-43db-9d4d-405a4564baee').text(' 34%');"
       ],
       "metadata": {},
       "output_type": "display_data",
       "text": [
        "<IPython.core.display.Javascript at 0x7fdf11f732d0>"
       ]
      },
      {
       "javascript": [
        "\n",
        "        var $myPB = $(\"div#9efa009e-1e31-430d-b70d-7930de400302\")\n",
        "        if ($myPB.hasClass('ui-progressbar')) {\n",
        "            $myPB.progressbar('value', 1078);\n",
        "        } else {\n",
        "            $myPB.progressbar({value: 0, max: 3127});\n",
        "        }\n",
        "        "
       ],
       "metadata": {},
       "output_type": "display_data",
       "text": [
        "<IPython.core.display.Javascript at 0x7fdf11f73750>"
       ]
      },
      {
       "javascript": [
        "$('div#88edccd4-e38b-4215-a66a-706e4d223113').text('ETA:  0:02:41');"
       ],
       "metadata": {},
       "output_type": "display_data",
       "text": [
        "<IPython.core.display.Javascript at 0x7fdf11f73950>"
       ]
      },
      {
       "javascript": [
        "$('div#0ce4b508-bcf6-43db-9d4d-405a4564baee').text(' 35%');"
       ],
       "metadata": {},
       "output_type": "display_data",
       "text": [
        "<IPython.core.display.Javascript at 0x7fdf11f74b10>"
       ]
      },
      {
       "javascript": [
        "\n",
        "        var $myPB = $(\"div#9efa009e-1e31-430d-b70d-7930de400302\")\n",
        "        if ($myPB.hasClass('ui-progressbar')) {\n",
        "            $myPB.progressbar('value', 1097);\n",
        "        } else {\n",
        "            $myPB.progressbar({value: 0, max: 3127});\n",
        "        }\n",
        "        "
       ],
       "metadata": {},
       "output_type": "display_data",
       "text": [
        "<IPython.core.display.Javascript at 0x7fdf11f73590>"
       ]
      },
      {
       "javascript": [
        "$('div#88edccd4-e38b-4215-a66a-706e4d223113').text('ETA:  0:02:39');"
       ],
       "metadata": {},
       "output_type": "display_data",
       "text": [
        "<IPython.core.display.Javascript at 0x7fdf11f8ced0>"
       ]
      },
      {
       "javascript": [
        "$('div#0ce4b508-bcf6-43db-9d4d-405a4564baee').text(' 35%');"
       ],
       "metadata": {},
       "output_type": "display_data",
       "text": [
        "<IPython.core.display.Javascript at 0x7fdf11f65390>"
       ]
      },
      {
       "javascript": [
        "\n",
        "        var $myPB = $(\"div#9efa009e-1e31-430d-b70d-7930de400302\")\n",
        "        if ($myPB.hasClass('ui-progressbar')) {\n",
        "            $myPB.progressbar('value', 1105);\n",
        "        } else {\n",
        "            $myPB.progressbar({value: 0, max: 3127});\n",
        "        }\n",
        "        "
       ],
       "metadata": {},
       "output_type": "display_data",
       "text": [
        "<IPython.core.display.Javascript at 0x7fdf11f82ad0>"
       ]
      },
      {
       "javascript": [
        "$('div#88edccd4-e38b-4215-a66a-706e4d223113').text('ETA:  0:02:39');"
       ],
       "metadata": {},
       "output_type": "display_data",
       "text": [
        "<IPython.core.display.Javascript at 0x7fdf120e95d0>"
       ]
      },
      {
       "javascript": [
        "$('div#0ce4b508-bcf6-43db-9d4d-405a4564baee').text(' 35%');"
       ],
       "metadata": {},
       "output_type": "display_data",
       "text": [
        "<IPython.core.display.Javascript at 0x7fdf11f7b6d0>"
       ]
      },
      {
       "javascript": [
        "\n",
        "        var $myPB = $(\"div#9efa009e-1e31-430d-b70d-7930de400302\")\n",
        "        if ($myPB.hasClass('ui-progressbar')) {\n",
        "            $myPB.progressbar('value', 1111);\n",
        "        } else {\n",
        "            $myPB.progressbar({value: 0, max: 3127});\n",
        "        }\n",
        "        "
       ],
       "metadata": {},
       "output_type": "display_data",
       "text": [
        "<IPython.core.display.Javascript at 0x7fdf11f7e110>"
       ]
      },
      {
       "javascript": [
        "$('div#88edccd4-e38b-4215-a66a-706e4d223113').text('ETA:  0:02:40');"
       ],
       "metadata": {},
       "output_type": "display_data",
       "text": [
        "<IPython.core.display.Javascript at 0x7fdf11f82ad0>"
       ]
      },
      {
       "javascript": [
        "$('div#0ce4b508-bcf6-43db-9d4d-405a4564baee').text(' 36%');"
       ],
       "metadata": {},
       "output_type": "display_data",
       "text": [
        "<IPython.core.display.Javascript at 0x7fdf11f552d0>"
       ]
      },
      {
       "javascript": [
        "\n",
        "        var $myPB = $(\"div#9efa009e-1e31-430d-b70d-7930de400302\")\n",
        "        if ($myPB.hasClass('ui-progressbar')) {\n",
        "            $myPB.progressbar('value', 1128);\n",
        "        } else {\n",
        "            $myPB.progressbar({value: 0, max: 3127});\n",
        "        }\n",
        "        "
       ],
       "metadata": {},
       "output_type": "display_data",
       "text": [
        "<IPython.core.display.Javascript at 0x7fdf11f78b90>"
       ]
      },
      {
       "javascript": [
        "$('div#88edccd4-e38b-4215-a66a-706e4d223113').text('ETA:  0:02:39');"
       ],
       "metadata": {},
       "output_type": "display_data",
       "text": [
        "<IPython.core.display.Javascript at 0x7fdf11f713d0>"
       ]
      },
      {
       "javascript": [
        "$('div#0ce4b508-bcf6-43db-9d4d-405a4564baee').text(' 36%');"
       ],
       "metadata": {},
       "output_type": "display_data",
       "text": [
        "<IPython.core.display.Javascript at 0x7fdf11f519d0>"
       ]
      },
      {
       "javascript": [
        "\n",
        "        var $myPB = $(\"div#9efa009e-1e31-430d-b70d-7930de400302\")\n",
        "        if ($myPB.hasClass('ui-progressbar')) {\n",
        "            $myPB.progressbar('value', 1148);\n",
        "        } else {\n",
        "            $myPB.progressbar({value: 0, max: 3127});\n",
        "        }\n",
        "        "
       ],
       "metadata": {},
       "output_type": "display_data",
       "text": [
        "<IPython.core.display.Javascript at 0x7fdf120d6310>"
       ]
      },
      {
       "javascript": [
        "$('div#88edccd4-e38b-4215-a66a-706e4d223113').text('ETA:  0:02:36');"
       ],
       "metadata": {},
       "output_type": "display_data",
       "text": [
        "<IPython.core.display.Javascript at 0x7fdf11f506d0>"
       ]
      },
      {
       "javascript": [
        "$('div#0ce4b508-bcf6-43db-9d4d-405a4564baee').text(' 37%');"
       ],
       "metadata": {},
       "output_type": "display_data",
       "text": [
        "<IPython.core.display.Javascript at 0x7fdf120d6310>"
       ]
      },
      {
       "javascript": [
        "\n",
        "        var $myPB = $(\"div#9efa009e-1e31-430d-b70d-7930de400302\")\n",
        "        if ($myPB.hasClass('ui-progressbar')) {\n",
        "            $myPB.progressbar('value', 1167);\n",
        "        } else {\n",
        "            $myPB.progressbar({value: 0, max: 3127});\n",
        "        }\n",
        "        "
       ],
       "metadata": {},
       "output_type": "display_data",
       "text": [
        "<IPython.core.display.Javascript at 0x7fdf2270c190>"
       ]
      },
      {
       "javascript": [
        "$('div#88edccd4-e38b-4215-a66a-706e4d223113').text('ETA:  0:02:34');"
       ],
       "metadata": {},
       "output_type": "display_data",
       "text": [
        "<IPython.core.display.Javascript at 0x7fdf2270cad0>"
       ]
      },
      {
       "javascript": [
        "$('div#0ce4b508-bcf6-43db-9d4d-405a4564baee').text(' 37%');"
       ],
       "metadata": {},
       "output_type": "display_data",
       "text": [
        "<IPython.core.display.Javascript at 0x7fdf11f552d0>"
       ]
      },
      {
       "javascript": [
        "\n",
        "        var $myPB = $(\"div#9efa009e-1e31-430d-b70d-7930de400302\")\n",
        "        if ($myPB.hasClass('ui-progressbar')) {\n",
        "            $myPB.progressbar('value', 1180);\n",
        "        } else {\n",
        "            $myPB.progressbar({value: 0, max: 3127});\n",
        "        }\n",
        "        "
       ],
       "metadata": {},
       "output_type": "display_data",
       "text": [
        "<IPython.core.display.Javascript at 0x7fdf11f5da90>"
       ]
      },
      {
       "javascript": [
        "$('div#88edccd4-e38b-4215-a66a-706e4d223113').text('ETA:  0:02:33');"
       ],
       "metadata": {},
       "output_type": "display_data",
       "text": [
        "<IPython.core.display.Javascript at 0x7fdf11f73750>"
       ]
      },
      {
       "javascript": [
        "$('div#0ce4b508-bcf6-43db-9d4d-405a4564baee').text(' 38%');"
       ],
       "metadata": {},
       "output_type": "display_data",
       "text": [
        "<IPython.core.display.Javascript at 0x7fdf11f73510>"
       ]
      },
      {
       "javascript": [
        "\n",
        "        var $myPB = $(\"div#9efa009e-1e31-430d-b70d-7930de400302\")\n",
        "        if ($myPB.hasClass('ui-progressbar')) {\n",
        "            $myPB.progressbar('value', 1198);\n",
        "        } else {\n",
        "            $myPB.progressbar({value: 0, max: 3127});\n",
        "        }\n",
        "        "
       ],
       "metadata": {},
       "output_type": "display_data",
       "text": [
        "<IPython.core.display.Javascript at 0x7fdf11f73750>"
       ]
      },
      {
       "javascript": [
        "$('div#88edccd4-e38b-4215-a66a-706e4d223113').text('ETA:  0:02:31');"
       ],
       "metadata": {},
       "output_type": "display_data",
       "text": [
        "<IPython.core.display.Javascript at 0x7fdf11f70690>"
       ]
      },
      {
       "javascript": [
        "$('div#0ce4b508-bcf6-43db-9d4d-405a4564baee').text(' 38%');"
       ],
       "metadata": {},
       "output_type": "display_data",
       "text": [
        "<IPython.core.display.Javascript at 0x7fdf11f5d3d0>"
       ]
      },
      {
       "javascript": [
        "\n",
        "        var $myPB = $(\"div#9efa009e-1e31-430d-b70d-7930de400302\")\n",
        "        if ($myPB.hasClass('ui-progressbar')) {\n",
        "            $myPB.progressbar('value', 1217);\n",
        "        } else {\n",
        "            $myPB.progressbar({value: 0, max: 3127});\n",
        "        }\n",
        "        "
       ],
       "metadata": {},
       "output_type": "display_data",
       "text": [
        "<IPython.core.display.Javascript at 0x7fdf11f7b6d0>"
       ]
      },
      {
       "javascript": [
        "$('div#88edccd4-e38b-4215-a66a-706e4d223113').text('ETA:  0:02:28');"
       ],
       "metadata": {},
       "output_type": "display_data",
       "text": [
        "<IPython.core.display.Javascript at 0x7fdf11f8d290>"
       ]
      },
      {
       "javascript": [
        "$('div#0ce4b508-bcf6-43db-9d4d-405a4564baee').text(' 39%');"
       ],
       "metadata": {},
       "output_type": "display_data",
       "text": [
        "<IPython.core.display.Javascript at 0x7fdf11f552d0>"
       ]
      },
      {
       "javascript": [
        "\n",
        "        var $myPB = $(\"div#9efa009e-1e31-430d-b70d-7930de400302\")\n",
        "        if ($myPB.hasClass('ui-progressbar')) {\n",
        "            $myPB.progressbar('value', 1234);\n",
        "        } else {\n",
        "            $myPB.progressbar({value: 0, max: 3127});\n",
        "        }\n",
        "        "
       ],
       "metadata": {},
       "output_type": "display_data",
       "text": [
        "<IPython.core.display.Javascript at 0x7fdf11f7e110>"
       ]
      },
      {
       "javascript": [
        "$('div#88edccd4-e38b-4215-a66a-706e4d223113').text('ETA:  0:02:27');"
       ],
       "metadata": {},
       "output_type": "display_data",
       "text": [
        "<IPython.core.display.Javascript at 0x7fdf2270e9d0>"
       ]
      },
      {
       "javascript": [
        "$('div#0ce4b508-bcf6-43db-9d4d-405a4564baee').text(' 39%');"
       ],
       "metadata": {},
       "output_type": "display_data",
       "text": [
        "<IPython.core.display.Javascript at 0x7fdf11f71810>"
       ]
      },
      {
       "javascript": [
        "\n",
        "        var $myPB = $(\"div#9efa009e-1e31-430d-b70d-7930de400302\")\n",
        "        if ($myPB.hasClass('ui-progressbar')) {\n",
        "            $myPB.progressbar('value', 1236);\n",
        "        } else {\n",
        "            $myPB.progressbar({value: 0, max: 3127});\n",
        "        }\n",
        "        "
       ],
       "metadata": {},
       "output_type": "display_data",
       "text": [
        "<IPython.core.display.Javascript at 0x7fdf11f71210>"
       ]
      },
      {
       "javascript": [
        "$('div#88edccd4-e38b-4215-a66a-706e4d223113').text('ETA:  0:02:30');"
       ],
       "metadata": {},
       "output_type": "display_data",
       "text": [
        "<IPython.core.display.Javascript at 0x7fdf11f71ad0>"
       ]
      },
      {
       "javascript": [
        "$('div#0ce4b508-bcf6-43db-9d4d-405a4564baee').text(' 39%');"
       ],
       "metadata": {},
       "output_type": "display_data",
       "text": [
        "<IPython.core.display.Javascript at 0x7fdf11f51b10>"
       ]
      },
      {
       "javascript": [
        "\n",
        "        var $myPB = $(\"div#9efa009e-1e31-430d-b70d-7930de400302\")\n",
        "        if ($myPB.hasClass('ui-progressbar')) {\n",
        "            $myPB.progressbar('value', 1247);\n",
        "        } else {\n",
        "            $myPB.progressbar({value: 0, max: 3127});\n",
        "        }\n",
        "        "
       ],
       "metadata": {},
       "output_type": "display_data",
       "text": [
        "<IPython.core.display.Javascript at 0x7fdf226d92d0>"
       ]
      },
      {
       "javascript": [
        "$('div#88edccd4-e38b-4215-a66a-706e4d223113').text('ETA:  0:02:30');"
       ],
       "metadata": {},
       "output_type": "display_data",
       "text": [
        "<IPython.core.display.Javascript at 0x7fdf226d9050>"
       ]
      },
      {
       "javascript": [
        "$('div#0ce4b508-bcf6-43db-9d4d-405a4564baee').text(' 40%');"
       ],
       "metadata": {},
       "output_type": "display_data",
       "text": [
        "<IPython.core.display.Javascript at 0x7fdf11f70210>"
       ]
      },
      {
       "javascript": [
        "\n",
        "        var $myPB = $(\"div#9efa009e-1e31-430d-b70d-7930de400302\")\n",
        "        if ($myPB.hasClass('ui-progressbar')) {\n",
        "            $myPB.progressbar('value', 1257);\n",
        "        } else {\n",
        "            $myPB.progressbar({value: 0, max: 3127});\n",
        "        }\n",
        "        "
       ],
       "metadata": {},
       "output_type": "display_data",
       "text": [
        "<IPython.core.display.Javascript at 0x7fdf11f70190>"
       ]
      },
      {
       "javascript": [
        "$('div#88edccd4-e38b-4215-a66a-706e4d223113').text('ETA:  0:02:29');"
       ],
       "metadata": {},
       "output_type": "display_data",
       "text": [
        "<IPython.core.display.Javascript at 0x7fdf226d9f50>"
       ]
      },
      {
       "javascript": [
        "$('div#0ce4b508-bcf6-43db-9d4d-405a4564baee').text(' 40%');"
       ],
       "metadata": {},
       "output_type": "display_data",
       "text": [
        "<IPython.core.display.Javascript at 0x7fdf11f6ced0>"
       ]
      },
      {
       "javascript": [
        "\n",
        "        var $myPB = $(\"div#9efa009e-1e31-430d-b70d-7930de400302\")\n",
        "        if ($myPB.hasClass('ui-progressbar')) {\n",
        "            $myPB.progressbar('value', 1271);\n",
        "        } else {\n",
        "            $myPB.progressbar({value: 0, max: 3127});\n",
        "        }\n",
        "        "
       ],
       "metadata": {},
       "output_type": "display_data",
       "text": [
        "<IPython.core.display.Javascript at 0x7fdf11f6ccd0>"
       ]
      },
      {
       "javascript": [
        "$('div#88edccd4-e38b-4215-a66a-706e4d223113').text('ETA:  0:02:28');"
       ],
       "metadata": {},
       "output_type": "display_data",
       "text": [
        "<IPython.core.display.Javascript at 0x7fdf11f7e110>"
       ]
      },
      {
       "javascript": [
        "$('div#0ce4b508-bcf6-43db-9d4d-405a4564baee').text(' 41%');"
       ],
       "metadata": {},
       "output_type": "display_data",
       "text": [
        "<IPython.core.display.Javascript at 0x7fdf11f7e110>"
       ]
      },
      {
       "javascript": [
        "\n",
        "        var $myPB = $(\"div#9efa009e-1e31-430d-b70d-7930de400302\")\n",
        "        if ($myPB.hasClass('ui-progressbar')) {\n",
        "            $myPB.progressbar('value', 1294);\n",
        "        } else {\n",
        "            $myPB.progressbar({value: 0, max: 3127});\n",
        "        }\n",
        "        "
       ],
       "metadata": {},
       "output_type": "display_data",
       "text": [
        "<IPython.core.display.Javascript at 0x7fdf226dab90>"
       ]
      },
      {
       "javascript": [
        "$('div#88edccd4-e38b-4215-a66a-706e4d223113').text('ETA:  0:02:25');"
       ],
       "metadata": {},
       "output_type": "display_data",
       "text": [
        "<IPython.core.display.Javascript at 0x7fdf2270ed50>"
       ]
      },
      {
       "javascript": [
        "$('div#0ce4b508-bcf6-43db-9d4d-405a4564baee').text(' 41%');"
       ],
       "metadata": {},
       "output_type": "display_data",
       "text": [
        "<IPython.core.display.Javascript at 0x7fdf11f71ad0>"
       ]
      },
      {
       "javascript": [
        "\n",
        "        var $myPB = $(\"div#9efa009e-1e31-430d-b70d-7930de400302\")\n",
        "        if ($myPB.hasClass('ui-progressbar')) {\n",
        "            $myPB.progressbar('value', 1311);\n",
        "        } else {\n",
        "            $myPB.progressbar({value: 0, max: 3127});\n",
        "        }\n",
        "        "
       ],
       "metadata": {},
       "output_type": "display_data",
       "text": [
        "<IPython.core.display.Javascript at 0x7fdf11f7b6d0>"
       ]
      },
      {
       "javascript": [
        "$('div#88edccd4-e38b-4215-a66a-706e4d223113').text('ETA:  0:02:23');"
       ],
       "metadata": {},
       "output_type": "display_data",
       "text": [
        "<IPython.core.display.Javascript at 0x7fdf11f6c1d0>"
       ]
      },
      {
       "javascript": [
        "$('div#0ce4b508-bcf6-43db-9d4d-405a4564baee').text(' 42%');"
       ],
       "metadata": {},
       "output_type": "display_data",
       "text": [
        "<IPython.core.display.Javascript at 0x7fdf11f71810>"
       ]
      },
      {
       "javascript": [
        "\n",
        "        var $myPB = $(\"div#9efa009e-1e31-430d-b70d-7930de400302\")\n",
        "        if ($myPB.hasClass('ui-progressbar')) {\n",
        "            $myPB.progressbar('value', 1333);\n",
        "        } else {\n",
        "            $myPB.progressbar({value: 0, max: 3127});\n",
        "        }\n",
        "        "
       ],
       "metadata": {},
       "output_type": "display_data",
       "text": [
        "<IPython.core.display.Javascript at 0x7fdf11f6ced0>"
       ]
      },
      {
       "javascript": [
        "$('div#88edccd4-e38b-4215-a66a-706e4d223113').text('ETA:  0:02:21');"
       ],
       "metadata": {},
       "output_type": "display_data",
       "text": [
        "<IPython.core.display.Javascript at 0x7fdf11f6ccd0>"
       ]
      },
      {
       "javascript": [
        "$('div#0ce4b508-bcf6-43db-9d4d-405a4564baee').text(' 42%');"
       ],
       "metadata": {},
       "output_type": "display_data",
       "text": [
        "<IPython.core.display.Javascript at 0x7fdf11f7e110>"
       ]
      },
      {
       "javascript": [
        "\n",
        "        var $myPB = $(\"div#9efa009e-1e31-430d-b70d-7930de400302\")\n",
        "        if ($myPB.hasClass('ui-progressbar')) {\n",
        "            $myPB.progressbar('value', 1340);\n",
        "        } else {\n",
        "            $myPB.progressbar({value: 0, max: 3127});\n",
        "        }\n",
        "        "
       ],
       "metadata": {},
       "output_type": "display_data",
       "text": [
        "<IPython.core.display.Javascript at 0x7fdf11f73590>"
       ]
      },
      {
       "javascript": [
        "$('div#88edccd4-e38b-4215-a66a-706e4d223113').text('ETA:  0:02:21');"
       ],
       "metadata": {},
       "output_type": "display_data",
       "text": [
        "<IPython.core.display.Javascript at 0x7fdf226dac50>"
       ]
      },
      {
       "javascript": [
        "$('div#0ce4b508-bcf6-43db-9d4d-405a4564baee').text(' 43%');"
       ],
       "metadata": {},
       "output_type": "display_data",
       "text": [
        "<IPython.core.display.Javascript at 0x7fdf2270ed50>"
       ]
      },
      {
       "javascript": [
        "\n",
        "        var $myPB = $(\"div#9efa009e-1e31-430d-b70d-7930de400302\")\n",
        "        if ($myPB.hasClass('ui-progressbar')) {\n",
        "            $myPB.progressbar('value', 1352);\n",
        "        } else {\n",
        "            $myPB.progressbar({value: 0, max: 3127});\n",
        "        }\n",
        "        "
       ],
       "metadata": {},
       "output_type": "display_data",
       "text": [
        "<IPython.core.display.Javascript at 0x7fdf11f71210>"
       ]
      },
      {
       "javascript": [
        "$('div#88edccd4-e38b-4215-a66a-706e4d223113').text('ETA:  0:02:20');"
       ],
       "metadata": {},
       "output_type": "display_data",
       "text": [
        "<IPython.core.display.Javascript at 0x7fdf11f6c1d0>"
       ]
      },
      {
       "javascript": [
        "$('div#0ce4b508-bcf6-43db-9d4d-405a4564baee').text(' 43%');"
       ],
       "metadata": {},
       "output_type": "display_data",
       "text": [
        "<IPython.core.display.Javascript at 0x7fdf11f73710>"
       ]
      },
      {
       "javascript": [
        "\n",
        "        var $myPB = $(\"div#9efa009e-1e31-430d-b70d-7930de400302\")\n",
        "        if ($myPB.hasClass('ui-progressbar')) {\n",
        "            $myPB.progressbar('value', 1371);\n",
        "        } else {\n",
        "            $myPB.progressbar({value: 0, max: 3127});\n",
        "        }\n",
        "        "
       ],
       "metadata": {},
       "output_type": "display_data",
       "text": [
        "<IPython.core.display.Javascript at 0x7fdf11f56550>"
       ]
      },
      {
       "javascript": [
        "$('div#88edccd4-e38b-4215-a66a-706e4d223113').text('ETA:  0:02:18');"
       ],
       "metadata": {},
       "output_type": "display_data",
       "text": [
        "<IPython.core.display.Javascript at 0x7fdf2270c610>"
       ]
      },
      {
       "javascript": [
        "$('div#0ce4b508-bcf6-43db-9d4d-405a4564baee').text(' 44%');"
       ],
       "metadata": {},
       "output_type": "display_data",
       "text": [
        "<IPython.core.display.Javascript at 0x7fdf226fc0d0>"
       ]
      },
      {
       "javascript": [
        "\n",
        "        var $myPB = $(\"div#9efa009e-1e31-430d-b70d-7930de400302\")\n",
        "        if ($myPB.hasClass('ui-progressbar')) {\n",
        "            $myPB.progressbar('value', 1388);\n",
        "        } else {\n",
        "            $myPB.progressbar({value: 0, max: 3127});\n",
        "        }\n",
        "        "
       ],
       "metadata": {},
       "output_type": "display_data",
       "text": [
        "<IPython.core.display.Javascript at 0x7fdf226fc350>"
       ]
      },
      {
       "javascript": [
        "$('div#88edccd4-e38b-4215-a66a-706e4d223113').text('ETA:  0:02:16');"
       ],
       "metadata": {},
       "output_type": "display_data",
       "text": [
        "<IPython.core.display.Javascript at 0x7fdf226fcc10>"
       ]
      },
      {
       "javascript": [
        "$('div#0ce4b508-bcf6-43db-9d4d-405a4564baee').text(' 45%');"
       ],
       "metadata": {},
       "output_type": "display_data",
       "text": [
        "<IPython.core.display.Javascript at 0x7fdf11f73050>"
       ]
      },
      {
       "javascript": [
        "\n",
        "        var $myPB = $(\"div#9efa009e-1e31-430d-b70d-7930de400302\")\n",
        "        if ($myPB.hasClass('ui-progressbar')) {\n",
        "            $myPB.progressbar('value', 1411);\n",
        "        } else {\n",
        "            $myPB.progressbar({value: 0, max: 3127});\n",
        "        }\n",
        "        "
       ],
       "metadata": {},
       "output_type": "display_data",
       "text": [
        "<IPython.core.display.Javascript at 0x7fdf226dab10>"
       ]
      },
      {
       "javascript": [
        "$('div#88edccd4-e38b-4215-a66a-706e4d223113').text('ETA:  0:02:14');"
       ],
       "metadata": {},
       "output_type": "display_data",
       "text": [
        "<IPython.core.display.Javascript at 0x7fdf11f6ced0>"
       ]
      },
      {
       "javascript": [
        "$('div#0ce4b508-bcf6-43db-9d4d-405a4564baee').text(' 45%');"
       ],
       "metadata": {},
       "output_type": "display_data",
       "text": [
        "<IPython.core.display.Javascript at 0x7fdf226d88d0>"
       ]
      },
      {
       "javascript": [
        "\n",
        "        var $myPB = $(\"div#9efa009e-1e31-430d-b70d-7930de400302\")\n",
        "        if ($myPB.hasClass('ui-progressbar')) {\n",
        "            $myPB.progressbar('value', 1433);\n",
        "        } else {\n",
        "            $myPB.progressbar({value: 0, max: 3127});\n",
        "        }\n",
        "        "
       ],
       "metadata": {},
       "output_type": "display_data",
       "text": [
        "<IPython.core.display.Javascript at 0x7fdf11f5d8d0>"
       ]
      },
      {
       "javascript": [
        "$('div#88edccd4-e38b-4215-a66a-706e4d223113').text('ETA:  0:02:12');"
       ],
       "metadata": {},
       "output_type": "display_data",
       "text": [
        "<IPython.core.display.Javascript at 0x7fdf11f5d2d0>"
       ]
      },
      {
       "javascript": [
        "$('div#0ce4b508-bcf6-43db-9d4d-405a4564baee').text(' 46%');"
       ],
       "metadata": {},
       "output_type": "display_data",
       "text": [
        "<IPython.core.display.Javascript at 0x7fdf11f6c1d0>"
       ]
      },
      {
       "javascript": [
        "\n",
        "        var $myPB = $(\"div#9efa009e-1e31-430d-b70d-7930de400302\")\n",
        "        if ($myPB.hasClass('ui-progressbar')) {\n",
        "            $myPB.progressbar('value', 1451);\n",
        "        } else {\n",
        "            $myPB.progressbar({value: 0, max: 3127});\n",
        "        }\n",
        "        "
       ],
       "metadata": {},
       "output_type": "display_data",
       "text": [
        "<IPython.core.display.Javascript at 0x7fdf2270a550>"
       ]
      },
      {
       "javascript": [
        "$('div#88edccd4-e38b-4215-a66a-706e4d223113').text('ETA:  0:02:10');"
       ],
       "metadata": {},
       "output_type": "display_data",
       "text": [
        "<IPython.core.display.Javascript at 0x7fdf2270a6d0>"
       ]
      },
      {
       "javascript": [
        "$('div#0ce4b508-bcf6-43db-9d4d-405a4564baee').text(' 46%');"
       ],
       "metadata": {},
       "output_type": "display_data",
       "text": [
        "<IPython.core.display.Javascript at 0x7fdf2270ed50>"
       ]
      },
      {
       "javascript": [
        "\n",
        "        var $myPB = $(\"div#9efa009e-1e31-430d-b70d-7930de400302\")\n",
        "        if ($myPB.hasClass('ui-progressbar')) {\n",
        "            $myPB.progressbar('value', 1463);\n",
        "        } else {\n",
        "            $myPB.progressbar({value: 0, max: 3127});\n",
        "        }\n",
        "        "
       ],
       "metadata": {},
       "output_type": "display_data",
       "text": [
        "<IPython.core.display.Javascript at 0x7fdf227098d0>"
       ]
      },
      {
       "javascript": [
        "$('div#88edccd4-e38b-4215-a66a-706e4d223113').text('ETA:  0:02:09');"
       ],
       "metadata": {},
       "output_type": "display_data",
       "text": [
        "<IPython.core.display.Javascript at 0x7fdf22709cd0>"
       ]
      },
      {
       "javascript": [
        "$('div#0ce4b508-bcf6-43db-9d4d-405a4564baee').text(' 47%');"
       ],
       "metadata": {},
       "output_type": "display_data",
       "text": [
        "<IPython.core.display.Javascript at 0x7fdf226d8d90>"
       ]
      },
      {
       "javascript": [
        "\n",
        "        var $myPB = $(\"div#9efa009e-1e31-430d-b70d-7930de400302\")\n",
        "        if ($myPB.hasClass('ui-progressbar')) {\n",
        "            $myPB.progressbar('value', 1474);\n",
        "        } else {\n",
        "            $myPB.progressbar({value: 0, max: 3127});\n",
        "        }\n",
        "        "
       ],
       "metadata": {},
       "output_type": "display_data",
       "text": [
        "<IPython.core.display.Javascript at 0x7fdf2270a7d0>"
       ]
      },
      {
       "javascript": [
        "$('div#88edccd4-e38b-4215-a66a-706e4d223113').text('ETA:  0:02:08');"
       ],
       "metadata": {},
       "output_type": "display_data",
       "text": [
        "<IPython.core.display.Javascript at 0x7fdf2270a3d0>"
       ]
      },
      {
       "javascript": [
        "$('div#0ce4b508-bcf6-43db-9d4d-405a4564baee').text(' 47%');"
       ],
       "metadata": {},
       "output_type": "display_data",
       "text": [
        "<IPython.core.display.Javascript at 0x7fdf11f5d090>"
       ]
      },
      {
       "javascript": [
        "\n",
        "        var $myPB = $(\"div#9efa009e-1e31-430d-b70d-7930de400302\")\n",
        "        if ($myPB.hasClass('ui-progressbar')) {\n",
        "            $myPB.progressbar('value', 1489);\n",
        "        } else {\n",
        "            $myPB.progressbar({value: 0, max: 3127});\n",
        "        }\n",
        "        "
       ],
       "metadata": {},
       "output_type": "display_data",
       "text": [
        "<IPython.core.display.Javascript at 0x7fdf226e0850>"
       ]
      },
      {
       "javascript": [
        "$('div#88edccd4-e38b-4215-a66a-706e4d223113').text('ETA:  0:02:09');"
       ],
       "metadata": {},
       "output_type": "display_data",
       "text": [
        "<IPython.core.display.Javascript at 0x7fdf226e0990>"
       ]
      },
      {
       "javascript": [
        "$('div#0ce4b508-bcf6-43db-9d4d-405a4564baee').text(' 48%');"
       ],
       "metadata": {},
       "output_type": "display_data",
       "text": [
        "<IPython.core.display.Javascript at 0x7fdf11f6c1d0>"
       ]
      },
      {
       "javascript": [
        "\n",
        "        var $myPB = $(\"div#9efa009e-1e31-430d-b70d-7930de400302\")\n",
        "        if ($myPB.hasClass('ui-progressbar')) {\n",
        "            $myPB.progressbar('value', 1501);\n",
        "        } else {\n",
        "            $myPB.progressbar({value: 0, max: 3127});\n",
        "        }\n",
        "        "
       ],
       "metadata": {},
       "output_type": "display_data",
       "text": [
        "<IPython.core.display.Javascript at 0x7fdf11f73710>"
       ]
      },
      {
       "javascript": [
        "$('div#88edccd4-e38b-4215-a66a-706e4d223113').text('ETA:  0:02:09');"
       ],
       "metadata": {},
       "output_type": "display_data",
       "text": [
        "<IPython.core.display.Javascript at 0x7fdf2270a590>"
       ]
      },
      {
       "javascript": [
        "$('div#0ce4b508-bcf6-43db-9d4d-405a4564baee').text(' 48%');"
       ],
       "metadata": {},
       "output_type": "display_data",
       "text": [
        "<IPython.core.display.Javascript at 0x7fdf226e9d10>"
       ]
      },
      {
       "javascript": [
        "\n",
        "        var $myPB = $(\"div#9efa009e-1e31-430d-b70d-7930de400302\")\n",
        "        if ($myPB.hasClass('ui-progressbar')) {\n",
        "            $myPB.progressbar('value', 1508);\n",
        "        } else {\n",
        "            $myPB.progressbar({value: 0, max: 3127});\n",
        "        }\n",
        "        "
       ],
       "metadata": {},
       "output_type": "display_data",
       "text": [
        "<IPython.core.display.Javascript at 0x7fdf11f70210>"
       ]
      },
      {
       "javascript": [
        "$('div#88edccd4-e38b-4215-a66a-706e4d223113').text('ETA:  0:02:09');"
       ],
       "metadata": {},
       "output_type": "display_data",
       "text": [
        "<IPython.core.display.Javascript at 0x7fdf11f8d890>"
       ]
      },
      {
       "javascript": [
        "$('div#0ce4b508-bcf6-43db-9d4d-405a4564baee').text(' 48%');"
       ],
       "metadata": {},
       "output_type": "display_data",
       "text": [
        "<IPython.core.display.Javascript at 0x7fdf226fc0d0>"
       ]
      },
      {
       "javascript": [
        "\n",
        "        var $myPB = $(\"div#9efa009e-1e31-430d-b70d-7930de400302\")\n",
        "        if ($myPB.hasClass('ui-progressbar')) {\n",
        "            $myPB.progressbar('value', 1529);\n",
        "        } else {\n",
        "            $myPB.progressbar({value: 0, max: 3127});\n",
        "        }\n",
        "        "
       ],
       "metadata": {},
       "output_type": "display_data",
       "text": [
        "<IPython.core.display.Javascript at 0x7fdf22705710>"
       ]
      },
      {
       "javascript": [
        "$('div#88edccd4-e38b-4215-a66a-706e4d223113').text('ETA:  0:02:06');"
       ],
       "metadata": {},
       "output_type": "display_data",
       "text": [
        "<IPython.core.display.Javascript at 0x7fdf227053d0>"
       ]
      },
      {
       "javascript": [
        "$('div#0ce4b508-bcf6-43db-9d4d-405a4564baee').text(' 49%');"
       ],
       "metadata": {},
       "output_type": "display_data",
       "text": [
        "<IPython.core.display.Javascript at 0x7fdf11f56550>"
       ]
      },
      {
       "javascript": [
        "\n",
        "        var $myPB = $(\"div#9efa009e-1e31-430d-b70d-7930de400302\")\n",
        "        if ($myPB.hasClass('ui-progressbar')) {\n",
        "            $myPB.progressbar('value', 1545);\n",
        "        } else {\n",
        "            $myPB.progressbar({value: 0, max: 3127});\n",
        "        }\n",
        "        "
       ],
       "metadata": {},
       "output_type": "display_data",
       "text": [
        "<IPython.core.display.Javascript at 0x7fdf11f70f90>"
       ]
      },
      {
       "javascript": [
        "$('div#88edccd4-e38b-4215-a66a-706e4d223113').text('ETA:  0:02:05');"
       ],
       "metadata": {},
       "output_type": "display_data",
       "text": [
        "<IPython.core.display.Javascript at 0x7fdf226ec6d0>"
       ]
      },
      {
       "javascript": [
        "$('div#0ce4b508-bcf6-43db-9d4d-405a4564baee').text(' 49%');"
       ],
       "metadata": {},
       "output_type": "display_data",
       "text": [
        "<IPython.core.display.Javascript at 0x7fdf226d8ed0>"
       ]
      },
      {
       "javascript": [
        "\n",
        "        var $myPB = $(\"div#9efa009e-1e31-430d-b70d-7930de400302\")\n",
        "        if ($myPB.hasClass('ui-progressbar')) {\n",
        "            $myPB.progressbar('value', 1548);\n",
        "        } else {\n",
        "            $myPB.progressbar({value: 0, max: 3127});\n",
        "        }\n",
        "        "
       ],
       "metadata": {},
       "output_type": "display_data",
       "text": [
        "<IPython.core.display.Javascript at 0x7fdf226dd790>"
       ]
      },
      {
       "javascript": [
        "$('div#88edccd4-e38b-4215-a66a-706e4d223113').text('ETA:  0:02:05');"
       ],
       "metadata": {},
       "output_type": "display_data",
       "text": [
        "<IPython.core.display.Javascript at 0x7fdf226ddc90>"
       ]
      },
      {
       "javascript": [
        "$('div#0ce4b508-bcf6-43db-9d4d-405a4564baee').text(' 50%');"
       ],
       "metadata": {},
       "output_type": "display_data",
       "text": [
        "<IPython.core.display.Javascript at 0x7fdf226da350>"
       ]
      },
      {
       "javascript": [
        "\n",
        "        var $myPB = $(\"div#9efa009e-1e31-430d-b70d-7930de400302\")\n",
        "        if ($myPB.hasClass('ui-progressbar')) {\n",
        "            $myPB.progressbar('value', 1566);\n",
        "        } else {\n",
        "            $myPB.progressbar({value: 0, max: 3127});\n",
        "        }\n",
        "        "
       ],
       "metadata": {},
       "output_type": "display_data",
       "text": [
        "<IPython.core.display.Javascript at 0x7fdf11f5d090>"
       ]
      },
      {
       "javascript": [
        "$('div#88edccd4-e38b-4215-a66a-706e4d223113').text('ETA:  0:02:04');"
       ],
       "metadata": {},
       "output_type": "display_data",
       "text": [
        "<IPython.core.display.Javascript at 0x7fdf226e9910>"
       ]
      },
      {
       "javascript": [
        "$('div#0ce4b508-bcf6-43db-9d4d-405a4564baee').text(' 50%');"
       ],
       "metadata": {},
       "output_type": "display_data",
       "text": [
        "<IPython.core.display.Javascript at 0x7fdf226d9e10>"
       ]
      },
      {
       "javascript": [
        "\n",
        "        var $myPB = $(\"div#9efa009e-1e31-430d-b70d-7930de400302\")\n",
        "        if ($myPB.hasClass('ui-progressbar')) {\n",
        "            $myPB.progressbar('value', 1579);\n",
        "        } else {\n",
        "            $myPB.progressbar({value: 0, max: 3127});\n",
        "        }\n",
        "        "
       ],
       "metadata": {},
       "output_type": "display_data",
       "text": [
        "<IPython.core.display.Javascript at 0x7fdf226fc0d0>"
       ]
      },
      {
       "javascript": [
        "$('div#88edccd4-e38b-4215-a66a-706e4d223113').text('ETA:  0:02:03');"
       ],
       "metadata": {},
       "output_type": "display_data",
       "text": [
        "<IPython.core.display.Javascript at 0x7fdf2270cd90>"
       ]
      },
      {
       "javascript": [
        "$('div#0ce4b508-bcf6-43db-9d4d-405a4564baee').text(' 50%');"
       ],
       "metadata": {},
       "output_type": "display_data",
       "text": [
        "<IPython.core.display.Javascript at 0x7fdf226f43d0>"
       ]
      },
      {
       "javascript": [
        "\n",
        "        var $myPB = $(\"div#9efa009e-1e31-430d-b70d-7930de400302\")\n",
        "        if ($myPB.hasClass('ui-progressbar')) {\n",
        "            $myPB.progressbar('value', 1591);\n",
        "        } else {\n",
        "            $myPB.progressbar({value: 0, max: 3127});\n",
        "        }\n",
        "        "
       ],
       "metadata": {},
       "output_type": "display_data",
       "text": [
        "<IPython.core.display.Javascript at 0x7fdf226ec9d0>"
       ]
      },
      {
       "javascript": [
        "$('div#88edccd4-e38b-4215-a66a-706e4d223113').text('ETA:  0:02:02');"
       ],
       "metadata": {},
       "output_type": "display_data",
       "text": [
        "<IPython.core.display.Javascript at 0x7fdf11f6c1d0>"
       ]
      },
      {
       "javascript": [
        "$('div#0ce4b508-bcf6-43db-9d4d-405a4564baee').text(' 51%');"
       ],
       "metadata": {},
       "output_type": "display_data",
       "text": [
        "<IPython.core.display.Javascript at 0x7fdf11f56550>"
       ]
      },
      {
       "javascript": [
        "\n",
        "        var $myPB = $(\"div#9efa009e-1e31-430d-b70d-7930de400302\")\n",
        "        if ($myPB.hasClass('ui-progressbar')) {\n",
        "            $myPB.progressbar('value', 1606);\n",
        "        } else {\n",
        "            $myPB.progressbar({value: 0, max: 3127});\n",
        "        }\n",
        "        "
       ],
       "metadata": {},
       "output_type": "display_data",
       "text": [
        "<IPython.core.display.Javascript at 0x7fdf2270a810>"
       ]
      },
      {
       "javascript": [
        "$('div#88edccd4-e38b-4215-a66a-706e4d223113').text('ETA:  0:02:01');"
       ],
       "metadata": {},
       "output_type": "display_data",
       "text": [
        "<IPython.core.display.Javascript at 0x7fdf227fa790>"
       ]
      },
      {
       "javascript": [
        "$('div#0ce4b508-bcf6-43db-9d4d-405a4564baee').text(' 51%');"
       ],
       "metadata": {},
       "output_type": "display_data",
       "text": [
        "<IPython.core.display.Javascript at 0x7fdf226fc0d0>"
       ]
      },
      {
       "javascript": [
        "\n",
        "        var $myPB = $(\"div#9efa009e-1e31-430d-b70d-7930de400302\")\n",
        "        if ($myPB.hasClass('ui-progressbar')) {\n",
        "            $myPB.progressbar('value', 1622);\n",
        "        } else {\n",
        "            $myPB.progressbar({value: 0, max: 3127});\n",
        "        }\n",
        "        "
       ],
       "metadata": {},
       "output_type": "display_data",
       "text": [
        "<IPython.core.display.Javascript at 0x7fdf226da350>"
       ]
      },
      {
       "javascript": [
        "$('div#88edccd4-e38b-4215-a66a-706e4d223113').text('ETA:  0:02:00');"
       ],
       "metadata": {},
       "output_type": "display_data",
       "text": [
        "<IPython.core.display.Javascript at 0x7fdf2270ce10>"
       ]
      },
      {
       "javascript": [
        "$('div#0ce4b508-bcf6-43db-9d4d-405a4564baee').text(' 52%');"
       ],
       "metadata": {},
       "output_type": "display_data",
       "text": [
        "<IPython.core.display.Javascript at 0x7fdf2270ed50>"
       ]
      },
      {
       "javascript": [
        "\n",
        "        var $myPB = $(\"div#9efa009e-1e31-430d-b70d-7930de400302\")\n",
        "        if ($myPB.hasClass('ui-progressbar')) {\n",
        "            $myPB.progressbar('value', 1642);\n",
        "        } else {\n",
        "            $myPB.progressbar({value: 0, max: 3127});\n",
        "        }\n",
        "        "
       ],
       "metadata": {},
       "output_type": "display_data",
       "text": [
        "<IPython.core.display.Javascript at 0x7fdf2280fed0>"
       ]
      },
      {
       "javascript": [
        "$('div#88edccd4-e38b-4215-a66a-706e4d223113').text('ETA:  0:01:58');"
       ],
       "metadata": {},
       "output_type": "display_data",
       "text": [
        "<IPython.core.display.Javascript at 0x7fdf2280ffd0>"
       ]
      },
      {
       "javascript": [
        "$('div#0ce4b508-bcf6-43db-9d4d-405a4564baee').text(' 53%');"
       ],
       "metadata": {},
       "output_type": "display_data",
       "text": [
        "<IPython.core.display.Javascript at 0x7fdf2270a810>"
       ]
      },
      {
       "javascript": [
        "\n",
        "        var $myPB = $(\"div#9efa009e-1e31-430d-b70d-7930de400302\")\n",
        "        if ($myPB.hasClass('ui-progressbar')) {\n",
        "            $myPB.progressbar('value', 1663);\n",
        "        } else {\n",
        "            $myPB.progressbar({value: 0, max: 3127});\n",
        "        }\n",
        "        "
       ],
       "metadata": {},
       "output_type": "display_data",
       "text": [
        "<IPython.core.display.Javascript at 0x7fdf2270a6d0>"
       ]
      },
      {
       "javascript": [
        "$('div#88edccd4-e38b-4215-a66a-706e4d223113').text('ETA:  0:01:56');"
       ],
       "metadata": {},
       "output_type": "display_data",
       "text": [
        "<IPython.core.display.Javascript at 0x7fdf11f8d290>"
       ]
      },
      {
       "javascript": [
        "$('div#0ce4b508-bcf6-43db-9d4d-405a4564baee').text(' 53%');"
       ],
       "metadata": {},
       "output_type": "display_data",
       "text": [
        "<IPython.core.display.Javascript at 0x7fdf11f56550>"
       ]
      },
      {
       "javascript": [
        "\n",
        "        var $myPB = $(\"div#9efa009e-1e31-430d-b70d-7930de400302\")\n",
        "        if ($myPB.hasClass('ui-progressbar')) {\n",
        "            $myPB.progressbar('value', 1671);\n",
        "        } else {\n",
        "            $myPB.progressbar({value: 0, max: 3127});\n",
        "        }\n",
        "        "
       ],
       "metadata": {},
       "output_type": "display_data",
       "text": [
        "<IPython.core.display.Javascript at 0x7fdf226da350>"
       ]
      },
      {
       "javascript": [
        "$('div#88edccd4-e38b-4215-a66a-706e4d223113').text('ETA:  0:01:56');"
       ],
       "metadata": {},
       "output_type": "display_data",
       "text": [
        "<IPython.core.display.Javascript at 0x7fdf226dd790>"
       ]
      },
      {
       "javascript": [
        "$('div#0ce4b508-bcf6-43db-9d4d-405a4564baee').text(' 53%');"
       ],
       "metadata": {},
       "output_type": "display_data",
       "text": [
        "<IPython.core.display.Javascript at 0x7fdf11f6c1d0>"
       ]
      },
      {
       "javascript": [
        "\n",
        "        var $myPB = $(\"div#9efa009e-1e31-430d-b70d-7930de400302\")\n",
        "        if ($myPB.hasClass('ui-progressbar')) {\n",
        "            $myPB.progressbar('value', 1676);\n",
        "        } else {\n",
        "            $myPB.progressbar({value: 0, max: 3127});\n",
        "        }\n",
        "        "
       ],
       "metadata": {},
       "output_type": "display_data",
       "text": [
        "<IPython.core.display.Javascript at 0x7fdf22705990>"
       ]
      },
      {
       "javascript": [
        "$('div#88edccd4-e38b-4215-a66a-706e4d223113').text('ETA:  0:01:56');"
       ],
       "metadata": {},
       "output_type": "display_data",
       "text": [
        "<IPython.core.display.Javascript at 0x7fdf22705c10>"
       ]
      },
      {
       "javascript": [
        "$('div#0ce4b508-bcf6-43db-9d4d-405a4564baee').text(' 53%');"
       ],
       "metadata": {},
       "output_type": "display_data",
       "text": [
        "<IPython.core.display.Javascript at 0x7fdf227fac90>"
       ]
      },
      {
       "javascript": [
        "\n",
        "        var $myPB = $(\"div#9efa009e-1e31-430d-b70d-7930de400302\")\n",
        "        if ($myPB.hasClass('ui-progressbar')) {\n",
        "            $myPB.progressbar('value', 1681);\n",
        "        } else {\n",
        "            $myPB.progressbar({value: 0, max: 3127});\n",
        "        }\n",
        "        "
       ],
       "metadata": {},
       "output_type": "display_data",
       "text": [
        "<IPython.core.display.Javascript at 0x7fdf22709e10>"
       ]
      },
      {
       "javascript": [
        "$('div#88edccd4-e38b-4215-a66a-706e4d223113').text('ETA:  0:01:56');"
       ],
       "metadata": {},
       "output_type": "display_data",
       "text": [
        "<IPython.core.display.Javascript at 0x7fdf226d8d50>"
       ]
      },
      {
       "javascript": [
        "$('div#0ce4b508-bcf6-43db-9d4d-405a4564baee').text(' 54%');"
       ],
       "metadata": {},
       "output_type": "display_data",
       "text": [
        "<IPython.core.display.Javascript at 0x7fdf2270aed0>"
       ]
      },
      {
       "javascript": [
        "\n",
        "        var $myPB = $(\"div#9efa009e-1e31-430d-b70d-7930de400302\")\n",
        "        if ($myPB.hasClass('ui-progressbar')) {\n",
        "            $myPB.progressbar('value', 1697);\n",
        "        } else {\n",
        "            $myPB.progressbar({value: 0, max: 3127});\n",
        "        }\n",
        "        "
       ],
       "metadata": {},
       "output_type": "display_data",
       "text": [
        "<IPython.core.display.Javascript at 0x7fdf226fead0>"
       ]
      },
      {
       "javascript": [
        "$('div#88edccd4-e38b-4215-a66a-706e4d223113').text('ETA:  0:01:55');"
       ],
       "metadata": {},
       "output_type": "display_data",
       "text": [
        "<IPython.core.display.Javascript at 0x7fdf226fea10>"
       ]
      },
      {
       "javascript": [
        "$('div#0ce4b508-bcf6-43db-9d4d-405a4564baee').text(' 54%');"
       ],
       "metadata": {},
       "output_type": "display_data",
       "text": [
        "<IPython.core.display.Javascript at 0x7fdf227fafd0>"
       ]
      },
      {
       "javascript": [
        "\n",
        "        var $myPB = $(\"div#9efa009e-1e31-430d-b70d-7930de400302\")\n",
        "        if ($myPB.hasClass('ui-progressbar')) {\n",
        "            $myPB.progressbar('value', 1711);\n",
        "        } else {\n",
        "            $myPB.progressbar({value: 0, max: 3127});\n",
        "        }\n",
        "        "
       ],
       "metadata": {},
       "output_type": "display_data",
       "text": [
        "<IPython.core.display.Javascript at 0x7fdf226efd50>"
       ]
      },
      {
       "javascript": [
        "$('div#88edccd4-e38b-4215-a66a-706e4d223113').text('ETA:  0:01:54');"
       ],
       "metadata": {},
       "output_type": "display_data",
       "text": [
        "<IPython.core.display.Javascript at 0x7fdf226e9e50>"
       ]
      },
      {
       "javascript": [
        "$('div#0ce4b508-bcf6-43db-9d4d-405a4564baee').text(' 55%');"
       ],
       "metadata": {},
       "output_type": "display_data",
       "text": [
        "<IPython.core.display.Javascript at 0x7fdf2270aed0>"
       ]
      },
      {
       "javascript": [
        "\n",
        "        var $myPB = $(\"div#9efa009e-1e31-430d-b70d-7930de400302\")\n",
        "        if ($myPB.hasClass('ui-progressbar')) {\n",
        "            $myPB.progressbar('value', 1724);\n",
        "        } else {\n",
        "            $myPB.progressbar({value: 0, max: 3127});\n",
        "        }\n",
        "        "
       ],
       "metadata": {},
       "output_type": "display_data",
       "text": [
        "<IPython.core.display.Javascript at 0x7fdf226fed50>"
       ]
      },
      {
       "javascript": [
        "$('div#88edccd4-e38b-4215-a66a-706e4d223113').text('ETA:  0:01:53');"
       ],
       "metadata": {},
       "output_type": "display_data",
       "text": [
        "<IPython.core.display.Javascript at 0x7fdf226ef950>"
       ]
      },
      {
       "javascript": [
        "$('div#0ce4b508-bcf6-43db-9d4d-405a4564baee').text(' 55%');"
       ],
       "metadata": {},
       "output_type": "display_data",
       "text": [
        "<IPython.core.display.Javascript at 0x7fdf2280afd0>"
       ]
      },
      {
       "javascript": [
        "\n",
        "        var $myPB = $(\"div#9efa009e-1e31-430d-b70d-7930de400302\")\n",
        "        if ($myPB.hasClass('ui-progressbar')) {\n",
        "            $myPB.progressbar('value', 1747);\n",
        "        } else {\n",
        "            $myPB.progressbar({value: 0, max: 3127});\n",
        "        }\n",
        "        "
       ],
       "metadata": {},
       "output_type": "display_data",
       "text": [
        "<IPython.core.display.Javascript at 0x7fdf2280f150>"
       ]
      },
      {
       "javascript": [
        "$('div#88edccd4-e38b-4215-a66a-706e4d223113').text('ETA:  0:01:51');"
       ],
       "metadata": {},
       "output_type": "display_data",
       "text": [
        "<IPython.core.display.Javascript at 0x7fdf2280ff10>"
       ]
      },
      {
       "javascript": [
        "$('div#0ce4b508-bcf6-43db-9d4d-405a4564baee').text(' 56%');"
       ],
       "metadata": {},
       "output_type": "display_data",
       "text": [
        "<IPython.core.display.Javascript at 0x7fdf22709e10>"
       ]
      },
      {
       "javascript": [
        "\n",
        "        var $myPB = $(\"div#9efa009e-1e31-430d-b70d-7930de400302\")\n",
        "        if ($myPB.hasClass('ui-progressbar')) {\n",
        "            $myPB.progressbar('value', 1763);\n",
        "        } else {\n",
        "            $myPB.progressbar({value: 0, max: 3127});\n",
        "        }\n",
        "        "
       ],
       "metadata": {},
       "output_type": "display_data",
       "text": [
        "<IPython.core.display.Javascript at 0x7fdf22709250>"
       ]
      },
      {
       "javascript": [
        "$('div#88edccd4-e38b-4215-a66a-706e4d223113').text('ETA:  0:01:49');"
       ],
       "metadata": {},
       "output_type": "display_data",
       "text": [
        "<IPython.core.display.Javascript at 0x7fdf22709050>"
       ]
      },
      {
       "javascript": [
        "$('div#0ce4b508-bcf6-43db-9d4d-405a4564baee').text(' 56%');"
       ],
       "metadata": {},
       "output_type": "display_data",
       "text": [
        "<IPython.core.display.Javascript at 0x7fdf226fea10>"
       ]
      },
      {
       "javascript": [
        "\n",
        "        var $myPB = $(\"div#9efa009e-1e31-430d-b70d-7930de400302\")\n",
        "        if ($myPB.hasClass('ui-progressbar')) {\n",
        "            $myPB.progressbar('value', 1782);\n",
        "        } else {\n",
        "            $myPB.progressbar({value: 0, max: 3127});\n",
        "        }\n",
        "        "
       ],
       "metadata": {},
       "output_type": "display_data",
       "text": [
        "<IPython.core.display.Javascript at 0x7fdf2280a1d0>"
       ]
      },
      {
       "javascript": [
        "$('div#88edccd4-e38b-4215-a66a-706e4d223113').text('ETA:  0:01:47');"
       ],
       "metadata": {},
       "output_type": "display_data",
       "text": [
        "<IPython.core.display.Javascript at 0x7fdf2280ae50>"
       ]
      },
      {
       "javascript": [
        "$('div#0ce4b508-bcf6-43db-9d4d-405a4564baee').text(' 57%');"
       ],
       "metadata": {},
       "output_type": "display_data",
       "text": [
        "<IPython.core.display.Javascript at 0x7fdf226d9e10>"
       ]
      },
      {
       "javascript": [
        "\n",
        "        var $myPB = $(\"div#9efa009e-1e31-430d-b70d-7930de400302\")\n",
        "        if ($myPB.hasClass('ui-progressbar')) {\n",
        "            $myPB.progressbar('value', 1803);\n",
        "        } else {\n",
        "            $myPB.progressbar({value: 0, max: 3127});\n",
        "        }\n",
        "        "
       ],
       "metadata": {},
       "output_type": "display_data",
       "text": [
        "<IPython.core.display.Javascript at 0x7fdf226dd790>"
       ]
      },
      {
       "javascript": [
        "$('div#88edccd4-e38b-4215-a66a-706e4d223113').text('ETA:  0:01:45');"
       ],
       "metadata": {},
       "output_type": "display_data",
       "text": [
        "<IPython.core.display.Javascript at 0x7fdf2280ed50>"
       ]
      },
      {
       "javascript": [
        "$('div#0ce4b508-bcf6-43db-9d4d-405a4564baee').text(' 58%');"
       ],
       "metadata": {},
       "output_type": "display_data",
       "text": [
        "<IPython.core.display.Javascript at 0x7fdf226ef210>"
       ]
      },
      {
       "javascript": [
        "\n",
        "        var $myPB = $(\"div#9efa009e-1e31-430d-b70d-7930de400302\")\n",
        "        if ($myPB.hasClass('ui-progressbar')) {\n",
        "            $myPB.progressbar('value', 1819);\n",
        "        } else {\n",
        "            $myPB.progressbar({value: 0, max: 3127});\n",
        "        }\n",
        "        "
       ],
       "metadata": {},
       "output_type": "display_data",
       "text": [
        "<IPython.core.display.Javascript at 0x7fdf227d72d0>"
       ]
      },
      {
       "javascript": [
        "$('div#88edccd4-e38b-4215-a66a-706e4d223113').text('ETA:  0:01:44');"
       ],
       "metadata": {},
       "output_type": "display_data",
       "text": [
        "<IPython.core.display.Javascript at 0x7fdf227d7290>"
       ]
      },
      {
       "javascript": [
        "$('div#0ce4b508-bcf6-43db-9d4d-405a4564baee').text(' 58%');"
       ],
       "metadata": {},
       "output_type": "display_data",
       "text": [
        "<IPython.core.display.Javascript at 0x7fdf2280e690>"
       ]
      },
      {
       "javascript": [
        "\n",
        "        var $myPB = $(\"div#9efa009e-1e31-430d-b70d-7930de400302\")\n",
        "        if ($myPB.hasClass('ui-progressbar')) {\n",
        "            $myPB.progressbar('value', 1836);\n",
        "        } else {\n",
        "            $myPB.progressbar({value: 0, max: 3127});\n",
        "        }\n",
        "        "
       ],
       "metadata": {},
       "output_type": "display_data",
       "text": [
        "<IPython.core.display.Javascript at 0x7fdf226dcd90>"
       ]
      },
      {
       "javascript": [
        "$('div#88edccd4-e38b-4215-a66a-706e4d223113').text('ETA:  0:01:42');"
       ],
       "metadata": {},
       "output_type": "display_data",
       "text": [
        "<IPython.core.display.Javascript at 0x7fdf226e9c50>"
       ]
      },
      {
       "javascript": [
        "$('div#0ce4b508-bcf6-43db-9d4d-405a4564baee').text(' 58%');"
       ],
       "metadata": {},
       "output_type": "display_data",
       "text": [
        "<IPython.core.display.Javascript at 0x7fdf2270cd90>"
       ]
      },
      {
       "javascript": [
        "\n",
        "        var $myPB = $(\"div#9efa009e-1e31-430d-b70d-7930de400302\")\n",
        "        if ($myPB.hasClass('ui-progressbar')) {\n",
        "            $myPB.progressbar('value', 1840);\n",
        "        } else {\n",
        "            $myPB.progressbar({value: 0, max: 3127});\n",
        "        }\n",
        "        "
       ],
       "metadata": {},
       "output_type": "display_data",
       "text": [
        "<IPython.core.display.Javascript at 0x7fdf226f4650>"
       ]
      },
      {
       "javascript": [
        "$('div#88edccd4-e38b-4215-a66a-706e4d223113').text('ETA:  0:01:42');"
       ],
       "metadata": {},
       "output_type": "display_data",
       "text": [
        "<IPython.core.display.Javascript at 0x7fdf226dcd90>"
       ]
      },
      {
       "javascript": [
        "$('div#0ce4b508-bcf6-43db-9d4d-405a4564baee').text(' 59%');"
       ],
       "metadata": {},
       "output_type": "display_data",
       "text": [
        "<IPython.core.display.Javascript at 0x7fdf227f8210>"
       ]
      },
      {
       "javascript": [
        "\n",
        "        var $myPB = $(\"div#9efa009e-1e31-430d-b70d-7930de400302\")\n",
        "        if ($myPB.hasClass('ui-progressbar')) {\n",
        "            $myPB.progressbar('value', 1848);\n",
        "        } else {\n",
        "            $myPB.progressbar({value: 0, max: 3127});\n",
        "        }\n",
        "        "
       ],
       "metadata": {},
       "output_type": "display_data",
       "text": [
        "<IPython.core.display.Javascript at 0x7fdf227f8350>"
       ]
      },
      {
       "javascript": [
        "$('div#88edccd4-e38b-4215-a66a-706e4d223113').text('ETA:  0:01:43');"
       ],
       "metadata": {},
       "output_type": "display_data",
       "text": [
        "<IPython.core.display.Javascript at 0x7fdf227f8490>"
       ]
      },
      {
       "javascript": [
        "$('div#0ce4b508-bcf6-43db-9d4d-405a4564baee').text(' 59%');"
       ],
       "metadata": {},
       "output_type": "display_data",
       "text": [
        "<IPython.core.display.Javascript at 0x7fdf22807510>"
       ]
      },
      {
       "javascript": [
        "\n",
        "        var $myPB = $(\"div#9efa009e-1e31-430d-b70d-7930de400302\")\n",
        "        if ($myPB.hasClass('ui-progressbar')) {\n",
        "            $myPB.progressbar('value', 1855);\n",
        "        } else {\n",
        "            $myPB.progressbar({value: 0, max: 3127});\n",
        "        }\n",
        "        "
       ],
       "metadata": {},
       "output_type": "display_data",
       "text": [
        "<IPython.core.display.Javascript at 0x7fdf22807a50>"
       ]
      },
      {
       "javascript": [
        "$('div#88edccd4-e38b-4215-a66a-706e4d223113').text('ETA:  0:01:42');"
       ],
       "metadata": {},
       "output_type": "display_data",
       "text": [
        "<IPython.core.display.Javascript at 0x7fdf22807410>"
       ]
      },
      {
       "javascript": [
        "$('div#0ce4b508-bcf6-43db-9d4d-405a4564baee').text(' 59%');"
       ],
       "metadata": {},
       "output_type": "display_data",
       "text": [
        "<IPython.core.display.Javascript at 0x7fdf226dd790>"
       ]
      },
      {
       "javascript": [
        "\n",
        "        var $myPB = $(\"div#9efa009e-1e31-430d-b70d-7930de400302\")\n",
        "        if ($myPB.hasClass('ui-progressbar')) {\n",
        "            $myPB.progressbar('value', 1860);\n",
        "        } else {\n",
        "            $myPB.progressbar({value: 0, max: 3127});\n",
        "        }\n",
        "        "
       ],
       "metadata": {},
       "output_type": "display_data",
       "text": [
        "<IPython.core.display.Javascript at 0x7fdf2280e590>"
       ]
      },
      {
       "javascript": [
        "$('div#88edccd4-e38b-4215-a66a-706e4d223113').text('ETA:  0:01:42');"
       ],
       "metadata": {},
       "output_type": "display_data",
       "text": [
        "<IPython.core.display.Javascript at 0x7fdf227d7fd0>"
       ]
      },
      {
       "javascript": [
        "$('div#0ce4b508-bcf6-43db-9d4d-405a4564baee').text('100%');"
       ],
       "metadata": {},
       "output_type": "display_data",
       "text": [
        "<IPython.core.display.Javascript at 0x7fdf226d9e10>"
       ]
      },
      {
       "javascript": [
        "\n",
        "        var $myPB = $(\"div#9efa009e-1e31-430d-b70d-7930de400302\")\n",
        "        if ($myPB.hasClass('ui-progressbar')) {\n",
        "            $myPB.progressbar('value', 3127);\n",
        "        } else {\n",
        "            $myPB.progressbar({value: 0, max: 3127});\n",
        "        }\n",
        "        "
       ],
       "metadata": {},
       "output_type": "display_data",
       "text": [
        "<IPython.core.display.Javascript at 0x7fdf226dd790>"
       ]
      },
      {
       "javascript": [
        "$('div#88edccd4-e38b-4215-a66a-706e4d223113').text('Time: 0:02:31');"
       ],
       "metadata": {},
       "output_type": "display_data",
       "text": [
        "<IPython.core.display.Javascript at 0x7fdf22807e10>"
       ]
      },
      {
       "javascript": [
        "var element = document.getElementById('1b6c5f9d-5c08-4f8c-948b-c50829625373');\n",
        "                    var parent = element.parentNode\n",
        "                    parent.removeChild(element);\n",
        "                    parent.parentElement.remove();"
       ],
       "metadata": {},
       "output_type": "display_data",
       "text": [
        "<IPython.core.display.Javascript at 0x7fdf22782c50>"
       ]
      },
      {
       "javascript": [
        "this.cleanProgressBar(['1b6c5f9d-5c08-4f8c-948b-c50829625373', '0ce4b508-bcf6-43db-9d4d-405a4564baee', '9efa009e-1e31-430d-b70d-7930de400302', '88edccd4-e38b-4215-a66a-706e4d223113'])"
       ],
       "metadata": {},
       "output_type": "display_data",
       "text": [
        "<IPython.core.display.Javascript at 0x7fdf22807790>"
       ]
      }
     ],
     "prompt_number": 77
    },
    {
     "cell_type": "code",
     "collapsed": false,
     "input": [
      "P = p_song_given_user(playlists_test, spe_t, p_egu)"
     ],
     "language": "python",
     "metadata": {},
     "outputs": [],
     "prompt_number": 78
    },
    {
     "cell_type": "code",
     "collapsed": false,
     "input": [
      "P2 = p_song_given_user_prev(playlists_test, spe_t, H_frame_T, p_egu)"
     ],
     "language": "python",
     "metadata": {},
     "outputs": [],
     "prompt_number": 79
    },
    {
     "cell_type": "code",
     "collapsed": false,
     "input": [
      "edge_diversity = p_egu.drop('[UNIFORM]', axis=1).apply(scipy.stats.entropy, axis=1).to_frame(name='Entropy')"
     ],
     "language": "python",
     "metadata": {},
     "outputs": [],
     "prompt_number": 80
    },
    {
     "cell_type": "code",
     "collapsed": false,
     "input": [
      "P.join(P2, lsuffix=' (global)', rsuffix=' (transitional)').join(edge_diversity).sort(columns='Entropy')"
     ],
     "language": "python",
     "metadata": {},
     "outputs": [
      {
       "html": [
        "<div style=\"max-height:1000px;max-width:1500px;overflow:auto;\">\n",
        "<table border=\"1\" class=\"dataframe\">\n",
        "  <thead>\n",
        "    <tr style=\"text-align: right;\">\n",
        "      <th></th>\n",
        "      <th>log probability (global)</th>\n",
        "      <th>log probability (transitional)</th>\n",
        "      <th>Entropy</th>\n",
        "    </tr>\n",
        "  </thead>\n",
        "  <tbody>\n",
        "    <tr>\n",
        "      <th>Joe Gillis1</th>\n",
        "      <td>-11.323878</td>\n",
        "      <td>-10.919044</td>\n",
        "      <td> 4.931710</td>\n",
        "    </tr>\n",
        "    <tr>\n",
        "      <th>CBlaze</th>\n",
        "      <td> -9.938354</td>\n",
        "      <td> -9.800132</td>\n",
        "      <td> 5.008913</td>\n",
        "    </tr>\n",
        "    <tr>\n",
        "      <th>Candra</th>\n",
        "      <td>-10.073486</td>\n",
        "      <td> -9.920855</td>\n",
        "      <td> 5.035333</td>\n",
        "    </tr>\n",
        "    <tr>\n",
        "      <th>blankusername</th>\n",
        "      <td>-10.257460</td>\n",
        "      <td> -9.942335</td>\n",
        "      <td> 5.056916</td>\n",
        "    </tr>\n",
        "    <tr>\n",
        "      <th>pandorra0</th>\n",
        "      <td>-10.068570</td>\n",
        "      <td> -9.786840</td>\n",
        "      <td> 5.085353</td>\n",
        "    </tr>\n",
        "    <tr>\n",
        "      <th>jessica lynn</th>\n",
        "      <td>-11.329395</td>\n",
        "      <td>-10.968212</td>\n",
        "      <td> 5.097162</td>\n",
        "    </tr>\n",
        "    <tr>\n",
        "      <th>mens</th>\n",
        "      <td>-10.519897</td>\n",
        "      <td>-10.432340</td>\n",
        "      <td> 5.130288</td>\n",
        "    </tr>\n",
        "    <tr>\n",
        "      <th>JUSTIN!!!</th>\n",
        "      <td> -9.850857</td>\n",
        "      <td> -9.587047</td>\n",
        "      <td> 5.134358</td>\n",
        "    </tr>\n",
        "    <tr>\n",
        "      <th>Jenn1234</th>\n",
        "      <td>-10.112367</td>\n",
        "      <td> -9.949386</td>\n",
        "      <td> 5.195019</td>\n",
        "    </tr>\n",
        "    <tr>\n",
        "      <th>DJ Palindrome</th>\n",
        "      <td>-10.306388</td>\n",
        "      <td>-10.203546</td>\n",
        "      <td> 5.207129</td>\n",
        "    </tr>\n",
        "    <tr>\n",
        "      <th>reina1</th>\n",
        "      <td>-10.206915</td>\n",
        "      <td>-10.112703</td>\n",
        "      <td> 5.222497</td>\n",
        "    </tr>\n",
        "    <tr>\n",
        "      <th>Erin H.</th>\n",
        "      <td> -9.824003</td>\n",
        "      <td> -9.651616</td>\n",
        "      <td> 5.275495</td>\n",
        "    </tr>\n",
        "    <tr>\n",
        "      <th>brodiebanky37</th>\n",
        "      <td>-10.472471</td>\n",
        "      <td>-10.427674</td>\n",
        "      <td> 5.285193</td>\n",
        "    </tr>\n",
        "    <tr>\n",
        "      <th>Joey Monotone</th>\n",
        "      <td>-10.658903</td>\n",
        "      <td>-10.275721</td>\n",
        "      <td> 5.344699</td>\n",
        "    </tr>\n",
        "    <tr>\n",
        "      <th>noiseboy</th>\n",
        "      <td> -9.826287</td>\n",
        "      <td> -9.613215</td>\n",
        "      <td> 5.356473</td>\n",
        "    </tr>\n",
        "    <tr>\n",
        "      <th>james z</th>\n",
        "      <td>-10.817419</td>\n",
        "      <td>-10.499658</td>\n",
        "      <td> 5.372758</td>\n",
        "    </tr>\n",
        "    <tr>\n",
        "      <th>Aeichele</th>\n",
        "      <td>-10.573645</td>\n",
        "      <td>-10.233371</td>\n",
        "      <td> 5.402618</td>\n",
        "    </tr>\n",
        "    <tr>\n",
        "      <th>DJ Usurp</th>\n",
        "      <td>-10.400347</td>\n",
        "      <td>-10.179648</td>\n",
        "      <td> 5.441636</td>\n",
        "    </tr>\n",
        "    <tr>\n",
        "      <th>Steiney_77</th>\n",
        "      <td>-10.607374</td>\n",
        "      <td>-10.343591</td>\n",
        "      <td> 5.461005</td>\n",
        "    </tr>\n",
        "    <tr>\n",
        "      <th>jab</th>\n",
        "      <td>-11.142089</td>\n",
        "      <td>-10.791543</td>\n",
        "      <td> 5.463837</td>\n",
        "    </tr>\n",
        "    <tr>\n",
        "      <th>Mason Jar12</th>\n",
        "      <td>-11.321521</td>\n",
        "      <td>-10.983343</td>\n",
        "      <td> 5.482644</td>\n",
        "    </tr>\n",
        "    <tr>\n",
        "      <th>HoboHotel</th>\n",
        "      <td>-11.050078</td>\n",
        "      <td>-10.837388</td>\n",
        "      <td> 5.513713</td>\n",
        "    </tr>\n",
        "    <tr>\n",
        "      <th>Daved Blevins</th>\n",
        "      <td>-10.703489</td>\n",
        "      <td>-10.289104</td>\n",
        "      <td> 5.525990</td>\n",
        "    </tr>\n",
        "    <tr>\n",
        "      <th>pessimystica</th>\n",
        "      <td>-10.392870</td>\n",
        "      <td>-10.091480</td>\n",
        "      <td> 5.526957</td>\n",
        "    </tr>\n",
        "    <tr>\n",
        "      <th>Rob Conroy</th>\n",
        "      <td>-11.270462</td>\n",
        "      <td>-10.638200</td>\n",
        "      <td> 5.531357</td>\n",
        "    </tr>\n",
        "    <tr>\n",
        "      <th>TheKeenGuy (Patrick C. Taylor)</th>\n",
        "      <td>-10.813439</td>\n",
        "      <td>-10.455463</td>\n",
        "      <td> 5.534599</td>\n",
        "    </tr>\n",
        "    <tr>\n",
        "      <th>kingnoahno</th>\n",
        "      <td>-10.315615</td>\n",
        "      <td>-10.243224</td>\n",
        "      <td> 5.550684</td>\n",
        "    </tr>\n",
        "    <tr>\n",
        "      <th>Lorentz</th>\n",
        "      <td>-10.778836</td>\n",
        "      <td>-10.246834</td>\n",
        "      <td> 5.558056</td>\n",
        "    </tr>\n",
        "    <tr>\n",
        "      <th>Veenstra</th>\n",
        "      <td>-10.762177</td>\n",
        "      <td>-10.350500</td>\n",
        "      <td> 5.560441</td>\n",
        "    </tr>\n",
        "    <tr>\n",
        "      <th>fritz1</th>\n",
        "      <td>-10.815757</td>\n",
        "      <td>-10.515951</td>\n",
        "      <td> 5.591184</td>\n",
        "    </tr>\n",
        "    <tr>\n",
        "      <th>...</th>\n",
        "      <td>...</td>\n",
        "      <td>...</td>\n",
        "      <td>...</td>\n",
        "    </tr>\n",
        "    <tr>\n",
        "      <th>L</th>\n",
        "      <td>-10.711226</td>\n",
        "      <td> -9.014154</td>\n",
        "      <td> 7.348371</td>\n",
        "    </tr>\n",
        "    <tr>\n",
        "      <th>brandon frazier</th>\n",
        "      <td>-13.930333</td>\n",
        "      <td>-11.008923</td>\n",
        "      <td> 7.348371</td>\n",
        "    </tr>\n",
        "    <tr>\n",
        "      <th>Appleby</th>\n",
        "      <td>-10.622305</td>\n",
        "      <td>-10.043104</td>\n",
        "      <td> 7.348492</td>\n",
        "    </tr>\n",
        "    <tr>\n",
        "      <th>Tone Onono</th>\n",
        "      <td>-12.233856</td>\n",
        "      <td>-11.962778</td>\n",
        "      <td> 7.348534</td>\n",
        "    </tr>\n",
        "    <tr>\n",
        "      <th>Valeria</th>\n",
        "      <td>-12.785977</td>\n",
        "      <td>-11.292945</td>\n",
        "      <td> 7.349056</td>\n",
        "    </tr>\n",
        "    <tr>\n",
        "      <th>azeo</th>\n",
        "      <td>-12.253722</td>\n",
        "      <td>-11.512626</td>\n",
        "      <td> 7.349293</td>\n",
        "    </tr>\n",
        "    <tr>\n",
        "      <th>Jeff   Sparkman</th>\n",
        "      <td>-11.246415</td>\n",
        "      <td>-10.895440</td>\n",
        "      <td> 7.349981</td>\n",
        "    </tr>\n",
        "    <tr>\n",
        "      <th>agent orange</th>\n",
        "      <td>-11.765605</td>\n",
        "      <td>-11.009953</td>\n",
        "      <td> 7.349981</td>\n",
        "    </tr>\n",
        "    <tr>\n",
        "      <th>elvette</th>\n",
        "      <td>-11.480420</td>\n",
        "      <td>-10.325349</td>\n",
        "      <td> 7.350098</td>\n",
        "    </tr>\n",
        "    <tr>\n",
        "      <th>Roark</th>\n",
        "      <td>-11.041169</td>\n",
        "      <td>-12.493163</td>\n",
        "      <td> 7.350098</td>\n",
        "    </tr>\n",
        "    <tr>\n",
        "      <th>quexalcote</th>\n",
        "      <td>-12.011634</td>\n",
        "      <td>-11.471035</td>\n",
        "      <td> 7.350098</td>\n",
        "    </tr>\n",
        "    <tr>\n",
        "      <th>Queen</th>\n",
        "      <td>-11.770818</td>\n",
        "      <td>-11.649028</td>\n",
        "      <td> 7.350098</td>\n",
        "    </tr>\n",
        "    <tr>\n",
        "      <th>Gregory</th>\n",
        "      <td>-12.059248</td>\n",
        "      <td>-11.894919</td>\n",
        "      <td> 7.350098</td>\n",
        "    </tr>\n",
        "    <tr>\n",
        "      <th>Paulza1</th>\n",
        "      <td>-10.711981</td>\n",
        "      <td>-11.184179</td>\n",
        "      <td> 7.350792</td>\n",
        "    </tr>\n",
        "    <tr>\n",
        "      <th>Rich Bradley</th>\n",
        "      <td>-10.623498</td>\n",
        "      <td>-10.401036</td>\n",
        "      <td> 7.350906</td>\n",
        "    </tr>\n",
        "    <tr>\n",
        "      <th>33andathird12</th>\n",
        "      <td>-14.701013</td>\n",
        "      <td>-13.128525</td>\n",
        "      <td> 7.350906</td>\n",
        "    </tr>\n",
        "    <tr>\n",
        "      <th>Bartlett</th>\n",
        "      <td>-12.213589</td>\n",
        "      <td>-12.013476</td>\n",
        "      <td> 7.350906</td>\n",
        "    </tr>\n",
        "    <tr>\n",
        "      <th>Meghan1234567</th>\n",
        "      <td>-11.901568</td>\n",
        "      <td>-11.540120</td>\n",
        "      <td> 7.350906</td>\n",
        "    </tr>\n",
        "    <tr>\n",
        "      <th>Leatherman</th>\n",
        "      <td>-11.283175</td>\n",
        "      <td>-10.995449</td>\n",
        "      <td> 7.351718</td>\n",
        "    </tr>\n",
        "    <tr>\n",
        "      <th>Xantheis1</th>\n",
        "      <td>-11.915742</td>\n",
        "      <td>-11.985053</td>\n",
        "      <td> 7.351718</td>\n",
        "    </tr>\n",
        "    <tr>\n",
        "      <th>james rigby</th>\n",
        "      <td>-12.117049</td>\n",
        "      <td>-11.990399</td>\n",
        "      <td> 7.351718</td>\n",
        "    </tr>\n",
        "    <tr>\n",
        "      <th>Melonie Fullick</th>\n",
        "      <td>-11.571306</td>\n",
        "      <td>-11.411486</td>\n",
        "      <td> 7.351718</td>\n",
        "    </tr>\n",
        "    <tr>\n",
        "      <th>BooBoo Kitty</th>\n",
        "      <td>-12.633374</td>\n",
        "      <td>-11.701597</td>\n",
        "      <td> 7.351718</td>\n",
        "    </tr>\n",
        "    <tr>\n",
        "      <th>K.1</th>\n",
        "      <td>-10.923328</td>\n",
        "      <td>-11.774036</td>\n",
        "      <td> 7.352533</td>\n",
        "    </tr>\n",
        "    <tr>\n",
        "      <th>Heather12345678906667xxx</th>\n",
        "      <td>-11.280108</td>\n",
        "      <td>-10.530452</td>\n",
        "      <td> 7.353352</td>\n",
        "    </tr>\n",
        "    <tr>\n",
        "      <th>daniel12</th>\n",
        "      <td>-11.764923</td>\n",
        "      <td>-11.907410</td>\n",
        "      <td> 7.353352</td>\n",
        "    </tr>\n",
        "    <tr>\n",
        "      <th>Shannon123</th>\n",
        "      <td>-10.513788</td>\n",
        "      <td> -9.510960</td>\n",
        "      <td> 7.353352</td>\n",
        "    </tr>\n",
        "    <tr>\n",
        "      <th>Shane12</th>\n",
        "      <td>-11.543200</td>\n",
        "      <td>-12.096965</td>\n",
        "      <td> 7.354175</td>\n",
        "    </tr>\n",
        "    <tr>\n",
        "      <th>smackiepipe</th>\n",
        "      <td>-11.797648</td>\n",
        "      <td>-11.916789</td>\n",
        "      <td> 7.355002</td>\n",
        "    </tr>\n",
        "    <tr>\n",
        "      <th>d archambault</th>\n",
        "      <td>-11.714931</td>\n",
        "      <td>-11.590847</td>\n",
        "      <td> 7.355002</td>\n",
        "    </tr>\n",
        "  </tbody>\n",
        "</table>\n",
        "<p>1866 rows \u00d7 3 columns</p>\n",
        "</div>"
       ],
       "metadata": {},
       "output_type": "pyout",
       "prompt_number": 81,
       "text": [
        "                                log probability (global)  \\\n",
        "Joe Gillis1                                   -11.323878   \n",
        "CBlaze                                         -9.938354   \n",
        "Candra                                        -10.073486   \n",
        "blankusername                                 -10.257460   \n",
        "pandorra0                                     -10.068570   \n",
        "jessica lynn                                  -11.329395   \n",
        "mens                                          -10.519897   \n",
        "JUSTIN!!!                                      -9.850857   \n",
        "Jenn1234                                      -10.112367   \n",
        "DJ Palindrome                                 -10.306388   \n",
        "reina1                                        -10.206915   \n",
        "Erin H.                                        -9.824003   \n",
        "brodiebanky37                                 -10.472471   \n",
        "Joey Monotone                                 -10.658903   \n",
        "noiseboy                                       -9.826287   \n",
        "james z                                       -10.817419   \n",
        "Aeichele                                      -10.573645   \n",
        "DJ Usurp                                      -10.400347   \n",
        "Steiney_77                                    -10.607374   \n",
        "jab                                           -11.142089   \n",
        "Mason Jar12                                   -11.321521   \n",
        "HoboHotel                                     -11.050078   \n",
        "Daved Blevins                                 -10.703489   \n",
        "pessimystica                                  -10.392870   \n",
        "Rob Conroy                                    -11.270462   \n",
        "TheKeenGuy (Patrick C. Taylor)                -10.813439   \n",
        "kingnoahno                                    -10.315615   \n",
        "Lorentz                                       -10.778836   \n",
        "Veenstra                                      -10.762177   \n",
        "fritz1                                        -10.815757   \n",
        "...                                                  ...   \n",
        "L                                             -10.711226   \n",
        "brandon frazier                               -13.930333   \n",
        "Appleby                                       -10.622305   \n",
        "Tone Onono                                    -12.233856   \n",
        "Valeria                                       -12.785977   \n",
        "azeo                                          -12.253722   \n",
        "Jeff   Sparkman                               -11.246415   \n",
        "agent orange                                  -11.765605   \n",
        "elvette                                       -11.480420   \n",
        "Roark                                         -11.041169   \n",
        "quexalcote                                    -12.011634   \n",
        "Queen                                         -11.770818   \n",
        "Gregory                                       -12.059248   \n",
        "Paulza1                                       -10.711981   \n",
        "Rich Bradley                                  -10.623498   \n",
        "33andathird12                                 -14.701013   \n",
        "Bartlett                                      -12.213589   \n",
        "Meghan1234567                                 -11.901568   \n",
        "Leatherman                                    -11.283175   \n",
        "Xantheis1                                     -11.915742   \n",
        "james rigby                                   -12.117049   \n",
        "Melonie Fullick                               -11.571306   \n",
        "BooBoo Kitty                                  -12.633374   \n",
        "K.1                                           -10.923328   \n",
        "Heather12345678906667xxx                      -11.280108   \n",
        "daniel12                                      -11.764923   \n",
        "Shannon123                                    -10.513788   \n",
        "Shane12                                       -11.543200   \n",
        "smackiepipe                                   -11.797648   \n",
        "d archambault                                 -11.714931   \n",
        "\n",
        "                                log probability (transitional)   Entropy  \n",
        "Joe Gillis1                                         -10.919044  4.931710  \n",
        "CBlaze                                               -9.800132  5.008913  \n",
        "Candra                                               -9.920855  5.035333  \n",
        "blankusername                                        -9.942335  5.056916  \n",
        "pandorra0                                            -9.786840  5.085353  \n",
        "jessica lynn                                        -10.968212  5.097162  \n",
        "mens                                                -10.432340  5.130288  \n",
        "JUSTIN!!!                                            -9.587047  5.134358  \n",
        "Jenn1234                                             -9.949386  5.195019  \n",
        "DJ Palindrome                                       -10.203546  5.207129  \n",
        "reina1                                              -10.112703  5.222497  \n",
        "Erin H.                                              -9.651616  5.275495  \n",
        "brodiebanky37                                       -10.427674  5.285193  \n",
        "Joey Monotone                                       -10.275721  5.344699  \n",
        "noiseboy                                             -9.613215  5.356473  \n",
        "james z                                             -10.499658  5.372758  \n",
        "Aeichele                                            -10.233371  5.402618  \n",
        "DJ Usurp                                            -10.179648  5.441636  \n",
        "Steiney_77                                          -10.343591  5.461005  \n",
        "jab                                                 -10.791543  5.463837  \n",
        "Mason Jar12                                         -10.983343  5.482644  \n",
        "HoboHotel                                           -10.837388  5.513713  \n",
        "Daved Blevins                                       -10.289104  5.525990  \n",
        "pessimystica                                        -10.091480  5.526957  \n",
        "Rob Conroy                                          -10.638200  5.531357  \n",
        "TheKeenGuy (Patrick C. Taylor)                      -10.455463  5.534599  \n",
        "kingnoahno                                          -10.243224  5.550684  \n",
        "Lorentz                                             -10.246834  5.558056  \n",
        "Veenstra                                            -10.350500  5.560441  \n",
        "fritz1                                              -10.515951  5.591184  \n",
        "...                                                        ...       ...  \n",
        "L                                                    -9.014154  7.348371  \n",
        "brandon frazier                                     -11.008923  7.348371  \n",
        "Appleby                                             -10.043104  7.348492  \n",
        "Tone Onono                                          -11.962778  7.348534  \n",
        "Valeria                                             -11.292945  7.349056  \n",
        "azeo                                                -11.512626  7.349293  \n",
        "Jeff   Sparkman                                     -10.895440  7.349981  \n",
        "agent orange                                        -11.009953  7.349981  \n",
        "elvette                                             -10.325349  7.350098  \n",
        "Roark                                               -12.493163  7.350098  \n",
        "quexalcote                                          -11.471035  7.350098  \n",
        "Queen                                               -11.649028  7.350098  \n",
        "Gregory                                             -11.894919  7.350098  \n",
        "Paulza1                                             -11.184179  7.350792  \n",
        "Rich Bradley                                        -10.401036  7.350906  \n",
        "33andathird12                                       -13.128525  7.350906  \n",
        "Bartlett                                            -12.013476  7.350906  \n",
        "Meghan1234567                                       -11.540120  7.350906  \n",
        "Leatherman                                          -10.995449  7.351718  \n",
        "Xantheis1                                           -11.985053  7.351718  \n",
        "james rigby                                         -11.990399  7.351718  \n",
        "Melonie Fullick                                     -11.411486  7.351718  \n",
        "BooBoo Kitty                                        -11.701597  7.351718  \n",
        "K.1                                                 -11.774036  7.352533  \n",
        "Heather12345678906667xxx                            -10.530452  7.353352  \n",
        "daniel12                                            -11.907410  7.353352  \n",
        "Shannon123                                           -9.510960  7.353352  \n",
        "Shane12                                             -12.096965  7.354175  \n",
        "smackiepipe                                         -11.916789  7.355002  \n",
        "d archambault                                       -11.590847  7.355002  \n",
        "\n",
        "[1866 rows x 3 columns]"
       ]
      }
     ],
     "prompt_number": 81
    },
    {
     "cell_type": "code",
     "collapsed": false,
     "input": [
      "print 'Deepest user'\n",
      "playlists_test.loc[[P2.loc[p_egu.index]['log probability'].argmin()]].join(song_names, on='song_id')"
     ],
     "language": "python",
     "metadata": {},
     "outputs": [
      {
       "output_type": "stream",
       "stream": "stdout",
       "text": [
        "Deepest user\n"
       ]
      },
      {
       "html": [
        "<div style=\"max-height:1000px;max-width:1500px;overflow:auto;\">\n",
        "<table border=\"1\" class=\"dataframe\">\n",
        "  <thead>\n",
        "    <tr style=\"text-align: right;\">\n",
        "      <th></th>\n",
        "      <th></th>\n",
        "      <th></th>\n",
        "      <th></th>\n",
        "      <th>category</th>\n",
        "      <th>song_id</th>\n",
        "      <th>timestamp</th>\n",
        "      <th>artist</th>\n",
        "      <th>title</th>\n",
        "      <th>track_id</th>\n",
        "    </tr>\n",
        "    <tr>\n",
        "      <th>user</th>\n",
        "      <th>mix_id</th>\n",
        "      <th>segment_id</th>\n",
        "      <th>segment_position</th>\n",
        "      <th></th>\n",
        "      <th></th>\n",
        "      <th></th>\n",
        "      <th></th>\n",
        "      <th></th>\n",
        "      <th></th>\n",
        "    </tr>\n",
        "  </thead>\n",
        "  <tbody>\n",
        "    <tr>\n",
        "      <th rowspan=\"10\" valign=\"top\">33andathird12</th>\n",
        "      <th rowspan=\"10\" valign=\"top\">4053</th>\n",
        "      <th>0</th>\n",
        "      <th>0</th>\n",
        "      <td> Single Artist</td>\n",
        "      <td> SOEWWMV12AB0181325</td>\n",
        "      <td> 954111660000</td>\n",
        "      <td>     Michael Stanley Band</td>\n",
        "      <td>           All I Ever Wanted</td>\n",
        "      <td> TRMGUGH128F92FD552</td>\n",
        "    </tr>\n",
        "    <tr>\n",
        "      <th rowspan=\"8\" valign=\"top\">1</th>\n",
        "      <th>0</th>\n",
        "      <td> Single Artist</td>\n",
        "      <td> SOZJWRY12A8C1450BE</td>\n",
        "      <td> 954111660000</td>\n",
        "      <td>     Michael Stanley Band</td>\n",
        "      <td>        Misery Loves Company</td>\n",
        "      <td> TRNUZUH128F92E82FA</td>\n",
        "    </tr>\n",
        "    <tr>\n",
        "      <th>1</th>\n",
        "      <td> Single Artist</td>\n",
        "      <td> SOJBYVA12AAF3B44CC</td>\n",
        "      <td> 954111660000</td>\n",
        "      <td>     Michael Stanley Band</td>\n",
        "      <td>                  Last Night</td>\n",
        "      <td> TRIIVVD128F92F9164</td>\n",
        "    </tr>\n",
        "    <tr>\n",
        "      <th>2</th>\n",
        "      <td> Single Artist</td>\n",
        "      <td> SOHXWLU12A8C136E4E</td>\n",
        "      <td> 954111660000</td>\n",
        "      <td>     Michael Stanley Band</td>\n",
        "      <td> Why should Love Be this Way</td>\n",
        "      <td> TRILEMT128F424CF6C</td>\n",
        "    </tr>\n",
        "    <tr>\n",
        "      <th>3</th>\n",
        "      <td> Single Artist</td>\n",
        "      <td> SOTLSUQ12AB0181334</td>\n",
        "      <td> 954111660000</td>\n",
        "      <td>     Michael Stanley Band</td>\n",
        "      <td>                 Say Goodbye</td>\n",
        "      <td> TRLPMSX128F92FD556</td>\n",
        "    </tr>\n",
        "    <tr>\n",
        "      <th>4</th>\n",
        "      <td> Single Artist</td>\n",
        "      <td> SOEDZQW12AB01813F9</td>\n",
        "      <td> 954111660000</td>\n",
        "      <td>     Michael Stanley Band</td>\n",
        "      <td>      Somewhere In The Night</td>\n",
        "      <td> TRJPDOV128F930BCCF</td>\n",
        "    </tr>\n",
        "    <tr>\n",
        "      <th>5</th>\n",
        "      <td> Single Artist</td>\n",
        "      <td> SOMISQH12A8C136E6A</td>\n",
        "      <td> 954111660000</td>\n",
        "      <td>     Michael Stanley Band</td>\n",
        "      <td>            In the Heartland</td>\n",
        "      <td> TRRZYGP128F424CF75</td>\n",
        "    </tr>\n",
        "    <tr>\n",
        "      <th>6</th>\n",
        "      <td> Single Artist</td>\n",
        "      <td> SOEMVND12AAF3B2F11</td>\n",
        "      <td> 954111660000</td>\n",
        "      <td>     Michael Stanley Band</td>\n",
        "      <td>              Hold Your Fire</td>\n",
        "      <td> TRRJDCJ128F92F9179</td>\n",
        "    </tr>\n",
        "    <tr>\n",
        "      <th>7</th>\n",
        "      <td> Single Artist</td>\n",
        "      <td> SOZCFUU12A8C135244</td>\n",
        "      <td> 954111660000</td>\n",
        "      <td> The Michael Stanley Band</td>\n",
        "      <td>             One Good Reason</td>\n",
        "      <td> TRHHWXD128F4267BBA</td>\n",
        "    </tr>\n",
        "    <tr>\n",
        "      <th>2</th>\n",
        "      <th>0</th>\n",
        "      <td> Single Artist</td>\n",
        "      <td> SOUJOWV12A8C145048</td>\n",
        "      <td> 954111660000</td>\n",
        "      <td>     Michael Stanley Band</td>\n",
        "      <td>                       Lover</td>\n",
        "      <td> TRBDSSS128F92E82DC</td>\n",
        "    </tr>\n",
        "  </tbody>\n",
        "</table>\n",
        "</div>"
       ],
       "metadata": {},
       "output_type": "pyout",
       "prompt_number": 82,
       "text": [
        "                                                       category  \\\n",
        "user          mix_id segment_id segment_position                  \n",
        "33andathird12 4053   0          0                 Single Artist   \n",
        "                     1          0                 Single Artist   \n",
        "                                1                 Single Artist   \n",
        "                                2                 Single Artist   \n",
        "                                3                 Single Artist   \n",
        "                                4                 Single Artist   \n",
        "                                5                 Single Artist   \n",
        "                                6                 Single Artist   \n",
        "                                7                 Single Artist   \n",
        "                     2          0                 Single Artist   \n",
        "\n",
        "                                                             song_id  \\\n",
        "user          mix_id segment_id segment_position                       \n",
        "33andathird12 4053   0          0                 SOEWWMV12AB0181325   \n",
        "                     1          0                 SOZJWRY12A8C1450BE   \n",
        "                                1                 SOJBYVA12AAF3B44CC   \n",
        "                                2                 SOHXWLU12A8C136E4E   \n",
        "                                3                 SOTLSUQ12AB0181334   \n",
        "                                4                 SOEDZQW12AB01813F9   \n",
        "                                5                 SOMISQH12A8C136E6A   \n",
        "                                6                 SOEMVND12AAF3B2F11   \n",
        "                                7                 SOZCFUU12A8C135244   \n",
        "                     2          0                 SOUJOWV12A8C145048   \n",
        "\n",
        "                                                     timestamp  \\\n",
        "user          mix_id segment_id segment_position                 \n",
        "33andathird12 4053   0          0                 954111660000   \n",
        "                     1          0                 954111660000   \n",
        "                                1                 954111660000   \n",
        "                                2                 954111660000   \n",
        "                                3                 954111660000   \n",
        "                                4                 954111660000   \n",
        "                                5                 954111660000   \n",
        "                                6                 954111660000   \n",
        "                                7                 954111660000   \n",
        "                     2          0                 954111660000   \n",
        "\n",
        "                                                                    artist  \\\n",
        "user          mix_id segment_id segment_position                             \n",
        "33andathird12 4053   0          0                     Michael Stanley Band   \n",
        "                     1          0                     Michael Stanley Band   \n",
        "                                1                     Michael Stanley Band   \n",
        "                                2                     Michael Stanley Band   \n",
        "                                3                     Michael Stanley Band   \n",
        "                                4                     Michael Stanley Band   \n",
        "                                5                     Michael Stanley Band   \n",
        "                                6                     Michael Stanley Band   \n",
        "                                7                 The Michael Stanley Band   \n",
        "                     2          0                     Michael Stanley Band   \n",
        "\n",
        "                                                                        title  \\\n",
        "user          mix_id segment_id segment_position                                \n",
        "33andathird12 4053   0          0                           All I Ever Wanted   \n",
        "                     1          0                        Misery Loves Company   \n",
        "                                1                                  Last Night   \n",
        "                                2                 Why should Love Be this Way   \n",
        "                                3                                 Say Goodbye   \n",
        "                                4                      Somewhere In The Night   \n",
        "                                5                            In the Heartland   \n",
        "                                6                              Hold Your Fire   \n",
        "                                7                             One Good Reason   \n",
        "                     2          0                                       Lover   \n",
        "\n",
        "                                                            track_id  \n",
        "user          mix_id segment_id segment_position                      \n",
        "33andathird12 4053   0          0                 TRMGUGH128F92FD552  \n",
        "                     1          0                 TRNUZUH128F92E82FA  \n",
        "                                1                 TRIIVVD128F92F9164  \n",
        "                                2                 TRILEMT128F424CF6C  \n",
        "                                3                 TRLPMSX128F92FD556  \n",
        "                                4                 TRJPDOV128F930BCCF  \n",
        "                                5                 TRRZYGP128F424CF75  \n",
        "                                6                 TRRJDCJ128F92F9179  \n",
        "                                7                 TRHHWXD128F4267BBA  \n",
        "                     2          0                 TRBDSSS128F92E82DC  "
       ]
      }
     ],
     "prompt_number": 82
    },
    {
     "cell_type": "code",
     "collapsed": false,
     "input": [
      "print 'Shallowest user'\n",
      "playlists_test.loc[[P2.loc[p_egu.index]['log probability'].argmax()]].join(song_names, on='song_id')"
     ],
     "language": "python",
     "metadata": {},
     "outputs": [
      {
       "output_type": "stream",
       "stream": "stdout",
       "text": [
        "Shallowest user\n"
       ]
      },
      {
       "html": [
        "<div style=\"max-height:1000px;max-width:1500px;overflow:auto;\">\n",
        "<table border=\"1\" class=\"dataframe\">\n",
        "  <thead>\n",
        "    <tr style=\"text-align: right;\">\n",
        "      <th></th>\n",
        "      <th></th>\n",
        "      <th></th>\n",
        "      <th></th>\n",
        "      <th>category</th>\n",
        "      <th>song_id</th>\n",
        "      <th>timestamp</th>\n",
        "      <th>artist</th>\n",
        "      <th>title</th>\n",
        "      <th>track_id</th>\n",
        "    </tr>\n",
        "    <tr>\n",
        "      <th>user</th>\n",
        "      <th>mix_id</th>\n",
        "      <th>segment_id</th>\n",
        "      <th>segment_position</th>\n",
        "      <th></th>\n",
        "      <th></th>\n",
        "      <th></th>\n",
        "      <th></th>\n",
        "      <th></th>\n",
        "      <th></th>\n",
        "    </tr>\n",
        "  </thead>\n",
        "  <tbody>\n",
        "    <tr>\n",
        "      <th rowspan=\"11\" valign=\"top\">Solid</th>\n",
        "      <th rowspan=\"11\" valign=\"top\">15785</th>\n",
        "      <th rowspan=\"2\" valign=\"top\">0</th>\n",
        "      <th>0</th>\n",
        "      <td> Single Artist</td>\n",
        "      <td> SOQDMXT12A6D4F8255</td>\n",
        "      <td> 1001100360000</td>\n",
        "      <td> Metallica</td>\n",
        "      <td>             Fade To Black</td>\n",
        "      <td> TRAFMVN128F147CBCE</td>\n",
        "    </tr>\n",
        "    <tr>\n",
        "      <th>1</th>\n",
        "      <td> Single Artist</td>\n",
        "      <td> SOGHOFP12A8C142D78</td>\n",
        "      <td> 1001100360000</td>\n",
        "      <td> Metallica</td>\n",
        "      <td>            No Leaf Clover</td>\n",
        "      <td> TRPWCBK128F42BA1B1</td>\n",
        "    </tr>\n",
        "    <tr>\n",
        "      <th rowspan=\"2\" valign=\"top\">1</th>\n",
        "      <th>0</th>\n",
        "      <td> Single Artist</td>\n",
        "      <td> SOSCCAK12AB017BBA6</td>\n",
        "      <td> 1001100360000</td>\n",
        "      <td> Metallica</td>\n",
        "      <td>         Master Of Puppets</td>\n",
        "      <td> TRTMDLJ128F93095D0</td>\n",
        "    </tr>\n",
        "    <tr>\n",
        "      <th>1</th>\n",
        "      <td> Single Artist</td>\n",
        "      <td> SOQNVTB12AB01869AB</td>\n",
        "      <td> 1001100360000</td>\n",
        "      <td> Metallica</td>\n",
        "      <td> Welcome Home (Sanitarium)</td>\n",
        "      <td> TRQNNIP128F933122C</td>\n",
        "    </tr>\n",
        "    <tr>\n",
        "      <th rowspan=\"6\" valign=\"top\">2</th>\n",
        "      <th>0</th>\n",
        "      <td> Single Artist</td>\n",
        "      <td> SOBCXJF12A8C13E731</td>\n",
        "      <td> 1001100360000</td>\n",
        "      <td> Metallica</td>\n",
        "      <td>                 Blackened</td>\n",
        "      <td> TRBXRFN128F42BA11D</td>\n",
        "    </tr>\n",
        "    <tr>\n",
        "      <th>1</th>\n",
        "      <td> Single Artist</td>\n",
        "      <td> SOJUCBN12AB018825E</td>\n",
        "      <td> 1001100360000</td>\n",
        "      <td> Metallica</td>\n",
        "      <td>       Harvester Of Sorrow</td>\n",
        "      <td> TREAQTH128F93311FC</td>\n",
        "    </tr>\n",
        "    <tr>\n",
        "      <th>2</th>\n",
        "      <td> Single Artist</td>\n",
        "      <td> SOZDGEW12A8C13E748</td>\n",
        "      <td> 1001100360000</td>\n",
        "      <td> Metallica</td>\n",
        "      <td>                       One</td>\n",
        "      <td> TRMLBEG128F42BA124</td>\n",
        "    </tr>\n",
        "    <tr>\n",
        "      <th>3</th>\n",
        "      <td> Single Artist</td>\n",
        "      <td> SOBRWBK12A8C13E784</td>\n",
        "      <td> 1001100360000</td>\n",
        "      <td> Metallica</td>\n",
        "      <td>    ...And Justice For All</td>\n",
        "      <td> TRODDCD128F42BA134</td>\n",
        "    </tr>\n",
        "    <tr>\n",
        "      <th>4</th>\n",
        "      <td> Single Artist</td>\n",
        "      <td> SOWJMGE12A6D4F58B7</td>\n",
        "      <td> 1001100360000</td>\n",
        "      <td> Metallica</td>\n",
        "      <td>                   Battery</td>\n",
        "      <td> TRGFNLX128F147CBEF</td>\n",
        "    </tr>\n",
        "    <tr>\n",
        "      <th>5</th>\n",
        "      <td> Single Artist</td>\n",
        "      <td> SORAPQI12A8C142D7C</td>\n",
        "      <td> 1001100360000</td>\n",
        "      <td> Metallica</td>\n",
        "      <td>           Hero Of The Day</td>\n",
        "      <td> TRWVAPE128F42BA1B3</td>\n",
        "    </tr>\n",
        "    <tr>\n",
        "      <th>3</th>\n",
        "      <th>0</th>\n",
        "      <td> Single Artist</td>\n",
        "      <td> SOYOGAQ12A6D4F8252</td>\n",
        "      <td> 1001100360000</td>\n",
        "      <td> Metallica</td>\n",
        "      <td>      Fight Fire With Fire</td>\n",
        "      <td> TRWDWNS128F147CBCB</td>\n",
        "    </tr>\n",
        "  </tbody>\n",
        "</table>\n",
        "</div>"
       ],
       "metadata": {},
       "output_type": "pyout",
       "prompt_number": 83,
       "text": [
        "                                               category             song_id  \\\n",
        "user  mix_id segment_id segment_position                                      \n",
        "Solid 15785  0          0                 Single Artist  SOQDMXT12A6D4F8255   \n",
        "                        1                 Single Artist  SOGHOFP12A8C142D78   \n",
        "             1          0                 Single Artist  SOSCCAK12AB017BBA6   \n",
        "                        1                 Single Artist  SOQNVTB12AB01869AB   \n",
        "             2          0                 Single Artist  SOBCXJF12A8C13E731   \n",
        "                        1                 Single Artist  SOJUCBN12AB018825E   \n",
        "                        2                 Single Artist  SOZDGEW12A8C13E748   \n",
        "                        3                 Single Artist  SOBRWBK12A8C13E784   \n",
        "                        4                 Single Artist  SOWJMGE12A6D4F58B7   \n",
        "                        5                 Single Artist  SORAPQI12A8C142D7C   \n",
        "             3          0                 Single Artist  SOYOGAQ12A6D4F8252   \n",
        "\n",
        "                                              timestamp     artist  \\\n",
        "user  mix_id segment_id segment_position                             \n",
        "Solid 15785  0          0                 1001100360000  Metallica   \n",
        "                        1                 1001100360000  Metallica   \n",
        "             1          0                 1001100360000  Metallica   \n",
        "                        1                 1001100360000  Metallica   \n",
        "             2          0                 1001100360000  Metallica   \n",
        "                        1                 1001100360000  Metallica   \n",
        "                        2                 1001100360000  Metallica   \n",
        "                        3                 1001100360000  Metallica   \n",
        "                        4                 1001100360000  Metallica   \n",
        "                        5                 1001100360000  Metallica   \n",
        "             3          0                 1001100360000  Metallica   \n",
        "\n",
        "                                                              title  \\\n",
        "user  mix_id segment_id segment_position                              \n",
        "Solid 15785  0          0                             Fade To Black   \n",
        "                        1                            No Leaf Clover   \n",
        "             1          0                         Master Of Puppets   \n",
        "                        1                 Welcome Home (Sanitarium)   \n",
        "             2          0                                 Blackened   \n",
        "                        1                       Harvester Of Sorrow   \n",
        "                        2                                       One   \n",
        "                        3                    ...And Justice For All   \n",
        "                        4                                   Battery   \n",
        "                        5                           Hero Of The Day   \n",
        "             3          0                      Fight Fire With Fire   \n",
        "\n",
        "                                                    track_id  \n",
        "user  mix_id segment_id segment_position                      \n",
        "Solid 15785  0          0                 TRAFMVN128F147CBCE  \n",
        "                        1                 TRPWCBK128F42BA1B1  \n",
        "             1          0                 TRTMDLJ128F93095D0  \n",
        "                        1                 TRQNNIP128F933122C  \n",
        "             2          0                 TRBXRFN128F42BA11D  \n",
        "                        1                 TREAQTH128F93311FC  \n",
        "                        2                 TRMLBEG128F42BA124  \n",
        "                        3                 TRODDCD128F42BA134  \n",
        "                        4                 TRGFNLX128F147CBEF  \n",
        "                        5                 TRWVAPE128F42BA1B3  \n",
        "             3          0                 TRWDWNS128F147CBCB  "
       ]
      }
     ],
     "prompt_number": 83
    },
    {
     "cell_type": "code",
     "collapsed": false,
     "input": [
      "print 'Using global song selection probability'\n",
      "seaborn.jointplot(edge_diversity['Entropy'],\n",
      "                  P.loc[p_egu.index]['log probability'],\n",
      "                  kind='hex')\n",
      "pass"
     ],
     "language": "python",
     "metadata": {},
     "outputs": [
      {
       "output_type": "stream",
       "stream": "stdout",
       "text": [
        "Using global song selection probability\n"
       ]
      },
      {
       "metadata": {},
       "output_type": "display_data",
       "png": "[encoded data removed]",
       "text": [
        "<matplotlib.figure.Figure at 0x7fdf11660c50>"
       ]
      }
     ],
     "prompt_number": 84
    },
    {
     "cell_type": "code",
     "collapsed": false,
     "input": [
      "print 'Using localized song selection probability'\n",
      "seaborn.jointplot(edge_diversity['Entropy'],\n",
      "                  P2.loc[p_egu.index]['log probability'],\n",
      "                  kind='hex')\n",
      "pass"
     ],
     "language": "python",
     "metadata": {},
     "outputs": [
      {
       "output_type": "stream",
       "stream": "stdout",
       "text": [
        "Using localized song selection probability\n"
       ]
      },
      {
       "metadata": {},
       "output_type": "display_data",
       "png": "[encoded data removed]",
       "text": [
        "<matplotlib.figure.Figure at 0x7fdf1138d490>"
       ]
      }
     ],
     "prompt_number": 89
    }
   ],
   "metadata": {}
  }
 ]
}